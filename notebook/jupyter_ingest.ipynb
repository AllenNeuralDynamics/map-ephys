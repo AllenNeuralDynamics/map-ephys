{
 "cells": [
  {
   "cell_type": "markdown",
   "metadata": {},
   "source": [
    "# Setup"
   ]
  },
  {
   "cell_type": "code",
   "execution_count": 1,
   "metadata": {},
   "outputs": [],
   "source": [
    "# silence numpy warnings\n",
    "import warnings\n",
    "warnings.simplefilter(action='ignore', category=RuntimeWarning)"
   ]
  },
  {
   "cell_type": "code",
   "execution_count": 2,
   "metadata": {},
   "outputs": [],
   "source": [
    "import datajoint as dj"
   ]
  },
  {
   "cell_type": "code",
   "execution_count": 3,
   "metadata": {},
   "outputs": [
    {
     "name": "stdout",
     "output_type": "stream",
     "text": [
      "database.host : mesoscale-activity.datajoint.io\n",
      "database.user : chris-vathes\n",
      "database.port : 3306\n",
      "database.reconnect : False\n",
      "ccf.database : chris-vathes_mape_ccf_newfix\n",
      "ephys.database : chris-vathes_mape_ephys_newfix\n",
      "psth.database : chris-vathes_mape_psth_newfix\n",
      "tracking.database : chris-vathes_mape_tracking_newfix\n",
      "experiment.database : chris-vathes_mape_experiment_newfix\n",
      "publication.database : chris-vathes_mape_pub_newfix\n",
      "prototype.database : chris-vathes_mape_prototype_newfix\n",
      "ingest.behavior.database : chris-vathes_mape_behavioringest_newfix\n",
      "ingest.ephys.database : chris-vathes_mape_ephysingest_newfix\n",
      "ingest.tracking.database : chris-vathes_mape_trackingingest_newfix\n",
      "ingest.histology.database : chris-vathes_mape_histologyingest_newfix\n"
     ]
    }
   ],
   "source": [
    "# review / verify database settings\n",
    "for k in (k for k in dj.config.keys() if 'pass' not in k and 'database' in k):\n",
    "    print(k, ':', dj.config[k])"
   ]
  },
  {
   "cell_type": "code",
   "execution_count": 4,
   "metadata": {},
   "outputs": [
    {
     "name": "stdout",
     "output_type": "stream",
     "text": [
      "Connecting chris-vathes@mesoscale-activity.datajoint.io:3306\n"
     ]
    },
    {
     "data": {
      "text/html": [
       "\n",
       "        \n",
       "        <style type=\"text/css\">\n",
       "            .Relation{\n",
       "                border-collapse:collapse;\n",
       "            }\n",
       "            .Relation th{\n",
       "                background: #A0A0A0; color: #ffffff; padding:4px; border:#f0e0e0 1px solid;\n",
       "                font-weight: normal; font-family: monospace; font-size: 100%;\n",
       "            }\n",
       "            .Relation td{\n",
       "                padding:4px; border:#f0e0e0 1px solid; font-size:100%;\n",
       "            }\n",
       "            .Relation tr:nth-child(odd){\n",
       "                background: #ffffff;\n",
       "            }\n",
       "            .Relation tr:nth-child(even){\n",
       "                background: #f3f1ff;\n",
       "            }\n",
       "            /* Tooltip container */\n",
       "            .djtooltip {\n",
       "            }\n",
       "            /* Tooltip text */\n",
       "            .djtooltip .djtooltiptext {\n",
       "                visibility: hidden;\n",
       "                width: 120px;\n",
       "                background-color: black;\n",
       "                color: #fff;\n",
       "                text-align: center;\n",
       "                padding: 5px 0;\n",
       "                border-radius: 6px;\n",
       "                /* Position the tooltip text - see examples below! */\n",
       "                position: absolute;\n",
       "                z-index: 1;\n",
       "            }\n",
       "            #primary {\n",
       "                font-weight: bold;\n",
       "                color: black;\n",
       "            }\n",
       "\n",
       "            #nonprimary {\n",
       "                font-weight: normal;\n",
       "                color: white;\n",
       "            }\n",
       "\n",
       "            /* Show the tooltip text when you mouse over the tooltip container */\n",
       "            .djtooltip:hover .djtooltiptext {\n",
       "                visibility: visible;\n",
       "            }\n",
       "        </style>\n",
       "        \n",
       "        <b></b>\n",
       "            <div style=\"max-height:1000px;max-width:1500px;overflow:auto;\">\n",
       "            <table border=\"1\" class=\"Relation\">\n",
       "                <thead> <tr style=\"text-align: right;\"> <th> <div class=\"djtooltip\">\n",
       "                                <p id=\"primary\">subject_id</p>\n",
       "                                <span class=\"djtooltiptext\">institution 6 digit animal ID</span>\n",
       "                            </div></th><th><div class=\"djtooltip\">\n",
       "                                <p id=\"nonprimary\">water_restriction_number</p>\n",
       "                                <span class=\"djtooltiptext\">WR number</span>\n",
       "                            </div></th><th><div class=\"djtooltip\">\n",
       "                                <p id=\"nonprimary\">cage_number</p>\n",
       "                                <span class=\"djtooltiptext\"></span>\n",
       "                            </div></th><th><div class=\"djtooltip\">\n",
       "                                <p id=\"nonprimary\">wr_start_date</p>\n",
       "                                <span class=\"djtooltiptext\"></span>\n",
       "                            </div></th><th><div class=\"djtooltip\">\n",
       "                                <p id=\"nonprimary\">wr_start_weight</p>\n",
       "                                <span class=\"djtooltiptext\"></span>\n",
       "                            </div> </th> </tr> </thead>\n",
       "                <tbody> <tr> <td>435884</td>\n",
       "<td>dl59</td>\n",
       "<td>154522</td>\n",
       "<td>2018-09-30</td>\n",
       "<td>21.000</td> </tr> </tbody>\n",
       "            </table>\n",
       "            \n",
       "            <p>Total: 1</p></div>\n",
       "            "
      ],
      "text/plain": [
       "*subject_id    water_restrict cage_number    wr_start_date  wr_start_weigh\n",
       "+------------+ +------------+ +------------+ +------------+ +------------+\n",
       "435884         dl59           154522         2018-09-30     21.000        \n",
       " (Total: 1)"
      ]
     },
     "execution_count": 4,
     "metadata": {},
     "output_type": "execute_result"
    }
   ],
   "source": [
    "from pipeline import lab\n",
    "lab.WaterRestriction() & {'water_restriction_number': 'dl59'}"
   ]
  },
  {
   "cell_type": "code",
   "execution_count": 5,
   "metadata": {},
   "outputs": [],
   "source": [
    "my_session = {'subject_id': 435884, 'session_date': '2018-12-07'}  # test data session which will be loaded"
   ]
  },
  {
   "cell_type": "code",
   "execution_count": 6,
   "metadata": {},
   "outputs": [],
   "source": [
    "from pipeline import shell\n",
    "shell.logsetup('INFO')  # for logging"
   ]
  },
  {
   "cell_type": "markdown",
   "metadata": {},
   "source": [
    "# Behavior Ingest"
   ]
  },
  {
   "cell_type": "code",
   "execution_count": 7,
   "metadata": {},
   "outputs": [
    {
     "name": "stdout",
     "output_type": "stream",
     "text": [
      "Schema `chris-vathes_mape_experiment_newfix`\n",
      " Schema `chris-vathes_mape_behavioringest_newfix`\n",
      "\n"
     ]
    }
   ],
   "source": [
    "from pipeline import experiment\n",
    "from pipeline.ingest import behavior as behavior_ingest\n",
    "print(experiment.schema, behavior_ingest.schema)\n",
    "\n",
    "def clean_old():\n",
    "    (experiment.Session & my_session).delete()"
   ]
  },
  {
   "cell_type": "code",
   "execution_count": 8,
   "metadata": {},
   "outputs": [],
   "source": [
    "# clean_old()"
   ]
  },
  {
   "cell_type": "code",
   "execution_count": 10,
   "metadata": {},
   "outputs": [
    {
     "name": "stderr",
     "output_type": "stream",
     "text": [
      "INFO:pipeline.ingest.behavior:RigDataFile.make(): traversing ../../fix-bug-2019-01-31\n",
      "INFO:pipeline.ingest.behavior:BehaviorIngest.make(): key: {'subject_id': 435884, 'session_date': datetime.date(2018, 12, 7), 'rig': 'RRig', 'rig_data_path': '../../fix-bug-2019-01-31', 'subpath': 'behavior/dl59_tw2_20181207_144203.mat'}\n",
      "INFO:pipeline.ingest.behavior:h2o: dl59, date: 20181207\n",
      "INFO:pipeline.ingest.behavior:rigpath ../../fix-bug-2019-01-31/behavior/dl59_*_20181207*.mat\n",
      "INFO:pipeline.ingest.behavior:found files: ['../../fix-bug-2019-01-31/behavior/dl59_tw2_20181207_133916.mat', '../../fix-bug-2019-01-31/behavior/dl59_tw2_20181207_144203.mat'], this is the rig\n",
      "WARNING:pipeline.ingest.behavior:split session case detected for dl59 on 2018-12-07\n",
      "INFO:pipeline.ingest.behavior:generated session id: 1\n",
      "INFO:pipeline.ingest.behavior:BehaviorIngest.make(): adding session record\n",
      "INFO:pipeline.ingest.behavior:BehaviorIngest.make(): trial parsing phase\n",
      "INFO:pipeline.ingest.behavior:BehaviorIngest.make(): bulk insert phase\n",
      "INFO:pipeline.ingest.behavior:BehaviorIngest.make(): saving ingest {'subject_id': 435884, 'session_date': datetime.date(2018, 12, 7), 'rig': 'RRig', 'rig_data_path': '../../fix-bug-2019-01-31', 'subpath': 'behavior/dl59_tw2_20181207_144203.mat', 'username': 'daveliu', 'session': 1}\n",
      "INFO:pipeline.ingest.behavior:BehaviorIngest.make(): ... experiment.Session.Trial\n",
      "INFO:pipeline.ingest.behavior:BehaviorIngest.make(): ... experiment.BehaviorTrial\n",
      "INFO:pipeline.ingest.behavior:BehaviorIngest.make(): ... experiment.TrialNote\n",
      "INFO:pipeline.ingest.behavior:BehaviorIngest.make(): ... experiment.TrialEvent\n",
      "INFO:pipeline.ingest.behavior:BehaviorIngest.make(): ... CorrectedTrialEvents\n",
      "INFO:pipeline.ingest.behavior:BehaviorIngest.make(): ... experiment.ActionEvent\n",
      "INFO:pipeline.ingest.behavior:BehaviorIngest.make(): ... experiment.PhotostimTrial\n",
      "INFO:pipeline.ingest.behavior:BehaviorIngest.make(): ... experiment.PhotostimTrialEvent\n",
      "INFO:pipeline.ingest.behavior:BehaviorIngest.make(): ... end session ingest.\n",
      "INFO:pipeline.ingest.behavior:BehaviorIngest.make(): key: {'subject_id': 435884, 'session_date': datetime.date(2018, 12, 7), 'rig': 'RRig', 'rig_data_path': '../../fix-bug-2019-01-31', 'subpath': 'behavior/dl59_tw2_20181207_133916.mat'}\n",
      "INFO:pipeline.ingest.behavior:h2o: dl59, date: 20181207\n",
      "INFO:pipeline.ingest.behavior:rigpath ../../fix-bug-2019-01-31/behavior/dl59_*_20181207*.mat\n",
      "INFO:pipeline.ingest.behavior:found files: ['../../fix-bug-2019-01-31/behavior/dl59_tw2_20181207_133916.mat', '../../fix-bug-2019-01-31/behavior/dl59_tw2_20181207_144203.mat'], this is the rig\n",
      "WARNING:pipeline.ingest.behavior:split session case detected for dl59 on 2018-12-07\n",
      "WARNING:pipeline.ingest.behavior:Warning! session exists for dl59 on 2018-12-07\n"
     ]
    }
   ],
   "source": [
    "shell.ingest_behavior()"
   ]
  },
  {
   "cell_type": "code",
   "execution_count": 11,
   "metadata": {},
   "outputs": [
    {
     "data": {
      "text/html": [
       "\n",
       "        \n",
       "        <style type=\"text/css\">\n",
       "            .Relation{\n",
       "                border-collapse:collapse;\n",
       "            }\n",
       "            .Relation th{\n",
       "                background: #A0A0A0; color: #ffffff; padding:4px; border:#f0e0e0 1px solid;\n",
       "                font-weight: normal; font-family: monospace; font-size: 100%;\n",
       "            }\n",
       "            .Relation td{\n",
       "                padding:4px; border:#f0e0e0 1px solid; font-size:100%;\n",
       "            }\n",
       "            .Relation tr:nth-child(odd){\n",
       "                background: #ffffff;\n",
       "            }\n",
       "            .Relation tr:nth-child(even){\n",
       "                background: #f3f1ff;\n",
       "            }\n",
       "            /* Tooltip container */\n",
       "            .djtooltip {\n",
       "            }\n",
       "            /* Tooltip text */\n",
       "            .djtooltip .djtooltiptext {\n",
       "                visibility: hidden;\n",
       "                width: 120px;\n",
       "                background-color: black;\n",
       "                color: #fff;\n",
       "                text-align: center;\n",
       "                padding: 5px 0;\n",
       "                border-radius: 6px;\n",
       "                /* Position the tooltip text - see examples below! */\n",
       "                position: absolute;\n",
       "                z-index: 1;\n",
       "            }\n",
       "            #primary {\n",
       "                font-weight: bold;\n",
       "                color: black;\n",
       "            }\n",
       "\n",
       "            #nonprimary {\n",
       "                font-weight: normal;\n",
       "                color: white;\n",
       "            }\n",
       "\n",
       "            /* Show the tooltip text when you mouse over the tooltip container */\n",
       "            .djtooltip:hover .djtooltiptext {\n",
       "                visibility: visible;\n",
       "            }\n",
       "        </style>\n",
       "        \n",
       "        <b></b>\n",
       "            <div style=\"max-height:1000px;max-width:1500px;overflow:auto;\">\n",
       "            <table border=\"1\" class=\"Relation\">\n",
       "                <thead> <tr style=\"text-align: right;\"> <th> <div class=\"djtooltip\">\n",
       "                                <p id=\"primary\">subject_id</p>\n",
       "                                <span class=\"djtooltiptext\">institution 6 digit animal ID</span>\n",
       "                            </div></th><th><div class=\"djtooltip\">\n",
       "                                <p id=\"primary\">session</p>\n",
       "                                <span class=\"djtooltiptext\">session number</span>\n",
       "                            </div></th><th><div class=\"djtooltip\">\n",
       "                                <p id=\"nonprimary\">session_date</p>\n",
       "                                <span class=\"djtooltiptext\"></span>\n",
       "                            </div></th><th><div class=\"djtooltip\">\n",
       "                                <p id=\"nonprimary\">username</p>\n",
       "                                <span class=\"djtooltiptext\"></span>\n",
       "                            </div></th><th><div class=\"djtooltip\">\n",
       "                                <p id=\"nonprimary\">rig</p>\n",
       "                                <span class=\"djtooltiptext\"></span>\n",
       "                            </div> </th> </tr> </thead>\n",
       "                <tbody> <tr> <td>435884</td>\n",
       "<td>1</td>\n",
       "<td>2018-12-07</td>\n",
       "<td>daveliu</td>\n",
       "<td>RRig</td> </tr> </tbody>\n",
       "            </table>\n",
       "            \n",
       "            <p>Total: 1</p></div>\n",
       "            "
      ],
      "text/plain": [
       "*subject_id    *session    session_date   username     rig     \n",
       "+------------+ +---------+ +------------+ +----------+ +------+\n",
       "435884         1           2018-12-07     daveliu      RRig    \n",
       " (Total: 1)"
      ]
     },
     "execution_count": 11,
     "metadata": {},
     "output_type": "execute_result"
    }
   ],
   "source": [
    "experiment.Session & my_session"
   ]
  },
  {
   "cell_type": "markdown",
   "metadata": {},
   "source": [
    "# Ephys Ingest"
   ]
  },
  {
   "cell_type": "code",
   "execution_count": 12,
   "metadata": {},
   "outputs": [
    {
     "name": "stdout",
     "output_type": "stream",
     "text": [
      "Schema `chris-vathes_mape_ephys_newfix`\n",
      " Schema `chris-vathes_mape_ephysingest_newfix`\n",
      "\n"
     ]
    }
   ],
   "source": [
    "from pipeline import ephys\n",
    "from pipeline.ingest import ephys as ephys_ingest\n",
    "print(ephys.schema, ephys_ingest.schema)"
   ]
  },
  {
   "cell_type": "code",
   "execution_count": 13,
   "metadata": {},
   "outputs": [
    {
     "name": "stderr",
     "output_type": "stream",
     "text": [
      "  0%|          | 0/1 [00:00<?, ?it/s]INFO:pipeline.ingest.ephys:EphysIngest().make(): key: {'subject_id': 435884, 'session': 1}\n",
      "INFO:pipeline.ingest.ephys:behavior for ephys: {'subject_id': 435884, 'session': 1}\n",
      "INFO:pipeline.ingest.ephys:EphysIngest().make(): found probe 1 ephys recording in ../../fix-bug-2019-01-31/ephys/dl59/2018-12-07/1/dl59_g0_t100.imec.ap_imec3_opt3_jrc.mat\n",
      "INFO:pipeline.ingest.ephys:inserting electrode group\n",
      "INFO:pipeline.ingest.ephys:extracting spike data\n",
      "INFO:pipeline.ingest.ephys:opening bitcode for session 1 probe 1 (../../fix-bug-2019-01-31/ephys/dl59/2018-12-07/1/dl59_bitcode.mat)\n",
      "INFO:pipeline.ingest.ephys:extracting spike information 1 probe 1 (../../fix-bug-2019-01-31/ephys/dl59/2018-12-07/1/dl59_bitcode.mat)\n",
      "INFO:pipeline.ingest.ephys:inserting units for session 1\n",
      "INFO:pipeline.ingest.ephys:extracting trial unit information 1 (../../fix-bug-2019-01-31/ephys/dl59/2018-12-07/1/dl59_g0_t100.imec.ap_imec3_opt3_jrc.mat)\n",
      "INFO:pipeline.ingest.ephys:inserting UnitTrial information\n",
      "INFO:pipeline.ingest.ephys:... UnitTrial last spike 81173\n",
      "INFO:pipeline.ingest.ephys:inserting TrialSpike information\n",
      "INFO:pipeline.ingest.ephys:... TrialSpike last spike 81173\n",
      "INFO:pipeline.ingest.ephys:inserting file load information\n",
      "INFO:pipeline.ingest.ephys:ephys ingest for {'subject_id': 435884, 'session': 1, 'session_date': datetime.date(2018, 12, 7), 'username': 'daveliu', 'rig': 'RRig'} complete\n",
      "INFO:pipeline.ingest.ephys:EphysIngest().make(): skipping probe 2 - incorrect files found: ../../fix-bug-2019-01-31/ephys/dl59/2018-12-07/2/dl59_g0_*.imec.ap_imec3_opt3_jrc.mat/[]\n",
      "100%|██████████| 1/1 [03:02<00:00, 182.23s/it]\n"
     ]
    }
   ],
   "source": [
    "shell.ingest_ephys()"
   ]
  },
  {
   "cell_type": "code",
   "execution_count": 14,
   "metadata": {},
   "outputs": [
    {
     "data": {
      "text/html": [
       "\n",
       "        \n",
       "        <style type=\"text/css\">\n",
       "            .Relation{\n",
       "                border-collapse:collapse;\n",
       "            }\n",
       "            .Relation th{\n",
       "                background: #A0A0A0; color: #ffffff; padding:4px; border:#f0e0e0 1px solid;\n",
       "                font-weight: normal; font-family: monospace; font-size: 100%;\n",
       "            }\n",
       "            .Relation td{\n",
       "                padding:4px; border:#f0e0e0 1px solid; font-size:100%;\n",
       "            }\n",
       "            .Relation tr:nth-child(odd){\n",
       "                background: #ffffff;\n",
       "            }\n",
       "            .Relation tr:nth-child(even){\n",
       "                background: #f3f1ff;\n",
       "            }\n",
       "            /* Tooltip container */\n",
       "            .djtooltip {\n",
       "            }\n",
       "            /* Tooltip text */\n",
       "            .djtooltip .djtooltiptext {\n",
       "                visibility: hidden;\n",
       "                width: 120px;\n",
       "                background-color: black;\n",
       "                color: #fff;\n",
       "                text-align: center;\n",
       "                padding: 5px 0;\n",
       "                border-radius: 6px;\n",
       "                /* Position the tooltip text - see examples below! */\n",
       "                position: absolute;\n",
       "                z-index: 1;\n",
       "            }\n",
       "            #primary {\n",
       "                font-weight: bold;\n",
       "                color: black;\n",
       "            }\n",
       "\n",
       "            #nonprimary {\n",
       "                font-weight: normal;\n",
       "                color: white;\n",
       "            }\n",
       "\n",
       "            /* Show the tooltip text when you mouse over the tooltip container */\n",
       "            .djtooltip:hover .djtooltiptext {\n",
       "                visibility: visible;\n",
       "            }\n",
       "        </style>\n",
       "        \n",
       "        <b>Sorted unit</b>\n",
       "            <div style=\"max-height:1000px;max-width:1500px;overflow:auto;\">\n",
       "            <table border=\"1\" class=\"Relation\">\n",
       "                <thead> <tr style=\"text-align: right;\"> <th> <div class=\"djtooltip\">\n",
       "                                <p id=\"primary\">subject_id</p>\n",
       "                                <span class=\"djtooltiptext\">institution 6 digit animal ID</span>\n",
       "                            </div></th><th><div class=\"djtooltip\">\n",
       "                                <p id=\"primary\">session</p>\n",
       "                                <span class=\"djtooltiptext\">session number</span>\n",
       "                            </div></th><th><div class=\"djtooltip\">\n",
       "                                <p id=\"primary\">electrode_group</p>\n",
       "                                <span class=\"djtooltiptext\">Electrode_group is like the probe</span>\n",
       "                            </div></th><th><div class=\"djtooltip\">\n",
       "                                <p id=\"primary\">unit</p>\n",
       "                                <span class=\"djtooltiptext\"></span>\n",
       "                            </div></th><th><div class=\"djtooltip\">\n",
       "                                <p id=\"nonprimary\">unit_uid</p>\n",
       "                                <span class=\"djtooltiptext\">unique across sessions/animals</span>\n",
       "                            </div></th><th><div class=\"djtooltip\">\n",
       "                                <p id=\"nonprimary\">unit_quality</p>\n",
       "                                <span class=\"djtooltiptext\"></span>\n",
       "                            </div></th><th><div class=\"djtooltip\">\n",
       "                                <p id=\"nonprimary\">unit_site</p>\n",
       "                                <span class=\"djtooltiptext\">site on the electrode for which the unit has the largest amplitude</span>\n",
       "                            </div></th><th><div class=\"djtooltip\">\n",
       "                                <p id=\"nonprimary\">unit_posx</p>\n",
       "                                <span class=\"djtooltiptext\">x position of the unit on the probe</span>\n",
       "                            </div></th><th><div class=\"djtooltip\">\n",
       "                                <p id=\"nonprimary\">unit_posy</p>\n",
       "                                <span class=\"djtooltiptext\">y position of the unit on the probe</span>\n",
       "                            </div></th><th><div class=\"djtooltip\">\n",
       "                                <p id=\"nonprimary\">spike_times</p>\n",
       "                                <span class=\"djtooltiptext\">(s)</span>\n",
       "                            </div></th><th><div class=\"djtooltip\">\n",
       "                                <p id=\"nonprimary\">waveform</p>\n",
       "                                <span class=\"djtooltiptext\">average spike waveform</span>\n",
       "                            </div> </th> </tr> </thead>\n",
       "                <tbody> <tr> <td>435884</td>\n",
       "<td>1</td>\n",
       "<td>1</td>\n",
       "<td>0</td>\n",
       "<td>0</td>\n",
       "<td>good</td>\n",
       "<td>6</td>\n",
       "<td>42.4544792175293</td>\n",
       "<td>33.699256896972656</td>\n",
       "<td>=BLOB=</td>\n",
       "<td>=BLOB=</td></tr><tr><td>435884</td>\n",
       "<td>1</td>\n",
       "<td>1</td>\n",
       "<td>1</td>\n",
       "<td>1</td>\n",
       "<td>all</td>\n",
       "<td>4</td>\n",
       "<td>29.585512161254883</td>\n",
       "<td>14.670790672302246</td>\n",
       "<td>=BLOB=</td>\n",
       "<td>=BLOB=</td></tr><tr><td>435884</td>\n",
       "<td>1</td>\n",
       "<td>1</td>\n",
       "<td>2</td>\n",
       "<td>2</td>\n",
       "<td>all</td>\n",
       "<td>5</td>\n",
       "<td>16.062057495117188</td>\n",
       "<td>38.767662048339844</td>\n",
       "<td>=BLOB=</td>\n",
       "<td>=BLOB=</td></tr><tr><td>435884</td>\n",
       "<td>1</td>\n",
       "<td>1</td>\n",
       "<td>3</td>\n",
       "<td>3</td>\n",
       "<td>all</td>\n",
       "<td>5</td>\n",
       "<td>15.020341873168945</td>\n",
       "<td>43.26382827758789</td>\n",
       "<td>=BLOB=</td>\n",
       "<td>=BLOB=</td></tr><tr><td>435884</td>\n",
       "<td>1</td>\n",
       "<td>1</td>\n",
       "<td>4</td>\n",
       "<td>4</td>\n",
       "<td>good</td>\n",
       "<td>5</td>\n",
       "<td>14.338550567626953</td>\n",
       "<td>38.978546142578125</td>\n",
       "<td>=BLOB=</td>\n",
       "<td>=BLOB=</td></tr><tr><td>435884</td>\n",
       "<td>1</td>\n",
       "<td>1</td>\n",
       "<td>5</td>\n",
       "<td>5</td>\n",
       "<td>all</td>\n",
       "<td>6</td>\n",
       "<td>40.072269439697266</td>\n",
       "<td>45.23943328857422</td>\n",
       "<td>=BLOB=</td>\n",
       "<td>=BLOB=</td></tr><tr><td>435884</td>\n",
       "<td>1</td>\n",
       "<td>1</td>\n",
       "<td>6</td>\n",
       "<td>6</td>\n",
       "<td>all</td>\n",
       "<td>7</td>\n",
       "<td>1.4678318500518799</td>\n",
       "<td>61.98297882080078</td>\n",
       "<td>=BLOB=</td>\n",
       "<td>=BLOB=</td> </tr> </tbody>\n",
       "            </table>\n",
       "            <p>...</p>\n",
       "            <p>Total: 214</p></div>\n",
       "            "
      ],
      "text/plain": [
       "*subject_id    *session    *electrode_gro *unit    unit_uid     unit_quality   unit_site     unit_posx      unit_posy      spike_time waveform  \n",
       "+------------+ +---------+ +------------+ +------+ +----------+ +------------+ +-----------+ +------------+ +------------+ +--------+ +--------+\n",
       "435884         1           1              0        0            good           6             42.45447921752 33.69925689697 =BLOB=     =BLOB=    \n",
       "435884         1           1              1        1            all            4             29.58551216125 14.67079067230 =BLOB=     =BLOB=    \n",
       "435884         1           1              2        2            all            5             16.06205749511 38.76766204833 =BLOB=     =BLOB=    \n",
       "435884         1           1              3        3            all            5             15.02034187316 43.26382827758 =BLOB=     =BLOB=    \n",
       "435884         1           1              4        4            good           5             14.33855056762 38.97854614257 =BLOB=     =BLOB=    \n",
       "435884         1           1              5        5            all            6             40.07226943969 45.23943328857 =BLOB=     =BLOB=    \n",
       "435884         1           1              6        6            all            7             1.467831850051 61.98297882080 =BLOB=     =BLOB=    \n",
       "   ...\n",
       " (Total: 214)"
      ]
     },
     "execution_count": 14,
     "metadata": {},
     "output_type": "execute_result"
    }
   ],
   "source": [
    "ephys.Unit & my_session"
   ]
  },
  {
   "cell_type": "markdown",
   "metadata": {},
   "source": [
    "## Tracking Ingest"
   ]
  },
  {
   "cell_type": "code",
   "execution_count": 15,
   "metadata": {},
   "outputs": [
    {
     "name": "stdout",
     "output_type": "stream",
     "text": [
      "Schema `chris-vathes_mape_tracking_newfix`\n",
      " Schema `chris-vathes_mape_trackingingest_newfix`\n",
      "\n"
     ]
    }
   ],
   "source": [
    "from pipeline import tracking\n",
    "from pipeline.ingest import tracking as tracking_ingest\n",
    "print(tracking.schema, tracking_ingest.schema)"
   ]
  },
  {
   "cell_type": "code",
   "execution_count": 17,
   "metadata": {},
   "outputs": [
    {
     "name": "stderr",
     "output_type": "stream",
     "text": [
      "  0%|          | 0/1 [00:00<?, ?it/s]INFO:pipeline.ingest.tracking:TrackingIngest().make(): key: {'subject_id': 435884, 'session': 1}\n",
      "INFO:pipeline.ingest.tracking:got session: {'subject_id': 435884, 'session': 1, 'session_date': datetime.date(2018, 12, 7), 'username': 'daveliu', 'rig': 'RRig'} (675 trials)\n",
      "INFO:pipeline.ingest.tracking:checking ../../fix-bug-2019-01-31/ephys for tracking data\n",
      "INFO:pipeline.ingest.tracking:trying camera position trial map: ../../fix-bug-2019-01-31/ephys/dl59/2018-12-07/tracking/dl59_20181207_side.txt\n",
      "INFO:pipeline.ingest.tracking:loading tracking data for 615 trials\n",
      "INFO:pipeline.ingest.tracking:item 50/615, trial #52 (8.13%)\n",
      "INFO:pipeline.ingest.tracking:item 100/615, trial #102 (16.26%)\n",
      "INFO:pipeline.ingest.tracking:item 150/615, trial #152 (24.39%)\n",
      "INFO:pipeline.ingest.tracking:item 200/615, trial #202 (32.52%)\n",
      "INFO:pipeline.ingest.tracking:item 250/615, trial #252 (40.65%)\n",
      "INFO:pipeline.ingest.tracking:item 300/615, trial #302 (48.78%)\n",
      "INFO:pipeline.ingest.tracking:item 350/615, trial #352 (56.91%)\n",
      "INFO:pipeline.ingest.tracking:item 400/615, trial #402 (65.04%)\n",
      "INFO:pipeline.ingest.tracking:item 450/615, trial #452 (73.17%)\n",
      "INFO:pipeline.ingest.tracking:item 500/615, trial #502 (81.30%)\n",
      "INFO:pipeline.ingest.tracking:item 550/615, trial #552 (89.43%)\n",
      "INFO:pipeline.ingest.tracking:item 600/615, trial #602 (97.56%)\n",
      "INFO:pipeline.ingest.tracking:... completed 615/615 items.\n",
      "INFO:pipeline.ingest.tracking:... saving load record\n",
      "INFO:pipeline.ingest.tracking:... done.\n",
      "INFO:pipeline.ingest.tracking:checking ../../fix-bug-2019-01-31/ephys for tracking data\n",
      "INFO:pipeline.ingest.tracking:trying camera position trial map: ../../fix-bug-2019-01-31/ephys/dl59/2018-12-07/tracking/dl59_20181207_bottom.txt\n",
      "INFO:pipeline.ingest.tracking:skipping ../../fix-bug-2019-01-31/ephys/dl59/2018-12-07/tracking/dl59_20181207_bottom.txt - does not exist\n",
      "100%|██████████| 1/1 [09:46<00:00, 586.64s/it]\n"
     ]
    }
   ],
   "source": [
    "shell.ingest_tracking()"
   ]
  },
  {
   "cell_type": "markdown",
   "metadata": {},
   "source": [
    "## Removing all (non-lab) schemas (ONLY FOR MAINTENANCE / TESTING)"
   ]
  },
  {
   "cell_type": "code",
   "execution_count": null,
   "metadata": {},
   "outputs": [],
   "source": [
    "clean_all_schemas=False\n",
    "if clean_all_schemas:\n",
    "    try:\n",
    "        dj.config['nuclear_option']=True\n",
    "        shell.nuke_all()\n",
    "    except Exception as e:\n",
    "        print(repr(e))\n",
    "    dj.config['nuclear_option']=False"
   ]
  }
 ],
 "metadata": {
  "kernelspec": {
   "display_name": "Python 3",
   "language": "python",
   "name": "python3"
  },
  "language_info": {
   "codemirror_mode": {
    "name": "ipython",
    "version": 3
   },
   "file_extension": ".py",
   "mimetype": "text/x-python",
   "name": "python",
   "nbconvert_exporter": "python",
   "pygments_lexer": "ipython3",
   "version": "3.7.3"
  }
 },
 "nbformat": 4,
 "nbformat_minor": 2
}
