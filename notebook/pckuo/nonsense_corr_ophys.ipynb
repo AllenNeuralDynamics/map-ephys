{
 "cells": [
  {
   "cell_type": "code",
   "execution_count": 6,
   "metadata": {},
   "outputs": [],
   "source": [
    "import numpy as np\n",
    "import pandas as pd\n",
    "import matplotlib.pyplot as plt\n",
    "%matplotlib inline\n",
    "plt.rcParams.update({'font.size': 12})\n",
    "\n",
    "from scipy import signal \n",
    "from scipy import stats\n",
    "import itertools\n",
    "import seaborn as sns\n",
    "import statsmodels.api as sm\n",
    "\n",
    "import os\n",
    "import random"
   ]
  },
  {
   "cell_type": "code",
   "execution_count": 7,
   "metadata": {},
   "outputs": [],
   "source": [
    "import pickle\n",
    "import json\n",
    "json_open = open('../../dj_local_conf.json', 'r') \n",
    "config = json.load(json_open)\n",
    "\n",
    "import datajoint as dj\n",
    "dj.config['database.host'] = config[\"database.host\"]\n",
    "dj.config['database.user'] = config [\"database.user\"]\n",
    "dj.config['database.password'] = config[\"database.password\"]\n",
    "dj.conn().connect()\n",
    "\n",
    "from pipeline import lab, get_schema_name, experiment, foraging_model, ephys, foraging_analysis, histology, ccf\n",
    "from pipeline.plot import unit_psth\n",
    "from pipeline.plot.foraging_model_plot import plot_session_model_comparison, plot_session_fitted_choice\n",
    "from pipeline import psth_foraging\n",
    "from pipeline import util\n",
    "from pipeline.model import bandit_model\n",
    "\n",
    "from UtilFunctions_KH import _get_independent_variableKH, align_phys_to_behav_trials"
   ]
  },
  {
   "cell_type": "code",
   "execution_count": 13,
   "metadata": {},
   "outputs": [],
   "source": [
    "DATA_ROOT_DIR = '../../data/nm_data'\n",
    "ANA_DIR = 'FB26_220715/'\n",
    "ana_dir_path = os.path.join(DATA_ROOT_DIR, ANA_DIR)\n",
    "\n",
    "with open(os.path.join(ana_dir_path, 'data_frame.pkl'), 'rb') as fh:\n",
    "    df = pickle.load(fh)\n",
    "\n",
    "sess_key = {'subject_id': 627713, 'session': 23}"
   ]
  },
  {
   "cell_type": "code",
   "execution_count": null,
   "metadata": {},
   "outputs": [],
   "source": []
  },
  {
   "cell_type": "code",
   "execution_count": null,
   "metadata": {},
   "outputs": [],
   "source": []
  },
  {
   "cell_type": "markdown",
   "metadata": {},
   "source": [
    "### Standard analysis"
   ]
  },
  {
   "cell_type": "markdown",
   "metadata": {},
   "source": []
  }
 ],
 "metadata": {
  "kernelspec": {
   "display_name": "Python 3.6.6 64-bit",
   "language": "python",
   "name": "python3"
  },
  "language_info": {
   "codemirror_mode": {
    "name": "ipython",
    "version": 3
   },
   "file_extension": ".py",
   "mimetype": "text/x-python",
   "name": "python",
   "nbconvert_exporter": "python",
   "pygments_lexer": "ipython3",
   "version": "3.6.6"
  },
  "orig_nbformat": 4,
  "vscode": {
   "interpreter": {
    "hash": "31f2aee4e71d21fbe5cf8b01ff0e069b9275f58929596ceb00d14d90e3e16cd6"
   }
  }
 },
 "nbformat": 4,
 "nbformat_minor": 2
}
