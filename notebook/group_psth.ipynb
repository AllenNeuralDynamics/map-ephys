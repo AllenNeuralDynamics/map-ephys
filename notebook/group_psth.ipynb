{
 "cells": [
  {
   "cell_type": "markdown",
   "metadata": {},
   "source": [
    "# Group Selectivity PSTH Quick Plot\n",
    "\n",
    "This notebook demonstrates the use of the `plot.group_psth` function to plot a group PSTH."
   ]
  },
  {
   "cell_type": "markdown",
   "metadata": {},
   "source": [
    "## Imports"
   ]
  },
  {
   "cell_type": "code",
   "execution_count": 14,
   "metadata": {},
   "outputs": [],
   "source": [
    "import warnings\n",
    "warnings.simplefilter(action='ignore', category=RuntimeWarning)"
   ]
  },
  {
   "cell_type": "code",
   "execution_count": 15,
   "metadata": {},
   "outputs": [
    {
     "name": "stdout",
     "output_type": "stream",
     "text": [
      "Using matplotlib backend: MacOSX\n",
      "Populating the interactive namespace from numpy and matplotlib\n"
     ]
    }
   ],
   "source": [
    "%pylab --no-import-all\n",
    "%matplotlib inline\n",
    "import datajoint as dj"
   ]
  },
  {
   "cell_type": "code",
   "execution_count": 16,
   "metadata": {},
   "outputs": [],
   "source": [
    "from pipeline import psth\n",
    "from pipeline import plot\n",
    "from pipeline import ephys"
   ]
  },
  {
   "cell_type": "code",
   "execution_count": 17,
   "metadata": {},
   "outputs": [],
   "source": [
    "plt.rcParams[\"figure.figsize\"] = (12, 9) # (w, h)"
   ]
  },
  {
   "cell_type": "code",
   "execution_count": 18,
   "metadata": {},
   "outputs": [],
   "source": [
    "Unit = ephys.Unit()\n",
    "UnitPsth = psth.UnitPsth()\n",
    "Selectivity = psth.Selectivity()\n",
    "TrialCondition = psth.TrialCondition()"
   ]
  },
  {
   "cell_type": "code",
   "execution_count": 19,
   "metadata": {},
   "outputs": [],
   "source": [
    "good_unit = Unit & {'unit_quality': 'good'}"
   ]
  },
  {
   "cell_type": "code",
   "execution_count": 20,
   "metadata": {},
   "outputs": [
    {
     "data": {
      "text/html": [
       "\n",
       "        \n",
       "        <style type=\"text/css\">\n",
       "            .Relation{\n",
       "                border-collapse:collapse;\n",
       "            }\n",
       "            .Relation th{\n",
       "                background: #A0A0A0; color: #ffffff; padding:4px; border:#f0e0e0 1px solid;\n",
       "                font-weight: normal; font-family: monospace; font-size: 100%;\n",
       "            }\n",
       "            .Relation td{\n",
       "                padding:4px; border:#f0e0e0 1px solid; font-size:100%;\n",
       "            }\n",
       "            .Relation tr:nth-child(odd){\n",
       "                background: #ffffff;\n",
       "            }\n",
       "            .Relation tr:nth-child(even){\n",
       "                background: #f3f1ff;\n",
       "            }\n",
       "            /* Tooltip container */\n",
       "            .djtooltip {\n",
       "            }\n",
       "            /* Tooltip text */\n",
       "            .djtooltip .djtooltiptext {\n",
       "                visibility: hidden;\n",
       "                width: 120px;\n",
       "                background-color: black;\n",
       "                color: #fff;\n",
       "                text-align: center;\n",
       "                padding: 5px 0;\n",
       "                border-radius: 6px;\n",
       "                /* Position the tooltip text - see examples below! */\n",
       "                position: absolute;\n",
       "                z-index: 1;\n",
       "            }\n",
       "            #primary {\n",
       "                font-weight: bold;\n",
       "                color: black;\n",
       "            }\n",
       "\n",
       "            #nonprimary {\n",
       "                font-weight: normal;\n",
       "                color: white;\n",
       "            }\n",
       "\n",
       "            /* Show the tooltip text when you mouse over the tooltip container */\n",
       "            .djtooltip:hover .djtooltiptext {\n",
       "                visibility: visible;\n",
       "            }\n",
       "        </style>\n",
       "        \n",
       "        <b>Sorted unit</b>\n",
       "            <div style=\"max-height:1000px;max-width:1500px;overflow:auto;\">\n",
       "            <table border=\"1\" class=\"Relation\">\n",
       "                <thead> <tr style=\"text-align: right;\"> <th> <div class=\"djtooltip\">\n",
       "                                <p id=\"primary\">subject_id</p>\n",
       "                                <span class=\"djtooltiptext\">institution 6 digit animal ID</span>\n",
       "                            </div></th><th><div class=\"djtooltip\">\n",
       "                                <p id=\"primary\">session</p>\n",
       "                                <span class=\"djtooltiptext\">session number</span>\n",
       "                            </div></th><th><div class=\"djtooltip\">\n",
       "                                <p id=\"primary\">insertion_number</p>\n",
       "                                <span class=\"djtooltiptext\"></span>\n",
       "                            </div></th><th><div class=\"djtooltip\">\n",
       "                                <p id=\"primary\">unit</p>\n",
       "                                <span class=\"djtooltiptext\"></span>\n",
       "                            </div></th><th><div class=\"djtooltip\">\n",
       "                                <p id=\"nonprimary\">unit_uid</p>\n",
       "                                <span class=\"djtooltiptext\">unique across sessions/animals</span>\n",
       "                            </div></th><th><div class=\"djtooltip\">\n",
       "                                <p id=\"nonprimary\">unit_quality</p>\n",
       "                                <span class=\"djtooltiptext\"></span>\n",
       "                            </div></th><th><div class=\"djtooltip\">\n",
       "                                <p id=\"nonprimary\">probe</p>\n",
       "                                <span class=\"djtooltiptext\">unique identifier for this model of probe (e.g. part number)</span>\n",
       "                            </div></th><th><div class=\"djtooltip\">\n",
       "                                <p id=\"nonprimary\">electrode_config_id</p>\n",
       "                                <span class=\"djtooltiptext\">hash of the group and group_member (ensure uniqueness)</span>\n",
       "                            </div></th><th><div class=\"djtooltip\">\n",
       "                                <p id=\"nonprimary\">electrode_group</p>\n",
       "                                <span class=\"djtooltiptext\">electrode group</span>\n",
       "                            </div></th><th><div class=\"djtooltip\">\n",
       "                                <p id=\"nonprimary\">electrode</p>\n",
       "                                <span class=\"djtooltiptext\">electrode</span>\n",
       "                            </div></th><th><div class=\"djtooltip\">\n",
       "                                <p id=\"nonprimary\">unit_posx</p>\n",
       "                                <span class=\"djtooltiptext\">(um) estimated x position of the unit relative to probe's (0,0)</span>\n",
       "                            </div></th><th><div class=\"djtooltip\">\n",
       "                                <p id=\"nonprimary\">unit_posy</p>\n",
       "                                <span class=\"djtooltiptext\">(um) estimated y position of the unit relative to probe's (0,0)</span>\n",
       "                            </div></th><th><div class=\"djtooltip\">\n",
       "                                <p id=\"nonprimary\">spike_times</p>\n",
       "                                <span class=\"djtooltiptext\">(s) from the start of the first data point used in clustering</span>\n",
       "                            </div></th><th><div class=\"djtooltip\">\n",
       "                                <p id=\"nonprimary\">unit_amp</p>\n",
       "                                <span class=\"djtooltiptext\"></span>\n",
       "                            </div></th><th><div class=\"djtooltip\">\n",
       "                                <p id=\"nonprimary\">unit_snr</p>\n",
       "                                <span class=\"djtooltiptext\"></span>\n",
       "                            </div></th><th><div class=\"djtooltip\">\n",
       "                                <p id=\"nonprimary\">waveform</p>\n",
       "                                <span class=\"djtooltiptext\">average spike waveform</span>\n",
       "                            </div> </th> </tr> </thead>\n",
       "                <tbody> <tr> <td>435884</td>\n",
       "<td>1</td>\n",
       "<td>1</td>\n",
       "<td>1</td>\n",
       "<td>1</td>\n",
       "<td>good</td>\n",
       "<td>15131808323</td>\n",
       "<td>18fd56922c9f76773ad5ad288619ab51</td>\n",
       "<td>0</td>\n",
       "<td>6</td>\n",
       "<td>42.4544792175293</td>\n",
       "<td>33.699256896972656</td>\n",
       "<td>=BLOB=</td>\n",
       "<td>294.20157</td>\n",
       "<td>13.780584</td>\n",
       "<td>=BLOB=</td></tr><tr><td>435884</td>\n",
       "<td>1</td>\n",
       "<td>1</td>\n",
       "<td>5</td>\n",
       "<td>5</td>\n",
       "<td>good</td>\n",
       "<td>15131808323</td>\n",
       "<td>18fd56922c9f76773ad5ad288619ab51</td>\n",
       "<td>0</td>\n",
       "<td>5</td>\n",
       "<td>14.338550567626953</td>\n",
       "<td>38.978546142578125</td>\n",
       "<td>=BLOB=</td>\n",
       "<td>157.83987</td>\n",
       "<td>7.869556</td>\n",
       "<td>=BLOB=</td></tr><tr><td>435884</td>\n",
       "<td>1</td>\n",
       "<td>1</td>\n",
       "<td>10</td>\n",
       "<td>10</td>\n",
       "<td>good</td>\n",
       "<td>15131808323</td>\n",
       "<td>18fd56922c9f76773ad5ad288619ab51</td>\n",
       "<td>0</td>\n",
       "<td>10</td>\n",
       "<td>44.27643966674805</td>\n",
       "<td>79.20182800292969</td>\n",
       "<td>=BLOB=</td>\n",
       "<td>275.46558</td>\n",
       "<td>13.48085</td>\n",
       "<td>=BLOB=</td></tr><tr><td>435884</td>\n",
       "<td>1</td>\n",
       "<td>1</td>\n",
       "<td>11</td>\n",
       "<td>11</td>\n",
       "<td>good</td>\n",
       "<td>15131808323</td>\n",
       "<td>18fd56922c9f76773ad5ad288619ab51</td>\n",
       "<td>0</td>\n",
       "<td>10</td>\n",
       "<td>45.542633056640625</td>\n",
       "<td>80.29844665527344</td>\n",
       "<td>=BLOB=</td>\n",
       "<td>117.8578</td>\n",
       "<td>6.137078</td>\n",
       "<td>=BLOB=</td></tr><tr><td>435884</td>\n",
       "<td>1</td>\n",
       "<td>1</td>\n",
       "<td>15</td>\n",
       "<td>15</td>\n",
       "<td>good</td>\n",
       "<td>15131808323</td>\n",
       "<td>18fd56922c9f76773ad5ad288619ab51</td>\n",
       "<td>0</td>\n",
       "<td>12</td>\n",
       "<td>31.08588409423828</td>\n",
       "<td>98.89152526855469</td>\n",
       "<td>=BLOB=</td>\n",
       "<td>242.60864</td>\n",
       "<td>14.416281</td>\n",
       "<td>=BLOB=</td></tr><tr><td>435884</td>\n",
       "<td>1</td>\n",
       "<td>1</td>\n",
       "<td>18</td>\n",
       "<td>18</td>\n",
       "<td>good</td>\n",
       "<td>15131808323</td>\n",
       "<td>18fd56922c9f76773ad5ad288619ab51</td>\n",
       "<td>0</td>\n",
       "<td>18</td>\n",
       "<td>45.05342483520508</td>\n",
       "<td>159.88873291015625</td>\n",
       "<td>=BLOB=</td>\n",
       "<td>142.01253</td>\n",
       "<td>8.705505</td>\n",
       "<td>=BLOB=</td></tr><tr><td>435884</td>\n",
       "<td>1</td>\n",
       "<td>1</td>\n",
       "<td>21</td>\n",
       "<td>21</td>\n",
       "<td>good</td>\n",
       "<td>15131808323</td>\n",
       "<td>18fd56922c9f76773ad5ad288619ab51</td>\n",
       "<td>0</td>\n",
       "<td>22</td>\n",
       "<td>46.288734436035156</td>\n",
       "<td>199.1356201171875</td>\n",
       "<td>=BLOB=</td>\n",
       "<td>411.5883</td>\n",
       "<td>19.068323</td>\n",
       "<td>=BLOB=</td> </tr> </tbody>\n",
       "            </table>\n",
       "            <p>...</p>\n",
       "            <p>Total: 59</p></div>\n",
       "            "
      ],
      "text/plain": [
       "*subject_id    *session    *insertion_num *unit    unit_uid     unit_quality   probe          electrode_conf electrode_grou electrode     unit_posx      unit_posy      spike_time unit_amp      unit_snr      waveform  \n",
       "+------------+ +---------+ +------------+ +------+ +----------+ +------------+ +------------+ +------------+ +------------+ +-----------+ +------------+ +------------+ +--------+ +-----------+ +-----------+ +--------+\n",
       "435884         1           1              1        1            good           15131808323    18fd56922c9f76 0              6             42.45447921752 33.69925689697 =BLOB=     294.20157     13.780584     =BLOB=    \n",
       "435884         1           1              5        5            good           15131808323    18fd56922c9f76 0              5             14.33855056762 38.97854614257 =BLOB=     157.83987     7.869556      =BLOB=    \n",
       "435884         1           1              10       10           good           15131808323    18fd56922c9f76 0              10            44.27643966674 79.20182800292 =BLOB=     275.46558     13.48085      =BLOB=    \n",
       "435884         1           1              11       11           good           15131808323    18fd56922c9f76 0              10            45.54263305664 80.29844665527 =BLOB=     117.8578      6.137078      =BLOB=    \n",
       "435884         1           1              15       15           good           15131808323    18fd56922c9f76 0              12            31.08588409423 98.89152526855 =BLOB=     242.60864     14.416281     =BLOB=    \n",
       "435884         1           1              18       18           good           15131808323    18fd56922c9f76 0              18            45.05342483520 159.8887329101 =BLOB=     142.01253     8.705505      =BLOB=    \n",
       "435884         1           1              21       21           good           15131808323    18fd56922c9f76 0              22            46.28873443603 199.1356201171 =BLOB=     411.5883      19.068323     =BLOB=    \n",
       "   ...\n",
       " (Total: 59)"
      ]
     },
     "execution_count": 20,
     "metadata": {},
     "output_type": "execute_result"
    }
   ],
   "source": [
    "good_unit"
   ]
  },
  {
   "cell_type": "code",
   "execution_count": 21,
   "metadata": {},
   "outputs": [],
   "source": [
    "conds_i = (TrialCondition\n",
    "           & {'trial_condition_desc': 'good_noearlylick_left_hit'}).fetch('KEY')\n",
    "\n",
    "conds_c = (TrialCondition\n",
    "           & {'trial_condition_desc': 'good_noearlylick_right_hit'}).fetch('KEY')"
   ]
  },
  {
   "cell_type": "code",
   "execution_count": 22,
   "metadata": {},
   "outputs": [],
   "source": [
    "sel_i = (ephys.Unit * psth.UnitSelectivity & 'unit_selectivity = \"ipsi-selective\"')\n",
    "                    \n",
    "sel_c = (ephys.Unit * psth.UnitSelectivity & 'unit_selectivity = \"contra-selective\"')"
   ]
  },
  {
   "cell_type": "code",
   "execution_count": 23,
   "metadata": {},
   "outputs": [],
   "source": [
    "psth_i_i = (((UnitPsth & conds_i) * Unit.proj('unit_posx', 'unit_posy'))\n",
    "            & good_unit.proj() & sel_i.proj()).fetch(order_by='unit_posy asc')\n",
    "\n",
    "psth_i_c = (((UnitPsth & conds_c) * Unit.proj('unit_posx', 'unit_posy'))\n",
    "            & good_unit.proj() & sel_i.proj()).fetch(order_by='unit_posy asc')\n",
    "\n",
    "psth_c_c = (((UnitPsth & conds_c) * Unit.proj('unit_posx', 'unit_posy'))\n",
    "            & good_unit.proj() & sel_c.proj()).fetch(order_by='unit_posy asc')\n",
    "\n",
    "psth_c_i = (((UnitPsth & conds_i) * Unit.proj('unit_posx', 'unit_posy'))\n",
    "            & good_unit.proj() & sel_c.proj()).fetch(order_by='unit_posy asc')"
   ]
  },
  {
   "cell_type": "code",
   "execution_count": 24,
   "metadata": {},
   "outputs": [],
   "source": [
    "def movmean(data, nsamp=5):\n",
    "    ret = np.cumsum(data, dtype=float)\n",
    "    ret[nsamp:] = ret[nsamp:] - ret[:-nsamp]\n",
    "    return ret[nsamp - 1:] / nsamp"
   ]
  },
  {
   "cell_type": "code",
   "execution_count": 25,
   "metadata": {},
   "outputs": [],
   "source": [
    "def group_psth_ll(psth_a, psth_b, invert=False):\n",
    "    plt_xmin, plt_xmax = -3, 3\n",
    "    \n",
    "    assert len(psth_a) == len(psth_b)\n",
    "    nunits = len(psth_a)\n",
    "    aspect = 2 / nunits\n",
    "    extent = [plt_xmin, plt_xmax, 0, nunits]\n",
    "\n",
    "    a_data = np.array([r[0] for r in psth_a['unit_psth']])\n",
    "    b_data = np.array([r[0] for r in psth_b['unit_psth']])\n",
    "    \n",
    "    # scale per-unit psth's - TODO: moving average scaling\n",
    "    a_data = np.array([movmean(i * (1 / np.max(i))) for i in a_data])\n",
    "    b_data = np.array([movmean(i * (1 / np.max(i))) for i in b_data])\n",
    "    \n",
    "    if invert:\n",
    "        result = (a_data - b_data) * -1\n",
    "    else:\n",
    "        result = a_data - b_data\n",
    "    \n",
    "    ax = plt.subplot(111)\n",
    "    \n",
    "    # ax.set_axis_off()\n",
    "    ax.set_xlim([plt_xmin, plt_xmax])\n",
    "    ax.axvline(0, 0, 1, ls='--', color='k')\n",
    "    ax.axvline(-1.2, 0, 1, ls='--', color='k')\n",
    "    ax.axvline(-2.4, 0, 1, ls='--', color='k')\n",
    "\n",
    "    plt.imshow(result, cmap=plt.cm.bwr, aspect=aspect, extent=extent)"
   ]
  },
  {
   "cell_type": "code",
   "execution_count": 26,
   "metadata": {},
   "outputs": [
    {
     "data": {
      "image/png": "[encoded data removed]",
      "text/plain": [
       "<Figure size 864x648 with 1 Axes>"
      ]
     },
     "metadata": {
      "needs_background": "light"
     },
     "output_type": "display_data"
    }
   ],
   "source": [
    "group_psth_ll(psth_i_i, psth_i_c)"
   ]
  },
  {
   "cell_type": "code",
   "execution_count": 27,
   "metadata": {},
   "outputs": [
    {
     "data": {
      "image/png": "[encoded data removed]",
      "text/plain": [
       "<Figure size 864x648 with 1 Axes>"
      ]
     },
     "metadata": {
      "needs_background": "light"
     },
     "output_type": "display_data"
    }
   ],
   "source": [
    "group_psth_ll(psth_c_i, psth_c_c, invert=True)"
   ]
  },
  {
   "cell_type": "code",
   "execution_count": null,
   "metadata": {},
   "outputs": [],
   "source": []
  }
 ],
 "metadata": {
  "kernelspec": {
   "display_name": "Python 3",
   "language": "python",
   "name": "python3"
  },
  "language_info": {
   "codemirror_mode": {
    "name": "ipython",
    "version": 3
   },
   "file_extension": ".py",
   "mimetype": "text/x-python",
   "name": "python",
   "nbconvert_exporter": "python",
   "pygments_lexer": "ipython3",
   "version": "3.7.3"
  }
 },
 "nbformat": 4,
 "nbformat_minor": 2
}
