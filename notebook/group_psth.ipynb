{
 "cells": [
  {
   "cell_type": "markdown",
   "metadata": {},
   "source": [
    "# Group Selectivity PSTH Quick Plot\n",
    "\n",
    "This notebook demonstrates the use of the `plot.group_psth` function to plot a group PSTH."
   ]
  },
  {
   "cell_type": "markdown",
   "metadata": {},
   "source": [
    "## Imports"
   ]
  },
  {
   "cell_type": "code",
   "execution_count": 1,
   "metadata": {},
   "outputs": [],
   "source": [
    "import warnings\n",
    "warnings.simplefilter(action='ignore', category=RuntimeWarning)"
   ]
  },
  {
   "cell_type": "code",
   "execution_count": 2,
   "metadata": {},
   "outputs": [
    {
     "name": "stdout",
     "output_type": "stream",
     "text": [
      "Using matplotlib backend: MacOSX\n",
      "Populating the interactive namespace from numpy and matplotlib\n"
     ]
    }
   ],
   "source": [
    "%pylab --no-import-all\n",
    "%matplotlib inline\n",
    "plt.rcParams[\"figure.figsize\"] = (12, 9) # (w, h)\n",
    "import datajoint as dj"
   ]
  },
  {
   "cell_type": "code",
   "execution_count": 3,
   "metadata": {},
   "outputs": [
    {
     "name": "stdout",
     "output_type": "stream",
     "text": [
      "Connecting chris@localhost:3306\n"
     ]
    }
   ],
   "source": [
    "from pipeline import psth\n",
    "from pipeline import plot\n",
    "from pipeline import ephys"
   ]
  },
  {
   "cell_type": "code",
   "execution_count": 5,
   "metadata": {},
   "outputs": [],
   "source": [
    "UnitPsth = psth.UnitPsth()\n",
    "Selectivity = psth.Selectivity()\n",
    "TrialCondition = psth.TrialCondition()"
   ]
  },
  {
   "cell_type": "code",
   "execution_count": 6,
   "metadata": {},
   "outputs": [],
   "source": [
    "conds_i = (TrialCondition\n",
    "           & {'condition_desc': 'audio delay ipsi hit'}).fetch('KEY')\n",
    "\n",
    "conds_c = (TrialCondition\n",
    "           & {'condition_desc': 'audio delay contra hit'}).fetch('KEY')"
   ]
  },
  {
   "cell_type": "code",
   "execution_count": 8,
   "metadata": {},
   "outputs": [],
   "source": [
    "sel_i = Selectivity & Selectivity.selective & Selectivity.ipsi_preferring  # Ipsi\n",
    "sel_c = Selectivity & Selectivity.selective & Selectivity.contra_preferring  # Contra"
   ]
  },
  {
   "cell_type": "code",
   "execution_count": 9,
   "metadata": {},
   "outputs": [],
   "source": [
    "psth_i_i = ((UnitPsth.Unit & conds_i) & sel_i.proj()).fetch()\n",
    "psth_i_c = ((UnitPsth.Unit & conds_c) & sel_i.proj()).fetch()\n",
    "\n",
    "psth_c_c = ((UnitPsth.Unit & conds_c) & sel_c.proj()).fetch()\n",
    "psth_c_i = ((UnitPsth.Unit & conds_i) & sel_c.proj()).fetch()"
   ]
  },
  {
   "cell_type": "code",
   "execution_count": 10,
   "metadata": {},
   "outputs": [],
   "source": [
    "def movmean(data, nsamp=5):\n",
    "    ret = np.cumsum(data, dtype=float)\n",
    "    ret[nsamp:] = ret[nsamp:] - ret[:-nsamp]\n",
    "    return ret[nsamp - 1:] / nsamp"
   ]
  },
  {
   "cell_type": "code",
   "execution_count": 11,
   "metadata": {},
   "outputs": [],
   "source": [
    "def group_psth_ll(psth_a, psth_b, invert=False):\n",
    "    plt_xmin, plt_xmax = -3, 3\n",
    "    \n",
    "    assert len(psth_a) == len(psth_b)\n",
    "    nunits = len(psth_a)\n",
    "    aspect = 2 / nunits\n",
    "    extent = [plt_xmin, plt_xmax, 0, nunits]\n",
    "\n",
    "    a_data = np.array([r[0] for r in psth_a['unit_psth']])\n",
    "    b_data = np.array([r[0] for r in psth_b['unit_psth']])\n",
    "    \n",
    "    # scale per-unit psth's - TODO: moving average scaling\n",
    "    a_data = np.array([movmean(i * (1 / np.max(i))) for i in a_data])\n",
    "    b_data = np.array([movmean(i * (1 / np.max(i))) for i in b_data])\n",
    "    \n",
    "    if invert:\n",
    "        result = (a_data - b_data) * -1\n",
    "    else:\n",
    "        result = a_data - b_data\n",
    "    \n",
    "    ax = plt.subplot(111)\n",
    "    \n",
    "    # ax.set_axis_off()\n",
    "    ax.set_xlim([plt_xmin, plt_xmax])\n",
    "    ax.axvline(0, 0, 1, ls='--', color='k')\n",
    "    ax.axvline(-1.2, 0, 1, ls='--', color='k')\n",
    "    ax.axvline(-2.4, 0, 1, ls='--', color='k')\n",
    "\n",
    "    plt.imshow(result, cmap=plt.cm.bwr, aspect=aspect, extent=extent)"
   ]
  },
  {
   "cell_type": "code",
   "execution_count": 12,
   "metadata": {},
   "outputs": [
    {
     "data": {
      "image/png": "[encoded data removed]",
      "text/plain": [
       "<Figure size 864x648 with 1 Axes>"
      ]
     },
     "metadata": {
      "needs_background": "light"
     },
     "output_type": "display_data"
    }
   ],
   "source": [
    "group_psth_ll(psth_i_i, psth_i_c)"
   ]
  },
  {
   "cell_type": "code",
   "execution_count": 13,
   "metadata": {},
   "outputs": [
    {
     "data": {
      "image/png": "[encoded data removed]",
      "text/plain": [
       "<Figure size 864x648 with 1 Axes>"
      ]
     },
     "metadata": {
      "needs_background": "light"
     },
     "output_type": "display_data"
    }
   ],
   "source": [
    "group_psth_ll(psth_c_i, psth_c_c, invert=True)"
   ]
  },
  {
   "cell_type": "code",
   "execution_count": null,
   "metadata": {},
   "outputs": [],
   "source": []
  }
 ],
 "metadata": {
  "kernelspec": {
   "display_name": "Python 3",
   "language": "python",
   "name": "python3"
  },
  "language_info": {
   "codemirror_mode": {
    "name": "ipython",
    "version": 3
   },
   "file_extension": ".py",
   "mimetype": "text/x-python",
   "name": "python",
   "nbconvert_exporter": "python",
   "pygments_lexer": "ipython3",
   "version": "3.7.3"
  }
 },
 "nbformat": 4,
 "nbformat_minor": 2
}
