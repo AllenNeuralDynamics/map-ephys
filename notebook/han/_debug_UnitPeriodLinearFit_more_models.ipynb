{
 "cells": [
  {
   "cell_type": "code",
   "execution_count": 1,
   "id": "3d3941d8-42a6-45b4-a946-6b9f9ae9cd7c",
   "metadata": {},
   "outputs": [
    {
     "name": "stdout",
     "output_type": "stream",
     "text": [
      "/root/capsule/code\n"
     ]
    }
   ],
   "source": [
    "%cd ../..\n",
    "%load_ext autoreload\n",
    "%autoreload 2"
   ]
  },
  {
   "cell_type": "code",
   "execution_count": 7,
   "id": "06308498-eab2-4231-af75-259b6ed10bd6",
   "metadata": {},
   "outputs": [],
   "source": [
    "import itertools\n",
    "import numpy as np\n",
    "import matplotlib.pyplot as plt\n",
    "import matplotlib as mpl\n",
    "import seaborn as sns\n",
    "import pandas as pd\n",
    "from pipeline import lab, experiment, ephys, psth_foraging, foraging_analysis\n",
    "\n",
    "foraging_sessions = (foraging_analysis.SessionTaskProtocol & 'session_task_protocol=100').proj()\n",
    "import datajoint as dj; dj.conn().connect()"
   ]
  },
  {
   "cell_type": "markdown",
   "metadata": {},
   "source": [
    "# Add choices and autoregression into linear regression"
   ]
  },
  {
   "cell_type": "code",
   "execution_count": 6,
   "metadata": {},
   "outputs": [
    {
     "name": "stdout",
     "output_type": "stream",
     "text": [
      "UnitPeriodLinearFit  Completed 714777 of 714777 (100.0%)   2023-03-29 19:08:31\n"
     ]
    },
    {
     "data": {
      "text/plain": [
       "(0, 714777)"
      ]
     },
     "execution_count": 6,
     "metadata": {},
     "output_type": "execute_result"
    }
   ],
   "source": [
    "psth_foraging.UnitPeriodLinearFit.progress()"
   ]
  },
  {
   "cell_type": "code",
   "execution_count": 15,
   "metadata": {},
   "outputs": [
    {
     "data": {
      "text/html": [
       "\n",
       "    \n",
       "    <style type=\"text/css\">\n",
       "        .Relation{\n",
       "            border-collapse:collapse;\n",
       "        }\n",
       "        .Relation th{\n",
       "            background: #A0A0A0; color: #ffffff; padding:4px; border:#f0e0e0 1px solid;\n",
       "            font-weight: normal; font-family: monospace; font-size: 100%;\n",
       "        }\n",
       "        .Relation td{\n",
       "            padding:4px; border:#f0e0e0 1px solid; font-size:100%;\n",
       "        }\n",
       "        .Relation tr:nth-child(odd){\n",
       "            background: #ffffff;\n",
       "        }\n",
       "        .Relation tr:nth-child(even){\n",
       "            background: #f3f1ff;\n",
       "        }\n",
       "        /* Tooltip container */\n",
       "        .djtooltip {\n",
       "        }\n",
       "        /* Tooltip text */\n",
       "        .djtooltip .djtooltiptext {\n",
       "            visibility: hidden;\n",
       "            width: 120px;\n",
       "            background-color: black;\n",
       "            color: #fff;\n",
       "            text-align: center;\n",
       "            padding: 5px 0;\n",
       "            border-radius: 6px;\n",
       "            /* Position the tooltip text - see examples below! */\n",
       "            position: absolute;\n",
       "            z-index: 1;\n",
       "        }\n",
       "        #primary {\n",
       "            font-weight: bold;\n",
       "            color: black;\n",
       "        }\n",
       "        #nonprimary {\n",
       "            font-weight: normal;\n",
       "            color: white;\n",
       "        }\n",
       "\n",
       "        /* Show the tooltip text when you mouse over the tooltip container */\n",
       "        .djtooltip:hover .djtooltiptext {\n",
       "            visibility: visible;\n",
       "        }\n",
       "    </style>\n",
       "    \n",
       "    <b></b>\n",
       "        <div style=\"max-height:1000px;max-width:1500px;overflow:auto;\">\n",
       "        <table border=\"1\" class=\"Relation\">\n",
       "            <thead> <tr style=\"text-align: right;\"> <th> <div class=\"djtooltip\">\n",
       "                            <p id=\"primary\">var_name</p>\n",
       "                            <span class=\"djtooltiptext\"></span>\n",
       "                        </div></th><th><div class=\"djtooltip\">\n",
       "                            <p id=\"nonprimary\">desc</p>\n",
       "                            <span class=\"djtooltiptext\"></span>\n",
       "                        </div> </th> </tr> </thead>\n",
       "            <tbody> <tr> <td>choice_ic</td>\n",
       "<td>ipsi (0) or contra (1)</td></tr><tr><td>choice_ic_next</td>\n",
       "<td>ipsi (0) or contra (1), next choice</td></tr><tr><td>choice_lr</td>\n",
       "<td>left (0) or right (1)</td></tr><tr><td>contra_action_value</td>\n",
       "<td>contra action_value</td></tr><tr><td>contra_choice_kernel</td>\n",
       "<td>contra choice_kernel</td></tr><tr><td>contra_choice_prob</td>\n",
       "<td>contra choice_prob</td></tr><tr><td>firing_1_back</td>\n",
       "<td>firing rate of 1 trials back</td></tr><tr><td>firing_2_back</td>\n",
       "<td>firing rate of 2 trials back</td></tr><tr><td>firing_3_back</td>\n",
       "<td>firing rate of 3 trials back</td></tr><tr><td>firing_4_back</td>\n",
       "<td>firing rate of 4 trials back</td></tr><tr><td>firing_5_back</td>\n",
       "<td>firing rate of 5 trials back</td></tr><tr><td>ipsi_action_value</td>\n",
       "<td>ipsi action_value</td></tr><tr><td>ipsi_choice_kernel</td>\n",
       "<td>ipsi choice_kernel</td></tr><tr><td>ipsi_choice_prob</td>\n",
       "<td>ipsi choice_prob</td></tr><tr><td>left_action_value</td>\n",
       "<td>left action_value</td></tr><tr><td>left_choice_kernel</td>\n",
       "<td>left choice_kernel</td></tr><tr><td>left_choice_prob</td>\n",
       "<td>left choice_prob</td></tr><tr><td>relative_action_value_ic</td>\n",
       "<td>relative action value (Q_contra - Q_ipsi)</td></tr><tr><td>relative_action_value_lr</td>\n",
       "<td>relative action value (Q_r - Q_l)</td></tr><tr><td>reward</td>\n",
       "<td>miss (0) or hit (1)</td></tr><tr><td>right_action_value</td>\n",
       "<td>right action_value</td></tr><tr><td>right_choice_kernel</td>\n",
       "<td>right choice_kernel</td></tr><tr><td>right_choice_prob</td>\n",
       "<td>right choice_prob</td></tr><tr><td>rpe</td>\n",
       "<td>outcome - Q_chosen</td></tr><tr><td>total_action_value</td>\n",
       "<td>total action value (Q_r + Q_l)</td></tr><tr><td>trial_normalized</td>\n",
       "<td>trial number normalized to [0, 1]</td> </tr> </tbody>\n",
       "        </table>\n",
       "        \n",
       "        <p>Total: 26</p></div>\n",
       "        "
      ],
      "text/plain": [
       "*var_name                    desc                          \n",
       "+--------------------------+ +----------------------------+\n",
       "choice_ic                    ipsi (0) or contra (1)        \n",
       "choice_ic_next               ipsi (0) or contra (1), next c\n",
       "choice_lr                    left (0) or right (1)         \n",
       "contra_action_value          contra action_value           \n",
       "contra_choice_kernel         contra choice_kernel          \n",
       "contra_choice_prob           contra choice_prob            \n",
       "firing_1_back                firing rate of 1 trials back  \n",
       "firing_2_back                firing rate of 2 trials back  \n",
       "firing_3_back                firing rate of 3 trials back  \n",
       "firing_4_back                firing rate of 4 trials back  \n",
       "firing_5_back                firing rate of 5 trials back  \n",
       "ipsi_action_value            ipsi action_value             \n",
       "ipsi_choice_kernel           ipsi choice_kernel            \n",
       "ipsi_choice_prob             ipsi choice_prob              \n",
       "left_action_value            left action_value             \n",
       "left_choice_kernel           left choice_kernel            \n",
       "left_choice_prob             left choice_prob              \n",
       "relative_action_value_ic     relative action value (Q_contr\n",
       "relative_action_value_lr     relative action value (Q_r - Q\n",
       "reward                       miss (0) or hit (1)           \n",
       "right_action_value           right action_value            \n",
       "right_choice_kernel          right choice_kernel           \n",
       "right_choice_prob            right choice_prob             \n",
       "rpe                          outcome - Q_chosen            \n",
       "total_action_value           total action value (Q_r + Q_l)\n",
       "trial_normalized             trial number normalized to [0,\n",
       " (Total: 26)"
      ]
     },
     "execution_count": 15,
     "metadata": {},
     "output_type": "execute_result"
    }
   ],
   "source": [
    "psth_foraging.IndependentVariable()"
   ]
  },
  {
   "cell_type": "code",
   "execution_count": 26,
   "metadata": {},
   "outputs": [
    {
     "data": {
      "text/html": [
       "\n",
       "    \n",
       "    <style type=\"text/css\">\n",
       "        .Relation{\n",
       "            border-collapse:collapse;\n",
       "        }\n",
       "        .Relation th{\n",
       "            background: #A0A0A0; color: #ffffff; padding:4px; border:#f0e0e0 1px solid;\n",
       "            font-weight: normal; font-family: monospace; font-size: 100%;\n",
       "        }\n",
       "        .Relation td{\n",
       "            padding:4px; border:#f0e0e0 1px solid; font-size:100%;\n",
       "        }\n",
       "        .Relation tr:nth-child(odd){\n",
       "            background: #ffffff;\n",
       "        }\n",
       "        .Relation tr:nth-child(even){\n",
       "            background: #f3f1ff;\n",
       "        }\n",
       "        /* Tooltip container */\n",
       "        .djtooltip {\n",
       "        }\n",
       "        /* Tooltip text */\n",
       "        .djtooltip .djtooltiptext {\n",
       "            visibility: hidden;\n",
       "            width: 120px;\n",
       "            background-color: black;\n",
       "            color: #fff;\n",
       "            text-align: center;\n",
       "            padding: 5px 0;\n",
       "            border-radius: 6px;\n",
       "            /* Position the tooltip text - see examples below! */\n",
       "            position: absolute;\n",
       "            z-index: 1;\n",
       "        }\n",
       "        #primary {\n",
       "            font-weight: bold;\n",
       "            color: black;\n",
       "        }\n",
       "        #nonprimary {\n",
       "            font-weight: normal;\n",
       "            color: white;\n",
       "        }\n",
       "\n",
       "        /* Show the tooltip text when you mouse over the tooltip container */\n",
       "        .djtooltip:hover .djtooltiptext {\n",
       "            visibility: visible;\n",
       "        }\n",
       "    </style>\n",
       "    \n",
       "    <b></b>\n",
       "        <div style=\"max-height:1000px;max-width:1500px;overflow:auto;\">\n",
       "        <table border=\"1\" class=\"Relation\">\n",
       "            <thead> <tr style=\"text-align: right;\"> <th> <div class=\"djtooltip\">\n",
       "                            <p id=\"primary\">multi_linear_model</p>\n",
       "                            <span class=\"djtooltiptext\"></span>\n",
       "                        </div></th><th><div class=\"djtooltip\">\n",
       "                            <p id=\"nonprimary\">if_intercept</p>\n",
       "                            <span class=\"djtooltiptext\">Whether intercept is included</span>\n",
       "                        </div> </th> </tr> </thead>\n",
       "            <tbody> <tr> <td>dQ, sumQ, rpe, C*2</td>\n",
       "<td>1</td></tr><tr><td>dQ, sumQ, rpe, C*2, R*1</td>\n",
       "<td>1</td></tr><tr><td>dQ, sumQ, rpe, C*2, R*1, t</td>\n",
       "<td>1</td></tr><tr><td>dQ, sumQ, rpe, C*2, R*5, t</td>\n",
       "<td>1</td></tr><tr><td>dQ, sumQ, rpe, C*2, t</td>\n",
       "<td>1</td></tr><tr><td>Q_c + Q_i + rpe</td>\n",
       "<td>1</td></tr><tr><td>Q_l + Q_r + rpe</td>\n",
       "<td>1</td></tr><tr><td>Q_rel + Q_tot + rpe</td>\n",
       "<td>1</td> </tr> </tbody>\n",
       "        </table>\n",
       "        \n",
       "        <p>Total: 8</p></div>\n",
       "        "
      ],
      "text/plain": [
       "*multi_linear_model            if_intercept    \n",
       "+----------------------------+ +--------------+\n",
       "dQ, sumQ, rpe, C*2             1               \n",
       "dQ, sumQ, rpe, C*2, R*1        1               \n",
       "dQ, sumQ, rpe, C*2, R*1, t     1               \n",
       "dQ, sumQ, rpe, C*2, R*5, t     1               \n",
       "dQ, sumQ, rpe, C*2, t          1               \n",
       "Q_c + Q_i + rpe                1               \n",
       "Q_l + Q_r + rpe                1               \n",
       "Q_rel + Q_tot + rpe            1               \n",
       " (Total: 8)"
      ]
     },
     "execution_count": 26,
     "metadata": {},
     "output_type": "execute_result"
    }
   ],
   "source": [
    "psth_foraging.LinearModel.load()\n",
    "psth_foraging.LinearModel()"
   ]
  },
  {
   "cell_type": "markdown",
   "metadata": {},
   "source": [
    "## Debug fitting"
   ]
  },
  {
   "cell_type": "code",
   "execution_count": 27,
   "metadata": {},
   "outputs": [],
   "source": [
    "date, imec, unit = '2021-04-18', 0, 541\n",
    "unit_key = (ephys.Unit() & (experiment.Session & 'session_date = \"2021-04-18\"' & 'subject_id = 473361') & {'insertion_number': imec + 1, 'unit_uid': unit}).fetch1(\"KEY\")\n",
    "key = {**unit_key, 'period': \"iti_all\", 'multi_linear_model': \"dQ, sumQ, rpe, C*2\"}    "
   ]
  },
  {
   "cell_type": "code",
   "execution_count": 29,
   "metadata": {},
   "outputs": [
    {
     "name": "stderr",
     "output_type": "stream",
     "text": [
      "UnitPeriodLinearFit:  16%|█▌        | 9/56 [00:10<00:54,  1.15s/it]"
     ]
    }
   ],
   "source": [
    "psth_foraging.UnitPeriodLinearFit.populate(unit_key, display_progress=True)"
   ]
  },
  {
   "cell_type": "code",
   "execution_count": 3,
   "metadata": {},
   "outputs": [
    {
     "data": {
      "text/html": [
       "\n",
       "    \n",
       "    <style type=\"text/css\">\n",
       "        .Relation{\n",
       "            border-collapse:collapse;\n",
       "        }\n",
       "        .Relation th{\n",
       "            background: #A0A0A0; color: #ffffff; padding:4px; border:#f0e0e0 1px solid;\n",
       "            font-weight: normal; font-family: monospace; font-size: 100%;\n",
       "        }\n",
       "        .Relation td{\n",
       "            padding:4px; border:#f0e0e0 1px solid; font-size:100%;\n",
       "        }\n",
       "        .Relation tr:nth-child(odd){\n",
       "            background: #ffffff;\n",
       "        }\n",
       "        .Relation tr:nth-child(even){\n",
       "            background: #f3f1ff;\n",
       "        }\n",
       "        /* Tooltip container */\n",
       "        .djtooltip {\n",
       "        }\n",
       "        /* Tooltip text */\n",
       "        .djtooltip .djtooltiptext {\n",
       "            visibility: hidden;\n",
       "            width: 120px;\n",
       "            background-color: black;\n",
       "            color: #fff;\n",
       "            text-align: center;\n",
       "            padding: 5px 0;\n",
       "            border-radius: 6px;\n",
       "            /* Position the tooltip text - see examples below! */\n",
       "            position: absolute;\n",
       "            z-index: 1;\n",
       "        }\n",
       "        #primary {\n",
       "            font-weight: bold;\n",
       "            color: black;\n",
       "        }\n",
       "        #nonprimary {\n",
       "            font-weight: normal;\n",
       "            color: white;\n",
       "        }\n",
       "\n",
       "        /* Show the tooltip text when you mouse over the tooltip container */\n",
       "        .djtooltip:hover .djtooltiptext {\n",
       "            visibility: visible;\n",
       "        }\n",
       "    </style>\n",
       "    \n",
       "    <b></b>\n",
       "        <div style=\"max-height:1000px;max-width:1500px;overflow:auto;\">\n",
       "        <table border=\"1\" class=\"Relation\">\n",
       "            <thead> <tr style=\"text-align: right;\"> <th> <div class=\"djtooltip\">\n",
       "                            <p id=\"primary\">subject_id</p>\n",
       "                            <span class=\"djtooltiptext\">institution 6 digit animal ID</span>\n",
       "                        </div></th><th><div class=\"djtooltip\">\n",
       "                            <p id=\"primary\">session</p>\n",
       "                            <span class=\"djtooltiptext\">session number</span>\n",
       "                        </div></th><th><div class=\"djtooltip\">\n",
       "                            <p id=\"primary\">insertion_number</p>\n",
       "                            <span class=\"djtooltiptext\"></span>\n",
       "                        </div></th><th><div class=\"djtooltip\">\n",
       "                            <p id=\"primary\">clustering_method</p>\n",
       "                            <span class=\"djtooltiptext\"></span>\n",
       "                        </div></th><th><div class=\"djtooltip\">\n",
       "                            <p id=\"primary\">unit</p>\n",
       "                            <span class=\"djtooltiptext\"></span>\n",
       "                        </div></th><th><div class=\"djtooltip\">\n",
       "                            <p id=\"primary\">period</p>\n",
       "                            <span class=\"djtooltiptext\"></span>\n",
       "                        </div></th><th><div class=\"djtooltip\">\n",
       "                            <p id=\"primary\">behavior_model</p>\n",
       "                            <span class=\"djtooltiptext\">If 'best_aic' etc, the best behavioral model for each session; otherwise --> Model.model_id</span>\n",
       "                        </div></th><th><div class=\"djtooltip\">\n",
       "                            <p id=\"primary\">multi_linear_model</p>\n",
       "                            <span class=\"djtooltiptext\"></span>\n",
       "                        </div></th><th><div class=\"djtooltip\">\n",
       "                            <p id=\"nonprimary\">actual_behavior_model</p>\n",
       "                            <span class=\"djtooltiptext\"></span>\n",
       "                        </div></th><th><div class=\"djtooltip\">\n",
       "                            <p id=\"nonprimary\">model_r2</p>\n",
       "                            <span class=\"djtooltiptext\">r square</span>\n",
       "                        </div></th><th><div class=\"djtooltip\">\n",
       "                            <p id=\"nonprimary\">model_r2_adj</p>\n",
       "                            <span class=\"djtooltiptext\">r square adj.</span>\n",
       "                        </div></th><th><div class=\"djtooltip\">\n",
       "                            <p id=\"nonprimary\">model_p</p>\n",
       "                            <span class=\"djtooltiptext\"></span>\n",
       "                        </div></th><th><div class=\"djtooltip\">\n",
       "                            <p id=\"nonprimary\">model_bic</p>\n",
       "                            <span class=\"djtooltiptext\"></span>\n",
       "                        </div></th><th><div class=\"djtooltip\">\n",
       "                            <p id=\"nonprimary\">model_aic</p>\n",
       "                            <span class=\"djtooltiptext\"></span>\n",
       "                        </div> </th> </tr> </thead>\n",
       "            <tbody> <tr>  </tr> </tbody>\n",
       "        </table>\n",
       "        \n",
       "        <p>Total: 0</p></div>\n",
       "        "
      ],
      "text/plain": [
       "*subject_id    *session    *insertion_number    *clustering_method    *unit    *period    *behavior_model    *multi_linear_model    actual_behavior_model     model_r2     model_r2_adj     model_p     model_bic     model_aic    \n",
       "+------------+ +---------+ +------------------+ +-------------------+ +------+ +--------+ +----------------+ +--------------------+ +-----------------------+ +----------+ +--------------+ +---------+ +-----------+ +-----------+\n",
       "\n",
       " (Total: 0)"
      ]
     },
     "execution_count": 3,
     "metadata": {},
     "output_type": "execute_result"
    }
   ],
   "source": [
    "psth_foraging.UnitPeriodLinearFit()"
   ]
  }
 ],
 "metadata": {
  "kernelspec": {
   "display_name": "base",
   "language": "python",
   "name": "python3"
  },
  "language_info": {
   "codemirror_mode": {
    "name": "ipython",
    "version": 3
   },
   "file_extension": ".py",
   "mimetype": "text/x-python",
   "name": "python",
   "nbconvert_exporter": "python",
   "pygments_lexer": "ipython3",
   "version": "3.9.12"
  },
  "orig_nbformat": 4,
  "vscode": {
   "interpreter": {
    "hash": "d4d1e4263499bec80672ea0156c357c1ee493ec2b1c70f0acce89fc37c4a6abe"
   }
  }
 },
 "nbformat": 4,
 "nbformat_minor": 2
}
