{
 "cells": [
  {
   "cell_type": "code",
   "execution_count": 1,
   "metadata": {},
   "outputs": [
    {
     "name": "stdout",
     "output_type": "stream",
     "text": [
      "D:\\Han_Sync\\Svoboda\\Scripts\\map-ephys\n"
     ]
    },
    {
     "name": "stderr",
     "output_type": "stream",
     "text": [
      "[2023-04-25 15:31:39,130][INFO]: Connecting map-superuser@datajoint.mesoscale-activity-map.org:3306\n",
      "[2023-04-25 15:31:39,693][INFO]: Connected map-superuser@datajoint.mesoscale-activity-map.org:3306\n",
      "c:\\Users\\admin\\anaconda3\\envs\\pipeline\\lib\\site-packages\\statsmodels\\tsa\\base\\tsa_model.py:7: FutureWarning: pandas.Int64Index is deprecated and will be removed from pandas in a future version. Use pandas.Index with the appropriate dtype instead.\n",
      "  from pandas import (to_datetime, Int64Index, DatetimeIndex, Period,\n",
      "c:\\Users\\admin\\anaconda3\\envs\\pipeline\\lib\\site-packages\\statsmodels\\tsa\\base\\tsa_model.py:7: FutureWarning: pandas.Float64Index is deprecated and will be removed from pandas in a future version. Use pandas.Index with the appropriate dtype instead.\n",
      "  from pandas import (to_datetime, Int64Index, DatetimeIndex, Period,\n"
     ]
    }
   ],
   "source": [
    "%load_ext autoreload\n",
    "%autoreload 2\n",
    "%cd D:\\Han_Sync\\Svoboda\\Scripts\\map-ephys\n",
    "from pipeline.shell import ingest_foraging_behavior, logsetup, lab, experiment\n",
    "from pipeline import shell\n",
    "import datajoint as dj; dj.conn().connect()\n",
    "logsetup('INFO')"
   ]
  },
  {
   "cell_type": "code",
   "execution_count": 3,
   "metadata": {},
   "outputs": [
    {
     "name": "stdout",
     "output_type": "stream",
     "text": [
      "Adding experimenters...\n",
      "  14 experimenters already exist\n",
      "Adding rigs... \n",
      "  14 rigs already exist\n",
      "Adding subjects and water restrictions...\n",
      "  No metadata csv found for KH_FB50\n",
      "  140 subjects already exist\n"
     ]
    }
   ],
   "source": [
    "shell.load_meta_foraging()"
   ]
  },
  {
   "cell_type": "code",
   "execution_count": 9,
   "metadata": {},
   "outputs": [
    {
     "data": {
      "text/plain": [
       "array(['XY_22'], dtype=object)"
      ]
     },
     "execution_count": 9,
     "metadata": {},
     "output_type": "execute_result"
    }
   ],
   "source": [
    "(lab.WaterRestriction & 'water_restriction_number LIKE \"XY_22\"').fetch('water_restriction_number', order_by='water_restriction_number')"
   ]
  },
  {
   "cell_type": "code",
   "execution_count": 15,
   "metadata": {},
   "outputs": [
    {
     "data": {
      "text/html": [
       "\n",
       "    \n",
       "    <style type=\"text/css\">\n",
       "        .Relation{\n",
       "            border-collapse:collapse;\n",
       "        }\n",
       "        .Relation th{\n",
       "            background: #A0A0A0; color: #ffffff; padding:4px; border:#f0e0e0 1px solid;\n",
       "            font-weight: normal; font-family: monospace; font-size: 100%;\n",
       "        }\n",
       "        .Relation td{\n",
       "            padding:4px; border:#f0e0e0 1px solid; font-size:100%;\n",
       "        }\n",
       "        .Relation tr:nth-child(odd){\n",
       "            background: #ffffff;\n",
       "        }\n",
       "        .Relation tr:nth-child(even){\n",
       "            background: #f3f1ff;\n",
       "        }\n",
       "        /* Tooltip container */\n",
       "        .djtooltip {\n",
       "        }\n",
       "        /* Tooltip text */\n",
       "        .djtooltip .djtooltiptext {\n",
       "            visibility: hidden;\n",
       "            width: 120px;\n",
       "            background-color: black;\n",
       "            color: #fff;\n",
       "            text-align: center;\n",
       "            padding: 5px 0;\n",
       "            border-radius: 6px;\n",
       "            /* Position the tooltip text - see examples below! */\n",
       "            position: absolute;\n",
       "            z-index: 1;\n",
       "        }\n",
       "        #primary {\n",
       "            font-weight: bold;\n",
       "            color: black;\n",
       "        }\n",
       "        #nonprimary {\n",
       "            font-weight: normal;\n",
       "            color: white;\n",
       "        }\n",
       "\n",
       "        /* Show the tooltip text when you mouse over the tooltip container */\n",
       "        .djtooltip:hover .djtooltiptext {\n",
       "            visibility: visible;\n",
       "        }\n",
       "    </style>\n",
       "    \n",
       "    <b></b>\n",
       "        <div style=\"max-height:1000px;max-width:1500px;overflow:auto;\">\n",
       "        <table border=\"1\" class=\"Relation\">\n",
       "            <thead> <tr style=\"text-align: right;\"> <th> <div class=\"djtooltip\">\n",
       "                            <p id=\"primary\">subject_id</p>\n",
       "                            <span class=\"djtooltiptext\">institution 6 digit animal ID</span>\n",
       "                        </div></th><th><div class=\"djtooltip\">\n",
       "                            <p id=\"primary\">session</p>\n",
       "                            <span class=\"djtooltiptext\">session number</span>\n",
       "                        </div></th><th><div class=\"djtooltip\">\n",
       "                            <p id=\"nonprimary\">session_date</p>\n",
       "                            <span class=\"djtooltiptext\"></span>\n",
       "                        </div></th><th><div class=\"djtooltip\">\n",
       "                            <p id=\"nonprimary\">session_time</p>\n",
       "                            <span class=\"djtooltiptext\"></span>\n",
       "                        </div></th><th><div class=\"djtooltip\">\n",
       "                            <p id=\"nonprimary\">username</p>\n",
       "                            <span class=\"djtooltiptext\"></span>\n",
       "                        </div></th><th><div class=\"djtooltip\">\n",
       "                            <p id=\"nonprimary\">rig</p>\n",
       "                            <span class=\"djtooltiptext\"></span>\n",
       "                        </div> </th> </tr> </thead>\n",
       "            <tbody> <tr>  </tr> </tbody>\n",
       "        </table>\n",
       "        \n",
       "        <p>Total: 0</p></div>\n",
       "        "
      ],
      "text/plain": [
       "*subject_id    *session    session_date     session_time     username     rig    \n",
       "+------------+ +---------+ +--------------+ +--------------+ +----------+ +-----+\n",
       "\n",
       " (Total: 0)"
      ]
     },
     "execution_count": 15,
     "metadata": {},
     "output_type": "execute_result"
    }
   ],
   "source": [
    "(experiment.Session() & {'subject_id': 656491, 'session': 25})"
   ]
  },
  {
   "cell_type": "code",
   "execution_count": null,
   "metadata": {},
   "outputs": [
    {
     "name": "stderr",
     "output_type": "stream",
     "text": [
      "2023-04-25 15:22:16:INFO:behavior:populate:------ Loading pybpod project -------\n",
      "2023-04-25 15:24:02:INFO:behavior:populate:------------   Done! ----------------\n",
      "2023-04-25 15:24:05:INFO:behavior:make:----------------------\n",
      "BehaviorBpodIngest.make(): key: {'subject_id': 656491, 'session_date': datetime.date(2023, 3, 21), 'session_comment': 'great behavior', 'session_weight': 22.3, 'session_water_earned': 0.2, 'session_water_extra': 1.8, 'session_number_xls': 25}\n",
      "2023-04-25 15:24:05:INFO:behavior:make:h2o: XY_22, date: 20230321\n",
      "2023-04-25 15:24:05:INFO:behavior:make:Load session file(s) (1/1): F:\\Data_for_ingestion\\Foraging_behavior\\Behavior_rigs\\AIND-Tower-1\\Foraging\\experiments\\Foraging\\setups\\Tower-1\\sessions\\20230321-103051\\20230321-103051.csv\n",
      "2023-04-25 15:24:27:INFO:behavior:make:WARNING: ingested using session ID = 25, but synthesized session ID = 45!\n",
      "2023-04-25 15:25:54:INFO:behavior:make:BehaviorIngest.make(): adding session record\n",
      "2023-04-25 15:25:54:INFO:behavior:make:BehaviorIngest.make(): bulk insert phase\n",
      "2023-04-25 15:25:54:INFO:behavior:make:BehaviorIngest.make(): ... experiment.Session.Trial\n",
      "2023-04-25 15:25:55:INFO:behavior:make:BehaviorIngest.make(): ... experiment.BehaviorTrial\n",
      "2023-04-25 15:25:55:INFO:behavior:make:BehaviorIngest.make(): ... experiment.WaterPortChoice\n",
      "2023-04-25 15:25:56:INFO:behavior:make:BehaviorIngest.make(): ... experiment.TrialNote\n",
      "2023-04-25 15:25:56:INFO:behavior:make:BehaviorIngest.make(): ... experiment.TrialEvent\n",
      "2023-04-25 15:25:58:INFO:behavior:make:BehaviorIngest.make(): ... experiment.PhotostimForagingTrial\n",
      "2023-04-25 15:25:58:INFO:behavior:make:BehaviorIngest.make(): ... experiment.ActionEvent\n",
      "2023-04-25 15:25:59:INFO:behavior:make:BehaviorIngest.make(): ... experiment.SessionBlock\n",
      "2023-04-25 15:26:00:INFO:behavior:make:BehaviorIngest.make(): ... experiment.TrialAvailableReward\n",
      "2023-04-25 15:26:00:INFO:behavior:make:BehaviorIngest.make(): ... experiment.WaterValveSetting\n",
      "2023-04-25 15:26:01:INFO:behavior:make:BehaviorBpodIngest.make(): saving ingest {'subject_id': 656491, 'session_date': datetime.date(2023, 3, 21), 'session_comment': 'great behavior', 'session_weight': 22.3, 'session_water_earned': 0.2, 'session_water_extra': 1.8, 'session_number_xls': 25, 'session': 25, 'session_time': datetime.time(10, 30, 53, 23280), 'username': 'Jackie', 'rig': 'AIND-Tower-1'}\n",
      "2023-04-25 15:26:01:INFO:behavior:make:----------------------\n",
      "BehaviorBpodIngest.make(): key: {'subject_id': 656491, 'session_date': datetime.date(2023, 4, 10), 'session_comment': 'no LED yet today, did well in normal session. switched from T1 to T3', 'session_weight': 24.2, 'session_water_earned': 0.2, 'session_water_extra': 1.8, 'session_number_xls': 37}\n",
      "2023-04-25 15:26:01:INFO:behavior:make:h2o: XY_22, date: 20230410\n",
      "2023-04-25 15:26:01:INFO:behavior:make:Load session file(s) (1/1): F:\\Data_for_ingestion\\Foraging_behavior\\Behavior_rigs\\AIND-Tower-3\\Foraging\\experiments\\Foraging\\setups\\Tower-3\\sessions\\20230410-101938\\20230410-101938.csv\n",
      "2023-04-25 15:26:40:INFO:behavior:make:WARNING: ingested using session ID = 37, but synthesized session ID = 45!\n",
      "2023-04-25 15:28:03:INFO:behavior:make:BehaviorIngest.make(): adding session record\n",
      "2023-04-25 15:28:03:INFO:behavior:make:BehaviorIngest.make(): bulk insert phase\n",
      "2023-04-25 15:28:03:INFO:behavior:make:BehaviorIngest.make(): ... experiment.Session.Trial\n",
      "2023-04-25 15:28:03:INFO:behavior:make:BehaviorIngest.make(): ... experiment.BehaviorTrial\n",
      "2023-04-25 15:28:03:INFO:behavior:make:BehaviorIngest.make(): ... experiment.WaterPortChoice\n",
      "2023-04-25 15:28:04:INFO:behavior:make:BehaviorIngest.make(): ... experiment.TrialNote\n",
      "2023-04-25 15:28:04:INFO:behavior:make:BehaviorIngest.make(): ... experiment.TrialEvent\n",
      "2023-04-25 15:28:05:INFO:behavior:make:BehaviorIngest.make(): ... experiment.PhotostimForagingTrial\n",
      "2023-04-25 15:28:05:INFO:behavior:make:BehaviorIngest.make(): ... experiment.ActionEvent\n",
      "2023-04-25 15:28:05:INFO:behavior:make:BehaviorIngest.make(): ... experiment.SessionBlock\n",
      "2023-04-25 15:28:05:INFO:behavior:make:BehaviorIngest.make(): ... experiment.TrialAvailableReward\n",
      "2023-04-25 15:28:06:INFO:behavior:make:BehaviorIngest.make(): ... experiment.WaterValveSetting\n",
      "2023-04-25 15:28:06:INFO:behavior:make:BehaviorBpodIngest.make(): saving ingest {'subject_id': 656491, 'session_date': datetime.date(2023, 4, 10), 'session_comment': 'no LED yet today, did well in normal session. switched from T1 to T3', 'session_weight': 24.2, 'session_water_earned': 0.2, 'session_water_extra': 1.8, 'session_number_xls': 37, 'session': 37, 'session_time': datetime.time(10, 19, 39, 314513), 'username': 'Jackie', 'rig': 'AIND-Tower-3'}\n",
      "2023-04-25 15:28:06:INFO:behavior:make:----------------------\n",
      "BehaviorBpodIngest.make(): key: {'subject_id': 656491, 'session_date': datetime.date(2023, 4, 13), 'session_comment': 'LED opto! pybop crashed at 10:50', 'session_weight': 24.1, 'session_water_earned': 0.2, 'session_water_extra': 1.8, 'session_number_xls': 40}\n",
      "2023-04-25 15:28:06:INFO:behavior:make:h2o: XY_22, date: 20230413\n",
      "2023-04-25 15:28:06:INFO:behavior:make:Load session file(s) (1/1): F:\\Data_for_ingestion\\Foraging_behavior\\Behavior_rigs\\AIND-Tower-3\\Foraging\\experiments\\Foraging\\setups\\Tower-3\\sessions\\20230413-094650\\20230413-094650.csv\n",
      "2023-04-25 15:28:36:INFO:behavior:make:WARNING: ingested using session ID = 40, but synthesized session ID = 45!\n",
      "2023-04-25 15:28:36:INFO:behavior:make:Warning: , len(['WavePlayer1_2', 'WavePlayer1_6']) = 2 @ XY_22, session 40, trial 2. Fixed!\n",
      "2023-04-25 15:28:36:WARNING:behavior:make:laser side conflict:  from WavePlayer stamps = 0, from message = 2\n",
      "2023-04-25 15:31:23:WARNING:behavior:populate:session key {'subject_id': 656491, 'session_date': datetime.date(2023, 4, 13), 'session_comment': 'LED opto! pybop crashed at 10:50', 'session_weight': 24.1, 'session_water_earned': 0.2, 'session_water_extra': 1.8, 'session_number_xls': 40, 'session': 40} error: ValueError('Cannot mask with non-boolean array containing NA / NaN values')\n",
      "Traceback (most recent call last):\n",
      "  File \"D:\\Han_Sync\\Svoboda\\Scripts\\map-ephys\\pipeline\\ingest\\behavior.py\", line 483, in populate\n",
      "    self.make(k)\n",
      "  File \"D:\\Han_Sync\\Svoboda\\Scripts\\map-ephys\\pipeline\\ingest\\behavior.py\", line 984, in make\n",
      "    ramping_down_from_stdout = self._get_message(df_behavior_trial, 'laser ramping down')\n",
      "  File \"D:\\Han_Sync\\Svoboda\\Scripts\\map-ephys\\pipeline\\ingest\\behavior.py\", line 410, in _get_message\n",
      "    return df.loc[df.index[df['MSG'].str.contains(MSG)] + 1, 'MSG']\n",
      "  File \"c:\\Users\\admin\\anaconda3\\envs\\pipeline\\lib\\site-packages\\pandas\\core\\indexes\\range.py\", line 980, in __getitem__\n",
      "    return super().__getitem__(key)\n",
      "  File \"c:\\Users\\admin\\anaconda3\\envs\\pipeline\\lib\\site-packages\\pandas\\core\\indexes\\base.py\", line 5367, in __getitem__\n",
      "    if com.is_bool_indexer(key):\n",
      "  File \"c:\\Users\\admin\\anaconda3\\envs\\pipeline\\lib\\site-packages\\pandas\\core\\common.py\", line 135, in is_bool_indexer\n",
      "    raise ValueError(na_msg)\n",
      "ValueError: Cannot mask with non-boolean array containing NA / NaN values\n"
     ]
    },
    {
     "ename": "ValueError",
     "evalue": "Cannot mask with non-boolean array containing NA / NaN values",
     "output_type": "error",
     "traceback": [
      "\u001b[1;31m---------------------------------------------------------------------------\u001b[0m",
      "\u001b[1;31mValueError\u001b[0m                                Traceback (most recent call last)",
      "\u001b[1;32mUntitled-2.ipynb Cell 5\u001b[0m in \u001b[0;36m<cell line: 2>\u001b[1;34m()\u001b[0m\n\u001b[0;32m      <a href='vscode-notebook-cell:Untitled-2.ipynb?jupyter-notebook#W1sdW50aXRsZWQ%3D?line=0'>1</a>\u001b[0m \u001b[39mfrom\u001b[39;00m \u001b[39mpipeline\u001b[39;00m\u001b[39m.\u001b[39;00m\u001b[39mingest\u001b[39;00m \u001b[39mimport\u001b[39;00m behavior \u001b[39mas\u001b[39;00m behavior_ingest\n\u001b[1;32m----> <a href='vscode-notebook-cell:Untitled-2.ipynb?jupyter-notebook#W1sdW50aXRsZWQ%3D?line=1'>2</a>\u001b[0m behavior_ingest\u001b[39m.\u001b[39;49mBehaviorBpodIngest()\u001b[39m.\u001b[39;49mpopulate(display_progress\u001b[39m=\u001b[39;49m\u001b[39mTrue\u001b[39;49;00m, suppress_errors\u001b[39m=\u001b[39;49m\u001b[39mTrue\u001b[39;49;00m)\n",
      "File \u001b[1;32mD:\\Han_Sync\\Svoboda\\Scripts\\map-ephys\\pipeline\\ingest\\behavior.py:483\u001b[0m, in \u001b[0;36mBehaviorBpodIngest.populate\u001b[1;34m(self, *args, **kwargs)\u001b[0m\n\u001b[0;32m    481\u001b[0m \u001b[39mtry\u001b[39;00m:\n\u001b[0;32m    482\u001b[0m     \u001b[39mwith\u001b[39;00m dj\u001b[39m.\u001b[39mconn()\u001b[39m.\u001b[39mtransaction:\n\u001b[1;32m--> 483\u001b[0m         \u001b[39mself\u001b[39;49m\u001b[39m.\u001b[39;49mmake(k)\n\u001b[0;32m    484\u001b[0m \u001b[39mexcept\u001b[39;00m \u001b[39mException\u001b[39;00m \u001b[39mas\u001b[39;00m e:\n\u001b[0;32m    485\u001b[0m     log\u001b[39m.\u001b[39mwarning(\u001b[39m'\u001b[39m\u001b[39msession key \u001b[39m\u001b[39m{}\u001b[39;00m\u001b[39m error: \u001b[39m\u001b[39m{}\u001b[39;00m\u001b[39m'\u001b[39m\u001b[39m.\u001b[39mformat(k, \u001b[39mrepr\u001b[39m(e)))\n",
      "File \u001b[1;32mD:\\Han_Sync\\Svoboda\\Scripts\\map-ephys\\pipeline\\ingest\\behavior.py:984\u001b[0m, in \u001b[0;36mBehaviorBpodIngest.make\u001b[1;34m(self, key)\u001b[0m\n\u001b[0;32m    981\u001b[0m         this_row[\u001b[39m'\u001b[39m\u001b[39mside\u001b[39m\u001b[39m'\u001b[39m] \u001b[39m=\u001b[39m side_code_from_stdout\u001b[39m.\u001b[39mastype(\u001b[39mint\u001b[39m)\u001b[39m.\u001b[39miloc[\u001b[39m0\u001b[39m]  \u001b[39m# Override\u001b[39;00m\n\u001b[0;32m    982\u001b[0m         log\u001b[39m.\u001b[39mwarning(\u001b[39mf\u001b[39m\u001b[39m'\u001b[39m\u001b[39mlaser side conflict:  from WavePlayer stamps = \u001b[39m\u001b[39m{\u001b[39;00mside_code\u001b[39m}\u001b[39;00m\u001b[39m, from message = \u001b[39m\u001b[39m{\u001b[39;00mside_code_from_stdout\u001b[39m.\u001b[39mastype(\u001b[39mint\u001b[39m)\u001b[39m.\u001b[39miloc[\u001b[39m0\u001b[39m]\u001b[39m}\u001b[39;00m\u001b[39m'\u001b[39m)\n\u001b[1;32m--> 984\u001b[0m ramping_down_from_stdout \u001b[39m=\u001b[39m \u001b[39mself\u001b[39;49m\u001b[39m.\u001b[39;49m_get_message(df_behavior_session, \u001b[39m'\u001b[39;49m\u001b[39mlaser ramping down\u001b[39;49m\u001b[39m'\u001b[39;49m)\n\u001b[0;32m    985\u001b[0m \u001b[39mif\u001b[39;00m \u001b[39mlen\u001b[39m(ramping_down_from_stdout):\n\u001b[0;32m    986\u001b[0m     \u001b[39mif\u001b[39;00m this_row[\u001b[39m'\u001b[39m\u001b[39mbpod_timer_align_to\u001b[39m\u001b[39m'\u001b[39m] \u001b[39mnot\u001b[39;00m \u001b[39min\u001b[39;00m (\u001b[39m'\u001b[39m\u001b[39mwhole trial\u001b[39m\u001b[39m'\u001b[39m, \u001b[39m'\u001b[39m\u001b[39mafter go cue\u001b[39m\u001b[39m'\u001b[39m):  \u001b[39m# Otherwise it's a hard stop\u001b[39;00m\n\u001b[0;32m    987\u001b[0m         \u001b[39m# assert ramping_down == float(ramping_down_from_stdout.iloc[0]), 'ERROR: ramping down not consistent!!'\u001b[39;00m\n",
      "File \u001b[1;32mD:\\Han_Sync\\Svoboda\\Scripts\\map-ephys\\pipeline\\ingest\\behavior.py:410\u001b[0m, in \u001b[0;36mBehaviorBpodIngest._get_message\u001b[1;34m(df, MSG)\u001b[0m\n\u001b[0;32m    408\u001b[0m index_msg \u001b[39m=\u001b[39m df[\u001b[39m'\u001b[39m\u001b[39mMSG\u001b[39m\u001b[39m'\u001b[39m]\u001b[39m.\u001b[39mstr\u001b[39m.\u001b[39mcontains(MSG) \n\u001b[0;32m    409\u001b[0m \u001b[39mif\u001b[39;00m \u001b[39msum\u001b[39m(index_msg \u001b[39m==\u001b[39m \u001b[39mTrue\u001b[39;00m):\n\u001b[1;32m--> 410\u001b[0m     \u001b[39mreturn\u001b[39;00m df\u001b[39m.\u001b[39mloc[df\u001b[39m.\u001b[39;49mindex[df[\u001b[39m'\u001b[39;49m\u001b[39mMSG\u001b[39;49m\u001b[39m'\u001b[39;49m]\u001b[39m.\u001b[39;49mstr\u001b[39m.\u001b[39;49mcontains(MSG)] \u001b[39m+\u001b[39m \u001b[39m1\u001b[39m, \u001b[39m'\u001b[39m\u001b[39mMSG\u001b[39m\u001b[39m'\u001b[39m]\n\u001b[0;32m    411\u001b[0m \u001b[39melse\u001b[39;00m:\n\u001b[0;32m    412\u001b[0m     \u001b[39mreturn\u001b[39;00m \u001b[39mNone\u001b[39;00m\n",
      "File \u001b[1;32mc:\\Users\\admin\\anaconda3\\envs\\pipeline\\lib\\site-packages\\pandas\\core\\indexes\\range.py:980\u001b[0m, in \u001b[0;36mRangeIndex.__getitem__\u001b[1;34m(self, key)\u001b[0m\n\u001b[0;32m    973\u001b[0m     \u001b[39mraise\u001b[39;00m \u001b[39mIndexError\u001b[39;00m(\n\u001b[0;32m    974\u001b[0m         \u001b[39m\"\u001b[39m\u001b[39monly integers, slices (`:`), \u001b[39m\u001b[39m\"\u001b[39m\n\u001b[0;32m    975\u001b[0m         \u001b[39m\"\u001b[39m\u001b[39mellipsis (`...`), numpy.newaxis (`None`) \u001b[39m\u001b[39m\"\u001b[39m\n\u001b[0;32m    976\u001b[0m         \u001b[39m\"\u001b[39m\u001b[39mand integer or boolean \u001b[39m\u001b[39m\"\u001b[39m\n\u001b[0;32m    977\u001b[0m         \u001b[39m\"\u001b[39m\u001b[39marrays are valid indices\u001b[39m\u001b[39m\"\u001b[39m\n\u001b[0;32m    978\u001b[0m     )\n\u001b[0;32m    979\u001b[0m \u001b[39m# fall back to Int64Index\u001b[39;00m\n\u001b[1;32m--> 980\u001b[0m \u001b[39mreturn\u001b[39;00m \u001b[39msuper\u001b[39;49m()\u001b[39m.\u001b[39;49m\u001b[39m__getitem__\u001b[39;49m(key)\n",
      "File \u001b[1;32mc:\\Users\\admin\\anaconda3\\envs\\pipeline\\lib\\site-packages\\pandas\\core\\indexes\\base.py:5367\u001b[0m, in \u001b[0;36mIndex.__getitem__\u001b[1;34m(self, key)\u001b[0m\n\u001b[0;32m   5364\u001b[0m     \u001b[39m# Going through simple_new for performance.\u001b[39;00m\n\u001b[0;32m   5365\u001b[0m     \u001b[39mreturn\u001b[39;00m \u001b[39mtype\u001b[39m(\u001b[39mself\u001b[39m)\u001b[39m.\u001b[39m_simple_new(result, name\u001b[39m=\u001b[39m\u001b[39mself\u001b[39m\u001b[39m.\u001b[39m_name)\n\u001b[1;32m-> 5367\u001b[0m \u001b[39mif\u001b[39;00m com\u001b[39m.\u001b[39;49mis_bool_indexer(key):\n\u001b[0;32m   5368\u001b[0m     \u001b[39m# if we have list[bools, length=1e5] then doing this check+convert\u001b[39;00m\n\u001b[0;32m   5369\u001b[0m     \u001b[39m#  takes 166 µs + 2.1 ms and cuts the ndarray.__getitem__\u001b[39;00m\n\u001b[0;32m   5370\u001b[0m     \u001b[39m#  time below from 3.8 ms to 496 µs\u001b[39;00m\n\u001b[0;32m   5371\u001b[0m     \u001b[39m# if we already have ndarray[bool], the overhead is 1.4 µs or .25%\u001b[39;00m\n\u001b[0;32m   5372\u001b[0m     \u001b[39mif\u001b[39;00m is_extension_array_dtype(\u001b[39mgetattr\u001b[39m(key, \u001b[39m\"\u001b[39m\u001b[39mdtype\u001b[39m\u001b[39m\"\u001b[39m, \u001b[39mNone\u001b[39;00m)):\n\u001b[0;32m   5373\u001b[0m         key \u001b[39m=\u001b[39m key\u001b[39m.\u001b[39mto_numpy(dtype\u001b[39m=\u001b[39m\u001b[39mbool\u001b[39m, na_value\u001b[39m=\u001b[39m\u001b[39mFalse\u001b[39;00m)\n",
      "File \u001b[1;32mc:\\Users\\admin\\anaconda3\\envs\\pipeline\\lib\\site-packages\\pandas\\core\\common.py:135\u001b[0m, in \u001b[0;36mis_bool_indexer\u001b[1;34m(key)\u001b[0m\n\u001b[0;32m    131\u001b[0m     na_msg \u001b[39m=\u001b[39m \u001b[39m\"\u001b[39m\u001b[39mCannot mask with non-boolean array containing NA / NaN values\u001b[39m\u001b[39m\"\u001b[39m\n\u001b[0;32m    132\u001b[0m     \u001b[39mif\u001b[39;00m lib\u001b[39m.\u001b[39minfer_dtype(key_array) \u001b[39m==\u001b[39m \u001b[39m\"\u001b[39m\u001b[39mboolean\u001b[39m\u001b[39m\"\u001b[39m \u001b[39mand\u001b[39;00m isna(key_array)\u001b[39m.\u001b[39many():\n\u001b[0;32m    133\u001b[0m         \u001b[39m# Don't raise on e.g. [\"A\", \"B\", np.nan], see\u001b[39;00m\n\u001b[0;32m    134\u001b[0m         \u001b[39m#  test_loc_getitem_list_of_labels_categoricalindex_with_na\u001b[39;00m\n\u001b[1;32m--> 135\u001b[0m         \u001b[39mraise\u001b[39;00m \u001b[39mValueError\u001b[39;00m(na_msg)\n\u001b[0;32m    136\u001b[0m     \u001b[39mreturn\u001b[39;00m \u001b[39mFalse\u001b[39;00m\n\u001b[0;32m    137\u001b[0m \u001b[39mreturn\u001b[39;00m \u001b[39mTrue\u001b[39;00m\n",
      "\u001b[1;31mValueError\u001b[0m: Cannot mask with non-boolean array containing NA / NaN values"
     ]
    },
    {
     "ename": "",
     "evalue": "",
     "output_type": "error",
     "traceback": [
      "\u001b[1;31mThe Kernel crashed while executing code in the the current cell or a previous cell. Please review the code in the cell(s) to identify a possible cause of the failure. Click <a href='https://aka.ms/vscodeJupyterKernelCrash'>here</a> for more info. View Jupyter <a href='command:jupyter.viewOutput'>log</a> for further details."
     ]
    }
   ],
   "source": [
    "from pipeline.ingest import behavior as behavior_ingest\n",
    "behavior_ingest.BehaviorBpodIngest().populate(display_progress=True, suppress_errors=True)"
   ]
  }
 ],
 "metadata": {
  "kernelspec": {
   "display_name": "pipeline",
   "language": "python",
   "name": "python3"
  },
  "language_info": {
   "codemirror_mode": {
    "name": "ipython",
    "version": 3
   },
   "file_extension": ".py",
   "mimetype": "text/x-python",
   "name": "python",
   "nbconvert_exporter": "python",
   "pygments_lexer": "ipython3",
   "version": "3.8.13"
  },
  "orig_nbformat": 4,
  "vscode": {
   "interpreter": {
    "hash": "4eb517b2aa5be169b80721428b994c8a6cb44dd34987fa9f04a2fcd8a8a68b29"
   }
  }
 },
 "nbformat": 4,
 "nbformat_minor": 2
}
