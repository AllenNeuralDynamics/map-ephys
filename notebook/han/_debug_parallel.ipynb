{
 "cells": [
  {
   "cell_type": "code",
   "execution_count": 1,
   "id": "24160fae-3f18-4b35-aeaf-9ba6d1cb6c72",
   "metadata": {},
   "outputs": [
    {
     "name": "stdout",
     "output_type": "stream",
     "text": [
      "/home/jupyter/map-ephys\n"
     ]
    }
   ],
   "source": [
    "%cd ../..\n",
    "%load_ext autoreload\n",
    "%autoreload 2"
   ]
  },
  {
   "cell_type": "code",
   "execution_count": 2,
   "id": "9aabbf60-0ccb-4126-81d3-cbfb527ba7d2",
   "metadata": {},
   "outputs": [
    {
     "name": "stderr",
     "output_type": "stream",
     "text": [
      "[2022-11-18 03:30:05,075][INFO]: Connecting map-superuser@datajoint.mesoscale-activity-map.org:3306\n",
      "[2022-11-18 03:30:05,162][INFO]: Connected map-superuser@datajoint.mesoscale-activity-map.org:3306\n"
     ]
    }
   ],
   "source": [
    "import datajoint as dj; dj.conn().connect()\n",
    "from pipeline import shell\n",
    "from datetime import datetime"
   ]
  },
  {
   "cell_type": "code",
   "execution_count": 3,
   "id": "2db1ad0c-5c0a-4692-a227-1c66ec4ef73b",
   "metadata": {},
   "outputs": [],
   "source": [
    "from pipeline import lab, get_schema_name, foraging_analysis, report, psth_foraging, foraging_model, ephys"
   ]
  },
  {
   "cell_type": "code",
   "execution_count": 18,
   "id": "35947d60-ff60-48ad-992b-f6c9d7952a67",
   "metadata": {},
   "outputs": [],
   "source": [
    "s = report.schema"
   ]
  },
  {
   "cell_type": "code",
   "execution_count": 13,
   "id": "51218620-51cb-486b-aaef-67beb7af1c49",
   "metadata": {},
   "outputs": [
    {
     "data": {
      "text/html": [
       "\n",
       "    \n",
       "    <style type=\"text/css\">\n",
       "        .Relation{\n",
       "            border-collapse:collapse;\n",
       "        }\n",
       "        .Relation th{\n",
       "            background: #A0A0A0; color: #ffffff; padding:4px; border:#f0e0e0 1px solid;\n",
       "            font-weight: normal; font-family: monospace; font-size: 100%;\n",
       "        }\n",
       "        .Relation td{\n",
       "            padding:4px; border:#f0e0e0 1px solid; font-size:100%;\n",
       "        }\n",
       "        .Relation tr:nth-child(odd){\n",
       "            background: #ffffff;\n",
       "        }\n",
       "        .Relation tr:nth-child(even){\n",
       "            background: #f3f1ff;\n",
       "        }\n",
       "        /* Tooltip container */\n",
       "        .djtooltip {\n",
       "        }\n",
       "        /* Tooltip text */\n",
       "        .djtooltip .djtooltiptext {\n",
       "            visibility: hidden;\n",
       "            width: 120px;\n",
       "            background-color: black;\n",
       "            color: #fff;\n",
       "            text-align: center;\n",
       "            padding: 5px 0;\n",
       "            border-radius: 6px;\n",
       "            /* Position the tooltip text - see examples below! */\n",
       "            position: absolute;\n",
       "            z-index: 1;\n",
       "        }\n",
       "        #primary {\n",
       "            font-weight: bold;\n",
       "            color: black;\n",
       "        }\n",
       "        #nonprimary {\n",
       "            font-weight: normal;\n",
       "            color: white;\n",
       "        }\n",
       "\n",
       "        /* Show the tooltip text when you mouse over the tooltip container */\n",
       "        .djtooltip:hover .djtooltiptext {\n",
       "            visibility: visible;\n",
       "        }\n",
       "    </style>\n",
       "    \n",
       "    <b>job reservation table for `map_v2_report`</b>\n",
       "        <div style=\"max-height:1000px;max-width:1500px;overflow:auto;\">\n",
       "        <table border=\"1\" class=\"Relation\">\n",
       "            <thead> <tr style=\"text-align: right;\"> <th> <div class=\"djtooltip\">\n",
       "                            <p id=\"primary\">table_name</p>\n",
       "                            <span class=\"djtooltiptext\">className of the table</span>\n",
       "                        </div></th><th><div class=\"djtooltip\">\n",
       "                            <p id=\"primary\">key_hash</p>\n",
       "                            <span class=\"djtooltiptext\">key hash</span>\n",
       "                        </div></th><th><div class=\"djtooltip\">\n",
       "                            <p id=\"nonprimary\">status</p>\n",
       "                            <span class=\"djtooltiptext\">if tuple is missing, the job is available</span>\n",
       "                        </div></th><th><div class=\"djtooltip\">\n",
       "                            <p id=\"nonprimary\">key</p>\n",
       "                            <span class=\"djtooltiptext\">structure containing the key</span>\n",
       "                        </div></th><th><div class=\"djtooltip\">\n",
       "                            <p id=\"nonprimary\">error_message</p>\n",
       "                            <span class=\"djtooltiptext\">error message returned if failed</span>\n",
       "                        </div></th><th><div class=\"djtooltip\">\n",
       "                            <p id=\"nonprimary\">error_stack</p>\n",
       "                            <span class=\"djtooltiptext\">error stack if failed</span>\n",
       "                        </div></th><th><div class=\"djtooltip\">\n",
       "                            <p id=\"nonprimary\">user</p>\n",
       "                            <span class=\"djtooltiptext\">database user</span>\n",
       "                        </div></th><th><div class=\"djtooltip\">\n",
       "                            <p id=\"nonprimary\">host</p>\n",
       "                            <span class=\"djtooltiptext\">system hostname</span>\n",
       "                        </div></th><th><div class=\"djtooltip\">\n",
       "                            <p id=\"nonprimary\">pid</p>\n",
       "                            <span class=\"djtooltiptext\">system process id</span>\n",
       "                        </div></th><th><div class=\"djtooltip\">\n",
       "                            <p id=\"nonprimary\">connection_id</p>\n",
       "                            <span class=\"djtooltiptext\">connection_id()</span>\n",
       "                        </div></th><th><div class=\"djtooltip\">\n",
       "                            <p id=\"nonprimary\">timestamp</p>\n",
       "                            <span class=\"djtooltiptext\">automatic timestamp</span>\n",
       "                        </div> </th> </tr> </thead>\n",
       "            <tbody> <tr> <td>__unit_level_foraging_ephys_report_all_in_one</td>\n",
       "<td>07cd5a971d5c7d8804c4ae3082a9e5bc</td>\n",
       "<td>error</td>\n",
       "<td>=BLOB=</td>\n",
       "<td>TclError: not enough free memory for image buffer</td>\n",
       "<td>=BLOB=</td>\n",
       "<td>map-superuser@163.123.189.8</td>\n",
       "<td>W10DTDWXGF33</td>\n",
       "<td>7744</td>\n",
       "<td>89414</td>\n",
       "<td>2022-11-18 02:34:46</td></tr><tr><td>__unit_level_foraging_ephys_report_all_in_one</td>\n",
       "<td>0876f9095af5aa7f12e08694dae088be</td>\n",
       "<td>error</td>\n",
       "<td>=BLOB=</td>\n",
       "<td>TclError: not enough free memory for image buffer</td>\n",
       "<td>=BLOB=</td>\n",
       "<td>map-superuser@163.123.189.8</td>\n",
       "<td>W10DTDWXGF33</td>\n",
       "<td>7744</td>\n",
       "<td>89414</td>\n",
       "<td>2022-11-18 02:34:48</td></tr><tr><td>__unit_level_foraging_ephys_report_all_in_one</td>\n",
       "<td>0f6fd3fd6a9c3711753e9adf19793f9a</td>\n",
       "<td>error</td>\n",
       "<td>=BLOB=</td>\n",
       "<td>TclError: not enough free memory for image buffer</td>\n",
       "<td>=BLOB=</td>\n",
       "<td>map-superuser@163.123.189.8</td>\n",
       "<td>W10DTDWXGF33</td>\n",
       "<td>61252</td>\n",
       "<td>89412</td>\n",
       "<td>2022-11-18 02:34:50</td></tr><tr><td>__unit_level_foraging_ephys_report_all_in_one</td>\n",
       "<td>12f5bcfd91f2d09aa9e1efdb535b9579</td>\n",
       "<td>error</td>\n",
       "<td>=BLOB=</td>\n",
       "<td>MemoryError: In RendererAgg: Out of memory</td>\n",
       "<td>=BLOB=</td>\n",
       "<td>map-superuser@163.123.189.8</td>\n",
       "<td>W10DTDWXGF33</td>\n",
       "<td>41616</td>\n",
       "<td>89410</td>\n",
       "<td>2022-11-18 02:35:03</td></tr><tr><td>__unit_level_foraging_ephys_report_all_in_one</td>\n",
       "<td>17ad125b5c82d57d084ebfa31f56c231</td>\n",
       "<td>error</td>\n",
       "<td>=BLOB=</td>\n",
       "<td>DuplicateError: Duplicate entry '\\xEB\\x1Cjq\\x05\\xF7\\xF2r\\xC4S-\\xD4\\xB1\\xF9\\xC4\\xF4' for key 'PRIMARY'</td>\n",
       "<td>=BLOB=</td>\n",
       "<td>map-superuser@163.123.189.8</td>\n",
       "<td>W10DTDWXGF33</td>\n",
       "<td>7744</td>\n",
       "<td>89414</td>\n",
       "<td>2022-11-18 02:34:36</td></tr><tr><td>__unit_level_foraging_ephys_report_all_in_one</td>\n",
       "<td>1c03e6cdace3c1a4e39eb6a2a104ce08</td>\n",
       "<td>error</td>\n",
       "<td>=BLOB=</td>\n",
       "<td>DuplicateError: Duplicate entry '\\xEE&\\x0C\\x0Fb!\\xF1-/\\xEC}\\xE3`\\xD6\\x91[' for key 'PRIMARY'</td>\n",
       "<td>=BLOB=</td>\n",
       "<td>map-superuser@163.123.189.8</td>\n",
       "<td>W10DTDWXGF33</td>\n",
       "<td>68544</td>\n",
       "<td>89429</td>\n",
       "<td>2022-11-18 02:33:56</td></tr><tr><td>__unit_level_foraging_ephys_report_all_in_one</td>\n",
       "<td>260fcba929c12b0e0bbdbff322e239a0</td>\n",
       "<td>error</td>\n",
       "<td>=BLOB=</td>\n",
       "<td>TclError: not enough free memory for image buffer</td>\n",
       "<td>=BLOB=</td>\n",
       "<td>map-superuser@163.123.189.8</td>\n",
       "<td>W10DTDWXGF33</td>\n",
       "<td>61252</td>\n",
       "<td>89412</td>\n",
       "<td>2022-11-18 02:34:48</td></tr><tr><td>__unit_level_foraging_ephys_report_all_in_one</td>\n",
       "<td>265937b54d9643ff4c82a680a83261f4</td>\n",
       "<td>error</td>\n",
       "<td>=BLOB=</td>\n",
       "<td>MemoryError: Unable to allocate 25.2 MiB for an array with shape (880, 1876, 4) and data type float32</td>\n",
       "<td>=BLOB=</td>\n",
       "<td>map-superuser@163.123.189.8</td>\n",
       "<td>W10DTDWXGF33</td>\n",
       "<td>54368</td>\n",
       "<td>89409</td>\n",
       "<td>2022-11-18 02:35:03</td></tr><tr><td>__unit_level_foraging_ephys_report_all_in_one</td>\n",
       "<td>2ecccbf4a8ca5553959b5fca61e69b4a</td>\n",
       "<td>error</td>\n",
       "<td>=BLOB=</td>\n",
       "<td>TclError: not enough free memory for image buffer</td>\n",
       "<td>=BLOB=</td>\n",
       "<td>map-superuser@163.123.189.8</td>\n",
       "<td>W10DTDWXGF33</td>\n",
       "<td>61252</td>\n",
       "<td>89412</td>\n",
       "<td>2022-11-18 02:34:49</td></tr><tr><td>__unit_level_foraging_ephys_report_all_in_one</td>\n",
       "<td>2f7faa507bf6de7dc8cd53d509c64889</td>\n",
       "<td>error</td>\n",
       "<td>=BLOB=</td>\n",
       "<td>DuplicateError: Duplicate entry '9i\\xBD,\\xC6;E]V\\xC0\\x9DE>O<\\x03' for key 'PRIMARY'</td>\n",
       "<td>=BLOB=</td>\n",
       "<td>map-superuser@163.123.189.8</td>\n",
       "<td>W10DTDWXGF33</td>\n",
       "<td>68760</td>\n",
       "<td>89405</td>\n",
       "<td>2022-11-18 02:34:12</td></tr><tr><td>__unit_level_foraging_ephys_report_all_in_one</td>\n",
       "<td>31bc74367d869d5f30fb3e33d9895989</td>\n",
       "<td>error</td>\n",
       "<td>=BLOB=</td>\n",
       "<td>MemoryError: Unable to allocate 48.1 MiB for an array with shape (2432, 5184, 4) and data type bool</td>\n",
       "<td>=BLOB=</td>\n",
       "<td>map-superuser@163.123.189.8</td>\n",
       "<td>W10DTDWXGF33</td>\n",
       "<td>7744</td>\n",
       "<td>89414</td>\n",
       "<td>2022-11-18 02:34:42</td></tr><tr><td>__unit_level_foraging_ephys_report_all_in_one</td>\n",
       "<td>37b1ea581a65e574bd4eefda3c2704f5</td>\n",
       "<td>error</td>\n",
       "<td>=BLOB=</td>\n",
       "<td>DuplicateError: Duplicate entry '\\x98,\\xD1}5\\x89)J\\xC2\\x81\\x91)\\x96]w\\xBB' for key 'PRIMARY'</td>\n",
       "<td>=BLOB=</td>\n",
       "<td>map-superuser@163.123.189.8</td>\n",
       "<td>W10DTDWXGF33</td>\n",
       "<td>61252</td>\n",
       "<td>89412</td>\n",
       "<td>2022-11-18 02:33:48</td></tr><tr><td>__unit_level_foraging_ephys_report_all_in_one</td>\n",
       "<td>41d0084576771c2f32888eec8aa9ac10</td>\n",
       "<td>error</td>\n",
       "<td>=BLOB=</td>\n",
       "<td>MemoryError: In RendererAgg: Out of memory</td>\n",
       "<td>=BLOB=</td>\n",
       "<td>map-superuser@163.123.189.8</td>\n",
       "<td>W10DTDWXGF33</td>\n",
       "<td>26832</td>\n",
       "<td>89422</td>\n",
       "<td>2022-11-18 02:34:51</td></tr><tr><td>__unit_level_foraging_ephys_report_all_in_one</td>\n",
       "<td>4bca02c29fd673ed6071c77968004021</td>\n",
       "<td>error</td>\n",
       "<td>=BLOB=</td>\n",
       "<td>DuplicateError: Duplicate entry '\\xB5/\\xB7p\\xD5=\\xB8\\x15\\xC3\\xFA\\\\x0A\\xA3\\x0E9\\xE5' for key 'PRIMARY'</td>\n",
       "<td>=BLOB=</td>\n",
       "<td>map-superuser@163.123.189.8</td>\n",
       "<td>W10DTDWXGF33</td>\n",
       "<td>58252</td>\n",
       "<td>89421</td>\n",
       "<td>2022-11-18 02:33:53</td></tr><tr><td>__unit_level_foraging_ephys_report_all_in_one</td>\n",
       "<td>506e4044b4d33a60fd0a3f23c2cf8621</td>\n",
       "<td>error</td>\n",
       "<td>=BLOB=</td>\n",
       "<td>TclError: not enough free memory for image buffer</td>\n",
       "<td>=BLOB=</td>\n",
       "<td>map-superuser@163.123.189.8</td>\n",
       "<td>W10DTDWXGF33</td>\n",
       "<td>7744</td>\n",
       "<td>89414</td>\n",
       "<td>2022-11-18 02:34:49</td></tr><tr><td>__unit_level_foraging_ephys_report_all_in_one</td>\n",
       "<td>5fc951287ac2de01aa20ce83f9e90408</td>\n",
       "<td>error</td>\n",
       "<td>=BLOB=</td>\n",
       "<td>TclError: not enough free memory for image buffer</td>\n",
       "<td>=BLOB=</td>\n",
       "<td>map-superuser@163.123.189.8</td>\n",
       "<td>W10DTDWXGF33</td>\n",
       "<td>61252</td>\n",
       "<td>89412</td>\n",
       "<td>2022-11-18 02:34:46</td></tr><tr><td>__unit_level_foraging_ephys_report_all_in_one</td>\n",
       "<td>60f6fa2d46e49593667b2f7e21cdfa28</td>\n",
       "<td>error</td>\n",
       "<td>=BLOB=</td>\n",
       "<td>DuplicateError: Duplicate entry '\\xCD\\xB4\\xA5\\x8C\\xDCmP\\x14J\\xD6\\xCC\\xD6\\xC1\\x065Y' for key 'PRIMARY'</td>\n",
       "<td>=BLOB=</td>\n",
       "<td>map-superuser@163.123.189.8</td>\n",
       "<td>W10DTDWXGF33</td>\n",
       "<td>45404</td>\n",
       "<td>89427</td>\n",
       "<td>2022-11-18 02:34:30</td></tr><tr><td>__unit_level_foraging_ephys_report_all_in_one</td>\n",
       "<td>635769bd7a37d2dc64ac257b7e456c27</td>\n",
       "<td>error</td>\n",
       "<td>=BLOB=</td>\n",
       "<td>TclError: not enough free memory for image buffer</td>\n",
       "<td>=BLOB=</td>\n",
       "<td>map-superuser@163.123.189.8</td>\n",
       "<td>W10DTDWXGF33</td>\n",
       "<td>7744</td>\n",
       "<td>89414</td>\n",
       "<td>2022-11-18 02:34:50</td></tr><tr><td>__unit_level_foraging_ephys_report_all_in_one</td>\n",
       "<td>6a0dd9808a5ad4358f443465230d2bb7</td>\n",
       "<td>error</td>\n",
       "<td>=BLOB=</td>\n",
       "<td>MemoryError</td>\n",
       "<td>=BLOB=</td>\n",
       "<td>map-superuser@163.123.189.8</td>\n",
       "<td>W10DTDWXGF33</td>\n",
       "<td>68760</td>\n",
       "<td>89405</td>\n",
       "<td>2022-11-18 02:34:25</td></tr><tr><td>__unit_level_foraging_ephys_report_all_in_one</td>\n",
       "<td>6ba28cafc886bc9fbb2260af7bfeccdd</td>\n",
       "<td>error</td>\n",
       "<td>=BLOB=</td>\n",
       "<td>MemoryError</td>\n",
       "<td>=BLOB=</td>\n",
       "<td>map-superuser@163.123.189.8</td>\n",
       "<td>W10DTDWXGF33</td>\n",
       "<td>7744</td>\n",
       "<td>89414</td>\n",
       "<td>2022-11-18 02:34:44</td></tr><tr><td>__unit_level_foraging_ephys_report_all_in_one</td>\n",
       "<td>757332197c21c873c6e69bff0de00c45</td>\n",
       "<td>error</td>\n",
       "<td>=BLOB=</td>\n",
       "<td>TclError: not enough free memory for image buffer</td>\n",
       "<td>=BLOB=</td>\n",
       "<td>map-superuser@163.123.189.8</td>\n",
       "<td>W10DTDWXGF33</td>\n",
       "<td>61252</td>\n",
       "<td>89412</td>\n",
       "<td>2022-11-18 02:34:47</td></tr><tr><td>__unit_level_foraging_ephys_report_all_in_one</td>\n",
       "<td>76ea3b270451a3eaf0c3af30dd216a3c</td>\n",
       "<td>error</td>\n",
       "<td>=BLOB=</td>\n",
       "<td>TclError: not enough free memory for image buffer</td>\n",
       "<td>=BLOB=</td>\n",
       "<td>map-superuser@163.123.189.8</td>\n",
       "<td>W10DTDWXGF33</td>\n",
       "<td>7744</td>\n",
       "<td>89414</td>\n",
       "<td>2022-11-18 02:34:47</td></tr><tr><td>__unit_level_foraging_ephys_report_all_in_one</td>\n",
       "<td>7da27378a709df4fe98ad40280c5cbe1</td>\n",
       "<td>error</td>\n",
       "<td>=BLOB=</td>\n",
       "<td>TclError: not enough free memory for image buffer</td>\n",
       "<td>=BLOB=</td>\n",
       "<td>map-superuser@163.123.189.8</td>\n",
       "<td>W10DTDWXGF33</td>\n",
       "<td>61252</td>\n",
       "<td>89412</td>\n",
       "<td>2022-11-18 02:34:45</td></tr><tr><td>__unit_level_foraging_ephys_report_all_in_one</td>\n",
       "<td>7f98f9840a785081240bb96746f220ef</td>\n",
       "<td>error</td>\n",
       "<td>=BLOB=</td>\n",
       "<td>TclError: not enough free memory for image buffer</td>\n",
       "<td>=BLOB=</td>\n",
       "<td>map-superuser@163.123.189.8</td>\n",
       "<td>W10DTDWXGF33</td>\n",
       "<td>61252</td>\n",
       "<td>89412</td>\n",
       "<td>2022-11-18 02:34:45</td></tr><tr><td>__unit_level_foraging_ephys_report_all_in_one</td>\n",
       "<td>83115ef9f26fe09ffdb63c78eb6bf695</td>\n",
       "<td>error</td>\n",
       "<td>=BLOB=</td>\n",
       "<td>TclError: not enough free memory for image buffer</td>\n",
       "<td>=BLOB=</td>\n",
       "<td>map-superuser@163.123.189.8</td>\n",
       "<td>W10DTDWXGF33</td>\n",
       "<td>64992</td>\n",
       "<td>89416</td>\n",
       "<td>2022-11-18 02:34:24</td></tr><tr><td>__unit_level_foraging_ephys_report_all_in_one</td>\n",
       "<td>89b46555dbcf946cca1e2693579f052f</td>\n",
       "<td>error</td>\n",
       "<td>=BLOB=</td>\n",
       "<td>MemoryError: Unable to allocate 48.1 MiB for an array with shape (2432, 5184, 4) and data type bool</td>\n",
       "<td>=BLOB=</td>\n",
       "<td>map-superuser@163.123.189.8</td>\n",
       "<td>W10DTDWXGF33</td>\n",
       "<td>68760</td>\n",
       "<td>89405</td>\n",
       "<td>2022-11-18 02:34:24</td></tr><tr><td>__unit_level_foraging_ephys_report_all_in_one</td>\n",
       "<td>8a6f65df983a9999f075c70a1f9d4b01</td>\n",
       "<td>error</td>\n",
       "<td>=BLOB=</td>\n",
       "<td>TclError: not enough free memory for image buffer</td>\n",
       "<td>=BLOB=</td>\n",
       "<td>map-superuser@163.123.189.8</td>\n",
       "<td>W10DTDWXGF33</td>\n",
       "<td>32052</td>\n",
       "<td>89403</td>\n",
       "<td>2022-11-18 02:35:03</td></tr><tr><td>__unit_level_foraging_ephys_report_all_in_one</td>\n",
       "<td>8e3b75c2a8ae524b870759c378d0836c</td>\n",
       "<td>error</td>\n",
       "<td>=BLOB=</td>\n",
       "<td>TclError: not enough free memory for image buffer</td>\n",
       "<td>=BLOB=</td>\n",
       "<td>map-superuser@163.123.189.8</td>\n",
       "<td>W10DTDWXGF33</td>\n",
       "<td>61252</td>\n",
       "<td>89412</td>\n",
       "<td>2022-11-18 02:34:49</td></tr><tr><td>__unit_level_foraging_ephys_report_all_in_one</td>\n",
       "<td>9388affbebbe2b73b5ea3907f41dcdec</td>\n",
       "<td>error</td>\n",
       "<td>=BLOB=</td>\n",
       "<td>TclError: not enough free memory for image buffer</td>\n",
       "<td>=BLOB=</td>\n",
       "<td>map-superuser@163.123.189.8</td>\n",
       "<td>W10DTDWXGF33</td>\n",
       "<td>7744</td>\n",
       "<td>89414</td>\n",
       "<td>2022-11-18 02:34:47</td></tr><tr><td>__unit_level_foraging_ephys_report_all_in_one</td>\n",
       "<td>93dd484c52eb928228abdc7fba58649a</td>\n",
       "<td>error</td>\n",
       "<td>=BLOB=</td>\n",
       "<td>MemoryError</td>\n",
       "<td>=BLOB=</td>\n",
       "<td>map-superuser@163.123.189.8</td>\n",
       "<td>W10DTDWXGF33</td>\n",
       "<td>45848</td>\n",
       "<td>89419</td>\n",
       "<td>2022-11-18 02:35:07</td> </tr> </tbody>\n",
       "        </table>\n",
       "        <p>...</p>\n",
       "        <p>Total: 48</p></div>\n",
       "        "
      ],
      "text/plain": [
       "*table_name                    *key_hash                      status     key        error_message                  error_stac user                           host             pid       connection_id     timestamp              \n",
       "+----------------------------+ +----------------------------+ +--------+ +--------+ +----------------------------+ +--------+ +----------------------------+ +--------------+ +-------+ +---------------+ +---------------------+\n",
       "__unit_level_foraging_ephys_re 07cd5a971d5c7d8804c4ae3082a9e5 error      =BLOB=     TclError: not enough free memo =BLOB=     map-superuser@163.123.189.8    W10DTDWXGF33     7744      89414             2022-11-18 02:34:46    \n",
       "__unit_level_foraging_ephys_re 0876f9095af5aa7f12e08694dae088 error      =BLOB=     TclError: not enough free memo =BLOB=     map-superuser@163.123.189.8    W10DTDWXGF33     7744      89414             2022-11-18 02:34:48    \n",
       "__unit_level_foraging_ephys_re 0f6fd3fd6a9c3711753e9adf19793f error      =BLOB=     TclError: not enough free memo =BLOB=     map-superuser@163.123.189.8    W10DTDWXGF33     61252     89412             2022-11-18 02:34:50    \n",
       "__unit_level_foraging_ephys_re 12f5bcfd91f2d09aa9e1efdb535b95 error      =BLOB=     MemoryError: In RendererAgg: O =BLOB=     map-superuser@163.123.189.8    W10DTDWXGF33     41616     89410             2022-11-18 02:35:03    \n",
       "__unit_level_foraging_ephys_re 17ad125b5c82d57d084ebfa31f56c2 error      =BLOB=     DuplicateError: Duplicate entr =BLOB=     map-superuser@163.123.189.8    W10DTDWXGF33     7744      89414             2022-11-18 02:34:36    \n",
       "__unit_level_foraging_ephys_re 1c03e6cdace3c1a4e39eb6a2a104ce error      =BLOB=     DuplicateError: Duplicate entr =BLOB=     map-superuser@163.123.189.8    W10DTDWXGF33     68544     89429             2022-11-18 02:33:56    \n",
       "__unit_level_foraging_ephys_re 260fcba929c12b0e0bbdbff322e239 error      =BLOB=     TclError: not enough free memo =BLOB=     map-superuser@163.123.189.8    W10DTDWXGF33     61252     89412             2022-11-18 02:34:48    \n",
       "__unit_level_foraging_ephys_re 265937b54d9643ff4c82a680a83261 error      =BLOB=     MemoryError: Unable to allocat =BLOB=     map-superuser@163.123.189.8    W10DTDWXGF33     54368     89409             2022-11-18 02:35:03    \n",
       "__unit_level_foraging_ephys_re 2ecccbf4a8ca5553959b5fca61e69b error      =BLOB=     TclError: not enough free memo =BLOB=     map-superuser@163.123.189.8    W10DTDWXGF33     61252     89412             2022-11-18 02:34:49    \n",
       "__unit_level_foraging_ephys_re 2f7faa507bf6de7dc8cd53d509c648 error      =BLOB=     DuplicateError: Duplicate entr =BLOB=     map-superuser@163.123.189.8    W10DTDWXGF33     68760     89405             2022-11-18 02:34:12    \n",
       "__unit_level_foraging_ephys_re 31bc74367d869d5f30fb3e33d98959 error      =BLOB=     MemoryError: Unable to allocat =BLOB=     map-superuser@163.123.189.8    W10DTDWXGF33     7744      89414             2022-11-18 02:34:42    \n",
       "__unit_level_foraging_ephys_re 37b1ea581a65e574bd4eefda3c2704 error      =BLOB=     DuplicateError: Duplicate entr =BLOB=     map-superuser@163.123.189.8    W10DTDWXGF33     61252     89412             2022-11-18 02:33:48    \n",
       "__unit_level_foraging_ephys_re 41d0084576771c2f32888eec8aa9ac error      =BLOB=     MemoryError: In RendererAgg: O =BLOB=     map-superuser@163.123.189.8    W10DTDWXGF33     26832     89422             2022-11-18 02:34:51    \n",
       "__unit_level_foraging_ephys_re 4bca02c29fd673ed6071c779680040 error      =BLOB=     DuplicateError: Duplicate entr =BLOB=     map-superuser@163.123.189.8    W10DTDWXGF33     58252     89421             2022-11-18 02:33:53    \n",
       "__unit_level_foraging_ephys_re 506e4044b4d33a60fd0a3f23c2cf86 error      =BLOB=     TclError: not enough free memo =BLOB=     map-superuser@163.123.189.8    W10DTDWXGF33     7744      89414             2022-11-18 02:34:49    \n",
       "__unit_level_foraging_ephys_re 5fc951287ac2de01aa20ce83f9e904 error      =BLOB=     TclError: not enough free memo =BLOB=     map-superuser@163.123.189.8    W10DTDWXGF33     61252     89412             2022-11-18 02:34:46    \n",
       "__unit_level_foraging_ephys_re 60f6fa2d46e49593667b2f7e21cdfa error      =BLOB=     DuplicateError: Duplicate entr =BLOB=     map-superuser@163.123.189.8    W10DTDWXGF33     45404     89427             2022-11-18 02:34:30    \n",
       "__unit_level_foraging_ephys_re 635769bd7a37d2dc64ac257b7e456c error      =BLOB=     TclError: not enough free memo =BLOB=     map-superuser@163.123.189.8    W10DTDWXGF33     7744      89414             2022-11-18 02:34:50    \n",
       "__unit_level_foraging_ephys_re 6a0dd9808a5ad4358f443465230d2b error      =BLOB=     MemoryError                    =BLOB=     map-superuser@163.123.189.8    W10DTDWXGF33     68760     89405             2022-11-18 02:34:25    \n",
       "__unit_level_foraging_ephys_re 6ba28cafc886bc9fbb2260af7bfecc error      =BLOB=     MemoryError                    =BLOB=     map-superuser@163.123.189.8    W10DTDWXGF33     7744      89414             2022-11-18 02:34:44    \n",
       "__unit_level_foraging_ephys_re 757332197c21c873c6e69bff0de00c error      =BLOB=     TclError: not enough free memo =BLOB=     map-superuser@163.123.189.8    W10DTDWXGF33     61252     89412             2022-11-18 02:34:47    \n",
       "__unit_level_foraging_ephys_re 76ea3b270451a3eaf0c3af30dd216a error      =BLOB=     TclError: not enough free memo =BLOB=     map-superuser@163.123.189.8    W10DTDWXGF33     7744      89414             2022-11-18 02:34:47    \n",
       "__unit_level_foraging_ephys_re 7da27378a709df4fe98ad40280c5cb error      =BLOB=     TclError: not enough free memo =BLOB=     map-superuser@163.123.189.8    W10DTDWXGF33     61252     89412             2022-11-18 02:34:45    \n",
       "__unit_level_foraging_ephys_re 7f98f9840a785081240bb96746f220 error      =BLOB=     TclError: not enough free memo =BLOB=     map-superuser@163.123.189.8    W10DTDWXGF33     61252     89412             2022-11-18 02:34:45    \n",
       "__unit_level_foraging_ephys_re 83115ef9f26fe09ffdb63c78eb6bf6 error      =BLOB=     TclError: not enough free memo =BLOB=     map-superuser@163.123.189.8    W10DTDWXGF33     64992     89416             2022-11-18 02:34:24    \n",
       "__unit_level_foraging_ephys_re 89b46555dbcf946cca1e2693579f05 error      =BLOB=     MemoryError: Unable to allocat =BLOB=     map-superuser@163.123.189.8    W10DTDWXGF33     68760     89405             2022-11-18 02:34:24    \n",
       "__unit_level_foraging_ephys_re 8a6f65df983a9999f075c70a1f9d4b error      =BLOB=     TclError: not enough free memo =BLOB=     map-superuser@163.123.189.8    W10DTDWXGF33     32052     89403             2022-11-18 02:35:03    \n",
       "__unit_level_foraging_ephys_re 8e3b75c2a8ae524b870759c378d083 error      =BLOB=     TclError: not enough free memo =BLOB=     map-superuser@163.123.189.8    W10DTDWXGF33     61252     89412             2022-11-18 02:34:49    \n",
       "__unit_level_foraging_ephys_re 9388affbebbe2b73b5ea3907f41dcd error      =BLOB=     TclError: not enough free memo =BLOB=     map-superuser@163.123.189.8    W10DTDWXGF33     7744      89414             2022-11-18 02:34:47    \n",
       "__unit_level_foraging_ephys_re 93dd484c52eb928228abdc7fba5864 error      =BLOB=     MemoryError                    =BLOB=     map-superuser@163.123.189.8    W10DTDWXGF33     45848     89419             2022-11-18 02:35:07    \n",
       "   ...\n",
       " (Total: 48)"
      ]
     },
     "execution_count": 13,
     "metadata": {},
     "output_type": "execute_result"
    }
   ],
   "source": [
    "s.jobs & 'status = \"error\"'"
   ]
  },
  {
   "cell_type": "code",
   "execution_count": 11,
   "id": "ae16e80b-dfa4-42c7-b1df-6c34d05167e8",
   "metadata": {},
   "outputs": [
    {
     "ename": "NameError",
     "evalue": "name 's' is not defined",
     "output_type": "error",
     "traceback": [
      "\u001b[0;31m---------------------------------------------------------------------------\u001b[0m",
      "\u001b[0;31mNameError\u001b[0m                                 Traceback (most recent call last)",
      "\u001b[0;32m/tmp/ipykernel_18908/1031465350.py\u001b[0m in \u001b[0;36m<module>\u001b[0;34m\u001b[0m\n\u001b[0;32m----> 1\u001b[0;31m \u001b[0;34m(\u001b[0m\u001b[0ms\u001b[0m\u001b[0;34m.\u001b[0m\u001b[0mjobs\u001b[0m \u001b[0;34m&\u001b[0m \u001b[0;34m'status = \"error\"'\u001b[0m\u001b[0;34m)\u001b[0m\u001b[0;34m\u001b[0m\u001b[0;34m\u001b[0m\u001b[0m\n\u001b[0m",
      "\u001b[0;31mNameError\u001b[0m: name 's' is not defined"
     ]
    }
   ],
   "source": [
    "(s.jobs & 'status = \"error\"')"
   ]
  },
  {
   "cell_type": "code",
   "execution_count": 20,
   "id": "9cc1cfcf-c930-47c6-a452-821398ef40c0",
   "metadata": {},
   "outputs": [
    {
     "data": {
      "text/html": [
       "\n",
       "    \n",
       "    <style type=\"text/css\">\n",
       "        .Relation{\n",
       "            border-collapse:collapse;\n",
       "        }\n",
       "        .Relation th{\n",
       "            background: #A0A0A0; color: #ffffff; padding:4px; border:#f0e0e0 1px solid;\n",
       "            font-weight: normal; font-family: monospace; font-size: 100%;\n",
       "        }\n",
       "        .Relation td{\n",
       "            padding:4px; border:#f0e0e0 1px solid; font-size:100%;\n",
       "        }\n",
       "        .Relation tr:nth-child(odd){\n",
       "            background: #ffffff;\n",
       "        }\n",
       "        .Relation tr:nth-child(even){\n",
       "            background: #f3f1ff;\n",
       "        }\n",
       "        /* Tooltip container */\n",
       "        .djtooltip {\n",
       "        }\n",
       "        /* Tooltip text */\n",
       "        .djtooltip .djtooltiptext {\n",
       "            visibility: hidden;\n",
       "            width: 120px;\n",
       "            background-color: black;\n",
       "            color: #fff;\n",
       "            text-align: center;\n",
       "            padding: 5px 0;\n",
       "            border-radius: 6px;\n",
       "            /* Position the tooltip text - see examples below! */\n",
       "            position: absolute;\n",
       "            z-index: 1;\n",
       "        }\n",
       "        #primary {\n",
       "            font-weight: bold;\n",
       "            color: black;\n",
       "        }\n",
       "        #nonprimary {\n",
       "            font-weight: normal;\n",
       "            color: white;\n",
       "        }\n",
       "\n",
       "        /* Show the tooltip text when you mouse over the tooltip container */\n",
       "        .djtooltip:hover .djtooltiptext {\n",
       "            visibility: visible;\n",
       "        }\n",
       "    </style>\n",
       "    \n",
       "    <b>job reservation table for `map_v2_report`</b>\n",
       "        <div style=\"max-height:1000px;max-width:1500px;overflow:auto;\">\n",
       "        <table border=\"1\" class=\"Relation\">\n",
       "            <thead> <tr style=\"text-align: right;\"> <th> <div class=\"djtooltip\">\n",
       "                            <p id=\"primary\">table_name</p>\n",
       "                            <span class=\"djtooltiptext\">className of the table</span>\n",
       "                        </div></th><th><div class=\"djtooltip\">\n",
       "                            <p id=\"primary\">key_hash</p>\n",
       "                            <span class=\"djtooltiptext\">key hash</span>\n",
       "                        </div></th><th><div class=\"djtooltip\">\n",
       "                            <p id=\"nonprimary\">status</p>\n",
       "                            <span class=\"djtooltiptext\">if tuple is missing, the job is available</span>\n",
       "                        </div></th><th><div class=\"djtooltip\">\n",
       "                            <p id=\"nonprimary\">key</p>\n",
       "                            <span class=\"djtooltiptext\">structure containing the key</span>\n",
       "                        </div></th><th><div class=\"djtooltip\">\n",
       "                            <p id=\"nonprimary\">error_message</p>\n",
       "                            <span class=\"djtooltiptext\">error message returned if failed</span>\n",
       "                        </div></th><th><div class=\"djtooltip\">\n",
       "                            <p id=\"nonprimary\">error_stack</p>\n",
       "                            <span class=\"djtooltiptext\">error stack if failed</span>\n",
       "                        </div></th><th><div class=\"djtooltip\">\n",
       "                            <p id=\"nonprimary\">user</p>\n",
       "                            <span class=\"djtooltiptext\">database user</span>\n",
       "                        </div></th><th><div class=\"djtooltip\">\n",
       "                            <p id=\"nonprimary\">host</p>\n",
       "                            <span class=\"djtooltiptext\">system hostname</span>\n",
       "                        </div></th><th><div class=\"djtooltip\">\n",
       "                            <p id=\"nonprimary\">pid</p>\n",
       "                            <span class=\"djtooltiptext\">system process id</span>\n",
       "                        </div></th><th><div class=\"djtooltip\">\n",
       "                            <p id=\"nonprimary\">connection_id</p>\n",
       "                            <span class=\"djtooltiptext\">connection_id()</span>\n",
       "                        </div></th><th><div class=\"djtooltip\">\n",
       "                            <p id=\"nonprimary\">timestamp</p>\n",
       "                            <span class=\"djtooltiptext\">automatic timestamp</span>\n",
       "                        </div> </th> </tr> </thead>\n",
       "            <tbody> <tr>  </tr> </tbody>\n",
       "        </table>\n",
       "        \n",
       "        <p>Total: 0</p></div>\n",
       "        "
      ],
      "text/plain": [
       "*table_name    *key_hash    status     key        error_message     error_stac user     host     pid     connection_id     timestamp    \n",
       "+------------+ +----------+ +--------+ +--------+ +---------------+ +--------+ +------+ +------+ +-----+ +---------------+ +-----------+\n",
       "\n",
       " (Total: 0)"
      ]
     },
     "execution_count": 20,
     "metadata": {},
     "output_type": "execute_result"
    }
   ],
   "source": [
    "s.jobs"
   ]
  },
  {
   "cell_type": "code",
   "execution_count": 21,
   "id": "d7e64de1-ca90-4cdc-b128-ee85b0cd03b1",
   "metadata": {},
   "outputs": [],
   "source": [
    "s.jobs.delete()"
   ]
  },
  {
   "cell_type": "code",
   "execution_count": 22,
   "id": "f4f7fea8-dc79-4db2-9fdd-d4410b9c2f4e",
   "metadata": {},
   "outputs": [
    {
     "name": "stdout",
     "output_type": "stream",
     "text": [
      "No jobs under process (0 reserved jobs)\n"
     ]
    }
   ],
   "source": [
    "shell.print_current_jobs()"
   ]
  },
  {
   "cell_type": "code",
   "execution_count": 23,
   "id": "6ca3397c-4304-4b93-b190-62b50a5de34c",
   "metadata": {},
   "outputs": [
    {
     "name": "stdout",
     "output_type": "stream",
     "text": [
      "UnitPeriodLinearFit  Completed 714777 of 714777 (100.0%)   2022-11-18 00:59:03\n"
     ]
    },
    {
     "data": {
      "text/plain": [
       "(0, 714777)"
      ]
     },
     "execution_count": 23,
     "metadata": {},
     "output_type": "execute_result"
    }
   ],
   "source": [
    "psth_foraging.UnitPeriodLinearFit.progress()"
   ]
  },
  {
   "cell_type": "code",
   "execution_count": 65,
   "id": "732ea363-c595-4d0f-a127-dc801417fc17",
   "metadata": {},
   "outputs": [
    {
     "name": "stdout",
     "output_type": "stream",
     "text": [
      "UnitLevelForagingEphysReportAllInOne Completed 2667 of 4588 (58.1%)   2022-11-18 01:51:04\n"
     ]
    },
    {
     "data": {
      "text/plain": [
       "(1921, 4588)"
      ]
     },
     "execution_count": 65,
     "metadata": {},
     "output_type": "execute_result"
    }
   ],
   "source": [
    "report.UnitLevelForagingEphysReportAllInOne.progress()"
   ]
  },
  {
   "cell_type": "code",
   "execution_count": 45,
   "id": "76c9f946-97b5-4d20-951c-53c3a1139470",
   "metadata": {},
   "outputs": [
    {
     "data": {
      "text/plain": [
       "datetime.timedelta(microseconds=38)"
      ]
     },
     "execution_count": 45,
     "metadata": {},
     "output_type": "execute_result"
    }
   ],
   "source": [
    "from datetime import datetime\n",
    "\n",
    "now = datetime.now()\n",
    "\n"
   ]
  },
  {
   "cell_type": "code",
   "execution_count": 25,
   "id": "89f41af3-7bc5-47cc-9fb1-3aba8b3a0a7e",
   "metadata": {},
   "outputs": [
    {
     "ename": "NameError",
     "evalue": "name 'now' is not defined",
     "output_type": "error",
     "traceback": [
      "\u001b[0;31m---------------------------------------------------------------------------\u001b[0m",
      "\u001b[0;31mNameError\u001b[0m                                 Traceback (most recent call last)",
      "\u001b[0;32m/tmp/ipykernel_18908/1585085204.py\u001b[0m in \u001b[0;36m<module>\u001b[0;34m\u001b[0m\n\u001b[0;32m----> 1\u001b[0;31m \u001b[0;34m(\u001b[0m\u001b[0mdatetime\u001b[0m\u001b[0;34m.\u001b[0m\u001b[0mnow\u001b[0m\u001b[0;34m(\u001b[0m\u001b[0;34m)\u001b[0m \u001b[0;34m-\u001b[0m \u001b[0mnow\u001b[0m\u001b[0;34m)\u001b[0m\u001b[0;34m*\u001b[0m\u001b[0;36m2\u001b[0m\u001b[0;34m\u001b[0m\u001b[0;34m\u001b[0m\u001b[0m\n\u001b[0m",
      "\u001b[0;31mNameError\u001b[0m: name 'now' is not defined"
     ]
    }
   ],
   "source": [
    "(datetime.now() - now)*2"
   ]
  },
  {
   "cell_type": "code",
   "execution_count": 27,
   "id": "c1fe9503-6869-40f9-9752-cf18d1994bcc",
   "metadata": {},
   "outputs": [],
   "source": [
    "import time\n",
    "from datetime import datetime\n",
    "import numpy as np\n",
    "\n",
    "def monitor(table, interval=60):\n",
    "    start_time = None \n",
    "    this_remaining = 1\n",
    "    \n",
    "    while this_remaining:\n",
    "        this_remaining, this_all = table.progress()\n",
    "        now = datetime.now()\n",
    "        \n",
    "        if start_time is None:\n",
    "            start_time = now\n",
    "            start_remaining = this_remaining\n",
    "            time_elapsed = None\n",
    "            time_to_go = None\n",
    "        else:        \n",
    "            time_elapsed = now - start_time\n",
    "            time_to_go = time_elapsed / (start_remaining - this_remaining) * this_remaining if start_remaining != this_remaining else np.inf\n",
    "        \n",
    "        finished = this_all - this_remaining\n",
    "        \n",
    "        print(#f'{table}: completed {finished} of {this_all}, ({finished / this_all:.3%})  {now.strftime(\"%Y-%m-%d %H:%M:%S\")}, '\n",
    "              f'\\033[F -- used {str(time_elapsed)}, remaining {str(time_to_go)} ')\n",
    "\n",
    "        time.sleep(interval)\n",
    "        \n",
    "    print('Done'!)"
   ]
  },
  {
   "cell_type": "code",
   "execution_count": 28,
   "id": "b48c72ee-acd7-4482-9154-2a934dd221d4",
   "metadata": {},
   "outputs": [],
   "source": [
    "dj.conn().connect()"
   ]
  },
  {
   "cell_type": "code",
   "execution_count": 29,
   "id": "56cd130c-a376-47f6-aa02-19ebd5251486",
   "metadata": {},
   "outputs": [
    {
     "name": "stdout",
     "output_type": "stream",
     "text": [
      "UnitLevelForagingEphysReportAllInOne Completed 4588 of 4588 (100.0%)   2022-11-18 04:21:15\n",
      "\u001b[F -- used None, remaining None \n"
     ]
    }
   ],
   "source": [
    "monitor(report.UnitLevelForagingEphysReportAllInOne, interval=40)"
   ]
  },
  {
   "cell_type": "code",
   "execution_count": null,
   "id": "67d1d1ad-29d3-4208-b8d3-0b5c067b755b",
   "metadata": {},
   "outputs": [],
   "source": []
  },
  {
   "cell_type": "code",
   "execution_count": null,
   "id": "11f39110-c802-4485-bd9d-1d8e34135bb3",
   "metadata": {},
   "outputs": [],
   "source": []
  },
  {
   "cell_type": "code",
   "execution_count": 48,
   "id": "271bd263-6407-4ce3-ac16-77d85a868b62",
   "metadata": {},
   "outputs": [],
   "source": [
    "my_tables = [       \n",
    "        # Round 0 - old behavioral tables\n",
    "        [\n",
    "            foraging_analysis.TrialStats,  # Very slow\n",
    "            foraging_analysis.BlockStats,\n",
    "            foraging_analysis.SessionTaskProtocol,  #  Important for model fitting\n",
    "            foraging_analysis.SessionStats,\n",
    "            foraging_analysis.BlockFraction,\n",
    "            foraging_analysis.SessionMatching,\n",
    "            foraging_analysis.BlockEfficiency,\n",
    "            ],\n",
    "        # Round 1 - model fitting\n",
    "        [\n",
    "            foraging_model.FittedSessionModel,\n",
    "            foraging_model.FittedSessionModelComparison,\n",
    "            psth_foraging.UnitPeriodActivity,\n",
    "            ],\n",
    "        # Round 2 - ephys\n",
    "        [\n",
    "            psth_foraging.UnitPeriodLinearFit,\n",
    "            ephys.UnitWaveformWidth,\n",
    "        ],\n",
    "        # Round 3 - reports\n",
    "        [\n",
    "            report.SessionLevelForagingSummary,\n",
    "            report.SessionLevelForagingLickingPSTH,\n",
    "            report.UnitLevelForagingEphysReportAllInOne\n",
    "        ]\n",
    "    ]"
   ]
  },
  {
   "cell_type": "code",
   "execution_count": 49,
   "id": "feec84f0-5ee5-414d-be3c-0c16f4ad13ed",
   "metadata": {},
   "outputs": [],
   "source": [
    "def show_progress(rounds):\n",
    "    print('\\n--- Current progress ---', flush=True)\n",
    "    print(datetime.now().strftime('%Y-%m-%d %H:%M:%S'), flush=True)\n",
    "    for runround in rounds:\n",
    "        for table in my_tables[runround]:\n",
    "            table.progress()\n",
    "        print(f'', flush=True)\n",
    "    print('------------------------\\n', flush=True)"
   ]
  },
  {
   "cell_type": "code",
   "execution_count": 208,
   "id": "fba1f15f-d257-4856-aff9-65e1501215b6",
   "metadata": {},
   "outputs": [
    {
     "name": "stdout",
     "output_type": "stream",
     "text": [
      "\n",
      "--- Current progress ---\n",
      "2022-11-17 22:49:04\n",
      "TrialStats           Completed 1488247 of 1488247 (100.0%)   2022-11-17 22:49:07\n",
      "BlockStats           Completed 46697 of 46697 (100.0%)   2022-11-17 22:49:07\n",
      "SessionTaskProtocol  Completed 2339 of 2339 (100.0%)   2022-11-17 22:49:08\n",
      "SessionStats         Completed 2339 of 2339 (100.0%)   2022-11-17 22:49:08\n",
      "BlockFraction        Completed 18179 of 18179 (100.0%)   2022-11-17 22:49:09\n",
      "SessionMatching      Completed 2339 of 2339 (100.0%)   2022-11-17 22:49:10\n",
      "BlockEfficiency      Completed 18182 of 18182 (100.0%)   2022-11-17 22:49:10\n",
      "\n",
      "FittedSessionModel   Completed 43576 of 43576 (100.0%)   2022-11-17 22:49:10\n",
      "FittedSessionModelComparison Completed 5028 of 5028 (100.0%)   2022-11-17 22:49:10\n",
      "UnitPeriodActivity   Completed 39419 of 39419 (100.0%)   2022-11-17 22:49:10\n",
      "\n",
      "UnitPeriodLinearFit  Completed 714777 of 714777 (100.0%)   2022-11-17 22:49:13\n",
      "UnitWaveformWidth    Completed 618963 of 618963 (100.0%)   2022-11-17 22:49:15\n",
      "\n",
      "SessionLevelForagingSummary Completed 1016 of 1797 (56.5%)   2022-11-17 22:49:16\n",
      "SessionLevelForagingLickingPSTH Completed 1253 of 1797 (69.7%)   2022-11-17 22:49:17\n",
      "UnitLevelForagingEphysReportAllInOne Completed 3706 of 4588 (80.8%)   2022-11-17 22:49:19\n",
      "\n",
      "------------------------\n",
      "\n"
     ]
    }
   ],
   "source": [
    "show_progress(range(len(my_tables)))"
   ]
  },
  {
   "cell_type": "code",
   "execution_count": 207,
   "id": "cbc29796-ffe6-4784-9d9a-d57a04bf6b08",
   "metadata": {},
   "outputs": [
    {
     "data": {
      "text/html": [
       "\n",
       "    \n",
       "    <style type=\"text/css\">\n",
       "        .Relation{\n",
       "            border-collapse:collapse;\n",
       "        }\n",
       "        .Relation th{\n",
       "            background: #A0A0A0; color: #ffffff; padding:4px; border:#f0e0e0 1px solid;\n",
       "            font-weight: normal; font-family: monospace; font-size: 100%;\n",
       "        }\n",
       "        .Relation td{\n",
       "            padding:4px; border:#f0e0e0 1px solid; font-size:100%;\n",
       "        }\n",
       "        .Relation tr:nth-child(odd){\n",
       "            background: #ffffff;\n",
       "        }\n",
       "        .Relation tr:nth-child(even){\n",
       "            background: #f3f1ff;\n",
       "        }\n",
       "        /* Tooltip container */\n",
       "        .djtooltip {\n",
       "        }\n",
       "        /* Tooltip text */\n",
       "        .djtooltip .djtooltiptext {\n",
       "            visibility: hidden;\n",
       "            width: 120px;\n",
       "            background-color: black;\n",
       "            color: #fff;\n",
       "            text-align: center;\n",
       "            padding: 5px 0;\n",
       "            border-radius: 6px;\n",
       "            /* Position the tooltip text - see examples below! */\n",
       "            position: absolute;\n",
       "            z-index: 1;\n",
       "        }\n",
       "        #primary {\n",
       "            font-weight: bold;\n",
       "            color: black;\n",
       "        }\n",
       "        #nonprimary {\n",
       "            font-weight: normal;\n",
       "            color: white;\n",
       "        }\n",
       "\n",
       "        /* Show the tooltip text when you mouse over the tooltip container */\n",
       "        .djtooltip:hover .djtooltiptext {\n",
       "            visibility: visible;\n",
       "        }\n",
       "    </style>\n",
       "    \n",
       "    \n",
       "        <div style=\"max-height:1000px;max-width:1500px;overflow:auto;\">\n",
       "        <table border=\"1\" class=\"Relation\">\n",
       "            <thead> <tr style=\"text-align: right;\"> <th> <div class=\"djtooltip\">\n",
       "                            <p id=\"primary\">subject_id</p>\n",
       "                            <span class=\"djtooltiptext\">institution 6 digit animal ID</span>\n",
       "                        </div></th><th><div class=\"djtooltip\">\n",
       "                            <p id=\"primary\">session</p>\n",
       "                            <span class=\"djtooltiptext\">session number</span>\n",
       "                        </div></th><th><div class=\"djtooltip\">\n",
       "                            <p id=\"nonprimary\">count</p>\n",
       "                            <span class=\"djtooltiptext\">calculated attribute</span>\n",
       "                        </div> </th> </tr> </thead>\n",
       "            <tbody> <tr> <td>473361</td>\n",
       "<td>57</td>\n",
       "<td>118</td></tr><tr><td>473361</td>\n",
       "<td>59</td>\n",
       "<td>17</td></tr><tr><td>482353</td>\n",
       "<td>42</td>\n",
       "<td>385</td></tr><tr><td>482353</td>\n",
       "<td>43</td>\n",
       "<td>362</td> </tr> </tbody>\n",
       "        </table>\n",
       "        \n",
       "        <p>Total: 4</p></div>\n",
       "        "
      ],
      "text/plain": [
       "*subject_id    *session    count    \n",
       "+------------+ +---------+ +-------+\n",
       "473361         57          118      \n",
       "473361         59          17       \n",
       "482353         42          385      \n",
       "482353         43          362      \n",
       " (Total: 4)"
      ]
     },
     "execution_count": 207,
     "metadata": {},
     "output_type": "execute_result"
    }
   ],
   "source": [
    "dj.U('subject_id', 'session').aggr(report.UnitLevelForagingEphysReportAllInOne.key_source - report.UnitLevelForagingEphysReportAllInOne, count='COUNT(*)')"
   ]
  },
  {
   "cell_type": "code",
   "execution_count": 165,
   "id": "49d32930-5b95-484f-a2eb-6266d76c99e7",
   "metadata": {},
   "outputs": [],
   "source": [
    "q_key_electrode = (lab.ProbeType.Electrode * lab.ElectrodeConfig.Electrode * ephys.ProbeInsertion * ephys.Unit)\n",
    "four_shank = q_key_electrode & 'probe_type = \"neuropixels 2.0 - MS\"'"
   ]
  },
  {
   "cell_type": "code",
   "execution_count": 167,
   "id": "0f144667-847c-4633-9eec-650a206be045",
   "metadata": {},
   "outputs": [
    {
     "name": "stderr",
     "output_type": "stream",
     "text": [
      "[2022-11-17 21:29:03,279][INFO]: Deleting 1074 rows from `map_v2_report`.`__unit_level_foraging_ephys_report_all_in_one`\n"
     ]
    },
    {
     "name": "stdin",
     "output_type": "stream",
     "text": [
      "Commit deletes? [yes, No]:  yes\n"
     ]
    },
    {
     "name": "stdout",
     "output_type": "stream",
     "text": [
      "Deletes committed.\n"
     ]
    },
    {
     "data": {
      "text/plain": [
       "1074"
      ]
     },
     "execution_count": 167,
     "metadata": {},
     "output_type": "execute_result"
    }
   ],
   "source": [
    "(report.UnitLevelForagingEphysReportAllInOne & four_shank).delete()"
   ]
  },
  {
   "cell_type": "code",
   "execution_count": 206,
   "id": "effd9ef3-d1e9-49c3-bd55-2ecac643f254",
   "metadata": {},
   "outputs": [
    {
     "data": {
      "text/plain": [
       "4588"
      ]
     },
     "execution_count": 206,
     "metadata": {},
     "output_type": "execute_result"
    }
   ],
   "source": [
    "len(key_source)"
   ]
  },
  {
   "cell_type": "code",
   "execution_count": 209,
   "id": "0345cf60-8711-44f0-a03d-f7310593d2b1",
   "metadata": {},
   "outputs": [
    {
     "data": {
      "text/plain": [
       "Schema `map_v2_report`"
      ]
     },
     "execution_count": 209,
     "metadata": {},
     "output_type": "execute_result"
    }
   ],
   "source": [
    "s"
   ]
  },
  {
   "cell_type": "code",
   "execution_count": null,
   "id": "1f5b4ab9-888d-42e3-bb84-dc97002a850e",
   "metadata": {},
   "outputs": [],
   "source": [
    "s.external['report_store']"
   ]
  },
  {
   "cell_type": "code",
   "execution_count": 217,
   "id": "3551bba3-ad54-4308-8125-1b26a13d2463",
   "metadata": {},
   "outputs": [
    {
     "data": {
      "text/html": [
       "\n",
       "    \n",
       "    <style type=\"text/css\">\n",
       "        .Relation{\n",
       "            border-collapse:collapse;\n",
       "        }\n",
       "        .Relation th{\n",
       "            background: #A0A0A0; color: #ffffff; padding:4px; border:#f0e0e0 1px solid;\n",
       "            font-weight: normal; font-family: monospace; font-size: 100%;\n",
       "        }\n",
       "        .Relation td{\n",
       "            padding:4px; border:#f0e0e0 1px solid; font-size:100%;\n",
       "        }\n",
       "        .Relation tr:nth-child(odd){\n",
       "            background: #ffffff;\n",
       "        }\n",
       "        .Relation tr:nth-child(even){\n",
       "            background: #f3f1ff;\n",
       "        }\n",
       "        /* Tooltip container */\n",
       "        .djtooltip {\n",
       "        }\n",
       "        /* Tooltip text */\n",
       "        .djtooltip .djtooltiptext {\n",
       "            visibility: hidden;\n",
       "            width: 120px;\n",
       "            background-color: black;\n",
       "            color: #fff;\n",
       "            text-align: center;\n",
       "            padding: 5px 0;\n",
       "            border-radius: 6px;\n",
       "            /* Position the tooltip text - see examples below! */\n",
       "            position: absolute;\n",
       "            z-index: 1;\n",
       "        }\n",
       "        #primary {\n",
       "            font-weight: bold;\n",
       "            color: black;\n",
       "        }\n",
       "        #nonprimary {\n",
       "            font-weight: normal;\n",
       "            color: white;\n",
       "        }\n",
       "\n",
       "        /* Show the tooltip text when you mouse over the tooltip container */\n",
       "        .djtooltip:hover .djtooltiptext {\n",
       "            visibility: visible;\n",
       "        }\n",
       "    </style>\n",
       "    \n",
       "    <b></b>\n",
       "        <div style=\"max-height:1000px;max-width:1500px;overflow:auto;\">\n",
       "        <table border=\"1\" class=\"Relation\">\n",
       "            <thead> <tr style=\"text-align: right;\"> <th> <div class=\"djtooltip\">\n",
       "                            <p id=\"primary\">subject_id</p>\n",
       "                            <span class=\"djtooltiptext\">institution 6 digit animal ID</span>\n",
       "                        </div></th><th><div class=\"djtooltip\">\n",
       "                            <p id=\"primary\">session</p>\n",
       "                            <span class=\"djtooltiptext\">session number</span>\n",
       "                        </div></th><th><div class=\"djtooltip\">\n",
       "                            <p id=\"primary\">insertion_number</p>\n",
       "                            <span class=\"djtooltiptext\"></span>\n",
       "                        </div></th><th><div class=\"djtooltip\">\n",
       "                            <p id=\"primary\">clustering_method</p>\n",
       "                            <span class=\"djtooltiptext\"></span>\n",
       "                        </div></th><th><div class=\"djtooltip\">\n",
       "                            <p id=\"primary\">unit</p>\n",
       "                            <span class=\"djtooltiptext\"></span>\n",
       "                        </div></th><th><div class=\"djtooltip\">\n",
       "                            <p id=\"nonprimary\">unit_foraging_all_in_one</p>\n",
       "                            <span class=\"djtooltiptext\">all in one figure (Jeremiah)</span>\n",
       "                        </div> </th> </tr> </thead>\n",
       "            <tbody> <tr> <td>473360</td>\n",
       "<td>49</td>\n",
       "<td>2</td>\n",
       "<td>kilosort2</td>\n",
       "<td>0</td>\n",
       "<td>=BLOB=</td></tr><tr><td>473360</td>\n",
       "<td>49</td>\n",
       "<td>2</td>\n",
       "<td>kilosort2</td>\n",
       "<td>13</td>\n",
       "<td>=BLOB=</td></tr><tr><td>473360</td>\n",
       "<td>49</td>\n",
       "<td>2</td>\n",
       "<td>kilosort2</td>\n",
       "<td>16</td>\n",
       "<td>=BLOB=</td></tr><tr><td>473360</td>\n",
       "<td>49</td>\n",
       "<td>2</td>\n",
       "<td>kilosort2</td>\n",
       "<td>24</td>\n",
       "<td>=BLOB=</td></tr><tr><td>473360</td>\n",
       "<td>49</td>\n",
       "<td>2</td>\n",
       "<td>kilosort2</td>\n",
       "<td>25</td>\n",
       "<td>=BLOB=</td></tr><tr><td>473360</td>\n",
       "<td>49</td>\n",
       "<td>2</td>\n",
       "<td>kilosort2</td>\n",
       "<td>27</td>\n",
       "<td>=BLOB=</td></tr><tr><td>473360</td>\n",
       "<td>49</td>\n",
       "<td>2</td>\n",
       "<td>kilosort2</td>\n",
       "<td>28</td>\n",
       "<td>=BLOB=</td></tr><tr><td>473360</td>\n",
       "<td>49</td>\n",
       "<td>2</td>\n",
       "<td>kilosort2</td>\n",
       "<td>33</td>\n",
       "<td>=BLOB=</td></tr><tr><td>473360</td>\n",
       "<td>49</td>\n",
       "<td>2</td>\n",
       "<td>kilosort2</td>\n",
       "<td>43</td>\n",
       "<td>=BLOB=</td></tr><tr><td>473360</td>\n",
       "<td>49</td>\n",
       "<td>2</td>\n",
       "<td>kilosort2</td>\n",
       "<td>44</td>\n",
       "<td>=BLOB=</td></tr><tr><td>473360</td>\n",
       "<td>49</td>\n",
       "<td>2</td>\n",
       "<td>kilosort2</td>\n",
       "<td>46</td>\n",
       "<td>=BLOB=</td></tr><tr><td>473360</td>\n",
       "<td>49</td>\n",
       "<td>2</td>\n",
       "<td>kilosort2</td>\n",
       "<td>52</td>\n",
       "<td>=BLOB=</td></tr><tr><td>473360</td>\n",
       "<td>49</td>\n",
       "<td>2</td>\n",
       "<td>kilosort2</td>\n",
       "<td>54</td>\n",
       "<td>=BLOB=</td></tr><tr><td>473360</td>\n",
       "<td>49</td>\n",
       "<td>2</td>\n",
       "<td>kilosort2</td>\n",
       "<td>55</td>\n",
       "<td>=BLOB=</td></tr><tr><td>473360</td>\n",
       "<td>49</td>\n",
       "<td>2</td>\n",
       "<td>kilosort2</td>\n",
       "<td>56</td>\n",
       "<td>=BLOB=</td></tr><tr><td>473360</td>\n",
       "<td>49</td>\n",
       "<td>2</td>\n",
       "<td>kilosort2</td>\n",
       "<td>60</td>\n",
       "<td>=BLOB=</td></tr><tr><td>473360</td>\n",
       "<td>49</td>\n",
       "<td>2</td>\n",
       "<td>kilosort2</td>\n",
       "<td>62</td>\n",
       "<td>=BLOB=</td></tr><tr><td>473360</td>\n",
       "<td>49</td>\n",
       "<td>2</td>\n",
       "<td>kilosort2</td>\n",
       "<td>63</td>\n",
       "<td>=BLOB=</td></tr><tr><td>473360</td>\n",
       "<td>49</td>\n",
       "<td>2</td>\n",
       "<td>kilosort2</td>\n",
       "<td>65</td>\n",
       "<td>=BLOB=</td></tr><tr><td>473360</td>\n",
       "<td>49</td>\n",
       "<td>2</td>\n",
       "<td>kilosort2</td>\n",
       "<td>66</td>\n",
       "<td>=BLOB=</td></tr><tr><td>473360</td>\n",
       "<td>49</td>\n",
       "<td>2</td>\n",
       "<td>kilosort2</td>\n",
       "<td>69</td>\n",
       "<td>=BLOB=</td></tr><tr><td>473360</td>\n",
       "<td>49</td>\n",
       "<td>2</td>\n",
       "<td>kilosort2</td>\n",
       "<td>70</td>\n",
       "<td>=BLOB=</td></tr><tr><td>473360</td>\n",
       "<td>49</td>\n",
       "<td>2</td>\n",
       "<td>kilosort2</td>\n",
       "<td>73</td>\n",
       "<td>=BLOB=</td></tr><tr><td>473360</td>\n",
       "<td>49</td>\n",
       "<td>2</td>\n",
       "<td>kilosort2</td>\n",
       "<td>74</td>\n",
       "<td>=BLOB=</td></tr><tr><td>473360</td>\n",
       "<td>49</td>\n",
       "<td>2</td>\n",
       "<td>kilosort2</td>\n",
       "<td>79</td>\n",
       "<td>=BLOB=</td></tr><tr><td>473360</td>\n",
       "<td>49</td>\n",
       "<td>2</td>\n",
       "<td>kilosort2</td>\n",
       "<td>82</td>\n",
       "<td>=BLOB=</td></tr><tr><td>473360</td>\n",
       "<td>49</td>\n",
       "<td>2</td>\n",
       "<td>kilosort2</td>\n",
       "<td>87</td>\n",
       "<td>=BLOB=</td></tr><tr><td>473360</td>\n",
       "<td>49</td>\n",
       "<td>2</td>\n",
       "<td>kilosort2</td>\n",
       "<td>91</td>\n",
       "<td>=BLOB=</td></tr><tr><td>473360</td>\n",
       "<td>49</td>\n",
       "<td>2</td>\n",
       "<td>kilosort2</td>\n",
       "<td>93</td>\n",
       "<td>=BLOB=</td></tr><tr><td>473360</td>\n",
       "<td>49</td>\n",
       "<td>2</td>\n",
       "<td>kilosort2</td>\n",
       "<td>94</td>\n",
       "<td>=BLOB=</td> </tr> </tbody>\n",
       "        </table>\n",
       "        <p>...</p>\n",
       "        <p>Total: 5304</p></div>\n",
       "        "
      ],
      "text/plain": [
       "*subject_id    *session    *insertion_number    *clustering_method    *unit    unit_forag\n",
       "+------------+ +---------+ +------------------+ +-------------------+ +------+ +--------+\n",
       "473360         49          2                    kilosort2             0        =BLOB=    \n",
       "473360         49          2                    kilosort2             13       =BLOB=    \n",
       "473360         49          2                    kilosort2             16       =BLOB=    \n",
       "473360         49          2                    kilosort2             24       =BLOB=    \n",
       "473360         49          2                    kilosort2             25       =BLOB=    \n",
       "473360         49          2                    kilosort2             27       =BLOB=    \n",
       "473360         49          2                    kilosort2             28       =BLOB=    \n",
       "473360         49          2                    kilosort2             33       =BLOB=    \n",
       "473360         49          2                    kilosort2             43       =BLOB=    \n",
       "473360         49          2                    kilosort2             44       =BLOB=    \n",
       "473360         49          2                    kilosort2             46       =BLOB=    \n",
       "473360         49          2                    kilosort2             52       =BLOB=    \n",
       "473360         49          2                    kilosort2             54       =BLOB=    \n",
       "473360         49          2                    kilosort2             55       =BLOB=    \n",
       "473360         49          2                    kilosort2             56       =BLOB=    \n",
       "473360         49          2                    kilosort2             60       =BLOB=    \n",
       "473360         49          2                    kilosort2             62       =BLOB=    \n",
       "473360         49          2                    kilosort2             63       =BLOB=    \n",
       "473360         49          2                    kilosort2             65       =BLOB=    \n",
       "473360         49          2                    kilosort2             66       =BLOB=    \n",
       "473360         49          2                    kilosort2             69       =BLOB=    \n",
       "473360         49          2                    kilosort2             70       =BLOB=    \n",
       "473360         49          2                    kilosort2             73       =BLOB=    \n",
       "473360         49          2                    kilosort2             74       =BLOB=    \n",
       "473360         49          2                    kilosort2             79       =BLOB=    \n",
       "473360         49          2                    kilosort2             82       =BLOB=    \n",
       "473360         49          2                    kilosort2             87       =BLOB=    \n",
       "473360         49          2                    kilosort2             91       =BLOB=    \n",
       "473360         49          2                    kilosort2             93       =BLOB=    \n",
       "473360         49          2                    kilosort2             94       =BLOB=    \n",
       "   ...\n",
       " (Total: 5304)"
      ]
     },
     "execution_count": 217,
     "metadata": {},
     "output_type": "execute_result"
    }
   ],
   "source": [
    "report.UnitLevelForagingEphysReportAllInOne()"
   ]
  },
  {
   "cell_type": "code",
   "execution_count": 7,
   "id": "5cef9fcd-e735-4687-ae34-01ed17d842ae",
   "metadata": {},
   "outputs": [
    {
     "name": "stderr",
     "output_type": "stream",
     "text": [
      "[2022-11-17 23:09:04,010][INFO]: Deleting 5304 rows from `map_v2_report`.`__unit_level_foraging_ephys_report_all_in_one`\n"
     ]
    },
    {
     "name": "stdin",
     "output_type": "stream",
     "text": [
      "Commit deletes? [yes, No]:  yes\n"
     ]
    },
    {
     "name": "stdout",
     "output_type": "stream",
     "text": [
      "Deletes committed.\n"
     ]
    },
    {
     "data": {
      "text/plain": [
       "5304"
      ]
     },
     "execution_count": 7,
     "metadata": {},
     "output_type": "execute_result"
    }
   ],
   "source": [
    "report.UnitLevelForagingEphysReportAllInOne.delete()"
   ]
  },
  {
   "cell_type": "code",
   "execution_count": 8,
   "id": "2ef9f975-8fee-4ea3-96fb-8feeb1f0eac8",
   "metadata": {},
   "outputs": [
    {
     "data": {
      "text/plain": [
       "4588"
      ]
     },
     "execution_count": 8,
     "metadata": {},
     "output_type": "execute_result"
    }
   ],
   "source": [
    "len(report.UnitLevelForagingEphysReportAllInOne.key_source)"
   ]
  },
  {
   "cell_type": "code",
   "execution_count": 9,
   "id": "08a6f2be-2e3e-4398-bcb9-62caaac191b6",
   "metadata": {},
   "outputs": [
    {
     "name": "stderr",
     "output_type": "stream",
     "text": [
      "UnitLevelForagingEphysReportAllInOne:   0%|          | 0/4588 [00:00<?, ?it/s]"
     ]
    },
    {
     "name": "stdout",
     "output_type": "stream",
     "text": [
      "Generated /home/jupyter/s3-drive/report/all_units/02.52_Medial preoptic area_HH08_20210812_2_kilosort2_u013_unit_foraging_all_in_one.png\n"
     ]
    },
    {
     "name": "stderr",
     "output_type": "stream",
     "text": [
      "UnitLevelForagingEphysReportAllInOne:   0%|          | 0/4588 [00:20<?, ?it/s]\n"
     ]
    },
    {
     "ename": "DataJointError",
     "evalue": "A different version of 'all_units/02.52_Medial preoptic area_HH08_20210812_2_kilosort2_u013_unit_foraging_all_in_one.png' has already been placed.",
     "output_type": "error",
     "traceback": [
      "\u001b[0;31m---------------------------------------------------------------------------\u001b[0m",
      "\u001b[0;31mDataJointError\u001b[0m                            Traceback (most recent call last)",
      "\u001b[0;32m/tmp/ipykernel_24139/520348556.py\u001b[0m in \u001b[0;36m<module>\u001b[0;34m\u001b[0m\n\u001b[0;32m----> 1\u001b[0;31m \u001b[0mreport\u001b[0m\u001b[0;34m.\u001b[0m\u001b[0mUnitLevelForagingEphysReportAllInOne\u001b[0m\u001b[0;34m.\u001b[0m\u001b[0mpopulate\u001b[0m\u001b[0;34m(\u001b[0m\u001b[0mdisplay_progress\u001b[0m\u001b[0;34m=\u001b[0m\u001b[0;32mTrue\u001b[0m\u001b[0;34m)\u001b[0m\u001b[0;34m\u001b[0m\u001b[0;34m\u001b[0m\u001b[0m\n\u001b[0m",
      "\u001b[0;32m/opt/conda/lib/python3.7/site-packages/datajoint/autopopulate.py\u001b[0m in \u001b[0;36mpopulate\u001b[0;34m(self, suppress_errors, return_exception_objects, reserve_jobs, order, limit, max_calls, display_progress, processes, make_kwargs, *restrictions)\u001b[0m\n\u001b[1;32m    228\u001b[0m                 \u001b[0mtqdm\u001b[0m\u001b[0;34m(\u001b[0m\u001b[0mkeys\u001b[0m\u001b[0;34m,\u001b[0m \u001b[0mdesc\u001b[0m\u001b[0;34m=\u001b[0m\u001b[0mself\u001b[0m\u001b[0;34m.\u001b[0m\u001b[0m__class__\u001b[0m\u001b[0;34m.\u001b[0m\u001b[0m__name__\u001b[0m\u001b[0;34m)\u001b[0m \u001b[0;32mif\u001b[0m \u001b[0mdisplay_progress\u001b[0m \u001b[0;32melse\u001b[0m \u001b[0mkeys\u001b[0m\u001b[0;34m\u001b[0m\u001b[0;34m\u001b[0m\u001b[0m\n\u001b[1;32m    229\u001b[0m             ):\n\u001b[0;32m--> 230\u001b[0;31m                 \u001b[0merror\u001b[0m \u001b[0;34m=\u001b[0m \u001b[0mself\u001b[0m\u001b[0;34m.\u001b[0m\u001b[0m_populate1\u001b[0m\u001b[0;34m(\u001b[0m\u001b[0mkey\u001b[0m\u001b[0;34m,\u001b[0m \u001b[0mjobs\u001b[0m\u001b[0;34m,\u001b[0m \u001b[0;34m**\u001b[0m\u001b[0mpopulate_kwargs\u001b[0m\u001b[0;34m)\u001b[0m\u001b[0;34m\u001b[0m\u001b[0;34m\u001b[0m\u001b[0m\n\u001b[0m\u001b[1;32m    231\u001b[0m                 \u001b[0;32mif\u001b[0m \u001b[0merror\u001b[0m \u001b[0;32mis\u001b[0m \u001b[0;32mnot\u001b[0m \u001b[0;32mNone\u001b[0m\u001b[0;34m:\u001b[0m\u001b[0;34m\u001b[0m\u001b[0;34m\u001b[0m\u001b[0m\n\u001b[1;32m    232\u001b[0m                     \u001b[0merror_list\u001b[0m\u001b[0;34m.\u001b[0m\u001b[0mappend\u001b[0m\u001b[0;34m(\u001b[0m\u001b[0merror\u001b[0m\u001b[0;34m)\u001b[0m\u001b[0;34m\u001b[0m\u001b[0;34m\u001b[0m\u001b[0m\n",
      "\u001b[0;32m/opt/conda/lib/python3.7/site-packages/datajoint/autopopulate.py\u001b[0m in \u001b[0;36m_populate1\u001b[0;34m(self, key, jobs, suppress_errors, return_exception_objects, make_kwargs)\u001b[0m\n\u001b[1;32m    279\u001b[0m                 \u001b[0mself\u001b[0m\u001b[0;34m.\u001b[0m\u001b[0m__class__\u001b[0m\u001b[0;34m.\u001b[0m\u001b[0m_allow_insert\u001b[0m \u001b[0;34m=\u001b[0m \u001b[0;32mTrue\u001b[0m\u001b[0;34m\u001b[0m\u001b[0;34m\u001b[0m\u001b[0m\n\u001b[1;32m    280\u001b[0m                 \u001b[0;32mtry\u001b[0m\u001b[0;34m:\u001b[0m\u001b[0;34m\u001b[0m\u001b[0;34m\u001b[0m\u001b[0m\n\u001b[0;32m--> 281\u001b[0;31m                     \u001b[0mmake\u001b[0m\u001b[0;34m(\u001b[0m\u001b[0mdict\u001b[0m\u001b[0;34m(\u001b[0m\u001b[0mkey\u001b[0m\u001b[0;34m)\u001b[0m\u001b[0;34m,\u001b[0m \u001b[0;34m**\u001b[0m\u001b[0;34m(\u001b[0m\u001b[0mmake_kwargs\u001b[0m \u001b[0;32mor\u001b[0m \u001b[0;34m{\u001b[0m\u001b[0;34m}\u001b[0m\u001b[0;34m)\u001b[0m\u001b[0;34m)\u001b[0m\u001b[0;34m\u001b[0m\u001b[0;34m\u001b[0m\u001b[0m\n\u001b[0m\u001b[1;32m    282\u001b[0m                 \u001b[0;32mexcept\u001b[0m \u001b[0;34m(\u001b[0m\u001b[0mKeyboardInterrupt\u001b[0m\u001b[0;34m,\u001b[0m \u001b[0mSystemExit\u001b[0m\u001b[0;34m,\u001b[0m \u001b[0mException\u001b[0m\u001b[0;34m)\u001b[0m \u001b[0;32mas\u001b[0m \u001b[0merror\u001b[0m\u001b[0;34m:\u001b[0m\u001b[0;34m\u001b[0m\u001b[0;34m\u001b[0m\u001b[0m\n\u001b[1;32m    283\u001b[0m                     \u001b[0;32mtry\u001b[0m\u001b[0;34m:\u001b[0m\u001b[0;34m\u001b[0m\u001b[0;34m\u001b[0m\u001b[0m\n",
      "\u001b[0;32m~/map-ephys/pipeline/report.py\u001b[0m in \u001b[0;36mmake\u001b[0;34m(self, key)\u001b[0m\n\u001b[1;32m    945\u001b[0m \u001b[0;34m\u001b[0m\u001b[0m\n\u001b[1;32m    946\u001b[0m         \u001b[0mplt\u001b[0m\u001b[0;34m.\u001b[0m\u001b[0mclose\u001b[0m\u001b[0;34m(\u001b[0m\u001b[0;34m'all'\u001b[0m\u001b[0;34m)\u001b[0m\u001b[0;34m\u001b[0m\u001b[0;34m\u001b[0m\u001b[0m\n\u001b[0;32m--> 947\u001b[0;31m         \u001b[0mself\u001b[0m\u001b[0;34m.\u001b[0m\u001b[0minsert1\u001b[0m\u001b[0;34m(\u001b[0m\u001b[0;34m{\u001b[0m\u001b[0;34m**\u001b[0m\u001b[0mkey\u001b[0m\u001b[0;34m,\u001b[0m \u001b[0;34m**\u001b[0m\u001b[0mfig_dict\u001b[0m\u001b[0;34m}\u001b[0m\u001b[0;34m)\u001b[0m\u001b[0;34m\u001b[0m\u001b[0;34m\u001b[0m\u001b[0m\n\u001b[0m\u001b[1;32m    948\u001b[0m \u001b[0;34m\u001b[0m\u001b[0m\n\u001b[1;32m    949\u001b[0m         \u001b[0;32mpass\u001b[0m\u001b[0;34m\u001b[0m\u001b[0;34m\u001b[0m\u001b[0m\n",
      "\u001b[0;32m/opt/conda/lib/python3.7/site-packages/datajoint/table.py\u001b[0m in \u001b[0;36minsert1\u001b[0;34m(self, row, **kwargs)\u001b[0m\n\u001b[1;32m    332\u001b[0m             \u001b[0;32mas\u001b[0m \u001b[0mone\u001b[0m \u001b[0mrow\u001b[0m\u001b[0;34m.\u001b[0m\u001b[0;34m\u001b[0m\u001b[0;34m\u001b[0m\u001b[0m\n\u001b[1;32m    333\u001b[0m         \"\"\"\n\u001b[0;32m--> 334\u001b[0;31m         \u001b[0mself\u001b[0m\u001b[0;34m.\u001b[0m\u001b[0minsert\u001b[0m\u001b[0;34m(\u001b[0m\u001b[0;34m(\u001b[0m\u001b[0mrow\u001b[0m\u001b[0;34m,\u001b[0m\u001b[0;34m)\u001b[0m\u001b[0;34m,\u001b[0m \u001b[0;34m**\u001b[0m\u001b[0mkwargs\u001b[0m\u001b[0;34m)\u001b[0m\u001b[0;34m\u001b[0m\u001b[0;34m\u001b[0m\u001b[0m\n\u001b[0m\u001b[1;32m    335\u001b[0m \u001b[0;34m\u001b[0m\u001b[0m\n\u001b[1;32m    336\u001b[0m     def insert(\n",
      "\u001b[0;32m/opt/conda/lib/python3.7/site-packages/datajoint/table.py\u001b[0m in \u001b[0;36minsert\u001b[0;34m(self, rows, replace, skip_duplicates, ignore_extra_fields, allow_direct_insert)\u001b[0m\n\u001b[1;32m    409\u001b[0m         rows = list(\n\u001b[1;32m    410\u001b[0m             \u001b[0mself\u001b[0m\u001b[0;34m.\u001b[0m\u001b[0m__make_row_to_insert\u001b[0m\u001b[0;34m(\u001b[0m\u001b[0mrow\u001b[0m\u001b[0;34m,\u001b[0m \u001b[0mfield_list\u001b[0m\u001b[0;34m,\u001b[0m \u001b[0mignore_extra_fields\u001b[0m\u001b[0;34m)\u001b[0m\u001b[0;34m\u001b[0m\u001b[0;34m\u001b[0m\u001b[0m\n\u001b[0;32m--> 411\u001b[0;31m             \u001b[0;32mfor\u001b[0m \u001b[0mrow\u001b[0m \u001b[0;32min\u001b[0m \u001b[0mrows\u001b[0m\u001b[0;34m\u001b[0m\u001b[0;34m\u001b[0m\u001b[0m\n\u001b[0m\u001b[1;32m    412\u001b[0m         )\n\u001b[1;32m    413\u001b[0m         \u001b[0;32mif\u001b[0m \u001b[0mrows\u001b[0m\u001b[0;34m:\u001b[0m\u001b[0;34m\u001b[0m\u001b[0;34m\u001b[0m\u001b[0m\n",
      "\u001b[0;32m/opt/conda/lib/python3.7/site-packages/datajoint/table.py\u001b[0m in \u001b[0;36m<genexpr>\u001b[0;34m(.0)\u001b[0m\n\u001b[1;32m    409\u001b[0m         rows = list(\n\u001b[1;32m    410\u001b[0m             \u001b[0mself\u001b[0m\u001b[0;34m.\u001b[0m\u001b[0m__make_row_to_insert\u001b[0m\u001b[0;34m(\u001b[0m\u001b[0mrow\u001b[0m\u001b[0;34m,\u001b[0m \u001b[0mfield_list\u001b[0m\u001b[0;34m,\u001b[0m \u001b[0mignore_extra_fields\u001b[0m\u001b[0;34m)\u001b[0m\u001b[0;34m\u001b[0m\u001b[0;34m\u001b[0m\u001b[0m\n\u001b[0;32m--> 411\u001b[0;31m             \u001b[0;32mfor\u001b[0m \u001b[0mrow\u001b[0m \u001b[0;32min\u001b[0m \u001b[0mrows\u001b[0m\u001b[0;34m\u001b[0m\u001b[0;34m\u001b[0m\u001b[0m\n\u001b[0m\u001b[1;32m    412\u001b[0m         )\n\u001b[1;32m    413\u001b[0m         \u001b[0;32mif\u001b[0m \u001b[0mrows\u001b[0m\u001b[0;34m:\u001b[0m\u001b[0;34m\u001b[0m\u001b[0;34m\u001b[0m\u001b[0m\n",
      "\u001b[0;32m/opt/conda/lib/python3.7/site-packages/datajoint/table.py\u001b[0m in \u001b[0;36m__make_row_to_insert\u001b[0;34m(self, row, field_list, ignore_extra_fields)\u001b[0m\n\u001b[1;32m    896\u001b[0m             attributes = [\n\u001b[1;32m    897\u001b[0m                 \u001b[0mself\u001b[0m\u001b[0;34m.\u001b[0m\u001b[0m__make_placeholder\u001b[0m\u001b[0;34m(\u001b[0m\u001b[0mname\u001b[0m\u001b[0;34m,\u001b[0m \u001b[0mrow\u001b[0m\u001b[0;34m[\u001b[0m\u001b[0mname\u001b[0m\u001b[0;34m]\u001b[0m\u001b[0;34m,\u001b[0m \u001b[0mignore_extra_fields\u001b[0m\u001b[0;34m)\u001b[0m\u001b[0;34m\u001b[0m\u001b[0;34m\u001b[0m\u001b[0m\n\u001b[0;32m--> 898\u001b[0;31m                 \u001b[0;32mfor\u001b[0m \u001b[0mname\u001b[0m \u001b[0;32min\u001b[0m \u001b[0mself\u001b[0m\u001b[0;34m.\u001b[0m\u001b[0mheading\u001b[0m\u001b[0;34m\u001b[0m\u001b[0;34m\u001b[0m\u001b[0m\n\u001b[0m\u001b[1;32m    899\u001b[0m                 \u001b[0;32mif\u001b[0m \u001b[0mname\u001b[0m \u001b[0;32min\u001b[0m \u001b[0mrow\u001b[0m\u001b[0;34m\u001b[0m\u001b[0;34m\u001b[0m\u001b[0m\n\u001b[1;32m    900\u001b[0m             ]\n",
      "\u001b[0;32m/opt/conda/lib/python3.7/site-packages/datajoint/table.py\u001b[0m in \u001b[0;36m<listcomp>\u001b[0;34m(.0)\u001b[0m\n\u001b[1;32m    897\u001b[0m                 \u001b[0mself\u001b[0m\u001b[0;34m.\u001b[0m\u001b[0m__make_placeholder\u001b[0m\u001b[0;34m(\u001b[0m\u001b[0mname\u001b[0m\u001b[0;34m,\u001b[0m \u001b[0mrow\u001b[0m\u001b[0;34m[\u001b[0m\u001b[0mname\u001b[0m\u001b[0;34m]\u001b[0m\u001b[0;34m,\u001b[0m \u001b[0mignore_extra_fields\u001b[0m\u001b[0;34m)\u001b[0m\u001b[0;34m\u001b[0m\u001b[0;34m\u001b[0m\u001b[0m\n\u001b[1;32m    898\u001b[0m                 \u001b[0;32mfor\u001b[0m \u001b[0mname\u001b[0m \u001b[0;32min\u001b[0m \u001b[0mself\u001b[0m\u001b[0;34m.\u001b[0m\u001b[0mheading\u001b[0m\u001b[0;34m\u001b[0m\u001b[0;34m\u001b[0m\u001b[0m\n\u001b[0;32m--> 899\u001b[0;31m                 \u001b[0;32mif\u001b[0m \u001b[0mname\u001b[0m \u001b[0;32min\u001b[0m \u001b[0mrow\u001b[0m\u001b[0;34m\u001b[0m\u001b[0;34m\u001b[0m\u001b[0m\n\u001b[0m\u001b[1;32m    900\u001b[0m             ]\n\u001b[1;32m    901\u001b[0m         \u001b[0;32melse\u001b[0m\u001b[0;34m:\u001b[0m  \u001b[0;31m# positional\u001b[0m\u001b[0;34m\u001b[0m\u001b[0;34m\u001b[0m\u001b[0m\n",
      "\u001b[0;32m/opt/conda/lib/python3.7/site-packages/datajoint/table.py\u001b[0m in \u001b[0;36m__make_placeholder\u001b[0;34m(self, name, value, ignore_extra_fields)\u001b[0m\n\u001b[1;32m    856\u001b[0m                     )\n\u001b[1;32m    857\u001b[0m             \u001b[0;32melif\u001b[0m \u001b[0mattr\u001b[0m\u001b[0;34m.\u001b[0m\u001b[0mis_filepath\u001b[0m\u001b[0;34m:\u001b[0m\u001b[0;34m\u001b[0m\u001b[0;34m\u001b[0m\u001b[0m\n\u001b[0;32m--> 858\u001b[0;31m                 \u001b[0mvalue\u001b[0m \u001b[0;34m=\u001b[0m \u001b[0mself\u001b[0m\u001b[0;34m.\u001b[0m\u001b[0mexternal\u001b[0m\u001b[0;34m[\u001b[0m\u001b[0mattr\u001b[0m\u001b[0;34m.\u001b[0m\u001b[0mstore\u001b[0m\u001b[0;34m]\u001b[0m\u001b[0;34m.\u001b[0m\u001b[0mupload_filepath\u001b[0m\u001b[0;34m(\u001b[0m\u001b[0mvalue\u001b[0m\u001b[0;34m)\u001b[0m\u001b[0;34m.\u001b[0m\u001b[0mbytes\u001b[0m\u001b[0;34m\u001b[0m\u001b[0;34m\u001b[0m\u001b[0m\n\u001b[0m\u001b[1;32m    859\u001b[0m             \u001b[0;32melif\u001b[0m \u001b[0mattr\u001b[0m\u001b[0;34m.\u001b[0m\u001b[0mnumeric\u001b[0m\u001b[0;34m:\u001b[0m\u001b[0;34m\u001b[0m\u001b[0;34m\u001b[0m\u001b[0m\n\u001b[1;32m    860\u001b[0m                 \u001b[0mvalue\u001b[0m \u001b[0;34m=\u001b[0m \u001b[0mstr\u001b[0m\u001b[0;34m(\u001b[0m\u001b[0mint\u001b[0m\u001b[0;34m(\u001b[0m\u001b[0mvalue\u001b[0m\u001b[0;34m)\u001b[0m \u001b[0;32mif\u001b[0m \u001b[0misinstance\u001b[0m\u001b[0;34m(\u001b[0m\u001b[0mvalue\u001b[0m\u001b[0;34m,\u001b[0m \u001b[0mbool\u001b[0m\u001b[0;34m)\u001b[0m \u001b[0;32melse\u001b[0m \u001b[0mvalue\u001b[0m\u001b[0;34m)\u001b[0m\u001b[0;34m\u001b[0m\u001b[0;34m\u001b[0m\u001b[0m\n",
      "\u001b[0;32m/opt/conda/lib/python3.7/site-packages/datajoint/external.py\u001b[0m in \u001b[0;36mupload_filepath\u001b[0;34m(self, local_filepath)\u001b[0m\n\u001b[1;32m    278\u001b[0m             \u001b[0;32mif\u001b[0m \u001b[0mcontents_hash\u001b[0m \u001b[0;34m!=\u001b[0m \u001b[0mcheck_hash\u001b[0m\u001b[0;34m[\u001b[0m\u001b[0;36m0\u001b[0m\u001b[0;34m]\u001b[0m\u001b[0;34m:\u001b[0m\u001b[0;34m\u001b[0m\u001b[0;34m\u001b[0m\u001b[0m\n\u001b[1;32m    279\u001b[0m                 raise DataJointError(\n\u001b[0;32m--> 280\u001b[0;31m                     \u001b[0;34mf\"A different version of '{relative_filepath}' has already been placed.\"\u001b[0m\u001b[0;34m\u001b[0m\u001b[0;34m\u001b[0m\u001b[0m\n\u001b[0m\u001b[1;32m    281\u001b[0m                 )\n\u001b[1;32m    282\u001b[0m         \u001b[0;32melse\u001b[0m\u001b[0;34m:\u001b[0m\u001b[0;34m\u001b[0m\u001b[0;34m\u001b[0m\u001b[0m\n",
      "\u001b[0;31mDataJointError\u001b[0m: A different version of 'all_units/02.52_Medial preoptic area_HH08_20210812_2_kilosort2_u013_unit_foraging_all_in_one.png' has already been placed."
     ]
    }
   ],
   "source": [
    "report.UnitLevelForagingEphysReportAllInOne.populate(display_progress=True)"
   ]
  }
 ],
 "metadata": {
  "environment": {
   "kernel": "python3",
   "name": "common-cpu.m96",
   "type": "gcloud",
   "uri": "gcr.io/deeplearning-platform-release/base-cpu:m96"
  },
  "kernelspec": {
   "display_name": "Python 3",
   "language": "python",
   "name": "python3"
  },
  "language_info": {
   "codemirror_mode": {
    "name": "ipython",
    "version": 3
   },
   "file_extension": ".py",
   "mimetype": "text/x-python",
   "name": "python",
   "nbconvert_exporter": "python",
   "pygments_lexer": "ipython3",
   "version": "3.7.12"
  }
 },
 "nbformat": 4,
 "nbformat_minor": 5
}
