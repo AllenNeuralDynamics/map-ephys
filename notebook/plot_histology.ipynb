{
 "cells": [
  {
   "cell_type": "code",
   "execution_count": 1,
   "metadata": {},
   "outputs": [],
   "source": [
    "import os\n",
    "os.chdir('..')"
   ]
  },
  {
   "cell_type": "code",
   "execution_count": 2,
   "metadata": {},
   "outputs": [],
   "source": [
    "import numpy as np\n",
    "import scipy as sp\n",
    "import datajoint as dj"
   ]
  },
  {
   "cell_type": "code",
   "execution_count": 3,
   "metadata": {},
   "outputs": [
    {
     "name": "stdout",
     "output_type": "stream",
     "text": [
      "Connecting thinh@mesoscale-activity.datajoint.io:3306\n"
     ]
    }
   ],
   "source": [
    "%matplotlib inline\n",
    "import matplotlib.pyplot as plt\n",
    "from scipy import signal\n",
    "\n",
    "from pipeline import lab, experiment, ephys, histology, ccf\n",
    "from pipeline.plot import histology_plot"
   ]
  },
  {
   "cell_type": "code",
   "execution_count": 4,
   "metadata": {},
   "outputs": [
    {
     "data": {
      "text/html": [
       "\n",
       "        \n",
       "        <style type=\"text/css\">\n",
       "            .Relation{\n",
       "                border-collapse:collapse;\n",
       "            }\n",
       "            .Relation th{\n",
       "                background: #A0A0A0; color: #ffffff; padding:4px; border:#f0e0e0 1px solid;\n",
       "                font-weight: normal; font-family: monospace; font-size: 100%;\n",
       "            }\n",
       "            .Relation td{\n",
       "                padding:4px; border:#f0e0e0 1px solid; font-size:100%;\n",
       "            }\n",
       "            .Relation tr:nth-child(odd){\n",
       "                background: #ffffff;\n",
       "            }\n",
       "            .Relation tr:nth-child(even){\n",
       "                background: #f3f1ff;\n",
       "            }\n",
       "            /* Tooltip container */\n",
       "            .djtooltip {\n",
       "            }\n",
       "            /* Tooltip text */\n",
       "            .djtooltip .djtooltiptext {\n",
       "                visibility: hidden;\n",
       "                width: 120px;\n",
       "                background-color: black;\n",
       "                color: #fff;\n",
       "                text-align: center;\n",
       "                padding: 5px 0;\n",
       "                border-radius: 6px;\n",
       "                /* Position the tooltip text - see examples below! */\n",
       "                position: absolute;\n",
       "                z-index: 1;\n",
       "            }\n",
       "            #primary {\n",
       "                font-weight: bold;\n",
       "                color: black;\n",
       "            }\n",
       "\n",
       "            #nonprimary {\n",
       "                font-weight: normal;\n",
       "                color: white;\n",
       "            }\n",
       "\n",
       "            /* Show the tooltip text when you mouse over the tooltip container */\n",
       "            .djtooltip:hover .djtooltiptext {\n",
       "                visibility: visible;\n",
       "            }\n",
       "        </style>\n",
       "        \n",
       "        <b></b>\n",
       "            <div style=\"max-height:1000px;max-width:1500px;overflow:auto;\">\n",
       "            <table border=\"1\" class=\"Relation\">\n",
       "                <thead> <tr style=\"text-align: right;\"> <th> <div class=\"djtooltip\">\n",
       "                                <p id=\"primary\">subject_id</p>\n",
       "                                <span class=\"djtooltiptext\">institution 6 digit animal ID</span>\n",
       "                            </div></th><th><div class=\"djtooltip\">\n",
       "                                <p id=\"primary\">session</p>\n",
       "                                <span class=\"djtooltiptext\">session number</span>\n",
       "                            </div></th><th><div class=\"djtooltip\">\n",
       "                                <p id=\"nonprimary\">session_date</p>\n",
       "                                <span class=\"djtooltiptext\"></span>\n",
       "                            </div></th><th><div class=\"djtooltip\">\n",
       "                                <p id=\"nonprimary\">username</p>\n",
       "                                <span class=\"djtooltiptext\"></span>\n",
       "                            </div></th><th><div class=\"djtooltip\">\n",
       "                                <p id=\"nonprimary\">rig</p>\n",
       "                                <span class=\"djtooltiptext\"></span>\n",
       "                            </div> </th> </tr> </thead>\n",
       "                <tbody> <tr> <td>412330</td>\n",
       "<td>15</td>\n",
       "<td>2018-07-16</td>\n",
       "<td>daveliu</td>\n",
       "<td>RRig</td></tr><tr><td>412753</td>\n",
       "<td>41</td>\n",
       "<td>2018-07-10</td>\n",
       "<td>daveliu</td>\n",
       "<td>RRig</td></tr><tr><td>413950</td>\n",
       "<td>21</td>\n",
       "<td>2018-10-23</td>\n",
       "<td>daveliu</td>\n",
       "<td>RRig</td></tr><tr><td>432572</td>\n",
       "<td>14</td>\n",
       "<td>2018-11-25</td>\n",
       "<td>daveliu</td>\n",
       "<td>RRig</td></tr><tr><td>432572</td>\n",
       "<td>15</td>\n",
       "<td>2018-11-26</td>\n",
       "<td>daveliu</td>\n",
       "<td>RRig</td></tr><tr><td>432998</td>\n",
       "<td>16</td>\n",
       "<td>2019-01-13</td>\n",
       "<td>daveliu</td>\n",
       "<td>RRig</td></tr><tr><td>435884</td>\n",
       "<td>14</td>\n",
       "<td>2018-12-01</td>\n",
       "<td>daveliu</td>\n",
       "<td>RRig</td> </tr> </tbody>\n",
       "            </table>\n",
       "            <p>...</p>\n",
       "            <p>Total: 8</p></div>\n",
       "            "
      ],
      "text/plain": [
       "*subject_id    *session    session_date   username     rig     \n",
       "+------------+ +---------+ +------------+ +----------+ +------+\n",
       "412330         15          2018-07-16     daveliu      RRig    \n",
       "412753         41          2018-07-10     daveliu      RRig    \n",
       "413950         21          2018-10-23     daveliu      RRig    \n",
       "432572         14          2018-11-25     daveliu      RRig    \n",
       "432572         15          2018-11-26     daveliu      RRig    \n",
       "432998         16          2019-01-13     daveliu      RRig    \n",
       "435884         14          2018-12-01     daveliu      RRig    \n",
       "   ...\n",
       " (Total: 8)"
      ]
     },
     "execution_count": 4,
     "metadata": {},
     "output_type": "execute_result"
    }
   ],
   "source": [
    "experiment.Session & ephys.Unit"
   ]
  },
  {
   "cell_type": "code",
   "execution_count": 5,
   "metadata": {},
   "outputs": [],
   "source": [
    "session_keys = experiment.Session.fetch('KEY')"
   ]
  },
  {
   "cell_type": "code",
   "execution_count": 6,
   "metadata": {},
   "outputs": [],
   "source": [
    "session_key = session_keys[0]"
   ]
  },
  {
   "cell_type": "markdown",
   "metadata": {},
   "source": [
    "# 3D plot of brain surface and probe tracks"
   ]
  },
  {
   "cell_type": "code",
   "execution_count": null,
   "metadata": {},
   "outputs": [],
   "source": [
    "histology_plot.plot_probe_tracks(session_key)"
   ]
  },
  {
   "cell_type": "markdown",
   "metadata": {},
   "source": [
    "# Better interactive 3D plot - requires k3d"
   ]
  },
  {
   "cell_type": "code",
   "execution_count": 7,
   "metadata": {},
   "outputs": [],
   "source": [
    "import k3d"
   ]
  },
  {
   "cell_type": "code",
   "execution_count": 8,
   "metadata": {},
   "outputs": [],
   "source": [
    "um_per_px = 20\n",
    "# fetch mesh\n",
    "vertices, faces = (ccf.AnnotatedBrainSurface\n",
    "                   & 'annotated_brain_name = \"Annotation_new_10_ds222_16bit_isosurf\"').fetch1(\n",
    "    'vertices', 'faces')\n",
    "vertices = vertices * um_per_px"
   ]
  },
  {
   "cell_type": "code",
   "execution_count": 9,
   "metadata": {},
   "outputs": [],
   "source": [
    "probe_tracks = {}\n",
    "for probe_insert in (ephys.ProbeInsertion & session_key).fetch('KEY'):\n",
    "    x, y, z = (histology.LabeledProbeTrack.Point & probe_insert).fetch(\n",
    "        'ccf_x', 'ccf_z', 'ccf_y', order_by='\"order\"')\n",
    "    probe_tracks[probe_insert['insertion_number']] = np.vstack(zip(*(x, y, z)))"
   ]
  },
  {
   "cell_type": "code",
   "execution_count": 10,
   "metadata": {},
   "outputs": [],
   "source": [
    "plot = k3d.plot(background_color = 1, grid_visible = False, height=400)"
   ]
  },
  {
   "cell_type": "code",
   "execution_count": 11,
   "metadata": {},
   "outputs": [
    {
     "name": "stderr",
     "output_type": "stream",
     "text": [
      "C:\\ProgramData\\Anaconda3\\lib\\site-packages\\traittypes\\traittypes.py:101: UserWarning: Given trait value dtype \"float64\" does not match required type \"float32\". A coerced copy has been created.\n",
      "  np.dtype(self.dtype).name))\n",
      "C:\\ProgramData\\Anaconda3\\lib\\site-packages\\traittypes\\traittypes.py:101: UserWarning: Given trait value dtype \"int32\" does not match required type \"uint32\". A coerced copy has been created.\n",
      "  np.dtype(self.dtype).name))\n"
     ]
    }
   ],
   "source": [
    "mesh = k3d.mesh(vertices, faces, opacity=0.25, color=16777215)"
   ]
  },
  {
   "cell_type": "code",
   "execution_count": 12,
   "metadata": {},
   "outputs": [],
   "source": [
    "colors = [16711684, 65284, 15662848, 3932415]  # r, g, y, b\n",
    "for (k, v), c in zip(probe_tracks.items(), colors):\n",
    "    plot += k3d.line(v, color=c, width=0.5)"
   ]
  },
  {
   "cell_type": "code",
   "execution_count": 13,
   "metadata": {},
   "outputs": [],
   "source": [
    "plot += mesh"
   ]
  },
  {
   "cell_type": "code",
   "execution_count": 14,
   "metadata": {},
   "outputs": [
    {
     "data": {
      "application/vnd.jupyter.widget-view+json": {
       "model_id": "31b157ba56cf418eb95d1a781220456f",
       "version_major": 2,
       "version_minor": 0
      },
      "text/plain": [
       "Output()"
      ]
     },
     "metadata": {},
     "output_type": "display_data"
    }
   ],
   "source": [
    "plot.display()"
   ]
  },
  {
   "cell_type": "code",
   "execution_count": null,
   "metadata": {},
   "outputs": [],
   "source": []
  }
 ],
 "metadata": {
  "kernelspec": {
   "display_name": "Python 3",
   "language": "python",
   "name": "python3"
  },
  "language_info": {
   "codemirror_mode": {
    "name": "ipython",
    "version": 3
   },
   "file_extension": ".py",
   "mimetype": "text/x-python",
   "name": "python",
   "nbconvert_exporter": "python",
   "pygments_lexer": "ipython3",
   "version": "3.7.0"
  }
 },
 "nbformat": 4,
 "nbformat_minor": 2
}
