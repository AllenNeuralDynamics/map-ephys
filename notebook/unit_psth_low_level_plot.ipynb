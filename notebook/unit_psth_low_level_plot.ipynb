{
 "cells": [
  {
   "cell_type": "markdown",
   "metadata": {},
   "source": [
    "# Data-Level Unit PSTH Plot"
   ]
  },
  {
   "cell_type": "markdown",
   "metadata": {},
   "source": [
    "## Imports"
   ]
  },
  {
   "cell_type": "code",
   "execution_count": 1,
   "metadata": {},
   "outputs": [
    {
     "name": "stdout",
     "output_type": "stream",
     "text": [
      "Using matplotlib backend: TkAgg\n",
      "Populating the interactive namespace from numpy and matplotlib\n"
     ]
    },
    {
     "name": "stderr",
     "output_type": "stream",
     "text": [
      "/usr/lib/python3.5/importlib/_bootstrap.py:222: RuntimeWarning: numpy.dtype size changed, may indicate binary incompatibility. Expected 96, got 88\n",
      "  return f(*args, **kwds)\n",
      "/usr/lib/python3.5/importlib/_bootstrap.py:222: RuntimeWarning: numpy.dtype size changed, may indicate binary incompatibility. Expected 96, got 88\n",
      "  return f(*args, **kwds)\n"
     ]
    }
   ],
   "source": [
    "%pylab --no-import-all\n",
    "%matplotlib inline\n",
    "plt.rcParams[\"figure.figsize\"] = (12, 9) # (w, h)\n",
    "import datajoint as dj"
   ]
  },
  {
   "cell_type": "code",
   "execution_count": 2,
   "metadata": {},
   "outputs": [
    {
     "name": "stdout",
     "output_type": "stream",
     "text": [
      "Connecting chris@db:3306\n"
     ]
    },
    {
     "name": "stderr",
     "output_type": "stream",
     "text": [
      "/usr/lib/python3.5/importlib/_bootstrap.py:222: RuntimeWarning: numpy.dtype size changed, may indicate binary incompatibility. Expected 96, got 88\n",
      "  return f(*args, **kwds)\n"
     ]
    }
   ],
   "source": [
    "from pipeline import experiment\n",
    "from pipeline import ephys\n",
    "from pipeline import psth\n",
    "from pipeline import plot"
   ]
  },
  {
   "cell_type": "markdown",
   "metadata": {},
   "source": [
    "## Unit Selection"
   ]
  },
  {
   "cell_type": "markdown",
   "metadata": {},
   "source": [
    "Details are explained in the `unit_psth_quick_plot` notebook."
   ]
  },
  {
   "cell_type": "code",
   "execution_count": 3,
   "metadata": {},
   "outputs": [],
   "source": [
    "my_session = {'subject_id': 435884, 'session':1}\n",
    "my_unit = {**my_session, 'unit': 4}"
   ]
  },
  {
   "cell_type": "markdown",
   "metadata": {},
   "source": [
    "## Select PSTH Conditions"
   ]
  },
  {
   "cell_type": "code",
   "execution_count": 4,
   "metadata": {},
   "outputs": [
    {
     "data": {
      "text/html": [
       "\n",
       "        \n",
       "        <style type=\"text/css\">\n",
       "            .Relation{\n",
       "                border-collapse:collapse;\n",
       "            }\n",
       "            .Relation th{\n",
       "                background: #A0A0A0; color: #ffffff; padding:4px; border:#f0e0e0 1px solid;\n",
       "                font-weight: normal; font-family: monospace; font-size: 100%;\n",
       "            }\n",
       "            .Relation td{\n",
       "                padding:4px; border:#f0e0e0 1px solid; font-size:100%;\n",
       "            }\n",
       "            .Relation tr:nth-child(odd){\n",
       "                background: #ffffff;\n",
       "            }\n",
       "            .Relation tr:nth-child(even){\n",
       "                background: #f3f1ff;\n",
       "            }\n",
       "            /* Tooltip container */\n",
       "            .djtooltip {\n",
       "            }\n",
       "            /* Tooltip text */\n",
       "            .djtooltip .djtooltiptext {\n",
       "                visibility: hidden;\n",
       "                width: 120px;\n",
       "                background-color: black;\n",
       "                color: #fff;\n",
       "                text-align: center;\n",
       "                padding: 5px 0;\n",
       "                border-radius: 6px;\n",
       "                /* Position the tooltip text - see examples below! */\n",
       "                position: absolute;\n",
       "                z-index: 1;\n",
       "            }\n",
       "            #primary {\n",
       "                font-weight: bold;\n",
       "                color: black;\n",
       "            }\n",
       "\n",
       "            #nonprimary {\n",
       "                font-weight: normal;\n",
       "                color: white;\n",
       "            }\n",
       "\n",
       "            /* Show the tooltip text when you mouse over the tooltip container */\n",
       "            .djtooltip:hover .djtooltiptext {\n",
       "                visibility: visible;\n",
       "            }\n",
       "        </style>\n",
       "        \n",
       "        <b>manually curated conditions of interest</b>\n",
       "            <div style=\"max-height:1000px;max-width:1500px;overflow:auto;\">\n",
       "            <table border=\"1\" class=\"Relation\">\n",
       "                <thead> <tr style=\"text-align: right;\"> <th> <div class=\"djtooltip\">\n",
       "                                <p id=\"primary\">condition_id</p>\n",
       "                                <span class=\"djtooltiptext\"></span>\n",
       "                            </div></th><th><div class=\"djtooltip\">\n",
       "                                <p id=\"nonprimary\">condition_desc</p>\n",
       "                                <span class=\"djtooltiptext\"></span>\n",
       "                            </div> </th> </tr> </thead>\n",
       "                <tbody> <tr> <td>0</td>\n",
       "<td>audio delay contra hit</td></tr><tr><td>1</td>\n",
       "<td>audio delay ipsi hit</td></tr><tr><td>2</td>\n",
       "<td>audio delay contra error</td></tr><tr><td>3</td>\n",
       "<td>audio delay ipsi error</td> </tr> </tbody>\n",
       "            </table>\n",
       "            \n",
       "            <p>Total: 4</p></div>\n",
       "            "
      ],
      "text/plain": [
       "*condition_id  condition_desc\n",
       "+------------+ +------------+\n",
       "0              audio delay co\n",
       "1              audio delay ip\n",
       "2              audio delay co\n",
       "3              audio delay ip\n",
       " (Total: 4)"
      ]
     },
     "execution_count": 4,
     "metadata": {},
     "output_type": "execute_result"
    }
   ],
   "source": [
    "psth.Condition()"
   ]
  },
  {
   "cell_type": "code",
   "execution_count": 5,
   "metadata": {},
   "outputs": [],
   "source": [
    "ipsi_hit_cond_key = (psth.Condition() & {'condition_desc': 'audio delay ipsi hit'}).fetch1('KEY')\n",
    "contra_hit_cond_key = (psth.Condition() & {'condition_desc': 'audio delay contra hit'}).fetch1('KEY')\n",
    "\n",
    "ipsi_err_cond_key = (psth.Condition() & {'condition_desc': 'audio delay ipsi error'}).fetch1('KEY')\n",
    "contra_err_cond_key = (psth.Condition() & {'condition_desc': 'audio delay contra error'}).fetch1('KEY')"
   ]
  },
  {
   "cell_type": "markdown",
   "metadata": {},
   "source": [
    "### Verify Computed PSTH Availability"
   ]
  },
  {
   "cell_type": "code",
   "execution_count": 6,
   "metadata": {},
   "outputs": [
    {
     "data": {
      "text/html": [
       "\n",
       "        \n",
       "        <style type=\"text/css\">\n",
       "            .Relation{\n",
       "                border-collapse:collapse;\n",
       "            }\n",
       "            .Relation th{\n",
       "                background: #A0A0A0; color: #ffffff; padding:4px; border:#f0e0e0 1px solid;\n",
       "                font-weight: normal; font-family: monospace; font-size: 100%;\n",
       "            }\n",
       "            .Relation td{\n",
       "                padding:4px; border:#f0e0e0 1px solid; font-size:100%;\n",
       "            }\n",
       "            .Relation tr:nth-child(odd){\n",
       "                background: #ffffff;\n",
       "            }\n",
       "            .Relation tr:nth-child(even){\n",
       "                background: #f3f1ff;\n",
       "            }\n",
       "            /* Tooltip container */\n",
       "            .djtooltip {\n",
       "            }\n",
       "            /* Tooltip text */\n",
       "            .djtooltip .djtooltiptext {\n",
       "                visibility: hidden;\n",
       "                width: 120px;\n",
       "                background-color: black;\n",
       "                color: #fff;\n",
       "                text-align: center;\n",
       "                padding: 5px 0;\n",
       "                border-radius: 6px;\n",
       "                /* Position the tooltip text - see examples below! */\n",
       "                position: absolute;\n",
       "                z-index: 1;\n",
       "            }\n",
       "            #primary {\n",
       "                font-weight: bold;\n",
       "                color: black;\n",
       "            }\n",
       "\n",
       "            #nonprimary {\n",
       "                font-weight: normal;\n",
       "                color: white;\n",
       "            }\n",
       "\n",
       "            /* Show the tooltip text when you mouse over the tooltip container */\n",
       "            .djtooltip:hover .djtooltiptext {\n",
       "                visibility: visible;\n",
       "            }\n",
       "        </style>\n",
       "        \n",
       "        <b></b>\n",
       "            <div style=\"max-height:1000px;max-width:1500px;overflow:auto;\">\n",
       "            <table border=\"1\" class=\"Relation\">\n",
       "                <thead> <tr style=\"text-align: right;\"> <th> <div class=\"djtooltip\">\n",
       "                                <p id=\"primary\">condition_id</p>\n",
       "                                <span class=\"djtooltiptext\"></span>\n",
       "                            </div></th><th><div class=\"djtooltip\">\n",
       "                                <p id=\"primary\">subject_id</p>\n",
       "                                <span class=\"djtooltiptext\">institution 6 digit animal ID</span>\n",
       "                            </div></th><th><div class=\"djtooltip\">\n",
       "                                <p id=\"primary\">session</p>\n",
       "                                <span class=\"djtooltiptext\">session number</span>\n",
       "                            </div></th><th><div class=\"djtooltip\">\n",
       "                                <p id=\"primary\">electrode_group</p>\n",
       "                                <span class=\"djtooltiptext\">Electrode_group is like the probe</span>\n",
       "                            </div></th><th><div class=\"djtooltip\">\n",
       "                                <p id=\"primary\">unit</p>\n",
       "                                <span class=\"djtooltiptext\"></span>\n",
       "                            </div></th><th><div class=\"djtooltip\">\n",
       "                                <p id=\"nonprimary\">unit_psth</p>\n",
       "                                <span class=\"djtooltiptext\"></span>\n",
       "                            </div> </th> </tr> </thead>\n",
       "                <tbody> <tr> <td>1</td>\n",
       "<td>435884</td>\n",
       "<td>1</td>\n",
       "<td>1</td>\n",
       "<td>4</td>\n",
       "<td>=BLOB=</td> </tr> </tbody>\n",
       "            </table>\n",
       "            \n",
       "            <p>Total: 1</p></div>\n",
       "            "
      ],
      "text/plain": [
       "*condition_id  *subject_id    *session    *electrode_gro *unit    unit_psth \n",
       "+------------+ +------------+ +---------+ +------------+ +------+ +--------+\n",
       "1              435884         1           1              4        =BLOB=    \n",
       " (Total: 1)"
      ]
     },
     "execution_count": 6,
     "metadata": {},
     "output_type": "execute_result"
    }
   ],
   "source": [
    "psth.UnitPsth.Unit & {**ipsi_hit_cond_key, **my_unit}"
   ]
  },
  {
   "cell_type": "markdown",
   "metadata": {},
   "source": [
    "## Fetch PSTH Data"
   ]
  },
  {
   "cell_type": "markdown",
   "metadata": {},
   "source": [
    "### CellPsth.get Method"
   ]
  },
  {
   "cell_type": "markdown",
   "metadata": {},
   "source": [
    "To save repeated queries for psth, trials, and spikes, a 'get' utility method is available in the psth.CellPsth DataJoint class.\n",
    "\n",
    "This method uses the user-defined `psth.Condition` objects to find trials related to the condition, and fetches associated trial numbers, spike data and precomputed psth data. Code is as folows:"
   ]
  },
  {
   "cell_type": "code",
   "execution_count": 7,
   "metadata": {},
   "outputs": [
    {
     "data": {
      "text/html": [
       "<style>.highlight .hll { background-color: #ffffcc }\n",
       ".highlight  { background: #f8f8f8; }\n",
       ".highlight .c { color: #408080; font-style: italic } /* Comment */\n",
       ".highlight .err { border: 1px solid #FF0000 } /* Error */\n",
       ".highlight .k { color: #008000; font-weight: bold } /* Keyword */\n",
       ".highlight .o { color: #666666 } /* Operator */\n",
       ".highlight .ch { color: #408080; font-style: italic } /* Comment.Hashbang */\n",
       ".highlight .cm { color: #408080; font-style: italic } /* Comment.Multiline */\n",
       ".highlight .cp { color: #BC7A00 } /* Comment.Preproc */\n",
       ".highlight .cpf { color: #408080; font-style: italic } /* Comment.PreprocFile */\n",
       ".highlight .c1 { color: #408080; font-style: italic } /* Comment.Single */\n",
       ".highlight .cs { color: #408080; font-style: italic } /* Comment.Special */\n",
       ".highlight .gd { color: #A00000 } /* Generic.Deleted */\n",
       ".highlight .ge { font-style: italic } /* Generic.Emph */\n",
       ".highlight .gr { color: #FF0000 } /* Generic.Error */\n",
       ".highlight .gh { color: #000080; font-weight: bold } /* Generic.Heading */\n",
       ".highlight .gi { color: #00A000 } /* Generic.Inserted */\n",
       ".highlight .go { color: #888888 } /* Generic.Output */\n",
       ".highlight .gp { color: #000080; font-weight: bold } /* Generic.Prompt */\n",
       ".highlight .gs { font-weight: bold } /* Generic.Strong */\n",
       ".highlight .gu { color: #800080; font-weight: bold } /* Generic.Subheading */\n",
       ".highlight .gt { color: #0044DD } /* Generic.Traceback */\n",
       ".highlight .kc { color: #008000; font-weight: bold } /* Keyword.Constant */\n",
       ".highlight .kd { color: #008000; font-weight: bold } /* Keyword.Declaration */\n",
       ".highlight .kn { color: #008000; font-weight: bold } /* Keyword.Namespace */\n",
       ".highlight .kp { color: #008000 } /* Keyword.Pseudo */\n",
       ".highlight .kr { color: #008000; font-weight: bold } /* Keyword.Reserved */\n",
       ".highlight .kt { color: #B00040 } /* Keyword.Type */\n",
       ".highlight .m { color: #666666 } /* Literal.Number */\n",
       ".highlight .s { color: #BA2121 } /* Literal.String */\n",
       ".highlight .na { color: #7D9029 } /* Name.Attribute */\n",
       ".highlight .nb { color: #008000 } /* Name.Builtin */\n",
       ".highlight .nc { color: #0000FF; font-weight: bold } /* Name.Class */\n",
       ".highlight .no { color: #880000 } /* Name.Constant */\n",
       ".highlight .nd { color: #AA22FF } /* Name.Decorator */\n",
       ".highlight .ni { color: #999999; font-weight: bold } /* Name.Entity */\n",
       ".highlight .ne { color: #D2413A; font-weight: bold } /* Name.Exception */\n",
       ".highlight .nf { color: #0000FF } /* Name.Function */\n",
       ".highlight .nl { color: #A0A000 } /* Name.Label */\n",
       ".highlight .nn { color: #0000FF; font-weight: bold } /* Name.Namespace */\n",
       ".highlight .nt { color: #008000; font-weight: bold } /* Name.Tag */\n",
       ".highlight .nv { color: #19177C } /* Name.Variable */\n",
       ".highlight .ow { color: #AA22FF; font-weight: bold } /* Operator.Word */\n",
       ".highlight .w { color: #bbbbbb } /* Text.Whitespace */\n",
       ".highlight .mb { color: #666666 } /* Literal.Number.Bin */\n",
       ".highlight .mf { color: #666666 } /* Literal.Number.Float */\n",
       ".highlight .mh { color: #666666 } /* Literal.Number.Hex */\n",
       ".highlight .mi { color: #666666 } /* Literal.Number.Integer */\n",
       ".highlight .mo { color: #666666 } /* Literal.Number.Oct */\n",
       ".highlight .sa { color: #BA2121 } /* Literal.String.Affix */\n",
       ".highlight .sb { color: #BA2121 } /* Literal.String.Backtick */\n",
       ".highlight .sc { color: #BA2121 } /* Literal.String.Char */\n",
       ".highlight .dl { color: #BA2121 } /* Literal.String.Delimiter */\n",
       ".highlight .sd { color: #BA2121; font-style: italic } /* Literal.String.Doc */\n",
       ".highlight .s2 { color: #BA2121 } /* Literal.String.Double */\n",
       ".highlight .se { color: #BB6622; font-weight: bold } /* Literal.String.Escape */\n",
       ".highlight .sh { color: #BA2121 } /* Literal.String.Heredoc */\n",
       ".highlight .si { color: #BB6688; font-weight: bold } /* Literal.String.Interpol */\n",
       ".highlight .sx { color: #008000 } /* Literal.String.Other */\n",
       ".highlight .sr { color: #BB6688 } /* Literal.String.Regex */\n",
       ".highlight .s1 { color: #BA2121 } /* Literal.String.Single */\n",
       ".highlight .ss { color: #19177C } /* Literal.String.Symbol */\n",
       ".highlight .bp { color: #008000 } /* Name.Builtin.Pseudo */\n",
       ".highlight .fm { color: #0000FF } /* Name.Function.Magic */\n",
       ".highlight .vc { color: #19177C } /* Name.Variable.Class */\n",
       ".highlight .vg { color: #19177C } /* Name.Variable.Global */\n",
       ".highlight .vi { color: #19177C } /* Name.Variable.Instance */\n",
       ".highlight .vm { color: #19177C } /* Name.Variable.Magic */\n",
       ".highlight .il { color: #666666 } /* Literal.Number.Integer.Long */</style>"
      ],
      "text/plain": [
       "<IPython.core.display.HTML object>"
      ]
     },
     "metadata": {},
     "output_type": "display_data"
    },
    {
     "data": {
      "text/html": [
       "<div class=\"highlight\"><pre><span></span>    <span class=\"nd\">@classmethod</span>\n",
       "    <span class=\"k\">def</span> <span class=\"nf\">get</span><span class=\"p\">(</span><span class=\"bp\">cls</span><span class=\"p\">,</span> <span class=\"n\">condition_key</span><span class=\"p\">,</span> <span class=\"n\">unit_key</span><span class=\"p\">,</span>\n",
       "            <span class=\"n\">incl_conds</span><span class=\"o\">=</span><span class=\"p\">[</span><span class=\"s1\">&#39;TaskProtocol&#39;</span><span class=\"p\">,</span> <span class=\"s1\">&#39;TrialInstruction&#39;</span><span class=\"p\">,</span> <span class=\"s1\">&#39;EarlyLick&#39;</span><span class=\"p\">,</span>\n",
       "                        <span class=\"s1\">&#39;Outcome&#39;</span><span class=\"p\">],</span>\n",
       "            <span class=\"n\">excl_conds</span><span class=\"o\">=</span><span class=\"p\">[</span><span class=\"s1\">&#39;PhotostimLocation&#39;</span><span class=\"p\">]):</span>\n",
       "\n",
       "        <span class=\"n\">condition</span> <span class=\"o\">=</span> <span class=\"n\">Condition</span><span class=\"o\">.</span><span class=\"n\">expand</span><span class=\"p\">(</span><span class=\"n\">condition_key</span><span class=\"p\">[</span><span class=\"s1\">&#39;condition_id&#39;</span><span class=\"p\">])</span>\n",
       "        <span class=\"n\">session_key</span> <span class=\"o\">=</span> <span class=\"p\">{</span><span class=\"n\">k</span><span class=\"p\">:</span> <span class=\"n\">unit_key</span><span class=\"p\">[</span><span class=\"n\">k</span><span class=\"p\">]</span> <span class=\"k\">for</span> <span class=\"n\">k</span> <span class=\"ow\">in</span> <span class=\"n\">experiment</span><span class=\"o\">.</span><span class=\"n\">Session</span><span class=\"o\">.</span><span class=\"n\">primary_key</span><span class=\"p\">}</span>\n",
       "\n",
       "        <span class=\"n\">psth_q</span> <span class=\"o\">=</span> <span class=\"p\">(</span><span class=\"n\">UnitPsth</span><span class=\"o\">.</span><span class=\"n\">Unit</span> <span class=\"o\">&amp;</span> <span class=\"p\">{</span><span class=\"o\">**</span><span class=\"n\">condition_key</span><span class=\"p\">,</span> <span class=\"o\">**</span><span class=\"n\">unit_key</span><span class=\"p\">})</span>\n",
       "        <span class=\"n\">psth</span> <span class=\"o\">=</span> <span class=\"n\">psth_q</span><span class=\"o\">.</span><span class=\"n\">fetch1</span><span class=\"p\">()[</span><span class=\"s1\">&#39;unit_psth&#39;</span><span class=\"p\">]</span>\n",
       "\n",
       "        <span class=\"n\">i_trials</span> <span class=\"o\">=</span> <span class=\"n\">Condition</span><span class=\"o\">.</span><span class=\"n\">trials</span><span class=\"p\">({</span><span class=\"n\">k</span><span class=\"p\">:</span> <span class=\"n\">condition</span><span class=\"p\">[</span><span class=\"n\">k</span><span class=\"p\">]</span> <span class=\"k\">for</span> <span class=\"n\">k</span> <span class=\"ow\">in</span> <span class=\"n\">incl_conds</span><span class=\"p\">},</span>\n",
       "                                    <span class=\"n\">session_key</span><span class=\"p\">)</span>\n",
       "\n",
       "        <span class=\"n\">x_trials</span> <span class=\"o\">=</span> <span class=\"n\">Condition</span><span class=\"o\">.</span><span class=\"n\">trials</span><span class=\"p\">({</span><span class=\"n\">k</span><span class=\"p\">:</span> <span class=\"n\">condition</span><span class=\"p\">[</span><span class=\"n\">k</span><span class=\"p\">]</span> <span class=\"k\">for</span> <span class=\"n\">k</span> <span class=\"ow\">in</span> <span class=\"n\">excl_conds</span><span class=\"p\">},</span>\n",
       "                                    <span class=\"n\">session_key</span><span class=\"p\">)</span>\n",
       "\n",
       "        <span class=\"n\">st_q</span> <span class=\"o\">=</span> <span class=\"p\">((</span><span class=\"n\">ephys</span><span class=\"o\">.</span><span class=\"n\">TrialSpikes</span> <span class=\"o\">&amp;</span> <span class=\"n\">i_trials</span> <span class=\"o\">&amp;</span> <span class=\"n\">unit_key</span><span class=\"p\">)</span> <span class=\"o\">-</span>\n",
       "                <span class=\"p\">(</span><span class=\"n\">experiment</span><span class=\"o\">.</span><span class=\"n\">SessionTrial</span> <span class=\"o\">&amp;</span> <span class=\"n\">x_trials</span> <span class=\"o\">&amp;</span> <span class=\"n\">unit_key</span><span class=\"p\">))</span>\n",
       "\n",
       "        <span class=\"n\">spikes</span><span class=\"p\">,</span> <span class=\"n\">trials</span> <span class=\"o\">=</span> <span class=\"n\">st_q</span><span class=\"o\">.</span><span class=\"n\">fetch</span><span class=\"p\">(</span><span class=\"s1\">&#39;spike_times&#39;</span><span class=\"p\">,</span> <span class=\"s1\">&#39;trial&#39;</span><span class=\"p\">,</span>\n",
       "                                    <span class=\"n\">order_by</span><span class=\"o\">=</span><span class=\"s1\">&#39;trial asc&#39;</span><span class=\"p\">)</span>\n",
       "\n",
       "        <span class=\"n\">raster</span> <span class=\"o\">=</span> <span class=\"p\">[</span><span class=\"n\">np</span><span class=\"o\">.</span><span class=\"n\">concatenate</span><span class=\"p\">(</span><span class=\"n\">spikes</span><span class=\"p\">),</span>\n",
       "                  <span class=\"n\">np</span><span class=\"o\">.</span><span class=\"n\">concatenate</span><span class=\"p\">([[</span><span class=\"n\">t</span><span class=\"p\">]</span> <span class=\"o\">*</span> <span class=\"nb\">len</span><span class=\"p\">(</span><span class=\"n\">s</span><span class=\"p\">)</span>\n",
       "                                  <span class=\"k\">for</span> <span class=\"n\">s</span><span class=\"p\">,</span> <span class=\"n\">t</span> <span class=\"ow\">in</span> <span class=\"nb\">zip</span><span class=\"p\">(</span><span class=\"n\">spikes</span><span class=\"p\">,</span> <span class=\"n\">trials</span><span class=\"p\">)])]</span>\n",
       "\n",
       "        <span class=\"k\">return</span> <span class=\"nb\">dict</span><span class=\"p\">(</span><span class=\"n\">trials</span><span class=\"o\">=</span><span class=\"n\">trials</span><span class=\"p\">,</span> <span class=\"n\">spikes</span><span class=\"o\">=</span><span class=\"n\">spikes</span><span class=\"p\">,</span> <span class=\"n\">psth</span><span class=\"o\">=</span><span class=\"n\">psth</span><span class=\"p\">,</span> <span class=\"n\">raster</span><span class=\"o\">=</span><span class=\"n\">raster</span><span class=\"p\">)</span>\n",
       "</pre></div>\n"
      ],
      "text/plain": [
       "<IPython.core.display.HTML object>"
      ]
     },
     "metadata": {},
     "output_type": "display_data"
    }
   ],
   "source": [
    "plot.show_source(psth.UnitPsth.get)"
   ]
  },
  {
   "cell_type": "markdown",
   "metadata": {},
   "source": [
    "## Fetch CellPsth Data"
   ]
  },
  {
   "cell_type": "code",
   "execution_count": 8,
   "metadata": {},
   "outputs": [],
   "source": [
    "ipsi_hit_unit_psth = psth.UnitPsth.get(ipsi_hit_cond_key, my_unit)\n",
    "contra_hit_unit_psth = psth.UnitPsth.get(contra_hit_cond_key, my_unit)\n",
    "\n",
    "ipsi_err_unit_psth = psth.UnitPsth.get(ipsi_hit_cond_key, my_unit)\n",
    "contra_err_unit_psth = psth.UnitPsth.get(contra_err_cond_key, my_unit)\n",
    "psths = [ipsi_hit_unit_psth, contra_hit_unit_psth, ipsi_err_unit_psth, contra_err_unit_psth]"
   ]
  },
  {
   "cell_type": "code",
   "execution_count": 9,
   "metadata": {},
   "outputs": [
    {
     "data": {
      "text/plain": [
       "['raster', 'spikes', 'psth', 'trials']"
      ]
     },
     "execution_count": 9,
     "metadata": {},
     "output_type": "execute_result"
    }
   ],
   "source": [
    "list(ipsi_hit_unit_psth.keys())"
   ]
  },
  {
   "cell_type": "code",
   "execution_count": 10,
   "metadata": {},
   "outputs": [
    {
     "data": {
      "text/plain": [
       "[1, 1, 1, 1]"
      ]
     },
     "execution_count": 10,
     "metadata": {},
     "output_type": "execute_result"
    }
   ],
   "source": [
    "[len(x['psth'][0]) for x in psths]"
   ]
  },
  {
   "cell_type": "code",
   "execution_count": 11,
   "metadata": {},
   "outputs": [],
   "source": [
    "psthtmp = psth.UnitPsth.Unit().fetch(as_dict=True)"
   ]
  },
  {
   "cell_type": "code",
   "execution_count": 12,
   "metadata": {},
   "outputs": [
    {
     "data": {
      "text/plain": [
       "(1,)"
      ]
     },
     "execution_count": 12,
     "metadata": {},
     "output_type": "execute_result"
    }
   ],
   "source": [
    "psthtmp[0]['unit_psth'][0].shape"
   ]
  },
  {
   "cell_type": "markdown",
   "metadata": {},
   "source": [
    "## Plot PSTH Data"
   ]
  },
  {
   "cell_type": "markdown",
   "metadata": {},
   "source": [
    "The `unit_psth_ll` function performs a plot given a set of input data in 'get' format"
   ]
  },
  {
   "cell_type": "code",
   "execution_count": 13,
   "metadata": {},
   "outputs": [
    {
     "data": {
      "image/png": "[encoded data removed]",
      "text/plain": [
       "<Figure size 864x648 with 3 Axes>"
      ]
     },
     "metadata": {},
     "output_type": "display_data"
    }
   ],
   "source": [
    "plot.unit_psth_ll(*psths)"
   ]
  },
  {
   "cell_type": "markdown",
   "metadata": {},
   "source": [
    "## Plotting Code"
   ]
  },
  {
   "cell_type": "code",
   "execution_count": 11,
   "metadata": {},
   "outputs": [
    {
     "data": {
      "text/html": [
       "<style>.highlight .hll { background-color: #ffffcc }\n",
       ".highlight  { background: #f8f8f8; }\n",
       ".highlight .c { color: #408080; font-style: italic } /* Comment */\n",
       ".highlight .err { border: 1px solid #FF0000 } /* Error */\n",
       ".highlight .k { color: #008000; font-weight: bold } /* Keyword */\n",
       ".highlight .o { color: #666666 } /* Operator */\n",
       ".highlight .ch { color: #408080; font-style: italic } /* Comment.Hashbang */\n",
       ".highlight .cm { color: #408080; font-style: italic } /* Comment.Multiline */\n",
       ".highlight .cp { color: #BC7A00 } /* Comment.Preproc */\n",
       ".highlight .cpf { color: #408080; font-style: italic } /* Comment.PreprocFile */\n",
       ".highlight .c1 { color: #408080; font-style: italic } /* Comment.Single */\n",
       ".highlight .cs { color: #408080; font-style: italic } /* Comment.Special */\n",
       ".highlight .gd { color: #A00000 } /* Generic.Deleted */\n",
       ".highlight .ge { font-style: italic } /* Generic.Emph */\n",
       ".highlight .gr { color: #FF0000 } /* Generic.Error */\n",
       ".highlight .gh { color: #000080; font-weight: bold } /* Generic.Heading */\n",
       ".highlight .gi { color: #00A000 } /* Generic.Inserted */\n",
       ".highlight .go { color: #888888 } /* Generic.Output */\n",
       ".highlight .gp { color: #000080; font-weight: bold } /* Generic.Prompt */\n",
       ".highlight .gs { font-weight: bold } /* Generic.Strong */\n",
       ".highlight .gu { color: #800080; font-weight: bold } /* Generic.Subheading */\n",
       ".highlight .gt { color: #0044DD } /* Generic.Traceback */\n",
       ".highlight .kc { color: #008000; font-weight: bold } /* Keyword.Constant */\n",
       ".highlight .kd { color: #008000; font-weight: bold } /* Keyword.Declaration */\n",
       ".highlight .kn { color: #008000; font-weight: bold } /* Keyword.Namespace */\n",
       ".highlight .kp { color: #008000 } /* Keyword.Pseudo */\n",
       ".highlight .kr { color: #008000; font-weight: bold } /* Keyword.Reserved */\n",
       ".highlight .kt { color: #B00040 } /* Keyword.Type */\n",
       ".highlight .m { color: #666666 } /* Literal.Number */\n",
       ".highlight .s { color: #BA2121 } /* Literal.String */\n",
       ".highlight .na { color: #7D9029 } /* Name.Attribute */\n",
       ".highlight .nb { color: #008000 } /* Name.Builtin */\n",
       ".highlight .nc { color: #0000FF; font-weight: bold } /* Name.Class */\n",
       ".highlight .no { color: #880000 } /* Name.Constant */\n",
       ".highlight .nd { color: #AA22FF } /* Name.Decorator */\n",
       ".highlight .ni { color: #999999; font-weight: bold } /* Name.Entity */\n",
       ".highlight .ne { color: #D2413A; font-weight: bold } /* Name.Exception */\n",
       ".highlight .nf { color: #0000FF } /* Name.Function */\n",
       ".highlight .nl { color: #A0A000 } /* Name.Label */\n",
       ".highlight .nn { color: #0000FF; font-weight: bold } /* Name.Namespace */\n",
       ".highlight .nt { color: #008000; font-weight: bold } /* Name.Tag */\n",
       ".highlight .nv { color: #19177C } /* Name.Variable */\n",
       ".highlight .ow { color: #AA22FF; font-weight: bold } /* Operator.Word */\n",
       ".highlight .w { color: #bbbbbb } /* Text.Whitespace */\n",
       ".highlight .mb { color: #666666 } /* Literal.Number.Bin */\n",
       ".highlight .mf { color: #666666 } /* Literal.Number.Float */\n",
       ".highlight .mh { color: #666666 } /* Literal.Number.Hex */\n",
       ".highlight .mi { color: #666666 } /* Literal.Number.Integer */\n",
       ".highlight .mo { color: #666666 } /* Literal.Number.Oct */\n",
       ".highlight .sa { color: #BA2121 } /* Literal.String.Affix */\n",
       ".highlight .sb { color: #BA2121 } /* Literal.String.Backtick */\n",
       ".highlight .sc { color: #BA2121 } /* Literal.String.Char */\n",
       ".highlight .dl { color: #BA2121 } /* Literal.String.Delimiter */\n",
       ".highlight .sd { color: #BA2121; font-style: italic } /* Literal.String.Doc */\n",
       ".highlight .s2 { color: #BA2121 } /* Literal.String.Double */\n",
       ".highlight .se { color: #BB6622; font-weight: bold } /* Literal.String.Escape */\n",
       ".highlight .sh { color: #BA2121 } /* Literal.String.Heredoc */\n",
       ".highlight .si { color: #BB6688; font-weight: bold } /* Literal.String.Interpol */\n",
       ".highlight .sx { color: #008000 } /* Literal.String.Other */\n",
       ".highlight .sr { color: #BB6688 } /* Literal.String.Regex */\n",
       ".highlight .s1 { color: #BA2121 } /* Literal.String.Single */\n",
       ".highlight .ss { color: #19177C } /* Literal.String.Symbol */\n",
       ".highlight .bp { color: #008000 } /* Name.Builtin.Pseudo */\n",
       ".highlight .fm { color: #0000FF } /* Name.Function.Magic */\n",
       ".highlight .vc { color: #19177C } /* Name.Variable.Class */\n",
       ".highlight .vg { color: #19177C } /* Name.Variable.Global */\n",
       ".highlight .vi { color: #19177C } /* Name.Variable.Instance */\n",
       ".highlight .vm { color: #19177C } /* Name.Variable.Magic */\n",
       ".highlight .il { color: #666666 } /* Literal.Number.Integer.Long */</style>"
      ],
      "text/plain": [
       "<IPython.core.display.HTML object>"
      ]
     },
     "metadata": {},
     "output_type": "display_data"
    },
    {
     "data": {
      "text/html": [
       "<div class=\"highlight\"><pre><span></span><span class=\"k\">def</span> <span class=\"nf\">unit_psth_ll</span><span class=\"p\">(</span><span class=\"n\">ipsi_hit</span><span class=\"p\">,</span> <span class=\"n\">contra_hit</span><span class=\"p\">,</span> <span class=\"n\">ipsi_err</span><span class=\"p\">,</span> <span class=\"n\">contra_err</span><span class=\"p\">):</span>\n",
       "    <span class=\"n\">max_trial_off</span> <span class=\"o\">=</span> <span class=\"mi\">500</span>\n",
       "    <span class=\"n\">binSize</span><span class=\"o\">=</span><span class=\"mf\">0.04</span>\n",
       "    <span class=\"n\">plt_xmin</span><span class=\"o\">=-</span><span class=\"mi\">3</span>\n",
       "    <span class=\"n\">plt_xmax</span><span class=\"o\">=</span><span class=\"mi\">3</span>\n",
       "    <span class=\"n\">plt_ymin</span><span class=\"o\">=</span><span class=\"mi\">0</span>\n",
       "    <span class=\"n\">plt_ymax</span><span class=\"o\">=</span><span class=\"bp\">None</span>  <span class=\"c1\"># dynamic per unit</span>\n",
       "    \n",
       "    <span class=\"n\">plt_ymax</span> <span class=\"o\">=</span> <span class=\"n\">np</span><span class=\"o\">.</span><span class=\"n\">max</span><span class=\"p\">([</span><span class=\"n\">contra_hit</span><span class=\"p\">[</span><span class=\"s1\">&#39;psth&#39;</span><span class=\"p\">][</span><span class=\"mi\">0</span><span class=\"p\">],</span> <span class=\"n\">ipsi_hit</span><span class=\"p\">[</span><span class=\"s1\">&#39;psth&#39;</span><span class=\"p\">][</span><span class=\"mi\">0</span><span class=\"p\">],</span> <span class=\"n\">contra_err</span><span class=\"p\">[</span><span class=\"s1\">&#39;psth&#39;</span><span class=\"p\">][</span><span class=\"mi\">0</span><span class=\"p\">],</span> <span class=\"n\">ipsi_err</span><span class=\"p\">[</span><span class=\"s1\">&#39;psth&#39;</span><span class=\"p\">][</span><span class=\"mi\">0</span><span class=\"p\">]])</span>\n",
       "    \n",
       "    <span class=\"n\">plt</span><span class=\"o\">.</span><span class=\"n\">figure</span><span class=\"p\">()</span>\n",
       "    \n",
       "    <span class=\"c1\"># raster plot</span>\n",
       "    <span class=\"n\">ax</span><span class=\"o\">=</span><span class=\"n\">plt</span><span class=\"o\">.</span><span class=\"n\">subplot</span><span class=\"p\">(</span><span class=\"mi\">411</span><span class=\"p\">)</span>\n",
       "    <span class=\"n\">plt</span><span class=\"o\">.</span><span class=\"n\">plot</span><span class=\"p\">(</span><span class=\"n\">contra_hit</span><span class=\"p\">[</span><span class=\"s1\">&#39;raster&#39;</span><span class=\"p\">][</span><span class=\"mi\">0</span><span class=\"p\">],</span> <span class=\"n\">contra_hit</span><span class=\"p\">[</span><span class=\"s1\">&#39;raster&#39;</span><span class=\"p\">][</span><span class=\"mi\">1</span><span class=\"p\">]</span> <span class=\"o\">+</span> <span class=\"n\">max_trial_off</span><span class=\"p\">,</span> <span class=\"s1\">&#39;b.&#39;</span><span class=\"p\">,</span> <span class=\"n\">markersize</span><span class=\"o\">=</span><span class=\"mi\">1</span><span class=\"p\">)</span>\n",
       "    <span class=\"n\">plt</span><span class=\"o\">.</span><span class=\"n\">plot</span><span class=\"p\">(</span><span class=\"n\">ipsi_hit</span><span class=\"p\">[</span><span class=\"s1\">&#39;raster&#39;</span><span class=\"p\">][</span><span class=\"mi\">0</span><span class=\"p\">],</span> <span class=\"n\">ipsi_hit</span><span class=\"p\">[</span><span class=\"s1\">&#39;raster&#39;</span><span class=\"p\">][</span><span class=\"mi\">1</span><span class=\"p\">],</span> <span class=\"s1\">&#39;r.&#39;</span><span class=\"p\">,</span> <span class=\"n\">markersize</span><span class=\"o\">=</span><span class=\"mi\">1</span><span class=\"p\">)</span>\n",
       "    <span class=\"n\">ax</span><span class=\"o\">.</span><span class=\"n\">set_axis_off</span><span class=\"p\">()</span>\n",
       "    <span class=\"n\">ax</span><span class=\"o\">.</span><span class=\"n\">set_xlim</span><span class=\"p\">([</span><span class=\"n\">plt_xmin</span><span class=\"p\">,</span> <span class=\"n\">plt_xmax</span><span class=\"p\">])</span>\n",
       "    <span class=\"n\">ax</span><span class=\"o\">.</span><span class=\"n\">axvline</span><span class=\"p\">(</span><span class=\"mi\">0</span><span class=\"p\">,</span><span class=\"mi\">0</span><span class=\"p\">,</span><span class=\"mi\">1</span><span class=\"p\">,</span> <span class=\"n\">ls</span><span class=\"o\">=</span><span class=\"s1\">&#39;--&#39;</span><span class=\"p\">)</span>\n",
       "    <span class=\"n\">ax</span><span class=\"o\">.</span><span class=\"n\">axvline</span><span class=\"p\">(</span><span class=\"o\">-</span><span class=\"mf\">1.2</span><span class=\"p\">,</span><span class=\"mi\">0</span><span class=\"p\">,</span><span class=\"mi\">1</span><span class=\"p\">,</span> <span class=\"n\">ls</span><span class=\"o\">=</span><span class=\"s1\">&#39;--&#39;</span><span class=\"p\">)</span>\n",
       "    <span class=\"n\">ax</span><span class=\"o\">.</span><span class=\"n\">axvline</span><span class=\"p\">(</span><span class=\"o\">-</span><span class=\"mf\">2.4</span><span class=\"p\">,</span><span class=\"mi\">0</span><span class=\"p\">,</span><span class=\"mi\">1</span><span class=\"p\">,</span> <span class=\"n\">ls</span><span class=\"o\">=</span><span class=\"s1\">&#39;--&#39;</span><span class=\"p\">)</span>\n",
       "\n",
       "    <span class=\"c1\"># histogram of hits</span>\n",
       "    <span class=\"n\">ax</span> <span class=\"o\">=</span> <span class=\"n\">plt</span><span class=\"o\">.</span><span class=\"n\">subplot</span><span class=\"p\">(</span><span class=\"mi\">412</span><span class=\"p\">)</span>\n",
       "    <span class=\"n\">plt</span><span class=\"o\">.</span><span class=\"n\">plot</span><span class=\"p\">(</span><span class=\"n\">contra_hit</span><span class=\"p\">[</span><span class=\"s1\">&#39;psth&#39;</span><span class=\"p\">][</span><span class=\"mi\">1</span><span class=\"p\">][</span><span class=\"mi\">1</span><span class=\"p\">:],</span> <span class=\"n\">contra_hit</span><span class=\"p\">[</span><span class=\"s1\">&#39;psth&#39;</span><span class=\"p\">][</span><span class=\"mi\">0</span><span class=\"p\">],</span> <span class=\"s1\">&#39;b&#39;</span><span class=\"p\">)</span>\n",
       "    <span class=\"n\">plt</span><span class=\"o\">.</span><span class=\"n\">plot</span><span class=\"p\">(</span><span class=\"n\">ipsi_hit</span><span class=\"p\">[</span><span class=\"s1\">&#39;psth&#39;</span><span class=\"p\">][</span><span class=\"mi\">1</span><span class=\"p\">][</span><span class=\"mi\">1</span><span class=\"p\">:],</span> <span class=\"n\">ipsi_hit</span><span class=\"p\">[</span><span class=\"s1\">&#39;psth&#39;</span><span class=\"p\">][</span><span class=\"mi\">0</span><span class=\"p\">],</span> <span class=\"s1\">&#39;r&#39;</span><span class=\"p\">)</span>\n",
       "    \n",
       "    <span class=\"n\">plt</span><span class=\"o\">.</span><span class=\"n\">ylabel</span><span class=\"p\">(</span><span class=\"s1\">&#39;spikes/s&#39;</span><span class=\"p\">)</span>\n",
       "    <span class=\"n\">ax</span><span class=\"o\">.</span><span class=\"n\">spines</span><span class=\"p\">[</span><span class=\"s2\">&quot;top&quot;</span><span class=\"p\">]</span><span class=\"o\">.</span><span class=\"n\">set_visible</span><span class=\"p\">(</span><span class=\"bp\">False</span><span class=\"p\">)</span>  \n",
       "    <span class=\"n\">ax</span><span class=\"o\">.</span><span class=\"n\">spines</span><span class=\"p\">[</span><span class=\"s2\">&quot;right&quot;</span><span class=\"p\">]</span><span class=\"o\">.</span><span class=\"n\">set_visible</span><span class=\"p\">(</span><span class=\"bp\">False</span><span class=\"p\">)</span>\n",
       "    <span class=\"n\">ax</span><span class=\"o\">.</span><span class=\"n\">set_xlim</span><span class=\"p\">([</span><span class=\"n\">plt_xmin</span><span class=\"p\">,</span> <span class=\"n\">plt_xmax</span><span class=\"p\">])</span>\n",
       "    <span class=\"n\">ax</span><span class=\"o\">.</span><span class=\"n\">set_ylim</span><span class=\"p\">([</span><span class=\"n\">plt_ymin</span><span class=\"p\">,</span> <span class=\"n\">plt_ymax</span><span class=\"p\">])</span>\n",
       "    <span class=\"n\">ax</span><span class=\"o\">.</span><span class=\"n\">set_xticklabels</span><span class=\"p\">([])</span>\n",
       "    <span class=\"n\">ax</span><span class=\"o\">.</span><span class=\"n\">axvline</span><span class=\"p\">(</span><span class=\"mi\">0</span><span class=\"p\">,</span><span class=\"mi\">0</span><span class=\"p\">,</span><span class=\"mi\">1</span><span class=\"p\">,</span> <span class=\"n\">ls</span><span class=\"o\">=</span><span class=\"s1\">&#39;--&#39;</span><span class=\"p\">)</span>\n",
       "    <span class=\"n\">ax</span><span class=\"o\">.</span><span class=\"n\">axvline</span><span class=\"p\">(</span><span class=\"o\">-</span><span class=\"mf\">1.2</span><span class=\"p\">,</span><span class=\"mi\">0</span><span class=\"p\">,</span><span class=\"mi\">1</span><span class=\"p\">,</span> <span class=\"n\">ls</span><span class=\"o\">=</span><span class=\"s1\">&#39;--&#39;</span><span class=\"p\">)</span>\n",
       "    <span class=\"n\">ax</span><span class=\"o\">.</span><span class=\"n\">axvline</span><span class=\"p\">(</span><span class=\"o\">-</span><span class=\"mf\">2.4</span><span class=\"p\">,</span><span class=\"mi\">0</span><span class=\"p\">,</span><span class=\"mi\">1</span><span class=\"p\">,</span> <span class=\"n\">ls</span><span class=\"o\">=</span><span class=\"s1\">&#39;--&#39;</span><span class=\"p\">)</span>\n",
       "    <span class=\"n\">plt</span><span class=\"o\">.</span><span class=\"n\">title</span><span class=\"p\">(</span><span class=\"s1\">&#39;Correct trials&#39;</span><span class=\"p\">)</span>\n",
       " \n",
       "    <span class=\"c1\"># histogram of errors</span>\n",
       "    <span class=\"n\">ax</span> <span class=\"o\">=</span> <span class=\"n\">plt</span><span class=\"o\">.</span><span class=\"n\">subplot</span><span class=\"p\">(</span><span class=\"mi\">413</span><span class=\"p\">)</span>\n",
       "    <span class=\"n\">plt</span><span class=\"o\">.</span><span class=\"n\">plot</span><span class=\"p\">(</span><span class=\"n\">contra_err</span><span class=\"p\">[</span><span class=\"s1\">&#39;psth&#39;</span><span class=\"p\">][</span><span class=\"mi\">1</span><span class=\"p\">][</span><span class=\"mi\">1</span><span class=\"p\">:],</span> <span class=\"n\">contra_err</span><span class=\"p\">[</span><span class=\"s1\">&#39;psth&#39;</span><span class=\"p\">][</span><span class=\"mi\">0</span><span class=\"p\">],</span> <span class=\"s1\">&#39;b&#39;</span><span class=\"p\">)</span>\n",
       "    <span class=\"n\">plt</span><span class=\"o\">.</span><span class=\"n\">plot</span><span class=\"p\">(</span><span class=\"n\">ipsi_err</span><span class=\"p\">[</span><span class=\"s1\">&#39;psth&#39;</span><span class=\"p\">][</span><span class=\"mi\">1</span><span class=\"p\">][</span><span class=\"mi\">1</span><span class=\"p\">:],</span> <span class=\"n\">ipsi_err</span><span class=\"p\">[</span><span class=\"s1\">&#39;psth&#39;</span><span class=\"p\">][</span><span class=\"mi\">0</span><span class=\"p\">],</span> <span class=\"s1\">&#39;r&#39;</span><span class=\"p\">)</span>\n",
       "    \n",
       "    <span class=\"n\">ax</span><span class=\"o\">.</span><span class=\"n\">spines</span><span class=\"p\">[</span><span class=\"s2\">&quot;top&quot;</span><span class=\"p\">]</span><span class=\"o\">.</span><span class=\"n\">set_visible</span><span class=\"p\">(</span><span class=\"bp\">False</span><span class=\"p\">)</span>  \n",
       "    <span class=\"n\">ax</span><span class=\"o\">.</span><span class=\"n\">spines</span><span class=\"p\">[</span><span class=\"s2\">&quot;right&quot;</span><span class=\"p\">]</span><span class=\"o\">.</span><span class=\"n\">set_visible</span><span class=\"p\">(</span><span class=\"bp\">False</span><span class=\"p\">)</span>\n",
       "    <span class=\"n\">ax</span><span class=\"o\">.</span><span class=\"n\">set_xlim</span><span class=\"p\">([</span><span class=\"n\">plt_xmin</span><span class=\"p\">,</span> <span class=\"n\">plt_xmax</span><span class=\"p\">])</span>\n",
       "    <span class=\"n\">ax</span><span class=\"o\">.</span><span class=\"n\">set_ylim</span><span class=\"p\">([</span><span class=\"n\">plt_ymin</span><span class=\"p\">,</span> <span class=\"n\">plt_ymax</span><span class=\"p\">])</span>\n",
       "    <span class=\"n\">ax</span><span class=\"o\">.</span><span class=\"n\">axvline</span><span class=\"p\">(</span><span class=\"mi\">0</span><span class=\"p\">,</span><span class=\"mi\">0</span><span class=\"p\">,</span><span class=\"mi\">1</span><span class=\"p\">,</span> <span class=\"n\">ls</span><span class=\"o\">=</span><span class=\"s1\">&#39;--&#39;</span><span class=\"p\">)</span>\n",
       "    <span class=\"n\">ax</span><span class=\"o\">.</span><span class=\"n\">axvline</span><span class=\"p\">(</span><span class=\"o\">-</span><span class=\"mf\">1.2</span><span class=\"p\">,</span><span class=\"mi\">0</span><span class=\"p\">,</span><span class=\"mi\">1</span><span class=\"p\">,</span> <span class=\"n\">ls</span><span class=\"o\">=</span><span class=\"s1\">&#39;--&#39;</span><span class=\"p\">)</span>\n",
       "    <span class=\"n\">ax</span><span class=\"o\">.</span><span class=\"n\">axvline</span><span class=\"p\">(</span><span class=\"o\">-</span><span class=\"mf\">2.4</span><span class=\"p\">,</span><span class=\"mi\">0</span><span class=\"p\">,</span><span class=\"mi\">1</span><span class=\"p\">,</span> <span class=\"n\">ls</span><span class=\"o\">=</span><span class=\"s1\">&#39;--&#39;</span><span class=\"p\">)</span>\n",
       "\n",
       "    <span class=\"n\">plt</span><span class=\"o\">.</span><span class=\"n\">title</span><span class=\"p\">(</span><span class=\"s1\">&#39;Error trials&#39;</span><span class=\"p\">)</span>\n",
       "    <span class=\"n\">plt</span><span class=\"o\">.</span><span class=\"n\">xlabel</span><span class=\"p\">(</span><span class=\"s1\">&#39;Time to go cue (s)&#39;</span><span class=\"p\">)</span>\n",
       "    <span class=\"n\">plt</span><span class=\"o\">.</span><span class=\"n\">show</span><span class=\"p\">()</span>\n",
       "</pre></div>\n"
      ],
      "text/plain": [
       "<IPython.core.display.HTML object>"
      ]
     },
     "metadata": {},
     "output_type": "display_data"
    }
   ],
   "source": [
    "plot.show_source(plot.unit_psth_ll)"
   ]
  }
 ],
 "metadata": {
  "kernelspec": {
   "display_name": "Python 3",
   "language": "python",
   "name": "python3"
  },
  "language_info": {
   "codemirror_mode": {
    "name": "ipython",
    "version": 3
   },
   "file_extension": ".py",
   "mimetype": "text/x-python",
   "name": "python",
   "nbconvert_exporter": "python",
   "pygments_lexer": "ipython3",
   "version": "3.5.2"
  }
 },
 "nbformat": 4,
 "nbformat_minor": 2
}
