{
 "cells": [
  {
   "cell_type": "markdown",
   "metadata": {},
   "source": [
    "# Jupyter Widget for inspecting behavioral data of Foraging experiment"
   ]
  },
  {
   "cell_type": "code",
   "execution_count": 1,
   "metadata": {},
   "outputs": [],
   "source": [
    "import ipywidgets as widgets\n",
    "from ipywidgets import interact, interact_manual\n",
    "from IPython.display import display,clear_output\n",
    "import pandas as pd\n",
    "import matplotlib.pyplot as plt\n",
    "import datajoint as dj\n",
    "import numpy as np\n",
    "import os\n",
    "import json\n",
    "\n",
    "#%matplotlib widgetsnbextension"
   ]
  },
  {
   "cell_type": "code",
   "execution_count": 2,
   "metadata": {},
   "outputs": [],
   "source": [
    "dj.config.load('../../dj_local_conf.json')"
   ]
  },
  {
   "cell_type": "code",
   "execution_count": 3,
   "metadata": {},
   "outputs": [],
   "source": [
    "dj.config['database.host'] = 'localhost'\n",
    "dj.config['database.user'] = 'root'\n",
    "dj.config['database.password'] = None"
   ]
  },
  {
   "cell_type": "code",
   "execution_count": 3,
   "metadata": {},
   "outputs": [
    {
     "name": "stdout",
     "output_type": "stream",
     "text": [
      "Connecting root@localhost:3306\n"
     ]
    },
    {
     "data": {
      "text/plain": [
       "DataJoint connection (connected) root@localhost:3306"
      ]
     },
     "execution_count": 3,
     "metadata": {},
     "output_type": "execute_result"
    }
   ],
   "source": [
    "dj.conn()"
   ]
  },
  {
   "cell_type": "code",
   "execution_count": 4,
   "metadata": {},
   "outputs": [
    {
     "name": "stdout",
     "output_type": "stream",
     "text": [
      "C:\\Users\\thinh\\Documents\\TN-Vathes\\MAP\\map-ephys\n"
     ]
    }
   ],
   "source": [
    "cd ../.."
   ]
  },
  {
   "cell_type": "code",
   "execution_count": 5,
   "metadata": {},
   "outputs": [],
   "source": [
    "from pipeline import lab, experiment, foraging_analysis"
   ]
  },
  {
   "cell_type": "markdown",
   "metadata": {},
   "source": [
    "## ---- Build the Widget ----"
   ]
  },
  {
   "cell_type": "markdown",
   "metadata": {},
   "source": [
    "### Helper methods "
   ]
  },
  {
   "cell_type": "code",
   "execution_count": 6,
   "metadata": {},
   "outputs": [],
   "source": [
    "#data.df_behaviortrial=[]\n",
    "\n",
    "def update_params(df_behaviortrial=None):  # this script make sure that the widgets are synchronized\n",
    "    plottype = task_selector.value\n",
    "    if '2' in plottype:\n",
    "        wr_names = (foraging_analysis.SessionTaskProtocol * experiment.Session * lab.WaterRestriction\n",
    "                    & 'session_task_protocol = 100').fetch('water_restriction_number')\n",
    "    elif '3' in plottype:\n",
    "        wr_names = (foraging_analysis.SessionTaskProtocol * experiment.Session * lab.WaterRestriction\n",
    "                    & 'session_task_protocol = 101').fetch('water_restriction_number')\n",
    "    wr_names = np.unique(wr_names)\n",
    "    wr_name_selector.options = wr_names\n",
    "    wr_name = wr_name_selector.value\n",
    "    subject_id = (lab.WaterRestriction & 'water_restriction_number = \"{}\"'.format(wr_name)).fetch1('subject_id')\n",
    "\n",
    "    df_sessions = pd.DataFrame(foraging_analysis.SessionTaskProtocol * experiment.Session & 'subject_id = {}'.format(subject_id))\n",
    "    if '2' in plottype:\n",
    "        needed = df_sessions['session_task_protocol'] == 100\n",
    "    elif '3' in plottype:\n",
    "        needed = df_sessions['session_task_protocol'] == 101\n",
    "    df_sessions=df_sessions[needed]\n",
    "    if len(df_sessions)>0:\n",
    "        try:\n",
    "            session_selector.min = df_sessions['session'].min()\n",
    "            session_selector.max = df_sessions['session'].max()\n",
    "        except:\n",
    "            session_selector.max = df_sessions['session'].max()\n",
    "            session_selector.min = df_sessions['session'].min()\n",
    "    else:\n",
    "        session_selector.min = 0\n",
    "        session_selector.max = 0\n",
    "    session_real_foraging = (foraging_analysis.SessionTaskProtocol & 'subject_id = {}'.format(subject_id)).fetch(\n",
    "        'session_real_foraging')\n",
    "    metadata_display.value = 'Pretraining session num: {}'.format(sum(session_real_foraging ==0))\n",
    "    \n",
    "    if type(df_behaviortrial) == pd.DataFrame:\n",
    "        overall_sum_prob_efficiency =  (foraging_analysis.BlockEfficiency & 'subject_id = {}'.format(subject_id)).fetch('block_effi_sum_p_reward')\n",
    "        overall_sum_prob_efficiency = overall_sum_prob_efficiency[overall_sum_prob_efficiency != np.array(None)]\n",
    "        overall_sum_prob_efficiency = np.array([float(x) for x in overall_sum_prob_efficiency])\n",
    "        metadata_display.value = metadata_display.value + '<br/>  trial number: {}'.format(len(df_behaviortrial)) + '<br/> overall_sum_prob_efficiency : {:.2f}'.format(np.nanmean(overall_sum_prob_efficiency))\n",
    "\n",
    "        \n",
    "        \n",
    "def enable_local_efficiency(dummy=None): # enable controls to calculating local efficiency\n",
    "    if calculate_efficiency_locally.value:\n",
    "        setvalue = False\n",
    "    else:\n",
    "        setvalue = True\n",
    "        \n",
    "    local_bias_sliding_window.disabled= setvalue\n",
    "    local_bias_matching_window.disabled= setvalue\n",
    "    local_bias_matching_step.disabled= setvalue\n",
    "    \n",
    "    \n",
    "def plot_stuff(dummy=None): # this script does the plotting\n",
    "    # generate figure structure\n",
    "    fig=plt.figure()\n",
    "    ax1=fig.add_axes([0,0,2,.8])\n",
    "    ax2=fig.add_axes([0,-.6,2,.4])\n",
    "    ax3=fig.add_axes([0,-1.6,2,.8])\n",
    "    ax4=fig.add_axes([0,-2.6,2,.8])\n",
    "    ax5 = fig.add_axes([0,-3.6,2,.8])\n",
    "    plt.close(fig)\n",
    "    \n",
    "    with output:\n",
    "        clear_output(wait=True)\n",
    "        print('waiting for data..')\n",
    "    # invoke plot functions   \n",
    "    filters = {'ignore_rate_max':filter_max_ignore_rate.value,\n",
    "               'averaging_window':plot_choice_averaging_window.value}\n",
    "    \n",
    "    local_matching = {'calculate_local_matching': calculate_efficiency_locally.value,\n",
    "                     'sliding_window':local_bias_sliding_window.value,\n",
    "                     'matching_window':local_bias_matching_window.value,\n",
    "                     'matching_step':local_bias_matching_step.value,\n",
    "                     'efficiency_type':plot_efficiency.value}\n",
    "    \n",
    "    df_behaviortrial = extract_trials(plottype = task_selector.value,\n",
    "                                      wr_name = wr_name_selector.value,\n",
    "                                      sessions = session_selector.value,\n",
    "                                      show_bias_check_trials =  bias_check_selector.value,\n",
    "                                      kernel = np.ones(plot_choice_averaging_window.value)/plot_choice_averaging_window.value,\n",
    "                                      filters = filters,\n",
    "                                      local_matching = local_matching)\n",
    "    plot_trials(df_behaviortrial,\n",
    "                ax1,\n",
    "                ax2,\n",
    "                plottype = task_selector.value,\n",
    "                wr_name = wr_name_selector.value,\n",
    "                sessions = session_selector.value,\n",
    "                plot_every_choice= plot_each_choice.value,\n",
    "                show_bias_check_trials =  bias_check_selector.value,\n",
    "                choice_filter = np.ones(plot_choice_averaging_window.value)/plot_choice_averaging_window.value)\n",
    "    if local_matching['calculate_local_matching']:\n",
    "        plot_local_efficiency_matching_bias(df_behaviortrial,\n",
    "                                            ax3)\n",
    "        \n",
    "    else:\n",
    "        plot_efficiency_matching_bias(ax3,\n",
    "                                      plottype = task_selector.value,\n",
    "                                      wr_name = wr_name_selector.value,\n",
    "                                      sessions= session_selector.value,\n",
    "                                      show_bias_check_trials =  bias_check_selector.value,\n",
    "                                      plot_efficiency_type = plot_efficiency.value)\n",
    "    plot_rt_iti(df_behaviortrial,\n",
    "                ax4,\n",
    "                ax5,\n",
    "                plottype = task_selector.value,\n",
    "                wr_name = wr_name_selector.value,\n",
    "                sessions = session_selector.value,\n",
    "                show_bias_check_trials =  bias_check_selector.value,\n",
    "                kernel = np.ones(plot_choice_averaging_window.value)/plot_choice_averaging_window.value)\n",
    "    \n",
    "    # display figure on widget\n",
    "    with output:\n",
    "        clear_output(wait=True)\n",
    "        display(fig)\n",
    "    update_params(df_behaviortrial)\n",
    "    \n",
    "    if export_data.value:\n",
    "        if not os.path.exists('export'):\n",
    "            os.mkdir('export')\n",
    "        choice = np.zeros(len(df_behaviortrial),dtype = int)\n",
    "        choice[df_behaviortrial['trial_choice']=='left']=1\n",
    "        choice[df_behaviortrial['trial_choice']=='right']=2\n",
    "        reward = np.zeros(len(df_behaviortrial),dtype=int)\n",
    "        reward[(df_behaviortrial['trial_choice']=='left')&(df_behaviortrial['outcome']=='hit')]=1\n",
    "        reward[(df_behaviortrial['trial_choice']=='right')&(df_behaviortrial['outcome']=='hit')]=2\n",
    "        output_dict = {'choice':choice,\n",
    "                  'reward':reward,\n",
    "                  'p1':np.asarray(df_behaviortrial['p_reward_left'].values,float),\n",
    "                  'p2':np.asarray(df_behaviortrial['p_reward_right'].values,float).tolist(),\n",
    "                  'session':np.asarray(df_behaviortrial['session'].values,int)}\n",
    "        filename = os.path.join('.','export','{}.npz'.format(wr_name_selector.value))\n",
    "        np.savez_compressed(filename,\n",
    "                            choice=output_dict['choice'],\n",
    "                            reward = output_dict['reward'],\n",
    "                            p1 = output_dict['p1'],\n",
    "                            p2 = output_dict['p2'],\n",
    "                            session = output_dict['session'])\n",
    "        filename = os.path.join('.','export','{}.json'.format(wr_name_selector.value))\n",
    "        with open(filename, 'w') as outfile:\n",
    "            json.dump(filters, outfile, indent=2, sort_keys=True)\n",
    "    "
   ]
  },
  {
   "cell_type": "markdown",
   "metadata": {},
   "source": [
    "### Define widgets"
   ]
  },
  {
   "cell_type": "code",
   "execution_count": 7,
   "metadata": {},
   "outputs": [
    {
     "data": {
      "application/vnd.jupyter.widget-view+json": {
       "model_id": "2f5c691fdc6d40e6a56c8a63eba78ff7",
       "version_major": 2,
       "version_minor": 0
      },
      "text/plain": [
       "Accordion(children=(VBox(children=(HBox(children=(VBox(children=(Label(value='Task'), Dropdown(layout=Layout(w…"
      ]
     },
     "metadata": {},
     "output_type": "display_data"
    },
    {
     "data": {
      "application/vnd.jupyter.widget-view+json": {
       "model_id": "8345809b36d94e35bc4783d6ba17e184",
       "version_major": 2,
       "version_minor": 0
      },
      "text/plain": [
       "Output(layout=Layout(border='1px solid black'))"
      ]
     },
     "metadata": {},
     "output_type": "display_data"
    },
    {
     "data": {
      "application/vnd.jupyter.widget-view+json": {
       "model_id": "98446748d495418d865bdbe96df6a5d7",
       "version_major": 2,
       "version_minor": 0
      },
      "text/plain": [
       "VBox(children=(Output(), Output()))"
      ]
     },
     "metadata": {},
     "output_type": "display_data"
    },
    {
     "data": {
      "application/vnd.jupyter.widget-view+json": {
       "model_id": "8345809b36d94e35bc4783d6ba17e184",
       "version_major": 2,
       "version_minor": 0
      },
      "text/plain": [
       "Output(layout=Layout(border='1px solid black'))"
      ]
     },
     "metadata": {},
     "output_type": "display_data"
    },
    {
     "ename": "NameError",
     "evalue": "name 'extract_trials' is not defined",
     "output_type": "error",
     "traceback": [
      "\u001b[1;31m---------------------------------------------------------------------------\u001b[0m",
      "\u001b[1;31mNameError\u001b[0m                                 Traceback (most recent call last)",
      "\u001b[1;32m<ipython-input-6-2695062e9f73>\u001b[0m in \u001b[0;36mplot_stuff\u001b[1;34m(dummy)\u001b[0m\n\u001b[0;32m     76\u001b[0m                      'efficiency_type':plot_efficiency.value}\n\u001b[0;32m     77\u001b[0m \u001b[1;33m\u001b[0m\u001b[0m\n\u001b[1;32m---> 78\u001b[1;33m     df_behaviortrial = extract_trials(plottype = task_selector.value,\n\u001b[0m\u001b[0;32m     79\u001b[0m                                       \u001b[0mwr_name\u001b[0m \u001b[1;33m=\u001b[0m \u001b[0mwr_name_selector\u001b[0m\u001b[1;33m.\u001b[0m\u001b[0mvalue\u001b[0m\u001b[1;33m,\u001b[0m\u001b[1;33m\u001b[0m\u001b[0m\n\u001b[0;32m     80\u001b[0m                                       \u001b[0msessions\u001b[0m \u001b[1;33m=\u001b[0m \u001b[0msession_selector\u001b[0m\u001b[1;33m.\u001b[0m\u001b[0mvalue\u001b[0m\u001b[1;33m,\u001b[0m\u001b[1;33m\u001b[0m\u001b[0m\n",
      "\u001b[1;31mNameError\u001b[0m: name 'extract_trials' is not defined"
     ]
    }
   ],
   "source": [
    "border = widgets.Output(layout={'border': '1px solid black'})\n",
    "output = widgets.Output()\n",
    "output2 = widgets.Output()\n",
    "task_selector = widgets.Dropdown(layout={'width': 'auto'},\n",
    "                                    options=['2lickport','3lickport'],\n",
    "                                    disabled=False)\n",
    "task_selector.observe(update_params,'value')\n",
    "\n",
    "wr_name_selector = widgets.Dropdown(layout={'width': 'auto'},\n",
    "                                    options=[],\n",
    "                                    disabled=False)\n",
    "wr_name_selector.observe(update_params,'value') # runs update params upon change in value\n",
    "\n",
    "session_selector = widgets.IntRangeSlider(value=[5, 7],\n",
    "                                          min=0,\n",
    "                                          max=10,\n",
    "                                          step=1,\n",
    "                                          disabled=False,\n",
    "                                          continuous_update=False,\n",
    "                                          orientation='horizontal',\n",
    "                                          readout=True,\n",
    "                                          readout_format='d')\n",
    "\n",
    "bias_check_selector = widgets.Checkbox(value=True,\n",
    "                                       description='Include bias check',\n",
    "                                       disabled=False,\n",
    "                                       indent=False,\n",
    "                                       layout={'width': 'auto'})\n",
    "metadata_display = widgets.HTML(value=\"\",\n",
    "                                placeholder=' ',\n",
    "                                description=' ',\n",
    "                                layout={'width': 'auto'})\n",
    "\n",
    "\n",
    "\n",
    "plot_button = widgets.Button(description=\"plot\")\n",
    "plot_button.on_click(plot_stuff)\n",
    "\n",
    "export_data = widgets.Checkbox(value=False,\n",
    "                              description='export on plot',\n",
    "                              disabled=False,\n",
    "                              indent=False,\n",
    "                              layout={'width': 'auto'})\n",
    "\n",
    "\n",
    "# plotting related widgets\n",
    "plot_each_choice = widgets.Checkbox(value=True,\n",
    "                              description='Plot each choice',\n",
    "                              disabled=False,\n",
    "                              indent=False,\n",
    "                              layout={'width': 'auto'})\n",
    "plot_choice_averaging_window = widgets.IntText(value=10,\n",
    "                                               description='Choice avg window:',\n",
    "                                               style={'description_width': 'initial'},\n",
    "                                               disabled=False,\n",
    "                                               layout={'width': '70%'}\n",
    "                                              )\n",
    "plot_efficiency = widgets.Dropdown(layout={'width': 'initial'},\n",
    "                                   options=['ideal','ideal_regret','max_prob','sum_prob','max_available','sum_available'],\n",
    "                                   value = 'ideal',\n",
    "                                   description = 'Efficiency:',\n",
    "                                   disabled=False)\n",
    "calculate_efficiency_locally = widgets.Checkbox(value=False,\n",
    "                                                description='local matching, bias, efficiency',\n",
    "                                                disabled=False,\n",
    "                                                indent=False)\n",
    "calculate_efficiency_locally.observe(enable_local_efficiency,'value')\n",
    "\n",
    "local_bias_sliding_window = widgets.IntText(value=50,\n",
    "                                            description='sliding window:',\n",
    "                                            style={'description_width': 'initial'},\n",
    "                                            disabled=True,\n",
    "                                            layout={'width': '70%'})\n",
    "local_bias_matching_window = widgets.IntText(value=500,\n",
    "                                             description='matching window:',\n",
    "                                             style={'description_width': 'initial'},\n",
    "                                             disabled=True,\n",
    "                                             layout={'width': '70%'})\n",
    "local_bias_matching_step= widgets.IntText(value=100,\n",
    "                                          description='matching step:',\n",
    "                                          style={'description_width': 'initial'},\n",
    "                                          disabled=True,\n",
    "                                          layout={'width': '70%'})\n",
    "\n",
    "# data filtering related widgets\n",
    "filter_max_ignore_rate = widgets.IntText(value=100,\n",
    "                                         description='Max ignore rate %:',\n",
    "                                         style={'description_width': 'initial'},\n",
    "                                         disabled=False,\n",
    "                                         layout={'width': '70%'})\n",
    "## layout of widgets\n",
    "controls = widgets.HBox([widgets.VBox([widgets.Label('Task'), task_selector]),\n",
    "                         widgets.VBox([widgets.Label('Subject'), wr_name_selector]),\n",
    "                         widgets.VBox([widgets.Label('Sessions'),session_selector]),\n",
    "                         widgets.VBox([bias_check_selector]),\n",
    "                         widgets.VBox([plot_button]),\n",
    "                         export_data])\n",
    "\n",
    "plot_controls = widgets.HBox([widgets.VBox([plot_each_choice,plot_choice_averaging_window]),\n",
    "                             widgets.VBox([plot_efficiency]),\n",
    "                             widgets.VBox([calculate_efficiency_locally,local_bias_sliding_window,local_bias_matching_window,local_bias_matching_step])])\n",
    "filter_controls = widgets.HBox([widgets.VBox([filter_max_ignore_rate])])\n",
    "filter_plot_main = widgets.VBox(children=(controls,plot_controls,filter_controls,metadata_display), title=('Select data', 'Plot details','Metadata'))\n",
    "\n",
    "## Model fitting widgets\n",
    "\n",
    "model_fitting_widget_temp = widgets.HBox([])\n",
    "\n",
    "accordion = widgets.Accordion(children=[filter_plot_main,model_fitting_widget_temp], titles=('Filtering', 'Fitting'))\n",
    "accordion.set_title(0, 'Filter data and plot')\n",
    "accordion.set_title(1, 'Fit model')\n",
    "\n",
    "\n",
    "# displaying widgets\n",
    "display(accordion)\n",
    "display(border)\n",
    "display(widgets.VBox([output,output2]))\n",
    "display(border)\n",
    "update_params()"
   ]
  },
  {
   "cell_type": "code",
   "execution_count": null,
   "metadata": {},
   "outputs": [],
   "source": []
  }
 ],
 "metadata": {
  "kernelspec": {
   "display_name": "Python 3",
   "language": "python",
   "name": "python3"
  },
  "language_info": {
   "codemirror_mode": {
    "name": "ipython",
    "version": 3
   },
   "file_extension": ".py",
   "mimetype": "text/x-python",
   "name": "python",
   "nbconvert_exporter": "python",
   "pygments_lexer": "ipython3",
   "version": "3.7.0"
  }
 },
 "nbformat": 4,
 "nbformat_minor": 2
}
