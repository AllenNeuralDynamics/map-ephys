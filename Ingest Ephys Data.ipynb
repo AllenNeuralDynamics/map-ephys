{
 "cells": [
  {
   "cell_type": "code",
   "execution_count": 1,
   "metadata": {},
   "outputs": [],
   "source": [
    "import datajoint as dj"
   ]
  },
  {
   "cell_type": "code",
   "execution_count": 2,
   "metadata": {},
   "outputs": [
    {
     "name": "stdout",
     "output_type": "stream",
     "text": [
      "Connecting daveliu@mesoscale-activity.datajoint.io:3306\n"
     ]
    }
   ],
   "source": [
    "import ephys"
   ]
  },
  {
   "cell_type": "code",
   "execution_count": 3,
   "metadata": {
    "scrolled": false
   },
   "outputs": [
    {
     "data": {
      "image/svg+xml": [
       "<svg height=\"311pt\" viewBox=\"0.00 0.00 435.00 311.00\" width=\"435pt\" xmlns=\"http://www.w3.org/2000/svg\" xmlns:xlink=\"http://www.w3.org/1999/xlink\">\n",
       "<g class=\"graph\" id=\"graph0\" transform=\"scale(1 1) rotate(0) translate(4 307)\">\n",
       "<polygon fill=\"white\" points=\"-4,4 -4,-307 431,-307 431,4 -4,4\" stroke=\"transparent\"/>\n",
       "<!-- ephys.LabeledTrack.Point -->\n",
       "<g class=\"node\" id=\"node1\">\n",
       "<title>ephys.LabeledTrack.Point</title>\n",
       "<polygon fill=\"transparent\" points=\"427,-82 298,-82 298,-63 427,-63 427,-82\" stroke=\"transparent\"/>\n",
       "<text font-family=\"arial\" font-size=\"10.00\" text-anchor=\"middle\" x=\"362.5\" y=\"-70\">ephys.LabeledTrack.Point</text>\n",
       "</g>\n",
       "<!-- ephys.Ephys.Spike -->\n",
       "<g class=\"node\" id=\"node2\">\n",
       "<title>ephys.Ephys.Spike</title>\n",
       "<polygon fill=\"transparent\" points=\"101,-19 0,-19 0,0 101,0 101,-19\" stroke=\"transparent\"/>\n",
       "<text font-family=\"arial\" font-size=\"10.00\" text-anchor=\"middle\" x=\"50.5\" y=\"-7\">ephys.Ephys.Spike</text>\n",
       "</g>\n",
       "<!-- ephys.ElectrodePosition -->\n",
       "<g class=\"node\" id=\"node3\">\n",
       "<title>ephys.ElectrodePosition</title>\n",
       "<polygon fill=\"#00ff00\" fill-opacity=\"0.188235\" points=\"166,-90 23,-90 23,-55 166,-55 166,-90\" stroke=\"#00ff00\" stroke-opacity=\"0.188235\"/>\n",
       "<text fill=\"darkgreen\" font-family=\"arial\" font-size=\"12.00\" text-anchor=\"middle\" x=\"94.5\" y=\"-69.4\">ephys.ElectrodePosition</text>\n",
       "</g>\n",
       "<!-- ephys.ElectrodeGroup.Electrode -->\n",
       "<g class=\"node\" id=\"node4\">\n",
       "<title>ephys.ElectrodeGroup.Electrode</title>\n",
       "<polygon fill=\"transparent\" points=\"161.5,-153 3.5,-153 3.5,-134 161.5,-134 161.5,-153\" stroke=\"transparent\"/>\n",
       "<text font-family=\"arial\" font-size=\"10.00\" text-anchor=\"middle\" x=\"82.5\" y=\"-141\">ephys.ElectrodeGroup.Electrode</text>\n",
       "</g>\n",
       "<!-- ephys.ElectrodeGroup.Electrode&#45;&gt;ephys.Ephys.Spike -->\n",
       "<g class=\"edge\" id=\"edge1\">\n",
       "<title>ephys.ElectrodeGroup.Electrode-&gt;ephys.Ephys.Spike</title>\n",
       "<path d=\"M62.95,-133.86C46.38,-125.36 23.73,-110.63 13.5,-90 6.59,-76.06 8.21,-69.63 13.5,-55 18.76,-40.45 31.08,-27.3 40.06,-19.13\" fill=\"none\" stroke=\"#000000\" stroke-dasharray=\"5,2\" stroke-opacity=\"0.250980\" stroke-width=\"0.75\"/>\n",
       "</g>\n",
       "<!-- ephys.ElectrodeGroup.Electrode&#45;&gt;ephys.ElectrodePosition -->\n",
       "<g class=\"edge\" id=\"edge2\">\n",
       "<title>ephys.ElectrodeGroup.Electrode-&gt;ephys.ElectrodePosition</title>\n",
       "<path d=\"M84.02,-133.76C85.92,-122.81 89.23,-103.81 91.62,-90.07\" fill=\"none\" stroke=\"#000000\" stroke-opacity=\"0.250980\" stroke-width=\"2\"/>\n",
       "</g>\n",
       "<!-- ephys.Probe -->\n",
       "<g class=\"node\" id=\"node5\">\n",
       "<title>ephys.Probe</title>\n",
       "<polygon fill=\"#000000\" fill-opacity=\"0.125490\" points=\"118,-303 47,-303 47,-268 118,-268 118,-303\" stroke=\"transparent\"/>\n",
       "<text font-family=\"arial\" font-size=\"10.00\" text-anchor=\"middle\" x=\"82.5\" y=\"-283\">ephys.Probe</text>\n",
       "</g>\n",
       "<!-- ephys.ElectrodeGroup -->\n",
       "<g class=\"node\" id=\"node7\">\n",
       "<title>ephys.ElectrodeGroup</title>\n",
       "<polygon fill=\"#00ff00\" fill-opacity=\"0.188235\" points=\"149,-232 16,-232 16,-197 149,-197 149,-232\" stroke=\"#00ff00\" stroke-opacity=\"0.188235\"/>\n",
       "<text fill=\"darkgreen\" font-family=\"arial\" font-size=\"12.00\" text-anchor=\"middle\" x=\"82.5\" y=\"-211.4\">ephys.ElectrodeGroup</text>\n",
       "</g>\n",
       "<!-- ephys.Probe&#45;&gt;ephys.ElectrodeGroup -->\n",
       "<g class=\"edge\" id=\"edge3\">\n",
       "<title>ephys.Probe-&gt;ephys.ElectrodeGroup</title>\n",
       "<path d=\"M82.5,-267.8C82.5,-256.95 82.5,-242.87 82.5,-232.05\" fill=\"none\" stroke=\"#000000\" stroke-dasharray=\"5,2\" stroke-opacity=\"0.250980\" stroke-width=\"0.75\"/>\n",
       "</g>\n",
       "<!-- ephys.Ephys.TrialUnit -->\n",
       "<g class=\"node\" id=\"node6\">\n",
       "<title>ephys.Ephys.TrialUnit</title>\n",
       "<polygon fill=\"transparent\" points=\"287.5,-19 175.5,-19 175.5,0 287.5,0 287.5,-19\" stroke=\"transparent\"/>\n",
       "<text font-family=\"arial\" font-size=\"10.00\" text-anchor=\"middle\" x=\"231.5\" y=\"-7\">ephys.Ephys.TrialUnit</text>\n",
       "</g>\n",
       "<!-- ephys.ElectrodeGroup&#45;&gt;ephys.ElectrodeGroup.Electrode -->\n",
       "<g class=\"edge\" id=\"edge4\">\n",
       "<title>ephys.ElectrodeGroup-&gt;ephys.ElectrodeGroup.Electrode</title>\n",
       "<path d=\"M82.5,-196.8C82.5,-183.08 82.5,-164.19 82.5,-153.27\" fill=\"none\" stroke=\"#000000\" stroke-opacity=\"0.250980\" stroke-width=\"0.75\"/>\n",
       "</g>\n",
       "<!-- ephys.Ephys -->\n",
       "<g class=\"node\" id=\"node9\">\n",
       "<title>ephys.Ephys</title>\n",
       "<ellipse cx=\"231.5\" cy=\"-143.5\" fill=\"#00007f\" fill-opacity=\"0.250980\" rx=\"51.75\" ry=\"17.5\" stroke=\"#00007f\" stroke-opacity=\"0.250980\"/>\n",
       "<text fill=\"#00007f\" fill-opacity=\"0.627451\" font-family=\"arial\" font-size=\"12.00\" text-anchor=\"middle\" x=\"231.5\" y=\"-140.4\">ephys.Ephys</text>\n",
       "</g>\n",
       "<!-- ephys.ElectrodeGroup&#45;&gt;ephys.Ephys -->\n",
       "<g class=\"edge\" id=\"edge5\">\n",
       "<title>ephys.ElectrodeGroup-&gt;ephys.Ephys</title>\n",
       "<path d=\"M118.19,-196.97C143.85,-185.09 178.02,-169.27 202.11,-158.11\" fill=\"none\" stroke=\"#000000\" stroke-opacity=\"0.250980\" stroke-width=\"2\"/>\n",
       "</g>\n",
       "<!-- ephys.LabeledTrack -->\n",
       "<g class=\"node\" id=\"node10\">\n",
       "<title>ephys.LabeledTrack</title>\n",
       "<polygon fill=\"#00ff00\" fill-opacity=\"0.188235\" points=\"423.5,-161 301.5,-161 301.5,-126 423.5,-126 423.5,-161\" stroke=\"#00ff00\" stroke-opacity=\"0.188235\"/>\n",
       "<text fill=\"darkgreen\" font-family=\"arial\" font-size=\"12.00\" text-anchor=\"middle\" x=\"362.5\" y=\"-140.4\">ephys.LabeledTrack</text>\n",
       "</g>\n",
       "<!-- ephys.ElectrodeGroup&#45;&gt;ephys.LabeledTrack -->\n",
       "<g class=\"edge\" id=\"edge6\">\n",
       "<title>ephys.ElectrodeGroup-&gt;ephys.LabeledTrack</title>\n",
       "<path d=\"M149.21,-197.06C195.31,-185.7 256.18,-170.7 301.08,-159.63\" fill=\"none\" stroke=\"#000000\" stroke-opacity=\"0.250980\" stroke-width=\"2\"/>\n",
       "</g>\n",
       "<!-- ephys.Ephys.Unit -->\n",
       "<g class=\"node\" id=\"node8\">\n",
       "<title>ephys.Ephys.Unit</title>\n",
       "<polygon fill=\"transparent\" points=\"278.5,-82 184.5,-82 184.5,-63 278.5,-63 278.5,-82\" stroke=\"transparent\"/>\n",
       "<text font-family=\"arial\" font-size=\"10.00\" text-anchor=\"middle\" x=\"231.5\" y=\"-70\">ephys.Ephys.Unit</text>\n",
       "</g>\n",
       "<!-- ephys.Ephys.Unit&#45;&gt;ephys.Ephys.Spike -->\n",
       "<g class=\"edge\" id=\"edge7\">\n",
       "<title>ephys.Ephys.Unit-&gt;ephys.Ephys.Spike</title>\n",
       "<path d=\"M205.95,-62.89C171.45,-51.26 110.35,-30.67 75.92,-19.07\" fill=\"none\" stroke=\"#000000\" stroke-opacity=\"0.250980\" stroke-width=\"0.75\"/>\n",
       "</g>\n",
       "<!-- ephys.Ephys.Unit&#45;&gt;ephys.Ephys.TrialUnit -->\n",
       "<g class=\"edge\" id=\"edge8\">\n",
       "<title>ephys.Ephys.Unit-&gt;ephys.Ephys.TrialUnit</title>\n",
       "<path d=\"M231.5,-62.76C231.5,-51.16 231.5,-30.81 231.5,-19.22\" fill=\"none\" stroke=\"#000000\" stroke-opacity=\"0.250980\" stroke-width=\"0.75\"/>\n",
       "</g>\n",
       "<!-- ephys.Ephys&#45;&gt;ephys.Ephys.Unit -->\n",
       "<g class=\"edge\" id=\"edge9\">\n",
       "<title>ephys.Ephys-&gt;ephys.Ephys.Unit</title>\n",
       "<path d=\"M231.5,-125.8C231.5,-112.08 231.5,-93.19 231.5,-82.27\" fill=\"none\" stroke=\"#000000\" stroke-opacity=\"0.250980\" stroke-width=\"0.75\"/>\n",
       "</g>\n",
       "<!-- ephys.LabeledTrack&#45;&gt;ephys.LabeledTrack.Point -->\n",
       "<g class=\"edge\" id=\"edge10\">\n",
       "<title>ephys.LabeledTrack-&gt;ephys.LabeledTrack.Point</title>\n",
       "<path d=\"M362.5,-125.8C362.5,-112.08 362.5,-93.19 362.5,-82.27\" fill=\"none\" stroke=\"#000000\" stroke-opacity=\"0.250980\" stroke-width=\"0.75\"/>\n",
       "</g>\n",
       "</g>\n",
       "</svg>"
      ],
      "text/plain": [
       "<datajoint.erd.ERD at 0x1d6a3470>"
      ]
     },
     "execution_count": 3,
     "metadata": {},
     "output_type": "execute_result"
    }
   ],
   "source": [
    "dj.ERD(ephys)"
   ]
  },
  {
   "cell_type": "code",
   "execution_count": 4,
   "metadata": {},
   "outputs": [],
   "source": [
    "import scipy.io as spio\n",
    "import numpy as np\n",
    "import matplotlib.pyplot as plt\n",
    "%matplotlib inline"
   ]
  },
  {
   "cell_type": "code",
   "execution_count": 5,
   "metadata": {},
   "outputs": [
    {
     "data": {
      "image/svg+xml": [
       "<svg height=\"382pt\" viewBox=\"0.00 0.00 805.00 382.00\" width=\"805pt\" xmlns=\"http://www.w3.org/2000/svg\" xmlns:xlink=\"http://www.w3.org/1999/xlink\">\n",
       "<g class=\"graph\" id=\"graph0\" transform=\"scale(1 1) rotate(0) translate(4 378)\">\n",
       "<polygon fill=\"white\" points=\"-4,4 -4,-378 801,-378 801,4 -4,4\" stroke=\"transparent\"/>\n",
       "<!-- ephys.LabeledTrack.Point -->\n",
       "<g class=\"node\" id=\"node1\">\n",
       "<title>ephys.LabeledTrack.Point</title>\n",
       "<polygon fill=\"transparent\" points=\"524.5,-82 395.5,-82 395.5,-63 524.5,-63 524.5,-82\" stroke=\"transparent\"/>\n",
       "<text font-family=\"arial\" font-size=\"10.00\" text-anchor=\"middle\" x=\"460\" y=\"-70\">ephys.LabeledTrack.Point</text>\n",
       "</g>\n",
       "<!-- ephys.experiment.lab.Rig -->\n",
       "<g class=\"node\" id=\"node2\">\n",
       "<title>ephys.experiment.lab.Rig</title>\n",
       "<polygon fill=\"#00ff00\" fill-opacity=\"0.188235\" points=\"148,-374 0,-374 0,-339 148,-339 148,-374\" stroke=\"#00ff00\" stroke-opacity=\"0.188235\"/>\n",
       "<text fill=\"darkgreen\" font-family=\"arial\" font-size=\"12.00\" text-anchor=\"middle\" x=\"74\" y=\"-353.4\">ephys.experiment.lab.Rig</text>\n",
       "</g>\n",
       "<!-- ephys.experiment.Session -->\n",
       "<g class=\"node\" id=\"node4\">\n",
       "<title>ephys.experiment.Session</title>\n",
       "<polygon fill=\"#00ff00\" fill-opacity=\"0.188235\" points=\"326,-303 172,-303 172,-268 326,-268 326,-303\" stroke=\"#00ff00\" stroke-opacity=\"0.188235\"/>\n",
       "<text fill=\"darkgreen\" font-family=\"arial\" font-size=\"12.00\" text-anchor=\"middle\" x=\"249\" y=\"-282.4\">ephys.experiment.Session</text>\n",
       "</g>\n",
       "<!-- ephys.experiment.lab.Rig&#45;&gt;ephys.experiment.Session -->\n",
       "<g class=\"edge\" id=\"edge1\">\n",
       "<title>ephys.experiment.lab.Rig-&gt;ephys.experiment.Session</title>\n",
       "<path d=\"M115.92,-338.97C143.52,-328.09 179.53,-313.89 207.12,-303.01\" fill=\"none\" stroke=\"#000000\" stroke-dasharray=\"5,2\" stroke-opacity=\"0.250980\" stroke-width=\"0.75\"/>\n",
       "</g>\n",
       "<!-- ephys.experiment.Session.Trial -->\n",
       "<g class=\"node\" id=\"node3\">\n",
       "<title>ephys.experiment.Session.Trial</title>\n",
       "<polygon fill=\"transparent\" points=\"325.5,-224 172.5,-224 172.5,-205 325.5,-205 325.5,-224\" stroke=\"transparent\"/>\n",
       "<text font-family=\"arial\" font-size=\"10.00\" text-anchor=\"middle\" x=\"249\" y=\"-212\">ephys.experiment.Session.Trial</text>\n",
       "</g>\n",
       "<!-- ephys.Ephys.Spike -->\n",
       "<g class=\"node\" id=\"node6\">\n",
       "<title>ephys.Ephys.Spike</title>\n",
       "<polygon fill=\"transparent\" points=\"386.5,-19 285.5,-19 285.5,0 386.5,0 386.5,-19\" stroke=\"transparent\"/>\n",
       "<text font-family=\"arial\" font-size=\"10.00\" text-anchor=\"middle\" x=\"336\" y=\"-7\">ephys.Ephys.Spike</text>\n",
       "</g>\n",
       "<!-- ephys.experiment.Session.Trial&#45;&gt;ephys.Ephys.Spike -->\n",
       "<g class=\"edge\" id=\"edge2\">\n",
       "<title>ephys.experiment.Session.Trial-&gt;ephys.Ephys.Spike</title>\n",
       "<path d=\"M248.07,-204.8C245.82,-179.53 242.3,-104.73 273,-55 283.2,-38.48 302.06,-26.4 316.49,-19.02\" fill=\"none\" stroke=\"#000000\" stroke-dasharray=\"5,2\" stroke-opacity=\"0.250980\" stroke-width=\"0.75\"/>\n",
       "</g>\n",
       "<!-- ephys.Ephys.TrialUnit -->\n",
       "<g class=\"node\" id=\"node12\">\n",
       "<title>ephys.Ephys.TrialUnit</title>\n",
       "<polygon fill=\"transparent\" points=\"267,-19 155,-19 155,0 267,0 267,-19\" stroke=\"transparent\"/>\n",
       "<text font-family=\"arial\" font-size=\"10.00\" text-anchor=\"middle\" x=\"211\" y=\"-7\">ephys.Ephys.TrialUnit</text>\n",
       "</g>\n",
       "<!-- ephys.experiment.Session.Trial&#45;&gt;ephys.Ephys.TrialUnit -->\n",
       "<g class=\"edge\" id=\"edge3\">\n",
       "<title>ephys.experiment.Session.Trial-&gt;ephys.Ephys.TrialUnit</title>\n",
       "<path d=\"M246.34,-204.65C243.29,-194.27 238.29,-176.5 235,-161 223.62,-107.43 214.95,-42.09 212.05,-19.04\" fill=\"none\" stroke=\"#000000\" stroke-opacity=\"0.250980\" stroke-width=\"0.75\"/>\n",
       "</g>\n",
       "<!-- ephys.experiment.Session&#45;&gt;ephys.experiment.Session.Trial -->\n",
       "<g class=\"edge\" id=\"edge4\">\n",
       "<title>ephys.experiment.Session-&gt;ephys.experiment.Session.Trial</title>\n",
       "<path d=\"M249,-267.8C249,-254.08 249,-235.19 249,-224.27\" fill=\"none\" stroke=\"#000000\" stroke-opacity=\"0.250980\" stroke-width=\"0.75\"/>\n",
       "</g>\n",
       "<!-- ephys.ElectrodeGroup -->\n",
       "<g class=\"node\" id=\"node13\">\n",
       "<title>ephys.ElectrodeGroup</title>\n",
       "<polygon fill=\"#00ff00\" fill-opacity=\"0.188235\" points=\"655.5,-232 522.5,-232 522.5,-197 655.5,-197 655.5,-232\" stroke=\"#00ff00\" stroke-opacity=\"0.188235\"/>\n",
       "<text fill=\"darkgreen\" font-family=\"arial\" font-size=\"12.00\" text-anchor=\"middle\" x=\"589\" y=\"-211.4\">ephys.ElectrodeGroup</text>\n",
       "</g>\n",
       "<!-- ephys.experiment.Session&#45;&gt;ephys.ElectrodeGroup -->\n",
       "<g class=\"edge\" id=\"edge5\">\n",
       "<title>ephys.experiment.Session-&gt;ephys.ElectrodeGroup</title>\n",
       "<path d=\"M326.15,-268.84C385.32,-256.83 466.14,-240.43 522.48,-229\" fill=\"none\" stroke=\"#000000\" stroke-opacity=\"0.250980\" stroke-width=\"0.75\"/>\n",
       "</g>\n",
       "<!-- ephys.ccf.CCF -->\n",
       "<g class=\"node\" id=\"node5\">\n",
       "<title>ephys.ccf.CCF</title>\n",
       "<polygon fill=\"#000000\" fill-opacity=\"0.125490\" points=\"620.5,-161 539.5,-161 539.5,-126 620.5,-126 620.5,-161\" stroke=\"transparent\"/>\n",
       "<text font-family=\"arial\" font-size=\"10.00\" text-anchor=\"middle\" x=\"580\" y=\"-141\">ephys.ccf.CCF</text>\n",
       "</g>\n",
       "<!-- ephys.ccf.CCF&#45;&gt;ephys.LabeledTrack.Point -->\n",
       "<g class=\"edge\" id=\"edge6\">\n",
       "<title>ephys.ccf.CCF-&gt;ephys.LabeledTrack.Point</title>\n",
       "<path d=\"M551.26,-125.97C527.27,-112.18 494.03,-93.06 474.99,-82.12\" fill=\"none\" stroke=\"#000000\" stroke-opacity=\"0.250980\" stroke-width=\"0.75\"/>\n",
       "</g>\n",
       "<!-- ephys.ElectrodePosition -->\n",
       "<g class=\"node\" id=\"node7\">\n",
       "<title>ephys.ElectrodePosition</title>\n",
       "<polygon fill=\"#00ff00\" fill-opacity=\"0.188235\" points=\"687.5,-90 544.5,-90 544.5,-55 687.5,-55 687.5,-90\" stroke=\"#00ff00\" stroke-opacity=\"0.188235\"/>\n",
       "<text fill=\"darkgreen\" font-family=\"arial\" font-size=\"12.00\" text-anchor=\"middle\" x=\"616\" y=\"-69.4\">ephys.ElectrodePosition</text>\n",
       "</g>\n",
       "<!-- ephys.ccf.CCF&#45;&gt;ephys.ElectrodePosition -->\n",
       "<g class=\"edge\" id=\"edge7\">\n",
       "<title>ephys.ccf.CCF-&gt;ephys.ElectrodePosition</title>\n",
       "<path d=\"M588.71,-125.8C594.37,-114.95 601.72,-100.87 607.37,-90.05\" fill=\"none\" stroke=\"#000000\" stroke-dasharray=\"5,2\" stroke-opacity=\"0.250980\" stroke-width=\"0.75\"/>\n",
       "</g>\n",
       "<!-- ephys.ElectrodeGroup.Electrode -->\n",
       "<g class=\"node\" id=\"node8\">\n",
       "<title>ephys.ElectrodeGroup.Electrode</title>\n",
       "<polygon fill=\"transparent\" points=\"797,-153 639,-153 639,-134 797,-134 797,-153\" stroke=\"transparent\"/>\n",
       "<text font-family=\"arial\" font-size=\"10.00\" text-anchor=\"middle\" x=\"718\" y=\"-141\">ephys.ElectrodeGroup.Electrode</text>\n",
       "</g>\n",
       "<!-- ephys.ElectrodeGroup.Electrode&#45;&gt;ephys.Ephys.Spike -->\n",
       "<g class=\"edge\" id=\"edge8\">\n",
       "<title>ephys.ElectrodeGroup.Electrode-&gt;ephys.Ephys.Spike</title>\n",
       "<path d=\"M718.83,-133.97C720.02,-116.26 719.96,-75.5 697,-55 652.25,-15.04 475.07,-9.88 386.69,-9.88\" fill=\"none\" stroke=\"#000000\" stroke-dasharray=\"5,2\" stroke-opacity=\"0.250980\" stroke-width=\"0.75\"/>\n",
       "</g>\n",
       "<!-- ephys.ElectrodeGroup.Electrode&#45;&gt;ephys.ElectrodePosition -->\n",
       "<g class=\"edge\" id=\"edge9\">\n",
       "<title>ephys.ElectrodeGroup.Electrode-&gt;ephys.ElectrodePosition</title>\n",
       "<path d=\"M705.08,-133.76C688.89,-122.81 660.81,-103.81 640.49,-90.07\" fill=\"none\" stroke=\"#000000\" stroke-opacity=\"0.250980\" stroke-width=\"2\"/>\n",
       "</g>\n",
       "<!-- ephys.Probe -->\n",
       "<g class=\"node\" id=\"node9\">\n",
       "<title>ephys.Probe</title>\n",
       "<polygon fill=\"#000000\" fill-opacity=\"0.125490\" points=\"624.5,-303 553.5,-303 553.5,-268 624.5,-268 624.5,-303\" stroke=\"transparent\"/>\n",
       "<text font-family=\"arial\" font-size=\"10.00\" text-anchor=\"middle\" x=\"589\" y=\"-283\">ephys.Probe</text>\n",
       "</g>\n",
       "<!-- ephys.Probe&#45;&gt;ephys.ElectrodeGroup -->\n",
       "<g class=\"edge\" id=\"edge10\">\n",
       "<title>ephys.Probe-&gt;ephys.ElectrodeGroup</title>\n",
       "<path d=\"M589,-267.8C589,-256.95 589,-242.87 589,-232.05\" fill=\"none\" stroke=\"#000000\" stroke-dasharray=\"5,2\" stroke-opacity=\"0.250980\" stroke-width=\"0.75\"/>\n",
       "</g>\n",
       "<!-- ephys.experiment.lab.Animal -->\n",
       "<g class=\"node\" id=\"node10\">\n",
       "<title>ephys.experiment.lab.Animal</title>\n",
       "<polygon fill=\"#00ff00\" fill-opacity=\"0.188235\" points=\"332,-374 166,-374 166,-339 332,-339 332,-374\" stroke=\"#00ff00\" stroke-opacity=\"0.188235\"/>\n",
       "<text fill=\"darkgreen\" font-family=\"arial\" font-size=\"12.00\" text-anchor=\"middle\" x=\"249\" y=\"-353.4\">ephys.experiment.lab.Animal</text>\n",
       "</g>\n",
       "<!-- ephys.experiment.lab.Animal&#45;&gt;ephys.experiment.Session -->\n",
       "<g class=\"edge\" id=\"edge11\">\n",
       "<title>ephys.experiment.lab.Animal-&gt;ephys.experiment.Session</title>\n",
       "<path d=\"M249,-338.8C249,-327.95 249,-313.87 249,-303.05\" fill=\"none\" stroke=\"#000000\" stroke-opacity=\"0.250980\" stroke-width=\"0.75\"/>\n",
       "</g>\n",
       "<!-- ephys.experiment.lab.Person -->\n",
       "<g class=\"node\" id=\"node11\">\n",
       "<title>ephys.experiment.lab.Person</title>\n",
       "<polygon fill=\"#00ff00\" fill-opacity=\"0.188235\" points=\"517.5,-374 350.5,-374 350.5,-339 517.5,-339 517.5,-374\" stroke=\"#00ff00\" stroke-opacity=\"0.188235\"/>\n",
       "<text fill=\"darkgreen\" font-family=\"arial\" font-size=\"12.00\" text-anchor=\"middle\" x=\"434\" y=\"-353.4\">ephys.experiment.lab.Person</text>\n",
       "</g>\n",
       "<!-- ephys.experiment.lab.Person&#45;&gt;ephys.experiment.Session -->\n",
       "<g class=\"edge\" id=\"edge12\">\n",
       "<title>ephys.experiment.lab.Person-&gt;ephys.experiment.Session</title>\n",
       "<path d=\"M389.69,-338.97C360.51,-328.09 322.44,-313.89 293.27,-303.01\" fill=\"none\" stroke=\"#000000\" stroke-dasharray=\"5,2\" stroke-opacity=\"0.250980\" stroke-width=\"0.75\"/>\n",
       "</g>\n",
       "<!-- ephys.ElectrodeGroup&#45;&gt;ephys.ElectrodeGroup.Electrode -->\n",
       "<g class=\"edge\" id=\"edge13\">\n",
       "<title>ephys.ElectrodeGroup-&gt;ephys.ElectrodeGroup.Electrode</title>\n",
       "<path d=\"M619.9,-196.97C645.69,-183.18 681.42,-164.06 701.88,-153.12\" fill=\"none\" stroke=\"#000000\" stroke-opacity=\"0.250980\" stroke-width=\"0.75\"/>\n",
       "</g>\n",
       "<!-- ephys.Ephys -->\n",
       "<g class=\"node\" id=\"node15\">\n",
       "<title>ephys.Ephys</title>\n",
       "<ellipse cx=\"329\" cy=\"-143.5\" fill=\"#00007f\" fill-opacity=\"0.250980\" rx=\"51.75\" ry=\"17.5\" stroke=\"#00007f\" stroke-opacity=\"0.250980\"/>\n",
       "<text fill=\"#00007f\" fill-opacity=\"0.627451\" font-family=\"arial\" font-size=\"12.00\" text-anchor=\"middle\" x=\"329\" y=\"-140.4\">ephys.Ephys</text>\n",
       "</g>\n",
       "<!-- ephys.ElectrodeGroup&#45;&gt;ephys.Ephys -->\n",
       "<g class=\"edge\" id=\"edge14\">\n",
       "<title>ephys.ElectrodeGroup-&gt;ephys.Ephys</title>\n",
       "<path d=\"M525.79,-196.93C486.66,-186.65 435.39,-173.13 390,-161 382.9,-159.1 375.34,-157.07 368.04,-155.1\" fill=\"none\" stroke=\"#000000\" stroke-opacity=\"0.250980\" stroke-width=\"2\"/>\n",
       "</g>\n",
       "<!-- ephys.LabeledTrack -->\n",
       "<g class=\"node\" id=\"node16\">\n",
       "<title>ephys.LabeledTrack</title>\n",
       "<polygon fill=\"#00ff00\" fill-opacity=\"0.188235\" points=\"521,-161 399,-161 399,-126 521,-126 521,-161\" stroke=\"#00ff00\" stroke-opacity=\"0.188235\"/>\n",
       "<text fill=\"darkgreen\" font-family=\"arial\" font-size=\"12.00\" text-anchor=\"middle\" x=\"460\" y=\"-140.4\">ephys.LabeledTrack</text>\n",
       "</g>\n",
       "<!-- ephys.ElectrodeGroup&#45;&gt;ephys.LabeledTrack -->\n",
       "<g class=\"edge\" id=\"edge15\">\n",
       "<title>ephys.ElectrodeGroup-&gt;ephys.LabeledTrack</title>\n",
       "<path d=\"M558.1,-196.97C537.83,-186.13 511.41,-172 491.09,-161.13\" fill=\"none\" stroke=\"#000000\" stroke-opacity=\"0.250980\" stroke-width=\"2\"/>\n",
       "</g>\n",
       "<!-- ephys.Ephys.Unit -->\n",
       "<g class=\"node\" id=\"node14\">\n",
       "<title>ephys.Ephys.Unit</title>\n",
       "<polygon fill=\"transparent\" points=\"376,-82 282,-82 282,-63 376,-63 376,-82\" stroke=\"transparent\"/>\n",
       "<text font-family=\"arial\" font-size=\"10.00\" text-anchor=\"middle\" x=\"329\" y=\"-70\">ephys.Ephys.Unit</text>\n",
       "</g>\n",
       "<!-- ephys.Ephys.Unit&#45;&gt;ephys.Ephys.Spike -->\n",
       "<g class=\"edge\" id=\"edge16\">\n",
       "<title>ephys.Ephys.Unit-&gt;ephys.Ephys.Spike</title>\n",
       "<path d=\"M330,-62.76C331.33,-51.16 333.67,-30.81 335,-19.22\" fill=\"none\" stroke=\"#000000\" stroke-opacity=\"0.250980\" stroke-width=\"0.75\"/>\n",
       "</g>\n",
       "<!-- ephys.Ephys.Unit&#45;&gt;ephys.Ephys.TrialUnit -->\n",
       "<g class=\"edge\" id=\"edge17\">\n",
       "<title>ephys.Ephys.Unit-&gt;ephys.Ephys.TrialUnit</title>\n",
       "<path d=\"M312.34,-62.89C289.85,-51.26 250.02,-30.67 227.57,-19.07\" fill=\"none\" stroke=\"#000000\" stroke-opacity=\"0.250980\" stroke-width=\"0.75\"/>\n",
       "</g>\n",
       "<!-- ephys.Ephys&#45;&gt;ephys.Ephys.Unit -->\n",
       "<g class=\"edge\" id=\"edge18\">\n",
       "<title>ephys.Ephys-&gt;ephys.Ephys.Unit</title>\n",
       "<path d=\"M329,-125.8C329,-112.08 329,-93.19 329,-82.27\" fill=\"none\" stroke=\"#000000\" stroke-opacity=\"0.250980\" stroke-width=\"0.75\"/>\n",
       "</g>\n",
       "<!-- ephys.LabeledTrack&#45;&gt;ephys.LabeledTrack.Point -->\n",
       "<g class=\"edge\" id=\"edge19\">\n",
       "<title>ephys.LabeledTrack-&gt;ephys.LabeledTrack.Point</title>\n",
       "<path d=\"M460,-125.8C460,-112.08 460,-93.19 460,-82.27\" fill=\"none\" stroke=\"#000000\" stroke-opacity=\"0.250980\" stroke-width=\"0.75\"/>\n",
       "</g>\n",
       "</g>\n",
       "</svg>"
      ],
      "text/plain": [
       "<datajoint.erd.ERD at 0x3e178208>"
      ]
     },
     "execution_count": 5,
     "metadata": {},
     "output_type": "execute_result"
    }
   ],
   "source": [
    "dj.ERD(ephys)-2"
   ]
  },
  {
   "cell_type": "code",
   "execution_count": 6,
   "metadata": {},
   "outputs": [
    {
     "data": {
      "text/html": [
       "\n",
       "        \n",
       "        <style type=\"text/css\">\n",
       "            .Relation{\n",
       "                border-collapse:collapse;\n",
       "            }\n",
       "            .Relation th{\n",
       "                background: #A0A0A0; color: #ffffff; padding:4px; border:#f0e0e0 1px solid;\n",
       "                font-weight: normal; font-family: monospace; font-size: 75%;\n",
       "            }\n",
       "            .Relation td{\n",
       "                padding:4px; border:#f0e0e0 1px solid; font-size:75%;\n",
       "            }\n",
       "            .Relation tr:nth-child(odd){\n",
       "                background: #ffffff;\n",
       "            }\n",
       "            .Relation tr:nth-child(even){\n",
       "                background: #f3f1ff;\n",
       "            }\n",
       "            /* Tooltip container */\n",
       "            .djtooltip {\n",
       "            }\n",
       "\n",
       "            /* Tooltip text */\n",
       "            .djtooltip .djtooltiptext {\n",
       "                visibility: hidden;\n",
       "                width: 120px;\n",
       "                background-color: black;\n",
       "                color: #fff;\n",
       "                text-align: center;\n",
       "                padding: 5px 0;\n",
       "                border-radius: 6px;\n",
       "\n",
       "                /* Position the tooltip text - see examples below! */\n",
       "                position: absolute;\n",
       "                z-index: 1;\n",
       "            }\n",
       "\n",
       "\n",
       "            #primary {\n",
       "                font-weight: bold;\n",
       "                color: black;\n",
       "            }\n",
       "\n",
       "            #nonprimary {\n",
       "                font-weight: normal;\n",
       "                color: white;\n",
       "            }\n",
       "\n",
       "            /* Show the tooltip text when you mouse over the tooltip container */\n",
       "            .djtooltip:hover .djtooltiptext {\n",
       "                visibility: visible;\n",
       "            }\n",
       "        </style>\n",
       "        \n",
       "        <b></b>\n",
       "            <div style=\"max-height:1000px;max-width:1500px;overflow:auto;\">\n",
       "            <table border=\"1\" class=\"Relation\">\n",
       "                <thead> <tr style=\"text-align: right;\"> <th> <div class=\"djtooltip\">\n",
       "                                <p id=\"primary\">animal</p>\n",
       "                                <span class=\"djtooltiptext\">Janelia ANM ID (6 digits)</span>\n",
       "                            </div></th><th><div class=\"djtooltip\">\n",
       "                                <p id=\"nonprimary\">dob</p>\n",
       "                                <span class=\"djtooltiptext\"></span>\n",
       "                            </div> </th> </tr> </thead>\n",
       "                <tbody> <tr> <td>123456</td>\n",
       "<td>2017-08-01</td></tr><tr><td>399752</td>\n",
       "<td>2017-08-01</td></tr><tr><td>400483</td>\n",
       "<td>2017-08-01</td></tr><tr><td>500483</td>\n",
       "<td>2017-08-01</td> </tr> </tbody>\n",
       "            </table>\n",
       "            \n",
       "            <p>4 tuples</p></div>\n",
       "            "
      ],
      "text/plain": [
       "*animal    dob           \n",
       "+--------+ +------------+\n",
       "123456     2017-08-01    \n",
       "399752     2017-08-01    \n",
       "400483     2017-08-01    \n",
       "500483     2017-08-01    \n",
       " (4 tuples)"
      ]
     },
     "execution_count": 6,
     "metadata": {},
     "output_type": "execute_result"
    }
   ],
   "source": [
    "mouse=ephys.experiment.lab.Animal()\n",
    "#mouse.insert1((123456, '2017-08-01'))\n",
    "mouse"
   ]
  },
  {
   "cell_type": "code",
   "execution_count": 7,
   "metadata": {},
   "outputs": [
    {
     "data": {
      "image/svg+xml": [
       "<svg height=\"256pt\" viewBox=\"0.00 0.00 1444.58 256.00\" width=\"1445pt\" xmlns=\"http://www.w3.org/2000/svg\" xmlns:xlink=\"http://www.w3.org/1999/xlink\">\n",
       "<g class=\"graph\" id=\"graph0\" transform=\"scale(1 1) rotate(0) translate(4 252)\">\n",
       "<polygon fill=\"white\" points=\"-4,4 -4,-252 1440.58,-252 1440.58,4 -4,4\" stroke=\"transparent\"/>\n",
       "<!-- ephys.experiment.Photostim.Profile -->\n",
       "<g class=\"node\" id=\"node1\">\n",
       "<title>ephys.experiment.Photostim.Profile</title>\n",
       "<polygon fill=\"transparent\" points=\"1433.08,-27 1262.08,-27 1262.08,-8 1433.08,-8 1433.08,-27\" stroke=\"transparent\"/>\n",
       "<text font-family=\"arial\" font-size=\"10.00\" text-anchor=\"middle\" x=\"1347.58\" y=\"-15\">ephys.experiment.Photostim.Profile</text>\n",
       "</g>\n",
       "<!-- ephys.experiment.TaskTraining -->\n",
       "<g class=\"node\" id=\"node2\">\n",
       "<title>ephys.experiment.TaskTraining</title>\n",
       "<polygon fill=\"#00ff00\" fill-opacity=\"0.188235\" points=\"866.08,-177 687.08,-177 687.08,-142 866.08,-142 866.08,-177\" stroke=\"#00ff00\" stroke-opacity=\"0.188235\"/>\n",
       "<text fill=\"darkgreen\" font-family=\"arial\" font-size=\"12.00\" text-anchor=\"middle\" x=\"776.58\" y=\"-156.4\">ephys.experiment.TaskTraining</text>\n",
       "</g>\n",
       "<!-- ephys.experiment.TrialNoteType -->\n",
       "<g class=\"node\" id=\"node3\">\n",
       "<title>ephys.experiment.TrialNoteType</title>\n",
       "<polygon fill=\"#000000\" fill-opacity=\"0.125490\" points=\"1248.58,-177 1092.58,-177 1092.58,-142 1248.58,-142 1248.58,-177\" stroke=\"transparent\"/>\n",
       "<text font-family=\"arial\" font-size=\"10.00\" text-anchor=\"middle\" x=\"1170.58\" y=\"-157\">ephys.experiment.TrialNoteType</text>\n",
       "</g>\n",
       "<!-- ephys.experiment.TrialNote -->\n",
       "<g class=\"node\" id=\"node10\">\n",
       "<title>ephys.experiment.TrialNote</title>\n",
       "<polygon fill=\"#00ff00\" fill-opacity=\"0.188235\" points=\"1252.58,-106 1094.58,-106 1094.58,-71 1252.58,-71 1252.58,-106\" stroke=\"#00ff00\" stroke-opacity=\"0.188235\"/>\n",
       "<text fill=\"darkgreen\" font-family=\"arial\" font-size=\"12.00\" text-anchor=\"middle\" x=\"1173.58\" y=\"-85.4\">ephys.experiment.TrialNote</text>\n",
       "</g>\n",
       "<!-- ephys.experiment.TrialNoteType&#45;&gt;ephys.experiment.TrialNote -->\n",
       "<g class=\"edge\" id=\"edge1\">\n",
       "<title>ephys.experiment.TrialNoteType-&gt;ephys.experiment.TrialNote</title>\n",
       "<path d=\"M1171.31,-141.8C1171.78,-130.95 1172.39,-116.87 1172.86,-106.05\" fill=\"none\" stroke=\"#000000\" stroke-opacity=\"0.250980\" stroke-width=\"0.75\"/>\n",
       "</g>\n",
       "<!-- ephys.experiment.PhotostimDevice -->\n",
       "<g class=\"node\" id=\"node4\">\n",
       "<title>ephys.experiment.PhotostimDevice</title>\n",
       "<polygon fill=\"#000000\" fill-opacity=\"0.125490\" points=\"1436.58,-177 1266.58,-177 1266.58,-142 1436.58,-142 1436.58,-177\" stroke=\"transparent\"/>\n",
       "<text font-family=\"arial\" font-size=\"10.00\" text-anchor=\"middle\" x=\"1351.58\" y=\"-157\">ephys.experiment.PhotostimDevice</text>\n",
       "</g>\n",
       "<!-- ephys.experiment.Photostim -->\n",
       "<g class=\"node\" id=\"node6\">\n",
       "<title>ephys.experiment.Photostim</title>\n",
       "<polygon fill=\"#000000\" fill-opacity=\"0.125490\" points=\"1418.08,-106 1277.08,-106 1277.08,-71 1418.08,-71 1418.08,-106\" stroke=\"transparent\"/>\n",
       "<text font-family=\"arial\" font-size=\"10.00\" text-anchor=\"middle\" x=\"1347.58\" y=\"-86\">ephys.experiment.Photostim</text>\n",
       "</g>\n",
       "<!-- ephys.experiment.PhotostimDevice&#45;&gt;ephys.experiment.Photostim -->\n",
       "<g class=\"edge\" id=\"edge2\">\n",
       "<title>ephys.experiment.PhotostimDevice-&gt;ephys.experiment.Photostim</title>\n",
       "<path d=\"M1350.62,-141.8C1349.99,-130.95 1349.17,-116.87 1348.54,-106.05\" fill=\"none\" stroke=\"#000000\" stroke-opacity=\"0.250980\" stroke-width=\"0.75\"/>\n",
       "</g>\n",
       "<!-- ephys.experiment.Tracking -->\n",
       "<g class=\"node\" id=\"node5\">\n",
       "<title>ephys.experiment.Tracking</title>\n",
       "<ellipse cx=\"550.58\" cy=\"-88.5\" fill=\"#00007f\" fill-opacity=\"0.250980\" rx=\"97.5\" ry=\"17.5\" stroke=\"#00007f\" stroke-opacity=\"0.250980\"/>\n",
       "<text fill=\"#00007f\" fill-opacity=\"0.627451\" font-family=\"arial\" font-size=\"12.00\" text-anchor=\"middle\" x=\"550.58\" y=\"-85.4\">ephys.experiment.Tracking</text>\n",
       "</g>\n",
       "<!-- ephys.experiment.Photostim&#45;&gt;ephys.experiment.Photostim.Profile -->\n",
       "<g class=\"edge\" id=\"edge3\">\n",
       "<title>ephys.experiment.Photostim-&gt;ephys.experiment.Photostim.Profile</title>\n",
       "<path d=\"M1347.58,-70.8C1347.58,-57.08 1347.58,-38.19 1347.58,-27.27\" fill=\"none\" stroke=\"#000000\" stroke-opacity=\"0.250980\" stroke-width=\"0.75\"/>\n",
       "</g>\n",
       "<!-- ephys.experiment.PhotostimTrial.Event -->\n",
       "<g class=\"node\" id=\"node12\">\n",
       "<title>ephys.experiment.PhotostimTrial.Event</title>\n",
       "<polygon fill=\"transparent\" points=\"1053.58,-27 867.58,-27 867.58,-8 1053.58,-8 1053.58,-27\" stroke=\"transparent\"/>\n",
       "<text font-family=\"arial\" font-size=\"10.00\" text-anchor=\"middle\" x=\"960.58\" y=\"-15\">ephys.experiment.PhotostimTrial.Event</text>\n",
       "</g>\n",
       "<!-- ephys.experiment.Photostim&#45;&gt;ephys.experiment.PhotostimTrial.Event -->\n",
       "<g class=\"edge\" id=\"edge4\">\n",
       "<title>ephys.experiment.Photostim-&gt;ephys.experiment.PhotostimTrial.Event</title>\n",
       "<path d=\"M1276.74,-73.81C1271.61,-72.85 1266.52,-71.9 1261.58,-71 1173.53,-54.88 1070.77,-37.2 1010.96,-27.02\" fill=\"none\" stroke=\"#000000\" stroke-opacity=\"0.250980\" stroke-width=\"0.75\"/>\n",
       "</g>\n",
       "<!-- ephys.experiment.ActionEventType -->\n",
       "<g class=\"node\" id=\"node7\">\n",
       "<title>ephys.experiment.ActionEventType</title>\n",
       "<polygon fill=\"#000000\" fill-opacity=\"0.125490\" points=\"190.58,-106 20.58,-106 20.58,-71 190.58,-71 190.58,-106\" stroke=\"transparent\"/>\n",
       "<text font-family=\"arial\" font-size=\"10.00\" text-anchor=\"middle\" x=\"105.58\" y=\"-86\">ephys.experiment.ActionEventType</text>\n",
       "</g>\n",
       "<!-- ephys.experiment.ActionEvent -->\n",
       "<g class=\"node\" id=\"node11\">\n",
       "<title>ephys.experiment.ActionEvent</title>\n",
       "<polygon fill=\"#00ff00\" fill-opacity=\"0.188235\" points=\"290.08,-35 117.08,-35 117.08,0 290.08,0 290.08,-35\" stroke=\"#00ff00\" stroke-opacity=\"0.188235\"/>\n",
       "<text fill=\"darkgreen\" font-family=\"arial\" font-size=\"12.00\" text-anchor=\"middle\" x=\"203.58\" y=\"-14.4\">ephys.experiment.ActionEvent</text>\n",
       "</g>\n",
       "<!-- ephys.experiment.ActionEventType&#45;&gt;ephys.experiment.ActionEvent -->\n",
       "<g class=\"edge\" id=\"edge5\">\n",
       "<title>ephys.experiment.ActionEventType-&gt;ephys.experiment.ActionEvent</title>\n",
       "<path d=\"M129.31,-70.8C144.71,-59.95 164.71,-45.87 180.08,-35.05\" fill=\"none\" stroke=\"#000000\" stroke-opacity=\"0.250980\" stroke-width=\"0.75\"/>\n",
       "</g>\n",
       "<!-- ephys.experiment.BehaviorTrial -->\n",
       "<g class=\"node\" id=\"node8\">\n",
       "<title>ephys.experiment.BehaviorTrial</title>\n",
       "<polygon fill=\"#00ff00\" fill-opacity=\"0.188235\" points=\"388.58,-106 208.58,-106 208.58,-71 388.58,-71 388.58,-106\" stroke=\"#00ff00\" stroke-opacity=\"0.188235\"/>\n",
       "<text fill=\"darkgreen\" font-family=\"arial\" font-size=\"12.00\" text-anchor=\"middle\" x=\"298.58\" y=\"-85.4\">ephys.experiment.BehaviorTrial</text>\n",
       "</g>\n",
       "<!-- ephys.experiment.BehaviorTrial&#45;&gt;ephys.experiment.ActionEvent -->\n",
       "<g class=\"edge\" id=\"edge6\">\n",
       "<title>ephys.experiment.BehaviorTrial-&gt;ephys.experiment.ActionEvent</title>\n",
       "<path d=\"M275.59,-70.8C260.65,-59.95 241.26,-45.87 226.37,-35.05\" fill=\"none\" stroke=\"#000000\" stroke-opacity=\"0.250980\" stroke-width=\"0.75\"/>\n",
       "</g>\n",
       "<!-- ephys.experiment.TrialEvent -->\n",
       "<g class=\"node\" id=\"node15\">\n",
       "<title>ephys.experiment.TrialEvent</title>\n",
       "<polygon fill=\"#00ff00\" fill-opacity=\"0.188235\" points=\"474.08,-35 311.08,-35 311.08,0 474.08,0 474.08,-35\" stroke=\"#00ff00\" stroke-opacity=\"0.188235\"/>\n",
       "<text fill=\"darkgreen\" font-family=\"arial\" font-size=\"12.00\" text-anchor=\"middle\" x=\"392.58\" y=\"-14.4\">ephys.experiment.TrialEvent</text>\n",
       "</g>\n",
       "<!-- ephys.experiment.BehaviorTrial&#45;&gt;ephys.experiment.TrialEvent -->\n",
       "<g class=\"edge\" id=\"edge7\">\n",
       "<title>ephys.experiment.BehaviorTrial-&gt;ephys.experiment.TrialEvent</title>\n",
       "<path d=\"M321.34,-70.8C336.12,-59.95 355.3,-45.87 370.04,-35.05\" fill=\"none\" stroke=\"#000000\" stroke-opacity=\"0.250980\" stroke-width=\"0.75\"/>\n",
       "</g>\n",
       "<!-- ephys.experiment.Session.Trial -->\n",
       "<g class=\"node\" id=\"node9\">\n",
       "<title>ephys.experiment.Session.Trial</title>\n",
       "<polygon fill=\"transparent\" points=\"1037.08,-169 884.08,-169 884.08,-150 1037.08,-150 1037.08,-169\" stroke=\"transparent\"/>\n",
       "<text font-family=\"arial\" font-size=\"10.00\" text-anchor=\"middle\" x=\"960.58\" y=\"-157\">ephys.experiment.Session.Trial</text>\n",
       "</g>\n",
       "<!-- ephys.experiment.Session.Trial&#45;&gt;ephys.experiment.Tracking -->\n",
       "<g class=\"edge\" id=\"edge8\">\n",
       "<title>ephys.experiment.Session.Trial-&gt;ephys.experiment.Tracking</title>\n",
       "<path d=\"M917.32,-149.95C903.66,-147.31 888.51,-144.46 874.58,-142 787.89,-126.66 687.83,-110.72 622.11,-100.48\" fill=\"none\" stroke=\"#000000\" stroke-opacity=\"0.250980\" stroke-width=\"0.75\"/>\n",
       "</g>\n",
       "<!-- ephys.experiment.Session.Trial&#45;&gt;ephys.experiment.BehaviorTrial -->\n",
       "<g class=\"edge\" id=\"edge9\">\n",
       "<title>ephys.experiment.Session.Trial-&gt;ephys.experiment.BehaviorTrial</title>\n",
       "<path d=\"M920.91,-149.98C906.39,-147.1 889.8,-144.09 874.58,-142 684.15,-115.85 634.88,-124.87 443.58,-106 425.81,-104.25 406.83,-102.21 388.65,-100.17\" fill=\"none\" stroke=\"#000000\" stroke-opacity=\"0.250980\" stroke-width=\"2\"/>\n",
       "</g>\n",
       "<!-- ephys.experiment.Session.Trial&#45;&gt;ephys.experiment.TrialNote -->\n",
       "<g class=\"edge\" id=\"edge10\">\n",
       "<title>ephys.experiment.Session.Trial-&gt;ephys.experiment.TrialNote</title>\n",
       "<path d=\"M987.13,-149.9C1020.92,-138.95 1080.02,-119.81 1122.63,-106\" fill=\"none\" stroke=\"#000000\" stroke-opacity=\"0.250980\" stroke-width=\"0.75\"/>\n",
       "</g>\n",
       "<!-- ephys.experiment.PhotostimTrial -->\n",
       "<g class=\"node\" id=\"node16\">\n",
       "<title>ephys.experiment.PhotostimTrial</title>\n",
       "<ellipse cx=\"960.58\" cy=\"-88.5\" fill=\"#00007f\" fill-opacity=\"0.250980\" rx=\"116\" ry=\"17.5\" stroke=\"#00007f\" stroke-opacity=\"0.250980\"/>\n",
       "<text fill=\"#00007f\" fill-opacity=\"0.627451\" font-family=\"arial\" font-size=\"12.00\" text-anchor=\"middle\" x=\"960.58\" y=\"-85.4\">ephys.experiment.PhotostimTrial</text>\n",
       "</g>\n",
       "<!-- ephys.experiment.Session.Trial&#45;&gt;ephys.experiment.PhotostimTrial -->\n",
       "<g class=\"edge\" id=\"edge11\">\n",
       "<title>ephys.experiment.Session.Trial-&gt;ephys.experiment.PhotostimTrial</title>\n",
       "<path d=\"M960.58,-149.76C960.58,-138.81 960.58,-119.81 960.58,-106.07\" fill=\"none\" stroke=\"#000000\" stroke-opacity=\"0.250980\" stroke-width=\"2\"/>\n",
       "</g>\n",
       "<!-- ephys.experiment.TrialEventType -->\n",
       "<g class=\"node\" id=\"node13\">\n",
       "<title>ephys.experiment.TrialEventType</title>\n",
       "<polygon fill=\"#000000\" fill-opacity=\"0.125490\" points=\"826.58,-106 666.58,-106 666.58,-71 826.58,-71 826.58,-106\" stroke=\"transparent\"/>\n",
       "<text font-family=\"arial\" font-size=\"10.00\" text-anchor=\"middle\" x=\"746.58\" y=\"-86\">ephys.experiment.TrialEventType</text>\n",
       "</g>\n",
       "<!-- ephys.experiment.TrialEventType&#45;&gt;ephys.experiment.TrialEvent -->\n",
       "<g class=\"edge\" id=\"edge12\">\n",
       "<title>ephys.experiment.TrialEventType-&gt;ephys.experiment.TrialEvent</title>\n",
       "<path d=\"M666.26,-71.84C608.83,-60.65 531.82,-45.64 474.13,-34.39\" fill=\"none\" stroke=\"#000000\" stroke-opacity=\"0.250980\" stroke-width=\"0.75\"/>\n",
       "</g>\n",
       "<!-- ephys.experiment.Outcome -->\n",
       "<g class=\"node\" id=\"node14\">\n",
       "<title>ephys.experiment.Outcome</title>\n",
       "<polygon fill=\"#000000\" fill-opacity=\"0.125490\" points=\"154.08,-177 17.08,-177 17.08,-142 154.08,-142 154.08,-177\" stroke=\"transparent\"/>\n",
       "<text font-family=\"arial\" font-size=\"10.00\" text-anchor=\"middle\" x=\"85.58\" y=\"-157\">ephys.experiment.Outcome</text>\n",
       "</g>\n",
       "<!-- ephys.experiment.Outcome&#45;&gt;ephys.experiment.BehaviorTrial -->\n",
       "<g class=\"edge\" id=\"edge13\">\n",
       "<title>ephys.experiment.Outcome-&gt;ephys.experiment.BehaviorTrial</title>\n",
       "<path d=\"M136.6,-141.97C170.2,-131.09 214.02,-116.89 247.61,-106.01\" fill=\"none\" stroke=\"#000000\" stroke-dasharray=\"5,2\" stroke-opacity=\"0.250980\" stroke-width=\"0.75\"/>\n",
       "</g>\n",
       "<!-- ephys.experiment.PhotostimTrial&#45;&gt;ephys.experiment.PhotostimTrial.Event -->\n",
       "<g class=\"edge\" id=\"edge14\">\n",
       "<title>ephys.experiment.PhotostimTrial-&gt;ephys.experiment.PhotostimTrial.Event</title>\n",
       "<path d=\"M960.58,-70.8C960.58,-57.08 960.58,-38.19 960.58,-27.27\" fill=\"none\" stroke=\"#000000\" stroke-opacity=\"0.250980\" stroke-width=\"0.75\"/>\n",
       "</g>\n",
       "<!-- ephys.experiment.PassivePhotostimTrial -->\n",
       "<g class=\"node\" id=\"node22\">\n",
       "<title>ephys.experiment.PassivePhotostimTrial</title>\n",
       "<ellipse cx=\"735.58\" cy=\"-17.5\" fill=\"#ff0000\" fill-opacity=\"0.125490\" rx=\"13\" ry=\"13\" stroke=\"#ff0000\" stroke-opacity=\"0.125490\"/>\n",
       "<text fill=\"#7f0000\" fill-opacity=\"0.627451\" font-family=\"arial\" font-size=\"12.00\" text-anchor=\"middle\" x=\"735.58\" y=\"-14.4\">ephys.experiment.PassivePhotostimTrial</text>\n",
       "</g>\n",
       "<!-- ephys.experiment.PhotostimTrial&#45;&gt;ephys.experiment.PassivePhotostimTrial -->\n",
       "<g class=\"edge\" id=\"edge15\">\n",
       "<title>ephys.experiment.PhotostimTrial-&gt;ephys.experiment.PassivePhotostimTrial</title>\n",
       "<path d=\"M911.76,-72.53C859.03,-56.36 778.46,-31.65 747.91,-22.28\" fill=\"none\" stroke=\"#000000\" stroke-opacity=\"0.250980\" stroke-width=\"2\"/>\n",
       "</g>\n",
       "<!-- ephys.experiment.TrackingDevice -->\n",
       "<g class=\"node\" id=\"node17\">\n",
       "<title>ephys.experiment.TrackingDevice</title>\n",
       "<polygon fill=\"#000000\" fill-opacity=\"0.125490\" points=\"668.58,-177 506.58,-177 506.58,-142 668.58,-142 668.58,-177\" stroke=\"transparent\"/>\n",
       "<text font-family=\"arial\" font-size=\"10.00\" text-anchor=\"middle\" x=\"587.58\" y=\"-157\">ephys.experiment.TrackingDevice</text>\n",
       "</g>\n",
       "<!-- ephys.experiment.TrackingDevice&#45;&gt;ephys.experiment.Tracking -->\n",
       "<g class=\"edge\" id=\"edge16\">\n",
       "<title>ephys.experiment.TrackingDevice-&gt;ephys.experiment.Tracking</title>\n",
       "<path d=\"M578.63,-141.8C572.81,-130.95 565.26,-116.87 559.46,-106.05\" fill=\"none\" stroke=\"#000000\" stroke-opacity=\"0.250980\" stroke-width=\"0.75\"/>\n",
       "</g>\n",
       "<!-- ephys.experiment.TrialInstruction -->\n",
       "<g class=\"node\" id=\"node18\">\n",
       "<title>ephys.experiment.TrialInstruction</title>\n",
       "<polygon fill=\"#000000\" fill-opacity=\"0.125490\" points=\"332.58,-177 172.58,-177 172.58,-142 332.58,-142 332.58,-177\" stroke=\"transparent\"/>\n",
       "<text font-family=\"arial\" font-size=\"10.00\" text-anchor=\"middle\" x=\"252.58\" y=\"-157\">ephys.experiment.TrialInstruction</text>\n",
       "</g>\n",
       "<!-- ephys.experiment.TrialInstruction&#45;&gt;ephys.experiment.BehaviorTrial -->\n",
       "<g class=\"edge\" id=\"edge17\">\n",
       "<title>ephys.experiment.TrialInstruction-&gt;ephys.experiment.BehaviorTrial</title>\n",
       "<path d=\"M263.72,-141.8C270.95,-130.95 280.34,-116.87 287.55,-106.05\" fill=\"none\" stroke=\"#000000\" stroke-dasharray=\"5,2\" stroke-opacity=\"0.250980\" stroke-width=\"0.75\"/>\n",
       "</g>\n",
       "<!-- ephys.experiment.Session -->\n",
       "<g class=\"node\" id=\"node19\">\n",
       "<title>ephys.experiment.Session</title>\n",
       "<polygon fill=\"#00ff00\" fill-opacity=\"0.188235\" points=\"1037.58,-248 883.58,-248 883.58,-213 1037.58,-213 1037.58,-248\" stroke=\"#00ff00\" stroke-opacity=\"0.188235\"/>\n",
       "<text fill=\"darkgreen\" font-family=\"arial\" font-size=\"12.00\" text-anchor=\"middle\" x=\"960.58\" y=\"-227.4\">ephys.experiment.Session</text>\n",
       "</g>\n",
       "<!-- ephys.experiment.Session&#45;&gt;ephys.experiment.TaskTraining -->\n",
       "<g class=\"edge\" id=\"edge18\">\n",
       "<title>ephys.experiment.Session-&gt;ephys.experiment.TaskTraining</title>\n",
       "<path d=\"M916.51,-212.97C887.49,-202.09 849.63,-187.89 820.61,-177.01\" fill=\"none\" stroke=\"#000000\" stroke-opacity=\"0.250980\" stroke-width=\"0.75\"/>\n",
       "</g>\n",
       "<!-- ephys.experiment.Session&#45;&gt;ephys.experiment.Session.Trial -->\n",
       "<g class=\"edge\" id=\"edge19\">\n",
       "<title>ephys.experiment.Session-&gt;ephys.experiment.Session.Trial</title>\n",
       "<path d=\"M960.58,-212.8C960.58,-199.08 960.58,-180.19 960.58,-169.27\" fill=\"none\" stroke=\"#000000\" stroke-opacity=\"0.250980\" stroke-width=\"0.75\"/>\n",
       "</g>\n",
       "<!-- ephys.experiment.EarlyLick -->\n",
       "<g class=\"node\" id=\"node20\">\n",
       "<title>ephys.experiment.EarlyLick</title>\n",
       "<polygon fill=\"#000000\" fill-opacity=\"0.125490\" points=\"488.08,-177 351.08,-177 351.08,-142 488.08,-142 488.08,-177\" stroke=\"transparent\"/>\n",
       "<text font-family=\"arial\" font-size=\"10.00\" text-anchor=\"middle\" x=\"419.58\" y=\"-157\">ephys.experiment.EarlyLick</text>\n",
       "</g>\n",
       "<!-- ephys.experiment.EarlyLick&#45;&gt;ephys.experiment.BehaviorTrial -->\n",
       "<g class=\"edge\" id=\"edge20\">\n",
       "<title>ephys.experiment.EarlyLick-&gt;ephys.experiment.BehaviorTrial</title>\n",
       "<path d=\"M390.6,-141.97C371.58,-131.13 346.8,-117 327.75,-106.13\" fill=\"none\" stroke=\"#000000\" stroke-dasharray=\"5,2\" stroke-opacity=\"0.250980\" stroke-width=\"0.75\"/>\n",
       "</g>\n",
       "<!-- ephys.experiment.Task -->\n",
       "<g class=\"node\" id=\"node21\">\n",
       "<title>ephys.experiment.Task</title>\n",
       "<polygon fill=\"#000000\" fill-opacity=\"0.125490\" points=\"441.58,-248 323.58,-248 323.58,-213 441.58,-213 441.58,-248\" stroke=\"transparent\"/>\n",
       "<text font-family=\"arial\" font-size=\"10.00\" text-anchor=\"middle\" x=\"382.58\" y=\"-228\">ephys.experiment.Task</text>\n",
       "</g>\n",
       "<!-- ephys.experiment.Task&#45;&gt;ephys.experiment.TaskTraining -->\n",
       "<g class=\"edge\" id=\"edge21\">\n",
       "<title>ephys.experiment.Task-&gt;ephys.experiment.TaskTraining</title>\n",
       "<path d=\"M442,-219.1C507.03,-207.71 612.01,-189.32 687.03,-176.18\" fill=\"none\" stroke=\"#000000\" stroke-opacity=\"0.250980\" stroke-width=\"0.75\"/>\n",
       "</g>\n",
       "<!-- ephys.experiment.Task&#45;&gt;ephys.experiment.BehaviorTrial -->\n",
       "<g class=\"edge\" id=\"edge22\">\n",
       "<title>ephys.experiment.Task-&gt;ephys.experiment.BehaviorTrial</title>\n",
       "<path d=\"M323.57,-230.22C228.45,-229.98 47.81,-223.25 7.58,-177 -2.62,-165.26 -2.39,-153.94 7.58,-142 9.24,-140.02 123.55,-119.83 208.39,-105.07\" fill=\"none\" stroke=\"#000000\" stroke-dasharray=\"5,2\" stroke-opacity=\"0.250980\" stroke-width=\"0.75\"/>\n",
       "</g>\n",
       "</g>\n",
       "</svg>"
      ],
      "text/plain": [
       "<datajoint.erd.ERD at 0x1d6a3be0>"
      ]
     },
     "execution_count": 7,
     "metadata": {},
     "output_type": "execute_result"
    }
   ],
   "source": [
    "dj.ERD(ephys.experiment)"
   ]
  },
  {
   "cell_type": "code",
   "execution_count": 8,
   "metadata": {},
   "outputs": [
    {
     "data": {
      "text/html": [
       "\n",
       "        \n",
       "        <style type=\"text/css\">\n",
       "            .Relation{\n",
       "                border-collapse:collapse;\n",
       "            }\n",
       "            .Relation th{\n",
       "                background: #A0A0A0; color: #ffffff; padding:4px; border:#f0e0e0 1px solid;\n",
       "                font-weight: normal; font-family: monospace; font-size: 75%;\n",
       "            }\n",
       "            .Relation td{\n",
       "                padding:4px; border:#f0e0e0 1px solid; font-size:75%;\n",
       "            }\n",
       "            .Relation tr:nth-child(odd){\n",
       "                background: #ffffff;\n",
       "            }\n",
       "            .Relation tr:nth-child(even){\n",
       "                background: #f3f1ff;\n",
       "            }\n",
       "            /* Tooltip container */\n",
       "            .djtooltip {\n",
       "            }\n",
       "\n",
       "            /* Tooltip text */\n",
       "            .djtooltip .djtooltiptext {\n",
       "                visibility: hidden;\n",
       "                width: 120px;\n",
       "                background-color: black;\n",
       "                color: #fff;\n",
       "                text-align: center;\n",
       "                padding: 5px 0;\n",
       "                border-radius: 6px;\n",
       "\n",
       "                /* Position the tooltip text - see examples below! */\n",
       "                position: absolute;\n",
       "                z-index: 1;\n",
       "            }\n",
       "\n",
       "\n",
       "            #primary {\n",
       "                font-weight: bold;\n",
       "                color: black;\n",
       "            }\n",
       "\n",
       "            #nonprimary {\n",
       "                font-weight: normal;\n",
       "                color: white;\n",
       "            }\n",
       "\n",
       "            /* Show the tooltip text when you mouse over the tooltip container */\n",
       "            .djtooltip:hover .djtooltiptext {\n",
       "                visibility: visible;\n",
       "            }\n",
       "        </style>\n",
       "        \n",
       "        <b></b>\n",
       "            <div style=\"max-height:1000px;max-width:1500px;overflow:auto;\">\n",
       "            <table border=\"1\" class=\"Relation\">\n",
       "                <thead> <tr style=\"text-align: right;\"> <th> <div class=\"djtooltip\">\n",
       "                                <p id=\"primary\">animal</p>\n",
       "                                <span class=\"djtooltiptext\">Janelia ANM ID (6 digits)</span>\n",
       "                            </div></th><th><div class=\"djtooltip\">\n",
       "                                <p id=\"primary\">session</p>\n",
       "                                <span class=\"djtooltiptext\">session number</span>\n",
       "                            </div></th><th><div class=\"djtooltip\">\n",
       "                                <p id=\"nonprimary\">session_date</p>\n",
       "                                <span class=\"djtooltiptext\"></span>\n",
       "                            </div></th><th><div class=\"djtooltip\">\n",
       "                                <p id=\"nonprimary\">username</p>\n",
       "                                <span class=\"djtooltiptext\"></span>\n",
       "                            </div></th><th><div class=\"djtooltip\">\n",
       "                                <p id=\"nonprimary\">rig</p>\n",
       "                                <span class=\"djtooltiptext\"></span>\n",
       "                            </div> </th> </tr> </thead>\n",
       "                <tbody> <tr> <td>123456</td>\n",
       "<td>1</td>\n",
       "<td>2017-10-21</td>\n",
       "<td>daveliu</td>\n",
       "<td>RRig</td></tr><tr><td>399752</td>\n",
       "<td>1</td>\n",
       "<td>2017-11-14</td>\n",
       "<td>daveliu</td>\n",
       "<td>TRig1</td></tr><tr><td>399752</td>\n",
       "<td>2</td>\n",
       "<td>2017-11-16</td>\n",
       "<td>daveliu</td>\n",
       "<td>TRig1</td></tr><tr><td>399752</td>\n",
       "<td>3</td>\n",
       "<td>2017-11-22</td>\n",
       "<td>daveliu</td>\n",
       "<td>TRig1</td></tr><tr><td>399752</td>\n",
       "<td>4</td>\n",
       "<td>2017-11-23</td>\n",
       "<td>daveliu</td>\n",
       "<td>TRig1</td></tr><tr><td>399752</td>\n",
       "<td>5</td>\n",
       "<td>2017-11-24</td>\n",
       "<td>daveliu</td>\n",
       "<td>TRig1</td></tr><tr><td>399752</td>\n",
       "<td>6</td>\n",
       "<td>2017-11-26</td>\n",
       "<td>daveliu</td>\n",
       "<td>TRig1</td> </tr> </tbody>\n",
       "            </table>\n",
       "            <p>...</p>\n",
       "            <p>33 tuples</p></div>\n",
       "            "
      ],
      "text/plain": [
       "*animal    *session    session_date   username     rig      \n",
       "+--------+ +---------+ +------------+ +----------+ +-------+\n",
       "123456     1           2017-10-21     daveliu      RRig     \n",
       "399752     1           2017-11-14     daveliu      TRig1    \n",
       "399752     2           2017-11-16     daveliu      TRig1    \n",
       "399752     3           2017-11-22     daveliu      TRig1    \n",
       "399752     4           2017-11-23     daveliu      TRig1    \n",
       "399752     5           2017-11-24     daveliu      TRig1    \n",
       "399752     6           2017-11-26     daveliu      TRig1    \n",
       "   ...\n",
       " (33 tuples)"
      ]
     },
     "execution_count": 8,
     "metadata": {},
     "output_type": "execute_result"
    }
   ],
   "source": [
    "session=ephys.experiment.Session()\n",
    "session"
   ]
  },
  {
   "cell_type": "code",
   "execution_count": 9,
   "metadata": {},
   "outputs": [
    {
     "data": {
      "text/html": [
       "\n",
       "        \n",
       "        <style type=\"text/css\">\n",
       "            .Relation{\n",
       "                border-collapse:collapse;\n",
       "            }\n",
       "            .Relation th{\n",
       "                background: #A0A0A0; color: #ffffff; padding:4px; border:#f0e0e0 1px solid;\n",
       "                font-weight: normal; font-family: monospace; font-size: 75%;\n",
       "            }\n",
       "            .Relation td{\n",
       "                padding:4px; border:#f0e0e0 1px solid; font-size:75%;\n",
       "            }\n",
       "            .Relation tr:nth-child(odd){\n",
       "                background: #ffffff;\n",
       "            }\n",
       "            .Relation tr:nth-child(even){\n",
       "                background: #f3f1ff;\n",
       "            }\n",
       "            /* Tooltip container */\n",
       "            .djtooltip {\n",
       "            }\n",
       "\n",
       "            /* Tooltip text */\n",
       "            .djtooltip .djtooltiptext {\n",
       "                visibility: hidden;\n",
       "                width: 120px;\n",
       "                background-color: black;\n",
       "                color: #fff;\n",
       "                text-align: center;\n",
       "                padding: 5px 0;\n",
       "                border-radius: 6px;\n",
       "\n",
       "                /* Position the tooltip text - see examples below! */\n",
       "                position: absolute;\n",
       "                z-index: 1;\n",
       "            }\n",
       "\n",
       "\n",
       "            #primary {\n",
       "                font-weight: bold;\n",
       "                color: black;\n",
       "            }\n",
       "\n",
       "            #nonprimary {\n",
       "                font-weight: normal;\n",
       "                color: white;\n",
       "            }\n",
       "\n",
       "            /* Show the tooltip text when you mouse over the tooltip container */\n",
       "            .djtooltip:hover .djtooltiptext {\n",
       "                visibility: visible;\n",
       "            }\n",
       "        </style>\n",
       "        \n",
       "        <b></b>\n",
       "            <div style=\"max-height:1000px;max-width:1500px;overflow:auto;\">\n",
       "            <table border=\"1\" class=\"Relation\">\n",
       "                <thead> <tr style=\"text-align: right;\"> <th> <div class=\"djtooltip\">\n",
       "                                <p id=\"primary\">rig</p>\n",
       "                                <span class=\"djtooltiptext\"></span>\n",
       "                            </div></th><th><div class=\"djtooltip\">\n",
       "                                <p id=\"nonprimary\">rig_description</p>\n",
       "                                <span class=\"djtooltiptext\"></span>\n",
       "                            </div> </th> </tr> </thead>\n",
       "                <tbody> <tr> <td>RRig</td>\n",
       "<td>Recording Rig</td></tr><tr><td>TRig1</td>\n",
       "<td>Training rig 1</td></tr><tr><td>TRig2</td>\n",
       "<td>Training rig 2</td> </tr> </tbody>\n",
       "            </table>\n",
       "            \n",
       "            <p>3 tuples</p></div>\n",
       "            "
      ],
      "text/plain": [
       "*rig      rig_descriptio\n",
       "+-------+ +------------+\n",
       "RRig      Recording Rig \n",
       "TRig1     Training rig 1\n",
       "TRig2     Training rig 2\n",
       " (3 tuples)"
      ]
     },
     "execution_count": 9,
     "metadata": {},
     "output_type": "execute_result"
    }
   ],
   "source": [
    "rig=ephys.experiment.lab.Rig()\n",
    "rig\n",
    "#rig.insert1(('RRig','Recording Rig'))"
   ]
  },
  {
   "cell_type": "code",
   "execution_count": 10,
   "metadata": {},
   "outputs": [
    {
     "data": {
      "text/html": [
       "\n",
       "        \n",
       "        <style type=\"text/css\">\n",
       "            .Relation{\n",
       "                border-collapse:collapse;\n",
       "            }\n",
       "            .Relation th{\n",
       "                background: #A0A0A0; color: #ffffff; padding:4px; border:#f0e0e0 1px solid;\n",
       "                font-weight: normal; font-family: monospace; font-size: 75%;\n",
       "            }\n",
       "            .Relation td{\n",
       "                padding:4px; border:#f0e0e0 1px solid; font-size:75%;\n",
       "            }\n",
       "            .Relation tr:nth-child(odd){\n",
       "                background: #ffffff;\n",
       "            }\n",
       "            .Relation tr:nth-child(even){\n",
       "                background: #f3f1ff;\n",
       "            }\n",
       "            /* Tooltip container */\n",
       "            .djtooltip {\n",
       "            }\n",
       "\n",
       "            /* Tooltip text */\n",
       "            .djtooltip .djtooltiptext {\n",
       "                visibility: hidden;\n",
       "                width: 120px;\n",
       "                background-color: black;\n",
       "                color: #fff;\n",
       "                text-align: center;\n",
       "                padding: 5px 0;\n",
       "                border-radius: 6px;\n",
       "\n",
       "                /* Position the tooltip text - see examples below! */\n",
       "                position: absolute;\n",
       "                z-index: 1;\n",
       "            }\n",
       "\n",
       "\n",
       "            #primary {\n",
       "                font-weight: bold;\n",
       "                color: black;\n",
       "            }\n",
       "\n",
       "            #nonprimary {\n",
       "                font-weight: normal;\n",
       "                color: white;\n",
       "            }\n",
       "\n",
       "            /* Show the tooltip text when you mouse over the tooltip container */\n",
       "            .djtooltip:hover .djtooltiptext {\n",
       "                visibility: visible;\n",
       "            }\n",
       "        </style>\n",
       "        \n",
       "        <b>Ephys probe</b>\n",
       "            <div style=\"max-height:1000px;max-width:1500px;overflow:auto;\">\n",
       "            <table border=\"1\" class=\"Relation\">\n",
       "                <thead> <tr style=\"text-align: right;\"> <th> <div class=\"djtooltip\">\n",
       "                                <p id=\"primary\">probe_part_no</p>\n",
       "                                <span class=\"djtooltiptext\"></span>\n",
       "                            </div></th><th><div class=\"djtooltip\">\n",
       "                                <p id=\"nonprimary\">probe_description</p>\n",
       "                                <span class=\"djtooltiptext\"></span>\n",
       "                            </div> </th> </tr> </thead>\n",
       "                <tbody> <tr> <td>15131808323</td>\n",
       "<td>neuropixels probe O3</td> </tr> </tbody>\n",
       "            </table>\n",
       "            \n",
       "            <p>1 tuples</p></div>\n",
       "            "
      ],
      "text/plain": [
       "*probe_part_no probe_descript\n",
       "+------------+ +------------+\n",
       "15131808323    neuropixels pr\n",
       " (1 tuples)"
      ]
     },
     "execution_count": 10,
     "metadata": {},
     "output_type": "execute_result"
    }
   ],
   "source": [
    "ephys.Probe()"
   ]
  },
  {
   "cell_type": "code",
   "execution_count": 11,
   "metadata": {},
   "outputs": [],
   "source": [
    "eGroup=ephys.ElectrodeGroup()"
   ]
  },
  {
   "cell_type": "code",
   "execution_count": 12,
   "metadata": {
    "scrolled": true
   },
   "outputs": [],
   "source": [
    "#eGroup.insert1((123456, 1, 1, '15131808323', 'C:\\\\Users\\\\liul.HHMI\\\\Desktop\\\\real5ap_imec3_opt3_jrc.mat'))"
   ]
  },
  {
   "cell_type": "code",
   "execution_count": 13,
   "metadata": {},
   "outputs": [],
   "source": [
    "eIns=eGroup.fetch1(dj.key) # fetch the dictionary\n",
    "electrode=eGroup.Electrode()"
   ]
  },
  {
   "cell_type": "code",
   "execution_count": null,
   "metadata": {},
   "outputs": [],
   "source": []
  },
  {
   "cell_type": "code",
   "execution_count": 14,
   "metadata": {},
   "outputs": [
    {
     "data": {
      "text/html": [
       "\n",
       "        \n",
       "        <style type=\"text/css\">\n",
       "            .Relation{\n",
       "                border-collapse:collapse;\n",
       "            }\n",
       "            .Relation th{\n",
       "                background: #A0A0A0; color: #ffffff; padding:4px; border:#f0e0e0 1px solid;\n",
       "                font-weight: normal; font-family: monospace; font-size: 75%;\n",
       "            }\n",
       "            .Relation td{\n",
       "                padding:4px; border:#f0e0e0 1px solid; font-size:75%;\n",
       "            }\n",
       "            .Relation tr:nth-child(odd){\n",
       "                background: #ffffff;\n",
       "            }\n",
       "            .Relation tr:nth-child(even){\n",
       "                background: #f3f1ff;\n",
       "            }\n",
       "            /* Tooltip container */\n",
       "            .djtooltip {\n",
       "            }\n",
       "\n",
       "            /* Tooltip text */\n",
       "            .djtooltip .djtooltiptext {\n",
       "                visibility: hidden;\n",
       "                width: 120px;\n",
       "                background-color: black;\n",
       "                color: #fff;\n",
       "                text-align: center;\n",
       "                padding: 5px 0;\n",
       "                border-radius: 6px;\n",
       "\n",
       "                /* Position the tooltip text - see examples below! */\n",
       "                position: absolute;\n",
       "                z-index: 1;\n",
       "            }\n",
       "\n",
       "\n",
       "            #primary {\n",
       "                font-weight: bold;\n",
       "                color: black;\n",
       "            }\n",
       "\n",
       "            #nonprimary {\n",
       "                font-weight: normal;\n",
       "                color: white;\n",
       "            }\n",
       "\n",
       "            /* Show the tooltip text when you mouse over the tooltip container */\n",
       "            .djtooltip:hover .djtooltiptext {\n",
       "                visibility: visible;\n",
       "            }\n",
       "        </style>\n",
       "        \n",
       "        <b></b>\n",
       "            <div style=\"max-height:1000px;max-width:1500px;overflow:auto;\">\n",
       "            <table border=\"1\" class=\"Relation\">\n",
       "                <thead> <tr style=\"text-align: right;\"> <th> <div class=\"djtooltip\">\n",
       "                                <p id=\"primary\">animal</p>\n",
       "                                <span class=\"djtooltiptext\">Janelia ANM ID (6 digits)</span>\n",
       "                            </div></th><th><div class=\"djtooltip\">\n",
       "                                <p id=\"primary\">session</p>\n",
       "                                <span class=\"djtooltiptext\">session number</span>\n",
       "                            </div></th><th><div class=\"djtooltip\">\n",
       "                                <p id=\"primary\">electrode_group</p>\n",
       "                                <span class=\"djtooltiptext\">Electrode_group is like the probe</span>\n",
       "                            </div></th><th><div class=\"djtooltip\">\n",
       "                                <p id=\"primary\">electrode</p>\n",
       "                                <span class=\"djtooltiptext\">sites on the electrode</span>\n",
       "                            </div> </th> </tr> </thead>\n",
       "                <tbody> <tr> <td>123456</td>\n",
       "<td>1</td>\n",
       "<td>1</td>\n",
       "<td>1</td></tr><tr><td>123456</td>\n",
       "<td>1</td>\n",
       "<td>1</td>\n",
       "<td>2</td></tr><tr><td>123456</td>\n",
       "<td>1</td>\n",
       "<td>1</td>\n",
       "<td>3</td></tr><tr><td>123456</td>\n",
       "<td>1</td>\n",
       "<td>1</td>\n",
       "<td>4</td></tr><tr><td>123456</td>\n",
       "<td>1</td>\n",
       "<td>1</td>\n",
       "<td>5</td></tr><tr><td>123456</td>\n",
       "<td>1</td>\n",
       "<td>1</td>\n",
       "<td>6</td></tr><tr><td>123456</td>\n",
       "<td>1</td>\n",
       "<td>1</td>\n",
       "<td>7</td> </tr> </tbody>\n",
       "            </table>\n",
       "            <p>...</p>\n",
       "            <p>374 tuples</p></div>\n",
       "            "
      ],
      "text/plain": [
       "*animal    *session    *electrode_gro *electrode   \n",
       "+--------+ +---------+ +------------+ +-----------+\n",
       "123456     1           1              1            \n",
       "123456     1           1              2            \n",
       "123456     1           1              3            \n",
       "123456     1           1              4            \n",
       "123456     1           1              5            \n",
       "123456     1           1              6            \n",
       "123456     1           1              7            \n",
       "   ...\n",
       " (374 tuples)"
      ]
     },
     "execution_count": 14,
     "metadata": {},
     "output_type": "execute_result"
    }
   ],
   "source": [
    "electrode"
   ]
  },
  {
   "cell_type": "code",
   "execution_count": 15,
   "metadata": {},
   "outputs": [],
   "source": [
    "import h5py\n",
    "root=\"C:\\\\Users\\\\liul.HHMI\\\\Desktop\\\\\"\n",
    "data_file = root + 'real5ap_imec3_opt3_jrc.mat'"
   ]
  },
  {
   "cell_type": "code",
   "execution_count": 16,
   "metadata": {},
   "outputs": [],
   "source": [
    "f = h5py.File(data_file,'r')\n",
    "ind = np.argsort(f['S_clu']['viClu'][0]) # index sorted by cluster\n",
    "cluster_ids = f['S_clu']['viClu'][0][ind] # cluster (unit) number\n",
    "spike_times = f['viTime_spk'][0][ind] # spike times\n",
    "viSite_spk = f['viSite_spk'][0][ind]\n",
    "viT_offset_file = f['viT_offset_file'][:] # start of each trial\n",
    "spike_trials = np.ones(len(spike_times)) * (len(viT_offset_file) - 1)\n",
    "spike_times2 = np.copy(spike_times)"
   ]
  },
  {
   "cell_type": "code",
   "execution_count": 17,
   "metadata": {},
   "outputs": [],
   "source": [
    "a = np.array([1, 2, 3])\n",
    "b = np.copy(a)\n",
    "b[a>1]=b[a>1]-1\n",
    "#a"
   ]
  },
  {
   "cell_type": "code",
   "execution_count": 18,
   "metadata": {},
   "outputs": [
    {
     "data": {
      "text/plain": [
       "array([1, 1, 2])"
      ]
     },
     "execution_count": 18,
     "metadata": {},
     "output_type": "execute_result"
    }
   ],
   "source": [
    "b"
   ]
  },
  {
   "cell_type": "code",
   "execution_count": 19,
   "metadata": {},
   "outputs": [],
   "source": [
    "#ephys1.drop()"
   ]
  },
  {
   "cell_type": "code",
   "execution_count": 20,
   "metadata": {},
   "outputs": [
    {
     "data": {
      "text/plain": [
       "array([ 141720.])"
      ]
     },
     "execution_count": 20,
     "metadata": {},
     "output_type": "execute_result"
    }
   ],
   "source": [
    "viT_offset_file[1]"
   ]
  },
  {
   "cell_type": "code",
   "execution_count": 21,
   "metadata": {},
   "outputs": [
    {
     "data": {
      "text/plain": [
       "array([245665, 245665, 265804, ..., 160440, 142701, 256665])"
      ]
     },
     "execution_count": 21,
     "metadata": {},
     "output_type": "execute_result"
    }
   ],
   "source": [
    "spike_times[(spike_times >= viT_offset_file[1]) & (spike_times < viT_offset_file[3-1])]"
   ]
  },
  {
   "cell_type": "code",
   "execution_count": 22,
   "metadata": {},
   "outputs": [
    {
     "data": {
      "text/plain": [
       "[<matplotlib.lines.Line2D at 0x3f5e9eb8>]"
      ]
     },
     "execution_count": 22,
     "metadata": {},
     "output_type": "execute_result"
    },
    {
     "data": {
      "image/png": "[encoded data removed]",
      "text/plain": [
       "<matplotlib.figure.Figure at 0x3f271198>"
      ]
     },
     "metadata": {},
     "output_type": "display_data"
    }
   ],
   "source": [
    "plt.plot(spike_times[(spike_times >= viT_offset_file[1]) & (spike_times < viT_offset_file[3-1])])"
   ]
  },
  {
   "cell_type": "code",
   "execution_count": 23,
   "metadata": {},
   "outputs": [],
   "source": [
    "for i in range(len(viT_offset_file) - 1, 0, -1): #find the trials each unit has a spike in\n",
    "    spike_trials[spike_times < viT_offset_file[i]] = i - 1 # Get the trial number of each spike\n",
    "    spike_times2[(spike_times >= viT_offset_file[i-1]) & (spike_times < viT_offset_file[i])] = spike_times[(spike_times >= viT_offset_file[i-1]) & (spike_times < viT_offset_file[i])] - viT_offset_file[i-1] # subtract the viT_offset_file from each trial\n",
    "spike_times2[spike_times >= viT_offset_file[-1]] = spike_times[spike_times >= viT_offset_file[-1]] - viT_offset_file[-1] # subtract the viT_offset_file from each trial\n",
    "\n",
    "sRateHz = f['P']['sRateHz'][0]\n",
    "clu_ids_diff = np.diff(cluster_ids)\n",
    "clu_ids_diff = np.where(clu_ids_diff != 0)[0] + 1\n",
    "units = np.split(spike_times, clu_ids_diff)\n",
    "trialunits = np.split(spike_trials, clu_ids_diff) # sub arrays of spike_trials\n",
    "unit_ids = np.arange(len(clu_ids_diff)+1)\n",
    "trialunits1=[]\n",
    "trialunits2=[]\n",
    "for i in range(0,len(trialunits)):\n",
    "    trialunits2 = np.append(trialunits2, np.unique(trialunits[i]))\n",
    "    trialunits1 = np.append(trialunits1, np.zeros(len(np.unique(trialunits[i])))+i)"
   ]
  },
  {
   "cell_type": "code",
   "execution_count": 24,
   "metadata": {},
   "outputs": [
    {
     "data": {
      "text/plain": [
       "[<matplotlib.lines.Line2D at 0x3f57a2b0>]"
      ]
     },
     "execution_count": 24,
     "metadata": {},
     "output_type": "execute_result"
    },
    {
     "data": {
      "image/png": "[encoded data removed]",
      "text/plain": [
       "<matplotlib.figure.Figure at 0x3f544240>"
      ]
     },
     "metadata": {},
     "output_type": "display_data"
    }
   ],
   "source": [
    "plt.plot(spike_trials[1:10],'.')"
   ]
  },
  {
   "cell_type": "code",
   "execution_count": 25,
   "metadata": {},
   "outputs": [
    {
     "data": {
      "text/plain": [
       "[<matplotlib.lines.Line2D at 0x3f9f33c8>]"
      ]
     },
     "execution_count": 25,
     "metadata": {},
     "output_type": "execute_result"
    },
    {
     "data": {
      "image/png": "[encoded data removed]",
      "text/plain": [
       "<matplotlib.figure.Figure at 0x3f647b00>"
      ]
     },
     "metadata": {},
     "output_type": "display_data"
    }
   ],
   "source": [
    "plt.plot(spike_times2[1:10],'.')"
   ]
  },
  {
   "cell_type": "code",
   "execution_count": 26,
   "metadata": {},
   "outputs": [
    {
     "data": {
      "text/plain": [
       "3312841"
      ]
     },
     "execution_count": 26,
     "metadata": {},
     "output_type": "execute_result"
    }
   ],
   "source": [
    "len(cluster_ids)"
   ]
  },
  {
   "cell_type": "code",
   "execution_count": 27,
   "metadata": {},
   "outputs": [
    {
     "data": {
      "text/plain": [
       "0.0"
      ]
     },
     "execution_count": 27,
     "metadata": {},
     "output_type": "execute_result"
    }
   ],
   "source": [
    "min(trialunits2)"
   ]
  },
  {
   "cell_type": "code",
   "execution_count": null,
   "metadata": {},
   "outputs": [],
   "source": []
  },
  {
   "cell_type": "code",
   "execution_count": null,
   "metadata": {},
   "outputs": [],
   "source": []
  },
  {
   "cell_type": "code",
   "execution_count": 28,
   "metadata": {},
   "outputs": [
    {
     "data": {
      "text/html": [
       "\n",
       "        \n",
       "        <style type=\"text/css\">\n",
       "            .Relation{\n",
       "                border-collapse:collapse;\n",
       "            }\n",
       "            .Relation th{\n",
       "                background: #A0A0A0; color: #ffffff; padding:4px; border:#f0e0e0 1px solid;\n",
       "                font-weight: normal; font-family: monospace; font-size: 75%;\n",
       "            }\n",
       "            .Relation td{\n",
       "                padding:4px; border:#f0e0e0 1px solid; font-size:75%;\n",
       "            }\n",
       "            .Relation tr:nth-child(odd){\n",
       "                background: #ffffff;\n",
       "            }\n",
       "            .Relation tr:nth-child(even){\n",
       "                background: #f3f1ff;\n",
       "            }\n",
       "            /* Tooltip container */\n",
       "            .djtooltip {\n",
       "            }\n",
       "\n",
       "            /* Tooltip text */\n",
       "            .djtooltip .djtooltiptext {\n",
       "                visibility: hidden;\n",
       "                width: 120px;\n",
       "                background-color: black;\n",
       "                color: #fff;\n",
       "                text-align: center;\n",
       "                padding: 5px 0;\n",
       "                border-radius: 6px;\n",
       "\n",
       "                /* Position the tooltip text - see examples below! */\n",
       "                position: absolute;\n",
       "                z-index: 1;\n",
       "            }\n",
       "\n",
       "\n",
       "            #primary {\n",
       "                font-weight: bold;\n",
       "                color: black;\n",
       "            }\n",
       "\n",
       "            #nonprimary {\n",
       "                font-weight: normal;\n",
       "                color: white;\n",
       "            }\n",
       "\n",
       "            /* Show the tooltip text when you mouse over the tooltip container */\n",
       "            .djtooltip:hover .djtooltiptext {\n",
       "                visibility: visible;\n",
       "            }\n",
       "        </style>\n",
       "        \n",
       "        <b></b>\n",
       "            <div style=\"max-height:1000px;max-width:1500px;overflow:auto;\">\n",
       "            <table border=\"1\" class=\"Relation\">\n",
       "                <thead> <tr style=\"text-align: right;\"> <th> <div class=\"djtooltip\">\n",
       "                                <p id=\"primary\">animal</p>\n",
       "                                <span class=\"djtooltiptext\">Janelia ANM ID (6 digits)</span>\n",
       "                            </div></th><th><div class=\"djtooltip\">\n",
       "                                <p id=\"primary\">session</p>\n",
       "                                <span class=\"djtooltiptext\">session number</span>\n",
       "                            </div></th><th><div class=\"djtooltip\">\n",
       "                                <p id=\"primary\">trial</p>\n",
       "                                <span class=\"djtooltiptext\"></span>\n",
       "                            </div></th><th><div class=\"djtooltip\">\n",
       "                                <p id=\"nonprimary\">start_time</p>\n",
       "                                <span class=\"djtooltiptext\">(s)</span>\n",
       "                            </div></th><th><div class=\"djtooltip\">\n",
       "                                <p id=\"nonprimary\">end_time</p>\n",
       "                                <span class=\"djtooltiptext\">(s)</span>\n",
       "                            </div> </th> </tr> </thead>\n",
       "                <tbody> <tr> <td>123456</td>\n",
       "<td>1</td>\n",
       "<td>0</td>\n",
       "<td>0.1000</td>\n",
       "<td>4.6238</td></tr><tr><td>123456</td>\n",
       "<td>1</td>\n",
       "<td>1</td>\n",
       "<td>0.1000</td>\n",
       "<td>4.5693</td></tr><tr><td>123456</td>\n",
       "<td>1</td>\n",
       "<td>2</td>\n",
       "<td>0.1000</td>\n",
       "<td>6.3794</td></tr><tr><td>123456</td>\n",
       "<td>1</td>\n",
       "<td>3</td>\n",
       "<td>0.1000</td>\n",
       "<td>4.5894</td></tr><tr><td>123456</td>\n",
       "<td>1</td>\n",
       "<td>4</td>\n",
       "<td>0.1000</td>\n",
       "<td>5.9699</td></tr><tr><td>123456</td>\n",
       "<td>1</td>\n",
       "<td>5</td>\n",
       "<td>0.1000</td>\n",
       "<td>6.3439</td></tr><tr><td>123456</td>\n",
       "<td>1</td>\n",
       "<td>6</td>\n",
       "<td>0.1000</td>\n",
       "<td>4.6021</td> </tr> </tbody>\n",
       "            </table>\n",
       "            <p>...</p>\n",
       "            <p>483 tuples</p></div>\n",
       "            "
      ],
      "text/plain": [
       "*animal    *session    *trial    start_time     end_time    \n",
       "+--------+ +---------+ +-------+ +------------+ +----------+\n",
       "123456     1           0         0.1000         4.6238      \n",
       "123456     1           1         0.1000         4.5693      \n",
       "123456     1           2         0.1000         6.3794      \n",
       "123456     1           3         0.1000         4.5894      \n",
       "123456     1           4         0.1000         5.9699      \n",
       "123456     1           5         0.1000         6.3439      \n",
       "123456     1           6         0.1000         4.6021      \n",
       "   ...\n",
       " (483 tuples)"
      ]
     },
     "execution_count": 28,
     "metadata": {},
     "output_type": "execute_result"
    }
   ],
   "source": [
    "session.Trial() & 'animal =123456 '"
   ]
  },
  {
   "cell_type": "code",
   "execution_count": 29,
   "metadata": {},
   "outputs": [],
   "source": [
    "ephys1=ephys.Ephys()"
   ]
  },
  {
   "cell_type": "code",
   "execution_count": 44,
   "metadata": {},
   "outputs": [],
   "source": [
    "# ephys1.populate()"
   ]
  },
  {
   "cell_type": "code",
   "execution_count": 31,
   "metadata": {},
   "outputs": [],
   "source": [
    "# ephys1.delete()"
   ]
  },
  {
   "cell_type": "code",
   "execution_count": 45,
   "metadata": {},
   "outputs": [],
   "source": [
    "spike=ephys1.Spike()"
   ]
  },
  {
   "cell_type": "code",
   "execution_count": 46,
   "metadata": {},
   "outputs": [
    {
     "data": {
      "text/html": [
       "\n",
       "        \n",
       "        <style type=\"text/css\">\n",
       "            .Relation{\n",
       "                border-collapse:collapse;\n",
       "            }\n",
       "            .Relation th{\n",
       "                background: #A0A0A0; color: #ffffff; padding:4px; border:#f0e0e0 1px solid;\n",
       "                font-weight: normal; font-family: monospace; font-size: 75%;\n",
       "            }\n",
       "            .Relation td{\n",
       "                padding:4px; border:#f0e0e0 1px solid; font-size:75%;\n",
       "            }\n",
       "            .Relation tr:nth-child(odd){\n",
       "                background: #ffffff;\n",
       "            }\n",
       "            .Relation tr:nth-child(even){\n",
       "                background: #f3f1ff;\n",
       "            }\n",
       "            /* Tooltip container */\n",
       "            .djtooltip {\n",
       "            }\n",
       "\n",
       "            /* Tooltip text */\n",
       "            .djtooltip .djtooltiptext {\n",
       "                visibility: hidden;\n",
       "                width: 120px;\n",
       "                background-color: black;\n",
       "                color: #fff;\n",
       "                text-align: center;\n",
       "                padding: 5px 0;\n",
       "                border-radius: 6px;\n",
       "\n",
       "                /* Position the tooltip text - see examples below! */\n",
       "                position: absolute;\n",
       "                z-index: 1;\n",
       "            }\n",
       "\n",
       "\n",
       "            #primary {\n",
       "                font-weight: bold;\n",
       "                color: black;\n",
       "            }\n",
       "\n",
       "            #nonprimary {\n",
       "                font-weight: normal;\n",
       "                color: white;\n",
       "            }\n",
       "\n",
       "            /* Show the tooltip text when you mouse over the tooltip container */\n",
       "            .djtooltip:hover .djtooltiptext {\n",
       "                visibility: visible;\n",
       "            }\n",
       "        </style>\n",
       "        \n",
       "        <b>Time stamp of each spike relative to the trial start</b>\n",
       "            <div style=\"max-height:1000px;max-width:1500px;overflow:auto;\">\n",
       "            <table border=\"1\" class=\"Relation\">\n",
       "                <thead> <tr style=\"text-align: right;\"> <th> <div class=\"djtooltip\">\n",
       "                                <p id=\"primary\">animal</p>\n",
       "                                <span class=\"djtooltiptext\">Janelia ANM ID (6 digits)</span>\n",
       "                            </div></th><th><div class=\"djtooltip\">\n",
       "                                <p id=\"primary\">session</p>\n",
       "                                <span class=\"djtooltiptext\">session number</span>\n",
       "                            </div></th><th><div class=\"djtooltip\">\n",
       "                                <p id=\"primary\">electrode_group</p>\n",
       "                                <span class=\"djtooltiptext\">Electrode_group is like the probe</span>\n",
       "                            </div></th><th><div class=\"djtooltip\">\n",
       "                                <p id=\"primary\">unit</p>\n",
       "                                <span class=\"djtooltiptext\"></span>\n",
       "                            </div></th><th><div class=\"djtooltip\">\n",
       "                                <p id=\"primary\">spike_time</p>\n",
       "                                <span class=\"djtooltiptext\">(s)</span>\n",
       "                            </div></th><th><div class=\"djtooltip\">\n",
       "                                <p id=\"nonprimary\">electrode</p>\n",
       "                                <span class=\"djtooltiptext\">sites on the electrode</span>\n",
       "                            </div></th><th><div class=\"djtooltip\">\n",
       "                                <p id=\"nonprimary\">trial</p>\n",
       "                                <span class=\"djtooltiptext\"></span>\n",
       "                            </div> </th> </tr> </thead>\n",
       "                <tbody> <tr> <td>123456</td>\n",
       "<td>1</td>\n",
       "<td>1</td>\n",
       "<td>0</td>\n",
       "<td>0.0001</td>\n",
       "<td>136</td>\n",
       "<td>18</td></tr><tr><td>123456</td>\n",
       "<td>1</td>\n",
       "<td>1</td>\n",
       "<td>0</td>\n",
       "<td>0.0011</td>\n",
       "<td>64</td>\n",
       "<td>421</td></tr><tr><td>123456</td>\n",
       "<td>1</td>\n",
       "<td>1</td>\n",
       "<td>0</td>\n",
       "<td>0.0016</td>\n",
       "<td>153</td>\n",
       "<td>288</td></tr><tr><td>123456</td>\n",
       "<td>1</td>\n",
       "<td>1</td>\n",
       "<td>0</td>\n",
       "<td>0.0020</td>\n",
       "<td>153</td>\n",
       "<td>31</td></tr><tr><td>123456</td>\n",
       "<td>1</td>\n",
       "<td>1</td>\n",
       "<td>0</td>\n",
       "<td>0.0021</td>\n",
       "<td>128</td>\n",
       "<td>72</td></tr><tr><td>123456</td>\n",
       "<td>1</td>\n",
       "<td>1</td>\n",
       "<td>0</td>\n",
       "<td>0.0024</td>\n",
       "<td>101</td>\n",
       "<td>421</td></tr><tr><td>123456</td>\n",
       "<td>1</td>\n",
       "<td>1</td>\n",
       "<td>0</td>\n",
       "<td>0.0031</td>\n",
       "<td>154</td>\n",
       "<td>331</td> </tr> </tbody>\n",
       "            </table>\n",
       "            <p>...</p>\n",
       "            <p>2595824 tuples</p></div>\n",
       "            "
      ],
      "text/plain": [
       "*animal    *session    *electrode_gro *unit    *spike_time    electrode     trial    \n",
       "+--------+ +---------+ +------------+ +------+ +------------+ +-----------+ +-------+\n",
       "123456     1           1              0        0.0001         136           18       \n",
       "123456     1           1              0        0.0011         64            421      \n",
       "123456     1           1              0        0.0016         153           288      \n",
       "123456     1           1              0        0.0020         153           31       \n",
       "123456     1           1              0        0.0021         128           72       \n",
       "123456     1           1              0        0.0024         101           421      \n",
       "123456     1           1              0        0.0031         154           331      \n",
       "   ...\n",
       " (2595824 tuples)"
      ]
     },
     "execution_count": 46,
     "metadata": {},
     "output_type": "execute_result"
    }
   ],
   "source": [
    "spike"
   ]
  },
  {
   "cell_type": "code",
   "execution_count": 59,
   "metadata": {},
   "outputs": [
    {
     "data": {
      "text/plain": [
       "285"
      ]
     },
     "execution_count": 59,
     "metadata": {},
     "output_type": "execute_result"
    }
   ],
   "source": [
    "unit1=(spike & 'unit = 4').fetch('spike_time')\n",
    "np.size(unit1)"
   ]
  },
  {
   "cell_type": "code",
   "execution_count": 58,
   "metadata": {},
   "outputs": [
    {
     "data": {
      "text/plain": [
       "285"
      ]
     },
     "execution_count": 58,
     "metadata": {},
     "output_type": "execute_result"
    }
   ],
   "source": [
    "len(cluster_ids[cluster_ids==4])"
   ]
  },
  {
   "cell_type": "code",
   "execution_count": 49,
   "metadata": {},
   "outputs": [
    {
     "data": {
      "text/plain": [
       "[<matplotlib.lines.Line2D at 0x3f2a39b0>]"
      ]
     },
     "execution_count": 49,
     "metadata": {},
     "output_type": "execute_result"
    },
    {
     "data": {
      "image/png": "[encoded data removed]",
      "text/plain": [
       "<matplotlib.figure.Figure at 0x3f552898>"
      ]
     },
     "metadata": {},
     "output_type": "display_data"
    }
   ],
   "source": [
    "unit1=(spike & 'unit = 24').fetch('spike_time','trial')\n",
    "plt.subplot(211)\n",
    "plt.plot(unit1[0],unit1[1],'.')\n",
    "psth=np.histogram(np.asarray(unit1[0], dtype='float'),100)\n",
    "plt.subplot(212)\n",
    "psth[0]\n",
    "plt.plot(psth[0])"
   ]
  },
  {
   "cell_type": "code",
   "execution_count": 37,
   "metadata": {},
   "outputs": [
    {
     "data": {
      "text/plain": [
       "array([], dtype=object)"
      ]
     },
     "execution_count": 37,
     "metadata": {},
     "output_type": "execute_result"
    }
   ],
   "source": [
    "unit1[0]"
   ]
  },
  {
   "cell_type": "code",
   "execution_count": 38,
   "metadata": {},
   "outputs": [],
   "source": [
    "behaviorTrial = ephys.experiment.BehaviorTrial()"
   ]
  },
  {
   "cell_type": "code",
   "execution_count": 39,
   "metadata": {},
   "outputs": [],
   "source": [
    "outcome = behaviorTrial.fetch('outcome', order_by='session')\n",
    "early_lick = behaviorTrial.fetch('early_lick', order_by='session')"
   ]
  },
  {
   "cell_type": "code",
   "execution_count": 40,
   "metadata": {},
   "outputs": [],
   "source": [
    "data = np.zeros(len(outcome))\n",
    "data1 = np.zeros(len(early_lick))"
   ]
  },
  {
   "cell_type": "code",
   "execution_count": 41,
   "metadata": {},
   "outputs": [],
   "source": [
    "data[outcome=='hit'] = 1\n",
    "data1[early_lick=='early'] = 1"
   ]
  },
  {
   "cell_type": "code",
   "execution_count": 42,
   "metadata": {},
   "outputs": [
    {
     "ename": "NameError",
     "evalue": "name 'trialNote' is not defined",
     "output_type": "error",
     "traceback": [
      "\u001b[1;31m---------------------------------------------------------------------------\u001b[0m",
      "\u001b[1;31mNameError\u001b[0m                                 Traceback (most recent call last)",
      "\u001b[1;32m<ipython-input-42-d90195b53483>\u001b[0m in \u001b[0;36m<module>\u001b[1;34m()\u001b[0m\n\u001b[1;32m----> 1\u001b[1;33m \u001b[0mtrial_note\u001b[0m \u001b[1;33m=\u001b[0m \u001b[0mtrialNote\u001b[0m\u001b[1;33m.\u001b[0m\u001b[0mfetch\u001b[0m\u001b[1;33m(\u001b[0m\u001b[1;34m'trial_note'\u001b[0m\u001b[1;33m,\u001b[0m \u001b[0morder_by\u001b[0m\u001b[1;33m=\u001b[0m\u001b[1;34m'session'\u001b[0m\u001b[1;33m)\u001b[0m\u001b[1;33m\u001b[0m\u001b[0m\n\u001b[0m\u001b[0;32m      2\u001b[0m \u001b[0mresults\u001b[0m \u001b[1;33m=\u001b[0m \u001b[0mlist\u001b[0m\u001b[1;33m(\u001b[0m\u001b[0mmap\u001b[0m\u001b[1;33m(\u001b[0m\u001b[0mint\u001b[0m\u001b[1;33m,\u001b[0m \u001b[0mtrial_note\u001b[0m\u001b[1;33m)\u001b[0m\u001b[1;33m)\u001b[0m\u001b[1;33m\u001b[0m\u001b[0m\n\u001b[0;32m      3\u001b[0m \u001b[0mprotDiff\u001b[0m \u001b[1;33m=\u001b[0m \u001b[0mnp\u001b[0m\u001b[1;33m.\u001b[0m\u001b[0mdiff\u001b[0m\u001b[1;33m(\u001b[0m\u001b[0mresults\u001b[0m\u001b[1;33m)\u001b[0m\u001b[1;33m\u001b[0m\u001b[0m\n\u001b[0;32m      4\u001b[0m \u001b[0mprotChange\u001b[0m \u001b[1;33m=\u001b[0m \u001b[0mnp\u001b[0m\u001b[1;33m.\u001b[0m\u001b[0mwhere\u001b[0m\u001b[1;33m(\u001b[0m\u001b[0mprotDiff\u001b[0m \u001b[1;33m!=\u001b[0m \u001b[1;36m0\u001b[0m\u001b[1;33m)\u001b[0m\u001b[1;33m\u001b[0m\u001b[0m\n",
      "\u001b[1;31mNameError\u001b[0m: name 'trialNote' is not defined"
     ]
    }
   ],
   "source": [
    "trial_note = trialNote.fetch('trial_note', order_by='session')\n",
    "results = list(map(int, trial_note))\n",
    "protDiff = np.diff(results)\n",
    "protChange = np.where(protDiff != 0)"
   ]
  },
  {
   "cell_type": "code",
   "execution_count": null,
   "metadata": {},
   "outputs": [],
   "source": [
    "def movingaverage (values, window):\n",
    "    weights = np.repeat(1.0, window)/window\n",
    "    sma = np.convolve(values, weights, 'valid')\n",
    "    return sma"
   ]
  },
  {
   "cell_type": "code",
   "execution_count": null,
   "metadata": {},
   "outputs": [],
   "source": [
    "yMA = movingaverage(data,20)\n",
    "plt.plot(yMA)\n",
    "plt.xlabel('Trials')\n",
    "plt.ylabel('Proportion Correct')\n",
    "for i in range(0, len(protChange[0])):\n",
    "    plt.axvline(protChange[0][i], linewidth=4, color='r')"
   ]
  },
  {
   "cell_type": "code",
   "execution_count": null,
   "metadata": {},
   "outputs": [],
   "source": [
    "yMA = movingaverage(data1,20)\n",
    "plt.plot(yMA)\n",
    "plt.xlabel('Trials')\n",
    "plt.ylabel('Early Licks')\n",
    "for i in range(0, len(protChange[0])):\n",
    "    plt.axvline(protChange[0][i], linewidth=4, color='r')"
   ]
  },
  {
   "cell_type": "code",
   "execution_count": null,
   "metadata": {},
   "outputs": [],
   "source": [
    "ephys.experiment.ActionEvent()"
   ]
  },
  {
   "cell_type": "code",
   "execution_count": null,
   "metadata": {},
   "outputs": [],
   "source": []
  }
 ],
 "metadata": {
  "kernelspec": {
   "display_name": "Python 3",
   "language": "python",
   "name": "python3"
  },
  "language_info": {
   "codemirror_mode": {
    "name": "ipython",
    "version": 3
   },
   "file_extension": ".py",
   "mimetype": "text/x-python",
   "name": "python",
   "nbconvert_exporter": "python",
   "pygments_lexer": "ipython3",
   "version": "3.6.3"
  }
 },
 "nbformat": 4,
 "nbformat_minor": 2
}
