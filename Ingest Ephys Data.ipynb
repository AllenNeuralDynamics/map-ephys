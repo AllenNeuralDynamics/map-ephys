{
 "cells": [
  {
   "cell_type": "code",
   "execution_count": 1,
   "metadata": {},
   "outputs": [],
   "source": [
    "import datajoint as dj"
   ]
  },
  {
   "cell_type": "code",
   "execution_count": 2,
   "metadata": {},
   "outputs": [
    {
     "name": "stdout",
     "output_type": "stream",
     "text": [
      "Connecting daveliu@mesoscale-activity.datajoint.io:3306\n"
     ]
    }
   ],
   "source": [
    "import ephys"
   ]
  },
  {
   "cell_type": "code",
   "execution_count": 3,
   "metadata": {
    "scrolled": false
   },
   "outputs": [
    {
     "data": {
      "image/svg+xml": [
       "<svg height=\"311pt\" viewBox=\"0.00 0.00 458.50 311.00\" width=\"459pt\" xmlns=\"http://www.w3.org/2000/svg\" xmlns:xlink=\"http://www.w3.org/1999/xlink\">\n",
       "<g class=\"graph\" id=\"graph0\" transform=\"scale(1 1) rotate(0) translate(4 307)\">\n",
       "<polygon fill=\"white\" points=\"-4,4 -4,-307 454.5,-307 454.5,4 -4,4\" stroke=\"transparent\"/>\n",
       "<!-- ephys.LabeledTrack -->\n",
       "<g class=\"node\" id=\"node1\">\n",
       "<title>ephys.LabeledTrack</title>\n",
       "<polygon fill=\"#00ff00\" fill-opacity=\"0.188235\" points=\"125.5,-161 3.5,-161 3.5,-126 125.5,-126 125.5,-161\" stroke=\"#00ff00\" stroke-opacity=\"0.188235\"/>\n",
       "<text fill=\"darkgreen\" font-family=\"arial\" font-size=\"12.00\" text-anchor=\"middle\" x=\"64.5\" y=\"-140.4\">ephys.LabeledTrack</text>\n",
       "</g>\n",
       "<!-- ephys.LabeledTrack.Point -->\n",
       "<g class=\"node\" id=\"node7\">\n",
       "<title>ephys.LabeledTrack.Point</title>\n",
       "<polygon fill=\"transparent\" points=\"129,-82 0,-82 0,-63 129,-63 129,-82\" stroke=\"transparent\"/>\n",
       "<text font-family=\"arial\" font-size=\"10.00\" text-anchor=\"middle\" x=\"64.5\" y=\"-70\">ephys.LabeledTrack.Point</text>\n",
       "</g>\n",
       "<!-- ephys.LabeledTrack&#45;&gt;ephys.LabeledTrack.Point -->\n",
       "<g class=\"edge\" id=\"edge1\">\n",
       "<title>ephys.LabeledTrack-&gt;ephys.LabeledTrack.Point</title>\n",
       "<path d=\"M64.5,-125.8C64.5,-112.08 64.5,-93.19 64.5,-82.27\" fill=\"none\" stroke=\"#000000\" stroke-opacity=\"0.250980\" stroke-width=\"0.75\"/>\n",
       "</g>\n",
       "<!-- ephys.Ephys.Unit -->\n",
       "<g class=\"node\" id=\"node2\">\n",
       "<title>ephys.Ephys.Unit</title>\n",
       "<polygon fill=\"transparent\" points=\"441.5,-82 347.5,-82 347.5,-63 441.5,-63 441.5,-82\" stroke=\"transparent\"/>\n",
       "<text font-family=\"arial\" font-size=\"10.00\" text-anchor=\"middle\" x=\"394.5\" y=\"-70\">ephys.Ephys.Unit</text>\n",
       "</g>\n",
       "<!-- ephys.Ephys.Spike -->\n",
       "<g class=\"node\" id=\"node4\">\n",
       "<title>ephys.Ephys.Spike</title>\n",
       "<polygon fill=\"transparent\" points=\"264,-19 163,-19 163,0 264,0 264,-19\" stroke=\"transparent\"/>\n",
       "<text font-family=\"arial\" font-size=\"10.00\" text-anchor=\"middle\" x=\"213.5\" y=\"-7\">ephys.Ephys.Spike</text>\n",
       "</g>\n",
       "<!-- ephys.Ephys.Unit&#45;&gt;ephys.Ephys.Spike -->\n",
       "<g class=\"edge\" id=\"edge2\">\n",
       "<title>ephys.Ephys.Unit-&gt;ephys.Ephys.Spike</title>\n",
       "<path d=\"M368.95,-62.89C334.45,-51.26 273.35,-30.67 238.92,-19.07\" fill=\"none\" stroke=\"#000000\" stroke-opacity=\"0.250980\" stroke-width=\"0.75\"/>\n",
       "</g>\n",
       "<!-- ephys.Ephys.TrialUnit -->\n",
       "<g class=\"node\" id=\"node9\">\n",
       "<title>ephys.Ephys.TrialUnit</title>\n",
       "<polygon fill=\"transparent\" points=\"450.5,-19 338.5,-19 338.5,0 450.5,0 450.5,-19\" stroke=\"transparent\"/>\n",
       "<text font-family=\"arial\" font-size=\"10.00\" text-anchor=\"middle\" x=\"394.5\" y=\"-7\">ephys.Ephys.TrialUnit</text>\n",
       "</g>\n",
       "<!-- ephys.Ephys.Unit&#45;&gt;ephys.Ephys.TrialUnit -->\n",
       "<g class=\"edge\" id=\"edge3\">\n",
       "<title>ephys.Ephys.Unit-&gt;ephys.Ephys.TrialUnit</title>\n",
       "<path d=\"M394.5,-62.76C394.5,-51.16 394.5,-30.81 394.5,-19.22\" fill=\"none\" stroke=\"#000000\" stroke-opacity=\"0.250980\" stroke-width=\"0.75\"/>\n",
       "</g>\n",
       "<!-- ephys.ElectrodeGroup.Electrode -->\n",
       "<g class=\"node\" id=\"node3\">\n",
       "<title>ephys.ElectrodeGroup.Electrode</title>\n",
       "<polygon fill=\"transparent\" points=\"313.5,-153 155.5,-153 155.5,-134 313.5,-134 313.5,-153\" stroke=\"transparent\"/>\n",
       "<text font-family=\"arial\" font-size=\"10.00\" text-anchor=\"middle\" x=\"234.5\" y=\"-141\">ephys.ElectrodeGroup.Electrode</text>\n",
       "</g>\n",
       "<!-- ephys.ElectrodeGroup.Electrode&#45;&gt;ephys.Ephys.Spike -->\n",
       "<g class=\"edge\" id=\"edge4\">\n",
       "<title>ephys.ElectrodeGroup.Electrode-&gt;ephys.Ephys.Spike</title>\n",
       "<path d=\"M219.33,-133.93C205.26,-125.02 185.2,-109.62 176.5,-90 170.19,-75.78 171.21,-69.63 176.5,-55 181.76,-40.45 194.08,-27.3 203.06,-19.13\" fill=\"none\" stroke=\"#000000\" stroke-dasharray=\"5,2\" stroke-opacity=\"0.250980\" stroke-width=\"0.75\"/>\n",
       "</g>\n",
       "<!-- ephys.ElectrodePosition -->\n",
       "<g class=\"node\" id=\"node6\">\n",
       "<title>ephys.ElectrodePosition</title>\n",
       "<polygon fill=\"#00ff00\" fill-opacity=\"0.188235\" points=\"329,-90 186,-90 186,-55 329,-55 329,-90\" stroke=\"#00ff00\" stroke-opacity=\"0.188235\"/>\n",
       "<text fill=\"darkgreen\" font-family=\"arial\" font-size=\"12.00\" text-anchor=\"middle\" x=\"257.5\" y=\"-69.4\">ephys.ElectrodePosition</text>\n",
       "</g>\n",
       "<!-- ephys.ElectrodeGroup.Electrode&#45;&gt;ephys.ElectrodePosition -->\n",
       "<g class=\"edge\" id=\"edge5\">\n",
       "<title>ephys.ElectrodeGroup.Electrode-&gt;ephys.ElectrodePosition</title>\n",
       "<path d=\"M237.41,-133.76C241.06,-122.81 247.4,-103.81 251.98,-90.07\" fill=\"none\" stroke=\"#000000\" stroke-opacity=\"0.250980\" stroke-width=\"2\"/>\n",
       "</g>\n",
       "<!-- ephys.Ephys -->\n",
       "<g class=\"node\" id=\"node5\">\n",
       "<title>ephys.Ephys</title>\n",
       "<ellipse cx=\"394.5\" cy=\"-143.5\" fill=\"#00007f\" fill-opacity=\"0.250980\" rx=\"51.75\" ry=\"17.5\" stroke=\"#00007f\" stroke-opacity=\"0.250980\"/>\n",
       "<text fill=\"#00007f\" fill-opacity=\"0.627451\" font-family=\"arial\" font-size=\"12.00\" text-anchor=\"middle\" x=\"394.5\" y=\"-140.4\">ephys.Ephys</text>\n",
       "</g>\n",
       "<!-- ephys.Ephys&#45;&gt;ephys.Ephys.Unit -->\n",
       "<g class=\"edge\" id=\"edge6\">\n",
       "<title>ephys.Ephys-&gt;ephys.Ephys.Unit</title>\n",
       "<path d=\"M394.5,-125.8C394.5,-112.08 394.5,-93.19 394.5,-82.27\" fill=\"none\" stroke=\"#000000\" stroke-opacity=\"0.250980\" stroke-width=\"0.75\"/>\n",
       "</g>\n",
       "<!-- ephys.ElectrodeGroup -->\n",
       "<g class=\"node\" id=\"node8\">\n",
       "<title>ephys.ElectrodeGroup</title>\n",
       "<polygon fill=\"#00ff00\" fill-opacity=\"0.188235\" points=\"301,-232 168,-232 168,-197 301,-197 301,-232\" stroke=\"#00ff00\" stroke-opacity=\"0.188235\"/>\n",
       "<text fill=\"darkgreen\" font-family=\"arial\" font-size=\"12.00\" text-anchor=\"middle\" x=\"234.5\" y=\"-211.4\">ephys.ElectrodeGroup</text>\n",
       "</g>\n",
       "<!-- ephys.ElectrodeGroup&#45;&gt;ephys.LabeledTrack -->\n",
       "<g class=\"edge\" id=\"edge7\">\n",
       "<title>ephys.ElectrodeGroup-&gt;ephys.LabeledTrack</title>\n",
       "<path d=\"M193.78,-196.97C166.96,-186.09 131.99,-171.89 105.18,-161.01\" fill=\"none\" stroke=\"#000000\" stroke-opacity=\"0.250980\" stroke-width=\"2\"/>\n",
       "</g>\n",
       "<!-- ephys.ElectrodeGroup&#45;&gt;ephys.ElectrodeGroup.Electrode -->\n",
       "<g class=\"edge\" id=\"edge8\">\n",
       "<title>ephys.ElectrodeGroup-&gt;ephys.ElectrodeGroup.Electrode</title>\n",
       "<path d=\"M234.5,-196.8C234.5,-183.08 234.5,-164.19 234.5,-153.27\" fill=\"none\" stroke=\"#000000\" stroke-opacity=\"0.250980\" stroke-width=\"0.75\"/>\n",
       "</g>\n",
       "<!-- ephys.ElectrodeGroup&#45;&gt;ephys.Ephys -->\n",
       "<g class=\"edge\" id=\"edge9\">\n",
       "<title>ephys.ElectrodeGroup-&gt;ephys.Ephys</title>\n",
       "<path d=\"M272.82,-196.97C300.74,-184.93 338.06,-168.84 363.97,-157.66\" fill=\"none\" stroke=\"#000000\" stroke-opacity=\"0.250980\" stroke-width=\"2\"/>\n",
       "</g>\n",
       "<!-- ephys.Probe -->\n",
       "<g class=\"node\" id=\"node10\">\n",
       "<title>ephys.Probe</title>\n",
       "<polygon fill=\"#000000\" fill-opacity=\"0.125490\" points=\"270,-303 199,-303 199,-268 270,-268 270,-303\" stroke=\"transparent\"/>\n",
       "<text font-family=\"arial\" font-size=\"10.00\" text-anchor=\"middle\" x=\"234.5\" y=\"-283\">ephys.Probe</text>\n",
       "</g>\n",
       "<!-- ephys.Probe&#45;&gt;ephys.ElectrodeGroup -->\n",
       "<g class=\"edge\" id=\"edge10\">\n",
       "<title>ephys.Probe-&gt;ephys.ElectrodeGroup</title>\n",
       "<path d=\"M234.5,-267.8C234.5,-256.95 234.5,-242.87 234.5,-232.05\" fill=\"none\" stroke=\"#000000\" stroke-dasharray=\"5,2\" stroke-opacity=\"0.250980\" stroke-width=\"0.75\"/>\n",
       "</g>\n",
       "</g>\n",
       "</svg>"
      ],
      "text/plain": [
       "<datajoint.erd.ERD at 0x1d47db38>"
      ]
     },
     "execution_count": 3,
     "metadata": {},
     "output_type": "execute_result"
    }
   ],
   "source": [
    "dj.ERD(ephys)"
   ]
  },
  {
   "cell_type": "code",
   "execution_count": null,
   "metadata": {},
   "outputs": [],
   "source": [
    "import scipy.io as spio\n",
    "import numpy as np\n",
    "import matplotlib.pyplot as plt\n",
    "%matplotlib inline"
   ]
  },
  {
   "cell_type": "code",
   "execution_count": null,
   "metadata": {},
   "outputs": [],
   "source": [
    "dj.ERD(ephys)-2"
   ]
  },
  {
   "cell_type": "code",
   "execution_count": null,
   "metadata": {},
   "outputs": [],
   "source": [
    "mouse=ephys.experiment.lab.Animal()\n",
    "#mouse.insert1((123456, '2017-08-01'))\n",
    "mouse"
   ]
  },
  {
   "cell_type": "code",
   "execution_count": null,
   "metadata": {},
   "outputs": [],
   "source": [
    "dj.ERD(ephys.experiment)"
   ]
  },
  {
   "cell_type": "code",
   "execution_count": null,
   "metadata": {},
   "outputs": [],
   "source": [
    "session=ephys.experiment.Session()\n",
    "session"
   ]
  },
  {
   "cell_type": "code",
   "execution_count": null,
   "metadata": {},
   "outputs": [],
   "source": [
    "rig=ephys.experiment.lab.Rig()\n",
    "rig\n",
    "#rig.insert1(('RRig','Recording Rig'))"
   ]
  },
  {
   "cell_type": "code",
   "execution_count": null,
   "metadata": {},
   "outputs": [],
   "source": [
    "ephys.Probe()"
   ]
  },
  {
   "cell_type": "code",
   "execution_count": null,
   "metadata": {},
   "outputs": [],
   "source": [
    "eGroup=ephys.ElectrodeGroup()"
   ]
  },
  {
   "cell_type": "code",
   "execution_count": null,
   "metadata": {
    "scrolled": true
   },
   "outputs": [],
   "source": [
    "#eGroup.insert1((123456, 1, 1, '15131808323', 'C:\\\\Users\\\\liul.HHMI\\\\Desktop\\\\real5ap_imec3_opt3_jrc.mat'))"
   ]
  },
  {
   "cell_type": "code",
   "execution_count": null,
   "metadata": {},
   "outputs": [],
   "source": [
    "eIns=eGroup.fetch1(dj.key) # fetch the dictionary\n",
    "electrode=eGroup.Electrode()"
   ]
  },
  {
   "cell_type": "code",
   "execution_count": null,
   "metadata": {},
   "outputs": [],
   "source": []
  },
  {
   "cell_type": "code",
   "execution_count": null,
   "metadata": {},
   "outputs": [],
   "source": [
    "electrode"
   ]
  },
  {
   "cell_type": "code",
   "execution_count": null,
   "metadata": {},
   "outputs": [],
   "source": [
    "import h5py\n",
    "root=\"C:\\\\Users\\\\liul.HHMI\\\\Desktop\\\\\"\n",
    "data_file = root + 'real5ap_imec3_opt3_jrc.mat'"
   ]
  },
  {
   "cell_type": "code",
   "execution_count": null,
   "metadata": {},
   "outputs": [],
   "source": [
    "f = h5py.File(data_file,'r')\n",
    "ind = np.argsort(f['S_clu']['viClu'][0]) # index sorted by cluster\n",
    "cluster_ids = f['S_clu']['viClu'][0][ind] # cluster (unit) number\n",
    "spike_times = f['viTime_spk'][0][ind] # spike times\n",
    "viSite_spk = f['viSite_spk'][0][ind]\n",
    "viT_offset_file = f['viT_offset_file'][:] # start of each trial\n",
    "spike_trials = np.ones(len(spike_times)) * (len(viT_offset_file) - 1)\n",
    "spike_times2 = np.copy(spike_times)"
   ]
  },
  {
   "cell_type": "code",
   "execution_count": null,
   "metadata": {},
   "outputs": [],
   "source": [
    "a = np.array([1, 2, 3])\n",
    "b = np.copy(a)\n",
    "b[a>1]=b[a>1]-1\n",
    "#a"
   ]
  },
  {
   "cell_type": "code",
   "execution_count": null,
   "metadata": {},
   "outputs": [],
   "source": [
    "b"
   ]
  },
  {
   "cell_type": "code",
   "execution_count": null,
   "metadata": {},
   "outputs": [],
   "source": []
  },
  {
   "cell_type": "code",
   "execution_count": null,
   "metadata": {},
   "outputs": [],
   "source": [
    "viT_offset_file[1]"
   ]
  },
  {
   "cell_type": "code",
   "execution_count": null,
   "metadata": {},
   "outputs": [],
   "source": [
    "spike_times[(spike_times >= viT_offset_file[1]) & (spike_times < viT_offset_file[3-1])]"
   ]
  },
  {
   "cell_type": "code",
   "execution_count": null,
   "metadata": {},
   "outputs": [],
   "source": [
    "plt.plot(spike_times[(spike_times >= viT_offset_file[1]) & (spike_times < viT_offset_file[3-1])])"
   ]
  },
  {
   "cell_type": "code",
   "execution_count": null,
   "metadata": {},
   "outputs": [],
   "source": [
    "for i in range(len(viT_offset_file) - 1, 0, -1): #find the trials each unit has a spike in\n",
    "    spike_trials[spike_times < viT_offset_file[i]] = i - 1 # Get the trial number of each spike\n",
    "    spike_times2[(spike_times >= viT_offset_file[i-1]) & (spike_times < viT_offset_file[i])] = spike_times[(spike_times >= viT_offset_file[i-1]) & (spike_times < viT_offset_file[i])] - viT_offset_file[i-1] # subtract the viT_offset_file from each trial\n",
    "spike_times2[spike_times >= viT_offset_file[-1]] = spike_times[spike_times >= viT_offset_file[-1]] - viT_offset_file[-1] # subtract the viT_offset_file from each trial\n",
    "\n",
    "sRateHz = f['P']['sRateHz'][0]\n",
    "clu_ids_diff = np.diff(cluster_ids)\n",
    "clu_ids_diff = np.where(clu_ids_diff != 0)[0] + 1\n",
    "units = np.split(spike_times, clu_ids_diff)\n",
    "trialunits = np.split(spike_trials, clu_ids_diff) # sub arrays of spike_trials\n",
    "unit_ids = np.arange(len(clu_ids_diff)+1)\n",
    "trialunits1=[]\n",
    "trialunits2=[]\n",
    "for i in range(0,len(trialunits)):\n",
    "    trialunits2 = np.append(trialunits2, np.unique(trialunits[i]))\n",
    "    trialunits1 = np.append(trialunits1, np.zeros(len(np.unique(trialunits[i])))+i)"
   ]
  },
  {
   "cell_type": "code",
   "execution_count": null,
   "metadata": {},
   "outputs": [],
   "source": [
    "plt.plot(spike_trials[1:10],'.')"
   ]
  },
  {
   "cell_type": "code",
   "execution_count": null,
   "metadata": {},
   "outputs": [],
   "source": [
    "plt.plot(spike_times2[1:10],'.')"
   ]
  },
  {
   "cell_type": "code",
   "execution_count": null,
   "metadata": {},
   "outputs": [],
   "source": [
    "len(cluster_ids)"
   ]
  },
  {
   "cell_type": "code",
   "execution_count": null,
   "metadata": {},
   "outputs": [],
   "source": [
    "min(trialunits2)"
   ]
  },
  {
   "cell_type": "code",
   "execution_count": null,
   "metadata": {},
   "outputs": [],
   "source": [
    "len(cluster_ids[cluster_ids==6])"
   ]
  },
  {
   "cell_type": "code",
   "execution_count": null,
   "metadata": {},
   "outputs": [],
   "source": []
  },
  {
   "cell_type": "code",
   "execution_count": null,
   "metadata": {},
   "outputs": [],
   "source": [
    "session.Trial() & 'animal =123456 '"
   ]
  },
  {
   "cell_type": "code",
   "execution_count": null,
   "metadata": {},
   "outputs": [],
   "source": [
    "ephys1=ephys.Ephys()"
   ]
  },
  {
   "cell_type": "code",
   "execution_count": null,
   "metadata": {},
   "outputs": [],
   "source": [
    "ephys1.populate()"
   ]
  },
  {
   "cell_type": "code",
   "execution_count": null,
   "metadata": {},
   "outputs": [],
   "source": [
    "ephys1.delete()"
   ]
  },
  {
   "cell_type": "code",
   "execution_count": null,
   "metadata": {},
   "outputs": [],
   "source": [
    "spike=ephys1.Spike()"
   ]
  },
  {
   "cell_type": "code",
   "execution_count": null,
   "metadata": {},
   "outputs": [],
   "source": [
    "unit1=(spike & 'unit = 80').fetch('spike_time','trial')"
   ]
  },
  {
   "cell_type": "code",
   "execution_count": null,
   "metadata": {},
   "outputs": [],
   "source": [
    "np.size(unit1)"
   ]
  },
  {
   "cell_type": "code",
   "execution_count": null,
   "metadata": {},
   "outputs": [],
   "source": [
    "unit1=(spike & 'unit = 24').fetch('spike_time','trial')\n",
    "plt.subplot(211)\n",
    "plt.plot(unit1[0],unit1[1],'.')\n",
    "psth=np.histogram(np.asarray(unit1[0], dtype='float'),100)\n",
    "plt.subplot(212)\n",
    "psth[0]\n",
    "plt.plot(psth[0])"
   ]
  },
  {
   "cell_type": "code",
   "execution_count": null,
   "metadata": {},
   "outputs": [],
   "source": [
    "spike"
   ]
  },
  {
   "cell_type": "code",
   "execution_count": null,
   "metadata": {},
   "outputs": [],
   "source": [
    "behaviorTrial = ephys.experiment.BehaviorTrial()"
   ]
  },
  {
   "cell_type": "code",
   "execution_count": null,
   "metadata": {},
   "outputs": [],
   "source": [
    "outcome = behaviorTrial.fetch('outcome', order_by='session')\n",
    "early_lick = behaviorTrial.fetch('early_lick', order_by='session')"
   ]
  },
  {
   "cell_type": "code",
   "execution_count": null,
   "metadata": {},
   "outputs": [],
   "source": [
    "data = np.zeros(len(outcome))\n",
    "data1 = np.zeros(len(early_lick))"
   ]
  },
  {
   "cell_type": "code",
   "execution_count": null,
   "metadata": {},
   "outputs": [],
   "source": [
    "data[outcome=='hit'] = 1\n",
    "data1[early_lick=='early'] = 1"
   ]
  },
  {
   "cell_type": "code",
   "execution_count": null,
   "metadata": {},
   "outputs": [],
   "source": [
    "trial_note = trialNote.fetch('trial_note', order_by='session')\n",
    "results = list(map(int, trial_note))\n",
    "protDiff = np.diff(results)\n",
    "protChange = np.where(protDiff != 0)"
   ]
  },
  {
   "cell_type": "code",
   "execution_count": null,
   "metadata": {},
   "outputs": [],
   "source": [
    "def movingaverage (values, window):\n",
    "    weights = np.repeat(1.0, window)/window\n",
    "    sma = np.convolve(values, weights, 'valid')\n",
    "    return sma"
   ]
  },
  {
   "cell_type": "code",
   "execution_count": null,
   "metadata": {},
   "outputs": [],
   "source": [
    "yMA = movingaverage(data,20)\n",
    "plt.plot(yMA)\n",
    "plt.xlabel('Trials')\n",
    "plt.ylabel('Proportion Correct')\n",
    "for i in range(0, len(protChange[0])):\n",
    "    plt.axvline(protChange[0][i], linewidth=4, color='r')"
   ]
  },
  {
   "cell_type": "code",
   "execution_count": null,
   "metadata": {},
   "outputs": [],
   "source": [
    "yMA = movingaverage(data1,20)\n",
    "plt.plot(yMA)\n",
    "plt.xlabel('Trials')\n",
    "plt.ylabel('Early Licks')\n",
    "for i in range(0, len(protChange[0])):\n",
    "    plt.axvline(protChange[0][i], linewidth=4, color='r')"
   ]
  },
  {
   "cell_type": "code",
   "execution_count": null,
   "metadata": {},
   "outputs": [],
   "source": [
    "ephys.experiment.ActionEvent()"
   ]
  },
  {
   "cell_type": "code",
   "execution_count": null,
   "metadata": {},
   "outputs": [],
   "source": []
  }
 ],
 "metadata": {
  "kernelspec": {
   "display_name": "Python 3",
   "language": "python",
   "name": "python3"
  },
  "language_info": {
   "codemirror_mode": {
    "name": "ipython",
    "version": 3
   },
   "file_extension": ".py",
   "mimetype": "text/x-python",
   "name": "python",
   "nbconvert_exporter": "python",
   "pygments_lexer": "ipython3",
   "version": "3.6.3"
  }
 },
 "nbformat": 4,
 "nbformat_minor": 2
}
