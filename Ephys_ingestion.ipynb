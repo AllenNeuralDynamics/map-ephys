{
 "cells": [
  {
   "cell_type": "code",
   "execution_count": null,
   "id": "72cc9cb4",
   "metadata": {},
   "outputs": [],
   "source": [
    "%load_ext autoreload\n",
    "%autoreload 2\n",
    "import datajoint as dj\n",
    "import numpy as np\n",
    "import pandas as pd\n",
    "from pipeline.ingest import behavior as behavior_ingest\n",
    "from pipeline.ingest import ephys as ephys_ingest\n",
    "from pipeline import lab, get_schema_name, experiment, foraging_analysis, report, ephys, histology, psth_foraging\n",
    "import pipeline.shell as shell\n",
    "shell.logsetup('INFO')\n",
    "[hh for hh in dj.list_schemas() if 'hanhou' in hh]"
   ]
  },
  {
   "cell_type": "markdown",
   "id": "b3254d35",
   "metadata": {},
   "source": [
    "# Basic structure of the public DB"
   ]
  },
  {
   "cell_type": "markdown",
   "id": "d7b18643",
   "metadata": {},
   "source": [
    "The purpose here is to navigate through the tables for MAP phase 1 and see what I should prepare for the foraging task. <br>\n",
    "To access the tables in the public DB, I have to find the correct schema and spawn the missing classes, like this."
   ]
  },
  {
   "cell_type": "code",
   "execution_count": null,
   "id": "1d2cef42",
   "metadata": {},
   "outputs": [],
   "source": [
    "[public for public in dj.list_schemas() if 'map_v2' in public]"
   ]
  },
  {
   "cell_type": "code",
   "execution_count": null,
   "id": "aba2d71a",
   "metadata": {},
   "outputs": [],
   "source": [
    "public_lab = dj.schema('map_v2_lab'); public_lab.spawn_missing_classes()\n",
    "public_ingest_ephys = dj.schema('map_v2_ingest_ephys'); public_ingest_ephys.spawn_missing_classes()\n",
    "public_ephys =  dj.schema('map_v2_ephys'); public_ephys.spawn_missing_classes()"
   ]
  },
  {
   "cell_type": "markdown",
   "id": "92e0c8a4",
   "metadata": {},
   "source": [
    "After doing this, query the public tables by directly calling the names `EphysIngest` or `WaterRestriction` instead of `ephys.EphysIngest` or `lab.WaterRestriction` (which are my private tables) <br>\n",
    "Compare the two below:"
   ]
  },
  {
   "cell_type": "code",
   "execution_count": null,
   "id": "4659c1e0",
   "metadata": {
    "tags": []
   },
   "outputs": [],
   "source": [
    "dj.ERD(public_lab)"
   ]
  },
  {
   "cell_type": "code",
   "execution_count": null,
   "id": "18f7b313",
   "metadata": {},
   "outputs": [],
   "source": [
    "dj.ERD(lab)"
   ]
  },
  {
   "cell_type": "code",
   "execution_count": null,
   "id": "1239a8c8",
   "metadata": {},
   "outputs": [],
   "source": [
    "dj.ERD(public_ephys)"
   ]
  },
  {
   "cell_type": "markdown",
   "id": "86f78a75",
   "metadata": {},
   "source": [
    "Let's see what's in the public `EphysIngest`"
   ]
  },
  {
   "cell_type": "code",
   "execution_count": null,
   "id": "b21197c5",
   "metadata": {},
   "outputs": [],
   "source": [
    "EphysIngest() * EphysIngest.EphysFile() * WaterRestriction() & 'water_restriction_number = \"SC050\"'"
   ]
  },
  {
   "cell_type": "code",
   "execution_count": null,
   "id": "1aa67988",
   "metadata": {},
   "outputs": [],
   "source": [
    "ProbeInsertion.InsertionNote()"
   ]
  },
  {
   "cell_type": "code",
   "execution_count": null,
   "id": "e58ee68d",
   "metadata": {},
   "outputs": [],
   "source": [
    "BrainArea()"
   ]
  },
  {
   "cell_type": "code",
   "execution_count": null,
   "id": "843e9273",
   "metadata": {},
   "outputs": [],
   "source": [
    "ProbeInsertion.RecordableBrainRegion()"
   ]
  },
  {
   "cell_type": "code",
   "execution_count": null,
   "id": "ac71f617",
   "metadata": {},
   "outputs": [],
   "source": [
    "BrainAreaDepthCriteria()"
   ]
  },
  {
   "cell_type": "code",
   "execution_count": null,
   "id": "7aedd298",
   "metadata": {},
   "outputs": [],
   "source": [
    "ProbeInsertionQuality()"
   ]
  },
  {
   "cell_type": "markdown",
   "id": "5b3896b1",
   "metadata": {},
   "source": [
    "# What do I have now?"
   ]
  },
  {
   "cell_type": "code",
   "execution_count": null,
   "id": "f1e6fba9",
   "metadata": {},
   "outputs": [],
   "source": [
    "dj.ERD(ephys)"
   ]
  },
  {
   "cell_type": "markdown",
   "id": "0e7b00a2",
   "metadata": {},
   "source": [
    "All probe insertions"
   ]
  },
  {
   "cell_type": "code",
   "execution_count": null,
   "id": "81384a38",
   "metadata": {},
   "outputs": [],
   "source": [
    "(ephys.ProbeInsertion() * experiment.Session()).fetch()"
   ]
  },
  {
   "cell_type": "code",
   "execution_count": null,
   "id": "0de92144",
   "metadata": {},
   "outputs": [],
   "source": [
    "ephys.ProbeInsertion().RecordableBrainRegion()"
   ]
  },
  {
   "cell_type": "markdown",
   "id": "2ea78981",
   "metadata": {},
   "source": [
    "Sessions that have ephys"
   ]
  },
  {
   "cell_type": "code",
   "execution_count": null,
   "id": "2dd3a7d9",
   "metadata": {},
   "outputs": [],
   "source": [
    "experiment.Session & ephys.ProbeInsertion()"
   ]
  },
  {
   "cell_type": "markdown",
   "id": "2cddc67f",
   "metadata": {},
   "source": [
    "The number of ks2 units for each probe"
   ]
  },
  {
   "cell_type": "code",
   "execution_count": null,
   "id": "4f5e1034",
   "metadata": {},
   "outputs": [],
   "source": [
    "ephys.ProbeInsertion.aggr(ephys.Unit.proj(electrode_config_name_Unit='electrode_config_name'), n='count(*)')"
   ]
  },
  {
   "cell_type": "code",
   "execution_count": null,
   "id": "8b8155f5",
   "metadata": {},
   "outputs": [],
   "source": [
    "ephys.Unit()"
   ]
  },
  {
   "cell_type": "code",
   "execution_count": null,
   "id": "7ff899ec",
   "metadata": {},
   "outputs": [],
   "source": [
    "ephys.UnitStat()"
   ]
  },
  {
   "cell_type": "markdown",
   "id": "4515d8c0",
   "metadata": {},
   "source": [
    "# Add bitcode to my own pipeline"
   ]
  },
  {
   "cell_type": "markdown",
   "id": "253db7e2",
   "metadata": {},
   "source": [
    "Check bitcode on public DB"
   ]
  },
  {
   "cell_type": "code",
   "execution_count": null,
   "id": "a5532ee0",
   "metadata": {},
   "outputs": [],
   "source": [
    "public_experiment = dj.schema('map_v2_experiment')\n",
    "public_experiment.spawn_missing_classes()\n",
    "dj.ERD(public_experiment)"
   ]
  },
  {
   "cell_type": "code",
   "execution_count": null,
   "id": "6ae539f3",
   "metadata": {},
   "outputs": [],
   "source": [
    "((TrialNote() & 'trial_note_type = \"bitcode\"') * WaterRestriction.proj('water_restriction_number') & 'water_restriction_number = \"SC050\" OR water_restriction_number = \"DL011\"') & 'session = 1' & 'trial = 1'"
   ]
  },
  {
   "cell_type": "markdown",
   "id": "9b8882a8",
   "metadata": {},
   "source": [
    "So obviously them have increased the length of bitcode from 10 to 20 at some point."
   ]
  },
  {
   "cell_type": "markdown",
   "id": "8393e99f",
   "metadata": {},
   "source": [
    "Now let me check whether my bitcodes have been correctly ingested. (note the module name `experiment` and `lab` here)"
   ]
  },
  {
   "cell_type": "code",
   "execution_count": null,
   "id": "d725337a",
   "metadata": {},
   "outputs": [],
   "source": [
    "(experiment.TrialNote() & 'trial_note_type = \"bitcode\"') * lab.WaterRestriction.proj('water_restriction_number') & 'trial = 1'"
   ]
  },
  {
   "cell_type": "markdown",
   "id": "42e5eaa1",
   "metadata": {},
   "source": [
    "It makes sense that the session numbers don't start from 1 because I just introduced bitcode into my pybpod code recently."
   ]
  },
  {
   "cell_type": "code",
   "execution_count": null,
   "id": "8414cfd6",
   "metadata": {},
   "outputs": [],
   "source": [
    "foraging_sessions = (experiment.Session & \"username='HH'\")  * lab.WaterRestriction().proj('water_restriction_number') & (experiment.BehaviorTrial & 'task in (\"foraging\")')\n",
    "foraging_sessions"
   ]
  },
  {
   "cell_type": "markdown",
   "id": "fbaa504e",
   "metadata": {},
   "source": [
    "List all foraging sessions that have bitcode and also show some stats"
   ]
  },
  {
   "cell_type": "code",
   "execution_count": null,
   "id": "46f9f463",
   "metadata": {},
   "outputs": [],
   "source": [
    "(experiment.Session * foraging_analysis.SessionStats.proj('session_total_trial_num', 'session_foraging_eff_optimal') \n",
    " * lab.WaterRestriction().proj('water_restriction_number') & (experiment.TrialNote() & 'trial_note_type = \"bitcode\"')\n",
    ").fetch(format='frame') "
   ]
  },
  {
   "cell_type": "markdown",
   "id": "5bc91eb6",
   "metadata": {},
   "source": [
    "# Ephys Ingestion"
   ]
  },
  {
   "cell_type": "code",
   "execution_count": null,
   "id": "ed2eef1e",
   "metadata": {},
   "outputs": [],
   "source": [
    "dj.ERD(ephys) + dj.ERD(ephys_ingest)"
   ]
  },
  {
   "cell_type": "markdown",
   "id": "d6b513bf",
   "metadata": {},
   "source": [
    "## Prepare the electrodes!!!"
   ]
  },
  {
   "cell_type": "code",
   "execution_count": null,
   "id": "6ac9a7c6",
   "metadata": {},
   "outputs": [],
   "source": [
    "lab.ProbeType()"
   ]
  },
  {
   "cell_type": "code",
   "execution_count": null,
   "id": "66f5ba8a",
   "metadata": {},
   "outputs": [],
   "source": [
    "for probe_type in lab.ProbeType.fetch():\n",
    "    print(probe_type[0])\n",
    "    lab.ProbeType.create_neuropixels_probe(probe_type=probe_type[0])"
   ]
  },
  {
   "cell_type": "code",
   "execution_count": null,
   "id": "6eb75262",
   "metadata": {},
   "outputs": [],
   "source": [
    "lab.ProbeType.Electrode()"
   ]
  },
  {
   "cell_type": "markdown",
   "id": "4f7f8105",
   "metadata": {},
   "source": [
    "## Find the sessions that have ephys data ingested"
   ]
  },
  {
   "cell_type": "code",
   "execution_count": null,
   "id": "238eb135",
   "metadata": {},
   "outputs": [],
   "source": [
    "experiment.Session() * lab.WaterRestriction.proj('water_restriction_number') & ephys.ProbeInsertion() "
   ]
  },
  {
   "cell_type": "code",
   "execution_count": null,
   "id": "c8394b40",
   "metadata": {},
   "outputs": [],
   "source": [
    "from pipeline.ingest import ephys as ephys_ingest\n",
    "ephys_ingest.EphysIngest.EphysFile & lab.WaterRestriction.proj('water_restriction_number') & ephys.ProbeInsertion() "
   ]
  },
  {
   "cell_type": "code",
   "execution_count": null,
   "id": "7df1cd30",
   "metadata": {},
   "outputs": [],
   "source": [
    "ephys.ProbeInsertion() * experiment.Session() * lab.WaterRestriction.proj('water_restriction_number') "
   ]
  },
  {
   "cell_type": "markdown",
   "id": "46abda1b",
   "metadata": {},
   "source": [
    "To delete certain insertions"
   ]
  },
  {
   "cell_type": "code",
   "execution_count": null,
   "id": "588f34d5",
   "metadata": {},
   "outputs": [],
   "source": [
    "ephys.ProbeInsertion().delete()"
   ]
  },
  {
   "cell_type": "markdown",
   "id": "646a29db",
   "metadata": {},
   "source": [
    "Should also delete ephys_ingest.EphysIngest() table!!"
   ]
  },
  {
   "cell_type": "code",
   "execution_count": null,
   "id": "837f35b3",
   "metadata": {},
   "outputs": [],
   "source": [
    "ephys_ingest.EphysIngest().delete()"
   ]
  },
  {
   "cell_type": "markdown",
   "id": "31ac4c0f",
   "metadata": {},
   "source": [
    "## Ingest ephys sessions"
   ]
  },
  {
   "cell_type": "markdown",
   "id": "f7e56789",
   "metadata": {},
   "source": [
    "Ingest ephys"
   ]
  },
  {
   "cell_type": "code",
   "execution_count": null,
   "id": "c481d229",
   "metadata": {},
   "outputs": [],
   "source": [
    "shell.ingest_ephys()"
   ]
  },
  {
   "cell_type": "markdown",
   "id": "c9f257dd",
   "metadata": {},
   "source": [
    "Ingest ephys notes"
   ]
  },
  {
   "cell_type": "code",
   "execution_count": null,
   "id": "9913f064",
   "metadata": {},
   "outputs": [],
   "source": [
    "shell.load_insertion_location(dj.config.get('custom').get('recording_notes_spreadsheet'))"
   ]
  },
  {
   "cell_type": "markdown",
   "id": "6054369c",
   "metadata": {},
   "source": [
    "Check all meta data for `ephys.ProbeInsertion`"
   ]
  },
  {
   "cell_type": "code",
   "execution_count": null,
   "id": "fd5ae6f6",
   "metadata": {},
   "outputs": [],
   "source": [
    "ephys.ProbeInsertion * ephys.ProbeInsertion.InsertionLocation * ephys.ProbeInsertion.RecordableBrainRegion * ephys.ProbeInsertion.RecordingSystemSetup"
   ]
  },
  {
   "cell_type": "markdown",
   "id": "b540ed07",
   "metadata": {},
   "source": [
    "Compute UnitStat (see `shell.populate_ephys`)"
   ]
  },
  {
   "cell_type": "code",
   "execution_count": null,
   "id": "36bcd558",
   "metadata": {},
   "outputs": [],
   "source": [
    "populate_settings={'reserve_jobs': True, 'display_progress': True}\n",
    "ephys.UnitStat.populate(**populate_settings)"
   ]
  },
  {
   "cell_type": "markdown",
   "id": "70e56243",
   "metadata": {},
   "source": [
    "Compute UnitCellType (see `shell.populate_ephys`)"
   ]
  },
  {
   "cell_type": "code",
   "execution_count": null,
   "id": "9a49e054",
   "metadata": {},
   "outputs": [],
   "source": [
    "ephys.UnitCellType.populate(**populate_settings)"
   ]
  },
  {
   "cell_type": "markdown",
   "id": "e7812c17",
   "metadata": {},
   "source": [
    "# Ephys PSTH"
   ]
  },
  {
   "cell_type": "markdown",
   "id": "763a3777",
   "metadata": {},
   "source": [
    "First, make sure the `psth_foraging.TrialCondition` have the correct conditions. <br> Note that I separate foraging ephys analysis to another new schema `psth_foraging`."
   ]
  },
  {
   "cell_type": "code",
   "execution_count": null,
   "id": "49c29eec",
   "metadata": {},
   "outputs": [],
   "source": [
    "from pipeline import psth_foraging"
   ]
  },
  {
   "cell_type": "code",
   "execution_count": null,
   "id": "956bcb6b",
   "metadata": {},
   "outputs": [],
   "source": [
    "psth_foraging.TrialCondition()"
   ]
  },
  {
   "cell_type": "markdown",
   "id": "91ab53a7",
   "metadata": {},
   "source": [
    "Here I need to run `foraging_populate.py` to do parallel population of `psth_foraging.UnitPsth`"
   ]
  },
  {
   "cell_type": "markdown",
   "id": "c8fac3ff",
   "metadata": {},
   "source": [
    "Check progress of populating PSTH"
   ]
  },
  {
   "cell_type": "code",
   "execution_count": null,
   "id": "a3bd8c34",
   "metadata": {},
   "outputs": [],
   "source": [
    "schema = dj.schema(get_schema_name('psth_foraging'))\n",
    "schema.jobs"
   ]
  },
  {
   "cell_type": "code",
   "execution_count": null,
   "id": "169e105c",
   "metadata": {},
   "outputs": [],
   "source": [
    "schema.jobs.fetch('key')"
   ]
  },
  {
   "cell_type": "code",
   "execution_count": null,
   "id": "91ab7b3c",
   "metadata": {},
   "outputs": [],
   "source": [
    "length = len(psth_foraging.UnitPsth())\n",
    "ratio = length / len(psth_foraging.UnitPsth.key_source)\n",
    "print(f'ephys.Unit:{length}, {ratio:.2%}')"
   ]
  },
  {
   "cell_type": "code",
   "execution_count": null,
   "id": "e233cb43",
   "metadata": {},
   "outputs": [],
   "source": [
    "schema.jobs.delete()"
   ]
  },
  {
   "cell_type": "code",
   "execution_count": null,
   "id": "09956c9f",
   "metadata": {},
   "outputs": [],
   "source": [
    "dj.kill()"
   ]
  },
  {
   "cell_type": "markdown",
   "id": "77c58229",
   "metadata": {},
   "source": [
    "After populating PSTH (with some bug fixes), single unit PSTH can be plotted"
   ]
  },
  {
   "cell_type": "code",
   "execution_count": null,
   "id": "389e3f8d",
   "metadata": {},
   "outputs": [],
   "source": [
    "from pipeline.plot import unit_psth\n",
    "unit = (ephys.Unit() & 'session=57' & 'insertion_number=1' & 'unit_uid=285').fetch1(\"KEY\")\n",
    "unit_psth.plot_unit_psth_foraging(unit)"
   ]
  },
  {
   "cell_type": "markdown",
   "id": "fd07de62",
   "metadata": {},
   "source": [
    "# Histology ingestion"
   ]
  },
  {
   "cell_type": "markdown",
   "id": "b4835322",
   "metadata": {},
   "source": [
    "Check histology"
   ]
  },
  {
   "cell_type": "code",
   "execution_count": null,
   "id": "0662e3ab",
   "metadata": {},
   "outputs": [],
   "source": [
    "experiment.Session & histology.ElectrodeCCFPosition & (lab.WaterRestriction() & 'water_restriction_number = \"SC045\"')"
   ]
  },
  {
   "cell_type": "markdown",
   "id": "6732fa19",
   "metadata": {},
   "source": [
    "Do ingestion"
   ]
  },
  {
   "cell_type": "code",
   "execution_count": null,
   "id": "3e0077ed",
   "metadata": {},
   "outputs": [],
   "source": [
    "shell.ingest_histology()"
   ]
  },
  {
   "cell_type": "markdown",
   "id": "b3ba2126",
   "metadata": {},
   "source": [
    "Check all of the brains assigned to me (sessions that have histology)"
   ]
  },
  {
   "cell_type": "code",
   "execution_count": null,
   "id": "4007f361",
   "metadata": {},
   "outputs": [],
   "source": [
    "my_assigned_brains = 'water_restriction_number in (\"SC045\", \"SC050\", \"SC053\", \"SC061\")'\n",
    "my_registered_sessions = experiment.Session * lab.WaterRestriction.proj('water_restriction_number') & histology.ElectrodeCCFPosition & my_assigned_brains"
   ]
  },
  {
   "cell_type": "code",
   "execution_count": null,
   "id": "153f19e3",
   "metadata": {},
   "outputs": [],
   "source": [
    "from pipeline.plot import histology_plot\n",
    "histology_plot.plot_probe_tracks(my_registered_sessions);"
   ]
  },
  {
   "cell_type": "markdown",
   "id": "2be1227a",
   "metadata": {},
   "source": [
    "Check insertions that do **NOT** have histology"
   ]
  },
  {
   "cell_type": "code",
   "execution_count": null,
   "id": "777a7d83",
   "metadata": {},
   "outputs": [],
   "source": [
    "my_assigned_brains = lab.WaterRestriction.proj('water_restriction_number') & 'water_restriction_number in (\"SC045\", \"SC050\", \"SC053\", \"SC061\")'\n",
    "my_assigned_insertions = ephys.ProbeInsertion * experiment.Session  * my_assigned_brains\n",
    "print(f'All insertions assigned to me: {len(my_assigned_insertions)}')\n",
    "my_assigned_insertions - histology.ElectrodeCCFPosition"
   ]
  },
  {
   "cell_type": "markdown",
   "id": "ab606f2e",
   "metadata": {},
   "source": [
    "# Trial Number issue"
   ]
  },
  {
   "cell_type": "markdown",
   "id": "cb4013c3",
   "metadata": {},
   "source": [
    "Retrieve the original bpod files for a certain session."
   ]
  },
  {
   "cell_type": "code",
   "execution_count": null,
   "id": "5a11d369",
   "metadata": {},
   "outputs": [],
   "source": [
    "from pipeline.ingest.behavior import BehaviorBpodIngest\n",
    "BehaviorBpodIngest.BehaviorFile() * experiment.Session() * lab.WaterRestriction.proj('water_restriction_number') & 'session_date = \"2021-04-18\"'"
   ]
  },
  {
   "cell_type": "markdown",
   "id": "e56f219c",
   "metadata": {},
   "source": [
    "The potential bug of having the same bitcode because of the fixed rand seed."
   ]
  },
  {
   "cell_type": "code",
   "execution_count": null,
   "id": "6fbfb4b4",
   "metadata": {},
   "outputs": [],
   "source": [
    "experiment.TrialNote & 'trial_note = \"01000110111010000110\"'"
   ]
  },
  {
   "cell_type": "code",
   "execution_count": null,
   "id": "0dcb346f",
   "metadata": {},
   "outputs": [],
   "source": [
    "dj.ERD(ephys)"
   ]
  },
  {
   "cell_type": "markdown",
   "id": "4bd58243",
   "metadata": {},
   "source": [
    "# Code cache"
   ]
  },
  {
   "cell_type": "code",
   "execution_count": null,
   "id": "07638e23",
   "metadata": {},
   "outputs": [],
   "source": [
    "experiment.Session & 'session = 35' & 'subject_id = 473361'"
   ]
  },
  {
   "cell_type": "code",
   "execution_count": null,
   "id": "cb0abdef",
   "metadata": {},
   "outputs": [],
   "source": [
    "experiment.TrialEvent()\n"
   ]
  },
  {
   "cell_type": "code",
   "execution_count": null,
   "id": "9a7f3a15",
   "metadata": {},
   "outputs": [],
   "source": [
    "behavior_ingest.BehaviorBpodIngest.BehaviorFile.key_source()"
   ]
  },
  {
   "cell_type": "markdown",
   "id": "4b4aea4f",
   "metadata": {
    "pycharm": {
     "name": "#%% md\n"
    }
   },
   "source": [
    "Histology ingest"
   ]
  },
  {
   "cell_type": "code",
   "execution_count": null,
   "id": "295a0374",
   "metadata": {
    "collapsed": false,
    "jupyter": {
     "outputs_hidden": false
    },
    "pycharm": {
     "name": "#%%\n"
    }
   },
   "outputs": [],
   "source": [
    "(histology.ElectrodeCCFPosition * experiment.Session) & \\\n",
    "(lab.WaterRestriction  & 'water_restriction_number = \"SC045\"')"
   ]
  },
  {
   "cell_type": "code",
   "execution_count": null,
   "id": "ab632067",
   "metadata": {
    "collapsed": false,
    "jupyter": {
     "outputs_hidden": false
    },
    "pycharm": {
     "name": "#%%\n"
    }
   },
   "outputs": [],
   "source": [
    "(histology.ElectrodeCCFPosition * experiment.Session) & \\\n",
    "(lab.WaterRestriction  & 'water_restriction_number = \"SC050\"')\n",
    "\n"
   ]
  }
 ],
 "metadata": {
  "kernelspec": {
   "display_name": "pipeline",
   "language": "python",
   "name": "pipeline"
  },
  "language_info": {
   "codemirror_mode": {
    "name": "ipython",
    "version": 3
   },
   "file_extension": ".py",
   "mimetype": "text/x-python",
   "name": "python",
   "nbconvert_exporter": "python",
   "pygments_lexer": "ipython3",
   "version": "3.9.5"
  },
  "toc-autonumbering": true
 },
 "nbformat": 4,
 "nbformat_minor": 5
}
