{
 "cells": [
  {
   "cell_type": "code",
   "execution_count": 1,
   "metadata": {},
   "outputs": [],
   "source": [
    "import datajoint as dj"
   ]
  },
  {
   "cell_type": "code",
   "execution_count": 2,
   "metadata": {},
   "outputs": [
    {
     "name": "stdout",
     "output_type": "stream",
     "text": [
      "Connecting daveliu@mesoscale-activity.datajoint.io:3306\n"
     ]
    }
   ],
   "source": [
    "import ephys\n",
    "import matplotlib.pyplot as plt\n",
    "%matplotlib inline"
   ]
  },
  {
   "cell_type": "code",
   "execution_count": 3,
   "metadata": {},
   "outputs": [
    {
     "data": {
      "image/svg+xml": [
       "<svg height=\"311pt\" viewBox=\"0.00 0.00 475.00 311.00\" width=\"475pt\" xmlns=\"http://www.w3.org/2000/svg\" xmlns:xlink=\"http://www.w3.org/1999/xlink\">\n",
       "<g class=\"graph\" id=\"graph0\" transform=\"scale(1 1) rotate(0) translate(4 307)\">\n",
       "<polygon fill=\"white\" points=\"-4,4 -4,-307 471,-307 471,4 -4,4\" stroke=\"transparent\"/>\n",
       "<!-- ephys.ElectrodeGroup -->\n",
       "<g class=\"node\" id=\"node1\">\n",
       "<title>ephys.ElectrodeGroup</title>\n",
       "<polygon fill=\"#00ff00\" fill-opacity=\"0.188235\" points=\"411,-232 278,-232 278,-197 411,-197 411,-232\" stroke=\"#00ff00\" stroke-opacity=\"0.188235\"/>\n",
       "<text fill=\"darkgreen\" font-family=\"arial\" font-size=\"12.00\" text-anchor=\"middle\" x=\"344.5\" y=\"-211.4\">ephys.ElectrodeGroup</text>\n",
       "</g>\n",
       "<!-- ephys.LabeledTrack -->\n",
       "<g class=\"node\" id=\"node4\">\n",
       "<title>ephys.LabeledTrack</title>\n",
       "<polygon fill=\"#00ff00\" fill-opacity=\"0.188235\" points=\"125.5,-161 3.5,-161 3.5,-126 125.5,-126 125.5,-161\" stroke=\"#00ff00\" stroke-opacity=\"0.188235\"/>\n",
       "<text fill=\"darkgreen\" font-family=\"arial\" font-size=\"12.00\" text-anchor=\"middle\" x=\"64.5\" y=\"-140.4\">ephys.LabeledTrack</text>\n",
       "</g>\n",
       "<!-- ephys.ElectrodeGroup&#45;&gt;ephys.LabeledTrack -->\n",
       "<g class=\"edge\" id=\"edge1\">\n",
       "<title>ephys.ElectrodeGroup-&gt;ephys.LabeledTrack</title>\n",
       "<path d=\"M277.79,-197.06C231.69,-185.7 170.82,-170.7 125.92,-159.63\" fill=\"none\" stroke=\"#000000\" stroke-opacity=\"0.250980\" stroke-width=\"2\"/>\n",
       "</g>\n",
       "<!-- ephys.Ephys -->\n",
       "<g class=\"node\" id=\"node5\">\n",
       "<title>ephys.Ephys</title>\n",
       "<ellipse cx=\"195.5\" cy=\"-143.5\" fill=\"#00007f\" fill-opacity=\"0.250980\" rx=\"51.75\" ry=\"17.5\" stroke=\"#00007f\" stroke-opacity=\"0.250980\"/>\n",
       "<text fill=\"#00007f\" fill-opacity=\"0.627451\" font-family=\"arial\" font-size=\"12.00\" text-anchor=\"middle\" x=\"195.5\" y=\"-140.4\">ephys.Ephys</text>\n",
       "</g>\n",
       "<!-- ephys.ElectrodeGroup&#45;&gt;ephys.Ephys -->\n",
       "<g class=\"edge\" id=\"edge2\">\n",
       "<title>ephys.ElectrodeGroup-&gt;ephys.Ephys</title>\n",
       "<path d=\"M308.81,-196.97C283.15,-185.09 248.98,-169.27 224.89,-158.11\" fill=\"none\" stroke=\"#000000\" stroke-opacity=\"0.250980\" stroke-width=\"2\"/>\n",
       "</g>\n",
       "<!-- ephys.ElectrodeGroup.Electrode -->\n",
       "<g class=\"node\" id=\"node10\">\n",
       "<title>ephys.ElectrodeGroup.Electrode</title>\n",
       "<polygon fill=\"transparent\" points=\"423.5,-153 265.5,-153 265.5,-134 423.5,-134 423.5,-153\" stroke=\"transparent\"/>\n",
       "<text font-family=\"arial\" font-size=\"10.00\" text-anchor=\"middle\" x=\"344.5\" y=\"-141\">ephys.ElectrodeGroup.Electrode</text>\n",
       "</g>\n",
       "<!-- ephys.ElectrodeGroup&#45;&gt;ephys.ElectrodeGroup.Electrode -->\n",
       "<g class=\"edge\" id=\"edge3\">\n",
       "<title>ephys.ElectrodeGroup-&gt;ephys.ElectrodeGroup.Electrode</title>\n",
       "<path d=\"M344.5,-196.8C344.5,-183.08 344.5,-164.19 344.5,-153.27\" fill=\"none\" stroke=\"#000000\" stroke-opacity=\"0.250980\" stroke-width=\"0.75\"/>\n",
       "</g>\n",
       "<!-- ephys.Ephys.Unit -->\n",
       "<g class=\"node\" id=\"node2\">\n",
       "<title>ephys.Ephys.Unit</title>\n",
       "<polygon fill=\"transparent\" points=\"242.5,-82 148.5,-82 148.5,-63 242.5,-63 242.5,-82\" stroke=\"transparent\"/>\n",
       "<text font-family=\"arial\" font-size=\"10.00\" text-anchor=\"middle\" x=\"195.5\" y=\"-70\">ephys.Ephys.Unit</text>\n",
       "</g>\n",
       "<!-- ephys.Ephys.Spike -->\n",
       "<g class=\"node\" id=\"node6\">\n",
       "<title>ephys.Ephys.Spike</title>\n",
       "<polygon fill=\"transparent\" points=\"346,-19 245,-19 245,0 346,0 346,-19\" stroke=\"transparent\"/>\n",
       "<text font-family=\"arial\" font-size=\"10.00\" text-anchor=\"middle\" x=\"295.5\" y=\"-7\">ephys.Ephys.Spike</text>\n",
       "</g>\n",
       "<!-- ephys.Ephys.Unit&#45;&gt;ephys.Ephys.Spike -->\n",
       "<g class=\"edge\" id=\"edge4\">\n",
       "<title>ephys.Ephys.Unit-&gt;ephys.Ephys.Spike</title>\n",
       "<path d=\"M209.83,-62.76C228.95,-51.1 262.58,-30.58 281.52,-19.03\" fill=\"none\" stroke=\"#000000\" stroke-opacity=\"0.250980\" stroke-width=\"0.75\"/>\n",
       "</g>\n",
       "<!-- ephys.Ephys.TrialUnit -->\n",
       "<g class=\"node\" id=\"node8\">\n",
       "<title>ephys.Ephys.TrialUnit</title>\n",
       "<polygon fill=\"transparent\" points=\"226.5,-19 114.5,-19 114.5,0 226.5,0 226.5,-19\" stroke=\"transparent\"/>\n",
       "<text font-family=\"arial\" font-size=\"10.00\" text-anchor=\"middle\" x=\"170.5\" y=\"-7\">ephys.Ephys.TrialUnit</text>\n",
       "</g>\n",
       "<!-- ephys.Ephys.Unit&#45;&gt;ephys.Ephys.TrialUnit -->\n",
       "<g class=\"edge\" id=\"edge5\">\n",
       "<title>ephys.Ephys.Unit-&gt;ephys.Ephys.TrialUnit</title>\n",
       "<path d=\"M191.92,-62.76C187.17,-51.16 178.82,-30.81 174.08,-19.22\" fill=\"none\" stroke=\"#000000\" stroke-opacity=\"0.250980\" stroke-width=\"0.75\"/>\n",
       "</g>\n",
       "<!-- ephys.LabeledTrack.Point -->\n",
       "<g class=\"node\" id=\"node3\">\n",
       "<title>ephys.LabeledTrack.Point</title>\n",
       "<polygon fill=\"transparent\" points=\"129,-82 0,-82 0,-63 129,-63 129,-82\" stroke=\"transparent\"/>\n",
       "<text font-family=\"arial\" font-size=\"10.00\" text-anchor=\"middle\" x=\"64.5\" y=\"-70\">ephys.LabeledTrack.Point</text>\n",
       "</g>\n",
       "<!-- ephys.LabeledTrack&#45;&gt;ephys.LabeledTrack.Point -->\n",
       "<g class=\"edge\" id=\"edge6\">\n",
       "<title>ephys.LabeledTrack-&gt;ephys.LabeledTrack.Point</title>\n",
       "<path d=\"M64.5,-125.8C64.5,-112.08 64.5,-93.19 64.5,-82.27\" fill=\"none\" stroke=\"#000000\" stroke-opacity=\"0.250980\" stroke-width=\"0.75\"/>\n",
       "</g>\n",
       "<!-- ephys.Ephys&#45;&gt;ephys.Ephys.Unit -->\n",
       "<g class=\"edge\" id=\"edge7\">\n",
       "<title>ephys.Ephys-&gt;ephys.Ephys.Unit</title>\n",
       "<path d=\"M195.5,-125.8C195.5,-112.08 195.5,-93.19 195.5,-82.27\" fill=\"none\" stroke=\"#000000\" stroke-opacity=\"0.250980\" stroke-width=\"0.75\"/>\n",
       "</g>\n",
       "<!-- ephys.Probe -->\n",
       "<g class=\"node\" id=\"node7\">\n",
       "<title>ephys.Probe</title>\n",
       "<polygon fill=\"#000000\" fill-opacity=\"0.125490\" points=\"380,-303 309,-303 309,-268 380,-268 380,-303\" stroke=\"transparent\"/>\n",
       "<text font-family=\"arial\" font-size=\"10.00\" text-anchor=\"middle\" x=\"344.5\" y=\"-283\">ephys.Probe</text>\n",
       "</g>\n",
       "<!-- ephys.Probe&#45;&gt;ephys.ElectrodeGroup -->\n",
       "<g class=\"edge\" id=\"edge8\">\n",
       "<title>ephys.Probe-&gt;ephys.ElectrodeGroup</title>\n",
       "<path d=\"M344.5,-267.8C344.5,-256.95 344.5,-242.87 344.5,-232.05\" fill=\"none\" stroke=\"#000000\" stroke-dasharray=\"5,2\" stroke-opacity=\"0.250980\" stroke-width=\"0.75\"/>\n",
       "</g>\n",
       "<!-- ephys.ElectrodePosition -->\n",
       "<g class=\"node\" id=\"node9\">\n",
       "<title>ephys.ElectrodePosition</title>\n",
       "<polygon fill=\"#00ff00\" fill-opacity=\"0.188235\" points=\"467,-90 324,-90 324,-55 467,-55 467,-90\" stroke=\"#00ff00\" stroke-opacity=\"0.188235\"/>\n",
       "<text fill=\"darkgreen\" font-family=\"arial\" font-size=\"12.00\" text-anchor=\"middle\" x=\"395.5\" y=\"-69.4\">ephys.ElectrodePosition</text>\n",
       "</g>\n",
       "<!-- ephys.ElectrodeGroup.Electrode&#45;&gt;ephys.Ephys.Spike -->\n",
       "<g class=\"edge\" id=\"edge9\">\n",
       "<title>ephys.ElectrodeGroup.Electrode-&gt;ephys.Ephys.Spike</title>\n",
       "<path d=\"M338.6,-133.97C331.88,-123.88 320.99,-106.4 314.5,-90 304.68,-65.19 299.04,-33.95 296.73,-19.1\" fill=\"none\" stroke=\"#000000\" stroke-dasharray=\"5,2\" stroke-opacity=\"0.250980\" stroke-width=\"0.75\"/>\n",
       "</g>\n",
       "<!-- ephys.ElectrodeGroup.Electrode&#45;&gt;ephys.ElectrodePosition -->\n",
       "<g class=\"edge\" id=\"edge10\">\n",
       "<title>ephys.ElectrodeGroup.Electrode-&gt;ephys.ElectrodePosition</title>\n",
       "<path d=\"M350.96,-133.76C359.05,-122.81 373.1,-103.81 383.25,-90.07\" fill=\"none\" stroke=\"#000000\" stroke-opacity=\"0.250980\" stroke-width=\"2\"/>\n",
       "</g>\n",
       "</g>\n",
       "</svg>"
      ],
      "text/plain": [
       "<datajoint.erd.ERD at 0x5786e48>"
      ]
     },
     "execution_count": 3,
     "metadata": {},
     "output_type": "execute_result"
    }
   ],
   "source": [
    "dj.ERD(ephys)"
   ]
  },
  {
   "cell_type": "code",
   "execution_count": 4,
   "metadata": {},
   "outputs": [
    {
     "data": {
      "text/html": [
       "\n",
       "        \n",
       "        <style type=\"text/css\">\n",
       "            .Relation{\n",
       "                border-collapse:collapse;\n",
       "            }\n",
       "            .Relation th{\n",
       "                background: #A0A0A0; color: #ffffff; padding:4px; border:#f0e0e0 1px solid;\n",
       "                font-weight: normal; font-family: monospace; font-size: 75%;\n",
       "            }\n",
       "            .Relation td{\n",
       "                padding:4px; border:#f0e0e0 1px solid; font-size:75%;\n",
       "            }\n",
       "            .Relation tr:nth-child(odd){\n",
       "                background: #ffffff;\n",
       "            }\n",
       "            .Relation tr:nth-child(even){\n",
       "                background: #f3f1ff;\n",
       "            }\n",
       "            /* Tooltip container */\n",
       "            .djtooltip {\n",
       "            }\n",
       "\n",
       "            /* Tooltip text */\n",
       "            .djtooltip .djtooltiptext {\n",
       "                visibility: hidden;\n",
       "                width: 120px;\n",
       "                background-color: black;\n",
       "                color: #fff;\n",
       "                text-align: center;\n",
       "                padding: 5px 0;\n",
       "                border-radius: 6px;\n",
       "\n",
       "                /* Position the tooltip text - see examples below! */\n",
       "                position: absolute;\n",
       "                z-index: 1;\n",
       "            }\n",
       "\n",
       "\n",
       "            #primary {\n",
       "                font-weight: bold;\n",
       "                color: black;\n",
       "            }\n",
       "\n",
       "            #nonprimary {\n",
       "                font-weight: normal;\n",
       "                color: white;\n",
       "            }\n",
       "\n",
       "            /* Show the tooltip text when you mouse over the tooltip container */\n",
       "            .djtooltip:hover .djtooltiptext {\n",
       "                visibility: visible;\n",
       "            }\n",
       "        </style>\n",
       "        \n",
       "        <b></b>\n",
       "            <div style=\"max-height:1000px;max-width:1500px;overflow:auto;\">\n",
       "            <table border=\"1\" class=\"Relation\">\n",
       "                <thead> <tr style=\"text-align: right;\"> <th> <div class=\"djtooltip\">\n",
       "                                <p id=\"primary\">animal</p>\n",
       "                                <span class=\"djtooltiptext\">Janelia ANM ID (6 digits)</span>\n",
       "                            </div></th><th><div class=\"djtooltip\">\n",
       "                                <p id=\"nonprimary\">dob</p>\n",
       "                                <span class=\"djtooltiptext\"></span>\n",
       "                            </div> </th> </tr> </thead>\n",
       "                <tbody> <tr> <td>399752</td>\n",
       "<td>2017-08-01</td> </tr> </tbody>\n",
       "            </table>\n",
       "            \n",
       "            <p>1 tuples</p></div>\n",
       "            "
      ],
      "text/plain": [
       "*animal    dob           \n",
       "+--------+ +------------+\n",
       "399752     2017-08-01    \n",
       " (1 tuples)"
      ]
     },
     "execution_count": 4,
     "metadata": {},
     "output_type": "execute_result"
    }
   ],
   "source": [
    "mouse=ephys.experiment.lab.Animal()\n",
    "mouse"
   ]
  },
  {
   "cell_type": "code",
   "execution_count": 5,
   "metadata": {
    "scrolled": true
   },
   "outputs": [
    {
     "data": {
      "text/html": [
       "\n",
       "        \n",
       "        <style type=\"text/css\">\n",
       "            .Relation{\n",
       "                border-collapse:collapse;\n",
       "            }\n",
       "            .Relation th{\n",
       "                background: #A0A0A0; color: #ffffff; padding:4px; border:#f0e0e0 1px solid;\n",
       "                font-weight: normal; font-family: monospace; font-size: 75%;\n",
       "            }\n",
       "            .Relation td{\n",
       "                padding:4px; border:#f0e0e0 1px solid; font-size:75%;\n",
       "            }\n",
       "            .Relation tr:nth-child(odd){\n",
       "                background: #ffffff;\n",
       "            }\n",
       "            .Relation tr:nth-child(even){\n",
       "                background: #f3f1ff;\n",
       "            }\n",
       "            /* Tooltip container */\n",
       "            .djtooltip {\n",
       "            }\n",
       "\n",
       "            /* Tooltip text */\n",
       "            .djtooltip .djtooltiptext {\n",
       "                visibility: hidden;\n",
       "                width: 120px;\n",
       "                background-color: black;\n",
       "                color: #fff;\n",
       "                text-align: center;\n",
       "                padding: 5px 0;\n",
       "                border-radius: 6px;\n",
       "\n",
       "                /* Position the tooltip text - see examples below! */\n",
       "                position: absolute;\n",
       "                z-index: 1;\n",
       "            }\n",
       "\n",
       "\n",
       "            #primary {\n",
       "                font-weight: bold;\n",
       "                color: black;\n",
       "            }\n",
       "\n",
       "            #nonprimary {\n",
       "                font-weight: normal;\n",
       "                color: white;\n",
       "            }\n",
       "\n",
       "            /* Show the tooltip text when you mouse over the tooltip container */\n",
       "            .djtooltip:hover .djtooltiptext {\n",
       "                visibility: visible;\n",
       "            }\n",
       "        </style>\n",
       "        \n",
       "        <b></b>\n",
       "            <div style=\"max-height:1000px;max-width:1500px;overflow:auto;\">\n",
       "            <table border=\"1\" class=\"Relation\">\n",
       "                <thead> <tr style=\"text-align: right;\"> <th> <div class=\"djtooltip\">\n",
       "                                <p id=\"primary\">username</p>\n",
       "                                <span class=\"djtooltiptext\"></span>\n",
       "                            </div></th><th><div class=\"djtooltip\">\n",
       "                                <p id=\"nonprimary\">fullname</p>\n",
       "                                <span class=\"djtooltiptext\"></span>\n",
       "                            </div> </th> </tr> </thead>\n",
       "                <tbody> <tr> <td>daveliu</td>\n",
       "<td>Dave Liu</td> </tr> </tbody>\n",
       "            </table>\n",
       "            \n",
       "            <p>1 tuples</p></div>\n",
       "            "
      ],
      "text/plain": [
       "*username    fullname    \n",
       "+----------+ +----------+\n",
       "daveliu      Dave Liu    \n",
       " (1 tuples)"
      ]
     },
     "execution_count": 5,
     "metadata": {},
     "output_type": "execute_result"
    }
   ],
   "source": [
    "person=ephys.experiment.lab.Person()\n",
    "#person.insert1(('daveliu', 'Dave Liu'))\n",
    "person"
   ]
  },
  {
   "cell_type": "code",
   "execution_count": 6,
   "metadata": {},
   "outputs": [
    {
     "data": {
      "text/html": [
       "\n",
       "        \n",
       "        <style type=\"text/css\">\n",
       "            .Relation{\n",
       "                border-collapse:collapse;\n",
       "            }\n",
       "            .Relation th{\n",
       "                background: #A0A0A0; color: #ffffff; padding:4px; border:#f0e0e0 1px solid;\n",
       "                font-weight: normal; font-family: monospace; font-size: 75%;\n",
       "            }\n",
       "            .Relation td{\n",
       "                padding:4px; border:#f0e0e0 1px solid; font-size:75%;\n",
       "            }\n",
       "            .Relation tr:nth-child(odd){\n",
       "                background: #ffffff;\n",
       "            }\n",
       "            .Relation tr:nth-child(even){\n",
       "                background: #f3f1ff;\n",
       "            }\n",
       "            /* Tooltip container */\n",
       "            .djtooltip {\n",
       "            }\n",
       "\n",
       "            /* Tooltip text */\n",
       "            .djtooltip .djtooltiptext {\n",
       "                visibility: hidden;\n",
       "                width: 120px;\n",
       "                background-color: black;\n",
       "                color: #fff;\n",
       "                text-align: center;\n",
       "                padding: 5px 0;\n",
       "                border-radius: 6px;\n",
       "\n",
       "                /* Position the tooltip text - see examples below! */\n",
       "                position: absolute;\n",
       "                z-index: 1;\n",
       "            }\n",
       "\n",
       "\n",
       "            #primary {\n",
       "                font-weight: bold;\n",
       "                color: black;\n",
       "            }\n",
       "\n",
       "            #nonprimary {\n",
       "                font-weight: normal;\n",
       "                color: white;\n",
       "            }\n",
       "\n",
       "            /* Show the tooltip text when you mouse over the tooltip container */\n",
       "            .djtooltip:hover .djtooltiptext {\n",
       "                visibility: visible;\n",
       "            }\n",
       "        </style>\n",
       "        \n",
       "        <b></b>\n",
       "            <div style=\"max-height:1000px;max-width:1500px;overflow:auto;\">\n",
       "            <table border=\"1\" class=\"Relation\">\n",
       "                <thead> <tr style=\"text-align: right;\"> <th> <div class=\"djtooltip\">\n",
       "                                <p id=\"primary\">rig</p>\n",
       "                                <span class=\"djtooltiptext\"></span>\n",
       "                            </div></th><th><div class=\"djtooltip\">\n",
       "                                <p id=\"nonprimary\">rig_description</p>\n",
       "                                <span class=\"djtooltiptext\"></span>\n",
       "                            </div> </th> </tr> </thead>\n",
       "                <tbody> <tr> <td>TRig1</td>\n",
       "<td>Training rig 1</td> </tr> </tbody>\n",
       "            </table>\n",
       "            \n",
       "            <p>1 tuples</p></div>\n",
       "            "
      ],
      "text/plain": [
       "*rig      rig_descriptio\n",
       "+-------+ +------------+\n",
       "TRig1     Training rig 1\n",
       " (1 tuples)"
      ]
     },
     "execution_count": 6,
     "metadata": {},
     "output_type": "execute_result"
    }
   ],
   "source": [
    "rig=ephys.experiment.lab.Rig()\n",
    "#rig.insert1(('TRig1', 'Training rig 1'))\n",
    "rig"
   ]
  },
  {
   "cell_type": "code",
   "execution_count": 7,
   "metadata": {},
   "outputs": [
    {
     "data": {
      "image/svg+xml": [
       "<svg height=\"114pt\" viewBox=\"0.00 0.00 241.00 114.00\" width=\"241pt\" xmlns=\"http://www.w3.org/2000/svg\" xmlns:xlink=\"http://www.w3.org/1999/xlink\">\n",
       "<g class=\"graph\" id=\"graph0\" transform=\"scale(1 1) rotate(0) translate(4 110)\">\n",
       "<polygon fill=\"white\" points=\"-4,4 -4,-110 237,-110 237,4 -4,4\" stroke=\"transparent\"/>\n",
       "<!-- lab.Person -->\n",
       "<g class=\"node\" id=\"node1\">\n",
       "<title>lab.Person</title>\n",
       "<polygon fill=\"#00ff00\" fill-opacity=\"0.188235\" points=\"73,-106 0,-106 0,-71 73,-71 73,-106\" stroke=\"#00ff00\" stroke-opacity=\"0.188235\"/>\n",
       "<text fill=\"darkgreen\" font-family=\"arial\" font-size=\"12.00\" text-anchor=\"middle\" x=\"36.5\" y=\"-85.4\">lab.Person</text>\n",
       "</g>\n",
       "<!-- lab.Animal -->\n",
       "<g class=\"node\" id=\"node2\">\n",
       "<title>lab.Animal</title>\n",
       "<polygon fill=\"#00ff00\" fill-opacity=\"0.188235\" points=\"162,-106 91,-106 91,-71 162,-71 162,-106\" stroke=\"#00ff00\" stroke-opacity=\"0.188235\"/>\n",
       "<text fill=\"darkgreen\" font-family=\"arial\" font-size=\"12.00\" text-anchor=\"middle\" x=\"126.5\" y=\"-85.4\">lab.Animal</text>\n",
       "</g>\n",
       "<!-- lab.AnimalWaterRestriction -->\n",
       "<g class=\"node\" id=\"node3\">\n",
       "<title>lab.AnimalWaterRestriction</title>\n",
       "<polygon fill=\"#00ff00\" fill-opacity=\"0.188235\" points=\"205.5,-35 47.5,-35 47.5,0 205.5,0 205.5,-35\" stroke=\"#00ff00\" stroke-opacity=\"0.188235\"/>\n",
       "<text fill=\"darkgreen\" font-family=\"arial\" font-size=\"12.00\" text-anchor=\"middle\" x=\"126.5\" y=\"-14.4\">lab.AnimalWaterRestriction</text>\n",
       "</g>\n",
       "<!-- lab.Animal&#45;&gt;lab.AnimalWaterRestriction -->\n",
       "<g class=\"edge\" id=\"edge1\">\n",
       "<title>lab.Animal-&gt;lab.AnimalWaterRestriction</title>\n",
       "<path d=\"M126.5,-70.8C126.5,-59.95 126.5,-45.87 126.5,-35.05\" fill=\"none\" stroke=\"#000000\" stroke-opacity=\"0.250980\" stroke-width=\"0.75\"/>\n",
       "</g>\n",
       "<!-- lab.Rig -->\n",
       "<g class=\"node\" id=\"node4\">\n",
       "<title>lab.Rig</title>\n",
       "<polygon fill=\"#00ff00\" fill-opacity=\"0.188235\" points=\"233,-106 180,-106 180,-71 233,-71 233,-106\" stroke=\"#00ff00\" stroke-opacity=\"0.188235\"/>\n",
       "<text fill=\"darkgreen\" font-family=\"arial\" font-size=\"12.00\" text-anchor=\"middle\" x=\"206.5\" y=\"-85.4\">lab.Rig</text>\n",
       "</g>\n",
       "</g>\n",
       "</svg>"
      ],
      "text/plain": [
       "<datajoint.erd.ERD at 0x3d776f28>"
      ]
     },
     "execution_count": 7,
     "metadata": {},
     "output_type": "execute_result"
    }
   ],
   "source": [
    "import lab\n",
    "dj.ERD(lab)"
   ]
  },
  {
   "cell_type": "code",
   "execution_count": 8,
   "metadata": {},
   "outputs": [
    {
     "data": {
      "text/html": [
       "\n",
       "        \n",
       "        <style type=\"text/css\">\n",
       "            .Relation{\n",
       "                border-collapse:collapse;\n",
       "            }\n",
       "            .Relation th{\n",
       "                background: #A0A0A0; color: #ffffff; padding:4px; border:#f0e0e0 1px solid;\n",
       "                font-weight: normal; font-family: monospace; font-size: 75%;\n",
       "            }\n",
       "            .Relation td{\n",
       "                padding:4px; border:#f0e0e0 1px solid; font-size:75%;\n",
       "            }\n",
       "            .Relation tr:nth-child(odd){\n",
       "                background: #ffffff;\n",
       "            }\n",
       "            .Relation tr:nth-child(even){\n",
       "                background: #f3f1ff;\n",
       "            }\n",
       "            /* Tooltip container */\n",
       "            .djtooltip {\n",
       "            }\n",
       "\n",
       "            /* Tooltip text */\n",
       "            .djtooltip .djtooltiptext {\n",
       "                visibility: hidden;\n",
       "                width: 120px;\n",
       "                background-color: black;\n",
       "                color: #fff;\n",
       "                text-align: center;\n",
       "                padding: 5px 0;\n",
       "                border-radius: 6px;\n",
       "\n",
       "                /* Position the tooltip text - see examples below! */\n",
       "                position: absolute;\n",
       "                z-index: 1;\n",
       "            }\n",
       "\n",
       "\n",
       "            #primary {\n",
       "                font-weight: bold;\n",
       "                color: black;\n",
       "            }\n",
       "\n",
       "            #nonprimary {\n",
       "                font-weight: normal;\n",
       "                color: white;\n",
       "            }\n",
       "\n",
       "            /* Show the tooltip text when you mouse over the tooltip container */\n",
       "            .djtooltip:hover .djtooltiptext {\n",
       "                visibility: visible;\n",
       "            }\n",
       "        </style>\n",
       "        \n",
       "        <b></b>\n",
       "            <div style=\"max-height:1000px;max-width:1500px;overflow:auto;\">\n",
       "            <table border=\"1\" class=\"Relation\">\n",
       "                <thead> <tr style=\"text-align: right;\"> <th> <div class=\"djtooltip\">\n",
       "                                <p id=\"primary\">animal</p>\n",
       "                                <span class=\"djtooltiptext\">Janelia ANM ID (6 digits)</span>\n",
       "                            </div></th><th><div class=\"djtooltip\">\n",
       "                                <p id=\"primary\">water_restriction</p>\n",
       "                                <span class=\"djtooltiptext\">water restriction number</span>\n",
       "                            </div> </th> </tr> </thead>\n",
       "                <tbody> <tr> <td>399752</td>\n",
       "<td>dl7</td> </tr> </tbody>\n",
       "            </table>\n",
       "            \n",
       "            <p>1 tuples</p></div>\n",
       "            "
      ],
      "text/plain": [
       "*animal    *water_restric\n",
       "+--------+ +------------+\n",
       "399752     dl7           \n",
       " (1 tuples)"
      ]
     },
     "execution_count": 8,
     "metadata": {},
     "output_type": "execute_result"
    }
   ],
   "source": [
    "animalWaterRestriction=ephys.experiment.lab.AnimalWaterRestriction()\n",
    "#animalWaterRestriction.insert1((399752, 'dl7'))\n",
    "animalWaterRestriction"
   ]
  },
  {
   "cell_type": "code",
   "execution_count": 9,
   "metadata": {},
   "outputs": [
    {
     "data": {
      "image/svg+xml": [
       "<svg height=\"256pt\" viewBox=\"0.00 0.00 1466.10 256.00\" width=\"1466pt\" xmlns=\"http://www.w3.org/2000/svg\" xmlns:xlink=\"http://www.w3.org/1999/xlink\">\n",
       "<g class=\"graph\" id=\"graph0\" transform=\"scale(1 1) rotate(0) translate(4 252)\">\n",
       "<polygon fill=\"white\" points=\"-4,4 -4,-252 1462.1,-252 1462.1,4 -4,4\" stroke=\"transparent\"/>\n",
       "<!-- ephys.experiment.Photostim -->\n",
       "<g class=\"node\" id=\"node1\">\n",
       "<title>ephys.experiment.Photostim</title>\n",
       "<polygon fill=\"#000000\" fill-opacity=\"0.125490\" points=\"1443.1,-106 1302.1,-106 1302.1,-71 1443.1,-71 1443.1,-106\" stroke=\"transparent\"/>\n",
       "<text font-family=\"arial\" font-size=\"10.00\" text-anchor=\"middle\" x=\"1372.6\" y=\"-86\">ephys.experiment.Photostim</text>\n",
       "</g>\n",
       "<!-- ephys.experiment.PhotostimTrial.Event -->\n",
       "<g class=\"node\" id=\"node6\">\n",
       "<title>ephys.experiment.PhotostimTrial.Event</title>\n",
       "<polygon fill=\"transparent\" points=\"1047.6,-27 861.6,-27 861.6,-8 1047.6,-8 1047.6,-27\" stroke=\"transparent\"/>\n",
       "<text font-family=\"arial\" font-size=\"10.00\" text-anchor=\"middle\" x=\"954.6\" y=\"-15\">ephys.experiment.PhotostimTrial.Event</text>\n",
       "</g>\n",
       "<!-- ephys.experiment.Photostim&#45;&gt;ephys.experiment.PhotostimTrial.Event -->\n",
       "<g class=\"edge\" id=\"edge1\">\n",
       "<title>ephys.experiment.Photostim-&gt;ephys.experiment.PhotostimTrial.Event</title>\n",
       "<path d=\"M1302,-72.56C1299.16,-72.02 1296.35,-71.5 1293.6,-71 1196.91,-53.43 1084.03,-36.7 1016,-27.02\" fill=\"none\" stroke=\"#000000\" stroke-opacity=\"0.250980\" stroke-width=\"0.75\"/>\n",
       "</g>\n",
       "<!-- ephys.experiment.Photostim.Profile -->\n",
       "<g class=\"node\" id=\"node14\">\n",
       "<title>ephys.experiment.Photostim.Profile</title>\n",
       "<polygon fill=\"transparent\" points=\"1458.1,-27 1287.1,-27 1287.1,-8 1458.1,-8 1458.1,-27\" stroke=\"transparent\"/>\n",
       "<text font-family=\"arial\" font-size=\"10.00\" text-anchor=\"middle\" x=\"1372.6\" y=\"-15\">ephys.experiment.Photostim.Profile</text>\n",
       "</g>\n",
       "<!-- ephys.experiment.Photostim&#45;&gt;ephys.experiment.Photostim.Profile -->\n",
       "<g class=\"edge\" id=\"edge2\">\n",
       "<title>ephys.experiment.Photostim-&gt;ephys.experiment.Photostim.Profile</title>\n",
       "<path d=\"M1372.6,-70.8C1372.6,-57.08 1372.6,-38.19 1372.6,-27.27\" fill=\"none\" stroke=\"#000000\" stroke-opacity=\"0.250980\" stroke-width=\"0.75\"/>\n",
       "</g>\n",
       "<!-- ephys.experiment.EarlyLick -->\n",
       "<g class=\"node\" id=\"node2\">\n",
       "<title>ephys.experiment.EarlyLick</title>\n",
       "<polygon fill=\"#000000\" fill-opacity=\"0.125490\" points=\"154.1,-177 17.1,-177 17.1,-142 154.1,-142 154.1,-177\" stroke=\"transparent\"/>\n",
       "<text font-family=\"arial\" font-size=\"10.00\" text-anchor=\"middle\" x=\"85.6\" y=\"-157\">ephys.experiment.EarlyLick</text>\n",
       "</g>\n",
       "<!-- ephys.experiment.BehaviorTrial -->\n",
       "<g class=\"node\" id=\"node17\">\n",
       "<title>ephys.experiment.BehaviorTrial</title>\n",
       "<polygon fill=\"#00ff00\" fill-opacity=\"0.188235\" points=\"404.6,-106 224.6,-106 224.6,-71 404.6,-71 404.6,-106\" stroke=\"#00ff00\" stroke-opacity=\"0.188235\"/>\n",
       "<text fill=\"darkgreen\" font-family=\"arial\" font-size=\"12.00\" text-anchor=\"middle\" x=\"314.6\" y=\"-85.4\">ephys.experiment.BehaviorTrial</text>\n",
       "</g>\n",
       "<!-- ephys.experiment.EarlyLick&#45;&gt;ephys.experiment.BehaviorTrial -->\n",
       "<g class=\"edge\" id=\"edge3\">\n",
       "<title>ephys.experiment.EarlyLick-&gt;ephys.experiment.BehaviorTrial</title>\n",
       "<path d=\"M140.45,-141.97C176.57,-131.09 223.68,-116.89 259.8,-106.01\" fill=\"none\" stroke=\"#000000\" stroke-dasharray=\"5,2\" stroke-opacity=\"0.250980\" stroke-width=\"0.75\"/>\n",
       "</g>\n",
       "<!-- ephys.experiment.PhotostimTrial -->\n",
       "<g class=\"node\" id=\"node3\">\n",
       "<title>ephys.experiment.PhotostimTrial</title>\n",
       "<ellipse cx=\"954.6\" cy=\"-88.5\" fill=\"#00007f\" fill-opacity=\"0.250980\" rx=\"116\" ry=\"17.5\" stroke=\"#00007f\" stroke-opacity=\"0.250980\"/>\n",
       "<text fill=\"#00007f\" fill-opacity=\"0.627451\" font-family=\"arial\" font-size=\"12.00\" text-anchor=\"middle\" x=\"954.6\" y=\"-85.4\">ephys.experiment.PhotostimTrial</text>\n",
       "</g>\n",
       "<!-- ephys.experiment.PassivePhotostimTrial -->\n",
       "<g class=\"node\" id=\"node4\">\n",
       "<title>ephys.experiment.PassivePhotostimTrial</title>\n",
       "<ellipse cx=\"729.6\" cy=\"-17.5\" fill=\"#ff0000\" fill-opacity=\"0.125490\" rx=\"13\" ry=\"13\" stroke=\"#ff0000\" stroke-opacity=\"0.125490\"/>\n",
       "<text fill=\"#7f0000\" fill-opacity=\"0.627451\" font-family=\"arial\" font-size=\"12.00\" text-anchor=\"middle\" x=\"729.6\" y=\"-14.4\">ephys.experiment.PassivePhotostimTrial</text>\n",
       "</g>\n",
       "<!-- ephys.experiment.PhotostimTrial&#45;&gt;ephys.experiment.PassivePhotostimTrial -->\n",
       "<g class=\"edge\" id=\"edge4\">\n",
       "<title>ephys.experiment.PhotostimTrial-&gt;ephys.experiment.PassivePhotostimTrial</title>\n",
       "<path d=\"M905.78,-72.53C853.04,-56.36 772.48,-31.65 741.92,-22.28\" fill=\"none\" stroke=\"#000000\" stroke-opacity=\"0.250980\" stroke-width=\"2\"/>\n",
       "</g>\n",
       "<!-- ephys.experiment.PhotostimTrial&#45;&gt;ephys.experiment.PhotostimTrial.Event -->\n",
       "<g class=\"edge\" id=\"edge5\">\n",
       "<title>ephys.experiment.PhotostimTrial-&gt;ephys.experiment.PhotostimTrial.Event</title>\n",
       "<path d=\"M954.6,-70.8C954.6,-57.08 954.6,-38.19 954.6,-27.27\" fill=\"none\" stroke=\"#000000\" stroke-opacity=\"0.250980\" stroke-width=\"0.75\"/>\n",
       "</g>\n",
       "<!-- ephys.experiment.Session -->\n",
       "<g class=\"node\" id=\"node5\">\n",
       "<title>ephys.experiment.Session</title>\n",
       "<polygon fill=\"#00ff00\" fill-opacity=\"0.188235\" points=\"1031.6,-248 877.6,-248 877.6,-213 1031.6,-213 1031.6,-248\" stroke=\"#00ff00\" stroke-opacity=\"0.188235\"/>\n",
       "<text fill=\"darkgreen\" font-family=\"arial\" font-size=\"12.00\" text-anchor=\"middle\" x=\"954.6\" y=\"-227.4\">ephys.experiment.Session</text>\n",
       "</g>\n",
       "<!-- ephys.experiment.TaskTraining -->\n",
       "<g class=\"node\" id=\"node7\">\n",
       "<title>ephys.experiment.TaskTraining</title>\n",
       "<polygon fill=\"#00ff00\" fill-opacity=\"0.188235\" points=\"860.1,-177 681.1,-177 681.1,-142 860.1,-142 860.1,-177\" stroke=\"#00ff00\" stroke-opacity=\"0.188235\"/>\n",
       "<text fill=\"darkgreen\" font-family=\"arial\" font-size=\"12.00\" text-anchor=\"middle\" x=\"770.6\" y=\"-156.4\">ephys.experiment.TaskTraining</text>\n",
       "</g>\n",
       "<!-- ephys.experiment.Session&#45;&gt;ephys.experiment.TaskTraining -->\n",
       "<g class=\"edge\" id=\"edge6\">\n",
       "<title>ephys.experiment.Session-&gt;ephys.experiment.TaskTraining</title>\n",
       "<path d=\"M910.53,-212.97C881.5,-202.09 843.65,-187.89 814.63,-177.01\" fill=\"none\" stroke=\"#000000\" stroke-opacity=\"0.250980\" stroke-width=\"0.75\"/>\n",
       "</g>\n",
       "<!-- ephys.experiment.Session.Trial -->\n",
       "<g class=\"node\" id=\"node18\">\n",
       "<title>ephys.experiment.Session.Trial</title>\n",
       "<polygon fill=\"transparent\" points=\"1031.1,-169 878.1,-169 878.1,-150 1031.1,-150 1031.1,-169\" stroke=\"transparent\"/>\n",
       "<text font-family=\"arial\" font-size=\"10.00\" text-anchor=\"middle\" x=\"954.6\" y=\"-157\">ephys.experiment.Session.Trial</text>\n",
       "</g>\n",
       "<!-- ephys.experiment.Session&#45;&gt;ephys.experiment.Session.Trial -->\n",
       "<g class=\"edge\" id=\"edge7\">\n",
       "<title>ephys.experiment.Session-&gt;ephys.experiment.Session.Trial</title>\n",
       "<path d=\"M954.6,-212.8C954.6,-199.08 954.6,-180.19 954.6,-169.27\" fill=\"none\" stroke=\"#000000\" stroke-opacity=\"0.250980\" stroke-width=\"0.75\"/>\n",
       "</g>\n",
       "<!-- ephys.experiment.TrialEventType -->\n",
       "<g class=\"node\" id=\"node8\">\n",
       "<title>ephys.experiment.TrialEventType</title>\n",
       "<polygon fill=\"#000000\" fill-opacity=\"0.125490\" points=\"820.6,-106 660.6,-106 660.6,-71 820.6,-71 820.6,-106\" stroke=\"transparent\"/>\n",
       "<text font-family=\"arial\" font-size=\"10.00\" text-anchor=\"middle\" x=\"740.6\" y=\"-86\">ephys.experiment.TrialEventType</text>\n",
       "</g>\n",
       "<!-- ephys.experiment.TrialEvent -->\n",
       "<g class=\"node\" id=\"node19\">\n",
       "<title>ephys.experiment.TrialEvent</title>\n",
       "<polygon fill=\"#00ff00\" fill-opacity=\"0.188235\" points=\"490.1,-35 327.1,-35 327.1,0 490.1,0 490.1,-35\" stroke=\"#00ff00\" stroke-opacity=\"0.188235\"/>\n",
       "<text fill=\"darkgreen\" font-family=\"arial\" font-size=\"12.00\" text-anchor=\"middle\" x=\"408.6\" y=\"-14.4\">ephys.experiment.TrialEvent</text>\n",
       "</g>\n",
       "<!-- ephys.experiment.TrialEventType&#45;&gt;ephys.experiment.TrialEvent -->\n",
       "<g class=\"edge\" id=\"edge8\">\n",
       "<title>ephys.experiment.TrialEventType-&gt;ephys.experiment.TrialEvent</title>\n",
       "<path d=\"M661.08,-70.97C608.7,-60.09 540.4,-45.89 488.05,-35.01\" fill=\"none\" stroke=\"#000000\" stroke-opacity=\"0.250980\" stroke-width=\"0.75\"/>\n",
       "</g>\n",
       "<!-- ephys.experiment.ActionEvent -->\n",
       "<g class=\"node\" id=\"node9\">\n",
       "<title>ephys.experiment.ActionEvent</title>\n",
       "<polygon fill=\"#00ff00\" fill-opacity=\"0.188235\" points=\"306.1,-35 133.1,-35 133.1,0 306.1,0 306.1,-35\" stroke=\"#00ff00\" stroke-opacity=\"0.188235\"/>\n",
       "<text fill=\"darkgreen\" font-family=\"arial\" font-size=\"12.00\" text-anchor=\"middle\" x=\"219.6\" y=\"-14.4\">ephys.experiment.ActionEvent</text>\n",
       "</g>\n",
       "<!-- ephys.experiment.TrialNote -->\n",
       "<g class=\"node\" id=\"node10\">\n",
       "<title>ephys.experiment.TrialNote</title>\n",
       "<polygon fill=\"#00ff00\" fill-opacity=\"0.188235\" points=\"642.6,-106 484.6,-106 484.6,-71 642.6,-71 642.6,-106\" stroke=\"#00ff00\" stroke-opacity=\"0.188235\"/>\n",
       "<text fill=\"darkgreen\" font-family=\"arial\" font-size=\"12.00\" text-anchor=\"middle\" x=\"563.6\" y=\"-85.4\">ephys.experiment.TrialNote</text>\n",
       "</g>\n",
       "<!-- ephys.experiment.TrackingDevice -->\n",
       "<g class=\"node\" id=\"node11\">\n",
       "<title>ephys.experiment.TrackingDevice</title>\n",
       "<polygon fill=\"#000000\" fill-opacity=\"0.125490\" points=\"1267.6,-177 1105.6,-177 1105.6,-142 1267.6,-142 1267.6,-177\" stroke=\"transparent\"/>\n",
       "<text font-family=\"arial\" font-size=\"10.00\" text-anchor=\"middle\" x=\"1186.6\" y=\"-157\">ephys.experiment.TrackingDevice</text>\n",
       "</g>\n",
       "<!-- ephys.experiment.Tracking -->\n",
       "<g class=\"node\" id=\"node20\">\n",
       "<title>ephys.experiment.Tracking</title>\n",
       "<ellipse cx=\"1186.6\" cy=\"-88.5\" fill=\"#00007f\" fill-opacity=\"0.250980\" rx=\"97.5\" ry=\"17.5\" stroke=\"#00007f\" stroke-opacity=\"0.250980\"/>\n",
       "<text fill=\"#00007f\" fill-opacity=\"0.627451\" font-family=\"arial\" font-size=\"12.00\" text-anchor=\"middle\" x=\"1186.6\" y=\"-85.4\">ephys.experiment.Tracking</text>\n",
       "</g>\n",
       "<!-- ephys.experiment.TrackingDevice&#45;&gt;ephys.experiment.Tracking -->\n",
       "<g class=\"edge\" id=\"edge9\">\n",
       "<title>ephys.experiment.TrackingDevice-&gt;ephys.experiment.Tracking</title>\n",
       "<path d=\"M1186.6,-141.8C1186.6,-130.95 1186.6,-116.87 1186.6,-106.05\" fill=\"none\" stroke=\"#000000\" stroke-opacity=\"0.250980\" stroke-width=\"0.75\"/>\n",
       "</g>\n",
       "<!-- ephys.experiment.TrialNoteType -->\n",
       "<g class=\"node\" id=\"node12\">\n",
       "<title>ephys.experiment.TrialNoteType</title>\n",
       "<polygon fill=\"#000000\" fill-opacity=\"0.125490\" points=\"662.6,-177 506.6,-177 506.6,-142 662.6,-142 662.6,-177\" stroke=\"transparent\"/>\n",
       "<text font-family=\"arial\" font-size=\"10.00\" text-anchor=\"middle\" x=\"584.6\" y=\"-157\">ephys.experiment.TrialNoteType</text>\n",
       "</g>\n",
       "<!-- ephys.experiment.TrialNoteType&#45;&gt;ephys.experiment.TrialNote -->\n",
       "<g class=\"edge\" id=\"edge10\">\n",
       "<title>ephys.experiment.TrialNoteType-&gt;ephys.experiment.TrialNote</title>\n",
       "<path d=\"M579.51,-141.8C576.21,-130.95 571.93,-116.87 568.63,-106.05\" fill=\"none\" stroke=\"#000000\" stroke-opacity=\"0.250980\" stroke-width=\"0.75\"/>\n",
       "</g>\n",
       "<!-- ephys.experiment.PhotostimDevice -->\n",
       "<g class=\"node\" id=\"node13\">\n",
       "<title>ephys.experiment.PhotostimDevice</title>\n",
       "<polygon fill=\"#000000\" fill-opacity=\"0.125490\" points=\"1457.6,-177 1287.6,-177 1287.6,-142 1457.6,-142 1457.6,-177\" stroke=\"transparent\"/>\n",
       "<text font-family=\"arial\" font-size=\"10.00\" text-anchor=\"middle\" x=\"1372.6\" y=\"-157\">ephys.experiment.PhotostimDevice</text>\n",
       "</g>\n",
       "<!-- ephys.experiment.PhotostimDevice&#45;&gt;ephys.experiment.Photostim -->\n",
       "<g class=\"edge\" id=\"edge11\">\n",
       "<title>ephys.experiment.PhotostimDevice-&gt;ephys.experiment.Photostim</title>\n",
       "<path d=\"M1372.6,-141.8C1372.6,-130.95 1372.6,-116.87 1372.6,-106.05\" fill=\"none\" stroke=\"#000000\" stroke-opacity=\"0.250980\" stroke-width=\"0.75\"/>\n",
       "</g>\n",
       "<!-- ephys.experiment.ActionEventType -->\n",
       "<g class=\"node\" id=\"node15\">\n",
       "<title>ephys.experiment.ActionEventType</title>\n",
       "<polygon fill=\"#000000\" fill-opacity=\"0.125490\" points=\"206.6,-106 36.6,-106 36.6,-71 206.6,-71 206.6,-106\" stroke=\"transparent\"/>\n",
       "<text font-family=\"arial\" font-size=\"10.00\" text-anchor=\"middle\" x=\"121.6\" y=\"-86\">ephys.experiment.ActionEventType</text>\n",
       "</g>\n",
       "<!-- ephys.experiment.ActionEventType&#45;&gt;ephys.experiment.ActionEvent -->\n",
       "<g class=\"edge\" id=\"edge12\">\n",
       "<title>ephys.experiment.ActionEventType-&gt;ephys.experiment.ActionEvent</title>\n",
       "<path d=\"M145.32,-70.8C160.73,-59.95 180.73,-45.87 196.09,-35.05\" fill=\"none\" stroke=\"#000000\" stroke-opacity=\"0.250980\" stroke-width=\"0.75\"/>\n",
       "</g>\n",
       "<!-- ephys.experiment.TrialInstruction -->\n",
       "<g class=\"node\" id=\"node16\">\n",
       "<title>ephys.experiment.TrialInstruction</title>\n",
       "<polygon fill=\"#000000\" fill-opacity=\"0.125490\" points=\"332.6,-177 172.6,-177 172.6,-142 332.6,-142 332.6,-177\" stroke=\"transparent\"/>\n",
       "<text font-family=\"arial\" font-size=\"10.00\" text-anchor=\"middle\" x=\"252.6\" y=\"-157\">ephys.experiment.TrialInstruction</text>\n",
       "</g>\n",
       "<!-- ephys.experiment.TrialInstruction&#45;&gt;ephys.experiment.BehaviorTrial -->\n",
       "<g class=\"edge\" id=\"edge13\">\n",
       "<title>ephys.experiment.TrialInstruction-&gt;ephys.experiment.BehaviorTrial</title>\n",
       "<path d=\"M267.61,-141.8C277.35,-130.95 290.01,-116.87 299.73,-106.05\" fill=\"none\" stroke=\"#000000\" stroke-dasharray=\"5,2\" stroke-opacity=\"0.250980\" stroke-width=\"0.75\"/>\n",
       "</g>\n",
       "<!-- ephys.experiment.BehaviorTrial&#45;&gt;ephys.experiment.ActionEvent -->\n",
       "<g class=\"edge\" id=\"edge14\">\n",
       "<title>ephys.experiment.BehaviorTrial-&gt;ephys.experiment.ActionEvent</title>\n",
       "<path d=\"M291.6,-70.8C276.66,-59.95 257.28,-45.87 242.38,-35.05\" fill=\"none\" stroke=\"#000000\" stroke-opacity=\"0.250980\" stroke-width=\"0.75\"/>\n",
       "</g>\n",
       "<!-- ephys.experiment.BehaviorTrial&#45;&gt;ephys.experiment.TrialEvent -->\n",
       "<g class=\"edge\" id=\"edge15\">\n",
       "<title>ephys.experiment.BehaviorTrial-&gt;ephys.experiment.TrialEvent</title>\n",
       "<path d=\"M337.35,-70.8C352.13,-59.95 371.32,-45.87 386.05,-35.05\" fill=\"none\" stroke=\"#000000\" stroke-opacity=\"0.250980\" stroke-width=\"0.75\"/>\n",
       "</g>\n",
       "<!-- ephys.experiment.Session.Trial&#45;&gt;ephys.experiment.PhotostimTrial -->\n",
       "<g class=\"edge\" id=\"edge16\">\n",
       "<title>ephys.experiment.Session.Trial-&gt;ephys.experiment.PhotostimTrial</title>\n",
       "<path d=\"M954.6,-149.76C954.6,-138.81 954.6,-119.81 954.6,-106.07\" fill=\"none\" stroke=\"#000000\" stroke-opacity=\"0.250980\" stroke-width=\"2\"/>\n",
       "</g>\n",
       "<!-- ephys.experiment.Session.Trial&#45;&gt;ephys.experiment.TrialNote -->\n",
       "<g class=\"edge\" id=\"edge17\">\n",
       "<title>ephys.experiment.Session.Trial-&gt;ephys.experiment.TrialNote</title>\n",
       "<path d=\"M911.33,-149.98C897.67,-147.35 882.52,-144.49 868.6,-142 772.36,-124.79 747.87,-123.01 651.6,-106 648.69,-105.49 645.73,-104.96 642.74,-104.42\" fill=\"none\" stroke=\"#000000\" stroke-opacity=\"0.250980\" stroke-width=\"0.75\"/>\n",
       "</g>\n",
       "<!-- ephys.experiment.Session.Trial&#45;&gt;ephys.experiment.BehaviorTrial -->\n",
       "<g class=\"edge\" id=\"edge18\">\n",
       "<title>ephys.experiment.Session.Trial-&gt;ephys.experiment.BehaviorTrial</title>\n",
       "<path d=\"M914.48,-149.96C900.07,-147.11 883.65,-144.13 868.6,-142 694.93,-117.45 650.18,-122.94 475.6,-106 452.67,-103.77 427.91,-101.28 404.84,-98.92\" fill=\"none\" stroke=\"#000000\" stroke-opacity=\"0.250980\" stroke-width=\"2\"/>\n",
       "</g>\n",
       "<!-- ephys.experiment.Session.Trial&#45;&gt;ephys.experiment.Tracking -->\n",
       "<g class=\"edge\" id=\"edge19\">\n",
       "<title>ephys.experiment.Session.Trial-&gt;ephys.experiment.Tracking</title>\n",
       "<path d=\"M983.51,-149.9C1022.26,-138.38 1091.56,-117.77 1138.3,-103.86\" fill=\"none\" stroke=\"#000000\" stroke-opacity=\"0.250980\" stroke-width=\"0.75\"/>\n",
       "</g>\n",
       "<!-- ephys.experiment.Outcome -->\n",
       "<g class=\"node\" id=\"node21\">\n",
       "<title>ephys.experiment.Outcome</title>\n",
       "<polygon fill=\"#000000\" fill-opacity=\"0.125490\" points=\"488.1,-177 351.1,-177 351.1,-142 488.1,-142 488.1,-177\" stroke=\"transparent\"/>\n",
       "<text font-family=\"arial\" font-size=\"10.00\" text-anchor=\"middle\" x=\"419.6\" y=\"-157\">ephys.experiment.Outcome</text>\n",
       "</g>\n",
       "<!-- ephys.experiment.Outcome&#45;&gt;ephys.experiment.BehaviorTrial -->\n",
       "<g class=\"edge\" id=\"edge20\">\n",
       "<title>ephys.experiment.Outcome-&gt;ephys.experiment.BehaviorTrial</title>\n",
       "<path d=\"M394.45,-141.97C377.95,-131.13 356.44,-117 339.91,-106.13\" fill=\"none\" stroke=\"#000000\" stroke-dasharray=\"5,2\" stroke-opacity=\"0.250980\" stroke-width=\"0.75\"/>\n",
       "</g>\n",
       "<!-- ephys.experiment.Task -->\n",
       "<g class=\"node\" id=\"node22\">\n",
       "<title>ephys.experiment.Task</title>\n",
       "<polygon fill=\"#000000\" fill-opacity=\"0.125490\" points=\"438.6,-248 320.6,-248 320.6,-213 438.6,-213 438.6,-248\" stroke=\"transparent\"/>\n",
       "<text font-family=\"arial\" font-size=\"10.00\" text-anchor=\"middle\" x=\"379.6\" y=\"-228\">ephys.experiment.Task</text>\n",
       "</g>\n",
       "<!-- ephys.experiment.Task&#45;&gt;ephys.experiment.TaskTraining -->\n",
       "<g class=\"edge\" id=\"edge21\">\n",
       "<title>ephys.experiment.Task-&gt;ephys.experiment.TaskTraining</title>\n",
       "<path d=\"M438.98,-219.02C503.29,-207.67 606.59,-189.44 680.82,-176.34\" fill=\"none\" stroke=\"#000000\" stroke-opacity=\"0.250980\" stroke-width=\"0.75\"/>\n",
       "</g>\n",
       "<!-- ephys.experiment.Task&#45;&gt;ephys.experiment.BehaviorTrial -->\n",
       "<g class=\"edge\" id=\"edge22\">\n",
       "<title>ephys.experiment.Task-&gt;ephys.experiment.BehaviorTrial</title>\n",
       "<path d=\"M320.29,-230.14C225.73,-229.76 47.38,-222.79 7.6,-177 -2.6,-165.26 -2.43,-153.89 7.6,-142 8.49,-140.94 134.23,-119.69 224.49,-104.56\" fill=\"none\" stroke=\"#000000\" stroke-dasharray=\"5,2\" stroke-opacity=\"0.250980\" stroke-width=\"0.75\"/>\n",
       "</g>\n",
       "</g>\n",
       "</svg>"
      ],
      "text/plain": [
       "<datajoint.erd.ERD at 0x3d789da0>"
      ]
     },
     "execution_count": 9,
     "metadata": {},
     "output_type": "execute_result"
    }
   ],
   "source": [
    "dj.ERD(ephys.experiment)"
   ]
  },
  {
   "cell_type": "code",
   "execution_count": 10,
   "metadata": {},
   "outputs": [
    {
     "name": "stdout",
     "output_type": "stream",
     "text": [
      "> c:\\map-ephys\\ingest.py(5)<module>()\n",
      "-> import os\n",
      "(Pdb) c\n"
     ]
    }
   ],
   "source": [
    "import ingest\n",
    "importedSessionFile=ingest.ImportedSessionFile()\n",
    "importedSessionFileIngest = ingest.ImportedSessionFileIngest()"
   ]
  },
  {
   "cell_type": "code",
   "execution_count": 11,
   "metadata": {},
   "outputs": [
    {
     "name": "stdout",
     "output_type": "stream",
     "text": [
      "{'imported_session_file': 'dl7_TW_autoTrain_20171114_144434.mat', 'animal': 399752, 'session': 1}\n"
     ]
    },
    {
     "ename": "IntegrityError",
     "evalue": "(1452, 'Cannot add or update a child row: a foreign key constraint fails (`daveliu_ingest`.`_imported_session_file_ingest`, CONSTRAINT `_imported_session_file_ingest_ibfk_2` FOREIGN KEY (`animal`, `session`) REFERENCES `daveliu_map_experi`.`session` (`animal`, `sess)')",
     "output_type": "error",
     "traceback": [
      "\u001b[1;31m---------------------------------------------------------------------------\u001b[0m",
      "\u001b[1;31mIntegrityError\u001b[0m                            Traceback (most recent call last)",
      "\u001b[1;32m<ipython-input-11-188f8617e935>\u001b[0m in \u001b[0;36m<module>\u001b[1;34m()\u001b[0m\n\u001b[0;32m      1\u001b[0m \u001b[1;31m#importedSessionFile.drop()\u001b[0m\u001b[1;33m\u001b[0m\u001b[1;33m\u001b[0m\u001b[0m\n\u001b[1;32m----> 2\u001b[1;33m \u001b[0mimportedSessionFileIngest\u001b[0m\u001b[1;33m.\u001b[0m\u001b[0mpopulate\u001b[0m\u001b[1;33m(\u001b[0m\u001b[1;33m)\u001b[0m\u001b[1;33m\u001b[0m\u001b[0m\n\u001b[0m",
      "\u001b[1;32mc:\\users\\liul.hhmi\\appdata\\local\\programs\\python\\python36\\lib\\site-packages\\datajoint\\autopopulate.py\u001b[0m in \u001b[0;36mpopulate\u001b[1;34m(self, suppress_errors, reserve_jobs, order, limit, max_calls, display_progress, *restrictions)\u001b[0m\n\u001b[0;32m    139\u001b[0m                     \u001b[0mnext\u001b[0m\u001b[1;33m(\u001b[0m\u001b[0mcall_count\u001b[0m\u001b[1;33m)\u001b[0m\u001b[1;33m\u001b[0m\u001b[0m\n\u001b[0;32m    140\u001b[0m                     \u001b[1;32mtry\u001b[0m\u001b[1;33m:\u001b[0m\u001b[1;33m\u001b[0m\u001b[0m\n\u001b[1;32m--> 141\u001b[1;33m                         \u001b[0mmake\u001b[0m\u001b[1;33m(\u001b[0m\u001b[0mdict\u001b[0m\u001b[1;33m(\u001b[0m\u001b[0mkey\u001b[0m\u001b[1;33m)\u001b[0m\u001b[1;33m)\u001b[0m\u001b[1;33m\u001b[0m\u001b[0m\n\u001b[0m\u001b[0;32m    142\u001b[0m                     \u001b[1;32mexcept\u001b[0m \u001b[1;33m(\u001b[0m\u001b[0mKeyboardInterrupt\u001b[0m\u001b[1;33m,\u001b[0m \u001b[0mSystemExit\u001b[0m\u001b[1;33m,\u001b[0m \u001b[0mException\u001b[0m\u001b[1;33m)\u001b[0m \u001b[1;32mas\u001b[0m \u001b[0merror\u001b[0m\u001b[1;33m:\u001b[0m\u001b[1;33m\u001b[0m\u001b[0m\n\u001b[0;32m    143\u001b[0m                         \u001b[1;32mtry\u001b[0m\u001b[1;33m:\u001b[0m\u001b[1;33m\u001b[0m\u001b[0m\n",
      "\u001b[1;32mC:\\map-ephys\\ingest.py\u001b[0m in \u001b[0;36mmake\u001b[1;34m(self, key)\u001b[0m\n\u001b[0;32m     91\u001b[0m             \u001b[1;31m# ... and save a record here to prevent future loading\u001b[0m\u001b[1;33m\u001b[0m\u001b[1;33m\u001b[0m\u001b[0m\n\u001b[0;32m     92\u001b[0m             \u001b[0mprint\u001b[0m\u001b[1;33m(\u001b[0m\u001b[0mkey\u001b[0m\u001b[1;33m)\u001b[0m\u001b[1;33m\u001b[0m\u001b[0m\n\u001b[1;32m---> 93\u001b[1;33m             \u001b[0mself\u001b[0m\u001b[1;33m.\u001b[0m\u001b[0minsert1\u001b[0m\u001b[1;33m(\u001b[0m\u001b[0mkey\u001b[0m\u001b[1;33m,\u001b[0m \u001b[0mignore_extra_fields\u001b[0m\u001b[1;33m=\u001b[0m\u001b[1;32mTrue\u001b[0m\u001b[1;33m)\u001b[0m\u001b[1;33m\u001b[0m\u001b[0m\n\u001b[0m\u001b[0;32m     94\u001b[0m \u001b[1;33m\u001b[0m\u001b[0m\n\u001b[0;32m     95\u001b[0m \u001b[1;33m\u001b[0m\u001b[0m\n",
      "\u001b[1;32mc:\\users\\liul.hhmi\\appdata\\local\\programs\\python\\python36\\lib\\site-packages\\datajoint\\base_relation.py\u001b[0m in \u001b[0;36minsert1\u001b[1;34m(self, row, **kwargs)\u001b[0m\n\u001b[0;32m    135\u001b[0m         \u001b[0mFor\u001b[0m \u001b[0mkwargs\u001b[0m\u001b[1;33m,\u001b[0m \u001b[0msee\u001b[0m \u001b[0minsert\u001b[0m\u001b[1;33m(\u001b[0m\u001b[1;33m)\u001b[0m\u001b[1;33m\u001b[0m\u001b[0m\n\u001b[0;32m    136\u001b[0m         \"\"\"\n\u001b[1;32m--> 137\u001b[1;33m         \u001b[0mself\u001b[0m\u001b[1;33m.\u001b[0m\u001b[0minsert\u001b[0m\u001b[1;33m(\u001b[0m\u001b[1;33m(\u001b[0m\u001b[0mrow\u001b[0m\u001b[1;33m,\u001b[0m\u001b[1;33m)\u001b[0m\u001b[1;33m,\u001b[0m \u001b[1;33m**\u001b[0m\u001b[0mkwargs\u001b[0m\u001b[1;33m)\u001b[0m\u001b[1;33m\u001b[0m\u001b[0m\n\u001b[0m\u001b[0;32m    138\u001b[0m \u001b[1;33m\u001b[0m\u001b[0m\n\u001b[0;32m    139\u001b[0m     \u001b[1;32mdef\u001b[0m \u001b[0minsert\u001b[0m\u001b[1;33m(\u001b[0m\u001b[0mself\u001b[0m\u001b[1;33m,\u001b[0m \u001b[0mrows\u001b[0m\u001b[1;33m,\u001b[0m \u001b[0mreplace\u001b[0m\u001b[1;33m=\u001b[0m\u001b[1;32mFalse\u001b[0m\u001b[1;33m,\u001b[0m \u001b[0mskip_duplicates\u001b[0m\u001b[1;33m=\u001b[0m\u001b[1;32mFalse\u001b[0m\u001b[1;33m,\u001b[0m \u001b[0mignore_extra_fields\u001b[0m\u001b[1;33m=\u001b[0m\u001b[1;32mFalse\u001b[0m\u001b[1;33m,\u001b[0m \u001b[0mignore_errors\u001b[0m\u001b[1;33m=\u001b[0m\u001b[1;32mFalse\u001b[0m\u001b[1;33m)\u001b[0m\u001b[1;33m:\u001b[0m\u001b[1;33m\u001b[0m\u001b[0m\n",
      "\u001b[1;32mc:\\users\\liul.hhmi\\appdata\\local\\programs\\python\\python36\\lib\\site-packages\\datajoint\\base_relation.py\u001b[0m in \u001b[0;36minsert\u001b[1;34m(self, rows, replace, skip_duplicates, ignore_extra_fields, ignore_errors)\u001b[0m\n\u001b[0;32m    278\u001b[0m                                if skip_duplicates else ''))\n\u001b[0;32m    279\u001b[0m                 self.connection.query(query, args=list(\n\u001b[1;32m--> 280\u001b[1;33m                     itertools.chain.from_iterable((v for v in r['values'] if v is not None) for r in rows)))\n\u001b[0m\u001b[0;32m    281\u001b[0m             \u001b[1;32mexcept\u001b[0m \u001b[1;33m(\u001b[0m\u001b[0mOperationalError\u001b[0m\u001b[1;33m,\u001b[0m \u001b[0mInternalError\u001b[0m\u001b[1;33m,\u001b[0m \u001b[0mIntegrityError\u001b[0m\u001b[1;33m)\u001b[0m \u001b[1;32mas\u001b[0m \u001b[0merr\u001b[0m\u001b[1;33m:\u001b[0m\u001b[1;33m\u001b[0m\u001b[0m\n\u001b[0;32m    282\u001b[0m                 \u001b[1;32mif\u001b[0m \u001b[0merr\u001b[0m\u001b[1;33m.\u001b[0m\u001b[0margs\u001b[0m\u001b[1;33m[\u001b[0m\u001b[1;36m0\u001b[0m\u001b[1;33m]\u001b[0m \u001b[1;33m==\u001b[0m \u001b[0mserver_error_codes\u001b[0m\u001b[1;33m[\u001b[0m\u001b[1;34m'command denied'\u001b[0m\u001b[1;33m]\u001b[0m\u001b[1;33m:\u001b[0m\u001b[1;33m\u001b[0m\u001b[0m\n",
      "\u001b[1;32mc:\\users\\liul.hhmi\\appdata\\local\\programs\\python\\python36\\lib\\site-packages\\datajoint\\connection.py\u001b[0m in \u001b[0;36mquery\u001b[1;34m(self, query, args, as_dict, suppress_warnings)\u001b[0m\n\u001b[0;32m    127\u001b[0m                     \u001b[1;31m# suppress all warnings arising from underlying SQL library\u001b[0m\u001b[1;33m\u001b[0m\u001b[1;33m\u001b[0m\u001b[0m\n\u001b[0;32m    128\u001b[0m                     \u001b[0mwarnings\u001b[0m\u001b[1;33m.\u001b[0m\u001b[0msimplefilter\u001b[0m\u001b[1;33m(\u001b[0m\u001b[1;34m\"ignore\"\u001b[0m\u001b[1;33m)\u001b[0m\u001b[1;33m\u001b[0m\u001b[0m\n\u001b[1;32m--> 129\u001b[1;33m                 \u001b[0mcur\u001b[0m\u001b[1;33m.\u001b[0m\u001b[0mexecute\u001b[0m\u001b[1;33m(\u001b[0m\u001b[0mquery\u001b[0m\u001b[1;33m,\u001b[0m \u001b[0margs\u001b[0m\u001b[1;33m)\u001b[0m\u001b[1;33m\u001b[0m\u001b[0m\n\u001b[0m\u001b[0;32m    130\u001b[0m \u001b[1;33m\u001b[0m\u001b[0m\n\u001b[0;32m    131\u001b[0m         \u001b[1;32mexcept\u001b[0m \u001b[0merr\u001b[0m\u001b[1;33m.\u001b[0m\u001b[0mOperationalError\u001b[0m \u001b[1;32mas\u001b[0m \u001b[0me\u001b[0m\u001b[1;33m:\u001b[0m\u001b[1;33m\u001b[0m\u001b[0m\n",
      "\u001b[1;32mc:\\users\\liul.hhmi\\appdata\\local\\programs\\python\\python36\\lib\\site-packages\\pymysql\\cursors.py\u001b[0m in \u001b[0;36mexecute\u001b[1;34m(self, query, args)\u001b[0m\n\u001b[0;32m    164\u001b[0m         \u001b[0mquery\u001b[0m \u001b[1;33m=\u001b[0m \u001b[0mself\u001b[0m\u001b[1;33m.\u001b[0m\u001b[0mmogrify\u001b[0m\u001b[1;33m(\u001b[0m\u001b[0mquery\u001b[0m\u001b[1;33m,\u001b[0m \u001b[0margs\u001b[0m\u001b[1;33m)\u001b[0m\u001b[1;33m\u001b[0m\u001b[0m\n\u001b[0;32m    165\u001b[0m \u001b[1;33m\u001b[0m\u001b[0m\n\u001b[1;32m--> 166\u001b[1;33m         \u001b[0mresult\u001b[0m \u001b[1;33m=\u001b[0m \u001b[0mself\u001b[0m\u001b[1;33m.\u001b[0m\u001b[0m_query\u001b[0m\u001b[1;33m(\u001b[0m\u001b[0mquery\u001b[0m\u001b[1;33m)\u001b[0m\u001b[1;33m\u001b[0m\u001b[0m\n\u001b[0m\u001b[0;32m    167\u001b[0m         \u001b[0mself\u001b[0m\u001b[1;33m.\u001b[0m\u001b[0m_executed\u001b[0m \u001b[1;33m=\u001b[0m \u001b[0mquery\u001b[0m\u001b[1;33m\u001b[0m\u001b[0m\n\u001b[0;32m    168\u001b[0m         \u001b[1;32mreturn\u001b[0m \u001b[0mresult\u001b[0m\u001b[1;33m\u001b[0m\u001b[0m\n",
      "\u001b[1;32mc:\\users\\liul.hhmi\\appdata\\local\\programs\\python\\python36\\lib\\site-packages\\pymysql\\cursors.py\u001b[0m in \u001b[0;36m_query\u001b[1;34m(self, q)\u001b[0m\n\u001b[0;32m    320\u001b[0m         \u001b[0mconn\u001b[0m \u001b[1;33m=\u001b[0m \u001b[0mself\u001b[0m\u001b[1;33m.\u001b[0m\u001b[0m_get_db\u001b[0m\u001b[1;33m(\u001b[0m\u001b[1;33m)\u001b[0m\u001b[1;33m\u001b[0m\u001b[0m\n\u001b[0;32m    321\u001b[0m         \u001b[0mself\u001b[0m\u001b[1;33m.\u001b[0m\u001b[0m_last_executed\u001b[0m \u001b[1;33m=\u001b[0m \u001b[0mq\u001b[0m\u001b[1;33m\u001b[0m\u001b[0m\n\u001b[1;32m--> 322\u001b[1;33m         \u001b[0mconn\u001b[0m\u001b[1;33m.\u001b[0m\u001b[0mquery\u001b[0m\u001b[1;33m(\u001b[0m\u001b[0mq\u001b[0m\u001b[1;33m)\u001b[0m\u001b[1;33m\u001b[0m\u001b[0m\n\u001b[0m\u001b[0;32m    323\u001b[0m         \u001b[0mself\u001b[0m\u001b[1;33m.\u001b[0m\u001b[0m_do_get_result\u001b[0m\u001b[1;33m(\u001b[0m\u001b[1;33m)\u001b[0m\u001b[1;33m\u001b[0m\u001b[0m\n\u001b[0;32m    324\u001b[0m         \u001b[1;32mreturn\u001b[0m \u001b[0mself\u001b[0m\u001b[1;33m.\u001b[0m\u001b[0mrowcount\u001b[0m\u001b[1;33m\u001b[0m\u001b[0m\n",
      "\u001b[1;32mc:\\users\\liul.hhmi\\appdata\\local\\programs\\python\\python36\\lib\\site-packages\\pymysql\\connections.py\u001b[0m in \u001b[0;36mquery\u001b[1;34m(self, sql, unbuffered)\u001b[0m\n\u001b[0;32m    854\u001b[0m                 \u001b[0msql\u001b[0m \u001b[1;33m=\u001b[0m \u001b[0msql\u001b[0m\u001b[1;33m.\u001b[0m\u001b[0mencode\u001b[0m\u001b[1;33m(\u001b[0m\u001b[0mself\u001b[0m\u001b[1;33m.\u001b[0m\u001b[0mencoding\u001b[0m\u001b[1;33m,\u001b[0m \u001b[1;34m'surrogateescape'\u001b[0m\u001b[1;33m)\u001b[0m\u001b[1;33m\u001b[0m\u001b[0m\n\u001b[0;32m    855\u001b[0m         \u001b[0mself\u001b[0m\u001b[1;33m.\u001b[0m\u001b[0m_execute_command\u001b[0m\u001b[1;33m(\u001b[0m\u001b[0mCOMMAND\u001b[0m\u001b[1;33m.\u001b[0m\u001b[0mCOM_QUERY\u001b[0m\u001b[1;33m,\u001b[0m \u001b[0msql\u001b[0m\u001b[1;33m)\u001b[0m\u001b[1;33m\u001b[0m\u001b[0m\n\u001b[1;32m--> 856\u001b[1;33m         \u001b[0mself\u001b[0m\u001b[1;33m.\u001b[0m\u001b[0m_affected_rows\u001b[0m \u001b[1;33m=\u001b[0m \u001b[0mself\u001b[0m\u001b[1;33m.\u001b[0m\u001b[0m_read_query_result\u001b[0m\u001b[1;33m(\u001b[0m\u001b[0munbuffered\u001b[0m\u001b[1;33m=\u001b[0m\u001b[0munbuffered\u001b[0m\u001b[1;33m)\u001b[0m\u001b[1;33m\u001b[0m\u001b[0m\n\u001b[0m\u001b[0;32m    857\u001b[0m         \u001b[1;32mreturn\u001b[0m \u001b[0mself\u001b[0m\u001b[1;33m.\u001b[0m\u001b[0m_affected_rows\u001b[0m\u001b[1;33m\u001b[0m\u001b[0m\n\u001b[0;32m    858\u001b[0m \u001b[1;33m\u001b[0m\u001b[0m\n",
      "\u001b[1;32mc:\\users\\liul.hhmi\\appdata\\local\\programs\\python\\python36\\lib\\site-packages\\pymysql\\connections.py\u001b[0m in \u001b[0;36m_read_query_result\u001b[1;34m(self, unbuffered)\u001b[0m\n\u001b[0;32m   1055\u001b[0m         \u001b[1;32melse\u001b[0m\u001b[1;33m:\u001b[0m\u001b[1;33m\u001b[0m\u001b[0m\n\u001b[0;32m   1056\u001b[0m             \u001b[0mresult\u001b[0m \u001b[1;33m=\u001b[0m \u001b[0mMySQLResult\u001b[0m\u001b[1;33m(\u001b[0m\u001b[0mself\u001b[0m\u001b[1;33m)\u001b[0m\u001b[1;33m\u001b[0m\u001b[0m\n\u001b[1;32m-> 1057\u001b[1;33m             \u001b[0mresult\u001b[0m\u001b[1;33m.\u001b[0m\u001b[0mread\u001b[0m\u001b[1;33m(\u001b[0m\u001b[1;33m)\u001b[0m\u001b[1;33m\u001b[0m\u001b[0m\n\u001b[0m\u001b[0;32m   1058\u001b[0m         \u001b[0mself\u001b[0m\u001b[1;33m.\u001b[0m\u001b[0m_result\u001b[0m \u001b[1;33m=\u001b[0m \u001b[0mresult\u001b[0m\u001b[1;33m\u001b[0m\u001b[0m\n\u001b[0;32m   1059\u001b[0m         \u001b[1;32mif\u001b[0m \u001b[0mresult\u001b[0m\u001b[1;33m.\u001b[0m\u001b[0mserver_status\u001b[0m \u001b[1;32mis\u001b[0m \u001b[1;32mnot\u001b[0m \u001b[1;32mNone\u001b[0m\u001b[1;33m:\u001b[0m\u001b[1;33m\u001b[0m\u001b[0m\n",
      "\u001b[1;32mc:\\users\\liul.hhmi\\appdata\\local\\programs\\python\\python36\\lib\\site-packages\\pymysql\\connections.py\u001b[0m in \u001b[0;36mread\u001b[1;34m(self)\u001b[0m\n\u001b[0;32m   1338\u001b[0m     \u001b[1;32mdef\u001b[0m \u001b[0mread\u001b[0m\u001b[1;33m(\u001b[0m\u001b[0mself\u001b[0m\u001b[1;33m)\u001b[0m\u001b[1;33m:\u001b[0m\u001b[1;33m\u001b[0m\u001b[0m\n\u001b[0;32m   1339\u001b[0m         \u001b[1;32mtry\u001b[0m\u001b[1;33m:\u001b[0m\u001b[1;33m\u001b[0m\u001b[0m\n\u001b[1;32m-> 1340\u001b[1;33m             \u001b[0mfirst_packet\u001b[0m \u001b[1;33m=\u001b[0m \u001b[0mself\u001b[0m\u001b[1;33m.\u001b[0m\u001b[0mconnection\u001b[0m\u001b[1;33m.\u001b[0m\u001b[0m_read_packet\u001b[0m\u001b[1;33m(\u001b[0m\u001b[1;33m)\u001b[0m\u001b[1;33m\u001b[0m\u001b[0m\n\u001b[0m\u001b[0;32m   1341\u001b[0m \u001b[1;33m\u001b[0m\u001b[0m\n\u001b[0;32m   1342\u001b[0m             \u001b[1;32mif\u001b[0m \u001b[0mfirst_packet\u001b[0m\u001b[1;33m.\u001b[0m\u001b[0mis_ok_packet\u001b[0m\u001b[1;33m(\u001b[0m\u001b[1;33m)\u001b[0m\u001b[1;33m:\u001b[0m\u001b[1;33m\u001b[0m\u001b[0m\n",
      "\u001b[1;32mc:\\users\\liul.hhmi\\appdata\\local\\programs\\python\\python36\\lib\\site-packages\\pymysql\\connections.py\u001b[0m in \u001b[0;36m_read_packet\u001b[1;34m(self, packet_type)\u001b[0m\n\u001b[0;32m   1012\u001b[0m \u001b[1;33m\u001b[0m\u001b[0m\n\u001b[0;32m   1013\u001b[0m         \u001b[0mpacket\u001b[0m \u001b[1;33m=\u001b[0m \u001b[0mpacket_type\u001b[0m\u001b[1;33m(\u001b[0m\u001b[0mbuff\u001b[0m\u001b[1;33m,\u001b[0m \u001b[0mself\u001b[0m\u001b[1;33m.\u001b[0m\u001b[0mencoding\u001b[0m\u001b[1;33m)\u001b[0m\u001b[1;33m\u001b[0m\u001b[0m\n\u001b[1;32m-> 1014\u001b[1;33m         \u001b[0mpacket\u001b[0m\u001b[1;33m.\u001b[0m\u001b[0mcheck_error\u001b[0m\u001b[1;33m(\u001b[0m\u001b[1;33m)\u001b[0m\u001b[1;33m\u001b[0m\u001b[0m\n\u001b[0m\u001b[0;32m   1015\u001b[0m         \u001b[1;32mreturn\u001b[0m \u001b[0mpacket\u001b[0m\u001b[1;33m\u001b[0m\u001b[0m\n\u001b[0;32m   1016\u001b[0m \u001b[1;33m\u001b[0m\u001b[0m\n",
      "\u001b[1;32mc:\\users\\liul.hhmi\\appdata\\local\\programs\\python\\python36\\lib\\site-packages\\pymysql\\connections.py\u001b[0m in \u001b[0;36mcheck_error\u001b[1;34m(self)\u001b[0m\n\u001b[0;32m    391\u001b[0m             \u001b[0merrno\u001b[0m \u001b[1;33m=\u001b[0m \u001b[0mself\u001b[0m\u001b[1;33m.\u001b[0m\u001b[0mread_uint16\u001b[0m\u001b[1;33m(\u001b[0m\u001b[1;33m)\u001b[0m\u001b[1;33m\u001b[0m\u001b[0m\n\u001b[0;32m    392\u001b[0m             \u001b[1;32mif\u001b[0m \u001b[0mDEBUG\u001b[0m\u001b[1;33m:\u001b[0m \u001b[0mprint\u001b[0m\u001b[1;33m(\u001b[0m\u001b[1;34m\"errno =\"\u001b[0m\u001b[1;33m,\u001b[0m \u001b[0merrno\u001b[0m\u001b[1;33m)\u001b[0m\u001b[1;33m\u001b[0m\u001b[0m\n\u001b[1;32m--> 393\u001b[1;33m             \u001b[0merr\u001b[0m\u001b[1;33m.\u001b[0m\u001b[0mraise_mysql_exception\u001b[0m\u001b[1;33m(\u001b[0m\u001b[0mself\u001b[0m\u001b[1;33m.\u001b[0m\u001b[0m_data\u001b[0m\u001b[1;33m)\u001b[0m\u001b[1;33m\u001b[0m\u001b[0m\n\u001b[0m\u001b[0;32m    394\u001b[0m \u001b[1;33m\u001b[0m\u001b[0m\n\u001b[0;32m    395\u001b[0m     \u001b[1;32mdef\u001b[0m \u001b[0mdump\u001b[0m\u001b[1;33m(\u001b[0m\u001b[0mself\u001b[0m\u001b[1;33m)\u001b[0m\u001b[1;33m:\u001b[0m\u001b[1;33m\u001b[0m\u001b[0m\n",
      "\u001b[1;32mc:\\users\\liul.hhmi\\appdata\\local\\programs\\python\\python36\\lib\\site-packages\\pymysql\\err.py\u001b[0m in \u001b[0;36mraise_mysql_exception\u001b[1;34m(data)\u001b[0m\n\u001b[0;32m    105\u001b[0m         \u001b[0merrval\u001b[0m \u001b[1;33m=\u001b[0m \u001b[0mdata\u001b[0m\u001b[1;33m[\u001b[0m\u001b[1;36m3\u001b[0m\u001b[1;33m:\u001b[0m\u001b[1;33m]\u001b[0m\u001b[1;33m.\u001b[0m\u001b[0mdecode\u001b[0m\u001b[1;33m(\u001b[0m\u001b[1;34m'utf-8'\u001b[0m\u001b[1;33m,\u001b[0m \u001b[1;34m'replace'\u001b[0m\u001b[1;33m)\u001b[0m\u001b[1;33m\u001b[0m\u001b[0m\n\u001b[0;32m    106\u001b[0m     \u001b[0merrorclass\u001b[0m \u001b[1;33m=\u001b[0m \u001b[0merror_map\u001b[0m\u001b[1;33m.\u001b[0m\u001b[0mget\u001b[0m\u001b[1;33m(\u001b[0m\u001b[0merrno\u001b[0m\u001b[1;33m,\u001b[0m \u001b[0mInternalError\u001b[0m\u001b[1;33m)\u001b[0m\u001b[1;33m\u001b[0m\u001b[0m\n\u001b[1;32m--> 107\u001b[1;33m     \u001b[1;32mraise\u001b[0m \u001b[0merrorclass\u001b[0m\u001b[1;33m(\u001b[0m\u001b[0merrno\u001b[0m\u001b[1;33m,\u001b[0m \u001b[0merrval\u001b[0m\u001b[1;33m)\u001b[0m\u001b[1;33m\u001b[0m\u001b[0m\n\u001b[0m",
      "\u001b[1;31mIntegrityError\u001b[0m: (1452, 'Cannot add or update a child row: a foreign key constraint fails (`daveliu_ingest`.`_imported_session_file_ingest`, CONSTRAINT `_imported_session_file_ingest_ibfk_2` FOREIGN KEY (`animal`, `session`) REFERENCES `daveliu_map_experi`.`session` (`animal`, `sess)')"
     ]
    }
   ],
   "source": [
    "#importedSessionFile.drop()\n",
    "importedSessionFileIngest.populate()"
   ]
  },
  {
   "cell_type": "code",
   "execution_count": null,
   "metadata": {
    "scrolled": true
   },
   "outputs": [],
   "source": []
  },
  {
   "cell_type": "code",
   "execution_count": null,
   "metadata": {},
   "outputs": [],
   "source": [
    "importedSessionFileIngest.insert1({'imported_session_file': 'dl7_TW_autoTrain_20171114_144434.mat', 'animal': 399752, 'session': 1})"
   ]
  },
  {
   "cell_type": "code",
   "execution_count": null,
   "metadata": {},
   "outputs": [],
   "source": [
    "session"
   ]
  },
  {
   "cell_type": "code",
   "execution_count": null,
   "metadata": {},
   "outputs": [],
   "source": [
    "np.any(lab.Animal().fetch('animal')"
   ]
  },
  {
   "cell_type": "code",
   "execution_count": null,
   "metadata": {},
   "outputs": [],
   "source": [
    "importedSessionFile.drop()"
   ]
  },
  {
   "cell_type": "code",
   "execution_count": null,
   "metadata": {},
   "outputs": [],
   "source": [
    "sessionList = ['R:\\Arduino\\Bpod_Train1\\Bpod Local\\Data\\dl7\\TW_autoTrain\\Session Data\\dl7_TW_autoTrain_20171114_144434.mat', \n",
    "               'R:\\Arduino\\Bpod_Train1\\Bpod Local\\Data\\dl7\\TW_autoTrain\\Session Data\\dl7_TW_autoTrain_20171116_123237.mat',\n",
    "               'R:\\Arduino\\Bpod_Train1\\Bpod Local\\Data\\dl7\\TW_autoTrain\\Session Data\\dl7_TW_autoTrain_20171118_141139.mat',\n",
    "               'R:\\Arduino\\Bpod_Train1\\Bpod Local\\Data\\dl7\\TW_autoTrain\\Session Data\\dl7_TW_autoTrain_20171119_122727.mat',\n",
    "               'R:\\Arduino\\Bpod_Train1\\Bpod Local\\Data\\dl7\\TW_autoTrain\\Session Data\\dl7_TW_autoTrain_20171119_130846.mat',\n",
    "               'R:\\Arduino\\Bpod_Train1\\Bpod Local\\Data\\dl7\\TW_autoTrain\\Session Data\\dl7_TW_autoTrain_20171120_132218.mat',\n",
    "               'R:\\Arduino\\Bpod_Train1\\Bpod Local\\Data\\dl7\\TW_autoTrain\\Session Data\\dl7_TW_autoTrain_20171121_130431.mat',\n",
    "               'R:\\Arduino\\Bpod_Train1\\Bpod Local\\Data\\dl7\\TW_autoTrain\\Session Data\\dl7_TW_autoTrain_20171122_134619.mat',\n",
    "               'R:\\Arduino\\Bpod_Train1\\Bpod Local\\Data\\dl7\\TW_autoTrain\\Session Data\\dl7_TW_autoTrain_20171123_115915.mat',\n",
    "               'R:\\Arduino\\Bpod_Train1\\Bpod Local\\Data\\dl7\\TW_autoTrain\\Session Data\\dl7_TW_autoTrain_20171124_120916.mat',\n",
    "               'R:\\Arduino\\Bpod_Train1\\Bpod Local\\Data\\dl7\\TW_autoTrain\\Session Data\\dl7_TW_autoTrain_20171125_124353.mat',\n",
    "               'R:\\Arduino\\Bpod_Train1\\Bpod Local\\Data\\dl7\\TW_autoTrain\\Session Data\\dl7_TW_autoTrain_20171126_122207.mat',\n",
    "               'R:\\Arduino\\Bpod_Train1\\Bpod Local\\Data\\dl7\\TW_autoTrain\\Session Data\\dl7_TW_autoTrain_20171127_131041.mat']"
   ]
  },
  {
   "cell_type": "code",
   "execution_count": null,
   "metadata": {},
   "outputs": [],
   "source": [
    "session.drop()"
   ]
  },
  {
   "cell_type": "code",
   "execution_count": null,
   "metadata": {},
   "outputs": [],
   "source": [
    "import os\n",
    "f = 'R:\\Arduino\\Bpod_Train1\\Bpod Local\\Data\\dl7\\TW_autoTrain\\Session Data\\dl7_TW_autoTrain_20171114_144434.mat'\n",
    "f.endswith('.mat') and os.stat(f).st_size/1024 > 500"
   ]
  },
  {
   "cell_type": "code",
   "execution_count": null,
   "metadata": {},
   "outputs": [],
   "source": [
    "session=ephys.experiment.Session()"
   ]
  },
  {
   "cell_type": "code",
   "execution_count": null,
   "metadata": {},
   "outputs": [],
   "source": [
    "for i in range(0, len(sessionList)):\n",
    "    print(i)\n",
    "    session.insert1((399752, i, sessionList[i][86:90] + '-' + sessionList[i][91:93] + '-' + sessionList[i][92:94], 'daveliu', 'TRig1', sessionList[i]))\n",
    "    key=session.fetch('animal', 'session')\n",
    "    key1 = sessionList[i]\n",
    "    session._make_tuples([key[0][i], key[1][i]], key1)"
   ]
  },
  {
   "cell_type": "code",
   "execution_count": null,
   "metadata": {},
   "outputs": [],
   "source": [
    "session"
   ]
  },
  {
   "cell_type": "code",
   "execution_count": null,
   "metadata": {},
   "outputs": [],
   "source": [
    "ephys.Ephys()"
   ]
  },
  {
   "cell_type": "code",
   "execution_count": null,
   "metadata": {},
   "outputs": [],
   "source": []
  },
  {
   "cell_type": "code",
   "execution_count": null,
   "metadata": {},
   "outputs": [],
   "source": []
  },
  {
   "cell_type": "code",
   "execution_count": null,
   "metadata": {},
   "outputs": [],
   "source": [
    "trialNote = ephys.experiment.TrialNote()"
   ]
  },
  {
   "cell_type": "code",
   "execution_count": null,
   "metadata": {},
   "outputs": [],
   "source": [
    "import numpy as np"
   ]
  },
  {
   "cell_type": "code",
   "execution_count": null,
   "metadata": {},
   "outputs": [],
   "source": [
    "behaviorTrial = ephys.experiment.BehaviorTrial()"
   ]
  },
  {
   "cell_type": "code",
   "execution_count": null,
   "metadata": {},
   "outputs": [],
   "source": [
    "outcome = behaviorTrial.fetch('outcome', order_by='session')\n",
    "early_lick = behaviorTrial.fetch('early_lick', order_by='session')"
   ]
  },
  {
   "cell_type": "code",
   "execution_count": null,
   "metadata": {},
   "outputs": [],
   "source": [
    "data = np.zeros(len(outcome))\n",
    "data1 = np.zeros(len(early_lick))"
   ]
  },
  {
   "cell_type": "code",
   "execution_count": null,
   "metadata": {},
   "outputs": [],
   "source": [
    "data[outcome=='hit'] = 1\n",
    "data1[early_lick=='early'] = 1"
   ]
  },
  {
   "cell_type": "code",
   "execution_count": null,
   "metadata": {},
   "outputs": [],
   "source": [
    "trial_note = trialNote.fetch('trial_note', order_by='session')\n",
    "results = list(map(int, trial_note))\n",
    "protDiff = np.diff(results)\n",
    "protChange = np.where(protDiff != 0)"
   ]
  },
  {
   "cell_type": "code",
   "execution_count": null,
   "metadata": {},
   "outputs": [],
   "source": [
    "def movingaverage (values, window):\n",
    "    weights = np.repeat(1.0, window)/window\n",
    "    sma = np.convolve(values, weights, 'valid')\n",
    "    return sma"
   ]
  },
  {
   "cell_type": "code",
   "execution_count": null,
   "metadata": {},
   "outputs": [],
   "source": [
    "yMA = movingaverage(data,20)\n",
    "plt.plot(yMA)\n",
    "plt.xlabel('Trials')\n",
    "plt.ylabel('Proportion Correct')\n",
    "for i in range(0, len(protChange[0])):\n",
    "    plt.axvline(protChange[0][i], linewidth=4, color='r')"
   ]
  },
  {
   "cell_type": "code",
   "execution_count": null,
   "metadata": {},
   "outputs": [],
   "source": [
    "yMA = movingaverage(data1,20)\n",
    "plt.plot(yMA)\n",
    "plt.xlabel('Trials')\n",
    "plt.ylabel('Early Licks')\n",
    "for i in range(0, len(protChange[0])):\n",
    "    plt.axvline(protChange[0][i], linewidth=4, color='r')"
   ]
  },
  {
   "cell_type": "code",
   "execution_count": null,
   "metadata": {},
   "outputs": [],
   "source": [
    "ephys.experiment.ActionEvent()"
   ]
  },
  {
   "cell_type": "code",
   "execution_count": null,
   "metadata": {},
   "outputs": [],
   "source": []
  }
 ],
 "metadata": {
  "kernelspec": {
   "display_name": "Python 3",
   "language": "python",
   "name": "python3"
  },
  "language_info": {
   "codemirror_mode": {
    "name": "ipython",
    "version": 3
   },
   "file_extension": ".py",
   "mimetype": "text/x-python",
   "name": "python",
   "nbconvert_exporter": "python",
   "pygments_lexer": "ipython3",
   "version": "3.6.3"
  }
 },
 "nbformat": 4,
 "nbformat_minor": 2
}
