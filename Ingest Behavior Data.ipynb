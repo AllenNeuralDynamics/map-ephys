{
 "cells": [
  {
   "cell_type": "code",
   "execution_count": 1,
   "metadata": {},
   "outputs": [],
   "source": [
    "import datajoint as dj"
   ]
  },
  {
   "cell_type": "code",
   "execution_count": 2,
   "metadata": {},
   "outputs": [
    {
     "name": "stdout",
     "output_type": "stream",
     "text": [
      "Connecting daveliu@mesoscale-activity.datajoint.io:3306\n"
     ]
    }
   ],
   "source": [
    "import ephys\n",
    "import matplotlib.pyplot as plt\n",
    "%matplotlib inline"
   ]
  },
  {
   "cell_type": "code",
   "execution_count": null,
   "metadata": {},
   "outputs": [],
   "source": [
    "def dropdbs():\n",
    "   print('dropping databases')\n",
    "   for a in range(3):\n",
    "       for d in ['ingest', 'ccf', 'ephys', 'experiment', 'lab']:\n",
    "           try:\n",
    "               schema = dj.schema(dj.config['%s.database' % d], locals())\n",
    "               schema.drop(force=True)\n",
    "           except Exception as e:\n",
    "               print('error dropping {d} in attempt {a}: {e}'\n",
    "                     .format(d=d, a=a, e=str(e)))\n",
    "               pass"
   ]
  },
  {
   "cell_type": "code",
   "execution_count": null,
   "metadata": {},
   "outputs": [],
   "source": []
  },
  {
   "cell_type": "code",
   "execution_count": 3,
   "metadata": {},
   "outputs": [
    {
     "data": {
      "image/svg+xml": [
       "<svg height=\"311pt\" viewBox=\"0.00 0.00 436.18 311.00\" width=\"436pt\" xmlns=\"http://www.w3.org/2000/svg\" xmlns:xlink=\"http://www.w3.org/1999/xlink\">\n",
       "<g class=\"graph\" id=\"graph0\" transform=\"scale(1 1) rotate(0) translate(4 307)\">\n",
       "<polygon fill=\"white\" points=\"-4,4 -4,-307 432.18,-307 432.18,4 -4,4\" stroke=\"transparent\"/>\n",
       "<!-- ephys.Ephys.Spike -->\n",
       "<g class=\"node\" id=\"node1\">\n",
       "<title>ephys.Ephys.Spike</title>\n",
       "<polygon fill=\"transparent\" points=\"167.68,-19 66.68,-19 66.68,0 167.68,0 167.68,-19\" stroke=\"transparent\"/>\n",
       "<text font-family=\"arial\" font-size=\"10.00\" text-anchor=\"middle\" x=\"117.18\" y=\"-7\">ephys.Ephys.Spike</text>\n",
       "</g>\n",
       "<!-- ephys.ElectrodeGroup -->\n",
       "<g class=\"node\" id=\"node2\">\n",
       "<title>ephys.ElectrodeGroup</title>\n",
       "<polygon fill=\"#00ff00\" fill-opacity=\"0.188235\" points=\"149.68,-232 16.68,-232 16.68,-197 149.68,-197 149.68,-232\" stroke=\"#00ff00\" stroke-opacity=\"0.188235\"/>\n",
       "<text fill=\"darkgreen\" font-family=\"arial\" font-size=\"12.00\" text-anchor=\"middle\" x=\"83.18\" y=\"-211.4\">ephys.ElectrodeGroup</text>\n",
       "</g>\n",
       "<!-- ephys.ElectrodeGroup.Electrode -->\n",
       "<g class=\"node\" id=\"node3\">\n",
       "<title>ephys.ElectrodeGroup.Electrode</title>\n",
       "<polygon fill=\"transparent\" points=\"162.18,-153 4.18,-153 4.18,-134 162.18,-134 162.18,-153\" stroke=\"transparent\"/>\n",
       "<text font-family=\"arial\" font-size=\"10.00\" text-anchor=\"middle\" x=\"83.18\" y=\"-141\">ephys.ElectrodeGroup.Electrode</text>\n",
       "</g>\n",
       "<!-- ephys.ElectrodeGroup&#45;&gt;ephys.ElectrodeGroup.Electrode -->\n",
       "<g class=\"edge\" id=\"edge1\">\n",
       "<title>ephys.ElectrodeGroup-&gt;ephys.ElectrodeGroup.Electrode</title>\n",
       "<path d=\"M83.18,-196.8C83.18,-183.08 83.18,-164.19 83.18,-153.27\" fill=\"none\" stroke=\"#000000\" stroke-opacity=\"0.250980\" stroke-width=\"0.75\"/>\n",
       "</g>\n",
       "<!-- ephys.LabeledTrack -->\n",
       "<g class=\"node\" id=\"node7\">\n",
       "<title>ephys.LabeledTrack</title>\n",
       "<polygon fill=\"#00ff00\" fill-opacity=\"0.188235\" points=\"302.18,-161 180.18,-161 180.18,-126 302.18,-126 302.18,-161\" stroke=\"#00ff00\" stroke-opacity=\"0.188235\"/>\n",
       "<text fill=\"darkgreen\" font-family=\"arial\" font-size=\"12.00\" text-anchor=\"middle\" x=\"241.18\" y=\"-140.4\">ephys.LabeledTrack</text>\n",
       "</g>\n",
       "<!-- ephys.ElectrodeGroup&#45;&gt;ephys.LabeledTrack -->\n",
       "<g class=\"edge\" id=\"edge2\">\n",
       "<title>ephys.ElectrodeGroup-&gt;ephys.LabeledTrack</title>\n",
       "<path d=\"M121.02,-196.97C145.94,-186.09 178.45,-171.89 203.37,-161.01\" fill=\"none\" stroke=\"#000000\" stroke-opacity=\"0.250980\" stroke-width=\"2\"/>\n",
       "</g>\n",
       "<!-- ephys.Ephys -->\n",
       "<g class=\"node\" id=\"node10\">\n",
       "<title>ephys.Ephys</title>\n",
       "<ellipse cx=\"372.18\" cy=\"-143.5\" fill=\"#00007f\" fill-opacity=\"0.250980\" rx=\"51.75\" ry=\"17.5\" stroke=\"#00007f\" stroke-opacity=\"0.250980\"/>\n",
       "<text fill=\"#00007f\" fill-opacity=\"0.627451\" font-family=\"arial\" font-size=\"12.00\" text-anchor=\"middle\" x=\"372.18\" y=\"-140.4\">ephys.Ephys</text>\n",
       "</g>\n",
       "<!-- ephys.ElectrodeGroup&#45;&gt;ephys.Ephys -->\n",
       "<g class=\"edge\" id=\"edge3\">\n",
       "<title>ephys.ElectrodeGroup-&gt;ephys.Ephys</title>\n",
       "<path d=\"M149.68,-198.88C195.24,-188.7 256.99,-174.56 311.18,-161 318.41,-159.19 326.11,-157.18 333.51,-155.2\" fill=\"none\" stroke=\"#000000\" stroke-opacity=\"0.250980\" stroke-width=\"2\"/>\n",
       "</g>\n",
       "<!-- ephys.ElectrodeGroup.Electrode&#45;&gt;ephys.Ephys.Spike -->\n",
       "<g class=\"edge\" id=\"edge4\">\n",
       "<title>ephys.ElectrodeGroup.Electrode-&gt;ephys.Ephys.Spike</title>\n",
       "<path d=\"M60.34,-133.99C42,-125.79 17.52,-111.46 6.18,-90 -1.09,-76.25 -2.54,-67.88 6.18,-55 19.79,-34.88 44.14,-23.86 66.58,-17.82\" fill=\"none\" stroke=\"#000000\" stroke-dasharray=\"5,2\" stroke-opacity=\"0.250980\" stroke-width=\"0.75\"/>\n",
       "</g>\n",
       "<!-- ephys.ElectrodePosition -->\n",
       "<g class=\"node\" id=\"node9\">\n",
       "<title>ephys.ElectrodePosition</title>\n",
       "<polygon fill=\"#00ff00\" fill-opacity=\"0.188235\" points=\"158.68,-90 15.68,-90 15.68,-55 158.68,-55 158.68,-90\" stroke=\"#00ff00\" stroke-opacity=\"0.188235\"/>\n",
       "<text fill=\"darkgreen\" font-family=\"arial\" font-size=\"12.00\" text-anchor=\"middle\" x=\"87.18\" y=\"-69.4\">ephys.ElectrodePosition</text>\n",
       "</g>\n",
       "<!-- ephys.ElectrodeGroup.Electrode&#45;&gt;ephys.ElectrodePosition -->\n",
       "<g class=\"edge\" id=\"edge5\">\n",
       "<title>ephys.ElectrodeGroup.Electrode-&gt;ephys.ElectrodePosition</title>\n",
       "<path d=\"M83.68,-133.76C84.32,-122.81 85.42,-103.81 86.21,-90.07\" fill=\"none\" stroke=\"#000000\" stroke-opacity=\"0.250980\" stroke-width=\"2\"/>\n",
       "</g>\n",
       "<!-- ephys.Probe -->\n",
       "<g class=\"node\" id=\"node4\">\n",
       "<title>ephys.Probe</title>\n",
       "<polygon fill=\"#000000\" fill-opacity=\"0.125490\" points=\"118.68,-303 47.68,-303 47.68,-268 118.68,-268 118.68,-303\" stroke=\"transparent\"/>\n",
       "<text font-family=\"arial\" font-size=\"10.00\" text-anchor=\"middle\" x=\"83.18\" y=\"-283\">ephys.Probe</text>\n",
       "</g>\n",
       "<!-- ephys.Probe&#45;&gt;ephys.ElectrodeGroup -->\n",
       "<g class=\"edge\" id=\"edge6\">\n",
       "<title>ephys.Probe-&gt;ephys.ElectrodeGroup</title>\n",
       "<path d=\"M83.18,-267.8C83.18,-256.95 83.18,-242.87 83.18,-232.05\" fill=\"none\" stroke=\"#000000\" stroke-dasharray=\"5,2\" stroke-opacity=\"0.250980\" stroke-width=\"0.75\"/>\n",
       "</g>\n",
       "<!-- ephys.Ephys.TrialUnit -->\n",
       "<g class=\"node\" id=\"node5\">\n",
       "<title>ephys.Ephys.TrialUnit</title>\n",
       "<polygon fill=\"transparent\" points=\"428.18,-19 316.18,-19 316.18,0 428.18,0 428.18,-19\" stroke=\"transparent\"/>\n",
       "<text font-family=\"arial\" font-size=\"10.00\" text-anchor=\"middle\" x=\"372.18\" y=\"-7\">ephys.Ephys.TrialUnit</text>\n",
       "</g>\n",
       "<!-- ephys.LabeledTrack.Point -->\n",
       "<g class=\"node\" id=\"node6\">\n",
       "<title>ephys.LabeledTrack.Point</title>\n",
       "<polygon fill=\"transparent\" points=\"305.68,-82 176.68,-82 176.68,-63 305.68,-63 305.68,-82\" stroke=\"transparent\"/>\n",
       "<text font-family=\"arial\" font-size=\"10.00\" text-anchor=\"middle\" x=\"241.18\" y=\"-70\">ephys.LabeledTrack.Point</text>\n",
       "</g>\n",
       "<!-- ephys.LabeledTrack&#45;&gt;ephys.LabeledTrack.Point -->\n",
       "<g class=\"edge\" id=\"edge7\">\n",
       "<title>ephys.LabeledTrack-&gt;ephys.LabeledTrack.Point</title>\n",
       "<path d=\"M241.18,-125.8C241.18,-112.08 241.18,-93.19 241.18,-82.27\" fill=\"none\" stroke=\"#000000\" stroke-opacity=\"0.250980\" stroke-width=\"0.75\"/>\n",
       "</g>\n",
       "<!-- ephys.Ephys.Unit -->\n",
       "<g class=\"node\" id=\"node8\">\n",
       "<title>ephys.Ephys.Unit</title>\n",
       "<polygon fill=\"transparent\" points=\"419.18,-82 325.18,-82 325.18,-63 419.18,-63 419.18,-82\" stroke=\"transparent\"/>\n",
       "<text font-family=\"arial\" font-size=\"10.00\" text-anchor=\"middle\" x=\"372.18\" y=\"-70\">ephys.Ephys.Unit</text>\n",
       "</g>\n",
       "<!-- ephys.Ephys.Unit&#45;&gt;ephys.Ephys.Spike -->\n",
       "<g class=\"edge\" id=\"edge8\">\n",
       "<title>ephys.Ephys.Unit-&gt;ephys.Ephys.Spike</title>\n",
       "<path d=\"M343.85,-62.93C334.73,-60.27 324.55,-57.41 315.18,-55 261.43,-41.19 198.87,-27.53 158.69,-19.06\" fill=\"none\" stroke=\"#000000\" stroke-opacity=\"0.250980\" stroke-width=\"0.75\"/>\n",
       "</g>\n",
       "<!-- ephys.Ephys.Unit&#45;&gt;ephys.Ephys.TrialUnit -->\n",
       "<g class=\"edge\" id=\"edge9\">\n",
       "<title>ephys.Ephys.Unit-&gt;ephys.Ephys.TrialUnit</title>\n",
       "<path d=\"M372.18,-62.76C372.18,-51.16 372.18,-30.81 372.18,-19.22\" fill=\"none\" stroke=\"#000000\" stroke-opacity=\"0.250980\" stroke-width=\"0.75\"/>\n",
       "</g>\n",
       "<!-- ephys.Ephys&#45;&gt;ephys.Ephys.Unit -->\n",
       "<g class=\"edge\" id=\"edge10\">\n",
       "<title>ephys.Ephys-&gt;ephys.Ephys.Unit</title>\n",
       "<path d=\"M372.18,-125.8C372.18,-112.08 372.18,-93.19 372.18,-82.27\" fill=\"none\" stroke=\"#000000\" stroke-opacity=\"0.250980\" stroke-width=\"0.75\"/>\n",
       "</g>\n",
       "</g>\n",
       "</svg>"
      ],
      "text/plain": [
       "<datajoint.erd.ERD at 0x5c4bda0>"
      ]
     },
     "execution_count": 3,
     "metadata": {},
     "output_type": "execute_result"
    }
   ],
   "source": [
    "dj.ERD(ephys)"
   ]
  },
  {
   "cell_type": "code",
   "execution_count": 4,
   "metadata": {},
   "outputs": [
    {
     "data": {
      "text/html": [
       "\n",
       "        \n",
       "        <style type=\"text/css\">\n",
       "            .Relation{\n",
       "                border-collapse:collapse;\n",
       "            }\n",
       "            .Relation th{\n",
       "                background: #A0A0A0; color: #ffffff; padding:4px; border:#f0e0e0 1px solid;\n",
       "                font-weight: normal; font-family: monospace; font-size: 75%;\n",
       "            }\n",
       "            .Relation td{\n",
       "                padding:4px; border:#f0e0e0 1px solid; font-size:75%;\n",
       "            }\n",
       "            .Relation tr:nth-child(odd){\n",
       "                background: #ffffff;\n",
       "            }\n",
       "            .Relation tr:nth-child(even){\n",
       "                background: #f3f1ff;\n",
       "            }\n",
       "            /* Tooltip container */\n",
       "            .djtooltip {\n",
       "            }\n",
       "\n",
       "            /* Tooltip text */\n",
       "            .djtooltip .djtooltiptext {\n",
       "                visibility: hidden;\n",
       "                width: 120px;\n",
       "                background-color: black;\n",
       "                color: #fff;\n",
       "                text-align: center;\n",
       "                padding: 5px 0;\n",
       "                border-radius: 6px;\n",
       "\n",
       "                /* Position the tooltip text - see examples below! */\n",
       "                position: absolute;\n",
       "                z-index: 1;\n",
       "            }\n",
       "\n",
       "\n",
       "            #primary {\n",
       "                font-weight: bold;\n",
       "                color: black;\n",
       "            }\n",
       "\n",
       "            #nonprimary {\n",
       "                font-weight: normal;\n",
       "                color: white;\n",
       "            }\n",
       "\n",
       "            /* Show the tooltip text when you mouse over the tooltip container */\n",
       "            .djtooltip:hover .djtooltiptext {\n",
       "                visibility: visible;\n",
       "            }\n",
       "        </style>\n",
       "        \n",
       "        <b></b>\n",
       "            <div style=\"max-height:1000px;max-width:1500px;overflow:auto;\">\n",
       "            <table border=\"1\" class=\"Relation\">\n",
       "                <thead> <tr style=\"text-align: right;\"> <th> <div class=\"djtooltip\">\n",
       "                                <p id=\"primary\">animal</p>\n",
       "                                <span class=\"djtooltiptext\">Janelia ANM ID (6 digits)</span>\n",
       "                            </div></th><th><div class=\"djtooltip\">\n",
       "                                <p id=\"nonprimary\">dob</p>\n",
       "                                <span class=\"djtooltiptext\"></span>\n",
       "                            </div> </th> </tr> </thead>\n",
       "                <tbody> <tr> <td>123456</td>\n",
       "<td>2017-08-01</td> </tr> </tbody>\n",
       "            </table>\n",
       "            \n",
       "            <p>1 tuples</p></div>\n",
       "            "
      ],
      "text/plain": [
       "*animal    dob           \n",
       "+--------+ +------------+\n",
       "123456     2017-08-01    \n",
       " (1 tuples)"
      ]
     },
     "execution_count": 4,
     "metadata": {},
     "output_type": "execute_result"
    }
   ],
   "source": [
    "mouse=ephys.experiment.lab.Animal()\n",
    "#mouse.insert1((399752, '2017-8-1'))\n",
    "mouse.insert1((123456, '2017-8-1'))\n",
    "#mouse.insert1((400483, '2017-8-1'))\n",
    "#mouse.insert1((400482, '2017-8-1'))\n",
    "mouse"
   ]
  },
  {
   "cell_type": "code",
   "execution_count": 5,
   "metadata": {
    "scrolled": true
   },
   "outputs": [
    {
     "data": {
      "text/html": [
       "\n",
       "        \n",
       "        <style type=\"text/css\">\n",
       "            .Relation{\n",
       "                border-collapse:collapse;\n",
       "            }\n",
       "            .Relation th{\n",
       "                background: #A0A0A0; color: #ffffff; padding:4px; border:#f0e0e0 1px solid;\n",
       "                font-weight: normal; font-family: monospace; font-size: 75%;\n",
       "            }\n",
       "            .Relation td{\n",
       "                padding:4px; border:#f0e0e0 1px solid; font-size:75%;\n",
       "            }\n",
       "            .Relation tr:nth-child(odd){\n",
       "                background: #ffffff;\n",
       "            }\n",
       "            .Relation tr:nth-child(even){\n",
       "                background: #f3f1ff;\n",
       "            }\n",
       "            /* Tooltip container */\n",
       "            .djtooltip {\n",
       "            }\n",
       "\n",
       "            /* Tooltip text */\n",
       "            .djtooltip .djtooltiptext {\n",
       "                visibility: hidden;\n",
       "                width: 120px;\n",
       "                background-color: black;\n",
       "                color: #fff;\n",
       "                text-align: center;\n",
       "                padding: 5px 0;\n",
       "                border-radius: 6px;\n",
       "\n",
       "                /* Position the tooltip text - see examples below! */\n",
       "                position: absolute;\n",
       "                z-index: 1;\n",
       "            }\n",
       "\n",
       "\n",
       "            #primary {\n",
       "                font-weight: bold;\n",
       "                color: black;\n",
       "            }\n",
       "\n",
       "            #nonprimary {\n",
       "                font-weight: normal;\n",
       "                color: white;\n",
       "            }\n",
       "\n",
       "            /* Show the tooltip text when you mouse over the tooltip container */\n",
       "            .djtooltip:hover .djtooltiptext {\n",
       "                visibility: visible;\n",
       "            }\n",
       "        </style>\n",
       "        \n",
       "        <b></b>\n",
       "            <div style=\"max-height:1000px;max-width:1500px;overflow:auto;\">\n",
       "            <table border=\"1\" class=\"Relation\">\n",
       "                <thead> <tr style=\"text-align: right;\"> <th> <div class=\"djtooltip\">\n",
       "                                <p id=\"primary\">username</p>\n",
       "                                <span class=\"djtooltiptext\"></span>\n",
       "                            </div></th><th><div class=\"djtooltip\">\n",
       "                                <p id=\"nonprimary\">fullname</p>\n",
       "                                <span class=\"djtooltiptext\"></span>\n",
       "                            </div> </th> </tr> </thead>\n",
       "                <tbody> <tr> <td>daveliu</td>\n",
       "<td>Dave Liu</td> </tr> </tbody>\n",
       "            </table>\n",
       "            \n",
       "            <p>1 tuples</p></div>\n",
       "            "
      ],
      "text/plain": [
       "*username    fullname    \n",
       "+----------+ +----------+\n",
       "daveliu      Dave Liu    \n",
       " (1 tuples)"
      ]
     },
     "execution_count": 5,
     "metadata": {},
     "output_type": "execute_result"
    }
   ],
   "source": [
    "person=ephys.experiment.lab.Person()\n",
    "person.insert1(('daveliu', 'Dave Liu'))\n",
    "person"
   ]
  },
  {
   "cell_type": "code",
   "execution_count": 6,
   "metadata": {},
   "outputs": [
    {
     "data": {
      "text/html": [
       "\n",
       "        \n",
       "        <style type=\"text/css\">\n",
       "            .Relation{\n",
       "                border-collapse:collapse;\n",
       "            }\n",
       "            .Relation th{\n",
       "                background: #A0A0A0; color: #ffffff; padding:4px; border:#f0e0e0 1px solid;\n",
       "                font-weight: normal; font-family: monospace; font-size: 75%;\n",
       "            }\n",
       "            .Relation td{\n",
       "                padding:4px; border:#f0e0e0 1px solid; font-size:75%;\n",
       "            }\n",
       "            .Relation tr:nth-child(odd){\n",
       "                background: #ffffff;\n",
       "            }\n",
       "            .Relation tr:nth-child(even){\n",
       "                background: #f3f1ff;\n",
       "            }\n",
       "            /* Tooltip container */\n",
       "            .djtooltip {\n",
       "            }\n",
       "\n",
       "            /* Tooltip text */\n",
       "            .djtooltip .djtooltiptext {\n",
       "                visibility: hidden;\n",
       "                width: 120px;\n",
       "                background-color: black;\n",
       "                color: #fff;\n",
       "                text-align: center;\n",
       "                padding: 5px 0;\n",
       "                border-radius: 6px;\n",
       "\n",
       "                /* Position the tooltip text - see examples below! */\n",
       "                position: absolute;\n",
       "                z-index: 1;\n",
       "            }\n",
       "\n",
       "\n",
       "            #primary {\n",
       "                font-weight: bold;\n",
       "                color: black;\n",
       "            }\n",
       "\n",
       "            #nonprimary {\n",
       "                font-weight: normal;\n",
       "                color: white;\n",
       "            }\n",
       "\n",
       "            /* Show the tooltip text when you mouse over the tooltip container */\n",
       "            .djtooltip:hover .djtooltiptext {\n",
       "                visibility: visible;\n",
       "            }\n",
       "        </style>\n",
       "        \n",
       "        <b></b>\n",
       "            <div style=\"max-height:1000px;max-width:1500px;overflow:auto;\">\n",
       "            <table border=\"1\" class=\"Relation\">\n",
       "                <thead> <tr style=\"text-align: right;\"> <th> <div class=\"djtooltip\">\n",
       "                                <p id=\"primary\">rig</p>\n",
       "                                <span class=\"djtooltiptext\"></span>\n",
       "                            </div></th><th><div class=\"djtooltip\">\n",
       "                                <p id=\"nonprimary\">rig_description</p>\n",
       "                                <span class=\"djtooltiptext\"></span>\n",
       "                            </div> </th> </tr> </thead>\n",
       "                <tbody> <tr> <td>RRig</td>\n",
       "<td>Recording rig</td> </tr> </tbody>\n",
       "            </table>\n",
       "            \n",
       "            <p>1 tuples</p></div>\n",
       "            "
      ],
      "text/plain": [
       "*rig     rig_descriptio\n",
       "+------+ +------------+\n",
       "RRig     Recording rig \n",
       " (1 tuples)"
      ]
     },
     "execution_count": 6,
     "metadata": {},
     "output_type": "execute_result"
    }
   ],
   "source": [
    "rig=ephys.experiment.lab.Rig()\n",
    "#rig.insert1(('TRig3', 'Training rig 3'))\n",
    "#rig.insert1(('TRig2', 'Training rig 2'))\n",
    "#rig.insert1(('TRig1', 'Training rig 1'))\n",
    "rig.insert1(('RRig', 'Recording rig'))\n",
    "rig"
   ]
  },
  {
   "cell_type": "code",
   "execution_count": 7,
   "metadata": {},
   "outputs": [
    {
     "data": {
      "text/html": [
       "\n",
       "        \n",
       "        <style type=\"text/css\">\n",
       "            .Relation{\n",
       "                border-collapse:collapse;\n",
       "            }\n",
       "            .Relation th{\n",
       "                background: #A0A0A0; color: #ffffff; padding:4px; border:#f0e0e0 1px solid;\n",
       "                font-weight: normal; font-family: monospace; font-size: 75%;\n",
       "            }\n",
       "            .Relation td{\n",
       "                padding:4px; border:#f0e0e0 1px solid; font-size:75%;\n",
       "            }\n",
       "            .Relation tr:nth-child(odd){\n",
       "                background: #ffffff;\n",
       "            }\n",
       "            .Relation tr:nth-child(even){\n",
       "                background: #f3f1ff;\n",
       "            }\n",
       "            /* Tooltip container */\n",
       "            .djtooltip {\n",
       "            }\n",
       "\n",
       "            /* Tooltip text */\n",
       "            .djtooltip .djtooltiptext {\n",
       "                visibility: hidden;\n",
       "                width: 120px;\n",
       "                background-color: black;\n",
       "                color: #fff;\n",
       "                text-align: center;\n",
       "                padding: 5px 0;\n",
       "                border-radius: 6px;\n",
       "\n",
       "                /* Position the tooltip text - see examples below! */\n",
       "                position: absolute;\n",
       "                z-index: 1;\n",
       "            }\n",
       "\n",
       "\n",
       "            #primary {\n",
       "                font-weight: bold;\n",
       "                color: black;\n",
       "            }\n",
       "\n",
       "            #nonprimary {\n",
       "                font-weight: normal;\n",
       "                color: white;\n",
       "            }\n",
       "\n",
       "            /* Show the tooltip text when you mouse over the tooltip container */\n",
       "            .djtooltip:hover .djtooltiptext {\n",
       "                visibility: visible;\n",
       "            }\n",
       "        </style>\n",
       "        \n",
       "        <b></b>\n",
       "            <div style=\"max-height:1000px;max-width:1500px;overflow:auto;\">\n",
       "            <table border=\"1\" class=\"Relation\">\n",
       "                <thead> <tr style=\"text-align: right;\"> <th> <div class=\"djtooltip\">\n",
       "                                <p id=\"primary\">animal</p>\n",
       "                                <span class=\"djtooltiptext\">Janelia ANM ID (6 digits)</span>\n",
       "                            </div></th><th><div class=\"djtooltip\">\n",
       "                                <p id=\"primary\">water_restriction</p>\n",
       "                                <span class=\"djtooltiptext\">water restriction number</span>\n",
       "                            </div> </th> </tr> </thead>\n",
       "                <tbody> <tr> <td>123456</td>\n",
       "<td>tw5</td> </tr> </tbody>\n",
       "            </table>\n",
       "            \n",
       "            <p>1 tuples</p></div>\n",
       "            "
      ],
      "text/plain": [
       "*animal    *water_restric\n",
       "+--------+ +------------+\n",
       "123456     tw5           \n",
       " (1 tuples)"
      ]
     },
     "execution_count": 7,
     "metadata": {},
     "output_type": "execute_result"
    }
   ],
   "source": [
    "animalWaterRestriction=ephys.experiment.lab.AnimalWaterRestriction()\n",
    "animalWaterRestriction.insert1((123456, 'tw5'))\n",
    "#animalWaterRestriction.insert1((399752, 'dl7'))\n",
    "#animalWaterRestriction.insert1((400483, 'dl8'))\n",
    "#animalWaterRestriction.insert1((400482, 'dl9'))\n",
    "animalWaterRestriction"
   ]
  },
  {
   "cell_type": "code",
   "execution_count": 8,
   "metadata": {},
   "outputs": [
    {
     "data": {
      "image/svg+xml": [
       "<svg height=\"256pt\" viewBox=\"0.00 0.00 1501.50 256.00\" width=\"1502pt\" xmlns=\"http://www.w3.org/2000/svg\" xmlns:xlink=\"http://www.w3.org/1999/xlink\">\n",
       "<g class=\"graph\" id=\"graph0\" transform=\"scale(1 1) rotate(0) translate(4 252)\">\n",
       "<polygon fill=\"white\" points=\"-4,4 -4,-252 1497.5,-252 1497.5,4 -4,4\" stroke=\"transparent\"/>\n",
       "<!-- ephys.experiment.Photostim.Profile -->\n",
       "<g class=\"node\" id=\"node1\">\n",
       "<title>ephys.experiment.Photostim.Profile</title>\n",
       "<polygon fill=\"transparent\" points=\"171,-27 0,-27 0,-8 171,-8 171,-27\" stroke=\"transparent\"/>\n",
       "<text font-family=\"arial\" font-size=\"10.00\" text-anchor=\"middle\" x=\"85.5\" y=\"-15\">ephys.experiment.Photostim.Profile</text>\n",
       "</g>\n",
       "<!-- ephys.experiment.Tracking -->\n",
       "<g class=\"node\" id=\"node2\">\n",
       "<title>ephys.experiment.Tracking</title>\n",
       "<ellipse cx=\"271.5\" cy=\"-88.5\" fill=\"#00007f\" fill-opacity=\"0.250980\" rx=\"97.5\" ry=\"17.5\" stroke=\"#00007f\" stroke-opacity=\"0.250980\"/>\n",
       "<text fill=\"#00007f\" fill-opacity=\"0.627451\" font-family=\"arial\" font-size=\"12.00\" text-anchor=\"middle\" x=\"271.5\" y=\"-85.4\">ephys.experiment.Tracking</text>\n",
       "</g>\n",
       "<!-- ephys.experiment.BehaviorTrial -->\n",
       "<g class=\"node\" id=\"node3\">\n",
       "<title>ephys.experiment.BehaviorTrial</title>\n",
       "<polygon fill=\"#00ff00\" fill-opacity=\"0.188235\" points=\"1181.5,-106 1001.5,-106 1001.5,-71 1181.5,-71 1181.5,-106\" stroke=\"#00ff00\" stroke-opacity=\"0.188235\"/>\n",
       "<text fill=\"darkgreen\" font-family=\"arial\" font-size=\"12.00\" text-anchor=\"middle\" x=\"1091.5\" y=\"-85.4\">ephys.experiment.BehaviorTrial</text>\n",
       "</g>\n",
       "<!-- ephys.experiment.ActionEvent -->\n",
       "<g class=\"node\" id=\"node8\">\n",
       "<title>ephys.experiment.ActionEvent</title>\n",
       "<polygon fill=\"#00ff00\" fill-opacity=\"0.188235\" points=\"1106,-35 933,-35 933,0 1106,0 1106,-35\" stroke=\"#00ff00\" stroke-opacity=\"0.188235\"/>\n",
       "<text fill=\"darkgreen\" font-family=\"arial\" font-size=\"12.00\" text-anchor=\"middle\" x=\"1019.5\" y=\"-14.4\">ephys.experiment.ActionEvent</text>\n",
       "</g>\n",
       "<!-- ephys.experiment.BehaviorTrial&#45;&gt;ephys.experiment.ActionEvent -->\n",
       "<g class=\"edge\" id=\"edge1\">\n",
       "<title>ephys.experiment.BehaviorTrial-&gt;ephys.experiment.ActionEvent</title>\n",
       "<path d=\"M1074.07,-70.8C1062.75,-59.95 1048.06,-45.87 1036.77,-35.05\" fill=\"none\" stroke=\"#000000\" stroke-opacity=\"0.250980\" stroke-width=\"0.75\"/>\n",
       "</g>\n",
       "<!-- ephys.experiment.TrialEvent -->\n",
       "<g class=\"node\" id=\"node14\">\n",
       "<title>ephys.experiment.TrialEvent</title>\n",
       "<polygon fill=\"#00ff00\" fill-opacity=\"0.188235\" points=\"1324,-35 1161,-35 1161,0 1324,0 1324,-35\" stroke=\"#00ff00\" stroke-opacity=\"0.188235\"/>\n",
       "<text fill=\"darkgreen\" font-family=\"arial\" font-size=\"12.00\" text-anchor=\"middle\" x=\"1242.5\" y=\"-14.4\">ephys.experiment.TrialEvent</text>\n",
       "</g>\n",
       "<!-- ephys.experiment.BehaviorTrial&#45;&gt;ephys.experiment.TrialEvent -->\n",
       "<g class=\"edge\" id=\"edge2\">\n",
       "<title>ephys.experiment.BehaviorTrial-&gt;ephys.experiment.TrialEvent</title>\n",
       "<path d=\"M1127.67,-70.97C1151.49,-60.09 1182.55,-45.89 1206.37,-35.01\" fill=\"none\" stroke=\"#000000\" stroke-opacity=\"0.250980\" stroke-width=\"0.75\"/>\n",
       "</g>\n",
       "<!-- ephys.experiment.EarlyLick -->\n",
       "<g class=\"node\" id=\"node4\">\n",
       "<title>ephys.experiment.EarlyLick</title>\n",
       "<polygon fill=\"#000000\" fill-opacity=\"0.125490\" points=\"1160,-177 1023,-177 1023,-142 1160,-142 1160,-177\" stroke=\"transparent\"/>\n",
       "<text font-family=\"arial\" font-size=\"10.00\" text-anchor=\"middle\" x=\"1091.5\" y=\"-157\">ephys.experiment.EarlyLick</text>\n",
       "</g>\n",
       "<!-- ephys.experiment.EarlyLick&#45;&gt;ephys.experiment.BehaviorTrial -->\n",
       "<g class=\"edge\" id=\"edge3\">\n",
       "<title>ephys.experiment.EarlyLick-&gt;ephys.experiment.BehaviorTrial</title>\n",
       "<path d=\"M1091.5,-141.8C1091.5,-130.95 1091.5,-116.87 1091.5,-106.05\" fill=\"none\" stroke=\"#000000\" stroke-dasharray=\"5,2\" stroke-opacity=\"0.250980\" stroke-width=\"0.75\"/>\n",
       "</g>\n",
       "<!-- ephys.experiment.TaskTraining -->\n",
       "<g class=\"node\" id=\"node5\">\n",
       "<title>ephys.experiment.TaskTraining</title>\n",
       "<polygon fill=\"#00ff00\" fill-opacity=\"0.188235\" points=\"966,-177 787,-177 787,-142 966,-142 966,-177\" stroke=\"#00ff00\" stroke-opacity=\"0.188235\"/>\n",
       "<text fill=\"darkgreen\" font-family=\"arial\" font-size=\"12.00\" text-anchor=\"middle\" x=\"876.5\" y=\"-156.4\">ephys.experiment.TaskTraining</text>\n",
       "</g>\n",
       "<!-- ephys.experiment.Session -->\n",
       "<g class=\"node\" id=\"node6\">\n",
       "<title>ephys.experiment.Session</title>\n",
       "<polygon fill=\"#00ff00\" fill-opacity=\"0.188235\" points=\"594.5,-248 440.5,-248 440.5,-213 594.5,-213 594.5,-248\" stroke=\"#00ff00\" stroke-opacity=\"0.188235\"/>\n",
       "<text fill=\"darkgreen\" font-family=\"arial\" font-size=\"12.00\" text-anchor=\"middle\" x=\"517.5\" y=\"-227.4\">ephys.experiment.Session</text>\n",
       "</g>\n",
       "<!-- ephys.experiment.Session&#45;&gt;ephys.experiment.TaskTraining -->\n",
       "<g class=\"edge\" id=\"edge4\">\n",
       "<title>ephys.experiment.Session-&gt;ephys.experiment.TaskTraining</title>\n",
       "<path d=\"M594.51,-214.7C652.1,-203.63 730.85,-188.49 790.49,-177.03\" fill=\"none\" stroke=\"#000000\" stroke-opacity=\"0.250980\" stroke-width=\"0.75\"/>\n",
       "</g>\n",
       "<!-- ephys.experiment.Session.Trial -->\n",
       "<g class=\"node\" id=\"node13\">\n",
       "<title>ephys.experiment.Session.Trial</title>\n",
       "<polygon fill=\"transparent\" points=\"594,-169 441,-169 441,-150 594,-150 594,-169\" stroke=\"transparent\"/>\n",
       "<text font-family=\"arial\" font-size=\"10.00\" text-anchor=\"middle\" x=\"517.5\" y=\"-157\">ephys.experiment.Session.Trial</text>\n",
       "</g>\n",
       "<!-- ephys.experiment.Session&#45;&gt;ephys.experiment.Session.Trial -->\n",
       "<g class=\"edge\" id=\"edge5\">\n",
       "<title>ephys.experiment.Session-&gt;ephys.experiment.Session.Trial</title>\n",
       "<path d=\"M517.5,-212.8C517.5,-199.08 517.5,-180.19 517.5,-169.27\" fill=\"none\" stroke=\"#000000\" stroke-opacity=\"0.250980\" stroke-width=\"0.75\"/>\n",
       "</g>\n",
       "<!-- ephys.experiment.PhotostimDevice -->\n",
       "<g class=\"node\" id=\"node7\">\n",
       "<title>ephys.experiment.PhotostimDevice</title>\n",
       "<polygon fill=\"#000000\" fill-opacity=\"0.125490\" points=\"170.5,-177 0.5,-177 0.5,-142 170.5,-142 170.5,-177\" stroke=\"transparent\"/>\n",
       "<text font-family=\"arial\" font-size=\"10.00\" text-anchor=\"middle\" x=\"85.5\" y=\"-157\">ephys.experiment.PhotostimDevice</text>\n",
       "</g>\n",
       "<!-- ephys.experiment.Photostim -->\n",
       "<g class=\"node\" id=\"node15\">\n",
       "<title>ephys.experiment.Photostim</title>\n",
       "<polygon fill=\"#000000\" fill-opacity=\"0.125490\" points=\"156,-106 15,-106 15,-71 156,-71 156,-106\" stroke=\"transparent\"/>\n",
       "<text font-family=\"arial\" font-size=\"10.00\" text-anchor=\"middle\" x=\"85.5\" y=\"-86\">ephys.experiment.Photostim</text>\n",
       "</g>\n",
       "<!-- ephys.experiment.PhotostimDevice&#45;&gt;ephys.experiment.Photostim -->\n",
       "<g class=\"edge\" id=\"edge6\">\n",
       "<title>ephys.experiment.PhotostimDevice-&gt;ephys.experiment.Photostim</title>\n",
       "<path d=\"M85.5,-141.8C85.5,-130.95 85.5,-116.87 85.5,-106.05\" fill=\"none\" stroke=\"#000000\" stroke-opacity=\"0.250980\" stroke-width=\"0.75\"/>\n",
       "</g>\n",
       "<!-- ephys.experiment.PhotostimTrial.Event -->\n",
       "<g class=\"node\" id=\"node9\">\n",
       "<title>ephys.experiment.PhotostimTrial.Event</title>\n",
       "<polygon fill=\"transparent\" points=\"596.5,-27 410.5,-27 410.5,-8 596.5,-8 596.5,-27\" stroke=\"transparent\"/>\n",
       "<text font-family=\"arial\" font-size=\"10.00\" text-anchor=\"middle\" x=\"503.5\" y=\"-15\">ephys.experiment.PhotostimTrial.Event</text>\n",
       "</g>\n",
       "<!-- ephys.experiment.PassivePhotostimTrial -->\n",
       "<g class=\"node\" id=\"node10\">\n",
       "<title>ephys.experiment.PassivePhotostimTrial</title>\n",
       "<ellipse cx=\"728.5\" cy=\"-17.5\" fill=\"#ff0000\" fill-opacity=\"0.125490\" rx=\"13\" ry=\"13\" stroke=\"#ff0000\" stroke-opacity=\"0.125490\"/>\n",
       "<text fill=\"#7f0000\" fill-opacity=\"0.627451\" font-family=\"arial\" font-size=\"12.00\" text-anchor=\"middle\" x=\"728.5\" y=\"-14.4\">ephys.experiment.PassivePhotostimTrial</text>\n",
       "</g>\n",
       "<!-- ephys.experiment.Task -->\n",
       "<g class=\"node\" id=\"node11\">\n",
       "<title>ephys.experiment.Task</title>\n",
       "<polygon fill=\"#000000\" fill-opacity=\"0.125490\" points=\"994.5,-248 876.5,-248 876.5,-213 994.5,-213 994.5,-248\" stroke=\"transparent\"/>\n",
       "<text font-family=\"arial\" font-size=\"10.00\" text-anchor=\"middle\" x=\"935.5\" y=\"-228\">ephys.experiment.Task</text>\n",
       "</g>\n",
       "<!-- ephys.experiment.Task&#45;&gt;ephys.experiment.BehaviorTrial -->\n",
       "<g class=\"edge\" id=\"edge7\">\n",
       "<title>ephys.experiment.Task-&gt;ephys.experiment.BehaviorTrial</title>\n",
       "<path d=\"M948.43,-212.94C963.28,-194.5 988.9,-164.34 1014.5,-142 1029.74,-128.7 1048.45,-115.88 1063.62,-106.23\" fill=\"none\" stroke=\"#000000\" stroke-dasharray=\"5,2\" stroke-opacity=\"0.250980\" stroke-width=\"0.75\"/>\n",
       "</g>\n",
       "<!-- ephys.experiment.Task&#45;&gt;ephys.experiment.TaskTraining -->\n",
       "<g class=\"edge\" id=\"edge8\">\n",
       "<title>ephys.experiment.Task-&gt;ephys.experiment.TaskTraining</title>\n",
       "<path d=\"M921.22,-212.8C911.94,-201.95 899.9,-187.87 890.65,-177.05\" fill=\"none\" stroke=\"#000000\" stroke-opacity=\"0.250980\" stroke-width=\"0.75\"/>\n",
       "</g>\n",
       "<!-- ephys.experiment.PhotostimTrial -->\n",
       "<g class=\"node\" id=\"node12\">\n",
       "<title>ephys.experiment.PhotostimTrial</title>\n",
       "<ellipse cx=\"503.5\" cy=\"-88.5\" fill=\"#00007f\" fill-opacity=\"0.250980\" rx=\"116\" ry=\"17.5\" stroke=\"#00007f\" stroke-opacity=\"0.250980\"/>\n",
       "<text fill=\"#00007f\" fill-opacity=\"0.627451\" font-family=\"arial\" font-size=\"12.00\" text-anchor=\"middle\" x=\"503.5\" y=\"-85.4\">ephys.experiment.PhotostimTrial</text>\n",
       "</g>\n",
       "<!-- ephys.experiment.PhotostimTrial&#45;&gt;ephys.experiment.PhotostimTrial.Event -->\n",
       "<g class=\"edge\" id=\"edge9\">\n",
       "<title>ephys.experiment.PhotostimTrial-&gt;ephys.experiment.PhotostimTrial.Event</title>\n",
       "<path d=\"M503.5,-70.8C503.5,-57.08 503.5,-38.19 503.5,-27.27\" fill=\"none\" stroke=\"#000000\" stroke-opacity=\"0.250980\" stroke-width=\"0.75\"/>\n",
       "</g>\n",
       "<!-- ephys.experiment.PhotostimTrial&#45;&gt;ephys.experiment.PassivePhotostimTrial -->\n",
       "<g class=\"edge\" id=\"edge10\">\n",
       "<title>ephys.experiment.PhotostimTrial-&gt;ephys.experiment.PassivePhotostimTrial</title>\n",
       "<path d=\"M552.32,-72.53C605.05,-56.36 685.62,-31.65 716.17,-22.28\" fill=\"none\" stroke=\"#000000\" stroke-opacity=\"0.250980\" stroke-width=\"2\"/>\n",
       "</g>\n",
       "<!-- ephys.experiment.Session.Trial&#45;&gt;ephys.experiment.Tracking -->\n",
       "<g class=\"edge\" id=\"edge11\">\n",
       "<title>ephys.experiment.Session.Trial-&gt;ephys.experiment.Tracking</title>\n",
       "<path d=\"M486.84,-149.9C445.5,-138.3 371.35,-117.51 321.78,-103.6\" fill=\"none\" stroke=\"#000000\" stroke-opacity=\"0.250980\" stroke-width=\"0.75\"/>\n",
       "</g>\n",
       "<!-- ephys.experiment.Session.Trial&#45;&gt;ephys.experiment.BehaviorTrial -->\n",
       "<g class=\"edge\" id=\"edge12\">\n",
       "<title>ephys.experiment.Session.Trial-&gt;ephys.experiment.BehaviorTrial</title>\n",
       "<path d=\"M557.62,-149.96C572.03,-147.12 588.45,-144.14 603.5,-142 775.41,-117.61 820.31,-128.29 992.5,-106 995.44,-105.62 998.42,-105.22 1001.43,-104.8\" fill=\"none\" stroke=\"#000000\" stroke-opacity=\"0.250980\" stroke-width=\"2\"/>\n",
       "</g>\n",
       "<!-- ephys.experiment.Session.Trial&#45;&gt;ephys.experiment.PhotostimTrial -->\n",
       "<g class=\"edge\" id=\"edge13\">\n",
       "<title>ephys.experiment.Session.Trial-&gt;ephys.experiment.PhotostimTrial</title>\n",
       "<path d=\"M515.73,-149.76C513.5,-138.81 509.65,-119.81 506.86,-106.07\" fill=\"none\" stroke=\"#000000\" stroke-opacity=\"0.250980\" stroke-width=\"2\"/>\n",
       "</g>\n",
       "<!-- ephys.experiment.TrialNote -->\n",
       "<g class=\"node\" id=\"node17\">\n",
       "<title>ephys.experiment.TrialNote</title>\n",
       "<polygon fill=\"#00ff00\" fill-opacity=\"0.188235\" points=\"983.5,-106 825.5,-106 825.5,-71 983.5,-71 983.5,-106\" stroke=\"#00ff00\" stroke-opacity=\"0.188235\"/>\n",
       "<text fill=\"darkgreen\" font-family=\"arial\" font-size=\"12.00\" text-anchor=\"middle\" x=\"904.5\" y=\"-85.4\">ephys.experiment.TrialNote</text>\n",
       "</g>\n",
       "<!-- ephys.experiment.Session.Trial&#45;&gt;ephys.experiment.TrialNote -->\n",
       "<g class=\"edge\" id=\"edge14\">\n",
       "<title>ephys.experiment.Session.Trial-&gt;ephys.experiment.TrialNote</title>\n",
       "<path d=\"M561.22,-149.92C574.76,-147.31 589.74,-144.48 603.5,-142 697.98,-124.95 721.98,-122.85 816.5,-106 819.41,-105.48 822.37,-104.95 825.36,-104.41\" fill=\"none\" stroke=\"#000000\" stroke-opacity=\"0.250980\" stroke-width=\"0.75\"/>\n",
       "</g>\n",
       "<!-- ephys.experiment.Photostim&#45;&gt;ephys.experiment.Photostim.Profile -->\n",
       "<g class=\"edge\" id=\"edge15\">\n",
       "<title>ephys.experiment.Photostim-&gt;ephys.experiment.Photostim.Profile</title>\n",
       "<path d=\"M85.5,-70.8C85.5,-57.08 85.5,-38.19 85.5,-27.27\" fill=\"none\" stroke=\"#000000\" stroke-opacity=\"0.250980\" stroke-width=\"0.75\"/>\n",
       "</g>\n",
       "<!-- ephys.experiment.Photostim&#45;&gt;ephys.experiment.PhotostimTrial.Event -->\n",
       "<g class=\"edge\" id=\"edge16\">\n",
       "<title>ephys.experiment.Photostim-&gt;ephys.experiment.PhotostimTrial.Event</title>\n",
       "<path d=\"M156.1,-72.56C158.93,-72.02 161.74,-71.5 164.5,-71 261.18,-53.43 374.06,-36.7 442.1,-27.02\" fill=\"none\" stroke=\"#000000\" stroke-opacity=\"0.250980\" stroke-width=\"0.75\"/>\n",
       "</g>\n",
       "<!-- ephys.experiment.TrackingDevice -->\n",
       "<g class=\"node\" id=\"node16\">\n",
       "<title>ephys.experiment.TrackingDevice</title>\n",
       "<polygon fill=\"#000000\" fill-opacity=\"0.125490\" points=\"352.5,-177 190.5,-177 190.5,-142 352.5,-142 352.5,-177\" stroke=\"transparent\"/>\n",
       "<text font-family=\"arial\" font-size=\"10.00\" text-anchor=\"middle\" x=\"271.5\" y=\"-157\">ephys.experiment.TrackingDevice</text>\n",
       "</g>\n",
       "<!-- ephys.experiment.TrackingDevice&#45;&gt;ephys.experiment.Tracking -->\n",
       "<g class=\"edge\" id=\"edge17\">\n",
       "<title>ephys.experiment.TrackingDevice-&gt;ephys.experiment.Tracking</title>\n",
       "<path d=\"M271.5,-141.8C271.5,-130.95 271.5,-116.87 271.5,-106.05\" fill=\"none\" stroke=\"#000000\" stroke-opacity=\"0.250980\" stroke-width=\"0.75\"/>\n",
       "</g>\n",
       "<!-- ephys.experiment.TrialNoteType -->\n",
       "<g class=\"node\" id=\"node18\">\n",
       "<title>ephys.experiment.TrialNoteType</title>\n",
       "<polygon fill=\"#000000\" fill-opacity=\"0.125490\" points=\"768.5,-177 612.5,-177 612.5,-142 768.5,-142 768.5,-177\" stroke=\"transparent\"/>\n",
       "<text font-family=\"arial\" font-size=\"10.00\" text-anchor=\"middle\" x=\"690.5\" y=\"-157\">ephys.experiment.TrialNoteType</text>\n",
       "</g>\n",
       "<!-- ephys.experiment.TrialNoteType&#45;&gt;ephys.experiment.TrialNote -->\n",
       "<g class=\"edge\" id=\"edge18\">\n",
       "<title>ephys.experiment.TrialNoteType-&gt;ephys.experiment.TrialNote</title>\n",
       "<path d=\"M741.76,-141.97C775.52,-131.09 819.54,-116.89 853.29,-106.01\" fill=\"none\" stroke=\"#000000\" stroke-opacity=\"0.250980\" stroke-width=\"0.75\"/>\n",
       "</g>\n",
       "<!-- ephys.experiment.ActionEventType -->\n",
       "<g class=\"node\" id=\"node19\">\n",
       "<title>ephys.experiment.ActionEventType</title>\n",
       "<polygon fill=\"#000000\" fill-opacity=\"0.125490\" points=\"807.5,-106 637.5,-106 637.5,-71 807.5,-71 807.5,-106\" stroke=\"transparent\"/>\n",
       "<text font-family=\"arial\" font-size=\"10.00\" text-anchor=\"middle\" x=\"722.5\" y=\"-86\">ephys.experiment.ActionEventType</text>\n",
       "</g>\n",
       "<!-- ephys.experiment.ActionEventType&#45;&gt;ephys.experiment.ActionEvent -->\n",
       "<g class=\"edge\" id=\"edge19\">\n",
       "<title>ephys.experiment.ActionEventType-&gt;ephys.experiment.ActionEvent</title>\n",
       "<path d=\"M793.64,-70.97C840.49,-60.09 901.59,-45.89 948.43,-35.01\" fill=\"none\" stroke=\"#000000\" stroke-opacity=\"0.250980\" stroke-width=\"0.75\"/>\n",
       "</g>\n",
       "<!-- ephys.experiment.Outcome -->\n",
       "<g class=\"node\" id=\"node20\">\n",
       "<title>ephys.experiment.Outcome</title>\n",
       "<polygon fill=\"#000000\" fill-opacity=\"0.125490\" points=\"1315,-177 1178,-177 1178,-142 1315,-142 1315,-177\" stroke=\"transparent\"/>\n",
       "<text font-family=\"arial\" font-size=\"10.00\" text-anchor=\"middle\" x=\"1246.5\" y=\"-157\">ephys.experiment.Outcome</text>\n",
       "</g>\n",
       "<!-- ephys.experiment.Outcome&#45;&gt;ephys.experiment.BehaviorTrial -->\n",
       "<g class=\"edge\" id=\"edge20\">\n",
       "<title>ephys.experiment.Outcome-&gt;ephys.experiment.BehaviorTrial</title>\n",
       "<path d=\"M1209.37,-141.97C1184.92,-131.09 1153.03,-116.89 1128.59,-106.01\" fill=\"none\" stroke=\"#000000\" stroke-dasharray=\"5,2\" stroke-opacity=\"0.250980\" stroke-width=\"0.75\"/>\n",
       "</g>\n",
       "<!-- ephys.experiment.TrialEventType -->\n",
       "<g class=\"node\" id=\"node21\">\n",
       "<title>ephys.experiment.TrialEventType</title>\n",
       "<polygon fill=\"#000000\" fill-opacity=\"0.125490\" points=\"1359.5,-106 1199.5,-106 1199.5,-71 1359.5,-71 1359.5,-106\" stroke=\"transparent\"/>\n",
       "<text font-family=\"arial\" font-size=\"10.00\" text-anchor=\"middle\" x=\"1279.5\" y=\"-86\">ephys.experiment.TrialEventType</text>\n",
       "</g>\n",
       "<!-- ephys.experiment.TrialEventType&#45;&gt;ephys.experiment.TrialEvent -->\n",
       "<g class=\"edge\" id=\"edge21\">\n",
       "<title>ephys.experiment.TrialEventType-&gt;ephys.experiment.TrialEvent</title>\n",
       "<path d=\"M1270.54,-70.8C1264.73,-59.95 1257.18,-45.87 1251.37,-35.05\" fill=\"none\" stroke=\"#000000\" stroke-opacity=\"0.250980\" stroke-width=\"0.75\"/>\n",
       "</g>\n",
       "<!-- ephys.experiment.TrialInstruction -->\n",
       "<g class=\"node\" id=\"node22\">\n",
       "<title>ephys.experiment.TrialInstruction</title>\n",
       "<polygon fill=\"#000000\" fill-opacity=\"0.125490\" points=\"1493.5,-177 1333.5,-177 1333.5,-142 1493.5,-142 1493.5,-177\" stroke=\"transparent\"/>\n",
       "<text font-family=\"arial\" font-size=\"10.00\" text-anchor=\"middle\" x=\"1413.5\" y=\"-157\">ephys.experiment.TrialInstruction</text>\n",
       "</g>\n",
       "<!-- ephys.experiment.TrialInstruction&#45;&gt;ephys.experiment.BehaviorTrial -->\n",
       "<g class=\"edge\" id=\"edge22\">\n",
       "<title>ephys.experiment.TrialInstruction-&gt;ephys.experiment.BehaviorTrial</title>\n",
       "<path d=\"M1336.37,-141.97C1285.58,-131.09 1219.33,-116.89 1168.56,-106.01\" fill=\"none\" stroke=\"#000000\" stroke-dasharray=\"5,2\" stroke-opacity=\"0.250980\" stroke-width=\"0.75\"/>\n",
       "</g>\n",
       "</g>\n",
       "</svg>"
      ],
      "text/plain": [
       "<datajoint.erd.ERD at 0x3eea7588>"
      ]
     },
     "execution_count": 8,
     "metadata": {},
     "output_type": "execute_result"
    }
   ],
   "source": [
    "dj.ERD(ephys.experiment)"
   ]
  },
  {
   "cell_type": "code",
   "execution_count": 9,
   "metadata": {},
   "outputs": [],
   "source": []
  },
  {
   "cell_type": "code",
   "execution_count": 10,
   "metadata": {},
   "outputs": [],
   "source": []
  },
  {
   "cell_type": "code",
   "execution_count": 11,
   "metadata": {
    "scrolled": false
   },
   "outputs": [
    {
     "name": "stderr",
     "output_type": "stream",
     "text": [
      "skipping - no animal found\n",
      "skipping - no animal found\n",
      "skipping - no animal found\n",
      "skipping - no animal found\n",
      "skipping - no animal found\n",
      "skipping - no animal found\n",
      "skipping - no animal found\n"
     ]
    }
   ],
   "source": []
  },
  {
   "cell_type": "code",
   "execution_count": 12,
   "metadata": {},
   "outputs": [],
   "source": []
  },
  {
   "cell_type": "code",
   "execution_count": 13,
   "metadata": {},
   "outputs": [
    {
     "data": {
      "text/plain": [
       "array([('RRig', 'dl7_TW_autoTrain_20171219_185811.mat'),\n",
       "       ('RRig', 'dl7_TW_autoTrain_20171220_204322.mat'),\n",
       "       ('RRig', 'dl7_TW_autoTrain_20171221_201852.mat'),\n",
       "       ('RRig', 'dl7_TW_autoTrain_20171222_182645.mat'),\n",
       "       ('RRig', 'dl7_TW_autoTrain_20171223_140258.mat'),\n",
       "       ('RRig', 'dl7_TW_autoTrain_20171224_090604.mat'),\n",
       "       ('RRig', 'dl7_TW_autoTrain_20171224_114214.mat'),\n",
       "       ('RRig', 'tw5_TW_autoTrain_20171021_150914.mat')],\n",
       "      dtype=[('rig', 'O'), ('rig_data_file', 'O')])"
      ]
     },
     "execution_count": 13,
     "metadata": {},
     "output_type": "execute_result"
    }
   ],
   "source": []
  },
  {
   "cell_type": "code",
   "execution_count": 14,
   "metadata": {},
   "outputs": [],
   "source": []
  },
  {
   "cell_type": "code",
   "execution_count": 15,
   "metadata": {},
   "outputs": [
    {
     "data": {
      "text/plain": [
       "array([(123456, 1, datetime.date(2017, 10, 21), 'daveliu', 'RRig')],\n",
       "      dtype=[('animal', '<i8'), ('session', '<i8'), ('session_date', 'O'), ('username', 'O'), ('rig', 'O')])"
      ]
     },
     "execution_count": 15,
     "metadata": {},
     "output_type": "execute_result"
    }
   ],
   "source": []
  },
  {
   "cell_type": "code",
   "execution_count": 16,
   "metadata": {},
   "outputs": [],
   "source": [
    "trialNote = ephys.experiment.TrialNote()"
   ]
  },
  {
   "cell_type": "code",
   "execution_count": 17,
   "metadata": {},
   "outputs": [],
   "source": [
    "import numpy as np"
   ]
  },
  {
   "cell_type": "code",
   "execution_count": 18,
   "metadata": {},
   "outputs": [],
   "source": [
    "behaviorTrial = ephys.experiment.BehaviorTrial()"
   ]
  },
  {
   "cell_type": "code",
   "execution_count": 19,
   "metadata": {},
   "outputs": [],
   "source": [
    "outcome = (behaviorTrial & 'animal = 123456').fetch('outcome', order_by='session')\n",
    "early_lick = (behaviorTrial & 'animal = 123456').fetch('early_lick', order_by='session')"
   ]
  },
  {
   "cell_type": "code",
   "execution_count": 20,
   "metadata": {},
   "outputs": [],
   "source": [
    "data = np.zeros(len(outcome))\n",
    "data1 = np.zeros(len(early_lick))\n",
    "data2 = np.zeros(len(outcome))"
   ]
  },
  {
   "cell_type": "code",
   "execution_count": 21,
   "metadata": {},
   "outputs": [],
   "source": [
    "data[outcome=='hit'] = 1\n",
    "data1[early_lick=='early'] = 1\n",
    "data2[outcome=='ignore'] = 1"
   ]
  },
  {
   "cell_type": "code",
   "execution_count": 22,
   "metadata": {},
   "outputs": [],
   "source": [
    "trial_note = (trialNote & 'animal = 123456').fetch('trial_note', order_by='session')\n",
    "results = list(map(int, trial_note))\n",
    "protDiff = np.diff(results)\n",
    "protChange = np.where(protDiff != 0)"
   ]
  },
  {
   "cell_type": "code",
   "execution_count": 23,
   "metadata": {},
   "outputs": [],
   "source": [
    "def movingaverage (values, window):\n",
    "    weights = np.repeat(1.0, window)/window\n",
    "    sma = np.convolve(values, weights, 'valid')\n",
    "    return sma"
   ]
  },
  {
   "cell_type": "code",
   "execution_count": 24,
   "metadata": {},
   "outputs": [
    {
     "data": {
      "text/plain": [
       "Text(0,0.5,'Proportion Correct')"
      ]
     },
     "execution_count": 24,
     "metadata": {},
     "output_type": "execute_result"
    },
    {
     "data": {
      "image/png": "[encoded data removed]",
      "text/plain": [
       "<matplotlib.figure.Figure at 0x6ab026d8>"
      ]
     },
     "metadata": {},
     "output_type": "display_data"
    }
   ],
   "source": [
    "yMA = movingaverage(data,20)\n",
    "plt.plot(yMA)\n",
    "plt.xlabel('Trials')\n",
    "plt.ylabel('Proportion Correct')"
   ]
  },
  {
   "cell_type": "code",
   "execution_count": 28,
   "metadata": {},
   "outputs": [
    {
     "data": {
      "text/plain": [
       "Text(0,0.5,'Early Licks')"
      ]
     },
     "execution_count": 28,
     "metadata": {},
     "output_type": "execute_result"
    },
    {
     "data": {
      "image/png": "[encoded data removed]",
      "text/plain": [
       "<matplotlib.figure.Figure at 0x6a0adb38>"
      ]
     },
     "metadata": {},
     "output_type": "display_data"
    }
   ],
   "source": [
    "yMA = movingaverage(data1,20)\n",
    "plt.plot(yMA)\n",
    "plt.xlabel('Trials')\n",
    "plt.ylabel('Early Licks')"
   ]
  },
  {
   "cell_type": "code",
   "execution_count": 26,
   "metadata": {},
   "outputs": [
    {
     "data": {
      "text/plain": [
       "Text(0,0.5,'Ignores')"
      ]
     },
     "execution_count": 26,
     "metadata": {},
     "output_type": "execute_result"
    },
    {
     "data": {
      "image/png": "[encoded data removed]",
      "text/plain": [
       "<matplotlib.figure.Figure at 0x3f30ddd8>"
      ]
     },
     "metadata": {},
     "output_type": "display_data"
    }
   ],
   "source": [
    "yMA = movingaverage(data2,20)\n",
    "plt.plot(yMA)\n",
    "plt.xlabel('Trials')\n",
    "plt.ylabel('Ignores')"
   ]
  },
  {
   "cell_type": "code",
   "execution_count": null,
   "metadata": {},
   "outputs": [],
   "source": []
  }
 ],
 "metadata": {
  "kernelspec": {
   "display_name": "Python 3",
   "language": "python",
   "name": "python3"
  },
  "language_info": {
   "codemirror_mode": {
    "name": "ipython",
    "version": 3
   },
   "file_extension": ".py",
   "mimetype": "text/x-python",
   "name": "python",
   "nbconvert_exporter": "python",
   "pygments_lexer": "ipython3",
   "version": "3.6.3"
  }
 },
 "nbformat": 4,
 "nbformat_minor": 2
}
