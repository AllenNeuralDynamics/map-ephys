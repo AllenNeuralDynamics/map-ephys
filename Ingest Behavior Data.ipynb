{
 "cells": [
  {
   "cell_type": "code",
   "execution_count": 1,
   "metadata": {},
   "outputs": [],
   "source": [
    "import datajoint as dj"
   ]
  },
  {
   "cell_type": "code",
   "execution_count": 2,
   "metadata": {},
   "outputs": [
    {
     "name": "stdout",
     "output_type": "stream",
     "text": [
      "Connecting daveliu@mesoscale-activity.datajoint.io:3306\n"
     ]
    }
   ],
   "source": [
    "import ephys\n",
    "import matplotlib.pyplot as plt\n",
    "%matplotlib inline"
   ]
  },
  {
   "cell_type": "code",
   "execution_count": null,
   "metadata": {},
   "outputs": [],
   "source": [
    "def dropdbs():\n",
    "   print('dropping databases')\n",
    "   for a in range(3):\n",
    "       for d in ['ingest', 'ccf', 'ephys', 'experiment', 'lab']:\n",
    "           try:\n",
    "               schema = dj.schema(dj.config['%s.database' % d], locals())\n",
    "               schema.drop(force=True)\n",
    "           except Exception as e:\n",
    "               print('error dropping {d} in attempt {a}: {e}'\n",
    "                     .format(d=d, a=a, e=str(e)))\n",
    "               pass"
   ]
  },
  {
   "cell_type": "code",
   "execution_count": null,
   "metadata": {},
   "outputs": [],
   "source": [
    "dj.ERD(ephys)"
   ]
  },
  {
   "cell_type": "code",
   "execution_count": null,
   "metadata": {},
   "outputs": [],
   "source": []
  },
  {
   "cell_type": "code",
   "execution_count": 3,
   "metadata": {},
   "outputs": [
    {
     "data": {
      "text/html": [
       "\n",
       "        \n",
       "        <style type=\"text/css\">\n",
       "            .Relation{\n",
       "                border-collapse:collapse;\n",
       "            }\n",
       "            .Relation th{\n",
       "                background: #A0A0A0; color: #ffffff; padding:4px; border:#f0e0e0 1px solid;\n",
       "                font-weight: normal; font-family: monospace; font-size: 75%;\n",
       "            }\n",
       "            .Relation td{\n",
       "                padding:4px; border:#f0e0e0 1px solid; font-size:75%;\n",
       "            }\n",
       "            .Relation tr:nth-child(odd){\n",
       "                background: #ffffff;\n",
       "            }\n",
       "            .Relation tr:nth-child(even){\n",
       "                background: #f3f1ff;\n",
       "            }\n",
       "            /* Tooltip container */\n",
       "            .djtooltip {\n",
       "            }\n",
       "\n",
       "            /* Tooltip text */\n",
       "            .djtooltip .djtooltiptext {\n",
       "                visibility: hidden;\n",
       "                width: 120px;\n",
       "                background-color: black;\n",
       "                color: #fff;\n",
       "                text-align: center;\n",
       "                padding: 5px 0;\n",
       "                border-radius: 6px;\n",
       "\n",
       "                /* Position the tooltip text - see examples below! */\n",
       "                position: absolute;\n",
       "                z-index: 1;\n",
       "            }\n",
       "\n",
       "\n",
       "            #primary {\n",
       "                font-weight: bold;\n",
       "                color: black;\n",
       "            }\n",
       "\n",
       "            #nonprimary {\n",
       "                font-weight: normal;\n",
       "                color: white;\n",
       "            }\n",
       "\n",
       "            /* Show the tooltip text when you mouse over the tooltip container */\n",
       "            .djtooltip:hover .djtooltiptext {\n",
       "                visibility: visible;\n",
       "            }\n",
       "        </style>\n",
       "        \n",
       "        <b></b>\n",
       "            <div style=\"max-height:1000px;max-width:1500px;overflow:auto;\">\n",
       "            <table border=\"1\" class=\"Relation\">\n",
       "                <thead> <tr style=\"text-align: right;\"> <th> <div class=\"djtooltip\">\n",
       "                                <p id=\"primary\">animal</p>\n",
       "                                <span class=\"djtooltiptext\">Janelia ANM ID (6 digits)</span>\n",
       "                            </div></th><th><div class=\"djtooltip\">\n",
       "                                <p id=\"nonprimary\">dob</p>\n",
       "                                <span class=\"djtooltiptext\"></span>\n",
       "                            </div> </th> </tr> </thead>\n",
       "                <tbody> <tr> <td>123456</td>\n",
       "<td>2017-08-01</td></tr><tr><td>399752</td>\n",
       "<td>2017-08-01</td></tr><tr><td>400482</td>\n",
       "<td>2017-08-01</td></tr><tr><td>400483</td>\n",
       "<td>2017-08-01</td> </tr> </tbody>\n",
       "            </table>\n",
       "            \n",
       "            <p>4 tuples</p></div>\n",
       "            "
      ],
      "text/plain": [
       "*animal    dob           \n",
       "+--------+ +------------+\n",
       "123456     2017-08-01    \n",
       "399752     2017-08-01    \n",
       "400482     2017-08-01    \n",
       "400483     2017-08-01    \n",
       " (4 tuples)"
      ]
     },
     "execution_count": 3,
     "metadata": {},
     "output_type": "execute_result"
    }
   ],
   "source": [
    "mouse=ephys.experiment.lab.Animal()\n",
    "#mouse.insert1((399752, '2017-8-1'))\n",
    "#mouse.insert1((123456, '2017-8-1'))\n",
    "#mouse.insert1((400483, '2017-8-1'))\n",
    "#mouse.insert1((400482, '2017-8-1'))\n",
    "mouse"
   ]
  },
  {
   "cell_type": "code",
   "execution_count": null,
   "metadata": {
    "scrolled": true
   },
   "outputs": [],
   "source": [
    "person=ephys.experiment.lab.Person()\n",
    "#person.insert1(('daveliu', 'Dave Liu'))\n",
    "person"
   ]
  },
  {
   "cell_type": "code",
   "execution_count": null,
   "metadata": {},
   "outputs": [],
   "source": [
    "rig=ephys.experiment.lab.Rig()\n",
    "#rig.insert1(('TRig3', 'Training rig 3'))\n",
    "#rig.insert1(('TRig2', 'Training rig 2'))\n",
    "#rig.insert1(('TRig1', 'Training rig 1'))\n",
    "#rig.insert1(('RRig', 'Recording rig'))\n",
    "rig"
   ]
  },
  {
   "cell_type": "code",
   "execution_count": null,
   "metadata": {},
   "outputs": [],
   "source": []
  },
  {
   "cell_type": "code",
   "execution_count": null,
   "metadata": {},
   "outputs": [],
   "source": [
    "animalWaterRestriction=ephys.experiment.lab.AnimalWaterRestriction()\n",
    "#animalWaterRestriction.insert1((123456, 'tw5'))\n",
    "#animalWaterRestriction.insert1((399752, 'dl7'))\n",
    "#animalWaterRestriction.insert1((400483, 'dl8'))\n",
    "#animalWaterRestriction.insert1((400482, 'dl9'))\n",
    "animalWaterRestriction"
   ]
  },
  {
   "cell_type": "code",
   "execution_count": null,
   "metadata": {},
   "outputs": [],
   "source": [
    "dj.ERD(ephys.experiment)"
   ]
  },
  {
   "cell_type": "code",
   "execution_count": 7,
   "metadata": {},
   "outputs": [],
   "source": [
    "import ingest\n",
    "rigDataPath = ingest.RigDataPath()\n",
    "rigDataFile = ingest.RigDataFile()\n",
    "rigDataFileIngest = ingest.RigDataFileIngest()"
   ]
  },
  {
   "cell_type": "code",
   "execution_count": null,
   "metadata": {},
   "outputs": [],
   "source": [
    "#importedSessionFile.drop()\n",
    "rigDataFile.populate()"
   ]
  },
  {
   "cell_type": "code",
   "execution_count": null,
   "metadata": {
    "scrolled": false
   },
   "outputs": [],
   "source": [
    "rigDataFileIngest.populate()"
   ]
  },
  {
   "cell_type": "code",
   "execution_count": 19,
   "metadata": {},
   "outputs": [],
   "source": [
    "files= rigDataFile.fetch()"
   ]
  },
  {
   "cell_type": "code",
   "execution_count": 20,
   "metadata": {},
   "outputs": [
    {
     "data": {
      "text/plain": [
       "2003"
      ]
     },
     "execution_count": 20,
     "metadata": {},
     "output_type": "execute_result"
    }
   ],
   "source": [
    "len(files)"
   ]
  },
  {
   "cell_type": "code",
   "execution_count": null,
   "metadata": {},
   "outputs": [],
   "source": [
    "files[12]"
   ]
  },
  {
   "cell_type": "code",
   "execution_count": 8,
   "metadata": {},
   "outputs": [],
   "source": [
    "allFiles=rigDataFile.fetch()"
   ]
  },
  {
   "cell_type": "code",
   "execution_count": 37,
   "metadata": {},
   "outputs": [
    {
     "data": {
      "text/plain": [
       "('RRig', 'tw6_orig\\\\TW_autoTrain\\\\Session Data\\\\tw6_orig_TW_autoTrain_20171029_203629.mat')"
      ]
     },
     "execution_count": 37,
     "metadata": {},
     "output_type": "execute_result"
    }
   ],
   "source": [
    "allFiles[500]"
   ]
  },
  {
   "cell_type": "code",
   "execution_count": null,
   "metadata": {},
   "outputs": [],
   "source": []
  },
  {
   "cell_type": "code",
   "execution_count": null,
   "metadata": {},
   "outputs": [],
   "source": []
  },
  {
   "cell_type": "code",
   "execution_count": 4,
   "metadata": {},
   "outputs": [],
   "source": [
    "session=ephys.experiment.Session()\n",
    "sessionList=session.fetch()"
   ]
  },
  {
   "cell_type": "code",
   "execution_count": 5,
   "metadata": {},
   "outputs": [
    {
     "data": {
      "text/plain": [
       "array([(123456,  1, datetime.date(2017, 10, 17), 'daveliu', 'RRig'),\n",
       "       (123456,  2, datetime.date(2017, 10, 18), 'daveliu', 'RRig'),\n",
       "       (123456,  3, datetime.date(2017, 10, 19), 'daveliu', 'RRig'),\n",
       "       (123456,  4, datetime.date(2017, 10, 20), 'daveliu', 'RRig'),\n",
       "       (123456,  5, datetime.date(2017, 10, 21), 'daveliu', 'RRig'),\n",
       "       (123456,  6, datetime.date(2017, 10, 23), 'daveliu', 'RRig'),\n",
       "       (123456,  7, datetime.date(2017, 10, 24), 'daveliu', 'RRig'),\n",
       "       (123456,  8, datetime.date(2017, 10, 25), 'daveliu', 'RRig'),\n",
       "       (123456,  9, datetime.date(2017, 10, 26), 'daveliu', 'RRig'),\n",
       "       (123456, 10, datetime.date(2017, 10, 27), 'daveliu', 'RRig'),\n",
       "       (123456, 11, datetime.date(2017, 10, 28), 'daveliu', 'RRig'),\n",
       "       (123456, 12, datetime.date(2017, 10, 29), 'daveliu', 'RRig'),\n",
       "       (123456, 13, datetime.date(2017, 10, 30), 'daveliu', 'RRig'),\n",
       "       (399752,  1, datetime.date(2017, 11, 28), 'daveliu', 'RRig'),\n",
       "       (399752,  2, datetime.date(2017, 11, 29), 'daveliu', 'RRig'),\n",
       "       (399752,  3, datetime.date(2017, 11, 30), 'daveliu', 'RRig'),\n",
       "       (399752,  4, datetime.date(2017, 12, 1), 'daveliu', 'RRig'),\n",
       "       (399752,  5, datetime.date(2017, 12, 2), 'daveliu', 'RRig'),\n",
       "       (399752,  6, datetime.date(2017, 12, 3), 'daveliu', 'RRig'),\n",
       "       (399752,  7, datetime.date(2017, 12, 4), 'daveliu', 'RRig'),\n",
       "       (399752,  8, datetime.date(2017, 12, 5), 'daveliu', 'RRig'),\n",
       "       (399752,  9, datetime.date(2017, 12, 6), 'daveliu', 'RRig'),\n",
       "       (399752, 10, datetime.date(2017, 12, 7), 'daveliu', 'RRig'),\n",
       "       (399752, 11, datetime.date(2017, 12, 8), 'daveliu', 'RRig'),\n",
       "       (399752, 12, datetime.date(2017, 12, 9), 'daveliu', 'RRig'),\n",
       "       (399752, 13, datetime.date(2017, 12, 10), 'daveliu', 'RRig'),\n",
       "       (399752, 14, datetime.date(2017, 12, 12), 'daveliu', 'RRig'),\n",
       "       (399752, 15, datetime.date(2017, 12, 13), 'daveliu', 'RRig'),\n",
       "       (399752, 16, datetime.date(2017, 12, 14), 'daveliu', 'RRig'),\n",
       "       (399752, 17, datetime.date(2017, 12, 15), 'daveliu', 'RRig'),\n",
       "       (399752, 18, datetime.date(2017, 12, 16), 'daveliu', 'RRig'),\n",
       "       (399752, 19, datetime.date(2017, 12, 17), 'daveliu', 'RRig'),\n",
       "       (399752, 20, datetime.date(2017, 12, 18), 'daveliu', 'RRig'),\n",
       "       (399752, 21, datetime.date(2017, 12, 19), 'daveliu', 'RRig'),\n",
       "       (399752, 22, datetime.date(2017, 12, 20), 'daveliu', 'RRig'),\n",
       "       (399752, 23, datetime.date(2017, 12, 21), 'daveliu', 'RRig'),\n",
       "       (399752, 24, datetime.date(2017, 12, 22), 'daveliu', 'RRig'),\n",
       "       (399752, 25, datetime.date(2017, 12, 23), 'daveliu', 'RRig'),\n",
       "       (399752, 26, datetime.date(2017, 12, 24), 'daveliu', 'RRig'),\n",
       "       (399752, 27, datetime.date(2017, 12, 25), 'daveliu', 'RRig'),\n",
       "       (399752, 28, datetime.date(2017, 12, 26), 'daveliu', 'RRig'),\n",
       "       (399752, 29, datetime.date(2017, 12, 27), 'daveliu', 'RRig'),\n",
       "       (399752, 30, datetime.date(2017, 12, 28), 'daveliu', 'RRig'),\n",
       "       (399752, 31, datetime.date(2017, 12, 29), 'daveliu', 'RRig'),\n",
       "       (399752, 32, datetime.date(2017, 12, 30), 'daveliu', 'RRig'),\n",
       "       (399752, 33, datetime.date(2017, 12, 31), 'daveliu', 'RRig'),\n",
       "       (399752, 34, datetime.date(2018, 1, 1), 'daveliu', 'RRig'),\n",
       "       (399752, 35, datetime.date(2018, 1, 2), 'daveliu', 'RRig'),\n",
       "       (399752, 36, datetime.date(2018, 1, 3), 'daveliu', 'RRig')],\n",
       "      dtype=[('animal', '<i8'), ('session', '<i8'), ('session_date', 'O'), ('username', 'O'), ('rig', 'O')])"
      ]
     },
     "execution_count": 5,
     "metadata": {},
     "output_type": "execute_result"
    }
   ],
   "source": [
    "sessionList"
   ]
  },
  {
   "cell_type": "code",
   "execution_count": null,
   "metadata": {},
   "outputs": [],
   "source": []
  },
  {
   "cell_type": "code",
   "execution_count": null,
   "metadata": {},
   "outputs": [],
   "source": []
  },
  {
   "cell_type": "code",
   "execution_count": null,
   "metadata": {},
   "outputs": [],
   "source": []
  },
  {
   "cell_type": "code",
   "execution_count": null,
   "metadata": {},
   "outputs": [],
   "source": []
  },
  {
   "cell_type": "code",
   "execution_count": null,
   "metadata": {},
   "outputs": [],
   "source": [
    "trialNote = ephys.experiment.TrialNote()"
   ]
  },
  {
   "cell_type": "code",
   "execution_count": null,
   "metadata": {},
   "outputs": [],
   "source": [
    "import numpy as np"
   ]
  },
  {
   "cell_type": "code",
   "execution_count": null,
   "metadata": {},
   "outputs": [],
   "source": [
    "behaviorTrial = ephys.experiment.BehaviorTrial()"
   ]
  },
  {
   "cell_type": "code",
   "execution_count": null,
   "metadata": {},
   "outputs": [],
   "source": [
    "outcome = (behaviorTrial & 'animal = 399752').fetch('outcome', order_by='session')\n",
    "early_lick = (behaviorTrial & 'animal = 399752').fetch('early_lick', order_by='session')"
   ]
  },
  {
   "cell_type": "code",
   "execution_count": null,
   "metadata": {},
   "outputs": [],
   "source": [
    "data = np.zeros(len(outcome))\n",
    "data1 = np.zeros(len(early_lick))\n",
    "data2 = np.zeros(len(outcome))"
   ]
  },
  {
   "cell_type": "code",
   "execution_count": null,
   "metadata": {},
   "outputs": [],
   "source": [
    "data[outcome=='hit'] = 1\n",
    "data1[early_lick=='early'] = 1\n",
    "data2[outcome=='ignore'] = 1"
   ]
  },
  {
   "cell_type": "code",
   "execution_count": null,
   "metadata": {},
   "outputs": [],
   "source": [
    "trial_note = (trialNote & 'animal = 123456').fetch('trial_note', order_by='session')\n",
    "results = list(map(int, trial_note))\n",
    "protDiff = np.diff(results)\n",
    "protChange = np.where(protDiff != 0)"
   ]
  },
  {
   "cell_type": "code",
   "execution_count": null,
   "metadata": {},
   "outputs": [],
   "source": [
    "def movingaverage (values, window):\n",
    "    weights = np.repeat(1.0, window)/window\n",
    "    sma = np.convolve(values, weights, 'valid')\n",
    "    return sma"
   ]
  },
  {
   "cell_type": "code",
   "execution_count": null,
   "metadata": {},
   "outputs": [],
   "source": [
    "yMA = movingaverage(data,200)\n",
    "plt.plot(yMA)\n",
    "plt.xlabel('Trials')\n",
    "plt.ylabel('Proportion Correct')\n",
    "for i in range(0, len(protChange[0])):\n",
    "    plt.axvline(protChange[0][i], linewidth=4, color='r')\n"
   ]
  },
  {
   "cell_type": "code",
   "execution_count": null,
   "metadata": {},
   "outputs": [],
   "source": [
    "yMA = movingaverage(data1,200)\n",
    "plt.plot(yMA)\n",
    "plt.xlabel('Trials')\n",
    "plt.ylabel('Early Licks')\n",
    "for i in range(0, len(protChange[0])):\n",
    "    plt.axvline(protChange[0][i], linewidth=4, color='r')\n"
   ]
  },
  {
   "cell_type": "code",
   "execution_count": null,
   "metadata": {},
   "outputs": [],
   "source": [
    "yMA = movingaverage(data2,20)\n",
    "plt.plot(yMA)\n",
    "plt.xlabel('Trials')\n",
    "plt.ylabel('Ignores')\n",
    "for i in range(0, len(protChange[0])):\n",
    "    plt.axvline(protChange[0][i], linewidth=4, color='r')\n",
    "plt.savefig('')"
   ]
  },
  {
   "cell_type": "code",
   "execution_count": null,
   "metadata": {},
   "outputs": [],
   "source": [
    "len(outcome)"
   ]
  },
  {
   "cell_type": "code",
   "execution_count": null,
   "metadata": {},
   "outputs": [],
   "source": []
  },
  {
   "cell_type": "code",
   "execution_count": null,
   "metadata": {},
   "outputs": [],
   "source": [
    "\n"
   ]
  },
  {
   "cell_type": "code",
   "execution_count": null,
   "metadata": {},
   "outputs": [],
   "source": []
  },
  {
   "cell_type": "code",
   "execution_count": null,
   "metadata": {},
   "outputs": [],
   "source": []
  }
 ],
 "metadata": {
  "kernelspec": {
   "display_name": "Python 3",
   "language": "python",
   "name": "python3"
  },
  "language_info": {
   "codemirror_mode": {
    "name": "ipython",
    "version": 3
   },
   "file_extension": ".py",
   "mimetype": "text/x-python",
   "name": "python",
   "nbconvert_exporter": "python",
   "pygments_lexer": "ipython3",
   "version": "3.6.3"
  }
 },
 "nbformat": 4,
 "nbformat_minor": 2
}
