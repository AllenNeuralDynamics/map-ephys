{
 "cells": [
  {
   "cell_type": "code",
   "execution_count": 1,
   "metadata": {},
   "outputs": [],
   "source": [
    "import datajoint as dj"
   ]
  },
  {
   "cell_type": "code",
   "execution_count": 8,
   "metadata": {},
   "outputs": [],
   "source": [
    "import ephys\n",
    "import experiment\n",
    "import lab\n",
    "import matplotlib.pyplot as plt\n",
    "%matplotlib inline"
   ]
  },
  {
   "cell_type": "code",
   "execution_count": null,
   "metadata": {},
   "outputs": [],
   "source": []
  },
  {
   "cell_type": "code",
   "execution_count": 3,
   "metadata": {},
   "outputs": [
    {
     "data": {
      "image/svg+xml": [
       "<svg height=\"256pt\" viewBox=\"0.00 0.00 1246.00 256.00\" width=\"1246pt\" xmlns=\"http://www.w3.org/2000/svg\" xmlns:xlink=\"http://www.w3.org/1999/xlink\">\n",
       "<g class=\"graph\" id=\"graph0\" transform=\"scale(1 1) rotate(0) translate(4 252)\">\n",
       "<polygon fill=\"white\" points=\"-4,4 -4,-252 1242,-252 1242,4 -4,4\" stroke=\"transparent\"/>\n",
       "<!-- experiment.TrialEvent -->\n",
       "<g class=\"node\" id=\"node1\">\n",
       "<title>experiment.TrialEvent</title>\n",
       "<polygon fill=\"#00ff00\" fill-opacity=\"0.188235\" points=\"216.5,-35 87.5,-35 87.5,0 216.5,0 216.5,-35\" stroke=\"#00ff00\" stroke-opacity=\"0.188235\"/>\n",
       "<text fill=\"darkgreen\" font-family=\"arial\" font-size=\"12.00\" text-anchor=\"middle\" x=\"152\" y=\"-14.4\">experiment.TrialEvent</text>\n",
       "</g>\n",
       "<!-- experiment.TrackingDevice -->\n",
       "<g class=\"node\" id=\"node2\">\n",
       "<title>experiment.TrackingDevice</title>\n",
       "<polygon fill=\"#000000\" fill-opacity=\"0.125490\" points=\"1079.5,-177 946.5,-177 946.5,-142 1079.5,-142 1079.5,-177\" stroke=\"transparent\"/>\n",
       "<text font-family=\"arial\" font-size=\"10.00\" text-anchor=\"middle\" x=\"1013\" y=\"-157\">experiment.TrackingDevice</text>\n",
       "</g>\n",
       "<!-- experiment.Tracking -->\n",
       "<g class=\"node\" id=\"node21\">\n",
       "<title>experiment.Tracking</title>\n",
       "<ellipse cx=\"1014\" cy=\"-88.5\" fill=\"#00007f\" fill-opacity=\"0.250980\" rx=\"76\" ry=\"17.5\" stroke=\"#00007f\" stroke-opacity=\"0.250980\"/>\n",
       "<text fill=\"#00007f\" fill-opacity=\"0.627451\" font-family=\"arial\" font-size=\"12.00\" text-anchor=\"middle\" x=\"1014\" y=\"-85.4\">experiment.Tracking</text>\n",
       "</g>\n",
       "<!-- experiment.TrackingDevice&#45;&gt;experiment.Tracking -->\n",
       "<g class=\"edge\" id=\"edge1\">\n",
       "<title>experiment.TrackingDevice-&gt;experiment.Tracking</title>\n",
       "<path d=\"M1013.24,-141.8C1013.4,-130.95 1013.6,-116.87 1013.76,-106.05\" fill=\"none\" stroke=\"#000000\" stroke-opacity=\"0.250980\" stroke-width=\"0.75\"/>\n",
       "</g>\n",
       "<!-- experiment.Task -->\n",
       "<g class=\"node\" id=\"node3\">\n",
       "<title>experiment.Task</title>\n",
       "<polygon fill=\"#000000\" fill-opacity=\"0.125490\" points=\"368.5,-248 279.5,-248 279.5,-213 368.5,-213 368.5,-248\" stroke=\"transparent\"/>\n",
       "<text font-family=\"arial\" font-size=\"10.00\" text-anchor=\"middle\" x=\"324\" y=\"-228\">experiment.Task</text>\n",
       "</g>\n",
       "<!-- experiment.TaskTraining -->\n",
       "<g class=\"node\" id=\"node13\">\n",
       "<title>experiment.TaskTraining</title>\n",
       "<polygon fill=\"#00ff00\" fill-opacity=\"0.188235\" points=\"583.5,-177 438.5,-177 438.5,-142 583.5,-142 583.5,-177\" stroke=\"#00ff00\" stroke-opacity=\"0.188235\"/>\n",
       "<text fill=\"darkgreen\" font-family=\"arial\" font-size=\"12.00\" text-anchor=\"middle\" x=\"511\" y=\"-156.4\">experiment.TaskTraining</text>\n",
       "</g>\n",
       "<!-- experiment.Task&#45;&gt;experiment.TaskTraining -->\n",
       "<g class=\"edge\" id=\"edge2\">\n",
       "<title>experiment.Task-&gt;experiment.TaskTraining</title>\n",
       "<path d=\"M368.79,-212.97C398.29,-202.09 436.76,-187.89 466.25,-177.01\" fill=\"none\" stroke=\"#000000\" stroke-opacity=\"0.250980\" stroke-width=\"0.75\"/>\n",
       "</g>\n",
       "<!-- experiment.BehaviorTrial -->\n",
       "<g class=\"node\" id=\"node14\">\n",
       "<title>experiment.BehaviorTrial</title>\n",
       "<polygon fill=\"#00ff00\" fill-opacity=\"0.188235\" points=\"303,-106 157,-106 157,-71 303,-71 303,-106\" stroke=\"#00ff00\" stroke-opacity=\"0.188235\"/>\n",
       "<text fill=\"darkgreen\" font-family=\"arial\" font-size=\"12.00\" text-anchor=\"middle\" x=\"230\" y=\"-85.4\">experiment.BehaviorTrial</text>\n",
       "</g>\n",
       "<!-- experiment.Task&#45;&gt;experiment.BehaviorTrial -->\n",
       "<g class=\"edge\" id=\"edge3\">\n",
       "<title>experiment.Task-&gt;experiment.BehaviorTrial</title>\n",
       "<path d=\"M279.28,-229.25C239.73,-226.36 184.06,-215.16 156,-177 146.79,-164.47 148.86,-155.82 156,-142 163.95,-126.61 178.73,-114.75 193.01,-106.23\" fill=\"none\" stroke=\"#000000\" stroke-dasharray=\"5,2\" stroke-opacity=\"0.250980\" stroke-width=\"0.75\"/>\n",
       "</g>\n",
       "<!-- experiment.ActionEventType -->\n",
       "<g class=\"node\" id=\"node4\">\n",
       "<title>experiment.ActionEventType</title>\n",
       "<polygon fill=\"#000000\" fill-opacity=\"0.125490\" points=\"461,-106 321,-106 321,-71 461,-71 461,-106\" stroke=\"transparent\"/>\n",
       "<text font-family=\"arial\" font-size=\"10.00\" text-anchor=\"middle\" x=\"391\" y=\"-86\">experiment.ActionEventType</text>\n",
       "</g>\n",
       "<!-- experiment.ActionEvent -->\n",
       "<g class=\"node\" id=\"node16\">\n",
       "<title>experiment.ActionEvent</title>\n",
       "<polygon fill=\"#00ff00\" fill-opacity=\"0.188235\" points=\"377,-35 237,-35 237,0 377,0 377,-35\" stroke=\"#00ff00\" stroke-opacity=\"0.188235\"/>\n",
       "<text fill=\"darkgreen\" font-family=\"arial\" font-size=\"12.00\" text-anchor=\"middle\" x=\"307\" y=\"-14.4\">experiment.ActionEvent</text>\n",
       "</g>\n",
       "<!-- experiment.ActionEventType&#45;&gt;experiment.ActionEvent -->\n",
       "<g class=\"edge\" id=\"edge4\">\n",
       "<title>experiment.ActionEventType-&gt;experiment.ActionEvent</title>\n",
       "<path d=\"M370.67,-70.8C357.46,-59.95 340.32,-45.87 327.15,-35.05\" fill=\"none\" stroke=\"#000000\" stroke-opacity=\"0.250980\" stroke-width=\"0.75\"/>\n",
       "</g>\n",
       "<!-- experiment.TrialNote -->\n",
       "<g class=\"node\" id=\"node5\">\n",
       "<title>experiment.TrialNote</title>\n",
       "<polygon fill=\"#00ff00\" fill-opacity=\"0.188235\" points=\"711.5,-106 586.5,-106 586.5,-71 711.5,-71 711.5,-106\" stroke=\"#00ff00\" stroke-opacity=\"0.188235\"/>\n",
       "<text fill=\"darkgreen\" font-family=\"arial\" font-size=\"12.00\" text-anchor=\"middle\" x=\"649\" y=\"-85.4\">experiment.TrialNote</text>\n",
       "</g>\n",
       "<!-- experiment.TrialNoteType -->\n",
       "<g class=\"node\" id=\"node6\">\n",
       "<title>experiment.TrialNoteType</title>\n",
       "<polygon fill=\"#000000\" fill-opacity=\"0.125490\" points=\"728.5,-177 601.5,-177 601.5,-142 728.5,-142 728.5,-177\" stroke=\"transparent\"/>\n",
       "<text font-family=\"arial\" font-size=\"10.00\" text-anchor=\"middle\" x=\"665\" y=\"-157\">experiment.TrialNoteType</text>\n",
       "</g>\n",
       "<!-- experiment.TrialNoteType&#45;&gt;experiment.TrialNote -->\n",
       "<g class=\"edge\" id=\"edge5\">\n",
       "<title>experiment.TrialNoteType-&gt;experiment.TrialNote</title>\n",
       "<path d=\"M661.13,-141.8C658.61,-130.95 655.35,-116.87 652.84,-106.05\" fill=\"none\" stroke=\"#000000\" stroke-opacity=\"0.250980\" stroke-width=\"0.75\"/>\n",
       "</g>\n",
       "<!-- experiment.Photostim.Profile -->\n",
       "<g class=\"node\" id=\"node7\">\n",
       "<title>experiment.Photostim.Profile</title>\n",
       "<polygon fill=\"transparent\" points=\"1237,-27 1095,-27 1095,-8 1237,-8 1237,-27\" stroke=\"transparent\"/>\n",
       "<text font-family=\"arial\" font-size=\"10.00\" text-anchor=\"middle\" x=\"1166\" y=\"-15\">experiment.Photostim.Profile</text>\n",
       "</g>\n",
       "<!-- experiment.PhotostimTrial -->\n",
       "<g class=\"node\" id=\"node8\">\n",
       "<title>experiment.PhotostimTrial</title>\n",
       "<ellipse cx=\"825\" cy=\"-88.5\" fill=\"#00007f\" fill-opacity=\"0.250980\" rx=\"95\" ry=\"17.5\" stroke=\"#00007f\" stroke-opacity=\"0.250980\"/>\n",
       "<text fill=\"#00007f\" fill-opacity=\"0.627451\" font-family=\"arial\" font-size=\"12.00\" text-anchor=\"middle\" x=\"825\" y=\"-85.4\">experiment.PhotostimTrial</text>\n",
       "</g>\n",
       "<!-- experiment.PhotostimTrial.Event -->\n",
       "<g class=\"node\" id=\"node9\">\n",
       "<title>experiment.PhotostimTrial.Event</title>\n",
       "<polygon fill=\"transparent\" points=\"903.5,-27 746.5,-27 746.5,-8 903.5,-8 903.5,-27\" stroke=\"transparent\"/>\n",
       "<text font-family=\"arial\" font-size=\"10.00\" text-anchor=\"middle\" x=\"825\" y=\"-15\">experiment.PhotostimTrial.Event</text>\n",
       "</g>\n",
       "<!-- experiment.PhotostimTrial&#45;&gt;experiment.PhotostimTrial.Event -->\n",
       "<g class=\"edge\" id=\"edge6\">\n",
       "<title>experiment.PhotostimTrial-&gt;experiment.PhotostimTrial.Event</title>\n",
       "<path d=\"M825,-70.8C825,-57.08 825,-38.19 825,-27.27\" fill=\"none\" stroke=\"#000000\" stroke-opacity=\"0.250980\" stroke-width=\"0.75\"/>\n",
       "</g>\n",
       "<!-- experiment.PassivePhotostimTrial -->\n",
       "<g class=\"node\" id=\"node22\">\n",
       "<title>experiment.PassivePhotostimTrial</title>\n",
       "<ellipse cx=\"631\" cy=\"-17.5\" fill=\"#ff0000\" fill-opacity=\"0.125490\" rx=\"13\" ry=\"13\" stroke=\"#ff0000\" stroke-opacity=\"0.125490\"/>\n",
       "<text fill=\"#7f0000\" fill-opacity=\"0.627451\" font-family=\"arial\" font-size=\"12.00\" text-anchor=\"middle\" x=\"631\" y=\"-14.4\">experiment.PassivePhotostimTrial</text>\n",
       "</g>\n",
       "<!-- experiment.PhotostimTrial&#45;&gt;experiment.PassivePhotostimTrial -->\n",
       "<g class=\"edge\" id=\"edge7\">\n",
       "<title>experiment.PhotostimTrial-&gt;experiment.PassivePhotostimTrial</title>\n",
       "<path d=\"M783.38,-72.7C738.85,-56.86 670.89,-32.69 643.29,-22.87\" fill=\"none\" stroke=\"#000000\" stroke-opacity=\"0.250980\" stroke-width=\"2\"/>\n",
       "</g>\n",
       "<!-- experiment.PhotostimDevice -->\n",
       "<g class=\"node\" id=\"node10\">\n",
       "<title>experiment.PhotostimDevice</title>\n",
       "<polygon fill=\"#000000\" fill-opacity=\"0.125490\" points=\"1238,-177 1098,-177 1098,-142 1238,-142 1238,-177\" stroke=\"transparent\"/>\n",
       "<text font-family=\"arial\" font-size=\"10.00\" text-anchor=\"middle\" x=\"1168\" y=\"-157\">experiment.PhotostimDevice</text>\n",
       "</g>\n",
       "<!-- experiment.Photostim -->\n",
       "<g class=\"node\" id=\"node11\">\n",
       "<title>experiment.Photostim</title>\n",
       "<polygon fill=\"#000000\" fill-opacity=\"0.125490\" points=\"1222,-106 1110,-106 1110,-71 1222,-71 1222,-106\" stroke=\"transparent\"/>\n",
       "<text font-family=\"arial\" font-size=\"10.00\" text-anchor=\"middle\" x=\"1166\" y=\"-86\">experiment.Photostim</text>\n",
       "</g>\n",
       "<!-- experiment.PhotostimDevice&#45;&gt;experiment.Photostim -->\n",
       "<g class=\"edge\" id=\"edge8\">\n",
       "<title>experiment.PhotostimDevice-&gt;experiment.Photostim</title>\n",
       "<path d=\"M1167.52,-141.8C1167.2,-130.95 1166.79,-116.87 1166.48,-106.05\" fill=\"none\" stroke=\"#000000\" stroke-opacity=\"0.250980\" stroke-width=\"0.75\"/>\n",
       "</g>\n",
       "<!-- experiment.Photostim&#45;&gt;experiment.Photostim.Profile -->\n",
       "<g class=\"edge\" id=\"edge9\">\n",
       "<title>experiment.Photostim-&gt;experiment.Photostim.Profile</title>\n",
       "<path d=\"M1166,-70.8C1166,-57.08 1166,-38.19 1166,-27.27\" fill=\"none\" stroke=\"#000000\" stroke-opacity=\"0.250980\" stroke-width=\"0.75\"/>\n",
       "</g>\n",
       "<!-- experiment.Photostim&#45;&gt;experiment.PhotostimTrial.Event -->\n",
       "<g class=\"edge\" id=\"edge10\">\n",
       "<title>experiment.Photostim-&gt;experiment.PhotostimTrial.Event</title>\n",
       "<path d=\"M1109.75,-73.42C1106.12,-72.58 1102.51,-71.77 1099,-71 1020.46,-53.82 928.56,-36.84 873.66,-27.03\" fill=\"none\" stroke=\"#000000\" stroke-opacity=\"0.250980\" stroke-width=\"0.75\"/>\n",
       "</g>\n",
       "<!-- experiment.TrialInstruction -->\n",
       "<g class=\"node\" id=\"node12\">\n",
       "<title>experiment.TrialInstruction</title>\n",
       "<polygon fill=\"#000000\" fill-opacity=\"0.125490\" points=\"295.5,-177 164.5,-177 164.5,-142 295.5,-142 295.5,-177\" stroke=\"transparent\"/>\n",
       "<text font-family=\"arial\" font-size=\"10.00\" text-anchor=\"middle\" x=\"230\" y=\"-157\">experiment.TrialInstruction</text>\n",
       "</g>\n",
       "<!-- experiment.TrialInstruction&#45;&gt;experiment.BehaviorTrial -->\n",
       "<g class=\"edge\" id=\"edge11\">\n",
       "<title>experiment.TrialInstruction-&gt;experiment.BehaviorTrial</title>\n",
       "<path d=\"M230,-141.8C230,-130.95 230,-116.87 230,-106.05\" fill=\"none\" stroke=\"#000000\" stroke-dasharray=\"5,2\" stroke-opacity=\"0.250980\" stroke-width=\"0.75\"/>\n",
       "</g>\n",
       "<!-- experiment.BehaviorTrial&#45;&gt;experiment.TrialEvent -->\n",
       "<g class=\"edge\" id=\"edge12\">\n",
       "<title>experiment.BehaviorTrial-&gt;experiment.TrialEvent</title>\n",
       "<path d=\"M211.12,-70.8C198.85,-59.95 182.94,-45.87 170.71,-35.05\" fill=\"none\" stroke=\"#000000\" stroke-opacity=\"0.250980\" stroke-width=\"0.75\"/>\n",
       "</g>\n",
       "<!-- experiment.BehaviorTrial&#45;&gt;experiment.ActionEvent -->\n",
       "<g class=\"edge\" id=\"edge13\">\n",
       "<title>experiment.BehaviorTrial-&gt;experiment.ActionEvent</title>\n",
       "<path d=\"M248.64,-70.8C260.75,-59.95 276.46,-45.87 288.53,-35.05\" fill=\"none\" stroke=\"#000000\" stroke-opacity=\"0.250980\" stroke-width=\"0.75\"/>\n",
       "</g>\n",
       "<!-- experiment.Outcome -->\n",
       "<g class=\"node\" id=\"node15\">\n",
       "<title>experiment.Outcome</title>\n",
       "<polygon fill=\"#000000\" fill-opacity=\"0.125490\" points=\"420.5,-177 313.5,-177 313.5,-142 420.5,-142 420.5,-177\" stroke=\"transparent\"/>\n",
       "<text font-family=\"arial\" font-size=\"10.00\" text-anchor=\"middle\" x=\"367\" y=\"-157\">experiment.Outcome</text>\n",
       "</g>\n",
       "<!-- experiment.Outcome&#45;&gt;experiment.BehaviorTrial -->\n",
       "<g class=\"edge\" id=\"edge14\">\n",
       "<title>experiment.Outcome-&gt;experiment.BehaviorTrial</title>\n",
       "<path d=\"M334.19,-141.97C312.65,-131.13 284.6,-117 263.02,-106.13\" fill=\"none\" stroke=\"#000000\" stroke-dasharray=\"5,2\" stroke-opacity=\"0.250980\" stroke-width=\"0.75\"/>\n",
       "</g>\n",
       "<!-- experiment.Session.Trial -->\n",
       "<g class=\"node\" id=\"node17\">\n",
       "<title>experiment.Session.Trial</title>\n",
       "<polygon fill=\"transparent\" points=\"871,-169 747,-169 747,-150 871,-150 871,-169\" stroke=\"transparent\"/>\n",
       "<text font-family=\"arial\" font-size=\"10.00\" text-anchor=\"middle\" x=\"809\" y=\"-157\">experiment.Session.Trial</text>\n",
       "</g>\n",
       "<!-- experiment.Session.Trial&#45;&gt;experiment.TrialNote -->\n",
       "<g class=\"edge\" id=\"edge15\">\n",
       "<title>experiment.Session.Trial-&gt;experiment.TrialNote</title>\n",
       "<path d=\"M789.06,-149.9C763.68,-138.95 719.28,-119.81 687.27,-106\" fill=\"none\" stroke=\"#000000\" stroke-opacity=\"0.250980\" stroke-width=\"0.75\"/>\n",
       "</g>\n",
       "<!-- experiment.Session.Trial&#45;&gt;experiment.PhotostimTrial -->\n",
       "<g class=\"edge\" id=\"edge16\">\n",
       "<title>experiment.Session.Trial-&gt;experiment.PhotostimTrial</title>\n",
       "<path d=\"M811.03,-149.76C813.57,-138.81 817.97,-119.81 821.16,-106.07\" fill=\"none\" stroke=\"#000000\" stroke-opacity=\"0.250980\" stroke-width=\"2\"/>\n",
       "</g>\n",
       "<!-- experiment.Session.Trial&#45;&gt;experiment.BehaviorTrial -->\n",
       "<g class=\"edge\" id=\"edge17\">\n",
       "<title>experiment.Session.Trial-&gt;experiment.BehaviorTrial</title>\n",
       "<path d=\"M776.67,-149.95C764.61,-147.04 750.75,-144.01 738,-142 550.31,-112.42 500.11,-132.78 312,-106 309.12,-105.59 306.2,-105.14 303.25,-104.67\" fill=\"none\" stroke=\"#000000\" stroke-opacity=\"0.250980\" stroke-width=\"2\"/>\n",
       "</g>\n",
       "<!-- experiment.Session.Trial&#45;&gt;experiment.Tracking -->\n",
       "<g class=\"edge\" id=\"edge18\">\n",
       "<title>experiment.Session.Trial-&gt;experiment.Tracking</title>\n",
       "<path d=\"M834.55,-149.9C869.22,-138.23 931.56,-117.25 972.87,-103.34\" fill=\"none\" stroke=\"#000000\" stroke-opacity=\"0.250980\" stroke-width=\"0.75\"/>\n",
       "</g>\n",
       "<!-- experiment.EarlyLick -->\n",
       "<g class=\"node\" id=\"node18\">\n",
       "<title>experiment.EarlyLick</title>\n",
       "<polygon fill=\"#000000\" fill-opacity=\"0.125490\" points=\"108,-177 0,-177 0,-142 108,-142 108,-177\" stroke=\"transparent\"/>\n",
       "<text font-family=\"arial\" font-size=\"10.00\" text-anchor=\"middle\" x=\"54\" y=\"-157\">experiment.EarlyLick</text>\n",
       "</g>\n",
       "<!-- experiment.EarlyLick&#45;&gt;experiment.BehaviorTrial -->\n",
       "<g class=\"edge\" id=\"edge19\">\n",
       "<title>experiment.EarlyLick-&gt;experiment.BehaviorTrial</title>\n",
       "<path d=\"M96.16,-141.97C123.92,-131.09 160.13,-116.89 187.88,-106.01\" fill=\"none\" stroke=\"#000000\" stroke-dasharray=\"5,2\" stroke-opacity=\"0.250980\" stroke-width=\"0.75\"/>\n",
       "</g>\n",
       "<!-- experiment.TrialEventType -->\n",
       "<g class=\"node\" id=\"node19\">\n",
       "<title>experiment.TrialEventType</title>\n",
       "<polygon fill=\"#000000\" fill-opacity=\"0.125490\" points=\"138.5,-106 7.5,-106 7.5,-71 138.5,-71 138.5,-106\" stroke=\"transparent\"/>\n",
       "<text font-family=\"arial\" font-size=\"10.00\" text-anchor=\"middle\" x=\"73\" y=\"-86\">experiment.TrialEventType</text>\n",
       "</g>\n",
       "<!-- experiment.TrialEventType&#45;&gt;experiment.TrialEvent -->\n",
       "<g class=\"edge\" id=\"edge20\">\n",
       "<title>experiment.TrialEventType-&gt;experiment.TrialEvent</title>\n",
       "<path d=\"M92.12,-70.8C104.54,-59.95 120.67,-45.87 133.05,-35.05\" fill=\"none\" stroke=\"#000000\" stroke-opacity=\"0.250980\" stroke-width=\"0.75\"/>\n",
       "</g>\n",
       "<!-- experiment.Session -->\n",
       "<g class=\"node\" id=\"node20\">\n",
       "<title>experiment.Session</title>\n",
       "<polygon fill=\"#00ff00\" fill-opacity=\"0.188235\" points=\"869,-248 749,-248 749,-213 869,-213 869,-248\" stroke=\"#00ff00\" stroke-opacity=\"0.188235\"/>\n",
       "<text fill=\"darkgreen\" font-family=\"arial\" font-size=\"12.00\" text-anchor=\"middle\" x=\"809\" y=\"-227.4\">experiment.Session</text>\n",
       "</g>\n",
       "<!-- experiment.Session&#45;&gt;experiment.TaskTraining -->\n",
       "<g class=\"edge\" id=\"edge21\">\n",
       "<title>experiment.Session-&gt;experiment.TaskTraining</title>\n",
       "<path d=\"M748.7,-215.54C700.65,-204.41 633.26,-188.81 582.5,-177.06\" fill=\"none\" stroke=\"#000000\" stroke-opacity=\"0.250980\" stroke-width=\"0.75\"/>\n",
       "</g>\n",
       "<!-- experiment.Session&#45;&gt;experiment.Session.Trial -->\n",
       "<g class=\"edge\" id=\"edge22\">\n",
       "<title>experiment.Session-&gt;experiment.Session.Trial</title>\n",
       "<path d=\"M809,-212.8C809,-199.08 809,-180.19 809,-169.27\" fill=\"none\" stroke=\"#000000\" stroke-opacity=\"0.250980\" stroke-width=\"0.75\"/>\n",
       "</g>\n",
       "</g>\n",
       "</svg>"
      ],
      "text/plain": [
       "<datajoint.erd.ERD at 0x1b7e4748>"
      ]
     },
     "execution_count": 3,
     "metadata": {},
     "output_type": "execute_result"
    }
   ],
   "source": [
    "dj.ERD(experiment)"
   ]
  },
  {
   "cell_type": "code",
   "execution_count": null,
   "metadata": {},
   "outputs": [],
   "source": []
  },
  {
   "cell_type": "code",
   "execution_count": 14,
   "metadata": {},
   "outputs": [
    {
     "ename": "DataJointError",
     "evalue": "The table `daveliu_map_experi`.`session` is not defined.",
     "output_type": "error",
     "traceback": [
      "\u001b[1;31m---------------------------------------------------------------------------\u001b[0m",
      "\u001b[1;31mDataJointError\u001b[0m                            Traceback (most recent call last)",
      "\u001b[1;32mc:\\users\\liul.hhmi\\appdata\\local\\programs\\python\\python36\\lib\\site-packages\\IPython\\core\\formatters.py\u001b[0m in \u001b[0;36m__call__\u001b[1;34m(self, obj)\u001b[0m\n\u001b[0;32m    700\u001b[0m                 \u001b[0mtype_pprinters\u001b[0m\u001b[1;33m=\u001b[0m\u001b[0mself\u001b[0m\u001b[1;33m.\u001b[0m\u001b[0mtype_printers\u001b[0m\u001b[1;33m,\u001b[0m\u001b[1;33m\u001b[0m\u001b[0m\n\u001b[0;32m    701\u001b[0m                 deferred_pprinters=self.deferred_printers)\n\u001b[1;32m--> 702\u001b[1;33m             \u001b[0mprinter\u001b[0m\u001b[1;33m.\u001b[0m\u001b[0mpretty\u001b[0m\u001b[1;33m(\u001b[0m\u001b[0mobj\u001b[0m\u001b[1;33m)\u001b[0m\u001b[1;33m\u001b[0m\u001b[0m\n\u001b[0m\u001b[0;32m    703\u001b[0m             \u001b[0mprinter\u001b[0m\u001b[1;33m.\u001b[0m\u001b[0mflush\u001b[0m\u001b[1;33m(\u001b[0m\u001b[1;33m)\u001b[0m\u001b[1;33m\u001b[0m\u001b[0m\n\u001b[0;32m    704\u001b[0m             \u001b[1;32mreturn\u001b[0m \u001b[0mstream\u001b[0m\u001b[1;33m.\u001b[0m\u001b[0mgetvalue\u001b[0m\u001b[1;33m(\u001b[0m\u001b[1;33m)\u001b[0m\u001b[1;33m\u001b[0m\u001b[0m\n",
      "\u001b[1;32mc:\\users\\liul.hhmi\\appdata\\local\\programs\\python\\python36\\lib\\site-packages\\IPython\\lib\\pretty.py\u001b[0m in \u001b[0;36mpretty\u001b[1;34m(self, obj)\u001b[0m\n\u001b[0;32m    393\u001b[0m                             \u001b[1;32mif\u001b[0m \u001b[0mcallable\u001b[0m\u001b[1;33m(\u001b[0m\u001b[0mmeth\u001b[0m\u001b[1;33m)\u001b[0m\u001b[1;33m:\u001b[0m\u001b[1;33m\u001b[0m\u001b[0m\n\u001b[0;32m    394\u001b[0m                                 \u001b[1;32mreturn\u001b[0m \u001b[0mmeth\u001b[0m\u001b[1;33m(\u001b[0m\u001b[0mobj\u001b[0m\u001b[1;33m,\u001b[0m \u001b[0mself\u001b[0m\u001b[1;33m,\u001b[0m \u001b[0mcycle\u001b[0m\u001b[1;33m)\u001b[0m\u001b[1;33m\u001b[0m\u001b[0m\n\u001b[1;32m--> 395\u001b[1;33m             \u001b[1;32mreturn\u001b[0m \u001b[0m_default_pprint\u001b[0m\u001b[1;33m(\u001b[0m\u001b[0mobj\u001b[0m\u001b[1;33m,\u001b[0m \u001b[0mself\u001b[0m\u001b[1;33m,\u001b[0m \u001b[0mcycle\u001b[0m\u001b[1;33m)\u001b[0m\u001b[1;33m\u001b[0m\u001b[0m\n\u001b[0m\u001b[0;32m    396\u001b[0m         \u001b[1;32mfinally\u001b[0m\u001b[1;33m:\u001b[0m\u001b[1;33m\u001b[0m\u001b[0m\n\u001b[0;32m    397\u001b[0m             \u001b[0mself\u001b[0m\u001b[1;33m.\u001b[0m\u001b[0mend_group\u001b[0m\u001b[1;33m(\u001b[0m\u001b[1;33m)\u001b[0m\u001b[1;33m\u001b[0m\u001b[0m\n",
      "\u001b[1;32mc:\\users\\liul.hhmi\\appdata\\local\\programs\\python\\python36\\lib\\site-packages\\IPython\\lib\\pretty.py\u001b[0m in \u001b[0;36m_default_pprint\u001b[1;34m(obj, p, cycle)\u001b[0m\n\u001b[0;32m    508\u001b[0m     \u001b[1;32mif\u001b[0m \u001b[0m_safe_getattr\u001b[0m\u001b[1;33m(\u001b[0m\u001b[0mklass\u001b[0m\u001b[1;33m,\u001b[0m \u001b[1;34m'__repr__'\u001b[0m\u001b[1;33m,\u001b[0m \u001b[1;32mNone\u001b[0m\u001b[1;33m)\u001b[0m \u001b[1;32mis\u001b[0m \u001b[1;32mnot\u001b[0m \u001b[0mobject\u001b[0m\u001b[1;33m.\u001b[0m\u001b[0m__repr__\u001b[0m\u001b[1;33m:\u001b[0m\u001b[1;33m\u001b[0m\u001b[0m\n\u001b[0;32m    509\u001b[0m         \u001b[1;31m# A user-provided repr. Find newlines and replace them with p.break_()\u001b[0m\u001b[1;33m\u001b[0m\u001b[1;33m\u001b[0m\u001b[0m\n\u001b[1;32m--> 510\u001b[1;33m         \u001b[0m_repr_pprint\u001b[0m\u001b[1;33m(\u001b[0m\u001b[0mobj\u001b[0m\u001b[1;33m,\u001b[0m \u001b[0mp\u001b[0m\u001b[1;33m,\u001b[0m \u001b[0mcycle\u001b[0m\u001b[1;33m)\u001b[0m\u001b[1;33m\u001b[0m\u001b[0m\n\u001b[0m\u001b[0;32m    511\u001b[0m         \u001b[1;32mreturn\u001b[0m\u001b[1;33m\u001b[0m\u001b[0m\n\u001b[0;32m    512\u001b[0m     \u001b[0mp\u001b[0m\u001b[1;33m.\u001b[0m\u001b[0mbegin_group\u001b[0m\u001b[1;33m(\u001b[0m\u001b[1;36m1\u001b[0m\u001b[1;33m,\u001b[0m \u001b[1;34m'<'\u001b[0m\u001b[1;33m)\u001b[0m\u001b[1;33m\u001b[0m\u001b[0m\n",
      "\u001b[1;32mc:\\users\\liul.hhmi\\appdata\\local\\programs\\python\\python36\\lib\\site-packages\\IPython\\lib\\pretty.py\u001b[0m in \u001b[0;36m_repr_pprint\u001b[1;34m(obj, p, cycle)\u001b[0m\n\u001b[0;32m    699\u001b[0m     \u001b[1;34m\"\"\"A pprint that just redirects to the normal repr function.\"\"\"\u001b[0m\u001b[1;33m\u001b[0m\u001b[0m\n\u001b[0;32m    700\u001b[0m     \u001b[1;31m# Find newlines and replace them with p.break_()\u001b[0m\u001b[1;33m\u001b[0m\u001b[1;33m\u001b[0m\u001b[0m\n\u001b[1;32m--> 701\u001b[1;33m     \u001b[0moutput\u001b[0m \u001b[1;33m=\u001b[0m \u001b[0mrepr\u001b[0m\u001b[1;33m(\u001b[0m\u001b[0mobj\u001b[0m\u001b[1;33m)\u001b[0m\u001b[1;33m\u001b[0m\u001b[0m\n\u001b[0m\u001b[0;32m    702\u001b[0m     \u001b[1;32mfor\u001b[0m \u001b[0midx\u001b[0m\u001b[1;33m,\u001b[0m\u001b[0moutput_line\u001b[0m \u001b[1;32min\u001b[0m \u001b[0menumerate\u001b[0m\u001b[1;33m(\u001b[0m\u001b[0moutput\u001b[0m\u001b[1;33m.\u001b[0m\u001b[0msplitlines\u001b[0m\u001b[1;33m(\u001b[0m\u001b[1;33m)\u001b[0m\u001b[1;33m)\u001b[0m\u001b[1;33m:\u001b[0m\u001b[1;33m\u001b[0m\u001b[0m\n\u001b[0;32m    703\u001b[0m         \u001b[1;32mif\u001b[0m \u001b[0midx\u001b[0m\u001b[1;33m:\u001b[0m\u001b[1;33m\u001b[0m\u001b[0m\n",
      "\u001b[1;32mc:\\users\\liul.hhmi\\appdata\\local\\programs\\python\\python36\\lib\\site-packages\\datajoint\\relational_operand.py\u001b[0m in \u001b[0;36m__repr__\u001b[1;34m(self)\u001b[0m\n\u001b[0;32m    393\u001b[0m \u001b[1;33m\u001b[0m\u001b[0m\n\u001b[0;32m    394\u001b[0m     \u001b[1;32mdef\u001b[0m \u001b[0m__repr__\u001b[0m\u001b[1;33m(\u001b[0m\u001b[0mself\u001b[0m\u001b[1;33m)\u001b[0m\u001b[1;33m:\u001b[0m\u001b[1;33m\u001b[0m\u001b[0m\n\u001b[1;32m--> 395\u001b[1;33m         \u001b[1;32mreturn\u001b[0m \u001b[0msuper\u001b[0m\u001b[1;33m(\u001b[0m\u001b[1;33m)\u001b[0m\u001b[1;33m.\u001b[0m\u001b[0m__repr__\u001b[0m\u001b[1;33m(\u001b[0m\u001b[1;33m)\u001b[0m \u001b[1;32mif\u001b[0m \u001b[0mconfig\u001b[0m\u001b[1;33m[\u001b[0m\u001b[1;34m'loglevel'\u001b[0m\u001b[1;33m]\u001b[0m\u001b[1;33m.\u001b[0m\u001b[0mlower\u001b[0m\u001b[1;33m(\u001b[0m\u001b[1;33m)\u001b[0m \u001b[1;33m==\u001b[0m \u001b[1;34m'debug'\u001b[0m \u001b[1;32melse\u001b[0m \u001b[0mself\u001b[0m\u001b[1;33m.\u001b[0m\u001b[0mpreview\u001b[0m\u001b[1;33m(\u001b[0m\u001b[1;33m)\u001b[0m\u001b[1;33m\u001b[0m\u001b[0m\n\u001b[0m\u001b[0;32m    396\u001b[0m \u001b[1;33m\u001b[0m\u001b[0m\n\u001b[0;32m    397\u001b[0m     \u001b[1;32mdef\u001b[0m \u001b[0mpreview\u001b[0m\u001b[1;33m(\u001b[0m\u001b[0mself\u001b[0m\u001b[1;33m,\u001b[0m \u001b[0mlimit\u001b[0m\u001b[1;33m=\u001b[0m\u001b[1;32mNone\u001b[0m\u001b[1;33m,\u001b[0m \u001b[0mwidth\u001b[0m\u001b[1;33m=\u001b[0m\u001b[1;32mNone\u001b[0m\u001b[1;33m)\u001b[0m\u001b[1;33m:\u001b[0m\u001b[1;33m\u001b[0m\u001b[0m\n",
      "\u001b[1;32mc:\\users\\liul.hhmi\\appdata\\local\\programs\\python\\python36\\lib\\site-packages\\datajoint\\relational_operand.py\u001b[0m in \u001b[0;36mpreview\u001b[1;34m(self, limit, width)\u001b[0m\n\u001b[0;32m    399\u001b[0m         \u001b[0mreturns\u001b[0m \u001b[0ma\u001b[0m \u001b[0mpreview\u001b[0m \u001b[0mof\u001b[0m \u001b[0mthe\u001b[0m \u001b[0mcontents\u001b[0m \u001b[0mof\u001b[0m \u001b[0mthe\u001b[0m \u001b[0mrelation\u001b[0m\u001b[1;33m.\u001b[0m\u001b[1;33m\u001b[0m\u001b[0m\n\u001b[0;32m    400\u001b[0m         \"\"\"\n\u001b[1;32m--> 401\u001b[1;33m         rel = self.proj(*self.heading.non_blobs,\n\u001b[0m\u001b[0;32m    402\u001b[0m                         **dict(zip_longest(self.heading.blobs, [], fillvalue=\"'<BLOB>'\")))  # replace blobs with <BLOB>\n\u001b[0;32m    403\u001b[0m         \u001b[1;32mif\u001b[0m \u001b[0mlimit\u001b[0m \u001b[1;32mis\u001b[0m \u001b[1;32mNone\u001b[0m\u001b[1;33m:\u001b[0m\u001b[1;33m\u001b[0m\u001b[0m\n",
      "\u001b[1;32mc:\\users\\liul.hhmi\\appdata\\local\\programs\\python\\python36\\lib\\site-packages\\datajoint\\base_relation.py\u001b[0m in \u001b[0;36mheading\u001b[1;34m(self)\u001b[0m\n\u001b[0;32m     43\u001b[0m             \u001b[0mself\u001b[0m\u001b[1;33m.\u001b[0m\u001b[0m_heading\u001b[0m \u001b[1;33m=\u001b[0m \u001b[0mHeading\u001b[0m\u001b[1;33m(\u001b[0m\u001b[1;33m)\u001b[0m  \u001b[1;31m# instance-level heading\u001b[0m\u001b[1;33m\u001b[0m\u001b[0m\n\u001b[0;32m     44\u001b[0m         \u001b[1;32mif\u001b[0m \u001b[1;32mnot\u001b[0m \u001b[0mself\u001b[0m\u001b[1;33m.\u001b[0m\u001b[0m_heading\u001b[0m\u001b[1;33m:\u001b[0m  \u001b[1;31m# lazy loading of heading\u001b[0m\u001b[1;33m\u001b[0m\u001b[0m\n\u001b[1;32m---> 45\u001b[1;33m             \u001b[0mself\u001b[0m\u001b[1;33m.\u001b[0m\u001b[0m_heading\u001b[0m\u001b[1;33m.\u001b[0m\u001b[0minit_from_database\u001b[0m\u001b[1;33m(\u001b[0m\u001b[0mself\u001b[0m\u001b[1;33m.\u001b[0m\u001b[0mconnection\u001b[0m\u001b[1;33m,\u001b[0m \u001b[0mself\u001b[0m\u001b[1;33m.\u001b[0m\u001b[0mdatabase\u001b[0m\u001b[1;33m,\u001b[0m \u001b[0mself\u001b[0m\u001b[1;33m.\u001b[0m\u001b[0mtable_name\u001b[0m\u001b[1;33m)\u001b[0m\u001b[1;33m\u001b[0m\u001b[0m\n\u001b[0m\u001b[0;32m     46\u001b[0m         \u001b[1;32mreturn\u001b[0m \u001b[0mself\u001b[0m\u001b[1;33m.\u001b[0m\u001b[0m_heading\u001b[0m\u001b[1;33m\u001b[0m\u001b[0m\n\u001b[0;32m     47\u001b[0m \u001b[1;33m\u001b[0m\u001b[0m\n",
      "\u001b[1;32mc:\\users\\liul.hhmi\\appdata\\local\\programs\\python\\python36\\lib\\site-packages\\datajoint\\heading.py\u001b[0m in \u001b[0;36minit_from_database\u001b[1;34m(self, conn, database, table_name)\u001b[0m\n\u001b[0;32m    140\u001b[0m             \u001b[1;32melse\u001b[0m\u001b[1;33m:\u001b[0m\u001b[1;33m\u001b[0m\u001b[0m\n\u001b[0;32m    141\u001b[0m                 raise DataJointError('The table `{database}`.`{table_name}` is not defined.'.format(\n\u001b[1;32m--> 142\u001b[1;33m                     table_name=table_name, database=database))\n\u001b[0m\u001b[0;32m    143\u001b[0m         \u001b[0mself\u001b[0m\u001b[1;33m.\u001b[0m\u001b[0mtable_info\u001b[0m \u001b[1;33m=\u001b[0m \u001b[1;33m{\u001b[0m\u001b[0mk\u001b[0m\u001b[1;33m.\u001b[0m\u001b[0mlower\u001b[0m\u001b[1;33m(\u001b[0m\u001b[1;33m)\u001b[0m\u001b[1;33m:\u001b[0m \u001b[0mv\u001b[0m \u001b[1;32mfor\u001b[0m \u001b[0mk\u001b[0m\u001b[1;33m,\u001b[0m \u001b[0mv\u001b[0m \u001b[1;32min\u001b[0m \u001b[0minfo\u001b[0m\u001b[1;33m.\u001b[0m\u001b[0mitems\u001b[0m\u001b[1;33m(\u001b[0m\u001b[1;33m)\u001b[0m\u001b[1;33m}\u001b[0m\u001b[1;33m\u001b[0m\u001b[0m\n\u001b[0;32m    144\u001b[0m \u001b[1;33m\u001b[0m\u001b[0m\n",
      "\u001b[1;31mDataJointError\u001b[0m: The table `daveliu_map_experi`.`session` is not defined."
     ]
    },
    {
     "ename": "DataJointError",
     "evalue": "The table `daveliu_map_experi`.`session` is not defined.",
     "output_type": "error",
     "traceback": [
      "\u001b[1;31m---------------------------------------------------------------------------\u001b[0m",
      "\u001b[1;31mDataJointError\u001b[0m                            Traceback (most recent call last)",
      "\u001b[1;32mc:\\users\\liul.hhmi\\appdata\\local\\programs\\python\\python36\\lib\\site-packages\\IPython\\core\\formatters.py\u001b[0m in \u001b[0;36m__call__\u001b[1;34m(self, obj)\u001b[0m\n\u001b[0;32m    343\u001b[0m             \u001b[0mmethod\u001b[0m \u001b[1;33m=\u001b[0m \u001b[0mget_real_method\u001b[0m\u001b[1;33m(\u001b[0m\u001b[0mobj\u001b[0m\u001b[1;33m,\u001b[0m \u001b[0mself\u001b[0m\u001b[1;33m.\u001b[0m\u001b[0mprint_method\u001b[0m\u001b[1;33m)\u001b[0m\u001b[1;33m\u001b[0m\u001b[0m\n\u001b[0;32m    344\u001b[0m             \u001b[1;32mif\u001b[0m \u001b[0mmethod\u001b[0m \u001b[1;32mis\u001b[0m \u001b[1;32mnot\u001b[0m \u001b[1;32mNone\u001b[0m\u001b[1;33m:\u001b[0m\u001b[1;33m\u001b[0m\u001b[0m\n\u001b[1;32m--> 345\u001b[1;33m                 \u001b[1;32mreturn\u001b[0m \u001b[0mmethod\u001b[0m\u001b[1;33m(\u001b[0m\u001b[1;33m)\u001b[0m\u001b[1;33m\u001b[0m\u001b[0m\n\u001b[0m\u001b[0;32m    346\u001b[0m             \u001b[1;32mreturn\u001b[0m \u001b[1;32mNone\u001b[0m\u001b[1;33m\u001b[0m\u001b[0m\n\u001b[0;32m    347\u001b[0m         \u001b[1;32melse\u001b[0m\u001b[1;33m:\u001b[0m\u001b[1;33m\u001b[0m\u001b[0m\n",
      "\u001b[1;32mc:\\users\\liul.hhmi\\appdata\\local\\programs\\python\\python36\\lib\\site-packages\\datajoint\\relational_operand.py\u001b[0m in \u001b[0;36m_repr_html_\u001b[1;34m(self)\u001b[0m\n\u001b[0;32m    419\u001b[0m \u001b[1;33m\u001b[0m\u001b[0m\n\u001b[0;32m    420\u001b[0m     \u001b[1;32mdef\u001b[0m \u001b[0m_repr_html_\u001b[0m\u001b[1;33m(\u001b[0m\u001b[0mself\u001b[0m\u001b[1;33m)\u001b[0m\u001b[1;33m:\u001b[0m\u001b[1;33m\u001b[0m\u001b[0m\n\u001b[1;32m--> 421\u001b[1;33m         rel = self.proj(*self.heading.non_blobs,\n\u001b[0m\u001b[0;32m    422\u001b[0m                         **dict(zip_longest(self.heading.blobs, [], fillvalue=\"'=BLOB='\")))  # replace blobs with =BLOB=\n\u001b[0;32m    423\u001b[0m         \u001b[0minfo\u001b[0m \u001b[1;33m=\u001b[0m \u001b[0mself\u001b[0m\u001b[1;33m.\u001b[0m\u001b[0mheading\u001b[0m\u001b[1;33m.\u001b[0m\u001b[0mtable_info\u001b[0m\u001b[1;33m\u001b[0m\u001b[0m\n",
      "\u001b[1;32mc:\\users\\liul.hhmi\\appdata\\local\\programs\\python\\python36\\lib\\site-packages\\datajoint\\base_relation.py\u001b[0m in \u001b[0;36mheading\u001b[1;34m(self)\u001b[0m\n\u001b[0;32m     43\u001b[0m             \u001b[0mself\u001b[0m\u001b[1;33m.\u001b[0m\u001b[0m_heading\u001b[0m \u001b[1;33m=\u001b[0m \u001b[0mHeading\u001b[0m\u001b[1;33m(\u001b[0m\u001b[1;33m)\u001b[0m  \u001b[1;31m# instance-level heading\u001b[0m\u001b[1;33m\u001b[0m\u001b[0m\n\u001b[0;32m     44\u001b[0m         \u001b[1;32mif\u001b[0m \u001b[1;32mnot\u001b[0m \u001b[0mself\u001b[0m\u001b[1;33m.\u001b[0m\u001b[0m_heading\u001b[0m\u001b[1;33m:\u001b[0m  \u001b[1;31m# lazy loading of heading\u001b[0m\u001b[1;33m\u001b[0m\u001b[0m\n\u001b[1;32m---> 45\u001b[1;33m             \u001b[0mself\u001b[0m\u001b[1;33m.\u001b[0m\u001b[0m_heading\u001b[0m\u001b[1;33m.\u001b[0m\u001b[0minit_from_database\u001b[0m\u001b[1;33m(\u001b[0m\u001b[0mself\u001b[0m\u001b[1;33m.\u001b[0m\u001b[0mconnection\u001b[0m\u001b[1;33m,\u001b[0m \u001b[0mself\u001b[0m\u001b[1;33m.\u001b[0m\u001b[0mdatabase\u001b[0m\u001b[1;33m,\u001b[0m \u001b[0mself\u001b[0m\u001b[1;33m.\u001b[0m\u001b[0mtable_name\u001b[0m\u001b[1;33m)\u001b[0m\u001b[1;33m\u001b[0m\u001b[0m\n\u001b[0m\u001b[0;32m     46\u001b[0m         \u001b[1;32mreturn\u001b[0m \u001b[0mself\u001b[0m\u001b[1;33m.\u001b[0m\u001b[0m_heading\u001b[0m\u001b[1;33m\u001b[0m\u001b[0m\n\u001b[0;32m     47\u001b[0m \u001b[1;33m\u001b[0m\u001b[0m\n",
      "\u001b[1;32mc:\\users\\liul.hhmi\\appdata\\local\\programs\\python\\python36\\lib\\site-packages\\datajoint\\heading.py\u001b[0m in \u001b[0;36minit_from_database\u001b[1;34m(self, conn, database, table_name)\u001b[0m\n\u001b[0;32m    140\u001b[0m             \u001b[1;32melse\u001b[0m\u001b[1;33m:\u001b[0m\u001b[1;33m\u001b[0m\u001b[0m\n\u001b[0;32m    141\u001b[0m                 raise DataJointError('The table `{database}`.`{table_name}` is not defined.'.format(\n\u001b[1;32m--> 142\u001b[1;33m                     table_name=table_name, database=database))\n\u001b[0m\u001b[0;32m    143\u001b[0m         \u001b[0mself\u001b[0m\u001b[1;33m.\u001b[0m\u001b[0mtable_info\u001b[0m \u001b[1;33m=\u001b[0m \u001b[1;33m{\u001b[0m\u001b[0mk\u001b[0m\u001b[1;33m.\u001b[0m\u001b[0mlower\u001b[0m\u001b[1;33m(\u001b[0m\u001b[1;33m)\u001b[0m\u001b[1;33m:\u001b[0m \u001b[0mv\u001b[0m \u001b[1;32mfor\u001b[0m \u001b[0mk\u001b[0m\u001b[1;33m,\u001b[0m \u001b[0mv\u001b[0m \u001b[1;32min\u001b[0m \u001b[0minfo\u001b[0m\u001b[1;33m.\u001b[0m\u001b[0mitems\u001b[0m\u001b[1;33m(\u001b[0m\u001b[1;33m)\u001b[0m\u001b[1;33m}\u001b[0m\u001b[1;33m\u001b[0m\u001b[0m\n\u001b[0;32m    144\u001b[0m \u001b[1;33m\u001b[0m\u001b[0m\n",
      "\u001b[1;31mDataJointError\u001b[0m: The table `daveliu_map_experi`.`session` is not defined."
     ]
    }
   ],
   "source": [
    "mouse=experiment.Session()\n",
    "mouse"
   ]
  },
  {
   "cell_type": "code",
   "execution_count": null,
   "metadata": {
    "scrolled": true
   },
   "outputs": [],
   "source": [
    "person=ephys.experiment.lab.Person()\n",
    "#person.insert1(('daveliu', 'Dave Liu'))\n",
    "person"
   ]
  },
  {
   "cell_type": "code",
   "execution_count": 9,
   "metadata": {},
   "outputs": [
    {
     "data": {
      "text/html": [
       "\n",
       "        \n",
       "        <style type=\"text/css\">\n",
       "            .Relation{\n",
       "                border-collapse:collapse;\n",
       "            }\n",
       "            .Relation th{\n",
       "                background: #A0A0A0; color: #ffffff; padding:4px; border:#f0e0e0 1px solid;\n",
       "                font-weight: normal; font-family: monospace; font-size: 75%;\n",
       "            }\n",
       "            .Relation td{\n",
       "                padding:4px; border:#f0e0e0 1px solid; font-size:75%;\n",
       "            }\n",
       "            .Relation tr:nth-child(odd){\n",
       "                background: #ffffff;\n",
       "            }\n",
       "            .Relation tr:nth-child(even){\n",
       "                background: #f3f1ff;\n",
       "            }\n",
       "            /* Tooltip container */\n",
       "            .djtooltip {\n",
       "            }\n",
       "\n",
       "            /* Tooltip text */\n",
       "            .djtooltip .djtooltiptext {\n",
       "                visibility: hidden;\n",
       "                width: 120px;\n",
       "                background-color: black;\n",
       "                color: #fff;\n",
       "                text-align: center;\n",
       "                padding: 5px 0;\n",
       "                border-radius: 6px;\n",
       "\n",
       "                /* Position the tooltip text - see examples below! */\n",
       "                position: absolute;\n",
       "                z-index: 1;\n",
       "            }\n",
       "\n",
       "\n",
       "            #primary {\n",
       "                font-weight: bold;\n",
       "                color: black;\n",
       "            }\n",
       "\n",
       "            #nonprimary {\n",
       "                font-weight: normal;\n",
       "                color: white;\n",
       "            }\n",
       "\n",
       "            /* Show the tooltip text when you mouse over the tooltip container */\n",
       "            .djtooltip:hover .djtooltiptext {\n",
       "                visibility: visible;\n",
       "            }\n",
       "        </style>\n",
       "        \n",
       "        <b></b>\n",
       "            <div style=\"max-height:1000px;max-width:1500px;overflow:auto;\">\n",
       "            <table border=\"1\" class=\"Relation\">\n",
       "                <thead> <tr style=\"text-align: right;\"> <th> <div class=\"djtooltip\">\n",
       "                                <p id=\"primary\">rig</p>\n",
       "                                <span class=\"djtooltiptext\"></span>\n",
       "                            </div></th><th><div class=\"djtooltip\">\n",
       "                                <p id=\"nonprimary\">rig_description</p>\n",
       "                                <span class=\"djtooltiptext\"></span>\n",
       "                            </div> </th> </tr> </thead>\n",
       "                <tbody> <tr> <td>RRig</td>\n",
       "<td>Recording Rig</td></tr><tr><td>TRig1</td>\n",
       "<td>Training rig 1</td></tr><tr><td>TRig2</td>\n",
       "<td>Training rig 2</td> </tr> </tbody>\n",
       "            </table>\n",
       "            \n",
       "            <p>3 tuples</p></div>\n",
       "            "
      ],
      "text/plain": [
       "*rig      rig_descriptio\n",
       "+-------+ +------------+\n",
       "RRig      Recording Rig \n",
       "TRig1     Training rig 1\n",
       "TRig2     Training rig 2\n",
       " (3 tuples)"
      ]
     },
     "execution_count": 9,
     "metadata": {},
     "output_type": "execute_result"
    }
   ],
   "source": [
    "rig=lab.Rig()\n",
    "#rig.insert1(('TRig2', 'Training rig 2'))\n",
    "rig"
   ]
  },
  {
   "cell_type": "code",
   "execution_count": 10,
   "metadata": {},
   "outputs": [
    {
     "name": "stdout",
     "output_type": "stream",
     "text": [
      "`daveliu_map`.`rig` (3 tuples)\n"
     ]
    },
    {
     "ename": "DataJointError",
     "evalue": "The table `daveliu_map_experi`.`session` is not defined.",
     "output_type": "error",
     "traceback": [
      "\u001b[1;31m---------------------------------------------------------------------------\u001b[0m",
      "\u001b[1;31mDataJointError\u001b[0m                            Traceback (most recent call last)",
      "\u001b[1;32m<ipython-input-10-500a52ef5085>\u001b[0m in \u001b[0;36m<module>\u001b[1;34m()\u001b[0m\n\u001b[1;32m----> 1\u001b[1;33m \u001b[0mrig\u001b[0m\u001b[1;33m.\u001b[0m\u001b[0mdrop\u001b[0m\u001b[1;33m(\u001b[0m\u001b[1;33m)\u001b[0m\u001b[1;33m\u001b[0m\u001b[0m\n\u001b[0m",
      "\u001b[1;32mc:\\users\\liul.hhmi\\appdata\\local\\programs\\python\\python36\\lib\\site-packages\\datajoint\\base_relation.py\u001b[0m in \u001b[0;36mdrop\u001b[1;34m(self)\u001b[0m\n\u001b[0;32m    399\u001b[0m         \u001b[1;32mif\u001b[0m \u001b[0mconfig\u001b[0m\u001b[1;33m[\u001b[0m\u001b[1;34m'safemode'\u001b[0m\u001b[1;33m]\u001b[0m\u001b[1;33m:\u001b[0m\u001b[1;33m\u001b[0m\u001b[0m\n\u001b[0;32m    400\u001b[0m             \u001b[1;32mfor\u001b[0m \u001b[0mtable\u001b[0m \u001b[1;32min\u001b[0m \u001b[0mtables\u001b[0m\u001b[1;33m:\u001b[0m\u001b[1;33m\u001b[0m\u001b[0m\n\u001b[1;32m--> 401\u001b[1;33m                 \u001b[0mprint\u001b[0m\u001b[1;33m(\u001b[0m\u001b[0mtable\u001b[0m\u001b[1;33m,\u001b[0m \u001b[1;34m'(%d tuples)'\u001b[0m \u001b[1;33m%\u001b[0m \u001b[0mlen\u001b[0m\u001b[1;33m(\u001b[0m\u001b[0mFreeRelation\u001b[0m\u001b[1;33m(\u001b[0m\u001b[0mself\u001b[0m\u001b[1;33m.\u001b[0m\u001b[0mconnection\u001b[0m\u001b[1;33m,\u001b[0m \u001b[0mtable\u001b[0m\u001b[1;33m)\u001b[0m\u001b[1;33m)\u001b[0m\u001b[1;33m)\u001b[0m\u001b[1;33m\u001b[0m\u001b[0m\n\u001b[0m\u001b[0;32m    402\u001b[0m             \u001b[0mdo_drop\u001b[0m \u001b[1;33m=\u001b[0m \u001b[0muser_choice\u001b[0m\u001b[1;33m(\u001b[0m\u001b[1;34m\"Proceed?\"\u001b[0m\u001b[1;33m,\u001b[0m \u001b[0mdefault\u001b[0m\u001b[1;33m=\u001b[0m\u001b[1;34m'no'\u001b[0m\u001b[1;33m)\u001b[0m \u001b[1;33m==\u001b[0m \u001b[1;34m'yes'\u001b[0m\u001b[1;33m\u001b[0m\u001b[0m\n\u001b[0;32m    403\u001b[0m         \u001b[1;32mif\u001b[0m \u001b[0mdo_drop\u001b[0m\u001b[1;33m:\u001b[0m\u001b[1;33m\u001b[0m\u001b[0m\n",
      "\u001b[1;32mc:\\users\\liul.hhmi\\appdata\\local\\programs\\python\\python36\\lib\\site-packages\\datajoint\\relational_operand.py\u001b[0m in \u001b[0;36m__len__\u001b[1;34m(self)\u001b[0m\n\u001b[0;32m    518\u001b[0m         \u001b[0mnumber\u001b[0m \u001b[0mof\u001b[0m \u001b[0mtuples\u001b[0m \u001b[1;32min\u001b[0m \u001b[0mthe\u001b[0m \u001b[0mrelation\u001b[0m\u001b[1;33m.\u001b[0m\u001b[1;33m\u001b[0m\u001b[0m\n\u001b[0;32m    519\u001b[0m         \"\"\"\n\u001b[1;32m--> 520\u001b[1;33m         \u001b[1;32mreturn\u001b[0m \u001b[0mU\u001b[0m\u001b[1;33m(\u001b[0m\u001b[1;33m)\u001b[0m\u001b[1;33m.\u001b[0m\u001b[0maggr\u001b[0m\u001b[1;33m(\u001b[0m\u001b[0mself\u001b[0m\u001b[1;33m,\u001b[0m \u001b[0mn\u001b[0m\u001b[1;33m=\u001b[0m\u001b[1;34m'count(*)'\u001b[0m\u001b[1;33m)\u001b[0m\u001b[1;33m.\u001b[0m\u001b[0mfetch1\u001b[0m\u001b[1;33m(\u001b[0m\u001b[1;34m'n'\u001b[0m\u001b[1;33m)\u001b[0m\u001b[1;33m\u001b[0m\u001b[0m\n\u001b[0m\u001b[0;32m    521\u001b[0m \u001b[1;33m\u001b[0m\u001b[0m\n\u001b[0;32m    522\u001b[0m     \u001b[1;32mdef\u001b[0m \u001b[0m__bool__\u001b[0m\u001b[1;33m(\u001b[0m\u001b[0mself\u001b[0m\u001b[1;33m)\u001b[0m\u001b[1;33m:\u001b[0m\u001b[1;33m\u001b[0m\u001b[0m\n",
      "\u001b[1;32mc:\\users\\liul.hhmi\\appdata\\local\\programs\\python\\python36\\lib\\site-packages\\datajoint\\relational_operand.py\u001b[0m in \u001b[0;36maggregate\u001b[1;34m(self, group, **named_attributes)\u001b[0m\n\u001b[0;32m    903\u001b[0m             \u001b[0mGroupBy\u001b[0m\u001b[1;33m.\u001b[0m\u001b[0mcreate\u001b[0m\u001b[1;33m(\u001b[0m\u001b[0mself\u001b[0m\u001b[1;33m,\u001b[0m \u001b[0mgroup\u001b[0m\u001b[1;33m=\u001b[0m\u001b[0mgroup\u001b[0m\u001b[1;33m,\u001b[0m \u001b[0mkeep_all_rows\u001b[0m\u001b[1;33m=\u001b[0m\u001b[1;32mFalse\u001b[0m\u001b[1;33m,\u001b[0m \u001b[0mattributes\u001b[0m\u001b[1;33m=\u001b[0m\u001b[1;33m(\u001b[0m\u001b[1;33m)\u001b[0m\u001b[1;33m,\u001b[0m \u001b[0mnamed_attributes\u001b[0m\u001b[1;33m=\u001b[0m\u001b[0mnamed_attributes\u001b[0m\u001b[1;33m)\u001b[0m\u001b[1;33m\u001b[0m\u001b[0m\n\u001b[0;32m    904\u001b[0m             \u001b[1;32mif\u001b[0m \u001b[0mself\u001b[0m\u001b[1;33m.\u001b[0m\u001b[0mprimary_key\u001b[0m \u001b[1;32melse\u001b[0m\u001b[1;33m\u001b[0m\u001b[0m\n\u001b[1;32m--> 905\u001b[1;33m             Projection.create(group, attributes=(), named_attributes=named_attributes, include_primary_key=False))\n\u001b[0m\u001b[0;32m    906\u001b[0m \u001b[1;33m\u001b[0m\u001b[0m\n\u001b[0;32m    907\u001b[0m     \u001b[0maggr\u001b[0m \u001b[1;33m=\u001b[0m \u001b[0maggregate\u001b[0m  \u001b[1;31m# shorthand\u001b[0m\u001b[1;33m\u001b[0m\u001b[0m\n",
      "\u001b[1;32mc:\\users\\liul.hhmi\\appdata\\local\\programs\\python\\python36\\lib\\site-packages\\datajoint\\relational_operand.py\u001b[0m in \u001b[0;36mcreate\u001b[1;34m(cls, arg, attributes, named_attributes, include_primary_key)\u001b[0m\n\u001b[0;32m    694\u001b[0m         \u001b[1;32melse\u001b[0m\u001b[1;33m:\u001b[0m\u001b[1;33m\u001b[0m\u001b[0m\n\u001b[0;32m    695\u001b[0m             \u001b[1;31m# make distinct if the primary key is not completely selected\u001b[0m\u001b[1;33m\u001b[0m\u001b[1;33m\u001b[0m\u001b[0m\n\u001b[1;32m--> 696\u001b[1;33m             obj._distinct = obj._distinct or not set(arg.primary_key).issubset(\n\u001b[0m\u001b[0;32m    697\u001b[0m                 set(attributes) | set(named_attributes.values()))\n\u001b[0;32m    698\u001b[0m         \u001b[1;32mif\u001b[0m \u001b[0mobj\u001b[0m\u001b[1;33m.\u001b[0m\u001b[0m_distinct\u001b[0m \u001b[1;32mor\u001b[0m \u001b[0mcls\u001b[0m\u001b[1;33m.\u001b[0m\u001b[0m_need_subquery\u001b[0m\u001b[1;33m(\u001b[0m\u001b[0marg\u001b[0m\u001b[1;33m,\u001b[0m \u001b[0mattributes\u001b[0m\u001b[1;33m,\u001b[0m \u001b[0mnamed_attributes\u001b[0m\u001b[1;33m)\u001b[0m\u001b[1;33m:\u001b[0m\u001b[1;33m\u001b[0m\u001b[0m\n",
      "\u001b[1;32mc:\\users\\liul.hhmi\\appdata\\local\\programs\\python\\python36\\lib\\site-packages\\datajoint\\relational_operand.py\u001b[0m in \u001b[0;36mprimary_key\u001b[1;34m(self)\u001b[0m\n\u001b[0;32m    164\u001b[0m     \u001b[1;33m@\u001b[0m\u001b[0mproperty\u001b[0m\u001b[1;33m\u001b[0m\u001b[0m\n\u001b[0;32m    165\u001b[0m     \u001b[1;32mdef\u001b[0m \u001b[0mprimary_key\u001b[0m\u001b[1;33m(\u001b[0m\u001b[0mself\u001b[0m\u001b[1;33m)\u001b[0m\u001b[1;33m:\u001b[0m\u001b[1;33m\u001b[0m\u001b[0m\n\u001b[1;32m--> 166\u001b[1;33m         \u001b[1;32mreturn\u001b[0m \u001b[0mself\u001b[0m\u001b[1;33m.\u001b[0m\u001b[0mheading\u001b[0m\u001b[1;33m.\u001b[0m\u001b[0mprimary_key\u001b[0m\u001b[1;33m\u001b[0m\u001b[0m\n\u001b[0m\u001b[0;32m    167\u001b[0m \u001b[1;33m\u001b[0m\u001b[0m\n\u001b[0;32m    168\u001b[0m     \u001b[1;33m@\u001b[0m\u001b[0mproperty\u001b[0m\u001b[1;33m\u001b[0m\u001b[0m\n",
      "\u001b[1;32mc:\\users\\liul.hhmi\\appdata\\local\\programs\\python\\python36\\lib\\site-packages\\datajoint\\base_relation.py\u001b[0m in \u001b[0;36mheading\u001b[1;34m(self)\u001b[0m\n\u001b[0;32m     43\u001b[0m             \u001b[0mself\u001b[0m\u001b[1;33m.\u001b[0m\u001b[0m_heading\u001b[0m \u001b[1;33m=\u001b[0m \u001b[0mHeading\u001b[0m\u001b[1;33m(\u001b[0m\u001b[1;33m)\u001b[0m  \u001b[1;31m# instance-level heading\u001b[0m\u001b[1;33m\u001b[0m\u001b[0m\n\u001b[0;32m     44\u001b[0m         \u001b[1;32mif\u001b[0m \u001b[1;32mnot\u001b[0m \u001b[0mself\u001b[0m\u001b[1;33m.\u001b[0m\u001b[0m_heading\u001b[0m\u001b[1;33m:\u001b[0m  \u001b[1;31m# lazy loading of heading\u001b[0m\u001b[1;33m\u001b[0m\u001b[0m\n\u001b[1;32m---> 45\u001b[1;33m             \u001b[0mself\u001b[0m\u001b[1;33m.\u001b[0m\u001b[0m_heading\u001b[0m\u001b[1;33m.\u001b[0m\u001b[0minit_from_database\u001b[0m\u001b[1;33m(\u001b[0m\u001b[0mself\u001b[0m\u001b[1;33m.\u001b[0m\u001b[0mconnection\u001b[0m\u001b[1;33m,\u001b[0m \u001b[0mself\u001b[0m\u001b[1;33m.\u001b[0m\u001b[0mdatabase\u001b[0m\u001b[1;33m,\u001b[0m \u001b[0mself\u001b[0m\u001b[1;33m.\u001b[0m\u001b[0mtable_name\u001b[0m\u001b[1;33m)\u001b[0m\u001b[1;33m\u001b[0m\u001b[0m\n\u001b[0m\u001b[0;32m     46\u001b[0m         \u001b[1;32mreturn\u001b[0m \u001b[0mself\u001b[0m\u001b[1;33m.\u001b[0m\u001b[0m_heading\u001b[0m\u001b[1;33m\u001b[0m\u001b[0m\n\u001b[0;32m     47\u001b[0m \u001b[1;33m\u001b[0m\u001b[0m\n",
      "\u001b[1;32mc:\\users\\liul.hhmi\\appdata\\local\\programs\\python\\python36\\lib\\site-packages\\datajoint\\heading.py\u001b[0m in \u001b[0;36minit_from_database\u001b[1;34m(self, conn, database, table_name)\u001b[0m\n\u001b[0;32m    140\u001b[0m             \u001b[1;32melse\u001b[0m\u001b[1;33m:\u001b[0m\u001b[1;33m\u001b[0m\u001b[0m\n\u001b[0;32m    141\u001b[0m                 raise DataJointError('The table `{database}`.`{table_name}` is not defined.'.format(\n\u001b[1;32m--> 142\u001b[1;33m                     table_name=table_name, database=database))\n\u001b[0m\u001b[0;32m    143\u001b[0m         \u001b[0mself\u001b[0m\u001b[1;33m.\u001b[0m\u001b[0mtable_info\u001b[0m \u001b[1;33m=\u001b[0m \u001b[1;33m{\u001b[0m\u001b[0mk\u001b[0m\u001b[1;33m.\u001b[0m\u001b[0mlower\u001b[0m\u001b[1;33m(\u001b[0m\u001b[1;33m)\u001b[0m\u001b[1;33m:\u001b[0m \u001b[0mv\u001b[0m \u001b[1;32mfor\u001b[0m \u001b[0mk\u001b[0m\u001b[1;33m,\u001b[0m \u001b[0mv\u001b[0m \u001b[1;32min\u001b[0m \u001b[0minfo\u001b[0m\u001b[1;33m.\u001b[0m\u001b[0mitems\u001b[0m\u001b[1;33m(\u001b[0m\u001b[1;33m)\u001b[0m\u001b[1;33m}\u001b[0m\u001b[1;33m\u001b[0m\u001b[0m\n\u001b[0;32m    144\u001b[0m \u001b[1;33m\u001b[0m\u001b[0m\n",
      "\u001b[1;31mDataJointError\u001b[0m: The table `daveliu_map_experi`.`session` is not defined."
     ]
    }
   ],
   "source": [
    "rig.drop()"
   ]
  },
  {
   "cell_type": "code",
   "execution_count": null,
   "metadata": {},
   "outputs": [],
   "source": [
    "animalWaterRestriction=ephys.experiment.lab.AnimalWaterRestriction()\n",
    "#animalWaterRestriction.insert1((123456, 'tw5'))\n",
    "animalWaterRestriction"
   ]
  },
  {
   "cell_type": "code",
   "execution_count": null,
   "metadata": {},
   "outputs": [],
   "source": [
    "dj.ERD(ephys.experiment)"
   ]
  },
  {
   "cell_type": "code",
   "execution_count": null,
   "metadata": {},
   "outputs": [],
   "source": [
    "import ingest\n",
    "rigDataPath=ingest.RigDataPath()\n",
    "rigDataFile = ingest.RigDataFile()"
   ]
  },
  {
   "cell_type": "code",
   "execution_count": null,
   "metadata": {},
   "outputs": [],
   "source": [
    "#importedSessionFile\n",
    "#importedSessionFile.drop()\n",
    "rigDataFile.populate()"
   ]
  },
  {
   "cell_type": "code",
   "execution_count": null,
   "metadata": {
    "scrolled": true
   },
   "outputs": [],
   "source": [
    "rigDataPath"
   ]
  },
  {
   "cell_type": "code",
   "execution_count": null,
   "metadata": {},
   "outputs": [],
   "source": [
    "importedSessionFileIngest"
   ]
  },
  {
   "cell_type": "code",
   "execution_count": null,
   "metadata": {},
   "outputs": [],
   "source": []
  },
  {
   "cell_type": "code",
   "execution_count": null,
   "metadata": {},
   "outputs": [],
   "source": []
  },
  {
   "cell_type": "code",
   "execution_count": null,
   "metadata": {},
   "outputs": [],
   "source": []
  },
  {
   "cell_type": "code",
   "execution_count": null,
   "metadata": {},
   "outputs": [],
   "source": []
  },
  {
   "cell_type": "code",
   "execution_count": null,
   "metadata": {},
   "outputs": [],
   "source": []
  },
  {
   "cell_type": "code",
   "execution_count": null,
   "metadata": {},
   "outputs": [],
   "source": []
  },
  {
   "cell_type": "code",
   "execution_count": null,
   "metadata": {},
   "outputs": [],
   "source": [
    "session=ephys.experiment.Session()\n",
    "session"
   ]
  },
  {
   "cell_type": "code",
   "execution_count": null,
   "metadata": {},
   "outputs": [],
   "source": []
  },
  {
   "cell_type": "code",
   "execution_count": null,
   "metadata": {},
   "outputs": [],
   "source": []
  },
  {
   "cell_type": "code",
   "execution_count": null,
   "metadata": {},
   "outputs": [],
   "source": []
  },
  {
   "cell_type": "code",
   "execution_count": null,
   "metadata": {},
   "outputs": [],
   "source": []
  },
  {
   "cell_type": "code",
   "execution_count": null,
   "metadata": {},
   "outputs": [],
   "source": []
  },
  {
   "cell_type": "code",
   "execution_count": null,
   "metadata": {},
   "outputs": [],
   "source": [
    "trialNote = ephys.experiment.TrialNote()"
   ]
  },
  {
   "cell_type": "code",
   "execution_count": null,
   "metadata": {},
   "outputs": [],
   "source": [
    "import numpy as np"
   ]
  },
  {
   "cell_type": "code",
   "execution_count": null,
   "metadata": {},
   "outputs": [],
   "source": [
    "behaviorTrial = ephys.experiment.BehaviorTrial()"
   ]
  },
  {
   "cell_type": "code",
   "execution_count": null,
   "metadata": {},
   "outputs": [],
   "source": [
    "outcome = (behaviorTrial & 'animal = 399752').fetch('outcome', order_by='session')\n",
    "early_lick = (behaviorTrial & 'animal = 399752').fetch('early_lick', order_by='session')"
   ]
  },
  {
   "cell_type": "code",
   "execution_count": null,
   "metadata": {},
   "outputs": [],
   "source": [
    "data = np.zeros(len(outcome))\n",
    "data1 = np.zeros(len(early_lick))\n",
    "data2 = np.zeros(len(outcome))"
   ]
  },
  {
   "cell_type": "code",
   "execution_count": null,
   "metadata": {},
   "outputs": [],
   "source": [
    "data[outcome=='hit'] = 1\n",
    "data1[early_lick=='early'] = 1\n",
    "data2[outcome=='ignore'] = 1"
   ]
  },
  {
   "cell_type": "code",
   "execution_count": null,
   "metadata": {},
   "outputs": [],
   "source": [
    "trial_note = (trialNote & 'animal = 123456').fetch('trial_note', order_by='session')\n",
    "results = list(map(int, trial_note))\n",
    "protDiff = np.diff(results)\n",
    "protChange = np.where(protDiff != 0)"
   ]
  },
  {
   "cell_type": "code",
   "execution_count": null,
   "metadata": {},
   "outputs": [],
   "source": [
    "def movingaverage (values, window):\n",
    "    weights = np.repeat(1.0, window)/window\n",
    "    sma = np.convolve(values, weights, 'valid')\n",
    "    return sma"
   ]
  },
  {
   "cell_type": "code",
   "execution_count": null,
   "metadata": {},
   "outputs": [],
   "source": [
    "yMA = movingaverage(data,200)\n",
    "plt.plot(yMA)\n",
    "plt.xlabel('Trials')\n",
    "plt.ylabel('Proportion Correct')\n",
    "for i in range(0, len(protChange[0])):\n",
    "    plt.axvline(protChange[0][i], linewidth=4, color='r')\n"
   ]
  },
  {
   "cell_type": "code",
   "execution_count": null,
   "metadata": {},
   "outputs": [],
   "source": [
    "yMA = movingaverage(data1,200)\n",
    "plt.plot(yMA)\n",
    "plt.xlabel('Trials')\n",
    "plt.ylabel('Early Licks')\n",
    "for i in range(0, len(protChange[0])):\n",
    "    plt.axvline(protChange[0][i], linewidth=4, color='r')\n"
   ]
  },
  {
   "cell_type": "code",
   "execution_count": null,
   "metadata": {},
   "outputs": [],
   "source": [
    "yMA = movingaverage(data2,20)\n",
    "plt.plot(yMA)\n",
    "plt.xlabel('Trials')\n",
    "plt.ylabel('Ignores')\n",
    "for i in range(0, len(protChange[0])):\n",
    "    plt.axvline(protChange[0][i], linewidth=4, color='r')\n",
    "plt.savefig('')"
   ]
  },
  {
   "cell_type": "code",
   "execution_count": null,
   "metadata": {},
   "outputs": [],
   "source": [
    "len(outcome)"
   ]
  },
  {
   "cell_type": "code",
   "execution_count": null,
   "metadata": {},
   "outputs": [],
   "source": []
  },
  {
   "cell_type": "code",
   "execution_count": null,
   "metadata": {},
   "outputs": [],
   "source": [
    "\n"
   ]
  },
  {
   "cell_type": "code",
   "execution_count": null,
   "metadata": {},
   "outputs": [],
   "source": []
  },
  {
   "cell_type": "code",
   "execution_count": null,
   "metadata": {},
   "outputs": [],
   "source": []
  }
 ],
 "metadata": {
  "kernelspec": {
   "display_name": "Python 3",
   "language": "python",
   "name": "python3"
  },
  "language_info": {
   "codemirror_mode": {
    "name": "ipython",
    "version": 3
   },
   "file_extension": ".py",
   "mimetype": "text/x-python",
   "name": "python",
   "nbconvert_exporter": "python",
   "pygments_lexer": "ipython3",
   "version": "3.6.3"
  }
 },
 "nbformat": 4,
 "nbformat_minor": 2
}
