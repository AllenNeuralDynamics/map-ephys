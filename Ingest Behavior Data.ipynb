{
 "cells": [
  {
   "cell_type": "code",
   "execution_count": 1,
   "metadata": {},
   "outputs": [],
   "source": [
    "import datajoint as dj"
   ]
  },
  {
   "cell_type": "code",
   "execution_count": null,
   "metadata": {},
   "outputs": [],
   "source": [
    "import ephys\n",
    "import matplotlib.pyplot as plt\n",
    "%matplotlib inline"
   ]
  },
  {
   "cell_type": "code",
   "execution_count": null,
   "metadata": {},
   "outputs": [],
   "source": [
    "def dropdbs():\n",
    "   print('dropping databases')\n",
    "   for a in range(3):\n",
    "       for d in ['ingest', 'ccf', 'ephys', 'experiment', 'lab']:\n",
    "           try:\n",
    "               schema = dj.schema(dj.config['%s.database' % d], locals())\n",
    "               schema.drop(force=True)\n",
    "           except Exception as e:\n",
    "               print('error dropping {d} in attempt {a}: {e}'\n",
    "                     .format(d=d, a=a, e=str(e)))\n",
    "               pass"
   ]
  },
  {
   "cell_type": "code",
   "execution_count": null,
   "metadata": {},
   "outputs": [],
   "source": [
    "dj.ERD(ephys)"
   ]
  },
  {
   "cell_type": "code",
   "execution_count": null,
   "metadata": {},
   "outputs": [],
   "source": []
  },
  {
   "cell_type": "code",
   "execution_count": null,
   "metadata": {},
   "outputs": [],
   "source": [
    "mouse=ephys.experiment.lab.Animal()\n",
    "#mouse.insert1((399752, '2017-8-1'))\n",
    "#mouse.insert1((123456, '2017-8-1'))\n",
    "#mouse.insert1((400483, '2017-8-1'))\n",
    "#mouse.insert1((400482, '2017-8-1'))\n",
    "mouse"
   ]
  },
  {
   "cell_type": "code",
   "execution_count": null,
   "metadata": {
    "scrolled": true
   },
   "outputs": [],
   "source": [
    "person=ephys.experiment.lab.Person()\n",
    "#person.insert1(('daveliu', 'Dave Liu'))\n",
    "person"
   ]
  },
  {
   "cell_type": "code",
   "execution_count": null,
   "metadata": {},
   "outputs": [],
   "source": [
    "rig=ephys.experiment.lab.Rig()\n",
    "#rig.insert1(('TRig3', 'Training rig 3'))\n",
    "#rig.insert1(('TRig2', 'Training rig 2'))\n",
    "#rig.insert1(('TRig1', 'Training rig 1'))\n",
    "#rig.insert1(('RRig', 'Recording rig'))\n",
    "rig"
   ]
  },
  {
   "cell_type": "code",
   "execution_count": null,
   "metadata": {},
   "outputs": [],
   "source": []
  },
  {
   "cell_type": "code",
   "execution_count": null,
   "metadata": {},
   "outputs": [],
   "source": [
    "animalWaterRestriction=ephys.experiment.lab.AnimalWaterRestriction()\n",
    "#animalWaterRestriction.insert1((123456, 'tw5'))\n",
    "#animalWaterRestriction.insert1((399752, 'dl7'))\n",
    "#animalWaterRestriction.insert1((400483, 'dl8'))\n",
    "#animalWaterRestriction.insert1((400482, 'dl9'))\n",
    "animalWaterRestriction"
   ]
  },
  {
   "cell_type": "code",
   "execution_count": null,
   "metadata": {},
   "outputs": [],
   "source": [
    "dj.ERD(ephys.experiment)"
   ]
  },
  {
   "cell_type": "code",
   "execution_count": null,
   "metadata": {},
   "outputs": [],
   "source": [
    "import ingest\n",
    "rigDataPath = ingest.RigDataPath()\n",
    "rigDataFile = ingest.RigDataFile()\n",
    "rigDataFileIngest = ingest.RigDataFileIngest()"
   ]
  },
  {
   "cell_type": "code",
   "execution_count": null,
   "metadata": {},
   "outputs": [],
   "source": [
    "#importedSessionFile.drop()\n",
    "rigDataFile.populate()"
   ]
  },
  {
   "cell_type": "code",
   "execution_count": null,
   "metadata": {
    "scrolled": false
   },
   "outputs": [],
   "source": [
    "rigDataFileIngest.populate()"
   ]
  },
  {
   "cell_type": "code",
   "execution_count": null,
   "metadata": {},
   "outputs": [],
   "source": [
    "files= rigDataFile.fetch()"
   ]
  },
  {
   "cell_type": "code",
   "execution_count": null,
   "metadata": {},
   "outputs": [],
   "source": [
    "len(files)"
   ]
  },
  {
   "cell_type": "code",
   "execution_count": null,
   "metadata": {},
   "outputs": [],
   "source": [
    "files[12]"
   ]
  },
  {
   "cell_type": "code",
   "execution_count": null,
   "metadata": {},
   "outputs": [],
   "source": [
    "allFiles=rigDataFile.fetch()"
   ]
  },
  {
   "cell_type": "code",
   "execution_count": null,
   "metadata": {},
   "outputs": [],
   "source": [
    "allFiles"
   ]
  },
  {
   "cell_type": "code",
   "execution_count": null,
   "metadata": {},
   "outputs": [],
   "source": []
  },
  {
   "cell_type": "code",
   "execution_count": null,
   "metadata": {},
   "outputs": [],
   "source": []
  },
  {
   "cell_type": "code",
   "execution_count": null,
   "metadata": {},
   "outputs": [],
   "source": [
    "session=ephys.experiment.Session()\n",
    "sessionList=session.fetch()"
   ]
  },
  {
   "cell_type": "code",
   "execution_count": null,
   "metadata": {},
   "outputs": [],
   "source": [
    "sessionList"
   ]
  },
  {
   "cell_type": "code",
   "execution_count": null,
   "metadata": {},
   "outputs": [],
   "source": []
  },
  {
   "cell_type": "code",
   "execution_count": null,
   "metadata": {},
   "outputs": [],
   "source": []
  },
  {
   "cell_type": "code",
   "execution_count": null,
   "metadata": {},
   "outputs": [],
   "source": []
  },
  {
   "cell_type": "code",
   "execution_count": null,
   "metadata": {},
   "outputs": [],
   "source": []
  },
  {
   "cell_type": "code",
   "execution_count": null,
   "metadata": {},
   "outputs": [],
   "source": [
    "trialNote = ephys.experiment.TrialNote()"
   ]
  },
  {
   "cell_type": "code",
   "execution_count": null,
   "metadata": {},
   "outputs": [],
   "source": [
    "import numpy as np"
   ]
  },
  {
   "cell_type": "code",
   "execution_count": null,
   "metadata": {},
   "outputs": [],
   "source": [
    "behaviorTrial = ephys.experiment.BehaviorTrial()"
   ]
  },
  {
   "cell_type": "code",
   "execution_count": null,
   "metadata": {},
   "outputs": [],
   "source": [
    "outcome = (behaviorTrial & 'animal = 399752').fetch('outcome', order_by='session')\n",
    "early_lick = (behaviorTrial & 'animal = 399752').fetch('early_lick', order_by='session')"
   ]
  },
  {
   "cell_type": "code",
   "execution_count": null,
   "metadata": {},
   "outputs": [],
   "source": [
    "data = np.zeros(len(outcome))\n",
    "data1 = np.zeros(len(early_lick))\n",
    "data2 = np.zeros(len(outcome))"
   ]
  },
  {
   "cell_type": "code",
   "execution_count": null,
   "metadata": {},
   "outputs": [],
   "source": [
    "data[outcome=='hit'] = 1\n",
    "data1[early_lick=='early'] = 1\n",
    "data2[outcome=='ignore'] = 1"
   ]
  },
  {
   "cell_type": "code",
   "execution_count": null,
   "metadata": {},
   "outputs": [],
   "source": [
    "trial_note = (trialNote & 'animal = 123456').fetch('trial_note', order_by='session')\n",
    "results = list(map(int, trial_note))\n",
    "protDiff = np.diff(results)\n",
    "protChange = np.where(protDiff != 0)"
   ]
  },
  {
   "cell_type": "code",
   "execution_count": null,
   "metadata": {},
   "outputs": [],
   "source": [
    "def movingaverage (values, window):\n",
    "    weights = np.repeat(1.0, window)/window\n",
    "    sma = np.convolve(values, weights, 'valid')\n",
    "    return sma"
   ]
  },
  {
   "cell_type": "code",
   "execution_count": null,
   "metadata": {},
   "outputs": [],
   "source": [
    "yMA = movingaverage(data,200)\n",
    "plt.plot(yMA)\n",
    "plt.xlabel('Trials')\n",
    "plt.ylabel('Proportion Correct')\n",
    "for i in range(0, len(protChange[0])):\n",
    "    plt.axvline(protChange[0][i], linewidth=4, color='r')\n"
   ]
  },
  {
   "cell_type": "code",
   "execution_count": null,
   "metadata": {},
   "outputs": [],
   "source": [
    "yMA = movingaverage(data1,200)\n",
    "plt.plot(yMA)\n",
    "plt.xlabel('Trials')\n",
    "plt.ylabel('Early Licks')\n",
    "for i in range(0, len(protChange[0])):\n",
    "    plt.axvline(protChange[0][i], linewidth=4, color='r')\n"
   ]
  },
  {
   "cell_type": "code",
   "execution_count": null,
   "metadata": {},
   "outputs": [],
   "source": [
    "yMA = movingaverage(data2,20)\n",
    "plt.plot(yMA)\n",
    "plt.xlabel('Trials')\n",
    "plt.ylabel('Ignores')\n",
    "for i in range(0, len(protChange[0])):\n",
    "    plt.axvline(protChange[0][i], linewidth=4, color='r')\n",
    "plt.savefig('')"
   ]
  },
  {
   "cell_type": "code",
   "execution_count": null,
   "metadata": {},
   "outputs": [],
   "source": [
    "len(outcome)"
   ]
  },
  {
   "cell_type": "code",
   "execution_count": null,
   "metadata": {},
   "outputs": [],
   "source": []
  },
  {
   "cell_type": "code",
   "execution_count": null,
   "metadata": {},
   "outputs": [],
   "source": [
    "\n"
   ]
  },
  {
   "cell_type": "code",
   "execution_count": null,
   "metadata": {},
   "outputs": [],
   "source": []
  },
  {
   "cell_type": "code",
   "execution_count": null,
   "metadata": {},
   "outputs": [],
   "source": []
  }
 ],
 "metadata": {
  "kernelspec": {
   "display_name": "Python 3",
   "language": "python",
   "name": "python3"
  },
  "language_info": {
   "codemirror_mode": {
    "name": "ipython",
    "version": 3
   },
   "file_extension": ".py",
   "mimetype": "text/x-python",
   "name": "python",
   "nbconvert_exporter": "python",
   "pygments_lexer": "ipython3",
   "version": "3.6.3"
  }
 },
 "nbformat": 4,
 "nbformat_minor": 2
}
