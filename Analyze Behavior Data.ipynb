{
 "cells": [
  {
   "cell_type": "code",
   "execution_count": 3,
   "metadata": {},
   "outputs": [],
   "source": [
    "import datajoint as dj"
   ]
  },
  {
   "cell_type": "code",
   "execution_count": 4,
   "metadata": {},
   "outputs": [],
   "source": [
    "import ephys\n",
    "import matplotlib.pyplot as plt\n",
    "%matplotlib inline"
   ]
  },
  {
   "cell_type": "code",
   "execution_count": 7,
   "metadata": {},
   "outputs": [
    {
     "data": {
      "image/svg+xml": [
       "<svg height=\"114pt\" viewBox=\"0.00 0.00 525.50 114.00\" width=\"526pt\" xmlns=\"http://www.w3.org/2000/svg\" xmlns:xlink=\"http://www.w3.org/1999/xlink\">\n",
       "<g class=\"graph\" id=\"graph0\" transform=\"scale(1 1) rotate(0) translate(4 110)\">\n",
       "<polygon fill=\"white\" points=\"-4,4 -4,-110 521.5,-110 521.5,4 -4,4\" stroke=\"transparent\"/>\n",
       "<!-- ephys.experiment.lab.Person -->\n",
       "<g class=\"node\" id=\"node1\">\n",
       "<title>ephys.experiment.lab.Person</title>\n",
       "<polygon fill=\"#00ff00\" fill-opacity=\"0.188235\" points=\"167,-106 0,-106 0,-71 167,-71 167,-106\" stroke=\"#00ff00\" stroke-opacity=\"0.188235\"/>\n",
       "<text fill=\"darkgreen\" font-family=\"arial\" font-size=\"12.00\" text-anchor=\"middle\" x=\"83.5\" y=\"-85.4\">ephys.experiment.lab.Person</text>\n",
       "</g>\n",
       "<!-- ephys.experiment.lab.Animal -->\n",
       "<g class=\"node\" id=\"node2\">\n",
       "<title>ephys.experiment.lab.Animal</title>\n",
       "<polygon fill=\"#00ff00\" fill-opacity=\"0.188235\" points=\"351.5,-106 185.5,-106 185.5,-71 351.5,-71 351.5,-106\" stroke=\"#00ff00\" stroke-opacity=\"0.188235\"/>\n",
       "<text fill=\"darkgreen\" font-family=\"arial\" font-size=\"12.00\" text-anchor=\"middle\" x=\"268.5\" y=\"-85.4\">ephys.experiment.lab.Animal</text>\n",
       "</g>\n",
       "<!-- ephys.experiment.lab.AnimalWaterRestriction -->\n",
       "<g class=\"node\" id=\"node4\">\n",
       "<title>ephys.experiment.lab.AnimalWaterRestriction</title>\n",
       "<polygon fill=\"#00ff00\" fill-opacity=\"0.188235\" points=\"395,-35 142,-35 142,0 395,0 395,-35\" stroke=\"#00ff00\" stroke-opacity=\"0.188235\"/>\n",
       "<text fill=\"darkgreen\" font-family=\"arial\" font-size=\"12.00\" text-anchor=\"middle\" x=\"268.5\" y=\"-14.4\">ephys.experiment.lab.AnimalWaterRestriction</text>\n",
       "</g>\n",
       "<!-- ephys.experiment.lab.Animal&#45;&gt;ephys.experiment.lab.AnimalWaterRestriction -->\n",
       "<g class=\"edge\" id=\"edge1\">\n",
       "<title>ephys.experiment.lab.Animal-&gt;ephys.experiment.lab.AnimalWaterRestriction</title>\n",
       "<path d=\"M268.5,-70.8C268.5,-59.95 268.5,-45.87 268.5,-35.05\" fill=\"none\" stroke=\"#000000\" stroke-opacity=\"0.250980\" stroke-width=\"0.75\"/>\n",
       "</g>\n",
       "<!-- ephys.experiment.lab.Rig -->\n",
       "<g class=\"node\" id=\"node3\">\n",
       "<title>ephys.experiment.lab.Rig</title>\n",
       "<polygon fill=\"#00ff00\" fill-opacity=\"0.188235\" points=\"517.5,-106 369.5,-106 369.5,-71 517.5,-71 517.5,-106\" stroke=\"#00ff00\" stroke-opacity=\"0.188235\"/>\n",
       "<text fill=\"darkgreen\" font-family=\"arial\" font-size=\"12.00\" text-anchor=\"middle\" x=\"443.5\" y=\"-85.4\">ephys.experiment.lab.Rig</text>\n",
       "</g>\n",
       "</g>\n",
       "</svg>"
      ],
      "text/plain": [
       "<datajoint.erd.ERD at 0x1b317b70>"
      ]
     },
     "execution_count": 7,
     "metadata": {},
     "output_type": "execute_result"
    }
   ],
   "source": [
    "dj.ERD(ephys.experiment.lab)"
   ]
  },
  {
   "cell_type": "code",
   "execution_count": null,
   "metadata": {},
   "outputs": [],
   "source": [
    "mouse=ephys.experiment.lab.Animal()\n",
    "mouse"
   ]
  },
  {
   "cell_type": "code",
   "execution_count": null,
   "metadata": {
    "scrolled": true
   },
   "outputs": [],
   "source": [
    "person=ephys.experiment.lab.Person()\n",
    "person"
   ]
  },
  {
   "cell_type": "code",
   "execution_count": null,
   "metadata": {},
   "outputs": [],
   "source": [
    "rig=ephys.experiment.lab.Rig()\n",
    "rig"
   ]
  },
  {
   "cell_type": "code",
   "execution_count": null,
   "metadata": {},
   "outputs": [],
   "source": [
    "animalWaterRestriction=ephys.experiment.lab.AnimalWaterRestriction()\n",
    "animalWaterRestriction"
   ]
  },
  {
   "cell_type": "code",
   "execution_count": null,
   "metadata": {},
   "outputs": [],
   "source": [
    "trialNote = ephys.experiment.TrialNote()"
   ]
  },
  {
   "cell_type": "code",
   "execution_count": null,
   "metadata": {},
   "outputs": [],
   "source": [
    "import numpy as np"
   ]
  },
  {
   "cell_type": "code",
   "execution_count": null,
   "metadata": {},
   "outputs": [],
   "source": [
    "behaviorTrial = ephys.experiment.BehaviorTrial()"
   ]
  },
  {
   "cell_type": "code",
   "execution_count": null,
   "metadata": {},
   "outputs": [],
   "source": [
    "behaviorTrial & 'animal = 123457' & 'session = 1'"
   ]
  },
  {
   "cell_type": "code",
   "execution_count": null,
   "metadata": {},
   "outputs": [],
   "source": [
    "session = ephys.experiment.Session()\n",
    "session & 'animal = 123457'"
   ]
  },
  {
   "cell_type": "code",
   "execution_count": null,
   "metadata": {},
   "outputs": [],
   "source": [
    "outcome = (behaviorTrial & 'animal = 123457' & 'session=1').fetch('outcome', order_by='session')\n",
    "early_lick = (behaviorTrial & 'animal = 123457' & 'session=1').fetch('early_lick', order_by='session')"
   ]
  },
  {
   "cell_type": "code",
   "execution_count": null,
   "metadata": {},
   "outputs": [],
   "source": [
    "data = np.zeros(len(outcome))\n",
    "data1 = np.zeros(len(early_lick))"
   ]
  },
  {
   "cell_type": "code",
   "execution_count": null,
   "metadata": {},
   "outputs": [],
   "source": [
    "data[outcome=='hit'] = 1\n",
    "data1[early_lick=='early'] = 1"
   ]
  },
  {
   "cell_type": "code",
   "execution_count": null,
   "metadata": {},
   "outputs": [],
   "source": [
    "trial_note = (trialNote & 'animal = 123458' & 'session=14').fetch('trial_note', order_by='session')\n",
    "results = list(map(int, trial_note))\n",
    "protDiff = np.diff(results)\n",
    "protChange = np.where(protDiff != 0)"
   ]
  },
  {
   "cell_type": "code",
   "execution_count": null,
   "metadata": {},
   "outputs": [],
   "source": [
    "def movingaverage (values, window):\n",
    "    weights = np.repeat(1.0, window)/window\n",
    "    sma = np.convolve(values, weights, 'valid')\n",
    "    return sma"
   ]
  },
  {
   "cell_type": "code",
   "execution_count": null,
   "metadata": {},
   "outputs": [],
   "source": [
    "yMA = movingaverage(data,20)\n",
    "plt.plot(yMA)\n",
    "plt.xlabel('Trials')\n",
    "plt.ylabel('Proportion Correct')"
   ]
  },
  {
   "cell_type": "code",
   "execution_count": null,
   "metadata": {},
   "outputs": [],
   "source": [
    "yMA = movingaverage(data1,200)\n",
    "plt.plot(yMA)\n",
    "plt.xlabel('Trials')\n",
    "plt.ylabel('Early Licks')"
   ]
  },
  {
   "cell_type": "code",
   "execution_count": null,
   "metadata": {},
   "outputs": [],
   "source": [
    "data"
   ]
  },
  {
   "cell_type": "code",
   "execution_count": null,
   "metadata": {},
   "outputs": [],
   "source": []
  }
 ],
 "metadata": {
  "kernelspec": {
   "display_name": "Python 3",
   "language": "python",
   "name": "python3"
  },
  "language_info": {
   "codemirror_mode": {
    "name": "ipython",
    "version": 3
   },
   "file_extension": ".py",
   "mimetype": "text/x-python",
   "name": "python",
   "nbconvert_exporter": "python",
   "pygments_lexer": "ipython3",
   "version": "3.6.3"
  }
 },
 "nbformat": 4,
 "nbformat_minor": 2
}
