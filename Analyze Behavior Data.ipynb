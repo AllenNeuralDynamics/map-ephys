{
 "cells": [
  {
   "cell_type": "code",
   "execution_count": 1,
   "metadata": {},
   "outputs": [],
   "source": [
    "import datajoint as dj"
   ]
  },
  {
   "cell_type": "code",
   "execution_count": 2,
   "metadata": {},
   "outputs": [
    {
     "name": "stdout",
     "output_type": "stream",
     "text": [
      "Connecting daveliu@mesoscale-activity.datajoint.io:3306\n"
     ]
    }
   ],
   "source": [
    "import ephys\n",
    "import matplotlib.pyplot as plt\n",
    "%matplotlib inline"
   ]
  },
  {
   "cell_type": "code",
   "execution_count": 3,
   "metadata": {},
   "outputs": [
    {
     "data": {
      "image/svg+xml": [
       "<svg height=\"311pt\" viewBox=\"0.00 0.00 435.15 311.00\" width=\"435pt\" xmlns=\"http://www.w3.org/2000/svg\" xmlns:xlink=\"http://www.w3.org/1999/xlink\">\n",
       "<g class=\"graph\" id=\"graph0\" transform=\"scale(1 1) rotate(0) translate(4 307)\">\n",
       "<polygon fill=\"white\" points=\"-4,4 -4,-307 431.15,-307 431.15,4 -4,4\" stroke=\"transparent\"/>\n",
       "<!-- ephys.ElectrodePosition -->\n",
       "<g class=\"node\" id=\"node1\">\n",
       "<title>ephys.ElectrodePosition</title>\n",
       "<polygon fill=\"#00ff00\" fill-opacity=\"0.188235\" points=\"412.5,-90 269.5,-90 269.5,-55 412.5,-55 412.5,-90\" stroke=\"#00ff00\" stroke-opacity=\"0.188235\"/>\n",
       "<text fill=\"darkgreen\" font-family=\"arial\" font-size=\"12.00\" text-anchor=\"middle\" x=\"341\" y=\"-69.4\">ephys.ElectrodePosition</text>\n",
       "</g>\n",
       "<!-- ephys.Ephys.Unit -->\n",
       "<g class=\"node\" id=\"node2\">\n",
       "<title>ephys.Ephys.Unit</title>\n",
       "<polygon fill=\"transparent\" points=\"103,-82 9,-82 9,-63 103,-63 103,-82\" stroke=\"transparent\"/>\n",
       "<text font-family=\"arial\" font-size=\"10.00\" text-anchor=\"middle\" x=\"56\" y=\"-70\">ephys.Ephys.Unit</text>\n",
       "</g>\n",
       "<!-- ephys.Ephys.Spike -->\n",
       "<g class=\"node\" id=\"node8\">\n",
       "<title>ephys.Ephys.Spike</title>\n",
       "<polygon fill=\"transparent\" points=\"361.5,-19 260.5,-19 260.5,0 361.5,0 361.5,-19\" stroke=\"transparent\"/>\n",
       "<text font-family=\"arial\" font-size=\"10.00\" text-anchor=\"middle\" x=\"311\" y=\"-7\">ephys.Ephys.Spike</text>\n",
       "</g>\n",
       "<!-- ephys.Ephys.Unit&#45;&gt;ephys.Ephys.Spike -->\n",
       "<g class=\"edge\" id=\"edge1\">\n",
       "<title>ephys.Ephys.Unit-&gt;ephys.Ephys.Spike</title>\n",
       "<path d=\"M84.32,-62.93C93.44,-60.27 103.62,-57.41 113,-55 166.75,-41.19 229.31,-27.53 269.49,-19.06\" fill=\"none\" stroke=\"#000000\" stroke-opacity=\"0.250980\" stroke-width=\"0.75\"/>\n",
       "</g>\n",
       "<!-- ephys.Ephys.TrialUnit -->\n",
       "<g class=\"node\" id=\"node10\">\n",
       "<title>ephys.Ephys.TrialUnit</title>\n",
       "<polygon fill=\"transparent\" points=\"112,-19 0,-19 0,0 112,0 112,-19\" stroke=\"transparent\"/>\n",
       "<text font-family=\"arial\" font-size=\"10.00\" text-anchor=\"middle\" x=\"56\" y=\"-7\">ephys.Ephys.TrialUnit</text>\n",
       "</g>\n",
       "<!-- ephys.Ephys.Unit&#45;&gt;ephys.Ephys.TrialUnit -->\n",
       "<g class=\"edge\" id=\"edge2\">\n",
       "<title>ephys.Ephys.Unit-&gt;ephys.Ephys.TrialUnit</title>\n",
       "<path d=\"M56,-62.76C56,-51.16 56,-30.81 56,-19.22\" fill=\"none\" stroke=\"#000000\" stroke-opacity=\"0.250980\" stroke-width=\"0.75\"/>\n",
       "</g>\n",
       "<!-- ephys.LabeledTrack.Point -->\n",
       "<g class=\"node\" id=\"node3\">\n",
       "<title>ephys.LabeledTrack.Point</title>\n",
       "<polygon fill=\"transparent\" points=\"251.5,-82 122.5,-82 122.5,-63 251.5,-63 251.5,-82\" stroke=\"transparent\"/>\n",
       "<text font-family=\"arial\" font-size=\"10.00\" text-anchor=\"middle\" x=\"187\" y=\"-70\">ephys.LabeledTrack.Point</text>\n",
       "</g>\n",
       "<!-- ephys.ElectrodeGroup -->\n",
       "<g class=\"node\" id=\"node4\">\n",
       "<title>ephys.ElectrodeGroup</title>\n",
       "<polygon fill=\"#00ff00\" fill-opacity=\"0.188235\" points=\"411.5,-232 278.5,-232 278.5,-197 411.5,-197 411.5,-232\" stroke=\"#00ff00\" stroke-opacity=\"0.188235\"/>\n",
       "<text fill=\"darkgreen\" font-family=\"arial\" font-size=\"12.00\" text-anchor=\"middle\" x=\"345\" y=\"-211.4\">ephys.ElectrodeGroup</text>\n",
       "</g>\n",
       "<!-- ephys.Ephys -->\n",
       "<g class=\"node\" id=\"node5\">\n",
       "<title>ephys.Ephys</title>\n",
       "<ellipse cx=\"56\" cy=\"-143.5\" fill=\"#00007f\" fill-opacity=\"0.250980\" rx=\"51.75\" ry=\"17.5\" stroke=\"#00007f\" stroke-opacity=\"0.250980\"/>\n",
       "<text fill=\"#00007f\" fill-opacity=\"0.627451\" font-family=\"arial\" font-size=\"12.00\" text-anchor=\"middle\" x=\"56\" y=\"-140.4\">ephys.Ephys</text>\n",
       "</g>\n",
       "<!-- ephys.ElectrodeGroup&#45;&gt;ephys.Ephys -->\n",
       "<g class=\"edge\" id=\"edge3\">\n",
       "<title>ephys.ElectrodeGroup-&gt;ephys.Ephys</title>\n",
       "<path d=\"M278.5,-198.88C232.93,-188.7 171.18,-174.56 117,-161 109.76,-159.19 102.07,-157.18 94.67,-155.2\" fill=\"none\" stroke=\"#000000\" stroke-opacity=\"0.250980\" stroke-width=\"2\"/>\n",
       "</g>\n",
       "<!-- ephys.LabeledTrack -->\n",
       "<g class=\"node\" id=\"node6\">\n",
       "<title>ephys.LabeledTrack</title>\n",
       "<polygon fill=\"#00ff00\" fill-opacity=\"0.188235\" points=\"248,-161 126,-161 126,-126 248,-126 248,-161\" stroke=\"#00ff00\" stroke-opacity=\"0.188235\"/>\n",
       "<text fill=\"darkgreen\" font-family=\"arial\" font-size=\"12.00\" text-anchor=\"middle\" x=\"187\" y=\"-140.4\">ephys.LabeledTrack</text>\n",
       "</g>\n",
       "<!-- ephys.ElectrodeGroup&#45;&gt;ephys.LabeledTrack -->\n",
       "<g class=\"edge\" id=\"edge4\">\n",
       "<title>ephys.ElectrodeGroup-&gt;ephys.LabeledTrack</title>\n",
       "<path d=\"M307.16,-196.97C282.23,-186.09 249.73,-171.89 224.81,-161.01\" fill=\"none\" stroke=\"#000000\" stroke-opacity=\"0.250980\" stroke-width=\"2\"/>\n",
       "</g>\n",
       "<!-- ephys.ElectrodeGroup.Electrode -->\n",
       "<g class=\"node\" id=\"node9\">\n",
       "<title>ephys.ElectrodeGroup.Electrode</title>\n",
       "<polygon fill=\"transparent\" points=\"424,-153 266,-153 266,-134 424,-134 424,-153\" stroke=\"transparent\"/>\n",
       "<text font-family=\"arial\" font-size=\"10.00\" text-anchor=\"middle\" x=\"345\" y=\"-141\">ephys.ElectrodeGroup.Electrode</text>\n",
       "</g>\n",
       "<!-- ephys.ElectrodeGroup&#45;&gt;ephys.ElectrodeGroup.Electrode -->\n",
       "<g class=\"edge\" id=\"edge5\">\n",
       "<title>ephys.ElectrodeGroup-&gt;ephys.ElectrodeGroup.Electrode</title>\n",
       "<path d=\"M345,-196.8C345,-183.08 345,-164.19 345,-153.27\" fill=\"none\" stroke=\"#000000\" stroke-opacity=\"0.250980\" stroke-width=\"0.75\"/>\n",
       "</g>\n",
       "<!-- ephys.Ephys&#45;&gt;ephys.Ephys.Unit -->\n",
       "<g class=\"edge\" id=\"edge6\">\n",
       "<title>ephys.Ephys-&gt;ephys.Ephys.Unit</title>\n",
       "<path d=\"M56,-125.8C56,-112.08 56,-93.19 56,-82.27\" fill=\"none\" stroke=\"#000000\" stroke-opacity=\"0.250980\" stroke-width=\"0.75\"/>\n",
       "</g>\n",
       "<!-- ephys.LabeledTrack&#45;&gt;ephys.LabeledTrack.Point -->\n",
       "<g class=\"edge\" id=\"edge7\">\n",
       "<title>ephys.LabeledTrack-&gt;ephys.LabeledTrack.Point</title>\n",
       "<path d=\"M187,-125.8C187,-112.08 187,-93.19 187,-82.27\" fill=\"none\" stroke=\"#000000\" stroke-opacity=\"0.250980\" stroke-width=\"0.75\"/>\n",
       "</g>\n",
       "<!-- ephys.Probe -->\n",
       "<g class=\"node\" id=\"node7\">\n",
       "<title>ephys.Probe</title>\n",
       "<polygon fill=\"#000000\" fill-opacity=\"0.125490\" points=\"380.5,-303 309.5,-303 309.5,-268 380.5,-268 380.5,-303\" stroke=\"transparent\"/>\n",
       "<text font-family=\"arial\" font-size=\"10.00\" text-anchor=\"middle\" x=\"345\" y=\"-283\">ephys.Probe</text>\n",
       "</g>\n",
       "<!-- ephys.Probe&#45;&gt;ephys.ElectrodeGroup -->\n",
       "<g class=\"edge\" id=\"edge8\">\n",
       "<title>ephys.Probe-&gt;ephys.ElectrodeGroup</title>\n",
       "<path d=\"M345,-267.8C345,-256.95 345,-242.87 345,-232.05\" fill=\"none\" stroke=\"#000000\" stroke-dasharray=\"5,2\" stroke-opacity=\"0.250980\" stroke-width=\"0.75\"/>\n",
       "</g>\n",
       "<!-- ephys.ElectrodeGroup.Electrode&#45;&gt;ephys.ElectrodePosition -->\n",
       "<g class=\"edge\" id=\"edge9\">\n",
       "<title>ephys.ElectrodeGroup.Electrode-&gt;ephys.ElectrodePosition</title>\n",
       "<path d=\"M344.49,-133.76C343.86,-122.81 342.76,-103.81 341.96,-90.07\" fill=\"none\" stroke=\"#000000\" stroke-opacity=\"0.250980\" stroke-width=\"2\"/>\n",
       "</g>\n",
       "<!-- ephys.ElectrodeGroup.Electrode&#45;&gt;ephys.Ephys.Spike -->\n",
       "<g class=\"edge\" id=\"edge10\">\n",
       "<title>ephys.ElectrodeGroup.Electrode-&gt;ephys.Ephys.Spike</title>\n",
       "<path d=\"M367.55,-133.91C385.65,-125.66 409.83,-111.3 421,-90 428.23,-76.22 429.7,-67.9 421,-55 407.64,-35.19 383.8,-24.19 361.73,-18.09\" fill=\"none\" stroke=\"#000000\" stroke-dasharray=\"5,2\" stroke-opacity=\"0.250980\" stroke-width=\"0.75\"/>\n",
       "</g>\n",
       "</g>\n",
       "</svg>"
      ],
      "text/plain": [
       "<datajoint.erd.ERD at 0x3d51b908>"
      ]
     },
     "execution_count": 3,
     "metadata": {},
     "output_type": "execute_result"
    }
   ],
   "source": [
    "dj.ERD(ephys)"
   ]
  },
  {
   "cell_type": "code",
   "execution_count": 4,
   "metadata": {},
   "outputs": [
    {
     "data": {
      "text/html": [
       "\n",
       "        \n",
       "        <style type=\"text/css\">\n",
       "            .Relation{\n",
       "                border-collapse:collapse;\n",
       "            }\n",
       "            .Relation th{\n",
       "                background: #A0A0A0; color: #ffffff; padding:4px; border:#f0e0e0 1px solid;\n",
       "                font-weight: normal; font-family: monospace; font-size: 75%;\n",
       "            }\n",
       "            .Relation td{\n",
       "                padding:4px; border:#f0e0e0 1px solid; font-size:75%;\n",
       "            }\n",
       "            .Relation tr:nth-child(odd){\n",
       "                background: #ffffff;\n",
       "            }\n",
       "            .Relation tr:nth-child(even){\n",
       "                background: #f3f1ff;\n",
       "            }\n",
       "            /* Tooltip container */\n",
       "            .djtooltip {\n",
       "            }\n",
       "\n",
       "            /* Tooltip text */\n",
       "            .djtooltip .djtooltiptext {\n",
       "                visibility: hidden;\n",
       "                width: 120px;\n",
       "                background-color: black;\n",
       "                color: #fff;\n",
       "                text-align: center;\n",
       "                padding: 5px 0;\n",
       "                border-radius: 6px;\n",
       "\n",
       "                /* Position the tooltip text - see examples below! */\n",
       "                position: absolute;\n",
       "                z-index: 1;\n",
       "            }\n",
       "\n",
       "\n",
       "            #primary {\n",
       "                font-weight: bold;\n",
       "                color: black;\n",
       "            }\n",
       "\n",
       "            #nonprimary {\n",
       "                font-weight: normal;\n",
       "                color: white;\n",
       "            }\n",
       "\n",
       "            /* Show the tooltip text when you mouse over the tooltip container */\n",
       "            .djtooltip:hover .djtooltiptext {\n",
       "                visibility: visible;\n",
       "            }\n",
       "        </style>\n",
       "        \n",
       "        <b></b>\n",
       "            <div style=\"max-height:1000px;max-width:1500px;overflow:auto;\">\n",
       "            <table border=\"1\" class=\"Relation\">\n",
       "                <thead> <tr style=\"text-align: right;\"> <th> <div class=\"djtooltip\">\n",
       "                                <p id=\"primary\">animal</p>\n",
       "                                <span class=\"djtooltiptext\">Janelia ANM ID (6 digits)</span>\n",
       "                            </div></th><th><div class=\"djtooltip\">\n",
       "                                <p id=\"nonprimary\">dob</p>\n",
       "                                <span class=\"djtooltiptext\"></span>\n",
       "                            </div> </th> </tr> </thead>\n",
       "                <tbody> <tr> <td>123456</td>\n",
       "<td>2017-08-01</td></tr><tr><td>397853</td>\n",
       "<td>2017-08-01</td></tr><tr><td>399752</td>\n",
       "<td>2017-08-01</td> </tr> </tbody>\n",
       "            </table>\n",
       "            \n",
       "            <p>3 tuples</p></div>\n",
       "            "
      ],
      "text/plain": [
       "*animal    dob           \n",
       "+--------+ +------------+\n",
       "123456     2017-08-01    \n",
       "397853     2017-08-01    \n",
       "399752     2017-08-01    \n",
       " (3 tuples)"
      ]
     },
     "execution_count": 4,
     "metadata": {},
     "output_type": "execute_result"
    }
   ],
   "source": [
    "mouse=ephys.experiment.lab.Animal()\n",
    "#mouse.insert1((399752, '2017-8-1'))\n",
    "#mouse.insert1((123456, '2017-8-1'))\n",
    "#mouse.insert1((400483, '2017-8-1'))\n",
    "#mouse.insert1((400482, '2017-8-1'))\n",
    "mouse"
   ]
  },
  {
   "cell_type": "code",
   "execution_count": 5,
   "metadata": {
    "scrolled": true
   },
   "outputs": [
    {
     "data": {
      "text/html": [
       "\n",
       "        \n",
       "        <style type=\"text/css\">\n",
       "            .Relation{\n",
       "                border-collapse:collapse;\n",
       "            }\n",
       "            .Relation th{\n",
       "                background: #A0A0A0; color: #ffffff; padding:4px; border:#f0e0e0 1px solid;\n",
       "                font-weight: normal; font-family: monospace; font-size: 75%;\n",
       "            }\n",
       "            .Relation td{\n",
       "                padding:4px; border:#f0e0e0 1px solid; font-size:75%;\n",
       "            }\n",
       "            .Relation tr:nth-child(odd){\n",
       "                background: #ffffff;\n",
       "            }\n",
       "            .Relation tr:nth-child(even){\n",
       "                background: #f3f1ff;\n",
       "            }\n",
       "            /* Tooltip container */\n",
       "            .djtooltip {\n",
       "            }\n",
       "\n",
       "            /* Tooltip text */\n",
       "            .djtooltip .djtooltiptext {\n",
       "                visibility: hidden;\n",
       "                width: 120px;\n",
       "                background-color: black;\n",
       "                color: #fff;\n",
       "                text-align: center;\n",
       "                padding: 5px 0;\n",
       "                border-radius: 6px;\n",
       "\n",
       "                /* Position the tooltip text - see examples below! */\n",
       "                position: absolute;\n",
       "                z-index: 1;\n",
       "            }\n",
       "\n",
       "\n",
       "            #primary {\n",
       "                font-weight: bold;\n",
       "                color: black;\n",
       "            }\n",
       "\n",
       "            #nonprimary {\n",
       "                font-weight: normal;\n",
       "                color: white;\n",
       "            }\n",
       "\n",
       "            /* Show the tooltip text when you mouse over the tooltip container */\n",
       "            .djtooltip:hover .djtooltiptext {\n",
       "                visibility: visible;\n",
       "            }\n",
       "        </style>\n",
       "        \n",
       "        <b></b>\n",
       "            <div style=\"max-height:1000px;max-width:1500px;overflow:auto;\">\n",
       "            <table border=\"1\" class=\"Relation\">\n",
       "                <thead> <tr style=\"text-align: right;\"> <th> <div class=\"djtooltip\">\n",
       "                                <p id=\"primary\">username</p>\n",
       "                                <span class=\"djtooltiptext\"></span>\n",
       "                            </div></th><th><div class=\"djtooltip\">\n",
       "                                <p id=\"nonprimary\">fullname</p>\n",
       "                                <span class=\"djtooltiptext\"></span>\n",
       "                            </div> </th> </tr> </thead>\n",
       "                <tbody> <tr> <td>daveliu</td>\n",
       "<td>Dave Liu</td> </tr> </tbody>\n",
       "            </table>\n",
       "            \n",
       "            <p>1 tuples</p></div>\n",
       "            "
      ],
      "text/plain": [
       "*username    fullname    \n",
       "+----------+ +----------+\n",
       "daveliu      Dave Liu    \n",
       " (1 tuples)"
      ]
     },
     "execution_count": 5,
     "metadata": {},
     "output_type": "execute_result"
    }
   ],
   "source": [
    "person=ephys.experiment.lab.Person()\n",
    "#person.insert1(('daveliu', 'Dave Liu'))\n",
    "person"
   ]
  },
  {
   "cell_type": "code",
   "execution_count": 6,
   "metadata": {},
   "outputs": [
    {
     "data": {
      "text/html": [
       "\n",
       "        \n",
       "        <style type=\"text/css\">\n",
       "            .Relation{\n",
       "                border-collapse:collapse;\n",
       "            }\n",
       "            .Relation th{\n",
       "                background: #A0A0A0; color: #ffffff; padding:4px; border:#f0e0e0 1px solid;\n",
       "                font-weight: normal; font-family: monospace; font-size: 75%;\n",
       "            }\n",
       "            .Relation td{\n",
       "                padding:4px; border:#f0e0e0 1px solid; font-size:75%;\n",
       "            }\n",
       "            .Relation tr:nth-child(odd){\n",
       "                background: #ffffff;\n",
       "            }\n",
       "            .Relation tr:nth-child(even){\n",
       "                background: #f3f1ff;\n",
       "            }\n",
       "            /* Tooltip container */\n",
       "            .djtooltip {\n",
       "            }\n",
       "\n",
       "            /* Tooltip text */\n",
       "            .djtooltip .djtooltiptext {\n",
       "                visibility: hidden;\n",
       "                width: 120px;\n",
       "                background-color: black;\n",
       "                color: #fff;\n",
       "                text-align: center;\n",
       "                padding: 5px 0;\n",
       "                border-radius: 6px;\n",
       "\n",
       "                /* Position the tooltip text - see examples below! */\n",
       "                position: absolute;\n",
       "                z-index: 1;\n",
       "            }\n",
       "\n",
       "\n",
       "            #primary {\n",
       "                font-weight: bold;\n",
       "                color: black;\n",
       "            }\n",
       "\n",
       "            #nonprimary {\n",
       "                font-weight: normal;\n",
       "                color: white;\n",
       "            }\n",
       "\n",
       "            /* Show the tooltip text when you mouse over the tooltip container */\n",
       "            .djtooltip:hover .djtooltiptext {\n",
       "                visibility: visible;\n",
       "            }\n",
       "        </style>\n",
       "        \n",
       "        <b></b>\n",
       "            <div style=\"max-height:1000px;max-width:1500px;overflow:auto;\">\n",
       "            <table border=\"1\" class=\"Relation\">\n",
       "                <thead> <tr style=\"text-align: right;\"> <th> <div class=\"djtooltip\">\n",
       "                                <p id=\"primary\">rig</p>\n",
       "                                <span class=\"djtooltiptext\"></span>\n",
       "                            </div></th><th><div class=\"djtooltip\">\n",
       "                                <p id=\"nonprimary\">rig_description</p>\n",
       "                                <span class=\"djtooltiptext\"></span>\n",
       "                            </div> </th> </tr> </thead>\n",
       "                <tbody> <tr> <td>EPhys1</td>\n",
       "<td>Ephys rig 1</td></tr><tr><td>RRig</td>\n",
       "<td>Recording rig</td></tr><tr><td>TRig1</td>\n",
       "<td>Training rig 1</td></tr><tr><td>TRig2</td>\n",
       "<td>Training rig 2</td></tr><tr><td>TRig3</td>\n",
       "<td>Training rig 3</td> </tr> </tbody>\n",
       "            </table>\n",
       "            \n",
       "            <p>5 tuples</p></div>\n",
       "            "
      ],
      "text/plain": [
       "*rig       rig_descriptio\n",
       "+--------+ +------------+\n",
       "EPhys1     Ephys rig 1   \n",
       "RRig       Recording rig \n",
       "TRig1      Training rig 1\n",
       "TRig2      Training rig 2\n",
       "TRig3      Training rig 3\n",
       " (5 tuples)"
      ]
     },
     "execution_count": 6,
     "metadata": {},
     "output_type": "execute_result"
    }
   ],
   "source": [
    "rig=ephys.experiment.lab.Rig()\n",
    "#rig.insert1(('TRig3', 'Training rig 3'))\n",
    "#rig.insert1(('TRig2', 'Training rig 2'))\n",
    "#rig.insert1(('TRig1', 'Training rig 1'))\n",
    "#rig.insert1(('RRig', 'Recording rig'))\n",
    "rig"
   ]
  },
  {
   "cell_type": "code",
   "execution_count": 7,
   "metadata": {},
   "outputs": [
    {
     "data": {
      "text/html": [
       "\n",
       "        \n",
       "        <style type=\"text/css\">\n",
       "            .Relation{\n",
       "                border-collapse:collapse;\n",
       "            }\n",
       "            .Relation th{\n",
       "                background: #A0A0A0; color: #ffffff; padding:4px; border:#f0e0e0 1px solid;\n",
       "                font-weight: normal; font-family: monospace; font-size: 75%;\n",
       "            }\n",
       "            .Relation td{\n",
       "                padding:4px; border:#f0e0e0 1px solid; font-size:75%;\n",
       "            }\n",
       "            .Relation tr:nth-child(odd){\n",
       "                background: #ffffff;\n",
       "            }\n",
       "            .Relation tr:nth-child(even){\n",
       "                background: #f3f1ff;\n",
       "            }\n",
       "            /* Tooltip container */\n",
       "            .djtooltip {\n",
       "            }\n",
       "\n",
       "            /* Tooltip text */\n",
       "            .djtooltip .djtooltiptext {\n",
       "                visibility: hidden;\n",
       "                width: 120px;\n",
       "                background-color: black;\n",
       "                color: #fff;\n",
       "                text-align: center;\n",
       "                padding: 5px 0;\n",
       "                border-radius: 6px;\n",
       "\n",
       "                /* Position the tooltip text - see examples below! */\n",
       "                position: absolute;\n",
       "                z-index: 1;\n",
       "            }\n",
       "\n",
       "\n",
       "            #primary {\n",
       "                font-weight: bold;\n",
       "                color: black;\n",
       "            }\n",
       "\n",
       "            #nonprimary {\n",
       "                font-weight: normal;\n",
       "                color: white;\n",
       "            }\n",
       "\n",
       "            /* Show the tooltip text when you mouse over the tooltip container */\n",
       "            .djtooltip:hover .djtooltiptext {\n",
       "                visibility: visible;\n",
       "            }\n",
       "        </style>\n",
       "        \n",
       "        <b></b>\n",
       "            <div style=\"max-height:1000px;max-width:1500px;overflow:auto;\">\n",
       "            <table border=\"1\" class=\"Relation\">\n",
       "                <thead> <tr style=\"text-align: right;\"> <th> <div class=\"djtooltip\">\n",
       "                                <p id=\"primary\">animal</p>\n",
       "                                <span class=\"djtooltiptext\">Janelia ANM ID (6 digits)</span>\n",
       "                            </div></th><th><div class=\"djtooltip\">\n",
       "                                <p id=\"primary\">water_restriction</p>\n",
       "                                <span class=\"djtooltiptext\">water restriction number</span>\n",
       "                            </div> </th> </tr> </thead>\n",
       "                <tbody> <tr> <td>123456</td>\n",
       "<td>tw5</td></tr><tr><td>397853</td>\n",
       "<td>dl14</td></tr><tr><td>399752</td>\n",
       "<td>dl7</td> </tr> </tbody>\n",
       "            </table>\n",
       "            \n",
       "            <p>3 tuples</p></div>\n",
       "            "
      ],
      "text/plain": [
       "*animal    *water_restric\n",
       "+--------+ +------------+\n",
       "123456     tw5           \n",
       "397853     dl14          \n",
       "399752     dl7           \n",
       " (3 tuples)"
      ]
     },
     "execution_count": 7,
     "metadata": {},
     "output_type": "execute_result"
    }
   ],
   "source": [
    "animalWaterRestriction=ephys.experiment.lab.AnimalWaterRestriction()\n",
    "#animalWaterRestriction.insert1((123456, 'tw5'))\n",
    "#animalWaterRestriction.insert1((399752, 'dl7'))\n",
    "#animalWaterRestriction.insert1((400483, 'dl8'))\n",
    "#animalWaterRestriction.insert1((400482, 'dl9'))\n",
    "animalWaterRestriction"
   ]
  },
  {
   "cell_type": "code",
   "execution_count": 8,
   "metadata": {},
   "outputs": [],
   "source": [
    "trialNote = ephys.experiment.TrialNote()"
   ]
  },
  {
   "cell_type": "code",
   "execution_count": 9,
   "metadata": {},
   "outputs": [],
   "source": [
    "import numpy as np"
   ]
  },
  {
   "cell_type": "code",
   "execution_count": 10,
   "metadata": {},
   "outputs": [],
   "source": [
    "behaviorTrial = ephys.experiment.BehaviorTrial()"
   ]
  },
  {
   "cell_type": "code",
   "execution_count": 11,
   "metadata": {},
   "outputs": [],
   "source": [
    "outcome = (behaviorTrial & 'animal = 123456').fetch('outcome', order_by='session')\n",
    "early_lick = (behaviorTrial & 'animal = 123456').fetch('early_lick', order_by='session')"
   ]
  },
  {
   "cell_type": "code",
   "execution_count": 12,
   "metadata": {},
   "outputs": [],
   "source": [
    "data = np.zeros(len(outcome))\n",
    "data1 = np.zeros(len(early_lick))\n",
    "data2 = np.zeros(len(outcome))"
   ]
  },
  {
   "cell_type": "code",
   "execution_count": 13,
   "metadata": {},
   "outputs": [],
   "source": [
    "data[outcome=='hit'] = 1\n",
    "data1[early_lick=='early'] = 1\n",
    "data2[outcome=='ignore'] = 1"
   ]
  },
  {
   "cell_type": "code",
   "execution_count": 14,
   "metadata": {},
   "outputs": [],
   "source": [
    "trial_note = (trialNote & 'animal = 123456').fetch('trial_note', order_by='session')\n",
    "results = list(map(int, trial_note))\n",
    "protDiff = np.diff(results)\n",
    "protChange = np.where(protDiff != 0)"
   ]
  },
  {
   "cell_type": "code",
   "execution_count": 15,
   "metadata": {},
   "outputs": [],
   "source": [
    "def movingaverage (values, window):\n",
    "    weights = np.repeat(1.0, window)/window\n",
    "    sma = np.convolve(values, weights, 'valid')\n",
    "    return sma"
   ]
  },
  {
   "cell_type": "code",
   "execution_count": 16,
   "metadata": {},
   "outputs": [
    {
     "data": {
      "text/plain": [
       "Text(0,0.5,'Proportion Correct')"
      ]
     },
     "execution_count": 16,
     "metadata": {},
     "output_type": "execute_result"
    },
    {
     "data": {
      "image/png": "[encoded data removed]",
      "text/plain": [
       "<matplotlib.figure.Figure at 0x3e0aca20>"
      ]
     },
     "metadata": {},
     "output_type": "display_data"
    }
   ],
   "source": [
    "yMA = movingaverage(data,200)\n",
    "plt.plot(yMA)\n",
    "plt.xlabel('Trials')\n",
    "plt.ylabel('Proportion Correct')"
   ]
  },
  {
   "cell_type": "code",
   "execution_count": 17,
   "metadata": {},
   "outputs": [
    {
     "data": {
      "text/plain": [
       "Text(0,0.5,'Early Licks')"
      ]
     },
     "execution_count": 17,
     "metadata": {},
     "output_type": "execute_result"
    },
    {
     "data": {
      "image/png": "[encoded data removed]",
      "text/plain": [
       "<matplotlib.figure.Figure at 0x54b3278>"
      ]
     },
     "metadata": {},
     "output_type": "display_data"
    }
   ],
   "source": [
    "yMA = movingaverage(data1,200)\n",
    "plt.plot(yMA)\n",
    "plt.xlabel('Trials')\n",
    "plt.ylabel('Early Licks')"
   ]
  },
  {
   "cell_type": "code",
   "execution_count": 18,
   "metadata": {},
   "outputs": [
    {
     "data": {
      "text/plain": [
       "Text(0,0.5,'Ignores')"
      ]
     },
     "execution_count": 18,
     "metadata": {},
     "output_type": "execute_result"
    },
    {
     "data": {
      "image/png": "[encoded data removed]",
      "text/plain": [
       "<matplotlib.figure.Figure at 0x3de855f8>"
      ]
     },
     "metadata": {},
     "output_type": "display_data"
    }
   ],
   "source": [
    "yMA = movingaverage(data2,200)\n",
    "plt.plot(yMA)\n",
    "plt.xlabel('Trials')\n",
    "plt.ylabel('Ignores')"
   ]
  }
 ],
 "metadata": {
  "kernelspec": {
   "display_name": "Python 3",
   "language": "python",
   "name": "python3"
  },
  "language_info": {
   "codemirror_mode": {
    "name": "ipython",
    "version": 3
   },
   "file_extension": ".py",
   "mimetype": "text/x-python",
   "name": "python",
   "nbconvert_exporter": "python",
   "pygments_lexer": "ipython3",
   "version": "3.6.3"
  }
 },
 "nbformat": 4,
 "nbformat_minor": 2
}
