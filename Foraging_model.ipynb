{
 "cells": [
  {
   "cell_type": "code",
   "execution_count": null,
   "id": "f7e148c7-8083-4b06-9a63-3e3b40fa3d17",
   "metadata": {},
   "outputs": [],
   "source": [
    "%load_ext autoreload\n",
    "%autoreload 2\n",
    "import datajoint as dj\n",
    "from pipeline import lab, get_schema_name, experiment, foraging_model"
   ]
  },
  {
   "cell_type": "code",
   "execution_count": null,
   "id": "9b73f757-511e-4902-a9fc-468888f10322",
   "metadata": {},
   "outputs": [],
   "source": [
    "dj.ERD(foraging_model)"
   ]
  },
  {
   "cell_type": "code",
   "execution_count": null,
   "id": "31b4fd6f-2a2b-40f5-b768-0706922631bd",
   "metadata": {},
   "outputs": [],
   "source": [
    "foraging_model.ModelClass()"
   ]
  },
  {
   "cell_type": "code",
   "execution_count": null,
   "id": "3189be61-95e1-4926-82c1-66d81b7668a8",
   "metadata": {},
   "outputs": [],
   "source": [
    "foraging_model.Model.load_models()"
   ]
  },
  {
   "cell_type": "code",
   "execution_count": null,
   "id": "d20c7eb9-57a1-4b9f-bcfc-269474e1c990",
   "metadata": {},
   "outputs": [],
   "source": [
    "foraging_model.Model()"
   ]
  },
  {
   "cell_type": "code",
   "execution_count": null,
   "id": "532b78b8-213c-4f53-a912-19274a36646a",
   "metadata": {},
   "outputs": [],
   "source": [
    "foraging_model.Model() * foraging_model.Model.Param() & 'model_id=0'"
   ]
  },
  {
   "cell_type": "code",
   "execution_count": null,
   "id": "ba4b33a3-9d69-4f05-8e67-5f273095e800",
   "metadata": {},
   "outputs": [],
   "source": [
    "foraging_model.Model().drop()"
   ]
  }
 ],
 "metadata": {
  "kernelspec": {
   "display_name": "pipeline",
   "language": "python",
   "name": "pipeline"
  },
  "language_info": {
   "codemirror_mode": {
    "name": "ipython",
    "version": 3
   },
   "file_extension": ".py",
   "mimetype": "text/x-python",
   "name": "python",
   "nbconvert_exporter": "python",
   "pygments_lexer": "ipython3",
   "version": "3.9.5"
  }
 },
 "nbformat": 4,
 "nbformat_minor": 5
}
