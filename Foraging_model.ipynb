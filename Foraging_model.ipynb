{
 "cells": [
  {
   "cell_type": "code",
   "execution_count": null,
   "id": "f7e148c7-8083-4b06-9a63-3e3b40fa3d17",
   "metadata": {},
   "outputs": [],
   "source": [
    "%load_ext autoreload\n",
    "%autoreload 2\n",
    "import datajoint as dj\n",
    "from pipeline import lab, get_schema_name, experiment, foraging_model"
   ]
  },
  {
   "cell_type": "markdown",
   "id": "07ff6ad3-3e16-471c-af71-53862462d47f",
   "metadata": {},
   "source": [
    "# Migrate my previous code"
   ]
  },
  {
   "cell_type": "markdown",
   "id": "c56a1061-7841-4320-8084-895f3859bae3",
   "metadata": {},
   "source": [
    "## Define models"
   ]
  },
  {
   "cell_type": "code",
   "execution_count": null,
   "id": "9b73f757-511e-4902-a9fc-468888f10322",
   "metadata": {},
   "outputs": [],
   "source": [
    "dj.ERD(foraging_model)"
   ]
  },
  {
   "cell_type": "code",
   "execution_count": null,
   "id": "31b4fd6f-2a2b-40f5-b768-0706922631bd",
   "metadata": {},
   "outputs": [],
   "source": [
    "foraging_model.ModelClass()"
   ]
  },
  {
   "cell_type": "code",
   "execution_count": null,
   "id": "3189be61-95e1-4926-82c1-66d81b7668a8",
   "metadata": {},
   "outputs": [],
   "source": [
    "foraging_model.Model.load_models()"
   ]
  },
  {
   "cell_type": "code",
   "execution_count": null,
   "id": "d20c7eb9-57a1-4b9f-bcfc-269474e1c990",
   "metadata": {},
   "outputs": [],
   "source": [
    "foraging_model.Model & 'is_choice_kernel'"
   ]
  },
  {
   "cell_type": "code",
   "execution_count": null,
   "id": "532b78b8-213c-4f53-a912-19274a36646a",
   "metadata": {},
   "outputs": [],
   "source": [
    "foraging_model.Model() * foraging_model.Model.Param() & 'model_id=0'"
   ]
  },
  {
   "cell_type": "code",
   "execution_count": null,
   "id": "971de49f-c7d7-4335-9051-1b31ade8fcdc",
   "metadata": {},
   "outputs": [],
   "source": [
    "foraging_model.FittedSessionModel.key_source"
   ]
  },
  {
   "cell_type": "markdown",
   "id": "bea6cc78-7e27-409b-8b6e-b42d3862b90a",
   "metadata": {},
   "source": [
    "## Prepare data for each session"
   ]
  },
  {
   "cell_type": "code",
   "execution_count": null,
   "id": "c7829cdc-603e-44d8-bf88-78c0d1991c0b",
   "metadata": {},
   "outputs": [],
   "source": [
    "dj.ERD(experiment.BehaviorTrial) +2"
   ]
  },
  {
   "cell_type": "code",
   "execution_count": null,
   "id": "e8d4b0b9-198b-4bcd-bd00-475f48752182",
   "metadata": {},
   "outputs": [],
   "source": [
    "dj.ERD(experiment.WaterPort)+1 + dj.ERD(experiment.SessionBlock) "
   ]
  },
  {
   "cell_type": "code",
   "execution_count": null,
   "id": "c2c3d581-fd17-46f2-aa59-1994b9e3909e",
   "metadata": {},
   "outputs": [],
   "source": [
    "key = {'subject_id': 447921, 'session': 3, 'model_id': 5}\n",
    "experiment.WaterPortChoice.proj(choice='water_port') * experiment.BehaviorTrial.proj('outcome', 'early_lick') * \\\n",
    "experiment.SessionBlock.BlockTrial & key"
   ]
  },
  {
   "cell_type": "markdown",
   "id": "1a21f4f6-7bf0-413c-a58b-1f6fcfdc7f90",
   "metadata": {},
   "source": [
    "## Populate model fitting"
   ]
  },
  {
   "cell_type": "code",
   "execution_count": null,
   "id": "ad85e367-4888-49cf-96c3-23dff17347df",
   "metadata": {},
   "outputs": [],
   "source": [
    "schema = dj.schema(get_schema_name('foraging_model'))\n",
    "schema.jobs"
   ]
  },
  {
   "cell_type": "code",
   "execution_count": null,
   "id": "856aeeac-734c-4a2a-b2a7-ad62c7885e2d",
   "metadata": {},
   "outputs": [],
   "source": [
    "schema.jobs.fetch('key')"
   ]
  },
  {
   "cell_type": "code",
   "execution_count": null,
   "id": "d2783090-80c7-49ae-ac6a-379b81c7372d",
   "metadata": {},
   "outputs": [],
   "source": [
    "finished = len(foraging_model.FittedSessionModel())\n",
    "total = len(foraging_model.FittedSessionModel.key_source)\n",
    "print(f'Fitted session: {finished}/{total}, {finished/total:.2%}')"
   ]
  },
  {
   "cell_type": "code",
   "execution_count": null,
   "id": "ffaf1fd3-92d8-476b-895b-cd3fe8afad03",
   "metadata": {},
   "outputs": [],
   "source": [
    "foraging_model.FittedSessionModel()"
   ]
  }
 ],
 "metadata": {
  "kernelspec": {
   "display_name": "pipeline",
   "language": "python",
   "name": "pipeline"
  },
  "language_info": {
   "codemirror_mode": {
    "name": "ipython",
    "version": 3
   },
   "file_extension": ".py",
   "mimetype": "text/x-python",
   "name": "python",
   "nbconvert_exporter": "python",
   "pygments_lexer": "ipython3",
   "version": "3.9.5"
  }
 },
 "nbformat": 4,
 "nbformat_minor": 5
}
