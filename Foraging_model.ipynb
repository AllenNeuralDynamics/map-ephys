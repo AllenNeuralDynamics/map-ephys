{
 "cells": [
  {
   "cell_type": "code",
   "execution_count": null,
   "id": "a57e5467",
   "metadata": {},
   "outputs": [],
   "source": [
    "%load_ext autoreload\n",
    "%autoreload 2\n",
    "import datajoint as dj\n",
    "from pipeline import lab, get_schema_name, experiment, foraging_model, ephys"
   ]
  },
  {
   "cell_type": "markdown",
   "id": "fb9a94df",
   "metadata": {},
   "source": [
    "# Migrate my previous code"
   ]
  },
  {
   "cell_type": "markdown",
   "id": "f641d178",
   "metadata": {},
   "source": [
    "## Define models"
   ]
  },
  {
   "cell_type": "code",
   "execution_count": null,
   "id": "6d62ff5b",
   "metadata": {},
   "outputs": [],
   "source": [
    "dj.ERD(foraging_model)"
   ]
  },
  {
   "cell_type": "code",
   "execution_count": null,
   "id": "6bca1055",
   "metadata": {},
   "outputs": [],
   "source": [
    "foraging_model.ModelClass()"
   ]
  },
  {
   "cell_type": "code",
   "execution_count": null,
   "id": "d5d3d067",
   "metadata": {},
   "outputs": [],
   "source": [
    "foraging_model.Model.load_models()"
   ]
  },
  {
   "cell_type": "code",
   "execution_count": null,
   "id": "6d5ae2d7",
   "metadata": {},
   "outputs": [],
   "source": [
    "foraging_model.Model & 'is_choice_kernel'"
   ]
  },
  {
   "cell_type": "code",
   "execution_count": null,
   "id": "3f294ecf",
   "metadata": {},
   "outputs": [],
   "source": [
    "foraging_model.Model() * foraging_model.Model.Param() & 'model_id=0'"
   ]
  },
  {
   "cell_type": "code",
   "execution_count": null,
   "id": "712e8f21",
   "metadata": {},
   "outputs": [],
   "source": [
    "foraging_model.FittedSessionModel.key_source"
   ]
  },
  {
   "cell_type": "markdown",
   "id": "550b4436",
   "metadata": {},
   "source": [
    "## Prepare data for each session"
   ]
  },
  {
   "cell_type": "code",
   "execution_count": null,
   "id": "4faa3938",
   "metadata": {},
   "outputs": [],
   "source": [
    "dj.ERD(experiment.BehaviorTrial) +2"
   ]
  },
  {
   "cell_type": "code",
   "execution_count": null,
   "id": "9cd0b867",
   "metadata": {},
   "outputs": [],
   "source": [
    "dj.ERD(experiment.WaterPort)+1 + dj.ERD(experiment.SessionBlock) "
   ]
  },
  {
   "cell_type": "code",
   "execution_count": null,
   "id": "7531b3c9",
   "metadata": {},
   "outputs": [],
   "source": [
    "key = {'subject_id': 447921, 'session': 3, 'model_id': 5}\n",
    "experiment.WaterPortChoice.proj(choice='water_port') * experiment.BehaviorTrial.proj('outcome', 'early_lick') * \\\n",
    "experiment.SessionBlock.BlockTrial & key"
   ]
  },
  {
   "cell_type": "markdown",
   "id": "66127438",
   "metadata": {},
   "source": [
    "## Populate model fitting"
   ]
  },
  {
   "cell_type": "code",
   "execution_count": null,
   "id": "d719779d",
   "metadata": {},
   "outputs": [],
   "source": [
    "schema = dj.schema(get_schema_name('foraging_model'))\n",
    "schema.jobs"
   ]
  },
  {
   "cell_type": "code",
   "execution_count": null,
   "id": "66272fbf",
   "metadata": {},
   "outputs": [],
   "source": [
    "schema.jobs.fetch('key', 'host')"
   ]
  },
  {
   "cell_type": "code",
   "execution_count": null,
   "id": "56606b28",
   "metadata": {},
   "outputs": [],
   "source": [
    "schema.jobs.delete()"
   ]
  },
  {
   "cell_type": "code",
   "execution_count": null,
   "id": "828fd02c",
   "metadata": {
    "tags": []
   },
   "outputs": [],
   "source": [
    "finished = len(foraging_model.FittedSessionModel())\n",
    "total = len(foraging_model.FittedSessionModel.key_source)\n",
    "print(f'Fitted session: {finished}/{total}, {finished/total:.2%}')"
   ]
  },
  {
   "cell_type": "code",
   "execution_count": null,
   "id": "45f339a8",
   "metadata": {},
   "outputs": [],
   "source": [
    "foraging_model.FittedSessionModel()"
   ]
  },
  {
   "cell_type": "markdown",
   "id": "e09da6a7",
   "metadata": {},
   "source": [
    "Overall statistics for all models"
   ]
  },
  {
   "cell_type": "code",
   "execution_count": null,
   "id": "5f2b5468",
   "metadata": {},
   "outputs": [],
   "source": [
    "foraging_model.Model.proj('model_notation') * (foraging_model.Model.aggr(foraging_model.FittedSessionModel, aver_lpt_aic='avg(lpt_aic)', aver_lpt_bic='avg(lpt_bic)', n='count(*)'))"
   ]
  },
  {
   "cell_type": "code",
   "execution_count": null,
   "id": "b7e5cd62",
   "metadata": {},
   "outputs": [],
   "source": [
    "dj.U('subject_id','session').aggr(foraging_model.FittedSessionModel, max_lpt_aic='max(lpt_aic)')"
   ]
  },
  {
   "cell_type": "markdown",
   "id": "946ec5b5",
   "metadata": {},
   "source": [
    "# Model comparison"
   ]
  },
  {
   "cell_type": "code",
   "execution_count": null,
   "id": "c7133a9b",
   "metadata": {},
   "outputs": [],
   "source": [
    "from pipeline.plot.foraging_model_plot import plot_session_model_comparison, plot_session_fitted_choice, _get_model_comparison_results"
   ]
  },
  {
   "cell_type": "code",
   "execution_count": null,
   "id": "3daf8098",
   "metadata": {},
   "outputs": [],
   "source": [
    "date, imec, unit = '2021-04-18', 0, 541\n",
    "unit_key = (ephys.Unit() * experiment.Session & {'session_date': date, 'subject_id': 473361, 'insertion_number':imec + 1, 'unit_uid': unit}).fetch1(\"KEY\")\n",
    "plot_session_model_comparison(unit_key, model_comparison_idx=0, sort='aic')"
   ]
  },
  {
   "cell_type": "code",
   "execution_count": null,
   "id": "4f50669e",
   "metadata": {},
   "outputs": [],
   "source": [
    "a,_ = _get_model_comparison_results({'subject_id': 473361, 'session': 47}, sort='aic')\n",
    "a"
   ]
  },
  {
   "cell_type": "code",
   "execution_count": null,
   "id": "ff58951c",
   "metadata": {},
   "outputs": [],
   "source": [
    "plot_session_fitted_choice(unit_key, first_n=2, last_n=1, smooth_factor=7)"
   ]
  }
 ],
 "metadata": {
  "kernelspec": {
   "display_name": "pipeline",
   "language": "python",
   "name": "pipeline"
  },
  "language_info": {
   "codemirror_mode": {
    "name": "ipython",
    "version": 3
   },
   "file_extension": ".py",
   "mimetype": "text/x-python",
   "name": "python",
   "nbconvert_exporter": "python",
   "pygments_lexer": "ipython3",
   "version": "3.9.5"
  },
  "toc-autonumbering": true,
  "toc-showtags": false
 },
 "nbformat": 4,
 "nbformat_minor": 5
}
