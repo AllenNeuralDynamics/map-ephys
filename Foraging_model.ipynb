{
 "cells": [
  {
   "cell_type": "code",
   "execution_count": 1,
   "id": "f7e148c7-8083-4b06-9a63-3e3b40fa3d17",
   "metadata": {},
   "outputs": [
    {
     "name": "stdout",
     "output_type": "stream",
     "text": [
      "Connecting hanhou@datajoint.mesoscale-activity-map.org:3306\n"
     ]
    }
   ],
   "source": [
    "%load_ext autoreload\n",
    "%autoreload 2\n",
    "import datajoint as dj\n",
    "from pipeline import lab, get_schema_name, experiment, foraging_model, ephys"
   ]
  },
  {
   "cell_type": "markdown",
   "id": "07ff6ad3-3e16-471c-af71-53862462d47f",
   "metadata": {},
   "source": [
    "# Migrate my previous code"
   ]
  },
  {
   "cell_type": "markdown",
   "id": "c56a1061-7841-4320-8084-895f3859bae3",
   "metadata": {},
   "source": [
    "## Define models"
   ]
  },
  {
   "cell_type": "code",
   "execution_count": null,
   "id": "9b73f757-511e-4902-a9fc-468888f10322",
   "metadata": {},
   "outputs": [],
   "source": [
    "dj.ERD(foraging_model)"
   ]
  },
  {
   "cell_type": "code",
   "execution_count": null,
   "id": "31b4fd6f-2a2b-40f5-b768-0706922631bd",
   "metadata": {},
   "outputs": [],
   "source": [
    "foraging_model.ModelClass()"
   ]
  },
  {
   "cell_type": "code",
   "execution_count": 3,
   "id": "3189be61-95e1-4926-82c1-66d81b7668a8",
   "metadata": {},
   "outputs": [],
   "source": [
    "foraging_model.Model.load_models()"
   ]
  },
  {
   "cell_type": "code",
   "execution_count": 5,
   "id": "d20c7eb9-57a1-4b9f-bcfc-269474e1c990",
   "metadata": {},
   "outputs": [
    {
     "data": {
      "text/html": [
       "\n",
       "    \n",
       "    <style type=\"text/css\">\n",
       "        .Relation{\n",
       "            border-collapse:collapse;\n",
       "        }\n",
       "        .Relation th{\n",
       "            background: #A0A0A0; color: #ffffff; padding:4px; border:#f0e0e0 1px solid;\n",
       "            font-weight: normal; font-family: monospace; font-size: 100%;\n",
       "        }\n",
       "        .Relation td{\n",
       "            padding:4px; border:#f0e0e0 1px solid; font-size:100%;\n",
       "        }\n",
       "        .Relation tr:nth-child(odd){\n",
       "            background: #ffffff;\n",
       "        }\n",
       "        .Relation tr:nth-child(even){\n",
       "            background: #f3f1ff;\n",
       "        }\n",
       "        /* Tooltip container */\n",
       "        .djtooltip {\n",
       "        }\n",
       "        /* Tooltip text */\n",
       "        .djtooltip .djtooltiptext {\n",
       "            visibility: hidden;\n",
       "            width: 120px;\n",
       "            background-color: black;\n",
       "            color: #fff;\n",
       "            text-align: center;\n",
       "            padding: 5px 0;\n",
       "            border-radius: 6px;\n",
       "            /* Position the tooltip text - see examples below! */\n",
       "            position: absolute;\n",
       "            z-index: 1;\n",
       "        }\n",
       "        #primary {\n",
       "            font-weight: bold;\n",
       "            color: black;\n",
       "        }\n",
       "        #nonprimary {\n",
       "            font-weight: normal;\n",
       "            color: white;\n",
       "        }\n",
       "\n",
       "        /* Show the tooltip text when you mouse over the tooltip container */\n",
       "        .djtooltip:hover .djtooltiptext {\n",
       "            visibility: visible;\n",
       "        }\n",
       "    </style>\n",
       "    \n",
       "    <b></b>\n",
       "        <div style=\"max-height:1000px;max-width:1500px;overflow:auto;\">\n",
       "        <table border=\"1\" class=\"Relation\">\n",
       "            <thead> <tr style=\"text-align: right;\"> <th> <div class=\"djtooltip\">\n",
       "                            <p id=\"primary\">model_id</p>\n",
       "                            <span class=\"djtooltiptext\"></span>\n",
       "                        </div></th><th><div class=\"djtooltip\">\n",
       "                            <p id=\"nonprimary\">model_class</p>\n",
       "                            <span class=\"djtooltiptext\">e.g. LossCounting, RW1972, Hattori2019</span>\n",
       "                        </div></th><th><div class=\"djtooltip\">\n",
       "                            <p id=\"nonprimary\">model_notation</p>\n",
       "                            <span class=\"djtooltiptext\"></span>\n",
       "                        </div></th><th><div class=\"djtooltip\">\n",
       "                            <p id=\"nonprimary\">n_params</p>\n",
       "                            <span class=\"djtooltiptext\">Effective param count</span>\n",
       "                        </div></th><th><div class=\"djtooltip\">\n",
       "                            <p id=\"nonprimary\">is_bias</p>\n",
       "                            <span class=\"djtooltiptext\"></span>\n",
       "                        </div></th><th><div class=\"djtooltip\">\n",
       "                            <p id=\"nonprimary\">is_epsilon_greedy</p>\n",
       "                            <span class=\"djtooltiptext\"></span>\n",
       "                        </div></th><th><div class=\"djtooltip\">\n",
       "                            <p id=\"nonprimary\">is_softmax</p>\n",
       "                            <span class=\"djtooltiptext\"></span>\n",
       "                        </div></th><th><div class=\"djtooltip\">\n",
       "                            <p id=\"nonprimary\">is_choice_kernel</p>\n",
       "                            <span class=\"djtooltiptext\"></span>\n",
       "                        </div></th><th><div class=\"djtooltip\">\n",
       "                            <p id=\"nonprimary\">desc</p>\n",
       "                            <span class=\"djtooltiptext\">Long name</span>\n",
       "                        </div></th><th><div class=\"djtooltip\">\n",
       "                            <p id=\"nonprimary\">fit_cmd</p>\n",
       "                            <span class=\"djtooltiptext\">Fitting command compatible with the Dynamic-Foraing repo</span>\n",
       "                        </div> </th> </tr> </thead>\n",
       "            <tbody> <tr> <td>0</td>\n",
       "<td>LossCounting</td>\n",
       "<td>LossCounting ($\\mu_{LC}$, $\\sigma_{LC}$)</td>\n",
       "<td>2</td>\n",
       "<td>0</td>\n",
       "<td>0</td>\n",
       "<td>0</td>\n",
       "<td>0</td>\n",
       "<td>LossCounting: mean, std, no bias</td>\n",
       "<td>=BLOB=</td></tr><tr><td>1</td>\n",
       "<td>RW1972</td>\n",
       "<td>RW1972_epsi ($\\alpha$, $\\epsilon$)</td>\n",
       "<td>2</td>\n",
       "<td>0</td>\n",
       "<td>1</td>\n",
       "<td>0</td>\n",
       "<td>0</td>\n",
       "<td>SuttonBarto: epsilon, no bias</td>\n",
       "<td>=BLOB=</td></tr><tr><td>2</td>\n",
       "<td>RW1972</td>\n",
       "<td>RW1972_softmax ($\\alpha$, $\\sigma$)</td>\n",
       "<td>2</td>\n",
       "<td>0</td>\n",
       "<td>0</td>\n",
       "<td>1</td>\n",
       "<td>0</td>\n",
       "<td>SuttonBarto: softmax, no bias</td>\n",
       "<td>=BLOB=</td></tr><tr><td>3</td>\n",
       "<td>LNP</td>\n",
       "<td>LNP_softmax ($\\tau_1$, $\\sigma$)</td>\n",
       "<td>2</td>\n",
       "<td>0</td>\n",
       "<td>0</td>\n",
       "<td>1</td>\n",
       "<td>0</td>\n",
       "<td>Sugrue2004, Corrado2005: one tau, no bias</td>\n",
       "<td>=BLOB=</td></tr><tr><td>4</td>\n",
       "<td>LNP</td>\n",
       "<td>LNP_softmax ($\\tau_1$, $\\tau_2$, $w_{\\tau_1}$, $\\sigma$)</td>\n",
       "<td>4</td>\n",
       "<td>0</td>\n",
       "<td>0</td>\n",
       "<td>1</td>\n",
       "<td>0</td>\n",
       "<td>Corrado2005, Iigaya2019: two taus, no bias</td>\n",
       "<td>=BLOB=</td></tr><tr><td>5</td>\n",
       "<td>Bari2019</td>\n",
       "<td>Bari2019 ($\\alpha$, $\\delta$, $\\sigma$)</td>\n",
       "<td>3</td>\n",
       "<td>0</td>\n",
       "<td>0</td>\n",
       "<td>1</td>\n",
       "<td>0</td>\n",
       "<td>RL: chosen, unchosen, softmax, no bias</td>\n",
       "<td>=BLOB=</td></tr><tr><td>6</td>\n",
       "<td>Hattori2019</td>\n",
       "<td>Hattori2019 ($\\alpha_{rew}$, $\\alpha_{unr}$, $\\sigma$)</td>\n",
       "<td>3</td>\n",
       "<td>0</td>\n",
       "<td>0</td>\n",
       "<td>1</td>\n",
       "<td>0</td>\n",
       "<td>RL: rew, unrew, softmax, no bias</td>\n",
       "<td>=BLOB=</td></tr><tr><td>7</td>\n",
       "<td>Hattori2019</td>\n",
       "<td>Hattori2019 ($\\alpha_{rew}$, $\\alpha_{unr}$, $\\delta$, $\\sigma$)</td>\n",
       "<td>4</td>\n",
       "<td>0</td>\n",
       "<td>0</td>\n",
       "<td>1</td>\n",
       "<td>0</td>\n",
       "<td>RL: rew, unrew, unchosen, softmax, no bias</td>\n",
       "<td>=BLOB=</td></tr><tr><td>8</td>\n",
       "<td>RW1972</td>\n",
       "<td>RW1972_epsi ($\\alpha$, $\\epsilon$, $b_L$)</td>\n",
       "<td>3</td>\n",
       "<td>1</td>\n",
       "<td>1</td>\n",
       "<td>0</td>\n",
       "<td>0</td>\n",
       "<td>SuttonBarto: epsilon</td>\n",
       "<td>=BLOB=</td></tr><tr><td>9</td>\n",
       "<td>RW1972</td>\n",
       "<td>RW1972_softmax ($\\alpha$, $\\sigma$, $b_L$)</td>\n",
       "<td>3</td>\n",
       "<td>1</td>\n",
       "<td>0</td>\n",
       "<td>1</td>\n",
       "<td>0</td>\n",
       "<td>SuttonBarto: softmax</td>\n",
       "<td>=BLOB=</td></tr><tr><td>10</td>\n",
       "<td>LNP</td>\n",
       "<td>LNP_softmax ($\\tau_1$, $\\sigma$, $b_L$)</td>\n",
       "<td>3</td>\n",
       "<td>1</td>\n",
       "<td>0</td>\n",
       "<td>1</td>\n",
       "<td>0</td>\n",
       "<td>Sugrue2004, Corrado2005: one tau</td>\n",
       "<td>=BLOB=</td></tr><tr><td>11</td>\n",
       "<td>LNP</td>\n",
       "<td>LNP_softmax ($\\tau_1$, $\\tau_2$, $w_{\\tau_1}$, $\\sigma$, $b_L$)</td>\n",
       "<td>5</td>\n",
       "<td>1</td>\n",
       "<td>0</td>\n",
       "<td>1</td>\n",
       "<td>0</td>\n",
       "<td>Corrado2005, Iigaya2019: two taus</td>\n",
       "<td>=BLOB=</td></tr><tr><td>12</td>\n",
       "<td>Bari2019</td>\n",
       "<td>Bari2019 ($\\alpha$, $\\delta$, $\\sigma$, $b_L$)</td>\n",
       "<td>4</td>\n",
       "<td>1</td>\n",
       "<td>0</td>\n",
       "<td>1</td>\n",
       "<td>0</td>\n",
       "<td>RL: chosen, unchosen, softmax</td>\n",
       "<td>=BLOB=</td></tr><tr><td>13</td>\n",
       "<td>Hattori2019</td>\n",
       "<td>Hattori2019 ($\\alpha_{rew}$, $\\alpha_{unr}$, $\\sigma$, $b_L$)</td>\n",
       "<td>4</td>\n",
       "<td>1</td>\n",
       "<td>0</td>\n",
       "<td>1</td>\n",
       "<td>0</td>\n",
       "<td>RL: rew, unrew, softmax</td>\n",
       "<td>=BLOB=</td></tr><tr><td>14</td>\n",
       "<td>Hattori2019</td>\n",
       "<td>Hattori2019 ($\\alpha_{rew}$, $\\alpha_{unr}$, $\\delta$, $\\sigma$, $b_L$)</td>\n",
       "<td>5</td>\n",
       "<td>1</td>\n",
       "<td>0</td>\n",
       "<td>1</td>\n",
       "<td>0</td>\n",
       "<td>(full Hattori) RL: rew, unrew, unchosen, softmax</td>\n",
       "<td>=BLOB=</td></tr><tr><td>15</td>\n",
       "<td>RW1972</td>\n",
       "<td>RW1972_softmax_CK ($\\alpha$, $\\sigma$, $b_L$, $\\alpha_c$, $\\sigma_c$)</td>\n",
       "<td>5</td>\n",
       "<td>1</td>\n",
       "<td>0</td>\n",
       "<td>1</td>\n",
       "<td>1</td>\n",
       "<td>SuttonBarto: softmax, choice kernel</td>\n",
       "<td>=BLOB=</td></tr><tr><td>16</td>\n",
       "<td>LNP</td>\n",
       "<td>LNP_softmax_CK ($\\tau_1$, $\\sigma$, $b_L$, $\\alpha_c$, $\\sigma_c$)</td>\n",
       "<td>5</td>\n",
       "<td>1</td>\n",
       "<td>0</td>\n",
       "<td>1</td>\n",
       "<td>1</td>\n",
       "<td>Sugrue2004, Corrado2005: one tau, choice kernel</td>\n",
       "<td>=BLOB=</td></tr><tr><td>17</td>\n",
       "<td>LNP</td>\n",
       "<td>LNP_softmax_CK ($\\tau_1$, $\\tau_2$, $w_{\\tau_1}$, $\\sigma$, $b_L$, $\\alpha_c$, $\\sigma_c$)</td>\n",
       "<td>7</td>\n",
       "<td>1</td>\n",
       "<td>0</td>\n",
       "<td>1</td>\n",
       "<td>1</td>\n",
       "<td>Corrado2005, Iigaya2019: two taus, choice kernel</td>\n",
       "<td>=BLOB=</td></tr><tr><td>18</td>\n",
       "<td>Bari2019</td>\n",
       "<td>Bari2019_CK ($\\alpha$, $\\delta$, $\\sigma$, $b_L$, $\\alpha_c$, $\\sigma_c$)</td>\n",
       "<td>6</td>\n",
       "<td>1</td>\n",
       "<td>0</td>\n",
       "<td>1</td>\n",
       "<td>1</td>\n",
       "<td>RL: chosen, unchosen, softmax, choice kernel</td>\n",
       "<td>=BLOB=</td></tr><tr><td>19</td>\n",
       "<td>Hattori2019</td>\n",
       "<td>Hattori2019_CK ($\\alpha_{rew}$, $\\alpha_{unr}$, $\\sigma$, $b_L$, $\\alpha_c$, $\\sigma_c$)</td>\n",
       "<td>6</td>\n",
       "<td>1</td>\n",
       "<td>0</td>\n",
       "<td>1</td>\n",
       "<td>1</td>\n",
       "<td>RL: rew, unrew, softmax, choice kernel</td>\n",
       "<td>=BLOB=</td></tr><tr><td>20</td>\n",
       "<td>Hattori2019</td>\n",
       "<td>Hattori2019_CK ($\\alpha_{rew}$, $\\alpha_{unr}$, $\\delta$, $\\sigma$, $b_L$, $\\alpha_c$, $\\sigma_c$)</td>\n",
       "<td>7</td>\n",
       "<td>1</td>\n",
       "<td>0</td>\n",
       "<td>1</td>\n",
       "<td>1</td>\n",
       "<td>Hattori + choice kernel</td>\n",
       "<td>=BLOB=</td></tr><tr><td>21</td>\n",
       "<td>Hattori2019</td>\n",
       "<td>Hattori2019_CK ($\\alpha_{rew}$, $\\alpha_{unr}$, $\\delta$, $\\sigma$, $b_L$, $\\alpha_c$= 1, $\\sigma_c$)</td>\n",
       "<td>6</td>\n",
       "<td>1</td>\n",
       "<td>0</td>\n",
       "<td>1</td>\n",
       "<td>1</td>\n",
       "<td>choice_step_size fixed at 1 --> Bari 2019: only the last choice matters</td>\n",
       "<td>=BLOB=</td></tr><tr><td>22</td>\n",
       "<td>CANN</td>\n",
       "<td>CANN ($\\alpha$, $\\tau_{CANN}$, $\\sigma$, $b_L$)</td>\n",
       "<td>4</td>\n",
       "<td>1</td>\n",
       "<td>0</td>\n",
       "<td>1</td>\n",
       "<td>0</td>\n",
       "<td>Ulises\" CANN model, ITI decay, with bias</td>\n",
       "<td>=BLOB=</td></tr><tr><td>23</td>\n",
       "<td>Synaptic</td>\n",
       "<td>Synaptic ($\\alpha$, $\\delta$, $I_0$, $\\rho$, $\\sigma$, $b_L$)</td>\n",
       "<td>6</td>\n",
       "<td>1</td>\n",
       "<td>0</td>\n",
       "<td>1</td>\n",
       "<td>0</td>\n",
       "<td>Ulises\" synaptic model</td>\n",
       "<td>=BLOB=</td> </tr> </tbody>\n",
       "        </table>\n",
       "        \n",
       "        <p>Total: 24</p></div>\n",
       "        "
      ],
      "text/plain": [
       "*model_id    model_class      model_notation                                     n_params     is_bias     is_epsilon_greedy     is_softmax     is_choice_kernel     desc                                               fit_cmd   \n",
       "+----------+ +--------------+ +------------------------------------------------+ +----------+ +---------+ +-------------------+ +------------+ +------------------+ +------------------------------------------------+ +--------+\n",
       "0            LossCounting     LossCounting ($\\mu_{LC}$, $\\sigma_{LC}$)           2            0           0                     0              0                    LossCounting: mean, std, no bias                   =BLOB=    \n",
       "1            RW1972           RW1972_epsi ($\\alpha$, $\\epsilon$)                 2            0           1                     0              0                    SuttonBarto: epsilon, no bias                      =BLOB=    \n",
       "2            RW1972           RW1972_softmax ($\\alpha$, $\\sigma$)                2            0           0                     1              0                    SuttonBarto: softmax, no bias                      =BLOB=    \n",
       "3            LNP              LNP_softmax ($\\tau_1$, $\\sigma$)                   2            0           0                     1              0                    Sugrue2004, Corrado2005: one tau, no bias          =BLOB=    \n",
       "4            LNP              LNP_softmax ($\\tau_1$, $\\tau_2$, $w_{\\tau_1}$, $\\s 4            0           0                     1              0                    Corrado2005, Iigaya2019: two taus, no bias         =BLOB=    \n",
       "5            Bari2019         Bari2019 ($\\alpha$, $\\delta$, $\\sigma$)            3            0           0                     1              0                    RL: chosen, unchosen, softmax, no bias             =BLOB=    \n",
       "6            Hattori2019      Hattori2019 ($\\alpha_{rew}$, $\\alpha_{unr}$, $\\sig 3            0           0                     1              0                    RL: rew, unrew, softmax, no bias                   =BLOB=    \n",
       "7            Hattori2019      Hattori2019 ($\\alpha_{rew}$, $\\alpha_{unr}$, $\\del 4            0           0                     1              0                    RL: rew, unrew, unchosen, softmax, no bias         =BLOB=    \n",
       "8            RW1972           RW1972_epsi ($\\alpha$, $\\epsilon$, $b_L$)          3            1           1                     0              0                    SuttonBarto: epsilon                               =BLOB=    \n",
       "9            RW1972           RW1972_softmax ($\\alpha$, $\\sigma$, $b_L$)         3            1           0                     1              0                    SuttonBarto: softmax                               =BLOB=    \n",
       "10           LNP              LNP_softmax ($\\tau_1$, $\\sigma$, $b_L$)            3            1           0                     1              0                    Sugrue2004, Corrado2005: one tau                   =BLOB=    \n",
       "11           LNP              LNP_softmax ($\\tau_1$, $\\tau_2$, $w_{\\tau_1}$, $\\s 5            1           0                     1              0                    Corrado2005, Iigaya2019: two taus                  =BLOB=    \n",
       "12           Bari2019         Bari2019 ($\\alpha$, $\\delta$, $\\sigma$, $b_L$)     4            1           0                     1              0                    RL: chosen, unchosen, softmax                      =BLOB=    \n",
       "13           Hattori2019      Hattori2019 ($\\alpha_{rew}$, $\\alpha_{unr}$, $\\sig 4            1           0                     1              0                    RL: rew, unrew, softmax                            =BLOB=    \n",
       "14           Hattori2019      Hattori2019 ($\\alpha_{rew}$, $\\alpha_{unr}$, $\\del 5            1           0                     1              0                    (full Hattori) RL: rew, unrew, unchosen, softmax   =BLOB=    \n",
       "15           RW1972           RW1972_softmax_CK ($\\alpha$, $\\sigma$, $b_L$, $\\al 5            1           0                     1              1                    SuttonBarto: softmax, choice kernel                =BLOB=    \n",
       "16           LNP              LNP_softmax_CK ($\\tau_1$, $\\sigma$, $b_L$, $\\alpha 5            1           0                     1              1                    Sugrue2004, Corrado2005: one tau, choice kernel    =BLOB=    \n",
       "17           LNP              LNP_softmax_CK ($\\tau_1$, $\\tau_2$, $w_{\\tau_1}$,  7            1           0                     1              1                    Corrado2005, Iigaya2019: two taus, choice kernel   =BLOB=    \n",
       "18           Bari2019         Bari2019_CK ($\\alpha$, $\\delta$, $\\sigma$, $b_L$,  6            1           0                     1              1                    RL: chosen, unchosen, softmax, choice kernel       =BLOB=    \n",
       "19           Hattori2019      Hattori2019_CK ($\\alpha_{rew}$, $\\alpha_{unr}$, $\\ 6            1           0                     1              1                    RL: rew, unrew, softmax, choice kernel             =BLOB=    \n",
       "20           Hattori2019      Hattori2019_CK ($\\alpha_{rew}$, $\\alpha_{unr}$, $\\ 7            1           0                     1              1                    Hattori + choice kernel                            =BLOB=    \n",
       "21           Hattori2019      Hattori2019_CK ($\\alpha_{rew}$, $\\alpha_{unr}$, $\\ 6            1           0                     1              1                    choice_step_size fixed at 1 --> Bari 2019: only th =BLOB=    \n",
       "22           CANN             CANN ($\\alpha$, $\\tau_{CANN}$, $\\sigma$, $b_L$)    4            1           0                     1              0                    Ulises\" CANN model, ITI decay, with bias           =BLOB=    \n",
       "23           Synaptic         Synaptic ($\\alpha$, $\\delta$, $I_0$, $\\rho$, $\\sig 6            1           0                     1              0                    Ulises\" synaptic model                             =BLOB=    \n",
       " (Total: 24)"
      ]
     },
     "execution_count": 5,
     "metadata": {},
     "output_type": "execute_result"
    }
   ],
   "source": [
    "foraging_model.Model()"
   ]
  },
  {
   "cell_type": "code",
   "execution_count": null,
   "id": "532b78b8-213c-4f53-a912-19274a36646a",
   "metadata": {},
   "outputs": [],
   "source": [
    "foraging_model.Model() * foraging_model.Model.Param() & 'model_id=0'"
   ]
  },
  {
   "cell_type": "code",
   "execution_count": null,
   "id": "971de49f-c7d7-4335-9051-1b31ade8fcdc",
   "metadata": {},
   "outputs": [],
   "source": [
    "foraging_model.FittedSessionModel.key_source"
   ]
  },
  {
   "cell_type": "markdown",
   "id": "bea6cc78-7e27-409b-8b6e-b42d3862b90a",
   "metadata": {},
   "source": [
    "## Prepare data for each session"
   ]
  },
  {
   "cell_type": "code",
   "execution_count": null,
   "id": "c7829cdc-603e-44d8-bf88-78c0d1991c0b",
   "metadata": {},
   "outputs": [],
   "source": [
    "dj.ERD(experiment.BehaviorTrial) +2"
   ]
  },
  {
   "cell_type": "code",
   "execution_count": null,
   "id": "e8d4b0b9-198b-4bcd-bd00-475f48752182",
   "metadata": {},
   "outputs": [],
   "source": [
    "dj.ERD(experiment.WaterPort)+1 + dj.ERD(experiment.SessionBlock) "
   ]
  },
  {
   "cell_type": "code",
   "execution_count": null,
   "id": "c2c3d581-fd17-46f2-aa59-1994b9e3909e",
   "metadata": {},
   "outputs": [],
   "source": [
    "key = {'subject_id': 447921, 'session': 3, 'model_id': 5}\n",
    "experiment.WaterPortChoice.proj(choice='water_port') * experiment.BehaviorTrial.proj('outcome', 'early_lick') * \\\n",
    "experiment.SessionBlock.BlockTrial & key"
   ]
  },
  {
   "cell_type": "markdown",
   "id": "1a21f4f6-7bf0-413c-a58b-1f6fcfdc7f90",
   "metadata": {},
   "source": [
    "## Populate model fitting"
   ]
  },
  {
   "cell_type": "code",
   "execution_count": 11,
   "id": "ad85e367-4888-49cf-96c3-23dff17347df",
   "metadata": {},
   "outputs": [
    {
     "data": {
      "text/html": [
       "\n",
       "    \n",
       "    <style type=\"text/css\">\n",
       "        .Relation{\n",
       "            border-collapse:collapse;\n",
       "        }\n",
       "        .Relation th{\n",
       "            background: #A0A0A0; color: #ffffff; padding:4px; border:#f0e0e0 1px solid;\n",
       "            font-weight: normal; font-family: monospace; font-size: 100%;\n",
       "        }\n",
       "        .Relation td{\n",
       "            padding:4px; border:#f0e0e0 1px solid; font-size:100%;\n",
       "        }\n",
       "        .Relation tr:nth-child(odd){\n",
       "            background: #ffffff;\n",
       "        }\n",
       "        .Relation tr:nth-child(even){\n",
       "            background: #f3f1ff;\n",
       "        }\n",
       "        /* Tooltip container */\n",
       "        .djtooltip {\n",
       "        }\n",
       "        /* Tooltip text */\n",
       "        .djtooltip .djtooltiptext {\n",
       "            visibility: hidden;\n",
       "            width: 120px;\n",
       "            background-color: black;\n",
       "            color: #fff;\n",
       "            text-align: center;\n",
       "            padding: 5px 0;\n",
       "            border-radius: 6px;\n",
       "            /* Position the tooltip text - see examples below! */\n",
       "            position: absolute;\n",
       "            z-index: 1;\n",
       "        }\n",
       "        #primary {\n",
       "            font-weight: bold;\n",
       "            color: black;\n",
       "        }\n",
       "        #nonprimary {\n",
       "            font-weight: normal;\n",
       "            color: white;\n",
       "        }\n",
       "\n",
       "        /* Show the tooltip text when you mouse over the tooltip container */\n",
       "        .djtooltip:hover .djtooltiptext {\n",
       "            visibility: visible;\n",
       "        }\n",
       "    </style>\n",
       "    \n",
       "    <b>job reservation table for `hanhou_foraging_foraging_model`</b>\n",
       "        <div style=\"max-height:1000px;max-width:1500px;overflow:auto;\">\n",
       "        <table border=\"1\" class=\"Relation\">\n",
       "            <thead> <tr style=\"text-align: right;\"> <th> <div class=\"djtooltip\">\n",
       "                            <p id=\"primary\">table_name</p>\n",
       "                            <span class=\"djtooltiptext\">className of the table</span>\n",
       "                        </div></th><th><div class=\"djtooltip\">\n",
       "                            <p id=\"primary\">key_hash</p>\n",
       "                            <span class=\"djtooltiptext\">key hash</span>\n",
       "                        </div></th><th><div class=\"djtooltip\">\n",
       "                            <p id=\"nonprimary\">status</p>\n",
       "                            <span class=\"djtooltiptext\">if tuple is missing, the job is available</span>\n",
       "                        </div></th><th><div class=\"djtooltip\">\n",
       "                            <p id=\"nonprimary\">key</p>\n",
       "                            <span class=\"djtooltiptext\">structure containing the key</span>\n",
       "                        </div></th><th><div class=\"djtooltip\">\n",
       "                            <p id=\"nonprimary\">error_message</p>\n",
       "                            <span class=\"djtooltiptext\">error message returned if failed</span>\n",
       "                        </div></th><th><div class=\"djtooltip\">\n",
       "                            <p id=\"nonprimary\">error_stack</p>\n",
       "                            <span class=\"djtooltiptext\">error stack if failed</span>\n",
       "                        </div></th><th><div class=\"djtooltip\">\n",
       "                            <p id=\"nonprimary\">user</p>\n",
       "                            <span class=\"djtooltiptext\">database user</span>\n",
       "                        </div></th><th><div class=\"djtooltip\">\n",
       "                            <p id=\"nonprimary\">host</p>\n",
       "                            <span class=\"djtooltiptext\">system hostname</span>\n",
       "                        </div></th><th><div class=\"djtooltip\">\n",
       "                            <p id=\"nonprimary\">pid</p>\n",
       "                            <span class=\"djtooltiptext\">system process id</span>\n",
       "                        </div></th><th><div class=\"djtooltip\">\n",
       "                            <p id=\"nonprimary\">connection_id</p>\n",
       "                            <span class=\"djtooltiptext\">connection_id()</span>\n",
       "                        </div></th><th><div class=\"djtooltip\">\n",
       "                            <p id=\"nonprimary\">timestamp</p>\n",
       "                            <span class=\"djtooltiptext\">automatic timestamp</span>\n",
       "                        </div> </th> </tr> </thead>\n",
       "            <tbody> <tr> <td>__fitted_session_model</td>\n",
       "<td>bd62297b213a9f874e5768ee44c1996c</td>\n",
       "<td>reserved</td>\n",
       "<td>=BLOB=</td>\n",
       "<td></td>\n",
       "<td>=BLOB=</td>\n",
       "<td>hanhou@206.241.1.244</td>\n",
       "<td>Han-itx</td>\n",
       "<td>10180</td>\n",
       "<td>123163</td>\n",
       "<td>2021-08-15 10:14:13</td></tr><tr><td>__fitted_session_model</td>\n",
       "<td>becb647d2cbf6d2698e935d968768f92</td>\n",
       "<td>reserved</td>\n",
       "<td>=BLOB=</td>\n",
       "<td></td>\n",
       "<td>=BLOB=</td>\n",
       "<td>hanhou@206.241.1.244</td>\n",
       "<td>Han-itx</td>\n",
       "<td>2320</td>\n",
       "<td>123162</td>\n",
       "<td>2021-08-15 10:11:53</td></tr><tr><td>__fitted_session_model</td>\n",
       "<td>d647911f7271e52f91b2f4aa6fe47937</td>\n",
       "<td>reserved</td>\n",
       "<td>=BLOB=</td>\n",
       "<td></td>\n",
       "<td>=BLOB=</td>\n",
       "<td>hanhou@206.241.1.244</td>\n",
       "<td>Han-itx</td>\n",
       "<td>23892</td>\n",
       "<td>123167</td>\n",
       "<td>2021-08-15 10:14:17</td></tr><tr><td>__fitted_session_model</td>\n",
       "<td>e0299b386a1f499eefe1f3a78b9202db</td>\n",
       "<td>reserved</td>\n",
       "<td>=BLOB=</td>\n",
       "<td></td>\n",
       "<td>=BLOB=</td>\n",
       "<td>hanhou@206.241.1.244</td>\n",
       "<td>Han-itx</td>\n",
       "<td>17852</td>\n",
       "<td>123160</td>\n",
       "<td>2021-08-15 10:13:37</td> </tr> </tbody>\n",
       "        </table>\n",
       "        \n",
       "        <p>Total: 4</p></div>\n",
       "        "
      ],
      "text/plain": [
       "*table_name                *key_hash                            status       key        error_message     error_stac user                     host        pid       connection_id     timestamp              \n",
       "+------------------------+ +----------------------------------+ +----------+ +--------+ +---------------+ +--------+ +----------------------+ +---------+ +-------+ +---------------+ +---------------------+\n",
       "__fitted_session_model     921df28ae28a6777f65ddc9c889d2620     reserved     =BLOB=                       =BLOB=     hanhou@206.241.1.244     Han-itx     3516      123164            2021-08-15 10:15:33    \n",
       "__fitted_session_model     bd62297b213a9f874e5768ee44c1996c     reserved     =BLOB=                       =BLOB=     hanhou@206.241.1.244     Han-itx     10180     123163            2021-08-15 10:14:13    \n",
       "__fitted_session_model     becb647d2cbf6d2698e935d968768f92     reserved     =BLOB=                       =BLOB=     hanhou@206.241.1.244     Han-itx     2320      123162            2021-08-15 10:11:53    \n",
       "__fitted_session_model     d647911f7271e52f91b2f4aa6fe47937     reserved     =BLOB=                       =BLOB=     hanhou@206.241.1.244     Han-itx     23892     123167            2021-08-15 10:14:17    \n",
       "__fitted_session_model     e0299b386a1f499eefe1f3a78b9202db     reserved     =BLOB=                       =BLOB=     hanhou@206.241.1.244     Han-itx     17852     123160            2021-08-15 10:13:37    \n",
       " (Total: 4)"
      ]
     },
     "execution_count": 11,
     "metadata": {},
     "output_type": "execute_result"
    }
   ],
   "source": [
    "schema = dj.schema(get_schema_name('foraging_model'))\n",
    "schema.jobs"
   ]
  },
  {
   "cell_type": "code",
   "execution_count": 8,
   "id": "856aeeac-734c-4a2a-b2a7-ad62c7885e2d",
   "metadata": {},
   "outputs": [
    {
     "data": {
      "text/plain": [
       "[array([{'subject_id': 482350, 'session': 16, 'model_id': 22},\n",
       "        {'subject_id': 482350, 'session': 18, 'model_id': 22},\n",
       "        {'subject_id': 482350, 'session': 37, 'model_id': 22},\n",
       "        {'subject_id': 482350, 'session': 6, 'model_id': 22},\n",
       "        {'subject_id': 482350, 'session': 22, 'model_id': 22}],\n",
       "       dtype=object),\n",
       " array(['Han-itx', 'Han-itx', 'Han-itx', 'Han-itx', 'Han-itx'],\n",
       "       dtype=object)]"
      ]
     },
     "execution_count": 8,
     "metadata": {},
     "output_type": "execute_result"
    }
   ],
   "source": [
    "schema.jobs.fetch('key', 'host')"
   ]
  },
  {
   "cell_type": "code",
   "execution_count": 41,
   "id": "50afb929-86b2-40a8-8aec-6a7583e1f699",
   "metadata": {},
   "outputs": [],
   "source": [
    "schema.jobs.delete()"
   ]
  },
  {
   "cell_type": "code",
   "execution_count": 3,
   "id": "d2783090-80c7-49ae-ac6a-379b81c7372d",
   "metadata": {
    "tags": []
   },
   "outputs": [
    {
     "name": "stdout",
     "output_type": "stream",
     "text": [
      "Fitted session: 45/13840, 0.33%\n"
     ]
    }
   ],
   "source": [
    "finished = len(foraging_model.FittedSessionModel())\n",
    "total = len(foraging_model.FittedSessionModel.key_source)\n",
    "print(f'Fitted session: {finished}/{total}, {finished/total:.2%}')"
   ]
  },
  {
   "cell_type": "code",
   "execution_count": null,
   "id": "ffaf1fd3-92d8-476b-895b-cd3fe8afad03",
   "metadata": {},
   "outputs": [],
   "source": [
    "foraging_model.FittedSessionModel()"
   ]
  },
  {
   "cell_type": "markdown",
   "id": "57116b77-ce49-4804-8bdb-df996899f247",
   "metadata": {},
   "source": [
    "Overall statistics for all models"
   ]
  },
  {
   "cell_type": "code",
   "execution_count": null,
   "id": "abb1cedf-513e-49dc-a9fd-d6e628ea0682",
   "metadata": {},
   "outputs": [],
   "source": [
    "foraging_model.Model.proj('model_notation') * (foraging_model.Model.aggr(foraging_model.FittedSessionModel, aver_lpt_aic='avg(lpt_aic)', aver_lpt_bic='avg(lpt_bic)', n='count(*)'))"
   ]
  },
  {
   "cell_type": "code",
   "execution_count": null,
   "id": "b52f4125-9e2f-447f-b515-cc89d4638392",
   "metadata": {},
   "outputs": [],
   "source": [
    "dj.U('subject_id','session').aggr(foraging_model.FittedSessionModel, max_lpt_aic='max(lpt_aic)')"
   ]
  },
  {
   "cell_type": "markdown",
   "id": "9ea8c7f0-62b0-49e5-afba-a1443fa56cf5",
   "metadata": {},
   "source": [
    "# Model comparison"
   ]
  },
  {
   "cell_type": "markdown",
   "id": "44234d6c-5a4b-47ae-adff-7c1314e8fd6d",
   "metadata": {},
   "source": [
    "## Populate"
   ]
  },
  {
   "cell_type": "code",
   "execution_count": 3,
   "id": "0c765849-170e-4735-8c03-2475f5975e13",
   "metadata": {},
   "outputs": [
    {
     "name": "stderr",
     "output_type": "stream",
     "text": [
      "FittedSessionModelComparison: 100%|████████████████████████████████████████████████| 2450/2450 [03:07<00:00, 13.10it/s]\n"
     ]
    }
   ],
   "source": [
    "foraging_model.FittedSessionModelComparison.populate(display_progress=True)"
   ]
  },
  {
   "cell_type": "markdown",
   "id": "d8c60287-80e0-44fa-8fa2-b53ee22a719d",
   "metadata": {},
   "source": [
    "## Plotting"
   ]
  },
  {
   "cell_type": "code",
   "execution_count": 22,
   "id": "10688449-c103-4c2b-a0d0-8087223526f1",
   "metadata": {},
   "outputs": [],
   "source": [
    "from pipeline.plot.foraging_model_plot import plot_session_model_comparison, plot_session_fitted_choice, _get_model_comparison_results"
   ]
  },
  {
   "cell_type": "code",
   "execution_count": null,
   "id": "68363afe-5e65-4a69-afdf-6378620b3b51",
   "metadata": {},
   "outputs": [],
   "source": [
    "date, imec, unit = '2021-04-18', 0, 541\n",
    "unit_key = (ephys.Unit() * experiment.Session & {'session_date': date, 'subject_id': 473361, 'insertion_number':imec + 1, 'unit_uid': unit}).fetch1(\"KEY\")\n",
    "plot_session_model_comparison(unit_key, model_comparison_idx=0, sort='aic')"
   ]
  },
  {
   "cell_type": "code",
   "execution_count": null,
   "id": "2eb54928-d24a-4e53-bca3-bb680ba4c723",
   "metadata": {},
   "outputs": [],
   "source": [
    "a,_ = _get_model_comparison_results({'subject_id': 473361, 'session': 47}, sort='aic')\n",
    "a"
   ]
  },
  {
   "cell_type": "code",
   "execution_count": null,
   "id": "d3a92977-52ac-4d3d-8900-89c9b2a5dcc1",
   "metadata": {},
   "outputs": [],
   "source": [
    "plot_session_fitted_choice(unit_key, first_n=2, last_n=1, smooth_factor=7)"
   ]
  }
 ],
 "metadata": {
  "kernelspec": {
   "display_name": "pipeline",
   "language": "python",
   "name": "pipeline"
  },
  "language_info": {
   "codemirror_mode": {
    "name": "ipython",
    "version": 3
   },
   "file_extension": ".py",
   "mimetype": "text/x-python",
   "name": "python",
   "nbconvert_exporter": "python",
   "pygments_lexer": "ipython3",
   "version": "3.9.5"
  },
  "toc-autonumbering": true,
  "toc-showtags": false
 },
 "nbformat": 4,
 "nbformat_minor": 5
}
