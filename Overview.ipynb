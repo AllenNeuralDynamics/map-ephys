{
 "cells": [
  {
   "cell_type": "code",
   "execution_count": null,
   "metadata": {},
   "outputs": [],
   "source": [
    "import datajoint as dj"
   ]
  },
  {
   "cell_type": "code",
   "execution_count": null,
   "metadata": {},
   "outputs": [],
   "source": [
    "import mock"
   ]
  },
  {
   "cell_type": "code",
   "execution_count": null,
   "metadata": {},
   "outputs": [],
   "source": []
  },
  {
   "cell_type": "code",
   "execution_count": null,
   "metadata": {},
   "outputs": [],
   "source": []
  },
  {
   "cell_type": "code",
   "execution_count": null,
   "metadata": {},
   "outputs": [],
   "source": []
  },
  {
   "cell_type": "code",
   "execution_count": null,
   "metadata": {},
   "outputs": [],
   "source": []
  },
  {
   "cell_type": "code",
   "execution_count": null,
   "metadata": {},
   "outputs": [],
   "source": []
  },
  {
   "cell_type": "code",
   "execution_count": null,
   "metadata": {},
   "outputs": [],
   "source": [
    "import ephys"
   ]
  },
  {
   "cell_type": "code",
   "execution_count": null,
   "metadata": {},
   "outputs": [],
   "source": [
    "dj.ERD(ephys)"
   ]
  },
  {
   "cell_type": "code",
   "execution_count": null,
   "metadata": {},
   "outputs": [],
   "source": [
    "mouse=ephys.experiment.lab.Subject()\n",
    "mouse"
   ]
  },
  {
   "cell_type": "code",
   "execution_count": null,
   "metadata": {},
   "outputs": [],
   "source": [
    "h2o=ephys.experiment.lab.WaterRestriction()\n",
    "h2o"
   ]
  },
  {
   "cell_type": "code",
   "execution_count": null,
   "metadata": {},
   "outputs": [],
   "source": [
    "person=ephys.experiment.lab.Person()\n",
    "person"
   ]
  },
  {
   "cell_type": "code",
   "execution_count": null,
   "metadata": {},
   "outputs": [],
   "source": [
    "rig=ephys.experiment.lab.Rig()\n",
    "rig"
   ]
  },
  {
   "cell_type": "code",
   "execution_count": null,
   "metadata": {},
   "outputs": [],
   "source": [
    "import ingest\n",
    "dj.ERD(ingest)"
   ]
  },
  {
   "cell_type": "code",
   "execution_count": null,
   "metadata": {},
   "outputs": [],
   "source": [
    "ingest.RigDataPath()"
   ]
  },
  {
   "cell_type": "code",
   "execution_count": 1,
   "metadata": {},
   "outputs": [
    {
     "name": "stdout",
     "output_type": "stream",
     "text": [
      "Connecting daveliu@mesoscale-activity.datajoint.io:3306\n"
     ]
    },
    {
     "name": "stderr",
     "output_type": "stream",
     "text": [
      "c:\\users\\liul.hhmi\\appdata\\local\\programs\\python\\python36\\lib\\site-packages\\h5py\\__init__.py:36: FutureWarning: Conversion of the second argument of issubdtype from `float` to `np.floating` is deprecated. In future, it will be treated as `np.float64 == np.dtype(float).type`.\n",
      "  from ._conv import register_converters as _register_converters\n"
     ]
    }
   ],
   "source": [
    "import mapshell"
   ]
  },
  {
   "cell_type": "code",
   "execution_count": 2,
   "metadata": {},
   "outputs": [],
   "source": [
    "mapshell.logsetup()"
   ]
  },
  {
   "cell_type": "code",
   "execution_count": 3,
   "metadata": {},
   "outputs": [
    {
     "name": "stderr",
     "output_type": "stream",
     "text": [
      "DEBUG:ingest:initial: [OrderedDict([('rig', 'TRig1'), ('rig_data_path', '\\\\MOHARB-NUC1\\\\Document\\\\Arduino\\\\Bpod_Train1\\\\Bpod Local\\\\Data'), ('rig_search_order', 0)]), OrderedDict([('rig', 'TRig2'), ('rig_data_path', '\\\\MOHARB-WW2\\\\C:\\\\labadmin\\\\Documents\\\\MATLAB\\\\Bpod Local\\\\Data'), ('rig_search_order', 1)]), OrderedDict([('rig', 'TRig3'), ('rig_data_path', '\\\\WANGT-NUC\\\\documents\\\\MATLAB\\\\Bpod Local\\\\Data'), ('rig_search_order', 2)])]\n"
     ]
    }
   ],
   "source": [
    "mapshell.discover()"
   ]
  },
  {
   "cell_type": "code",
   "execution_count": 22,
   "metadata": {},
   "outputs": [
    {
     "name": "stdout",
     "output_type": "stream",
     "text": [
      "Found directory: \\\\MOHARB-WW2\\C\\Users\\labadmin\\Documents\\MATLAB\\Bpod Local\\Data\n",
      "Found directory: \\\\MOHARB-WW2\\C\\Users\\labadmin\\Documents\\MATLAB\\Bpod Local\\Data\\67\n",
      "Found directory: \\\\MOHARB-WW2\\C\\Users\\labadmin\\Documents\\MATLAB\\Bpod Local\\Data\\67\\yes_no_ADS_autoTrain\n",
      "Found directory: \\\\MOHARB-WW2\\C\\Users\\labadmin\\Documents\\MATLAB\\Bpod Local\\Data\\67\\yes_no_ADS_autoTrain\\Session Data\n",
      "Found directory: \\\\MOHARB-WW2\\C\\Users\\labadmin\\Documents\\MATLAB\\Bpod Local\\Data\\67\\yes_no_ADS_autoTrain\\Session Settings\n",
      "Found directory: \\\\MOHARB-WW2\\C\\Users\\labadmin\\Documents\\MATLAB\\Bpod Local\\Data\\67\\yes_no_test_pre_fixed_delay\n",
      "Found directory: \\\\MOHARB-WW2\\C\\Users\\labadmin\\Documents\\MATLAB\\Bpod Local\\Data\\6new\n",
      "Found directory: \\\\MOHARB-WW2\\C\\Users\\labadmin\\Documents\\MATLAB\\Bpod Local\\Data\\6new\\yes_no_ADS_autoTrain\n",
      "Found directory: \\\\MOHARB-WW2\\C\\Users\\labadmin\\Documents\\MATLAB\\Bpod Local\\Data\\6new\\yes_no_ADS_autoTrain\\Session Data\n",
      "Found directory: \\\\MOHARB-WW2\\C\\Users\\labadmin\\Documents\\MATLAB\\Bpod Local\\Data\\6new\\yes_no_ADS_autoTrain\\Session Settings\n",
      "Found directory: \\\\MOHARB-WW2\\C\\Users\\labadmin\\Documents\\MATLAB\\Bpod Local\\Data\\dl11\n",
      "Found directory: \\\\MOHARB-WW2\\C\\Users\\labadmin\\Documents\\MATLAB\\Bpod Local\\Data\\dl11\\Manual\n",
      "Found directory: \\\\MOHARB-WW2\\C\\Users\\labadmin\\Documents\\MATLAB\\Bpod Local\\Data\\dl11\\Manual\\Session Data\n",
      "Found directory: \\\\MOHARB-WW2\\C\\Users\\labadmin\\Documents\\MATLAB\\Bpod Local\\Data\\dl11\\Manual\\Session Settings\n",
      "Found directory: \\\\MOHARB-WW2\\C\\Users\\labadmin\\Documents\\MATLAB\\Bpod Local\\Data\\dl11\\TW_autoTrain\n",
      "Found directory: \\\\MOHARB-WW2\\C\\Users\\labadmin\\Documents\\MATLAB\\Bpod Local\\Data\\dl11\\TW_autoTrain\\Session Data\n",
      "Found directory: \\\\MOHARB-WW2\\C\\Users\\labadmin\\Documents\\MATLAB\\Bpod Local\\Data\\dl11\\TW_autoTrain\\Session Settings\n",
      "Found directory: \\\\MOHARB-WW2\\C\\Users\\labadmin\\Documents\\MATLAB\\Bpod Local\\Data\\dl11\\yes_no_ADS_autoTrainNew\n",
      "Found directory: \\\\MOHARB-WW2\\C\\Users\\labadmin\\Documents\\MATLAB\\Bpod Local\\Data\\dl11\\yes_no_ADS_autoTrainNew\\Session Data\n",
      "Found directory: \\\\MOHARB-WW2\\C\\Users\\labadmin\\Documents\\MATLAB\\Bpod Local\\Data\\dl11\\yes_no_ADS_autoTrainNew\\Session Settings\n",
      "Found directory: \\\\MOHARB-WW2\\C\\Users\\labadmin\\Documents\\MATLAB\\Bpod Local\\Data\\dl14\n",
      "Found directory: \\\\MOHARB-WW2\\C\\Users\\labadmin\\Documents\\MATLAB\\Bpod Local\\Data\\dl14\\TW_autoTrain\n",
      "Found directory: \\\\MOHARB-WW2\\C\\Users\\labadmin\\Documents\\MATLAB\\Bpod Local\\Data\\dl14\\TW_autoTrain\\Session Data\n",
      "Found directory: \\\\MOHARB-WW2\\C\\Users\\labadmin\\Documents\\MATLAB\\Bpod Local\\Data\\dl14\\TW_autoTrain\\Session Settings\n",
      "Found directory: \\\\MOHARB-WW2\\C\\Users\\labadmin\\Documents\\MATLAB\\Bpod Local\\Data\\dl14\\yes_no_ADS_autoTrain\n",
      "Found directory: \\\\MOHARB-WW2\\C\\Users\\labadmin\\Documents\\MATLAB\\Bpod Local\\Data\\dl14\\yes_no_ADS_autoTrain\\Session Data\n",
      "Found directory: \\\\MOHARB-WW2\\C\\Users\\labadmin\\Documents\\MATLAB\\Bpod Local\\Data\\dl14\\yes_no_ADS_autoTrain\\Session Settings\n",
      "Found directory: \\\\MOHARB-WW2\\C\\Users\\labadmin\\Documents\\MATLAB\\Bpod Local\\Data\\dl24\n",
      "Found directory: \\\\MOHARB-WW2\\C\\Users\\labadmin\\Documents\\MATLAB\\Bpod Local\\Data\\dl24\\Manual\n",
      "Found directory: \\\\MOHARB-WW2\\C\\Users\\labadmin\\Documents\\MATLAB\\Bpod Local\\Data\\dl24\\Manual\\Session Data\n",
      "Found directory: \\\\MOHARB-WW2\\C\\Users\\labadmin\\Documents\\MATLAB\\Bpod Local\\Data\\dl24\\Manual\\Session Settings\n",
      "Found directory: \\\\MOHARB-WW2\\C\\Users\\labadmin\\Documents\\MATLAB\\Bpod Local\\Data\\dl25\n",
      "Found directory: \\\\MOHARB-WW2\\C\\Users\\labadmin\\Documents\\MATLAB\\Bpod Local\\Data\\dl25\\Manual\n",
      "Found directory: \\\\MOHARB-WW2\\C\\Users\\labadmin\\Documents\\MATLAB\\Bpod Local\\Data\\dl25\\Manual\\Session Data\n",
      "Found directory: \\\\MOHARB-WW2\\C\\Users\\labadmin\\Documents\\MATLAB\\Bpod Local\\Data\\dl25\\Manual\\Session Settings\n",
      "Found directory: \\\\MOHARB-WW2\\C\\Users\\labadmin\\Documents\\MATLAB\\Bpod Local\\Data\\dl5\n",
      "Found directory: \\\\MOHARB-WW2\\C\\Users\\labadmin\\Documents\\MATLAB\\Bpod Local\\Data\\dl5\\TW_autoTrain\n",
      "Found directory: \\\\MOHARB-WW2\\C\\Users\\labadmin\\Documents\\MATLAB\\Bpod Local\\Data\\dl5\\TW_autoTrain\\Session Data\n",
      "Found directory: \\\\MOHARB-WW2\\C\\Users\\labadmin\\Documents\\MATLAB\\Bpod Local\\Data\\dl5\\TW_autoTrain\\Session Settings\n",
      "Found directory: \\\\MOHARB-WW2\\C\\Users\\labadmin\\Documents\\MATLAB\\Bpod Local\\Data\\dl9\n",
      "Found directory: \\\\MOHARB-WW2\\C\\Users\\labadmin\\Documents\\MATLAB\\Bpod Local\\Data\\dl9\\TW_autoTrain\n",
      "Found directory: \\\\MOHARB-WW2\\C\\Users\\labadmin\\Documents\\MATLAB\\Bpod Local\\Data\\dl9\\TW_autoTrain\\Session Data\n",
      "Found directory: \\\\MOHARB-WW2\\C\\Users\\labadmin\\Documents\\MATLAB\\Bpod Local\\Data\\dl9\\TW_autoTrain\\Session Settings\n",
      "Found directory: \\\\MOHARB-WW2\\C\\Users\\labadmin\\Documents\\MATLAB\\Bpod Local\\Data\\FakeSubject\n",
      "Found directory: \\\\MOHARB-WW2\\C\\Users\\labadmin\\Documents\\MATLAB\\Bpod Local\\Data\\FakeSubject\\Manual\n",
      "Found directory: \\\\MOHARB-WW2\\C\\Users\\labadmin\\Documents\\MATLAB\\Bpod Local\\Data\\FakeSubject\\Manual\\Session Data\n",
      "Found directory: \\\\MOHARB-WW2\\C\\Users\\labadmin\\Documents\\MATLAB\\Bpod Local\\Data\\FakeSubject\\Manual\\Session Settings\n",
      "Found directory: \\\\MOHARB-WW2\\C\\Users\\labadmin\\Documents\\MATLAB\\Bpod Local\\Data\\FakeSubject\\TwoAFC_Servo\n",
      "Found directory: \\\\MOHARB-WW2\\C\\Users\\labadmin\\Documents\\MATLAB\\Bpod Local\\Data\\FakeSubject\\TwoAFC_Servo\\Session Data\n",
      "Found directory: \\\\MOHARB-WW2\\C\\Users\\labadmin\\Documents\\MATLAB\\Bpod Local\\Data\\FakeSubject\\TwoAFC_Servo\\Session Settings\n",
      "Found directory: \\\\MOHARB-WW2\\C\\Users\\labadmin\\Documents\\MATLAB\\Bpod Local\\Data\\FakeSubject\\twParam\n",
      "Found directory: \\\\MOHARB-WW2\\C\\Users\\labadmin\\Documents\\MATLAB\\Bpod Local\\Data\\FakeSubject\\twParam\\Session Settings\n",
      "Found directory: \\\\MOHARB-WW2\\C\\Users\\labadmin\\Documents\\MATLAB\\Bpod Local\\Data\\FakeSubject\\TW_autoTrain\n",
      "Found directory: \\\\MOHARB-WW2\\C\\Users\\labadmin\\Documents\\MATLAB\\Bpod Local\\Data\\FakeSubject\\TW_autoTrain\\Session Data\n",
      "Found directory: \\\\MOHARB-WW2\\C\\Users\\labadmin\\Documents\\MATLAB\\Bpod Local\\Data\\FakeSubject\\TW_autoTrain\\Session Settings\n",
      "Found directory: \\\\MOHARB-WW2\\C\\Users\\labadmin\\Documents\\MATLAB\\Bpod Local\\Data\\FakeSubject\\yes_no_ADS_autoTrain\n",
      "Found directory: \\\\MOHARB-WW2\\C\\Users\\labadmin\\Documents\\MATLAB\\Bpod Local\\Data\\FakeSubject\\yes_no_ADS_autoTrain\\Session Data\n",
      "Found directory: \\\\MOHARB-WW2\\C\\Users\\labadmin\\Documents\\MATLAB\\Bpod Local\\Data\\FakeSubject\\yes_no_ADS_autoTrain\\Session Settings\n",
      "Found directory: \\\\MOHARB-WW2\\C\\Users\\labadmin\\Documents\\MATLAB\\Bpod Local\\Data\\FakeSubject\\yes_no_ADS_autoTrainNew\n",
      "Found directory: \\\\MOHARB-WW2\\C\\Users\\labadmin\\Documents\\MATLAB\\Bpod Local\\Data\\FakeSubject\\yes_no_ADS_autoTrainNew\\Session Settings\n",
      "Found directory: \\\\MOHARB-WW2\\C\\Users\\labadmin\\Documents\\MATLAB\\Bpod Local\\Data\\FakeSubject\\yes_no_ADS_test_prep_fixed_delay\n",
      "Found directory: \\\\MOHARB-WW2\\C\\Users\\labadmin\\Documents\\MATLAB\\Bpod Local\\Data\\FakeSubject\\yes_no_ADS_test_prep_fixed_delay\\Session Data\n",
      "Found directory: \\\\MOHARB-WW2\\C\\Users\\labadmin\\Documents\\MATLAB\\Bpod Local\\Data\\FakeSubject\\yes_no_ADS_test_prep_fixed_delay\\Session Settings\n",
      "Found directory: \\\\MOHARB-WW2\\C\\Users\\labadmin\\Documents\\MATLAB\\Bpod Local\\Data\\n6\n",
      "Found directory: \\\\MOHARB-WW2\\C\\Users\\labadmin\\Documents\\MATLAB\\Bpod Local\\Data\\n6\\yes_no_ADS_autoTrain\n",
      "Found directory: \\\\MOHARB-WW2\\C\\Users\\labadmin\\Documents\\MATLAB\\Bpod Local\\Data\\n6\\yes_no_ADS_autoTrain\\Session Data\n",
      "Found directory: \\\\MOHARB-WW2\\C\\Users\\labadmin\\Documents\\MATLAB\\Bpod Local\\Data\\n6\\yes_no_ADS_autoTrain\\Session Settings\n",
      "Found directory: \\\\MOHARB-WW2\\C\\Users\\labadmin\\Documents\\MATLAB\\Bpod Local\\Data\\pt201\n",
      "Found directory: \\\\MOHARB-WW2\\C\\Users\\labadmin\\Documents\\MATLAB\\Bpod Local\\Data\\pt201\\yes_no_ADS_autoTrain\n",
      "Found directory: \\\\MOHARB-WW2\\C\\Users\\labadmin\\Documents\\MATLAB\\Bpod Local\\Data\\pt201\\yes_no_ADS_autoTrain\\Session Data\n",
      "Found directory: \\\\MOHARB-WW2\\C\\Users\\labadmin\\Documents\\MATLAB\\Bpod Local\\Data\\pt201\\yes_no_ADS_autoTrain\\Session Settings\n",
      "Found directory: \\\\MOHARB-WW2\\C\\Users\\labadmin\\Documents\\MATLAB\\Bpod Local\\Data\\T49\n",
      "Found directory: \\\\MOHARB-WW2\\C\\Users\\labadmin\\Documents\\MATLAB\\Bpod Local\\Data\\T49\\TW_autoTrain\n",
      "Found directory: \\\\MOHARB-WW2\\C\\Users\\labadmin\\Documents\\MATLAB\\Bpod Local\\Data\\T49\\TW_autoTrain\\Session Data\n",
      "Found directory: \\\\MOHARB-WW2\\C\\Users\\labadmin\\Documents\\MATLAB\\Bpod Local\\Data\\T49\\TW_autoTrain\\Session Settings\n",
      "Found directory: \\\\MOHARB-WW2\\C\\Users\\labadmin\\Documents\\MATLAB\\Bpod Local\\Data\\test\n"
     ]
    },
    {
     "name": "stdout",
     "output_type": "stream",
     "text": [
      "Found directory: \\\\MOHARB-WW2\\C\\Users\\labadmin\\Documents\\MATLAB\\Bpod Local\\Data\\test\\yes_no_ADS_autoTrain\n",
      "Found directory: \\\\MOHARB-WW2\\C\\Users\\labadmin\\Documents\\MATLAB\\Bpod Local\\Data\\test\\yes_no_ADS_autoTrain\\Session Data\n",
      "Found directory: \\\\MOHARB-WW2\\C\\Users\\labadmin\\Documents\\MATLAB\\Bpod Local\\Data\\test\\yes_no_ADS_autoTrain\\Session Settings\n",
      "Found directory: \\\\MOHARB-WW2\\C\\Users\\labadmin\\Documents\\MATLAB\\Bpod Local\\Data\\test\\yes_no_ADS_autoTrainNew\n",
      "Found directory: \\\\MOHARB-WW2\\C\\Users\\labadmin\\Documents\\MATLAB\\Bpod Local\\Data\\test\\yes_no_ADS_autoTrainNew\\Session Data\n",
      "Found directory: \\\\MOHARB-WW2\\C\\Users\\labadmin\\Documents\\MATLAB\\Bpod Local\\Data\\test\\yes_no_ADS_autoTrainNew\\Session Settings\n",
      "Found directory: \\\\MOHARB-WW2\\C\\Users\\labadmin\\Documents\\MATLAB\\Bpod Local\\Data\\tw11\n",
      "Found directory: \\\\MOHARB-WW2\\C\\Users\\labadmin\\Documents\\MATLAB\\Bpod Local\\Data\\tw11\\Manual\n",
      "Found directory: \\\\MOHARB-WW2\\C\\Users\\labadmin\\Documents\\MATLAB\\Bpod Local\\Data\\tw11\\Manual\\Session Data\n",
      "Found directory: \\\\MOHARB-WW2\\C\\Users\\labadmin\\Documents\\MATLAB\\Bpod Local\\Data\\tw11\\Manual\\Session Settings\n",
      "Found directory: \\\\MOHARB-WW2\\C\\Users\\labadmin\\Documents\\MATLAB\\Bpod Local\\Data\\tw11\\twParam\n",
      "Found directory: \\\\MOHARB-WW2\\C\\Users\\labadmin\\Documents\\MATLAB\\Bpod Local\\Data\\tw11\\twParam\\Session Data\n",
      "Found directory: \\\\MOHARB-WW2\\C\\Users\\labadmin\\Documents\\MATLAB\\Bpod Local\\Data\\tw11\\twParam\\Session Settings\n",
      "Found directory: \\\\MOHARB-WW2\\C\\Users\\labadmin\\Documents\\MATLAB\\Bpod Local\\Data\\tw11\\TW_autoTrain\n",
      "Found directory: \\\\MOHARB-WW2\\C\\Users\\labadmin\\Documents\\MATLAB\\Bpod Local\\Data\\tw11\\TW_autoTrain\\Session Data\n",
      "Found directory: \\\\MOHARB-WW2\\C\\Users\\labadmin\\Documents\\MATLAB\\Bpod Local\\Data\\tw11\\TW_autoTrain\\Session Settings\n",
      "Found directory: \\\\MOHARB-WW2\\C\\Users\\labadmin\\Documents\\MATLAB\\Bpod Local\\Data\\tw13\n",
      "Found directory: \\\\MOHARB-WW2\\C\\Users\\labadmin\\Documents\\MATLAB\\Bpod Local\\Data\\tw13\\Manual\n",
      "Found directory: \\\\MOHARB-WW2\\C\\Users\\labadmin\\Documents\\MATLAB\\Bpod Local\\Data\\tw13\\Manual\\Session Data\n",
      "Found directory: \\\\MOHARB-WW2\\C\\Users\\labadmin\\Documents\\MATLAB\\Bpod Local\\Data\\tw13\\Manual\\Session Settings\n",
      "Found directory: \\\\MOHARB-WW2\\C\\Users\\labadmin\\Documents\\MATLAB\\Bpod Local\\Data\\tw13\\yes_no_ADS_autoTrainNew\n",
      "Found directory: \\\\MOHARB-WW2\\C\\Users\\labadmin\\Documents\\MATLAB\\Bpod Local\\Data\\tw13\\yes_no_ADS_autoTrainNew\\Session Data\n",
      "Found directory: \\\\MOHARB-WW2\\C\\Users\\labadmin\\Documents\\MATLAB\\Bpod Local\\Data\\tw13\\yes_no_ADS_autoTrainNew\\Session Settings\n",
      "Found directory: \\\\MOHARB-WW2\\C\\Users\\labadmin\\Documents\\MATLAB\\Bpod Local\\Data\\tw15\n",
      "Found directory: \\\\MOHARB-WW2\\C\\Users\\labadmin\\Documents\\MATLAB\\Bpod Local\\Data\\tw15\\twParam\n",
      "Found directory: \\\\MOHARB-WW2\\C\\Users\\labadmin\\Documents\\MATLAB\\Bpod Local\\Data\\tw15\\twParam\\Session Data\n",
      "Found directory: \\\\MOHARB-WW2\\C\\Users\\labadmin\\Documents\\MATLAB\\Bpod Local\\Data\\tw15\\twParam\\Session Settings\n",
      "Found directory: \\\\MOHARB-WW2\\C\\Users\\labadmin\\Documents\\MATLAB\\Bpod Local\\Data\\tw15\\TW_autoTrain\n",
      "Found directory: \\\\MOHARB-WW2\\C\\Users\\labadmin\\Documents\\MATLAB\\Bpod Local\\Data\\tw15\\TW_autoTrain\\Session Data\n",
      "Found directory: \\\\MOHARB-WW2\\C\\Users\\labadmin\\Documents\\MATLAB\\Bpod Local\\Data\\tw15\\TW_autoTrain\\Session Settings\n",
      "Found directory: \\\\MOHARB-WW2\\C\\Users\\labadmin\\Documents\\MATLAB\\Bpod Local\\Data\\TW17\n",
      "Found directory: \\\\MOHARB-WW2\\C\\Users\\labadmin\\Documents\\MATLAB\\Bpod Local\\Data\\TW17\\Manual\n",
      "Found directory: \\\\MOHARB-WW2\\C\\Users\\labadmin\\Documents\\MATLAB\\Bpod Local\\Data\\TW17\\Manual\\Session Data\n",
      "Found directory: \\\\MOHARB-WW2\\C\\Users\\labadmin\\Documents\\MATLAB\\Bpod Local\\Data\\TW17\\Manual\\Session Settings\n",
      "Found directory: \\\\MOHARB-WW2\\C\\Users\\labadmin\\Documents\\MATLAB\\Bpod Local\\Data\\TW18\n",
      "Found directory: \\\\MOHARB-WW2\\C\\Users\\labadmin\\Documents\\MATLAB\\Bpod Local\\Data\\TW18\\twParam\n",
      "Found directory: \\\\MOHARB-WW2\\C\\Users\\labadmin\\Documents\\MATLAB\\Bpod Local\\Data\\TW18\\twParam\\Session Data\n",
      "Found directory: \\\\MOHARB-WW2\\C\\Users\\labadmin\\Documents\\MATLAB\\Bpod Local\\Data\\TW18\\twParam\\Session Settings\n",
      "Found directory: \\\\MOHARB-WW2\\C\\Users\\labadmin\\Documents\\MATLAB\\Bpod Local\\Data\\tw2\n",
      "Found directory: \\\\MOHARB-WW2\\C\\Users\\labadmin\\Documents\\MATLAB\\Bpod Local\\Data\\tw2\\TW_autoTrain\n",
      "Found directory: \\\\MOHARB-WW2\\C\\Users\\labadmin\\Documents\\MATLAB\\Bpod Local\\Data\\tw2\\TW_autoTrain\\Session Data\n",
      "Found directory: \\\\MOHARB-WW2\\C\\Users\\labadmin\\Documents\\MATLAB\\Bpod Local\\Data\\tw2\\TW_autoTrain\\Session Settings\n",
      "Found directory: \\\\MOHARB-WW2\\C\\Users\\labadmin\\Documents\\MATLAB\\Bpod Local\\Data\\tw4\n",
      "Found directory: \\\\MOHARB-WW2\\C\\Users\\labadmin\\Documents\\MATLAB\\Bpod Local\\Data\\tw4\\yes_no_ADS_autoTrain\n",
      "Found directory: \\\\MOHARB-WW2\\C\\Users\\labadmin\\Documents\\MATLAB\\Bpod Local\\Data\\tw4\\yes_no_ADS_autoTrain\\Session Data\n",
      "Found directory: \\\\MOHARB-WW2\\C\\Users\\labadmin\\Documents\\MATLAB\\Bpod Local\\Data\\tw4\\yes_no_ADS_autoTrain\\Session Settings\n",
      "Found directory: \\\\MOHARB-WW2\\C\\Users\\labadmin\\Documents\\MATLAB\\Bpod Local\\Data\\wr1\n",
      "Found directory: \\\\MOHARB-WW2\\C\\Users\\labadmin\\Documents\\MATLAB\\Bpod Local\\Data\\wr1\\TW_autoTrain\n",
      "Found directory: \\\\MOHARB-WW2\\C\\Users\\labadmin\\Documents\\MATLAB\\Bpod Local\\Data\\wr1\\TW_autoTrain\\Session Data\n",
      "Found directory: \\\\MOHARB-WW2\\C\\Users\\labadmin\\Documents\\MATLAB\\Bpod Local\\Data\\wr1\\TW_autoTrain\\Session Settings\n",
      "Found directory: \\\\MOHARB-WW2\\C\\Users\\labadmin\\Documents\\MATLAB\\Bpod Local\\Data\\WR2\n",
      "Found directory: \\\\MOHARB-WW2\\C\\Users\\labadmin\\Documents\\MATLAB\\Bpod Local\\Data\\WR2\\TW_autoTrain\n",
      "Found directory: \\\\MOHARB-WW2\\C\\Users\\labadmin\\Documents\\MATLAB\\Bpod Local\\Data\\WR2\\TW_autoTrain\\Session Data\n",
      "Found directory: \\\\MOHARB-WW2\\C\\Users\\labadmin\\Documents\\MATLAB\\Bpod Local\\Data\\WR2\\TW_autoTrain\\Session Settings\n",
      "Found directory: \\\\MOHARB-WW2\\C\\Users\\labadmin\\Documents\\MATLAB\\Bpod Local\\Data\\wr6\n",
      "Found directory: \\\\MOHARB-WW2\\C\\Users\\labadmin\\Documents\\MATLAB\\Bpod Local\\Data\\wr6\\TW_autoTrain\n",
      "Found directory: \\\\MOHARB-WW2\\C\\Users\\labadmin\\Documents\\MATLAB\\Bpod Local\\Data\\wr6\\TW_autoTrain\\Session Data\n",
      "Found directory: \\\\MOHARB-WW2\\C\\Users\\labadmin\\Documents\\MATLAB\\Bpod Local\\Data\\wr6\\TW_autoTrain\\Session Settings\n"
     ]
    }
   ],
   "source": [
    "import os\n",
    "for root, dirs, files in os.walk(r'\\\\MOHARB-WW2\\C\\Users\\labadmin\\Documents\\MATLAB\\Bpod Local\\Data'):\n",
    "    print('Found directory: %s' % root)\n"
   ]
  },
  {
   "cell_type": "code",
   "execution_count": 14,
   "metadata": {},
   "outputs": [
    {
     "ename": "NameError",
     "evalue": "name 'root' is not defined",
     "output_type": "error",
     "traceback": [
      "\u001b[1;31m---------------------------------------------------------------------------\u001b[0m",
      "\u001b[1;31mNameError\u001b[0m                                 Traceback (most recent call last)",
      "\u001b[1;32m<ipython-input-14-552c0ba71b10>\u001b[0m in \u001b[0;36m<module>\u001b[1;34m()\u001b[0m\n\u001b[1;32m----> 1\u001b[1;33m \u001b[0mroot\u001b[0m\u001b[1;33m\u001b[0m\u001b[0m\n\u001b[0m",
      "\u001b[1;31mNameError\u001b[0m: name 'root' is not defined"
     ]
    }
   ],
   "source": [
    "root"
   ]
  },
  {
   "cell_type": "code",
   "execution_count": null,
   "metadata": {},
   "outputs": [],
   "source": [
    "sessDis=ingest.SessionDiscovery()\n",
    "sessDis"
   ]
  },
  {
   "cell_type": "code",
   "execution_count": null,
   "metadata": {},
   "outputs": [],
   "source": [
    "mapshell.populate()"
   ]
  },
  {
   "cell_type": "code",
   "execution_count": null,
   "metadata": {},
   "outputs": [],
   "source": [
    "import matplotlib.pyplot as plt\n",
    "%matplotlib inline\n",
    "import scipy.io as spio\n",
    "import numpy as np"
   ]
  },
  {
   "cell_type": "code",
   "execution_count": null,
   "metadata": {},
   "outputs": [],
   "source": [
    "trialNote = ephys.experiment.TrialNote()"
   ]
  },
  {
   "cell_type": "code",
   "execution_count": null,
   "metadata": {},
   "outputs": [],
   "source": [
    "ephys.experiment.Session() & 'animal = 123456' & 'session = 1'"
   ]
  },
  {
   "cell_type": "code",
   "execution_count": null,
   "metadata": {},
   "outputs": [],
   "source": [
    "behaviorTrial = ephys.experiment.BehaviorTrial()"
   ]
  },
  {
   "cell_type": "code",
   "execution_count": null,
   "metadata": {},
   "outputs": [],
   "source": [
    "outcome = (behaviorTrial & 'animal = 123456').fetch('outcome', order_by='session')\n",
    "early_lick = (behaviorTrial  & 'animal = 123456').fetch('early_lick', order_by='session')"
   ]
  },
  {
   "cell_type": "code",
   "execution_count": null,
   "metadata": {},
   "outputs": [],
   "source": [
    "data = np.zeros(len(outcome))\n",
    "data1 = np.zeros(len(early_lick))"
   ]
  },
  {
   "cell_type": "code",
   "execution_count": null,
   "metadata": {},
   "outputs": [],
   "source": [
    "data[outcome=='hit'] = 1\n",
    "data1[early_lick=='early'] = 1"
   ]
  },
  {
   "cell_type": "code",
   "execution_count": null,
   "metadata": {},
   "outputs": [],
   "source": [
    "trial_note = (trialNote & 'animal = 397853').fetch('trial_note', order_by='session')\n",
    "results = list(map(int, trial_note))\n",
    "protDiff = np.diff(results)\n",
    "protChange = np.where(protDiff != 0)"
   ]
  },
  {
   "cell_type": "code",
   "execution_count": null,
   "metadata": {},
   "outputs": [],
   "source": [
    "def movingaverage (values, window):\n",
    "    weights = np.repeat(1.0, window)/window\n",
    "    sma = np.convolve(values, weights, 'valid')\n",
    "    return sma"
   ]
  },
  {
   "cell_type": "code",
   "execution_count": null,
   "metadata": {},
   "outputs": [],
   "source": [
    "yMA = movingaverage(data,20)\n",
    "plt.plot(yMA)\n",
    "plt.xlabel('Trials')\n",
    "plt.ylabel('Proportion Correct')"
   ]
  },
  {
   "cell_type": "code",
   "execution_count": null,
   "metadata": {},
   "outputs": [],
   "source": [
    "yMA = movingaverage(data1,20)\n",
    "plt.plot(yMA)\n",
    "plt.xlabel('Trials')\n",
    "plt.ylabel('Early Licks')"
   ]
  },
  {
   "cell_type": "code",
   "execution_count": null,
   "metadata": {},
   "outputs": [],
   "source": []
  }
 ],
 "metadata": {
  "kernelspec": {
   "display_name": "Python 3",
   "language": "python",
   "name": "python3"
  },
  "language_info": {
   "codemirror_mode": {
    "name": "ipython",
    "version": 3
   },
   "file_extension": ".py",
   "mimetype": "text/x-python",
   "name": "python",
   "nbconvert_exporter": "python",
   "pygments_lexer": "ipython3",
   "version": "3.6.3"
  }
 },
 "nbformat": 4,
 "nbformat_minor": 2
}
