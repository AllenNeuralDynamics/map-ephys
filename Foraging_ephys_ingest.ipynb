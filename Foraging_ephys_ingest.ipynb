{
 "cells": [
  {
   "cell_type": "code",
   "execution_count": null,
   "id": "72cc9cb4",
   "metadata": {},
   "outputs": [],
   "source": [
    "%load_ext autoreload\n",
    "%autoreload 2\n",
    "import datajoint as dj\n",
    "import numpy as np\n",
    "import pandas as pd\n",
    "import matplotlib.pyplot as plt\n",
    "\n",
    "from pipeline.ingest import behavior as behavior_ingest\n",
    "from pipeline.ingest import ephys as ephys_ingest\n",
    "from pipeline import lab, get_schema_name, experiment, foraging_analysis, report, ephys, histology, psth_foraging, ccf\n",
    "import pipeline.shell as shell\n",
    "from pipeline import psth_foraging\n",
    "from pipeline.plot import unit_psth\n",
    "\n",
    "shell.logsetup('INFO')\n",
    "[hh for hh in dj.list_schemas() if 'hanhou' in hh]"
   ]
  },
  {
   "cell_type": "markdown",
   "id": "b3254d35",
   "metadata": {},
   "source": [
    "# Basic structure of the public DB"
   ]
  },
  {
   "cell_type": "markdown",
   "id": "d7b18643",
   "metadata": {},
   "source": [
    "The purpose here is to navigate through the tables for MAP phase 1 and see what I should prepare for the foraging task. <br>\n",
    "To access the tables in the public DB, I have to find the correct schema and spawn the missing classes, like this."
   ]
  },
  {
   "cell_type": "code",
   "execution_count": null,
   "id": "1d2cef42",
   "metadata": {},
   "outputs": [],
   "source": [
    "[public for public in dj.list_schemas() if 'map_v2' in public]"
   ]
  },
  {
   "cell_type": "code",
   "execution_count": null,
   "id": "aba2d71a",
   "metadata": {},
   "outputs": [],
   "source": [
    "public_lab = dj.schema('map_v2_lab'); public_lab.spawn_missing_classes()\n",
    "public_ingest_ephys = dj.schema('map_v2_ingest_ephys'); public_ingest_ephys.spawn_missing_classes()\n",
    "public_ephys =  dj.schema('map_v2_ephys'); public_ephys.spawn_missing_classes()"
   ]
  },
  {
   "cell_type": "markdown",
   "id": "92e0c8a4",
   "metadata": {},
   "source": [
    "After doing this, query the public tables by directly calling the names `EphysIngest` or `WaterRestriction` instead of `ephys.EphysIngest` or `lab.WaterRestriction` (which are my private tables) <br>\n",
    "Compare the two below:"
   ]
  },
  {
   "cell_type": "code",
   "execution_count": null,
   "id": "4659c1e0",
   "metadata": {
    "tags": []
   },
   "outputs": [],
   "source": [
    "dj.ERD(public_lab)"
   ]
  },
  {
   "cell_type": "code",
   "execution_count": null,
   "id": "18f7b313",
   "metadata": {},
   "outputs": [],
   "source": [
    "dj.ERD(lab)"
   ]
  },
  {
   "cell_type": "code",
   "execution_count": null,
   "id": "1239a8c8",
   "metadata": {},
   "outputs": [],
   "source": [
    "dj.ERD(public_ephys)"
   ]
  },
  {
   "cell_type": "markdown",
   "id": "86f78a75",
   "metadata": {},
   "source": [
    "Let's see what's in the public `EphysIngest`"
   ]
  },
  {
   "cell_type": "code",
   "execution_count": null,
   "id": "b21197c5",
   "metadata": {},
   "outputs": [],
   "source": [
    "EphysIngest() * EphysIngest.EphysFile() * WaterRestriction() & 'water_restriction_number = \"SC050\"'"
   ]
  },
  {
   "cell_type": "code",
   "execution_count": null,
   "id": "1aa67988",
   "metadata": {},
   "outputs": [],
   "source": [
    "ProbeInsertion.InsertionNote()"
   ]
  },
  {
   "cell_type": "code",
   "execution_count": null,
   "id": "e58ee68d",
   "metadata": {},
   "outputs": [],
   "source": [
    "BrainArea()"
   ]
  },
  {
   "cell_type": "code",
   "execution_count": null,
   "id": "843e9273",
   "metadata": {},
   "outputs": [],
   "source": [
    "ProbeInsertion.RecordableBrainRegion()"
   ]
  },
  {
   "cell_type": "code",
   "execution_count": null,
   "id": "ac71f617",
   "metadata": {},
   "outputs": [],
   "source": [
    "BrainAreaDepthCriteria()"
   ]
  },
  {
   "cell_type": "code",
   "execution_count": null,
   "id": "7aedd298",
   "metadata": {},
   "outputs": [],
   "source": [
    "ProbeInsertionQuality()"
   ]
  },
  {
   "cell_type": "markdown",
   "id": "5b3896b1",
   "metadata": {},
   "source": [
    "# What do I have now?"
   ]
  },
  {
   "cell_type": "code",
   "execution_count": null,
   "id": "f1e6fba9",
   "metadata": {},
   "outputs": [],
   "source": [
    "dj.ERD(ephys)"
   ]
  },
  {
   "cell_type": "markdown",
   "id": "0e7b00a2",
   "metadata": {},
   "source": [
    "All probe insertions"
   ]
  },
  {
   "cell_type": "code",
   "execution_count": null,
   "id": "81384a38",
   "metadata": {},
   "outputs": [],
   "source": [
    "(ephys.ProbeInsertion() * experiment.Session()).fetch()"
   ]
  },
  {
   "cell_type": "code",
   "execution_count": null,
   "id": "0de92144",
   "metadata": {},
   "outputs": [],
   "source": [
    "ephys.ProbeInsertion().RecordableBrainRegion()"
   ]
  },
  {
   "cell_type": "markdown",
   "id": "2ea78981",
   "metadata": {},
   "source": [
    "Sessions that have ephys"
   ]
  },
  {
   "cell_type": "code",
   "execution_count": null,
   "id": "2dd3a7d9",
   "metadata": {},
   "outputs": [],
   "source": [
    "experiment.Session & ephys.ProbeInsertion()"
   ]
  },
  {
   "cell_type": "markdown",
   "id": "2cddc67f",
   "metadata": {},
   "source": [
    "The number of ks2 units for each probe"
   ]
  },
  {
   "cell_type": "code",
   "execution_count": null,
   "id": "4f5e1034",
   "metadata": {},
   "outputs": [],
   "source": [
    "ephys.ProbeInsertion.aggr(ephys.Unit.proj(electrode_config_name_Unit='electrode_config_name'), n='count(*)')"
   ]
  },
  {
   "cell_type": "code",
   "execution_count": null,
   "id": "8b8155f5",
   "metadata": {},
   "outputs": [],
   "source": [
    "ephys.Unit()"
   ]
  },
  {
   "cell_type": "code",
   "execution_count": null,
   "id": "7ff899ec",
   "metadata": {},
   "outputs": [],
   "source": [
    "ephys.UnitStat()"
   ]
  },
  {
   "cell_type": "markdown",
   "id": "4515d8c0",
   "metadata": {},
   "source": [
    "# Add bitcode to my own pipeline"
   ]
  },
  {
   "cell_type": "markdown",
   "id": "253db7e2",
   "metadata": {},
   "source": [
    "Check bitcode on public DB"
   ]
  },
  {
   "cell_type": "code",
   "execution_count": null,
   "id": "a5532ee0",
   "metadata": {},
   "outputs": [],
   "source": [
    "public_experiment = dj.schema('map_v2_experiment')\n",
    "public_experiment.spawn_missing_classes()\n",
    "dj.ERD(public_experiment)"
   ]
  },
  {
   "cell_type": "code",
   "execution_count": null,
   "id": "6ae539f3",
   "metadata": {},
   "outputs": [],
   "source": [
    "((TrialNote() & 'trial_note_type = \"bitcode\"') * WaterRestriction.proj('water_restriction_number') & 'water_restriction_number = \"SC050\" OR water_restriction_number = \"DL011\"') & 'session = 1' & 'trial = 1'"
   ]
  },
  {
   "cell_type": "markdown",
   "id": "9b8882a8",
   "metadata": {},
   "source": [
    "So obviously them have increased the length of bitcode from 10 to 20 at some point."
   ]
  },
  {
   "cell_type": "markdown",
   "id": "8393e99f",
   "metadata": {},
   "source": [
    "Now let me check whether my bitcodes have been correctly ingested. (note the module name `experiment` and `lab` here)"
   ]
  },
  {
   "cell_type": "code",
   "execution_count": null,
   "id": "d725337a",
   "metadata": {},
   "outputs": [],
   "source": [
    "(experiment.TrialNote() & 'trial_note_type = \"bitcode\"') * lab.WaterRestriction.proj('water_restriction_number') & 'trial = 1'"
   ]
  },
  {
   "cell_type": "markdown",
   "id": "42e5eaa1",
   "metadata": {},
   "source": [
    "It makes sense that the session numbers don't start from 1 because I just introduced bitcode into my pybpod code recently."
   ]
  },
  {
   "cell_type": "code",
   "execution_count": null,
   "id": "8414cfd6",
   "metadata": {},
   "outputs": [],
   "source": [
    "foraging_sessions = (experiment.Session & \"username='HH'\")  * lab.WaterRestriction().proj('water_restriction_number') & (experiment.BehaviorTrial & 'task in (\"foraging\")')\n",
    "foraging_sessions"
   ]
  },
  {
   "cell_type": "markdown",
   "id": "fbaa504e",
   "metadata": {},
   "source": [
    "List all foraging sessions that have bitcode and also show some stats"
   ]
  },
  {
   "cell_type": "code",
   "execution_count": null,
   "id": "46f9f463",
   "metadata": {},
   "outputs": [],
   "source": [
    "(experiment.Session * foraging_analysis.SessionStats.proj('session_total_trial_num', 'session_foraging_eff_optimal') \n",
    " * lab.WaterRestriction().proj('water_restriction_number') & (experiment.TrialNote() & 'trial_note_type = \"bitcode\"')\n",
    ").fetch(format='frame') "
   ]
  },
  {
   "cell_type": "markdown",
   "id": "5bc91eb6",
   "metadata": {},
   "source": [
    "# Ephys Ingestion"
   ]
  },
  {
   "cell_type": "code",
   "execution_count": null,
   "id": "ed2eef1e",
   "metadata": {},
   "outputs": [],
   "source": [
    "dj.ERD(ephys) + dj.ERD(ephys_ingest)"
   ]
  },
  {
   "cell_type": "markdown",
   "id": "d6b513bf",
   "metadata": {},
   "source": [
    "## Prepare the electrodes!!!"
   ]
  },
  {
   "cell_type": "code",
   "execution_count": null,
   "id": "6ac9a7c6",
   "metadata": {},
   "outputs": [],
   "source": [
    "lab.ProbeType()"
   ]
  },
  {
   "cell_type": "code",
   "execution_count": null,
   "id": "66f5ba8a",
   "metadata": {},
   "outputs": [],
   "source": [
    "for probe_type in lab.ProbeType.fetch():\n",
    "    print(probe_type[0])\n",
    "    lab.ProbeType.create_neuropixels_probe(probe_type=probe_type[0])"
   ]
  },
  {
   "cell_type": "code",
   "execution_count": null,
   "id": "6eb75262",
   "metadata": {},
   "outputs": [],
   "source": [
    "lab.ProbeType.Electrode()"
   ]
  },
  {
   "cell_type": "markdown",
   "id": "4f7f8105",
   "metadata": {},
   "source": [
    "## Find the sessions that have ephys data ingested"
   ]
  },
  {
   "cell_type": "code",
   "execution_count": null,
   "id": "238eb135",
   "metadata": {},
   "outputs": [],
   "source": [
    "experiment.Session() * lab.WaterRestriction.proj('water_restriction_number') & ephys.ProbeInsertion() "
   ]
  },
  {
   "cell_type": "code",
   "execution_count": null,
   "id": "c8394b40",
   "metadata": {},
   "outputs": [],
   "source": [
    "from pipeline.ingest import ephys as ephys_ingest\n",
    "ephys_ingest.EphysIngest.EphysFile & lab.WaterRestriction.proj('water_restriction_number') & ephys.ProbeInsertion() "
   ]
  },
  {
   "cell_type": "code",
   "execution_count": null,
   "id": "7df1cd30",
   "metadata": {},
   "outputs": [],
   "source": [
    "ephys.ProbeInsertion() * experiment.Session() * lab.WaterRestriction.proj('water_restriction_number') "
   ]
  },
  {
   "cell_type": "markdown",
   "id": "46abda1b",
   "metadata": {},
   "source": [
    "To delete certain insertions"
   ]
  },
  {
   "cell_type": "code",
   "execution_count": null,
   "id": "588f34d5",
   "metadata": {},
   "outputs": [],
   "source": [
    "ephys.ProbeInsertion().delete()"
   ]
  },
  {
   "cell_type": "markdown",
   "id": "646a29db",
   "metadata": {},
   "source": [
    "Should also delete ephys_ingest.EphysIngest() table!!"
   ]
  },
  {
   "cell_type": "code",
   "execution_count": null,
   "id": "837f35b3",
   "metadata": {},
   "outputs": [],
   "source": [
    "ephys_ingest.EphysIngest().delete()"
   ]
  },
  {
   "cell_type": "markdown",
   "id": "31ac4c0f",
   "metadata": {},
   "source": [
    "## Ingest ephys sessions"
   ]
  },
  {
   "cell_type": "markdown",
   "id": "f7e56789",
   "metadata": {},
   "source": [
    "Ingest ephys"
   ]
  },
  {
   "cell_type": "code",
   "execution_count": null,
   "id": "c481d229",
   "metadata": {},
   "outputs": [],
   "source": [
    "shell.ingest_ephys()"
   ]
  },
  {
   "cell_type": "markdown",
   "id": "c9f257dd",
   "metadata": {},
   "source": [
    "Ingest ephys notes"
   ]
  },
  {
   "cell_type": "code",
   "execution_count": null,
   "id": "9913f064",
   "metadata": {},
   "outputs": [],
   "source": [
    "shell.load_insertion_location(dj.config.get('custom').get('recording_notes_spreadsheet'))"
   ]
  },
  {
   "cell_type": "markdown",
   "id": "6054369c",
   "metadata": {},
   "source": [
    "Check all meta data for `ephys.ProbeInsertion`"
   ]
  },
  {
   "cell_type": "code",
   "execution_count": null,
   "id": "fd5ae6f6",
   "metadata": {},
   "outputs": [],
   "source": [
    "ephys.ProbeInsertion * ephys.ProbeInsertion.InsertionLocation * ephys.ProbeInsertion.RecordableBrainRegion * ephys.ProbeInsertion.RecordingSystemSetup"
   ]
  },
  {
   "cell_type": "markdown",
   "id": "b540ed07",
   "metadata": {},
   "source": [
    "Compute UnitStat (see `shell.populate_ephys`)"
   ]
  },
  {
   "cell_type": "code",
   "execution_count": null,
   "id": "36bcd558",
   "metadata": {},
   "outputs": [],
   "source": [
    "populate_settings={'reserve_jobs': True, 'display_progress': True}\n",
    "ephys.UnitStat.populate(**populate_settings)"
   ]
  },
  {
   "cell_type": "markdown",
   "id": "70e56243",
   "metadata": {},
   "source": [
    "Compute UnitCellType (see `shell.populate_ephys`)"
   ]
  },
  {
   "cell_type": "code",
   "execution_count": null,
   "id": "9a49e054",
   "metadata": {},
   "outputs": [],
   "source": [
    "ephys.UnitCellType.populate(**populate_settings)"
   ]
  },
  {
   "cell_type": "markdown",
   "id": "226edd26-f5fa-4d65-b7a5-6a3f3242ddb1",
   "metadata": {},
   "source": [
    "# QC"
   ]
  },
  {
   "cell_type": "markdown",
   "id": "65a6cf26-f26a-4bd6-b254-4e205e26f2fb",
   "metadata": {},
   "source": [
    "The one Dave showed (a little strigent for me now)"
   ]
  },
  {
   "cell_type": "code",
   "execution_count": null,
   "id": "6f29a2ac-d965-4a2e-b57f-a66d316a5920",
   "metadata": {},
   "outputs": [],
   "source": [
    "len((ephys.Unit * ephys.ClusterMetric * ephys.UnitStat * ephys.MAPClusterMetric.DriftMetric) & 'presence_ratio > 0.95' & 'amplitude_cutoff < 0.1' & 'isi_violation < 0.5' & 'unit_amp > 70' & 'drift_metric < 0.1')"
   ]
  },
  {
   "cell_type": "markdown",
   "id": "2c021832-f44e-448a-b0b1-ecb41a1f5527",
   "metadata": {},
   "source": [
    "# Histology ingestion"
   ]
  },
  {
   "cell_type": "markdown",
   "id": "2b06abbf-3d14-476d-b8ad-706373d9eb53",
   "metadata": {},
   "source": [
    "## Preparation"
   ]
  },
  {
   "cell_type": "code",
   "execution_count": null,
   "id": "68e88bc6-952f-44bb-875c-ef1a18d5ab9a",
   "metadata": {},
   "outputs": [],
   "source": [
    "from pipeline import ccf"
   ]
  },
  {
   "cell_type": "code",
   "execution_count": null,
   "id": "86ba0e13-4908-4205-bf12-3b85a832c866",
   "metadata": {},
   "outputs": [],
   "source": [
    "ccf.CCFBrainRegion.load_regions()\n",
    "ccf.AnnotatedBrainSurface.load_matlab_mesh('Annotation_new_10_ds222_16bit_isosurf.mat')"
   ]
  },
  {
   "cell_type": "code",
   "execution_count": null,
   "id": "87ac03d4-36a2-47d0-80cc-365cb15c6fa2",
   "metadata": {},
   "outputs": [],
   "source": [
    "ccf.CCFAnnotation.load_ccf_annotation()"
   ]
  },
  {
   "cell_type": "markdown",
   "id": "e3dc0659-373c-4dc0-86c7-758163b858db",
   "metadata": {},
   "source": [
    "Total length in the main pipeline = 63265854"
   ]
  },
  {
   "cell_type": "code",
   "execution_count": null,
   "id": "1faebe55-2f80-42c0-813c-4c6b5ea9b59b",
   "metadata": {},
   "outputs": [],
   "source": [
    "len(ccf.CCFAnnotation())"
   ]
  },
  {
   "cell_type": "markdown",
   "id": "e80d08c5-f101-4760-8323-8cc5e928c9ff",
   "metadata": {},
   "source": [
    "Finally done!!"
   ]
  },
  {
   "cell_type": "markdown",
   "id": "0a066a12-8914-4eb3-9544-318066b6ee01",
   "metadata": {},
   "source": [
    "## CCFAnnotation"
   ]
  },
  {
   "cell_type": "markdown",
   "id": "ab124de4-0c31-4d73-9237-258d12908060",
   "metadata": {},
   "source": [
    "Check histology"
   ]
  },
  {
   "cell_type": "code",
   "execution_count": null,
   "id": "a1e71b63-4d62-4aea-9878-8349e27d6054",
   "metadata": {},
   "outputs": [],
   "source": [
    "(experiment.Session & histology.ElectrodeCCFPosition) * (lab.WaterRestriction.proj('water_restriction_number'))"
   ]
  },
  {
   "cell_type": "markdown",
   "id": "cad05f01-fc0e-426d-9e71-029dceb3e04d",
   "metadata": {},
   "source": [
    "Do ingestion"
   ]
  },
  {
   "cell_type": "code",
   "execution_count": null,
   "id": "a70bd69a-19f2-4735-b207-132d077400a3",
   "metadata": {},
   "outputs": [],
   "source": [
    "shell.ingest_histology()"
   ]
  },
  {
   "cell_type": "markdown",
   "id": "73a18728-a0d2-4b29-bed6-4e9191b18007",
   "metadata": {},
   "source": [
    "Check all of the brains assigned to me (sessions that have histology)"
   ]
  },
  {
   "cell_type": "code",
   "execution_count": null,
   "id": "8b8389f7-8a63-48a7-bc0d-d5e7bf0d69fe",
   "metadata": {},
   "outputs": [],
   "source": [
    "my_assigned_brains = 'water_restriction_number in (\"HH09\")'\n",
    "my_registered_sessions = experiment.Session * lab.WaterRestriction.proj('water_restriction_number') & histology.ElectrodeCCFPosition & my_assigned_brains"
   ]
  },
  {
   "cell_type": "code",
   "execution_count": null,
   "id": "b6e4606a-f882-4f73-a048-2fffa727f7ce",
   "metadata": {},
   "outputs": [],
   "source": [
    "from pipeline.plot import histology_plot\n",
    "histology_plot.plot_probe_tracks(my_registered_sessions);"
   ]
  },
  {
   "cell_type": "markdown",
   "id": "a52cb00f-46dd-4ebc-ade8-9de12eac0e97",
   "metadata": {},
   "source": [
    "Check insertions that do **NOT** have histology"
   ]
  },
  {
   "cell_type": "code",
   "execution_count": null,
   "id": "e41556bf-7f7b-4873-8ee0-a4cf304eb779",
   "metadata": {},
   "outputs": [],
   "source": [
    "my_assigned_brains = lab.WaterRestriction.proj('water_restriction_number') & 'water_restriction_number in (\"HH09\")'\n",
    "my_assigned_insertions = ephys.ProbeInsertion * experiment.Session  * my_assigned_brains\n",
    "print(f'All insertions assigned to me: {len(my_assigned_insertions)}')\n",
    "my_assigned_insertions - histology.ElectrodeCCFPosition"
   ]
  },
  {
   "cell_type": "markdown",
   "id": "312783d4-1a8b-4bf7-b631-42332b90c1c5",
   "metadata": {},
   "source": [
    "Show all recorded areas"
   ]
  },
  {
   "cell_type": "code",
   "execution_count": null,
   "id": "feb7865f-8fac-434f-b07b-165e5f1828b2",
   "metadata": {},
   "outputs": [],
   "source": [
    "dj.U('annotation').aggr((ephys.Unit * histology.ElectrodeCCFPosition.ElectrodePosition) * ccf.CCFAnnotation, count='count(*)').fetch(format='frame', order_by='count desc')[:30]"
   ]
  },
  {
   "cell_type": "markdown",
   "id": "dde7ced6-b21c-46a2-81f1-18cef37db821",
   "metadata": {},
   "source": [
    "After stringent QC"
   ]
  },
  {
   "cell_type": "code",
   "execution_count": null,
   "id": "bfd2d58a-f5f7-4642-9363-4cbb71aaa592",
   "metadata": {},
   "outputs": [],
   "source": [
    "qc = (ephys.Unit * ephys.ClusterMetric * ephys.UnitStat * ephys.MAPClusterMetric.DriftMetric) & 'presence_ratio > 0.95' & 'amplitude_cutoff < 0.1' & 'isi_violation < 0.5' & 'unit_amp > 70' & 'drift_metric < 0.1'\n",
    "dj.U('annotation').aggr(((ephys.Unit & qc.proj()) * histology.ElectrodeCCFPosition.ElectrodePosition) * ccf.CCFAnnotation, count='count(*)').fetch(format='frame', order_by='count desc')[:30]"
   ]
  },
  {
   "cell_type": "markdown",
   "id": "ab606f2e",
   "metadata": {},
   "source": [
    "# Trial Number issue"
   ]
  },
  {
   "cell_type": "markdown",
   "id": "cb4013c3",
   "metadata": {},
   "source": [
    "Retrieve the original bpod files for a certain session."
   ]
  },
  {
   "cell_type": "code",
   "execution_count": null,
   "id": "5a11d369",
   "metadata": {},
   "outputs": [],
   "source": [
    "from pipeline.ingest.behavior import BehaviorBpodIngest\n",
    "BehaviorBpodIngest.BehaviorFile() * experiment.Session() * lab.WaterRestriction.proj('water_restriction_number') & 'session_date = \"2021-04-18\"'"
   ]
  },
  {
   "cell_type": "markdown",
   "id": "e56f219c",
   "metadata": {},
   "source": [
    "The potential bug of having the same bitcode because of the fixed rand seed."
   ]
  },
  {
   "cell_type": "code",
   "execution_count": null,
   "id": "6fbfb4b4",
   "metadata": {},
   "outputs": [],
   "source": [
    "experiment.TrialNote & 'trial_note = \"01000110111010000110\"'"
   ]
  },
  {
   "cell_type": "code",
   "execution_count": null,
   "id": "0dcb346f",
   "metadata": {},
   "outputs": [],
   "source": [
    "dj.ERD(ephys)"
   ]
  },
  {
   "cell_type": "markdown",
   "id": "06b000ec-0a3f-4f2a-84cd-108b432e5479",
   "metadata": {},
   "source": [
    "# Timing issue"
   ]
  },
  {
   "cell_type": "code",
   "execution_count": null,
   "id": "924d8e50-25ab-4a15-8252-662c555e0d19",
   "metadata": {},
   "outputs": [],
   "source": [
    "from pipeline.ingest.util import *"
   ]
  },
  {
   "cell_type": "code",
   "execution_count": null,
   "id": "26abb3e2-6bc6-4d22-82a9-612685b5d868",
   "metadata": {},
   "outputs": [],
   "source": [
    "compare_ni_and_bpod_times()"
   ]
  },
  {
   "cell_type": "markdown",
   "id": "4bd58243",
   "metadata": {},
   "source": [
    "# Code cache"
   ]
  },
  {
   "cell_type": "code",
   "execution_count": null,
   "id": "07638e23",
   "metadata": {},
   "outputs": [],
   "source": [
    "experiment.Session & 'session = 35' & 'subject_id = 473361'"
   ]
  },
  {
   "cell_type": "code",
   "execution_count": null,
   "id": "cb0abdef",
   "metadata": {},
   "outputs": [],
   "source": [
    "experiment.TrialEvent()\n"
   ]
  },
  {
   "cell_type": "code",
   "execution_count": null,
   "id": "9a7f3a15",
   "metadata": {},
   "outputs": [],
   "source": [
    "behavior_ingest.BehaviorBpodIngest.BehaviorFile.key_source()"
   ]
  },
  {
   "cell_type": "markdown",
   "id": "4b4aea4f",
   "metadata": {
    "pycharm": {
     "name": "#%% md\n"
    }
   },
   "source": [
    "Histology ingest"
   ]
  },
  {
   "cell_type": "code",
   "execution_count": null,
   "id": "295a0374",
   "metadata": {
    "collapsed": false,
    "jupyter": {
     "outputs_hidden": false
    },
    "pycharm": {
     "name": "#%%\n"
    }
   },
   "outputs": [],
   "source": [
    "(histology.ElectrodeCCFPosition * experiment.Session) & \\\n",
    "(lab.WaterRestriction  & 'water_restriction_number = \"SC045\"')"
   ]
  },
  {
   "cell_type": "code",
   "execution_count": null,
   "id": "ab632067",
   "metadata": {
    "collapsed": false,
    "jupyter": {
     "outputs_hidden": false
    },
    "pycharm": {
     "name": "#%%\n"
    }
   },
   "outputs": [],
   "source": [
    "(histology.ElectrodeCCFPosition * experiment.Session) & \\\n",
    "(lab.WaterRestriction  & 'water_restriction_number = \"SC050\"')"
   ]
  }
 ],
 "metadata": {
  "kernelspec": {
   "display_name": "pipeline",
   "language": "python",
   "name": "pipeline"
  },
  "language_info": {
   "codemirror_mode": {
    "name": "ipython",
    "version": 3
   },
   "file_extension": ".py",
   "mimetype": "text/x-python",
   "name": "python",
   "nbconvert_exporter": "python",
   "pygments_lexer": "ipython3",
   "version": "3.9.5"
  },
  "toc-autonumbering": true,
  "toc-showcode": false,
  "toc-showmarkdowntxt": false,
  "toc-showtags": true
 },
 "nbformat": 4,
 "nbformat_minor": 5
}
