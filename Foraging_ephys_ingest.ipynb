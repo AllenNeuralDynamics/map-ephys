{
 "cells": [
  {
   "cell_type": "code",
   "execution_count": 1,
   "id": "72cc9cb4",
   "metadata": {},
   "outputs": [
    {
     "name": "stdout",
     "output_type": "stream",
     "text": [
      "Connecting hanhou@datajoint.mesoscale-activity-map.org:3306\n"
     ]
    },
    {
     "data": {
      "text/plain": [
       "['hanhou_foraging_ccf',\n",
       " 'hanhou_foraging_ephys',\n",
       " 'hanhou_foraging_experiment',\n",
       " 'hanhou_foraging_foraging_analysis',\n",
       " 'hanhou_foraging_foraging_model',\n",
       " 'hanhou_foraging_histology',\n",
       " 'hanhou_foraging_ingest_behavior',\n",
       " 'hanhou_foraging_ingest_ephys',\n",
       " 'hanhou_foraging_ingest_histology',\n",
       " 'hanhou_foraging_lab',\n",
       " 'hanhou_foraging_psth',\n",
       " 'hanhou_foraging_psth_foraging',\n",
       " 'hanhou_foraging_publication',\n",
       " 'hanhou_foraging_report',\n",
       " 'hanhou_foraging_tracking',\n",
       " 'hanhou_test_schema']"
      ]
     },
     "execution_count": 1,
     "metadata": {},
     "output_type": "execute_result"
    }
   ],
   "source": [
    "%load_ext autoreload\n",
    "%autoreload 2\n",
    "import datajoint as dj\n",
    "import numpy as np\n",
    "import pandas as pd\n",
    "import matplotlib.pyplot as plt\n",
    "\n",
    "from pipeline.ingest import behavior as behavior_ingest\n",
    "from pipeline.ingest import ephys as ephys_ingest\n",
    "from pipeline import lab, get_schema_name, experiment, foraging_analysis, report, ephys, histology, psth_foraging, ccf\n",
    "import pipeline.shell as shell\n",
    "from pipeline import psth_foraging\n",
    "from pipeline.plot import unit_psth\n",
    "\n",
    "shell.logsetup('INFO')\n",
    "[hh for hh in dj.list_schemas() if 'hanhou' in hh]"
   ]
  },
  {
   "cell_type": "markdown",
   "id": "b3254d35",
   "metadata": {},
   "source": [
    "# Basic structure of the public DB"
   ]
  },
  {
   "cell_type": "markdown",
   "id": "d7b18643",
   "metadata": {},
   "source": [
    "The purpose here is to navigate through the tables for MAP phase 1 and see what I should prepare for the foraging task. <br>\n",
    "To access the tables in the public DB, I have to find the correct schema and spawn the missing classes, like this."
   ]
  },
  {
   "cell_type": "code",
   "execution_count": null,
   "id": "1d2cef42",
   "metadata": {},
   "outputs": [],
   "source": [
    "[public for public in dj.list_schemas() if 'map_v2' in public]"
   ]
  },
  {
   "cell_type": "code",
   "execution_count": null,
   "id": "aba2d71a",
   "metadata": {},
   "outputs": [],
   "source": [
    "public_lab = dj.schema('map_v2_lab'); public_lab.spawn_missing_classes()\n",
    "public_ingest_ephys = dj.schema('map_v2_ingest_ephys'); public_ingest_ephys.spawn_missing_classes()\n",
    "public_ephys =  dj.schema('map_v2_ephys'); public_ephys.spawn_missing_classes()"
   ]
  },
  {
   "cell_type": "markdown",
   "id": "92e0c8a4",
   "metadata": {},
   "source": [
    "After doing this, query the public tables by directly calling the names `EphysIngest` or `WaterRestriction` instead of `ephys.EphysIngest` or `lab.WaterRestriction` (which are my private tables) <br>\n",
    "Compare the two below:"
   ]
  },
  {
   "cell_type": "code",
   "execution_count": null,
   "id": "4659c1e0",
   "metadata": {
    "tags": []
   },
   "outputs": [],
   "source": [
    "dj.ERD(public_lab)"
   ]
  },
  {
   "cell_type": "code",
   "execution_count": null,
   "id": "18f7b313",
   "metadata": {},
   "outputs": [],
   "source": [
    "dj.ERD(lab)"
   ]
  },
  {
   "cell_type": "code",
   "execution_count": null,
   "id": "1239a8c8",
   "metadata": {},
   "outputs": [],
   "source": [
    "dj.ERD(public_ephys)"
   ]
  },
  {
   "cell_type": "markdown",
   "id": "86f78a75",
   "metadata": {},
   "source": [
    "Let's see what's in the public `EphysIngest`"
   ]
  },
  {
   "cell_type": "code",
   "execution_count": null,
   "id": "b21197c5",
   "metadata": {},
   "outputs": [],
   "source": [
    "EphysIngest() * EphysIngest.EphysFile() * WaterRestriction() & 'water_restriction_number = \"SC050\"'"
   ]
  },
  {
   "cell_type": "code",
   "execution_count": null,
   "id": "1aa67988",
   "metadata": {},
   "outputs": [],
   "source": [
    "ProbeInsertion.InsertionNote()"
   ]
  },
  {
   "cell_type": "code",
   "execution_count": null,
   "id": "e58ee68d",
   "metadata": {},
   "outputs": [],
   "source": [
    "BrainArea()"
   ]
  },
  {
   "cell_type": "code",
   "execution_count": null,
   "id": "843e9273",
   "metadata": {},
   "outputs": [],
   "source": [
    "ProbeInsertion.RecordableBrainRegion()"
   ]
  },
  {
   "cell_type": "code",
   "execution_count": null,
   "id": "ac71f617",
   "metadata": {},
   "outputs": [],
   "source": [
    "BrainAreaDepthCriteria()"
   ]
  },
  {
   "cell_type": "code",
   "execution_count": null,
   "id": "7aedd298",
   "metadata": {},
   "outputs": [],
   "source": [
    "ProbeInsertionQuality()"
   ]
  },
  {
   "cell_type": "markdown",
   "id": "5b3896b1",
   "metadata": {},
   "source": [
    "# What do I have now?"
   ]
  },
  {
   "cell_type": "code",
   "execution_count": null,
   "id": "f1e6fba9",
   "metadata": {},
   "outputs": [],
   "source": [
    "dj.ERD(ephys)"
   ]
  },
  {
   "cell_type": "markdown",
   "id": "0e7b00a2",
   "metadata": {},
   "source": [
    "All probe insertions"
   ]
  },
  {
   "cell_type": "code",
   "execution_count": null,
   "id": "81384a38",
   "metadata": {},
   "outputs": [],
   "source": [
    "(ephys.ProbeInsertion() * experiment.Session()).fetch()"
   ]
  },
  {
   "cell_type": "code",
   "execution_count": null,
   "id": "0de92144",
   "metadata": {},
   "outputs": [],
   "source": [
    "ephys.ProbeInsertion().RecordableBrainRegion()"
   ]
  },
  {
   "cell_type": "markdown",
   "id": "2ea78981",
   "metadata": {},
   "source": [
    "Sessions that have ephys"
   ]
  },
  {
   "cell_type": "code",
   "execution_count": null,
   "id": "2dd3a7d9",
   "metadata": {},
   "outputs": [],
   "source": [
    "experiment.Session & ephys.ProbeInsertion()"
   ]
  },
  {
   "cell_type": "markdown",
   "id": "2cddc67f",
   "metadata": {},
   "source": [
    "The number of ks2 units for each probe"
   ]
  },
  {
   "cell_type": "code",
   "execution_count": null,
   "id": "4f5e1034",
   "metadata": {},
   "outputs": [],
   "source": [
    "ephys.ProbeInsertion.aggr(ephys.Unit.proj(electrode_config_name_Unit='electrode_config_name'), n='count(*)')"
   ]
  },
  {
   "cell_type": "code",
   "execution_count": null,
   "id": "8b8155f5",
   "metadata": {},
   "outputs": [],
   "source": [
    "ephys.Unit()"
   ]
  },
  {
   "cell_type": "code",
   "execution_count": null,
   "id": "7ff899ec",
   "metadata": {},
   "outputs": [],
   "source": [
    "ephys.UnitStat()"
   ]
  },
  {
   "cell_type": "markdown",
   "id": "4515d8c0",
   "metadata": {},
   "source": [
    "# Add bitcode to my own pipeline"
   ]
  },
  {
   "cell_type": "markdown",
   "id": "253db7e2",
   "metadata": {},
   "source": [
    "Check bitcode on public DB"
   ]
  },
  {
   "cell_type": "code",
   "execution_count": null,
   "id": "a5532ee0",
   "metadata": {},
   "outputs": [],
   "source": [
    "public_experiment = dj.schema('map_v2_experiment')\n",
    "public_experiment.spawn_missing_classes()\n",
    "dj.ERD(public_experiment)"
   ]
  },
  {
   "cell_type": "code",
   "execution_count": null,
   "id": "6ae539f3",
   "metadata": {},
   "outputs": [],
   "source": [
    "((TrialNote() & 'trial_note_type = \"bitcode\"') * WaterRestriction.proj('water_restriction_number') & 'water_restriction_number = \"SC050\" OR water_restriction_number = \"DL011\"') & 'session = 1' & 'trial = 1'"
   ]
  },
  {
   "cell_type": "markdown",
   "id": "9b8882a8",
   "metadata": {},
   "source": [
    "So obviously them have increased the length of bitcode from 10 to 20 at some point."
   ]
  },
  {
   "cell_type": "markdown",
   "id": "8393e99f",
   "metadata": {},
   "source": [
    "Now let me check whether my bitcodes have been correctly ingested. (note the module name `experiment` and `lab` here)"
   ]
  },
  {
   "cell_type": "code",
   "execution_count": null,
   "id": "d725337a",
   "metadata": {},
   "outputs": [],
   "source": [
    "(experiment.TrialNote() & 'trial_note_type = \"bitcode\"') * lab.WaterRestriction.proj('water_restriction_number') & 'trial = 1'"
   ]
  },
  {
   "cell_type": "markdown",
   "id": "42e5eaa1",
   "metadata": {},
   "source": [
    "It makes sense that the session numbers don't start from 1 because I just introduced bitcode into my pybpod code recently."
   ]
  },
  {
   "cell_type": "code",
   "execution_count": null,
   "id": "8414cfd6",
   "metadata": {},
   "outputs": [],
   "source": [
    "foraging_sessions = (experiment.Session & \"username='HH'\")  * lab.WaterRestriction().proj('water_restriction_number') & (experiment.BehaviorTrial & 'task in (\"foraging\")')\n",
    "foraging_sessions"
   ]
  },
  {
   "cell_type": "markdown",
   "id": "fbaa504e",
   "metadata": {},
   "source": [
    "List all foraging sessions that have bitcode and also show some stats"
   ]
  },
  {
   "cell_type": "code",
   "execution_count": null,
   "id": "46f9f463",
   "metadata": {},
   "outputs": [],
   "source": [
    "(experiment.Session * foraging_analysis.SessionStats.proj('session_total_trial_num', 'session_foraging_eff_optimal') \n",
    " * lab.WaterRestriction().proj('water_restriction_number') & (experiment.TrialNote() & 'trial_note_type = \"bitcode\"')\n",
    ").fetch(format='frame') "
   ]
  },
  {
   "cell_type": "markdown",
   "id": "5bc91eb6",
   "metadata": {},
   "source": [
    "# Ephys Ingestion"
   ]
  },
  {
   "cell_type": "code",
   "execution_count": null,
   "id": "ed2eef1e",
   "metadata": {},
   "outputs": [],
   "source": [
    "dj.ERD(ephys) + dj.ERD(ephys_ingest)"
   ]
  },
  {
   "cell_type": "markdown",
   "id": "d6b513bf",
   "metadata": {},
   "source": [
    "## Prepare the electrodes!!!"
   ]
  },
  {
   "cell_type": "code",
   "execution_count": null,
   "id": "6ac9a7c6",
   "metadata": {},
   "outputs": [],
   "source": [
    "lab.ProbeType()"
   ]
  },
  {
   "cell_type": "code",
   "execution_count": null,
   "id": "66f5ba8a",
   "metadata": {},
   "outputs": [],
   "source": [
    "for probe_type in lab.ProbeType.fetch():\n",
    "    print(probe_type[0])\n",
    "    lab.ProbeType.create_neuropixels_probe(probe_type=probe_type[0])"
   ]
  },
  {
   "cell_type": "code",
   "execution_count": null,
   "id": "6eb75262",
   "metadata": {},
   "outputs": [],
   "source": [
    "lab.ProbeType.Electrode()"
   ]
  },
  {
   "cell_type": "markdown",
   "id": "4f7f8105",
   "metadata": {},
   "source": [
    "## Find the sessions that have ephys data ingested"
   ]
  },
  {
   "cell_type": "code",
   "execution_count": null,
   "id": "238eb135",
   "metadata": {},
   "outputs": [],
   "source": [
    "experiment.Session() * lab.WaterRestriction.proj('water_restriction_number') & ephys.ProbeInsertion() "
   ]
  },
  {
   "cell_type": "code",
   "execution_count": null,
   "id": "c8394b40",
   "metadata": {},
   "outputs": [],
   "source": [
    "from pipeline.ingest import ephys as ephys_ingest\n",
    "ephys_ingest.EphysIngest.EphysFile & lab.WaterRestriction.proj('water_restriction_number') & ephys.ProbeInsertion() "
   ]
  },
  {
   "cell_type": "code",
   "execution_count": null,
   "id": "7df1cd30",
   "metadata": {},
   "outputs": [],
   "source": [
    "ephys.ProbeInsertion() * experiment.Session() * lab.WaterRestriction.proj('water_restriction_number') "
   ]
  },
  {
   "cell_type": "markdown",
   "id": "46abda1b",
   "metadata": {},
   "source": [
    "To delete certain insertions"
   ]
  },
  {
   "cell_type": "code",
   "execution_count": null,
   "id": "588f34d5",
   "metadata": {},
   "outputs": [],
   "source": [
    "ephys.ProbeInsertion().delete()"
   ]
  },
  {
   "cell_type": "markdown",
   "id": "646a29db",
   "metadata": {},
   "source": [
    "Should also delete ephys_ingest.EphysIngest() table!!"
   ]
  },
  {
   "cell_type": "code",
   "execution_count": null,
   "id": "837f35b3",
   "metadata": {},
   "outputs": [],
   "source": [
    "ephys_ingest.EphysIngest().delete()"
   ]
  },
  {
   "cell_type": "markdown",
   "id": "31ac4c0f",
   "metadata": {},
   "source": [
    "## Ingest ephys sessions"
   ]
  },
  {
   "cell_type": "markdown",
   "id": "f7e56789",
   "metadata": {},
   "source": [
    "Ingest ephys"
   ]
  },
  {
   "cell_type": "code",
   "execution_count": null,
   "id": "c481d229",
   "metadata": {},
   "outputs": [],
   "source": [
    "shell.ingest_ephys()"
   ]
  },
  {
   "cell_type": "markdown",
   "id": "c9f257dd",
   "metadata": {},
   "source": [
    "Ingest ephys notes"
   ]
  },
  {
   "cell_type": "code",
   "execution_count": null,
   "id": "9913f064",
   "metadata": {},
   "outputs": [],
   "source": [
    "shell.load_insertion_location(dj.config.get('custom').get('recording_notes_spreadsheet'))"
   ]
  },
  {
   "cell_type": "markdown",
   "id": "6054369c",
   "metadata": {},
   "source": [
    "Check all meta data for `ephys.ProbeInsertion`"
   ]
  },
  {
   "cell_type": "code",
   "execution_count": null,
   "id": "fd5ae6f6",
   "metadata": {},
   "outputs": [],
   "source": [
    "ephys.ProbeInsertion * ephys.ProbeInsertion.InsertionLocation * ephys.ProbeInsertion.RecordableBrainRegion * ephys.ProbeInsertion.RecordingSystemSetup"
   ]
  },
  {
   "cell_type": "markdown",
   "id": "b540ed07",
   "metadata": {},
   "source": [
    "Compute UnitStat (see `shell.populate_ephys`)"
   ]
  },
  {
   "cell_type": "code",
   "execution_count": null,
   "id": "36bcd558",
   "metadata": {},
   "outputs": [],
   "source": [
    "populate_settings={'reserve_jobs': True, 'display_progress': True}\n",
    "ephys.UnitStat.populate(**populate_settings)"
   ]
  },
  {
   "cell_type": "markdown",
   "id": "70e56243",
   "metadata": {},
   "source": [
    "Compute UnitCellType (see `shell.populate_ephys`)"
   ]
  },
  {
   "cell_type": "code",
   "execution_count": null,
   "id": "9a49e054",
   "metadata": {},
   "outputs": [],
   "source": [
    "ephys.UnitCellType.populate(**populate_settings)"
   ]
  },
  {
   "cell_type": "markdown",
   "id": "226edd26-f5fa-4d65-b7a5-6a3f3242ddb1",
   "metadata": {},
   "source": [
    "# QC"
   ]
  },
  {
   "cell_type": "markdown",
   "id": "65a6cf26-f26a-4bd6-b254-4e205e26f2fb",
   "metadata": {},
   "source": [
    "The one Dave showed (a little strigent for me now)"
   ]
  },
  {
   "cell_type": "code",
   "execution_count": 8,
   "id": "6f29a2ac-d965-4a2e-b57f-a66d316a5920",
   "metadata": {},
   "outputs": [
    {
     "data": {
      "text/plain": [
       "543"
      ]
     },
     "execution_count": 8,
     "metadata": {},
     "output_type": "execute_result"
    }
   ],
   "source": [
    "len((ephys.Unit * ephys.ClusterMetric * ephys.UnitStat * ephys.MAPClusterMetric.DriftMetric) & 'presence_ratio > 0.95' & 'amplitude_cutoff < 0.1' & 'isi_violation < 0.5' & 'unit_amp > 70' & 'drift_metric < 0.1')"
   ]
  },
  {
   "cell_type": "markdown",
   "id": "2c021832-f44e-448a-b0b1-ecb41a1f5527",
   "metadata": {},
   "source": [
    "# Histology ingestion"
   ]
  },
  {
   "cell_type": "markdown",
   "id": "2b06abbf-3d14-476d-b8ad-706373d9eb53",
   "metadata": {},
   "source": [
    "## Preparation"
   ]
  },
  {
   "cell_type": "code",
   "execution_count": 2,
   "id": "68e88bc6-952f-44bb-875c-ef1a18d5ab9a",
   "metadata": {},
   "outputs": [],
   "source": [
    "from pipeline import ccf"
   ]
  },
  {
   "cell_type": "code",
   "execution_count": null,
   "id": "86ba0e13-4908-4205-bf12-3b85a832c866",
   "metadata": {},
   "outputs": [],
   "source": [
    "ccf.CCFBrainRegion.load_regions()\n",
    "ccf.AnnotatedBrainSurface.load_matlab_mesh('Annotation_new_10_ds222_16bit_isosurf.mat')"
   ]
  },
  {
   "cell_type": "code",
   "execution_count": null,
   "id": "87ac03d4-36a2-47d0-80cc-365cb15c6fa2",
   "metadata": {},
   "outputs": [],
   "source": [
    "ccf.CCFAnnotation.load_ccf_annotation()"
   ]
  },
  {
   "cell_type": "markdown",
   "id": "e3dc0659-373c-4dc0-86c7-758163b858db",
   "metadata": {},
   "source": [
    "Total length in the main pipeline = 63265854"
   ]
  },
  {
   "cell_type": "code",
   "execution_count": 4,
   "id": "1faebe55-2f80-42c0-813c-4c6b5ea9b59b",
   "metadata": {},
   "outputs": [
    {
     "data": {
      "text/plain": [
       "63265854"
      ]
     },
     "execution_count": 4,
     "metadata": {},
     "output_type": "execute_result"
    }
   ],
   "source": [
    "len(ccf.CCFAnnotation())"
   ]
  },
  {
   "cell_type": "markdown",
   "id": "e80d08c5-f101-4760-8323-8cc5e928c9ff",
   "metadata": {},
   "source": [
    "Finally done!!"
   ]
  },
  {
   "cell_type": "markdown",
   "id": "0a066a12-8914-4eb3-9544-318066b6ee01",
   "metadata": {},
   "source": [
    "## CCFAnnotation"
   ]
  },
  {
   "cell_type": "markdown",
   "id": "ab124de4-0c31-4d73-9237-258d12908060",
   "metadata": {},
   "source": [
    "Check histology"
   ]
  },
  {
   "cell_type": "code",
   "execution_count": 8,
   "id": "a1e71b63-4d62-4aea-9878-8349e27d6054",
   "metadata": {},
   "outputs": [
    {
     "data": {
      "text/html": [
       "\n",
       "    \n",
       "    <style type=\"text/css\">\n",
       "        .Relation{\n",
       "            border-collapse:collapse;\n",
       "        }\n",
       "        .Relation th{\n",
       "            background: #A0A0A0; color: #ffffff; padding:4px; border:#f0e0e0 1px solid;\n",
       "            font-weight: normal; font-family: monospace; font-size: 100%;\n",
       "        }\n",
       "        .Relation td{\n",
       "            padding:4px; border:#f0e0e0 1px solid; font-size:100%;\n",
       "        }\n",
       "        .Relation tr:nth-child(odd){\n",
       "            background: #ffffff;\n",
       "        }\n",
       "        .Relation tr:nth-child(even){\n",
       "            background: #f3f1ff;\n",
       "        }\n",
       "        /* Tooltip container */\n",
       "        .djtooltip {\n",
       "        }\n",
       "        /* Tooltip text */\n",
       "        .djtooltip .djtooltiptext {\n",
       "            visibility: hidden;\n",
       "            width: 120px;\n",
       "            background-color: black;\n",
       "            color: #fff;\n",
       "            text-align: center;\n",
       "            padding: 5px 0;\n",
       "            border-radius: 6px;\n",
       "            /* Position the tooltip text - see examples below! */\n",
       "            position: absolute;\n",
       "            z-index: 1;\n",
       "        }\n",
       "        #primary {\n",
       "            font-weight: bold;\n",
       "            color: black;\n",
       "        }\n",
       "        #nonprimary {\n",
       "            font-weight: normal;\n",
       "            color: white;\n",
       "        }\n",
       "\n",
       "        /* Show the tooltip text when you mouse over the tooltip container */\n",
       "        .djtooltip:hover .djtooltiptext {\n",
       "            visibility: visible;\n",
       "        }\n",
       "    </style>\n",
       "    \n",
       "    \n",
       "        <div style=\"max-height:1000px;max-width:1500px;overflow:auto;\">\n",
       "        <table border=\"1\" class=\"Relation\">\n",
       "            <thead> <tr style=\"text-align: right;\"> <th> <div class=\"djtooltip\">\n",
       "                            <p id=\"primary\">subject_id</p>\n",
       "                            <span class=\"djtooltiptext\">institution 6 digit animal ID</span>\n",
       "                        </div></th><th><div class=\"djtooltip\">\n",
       "                            <p id=\"primary\">session</p>\n",
       "                            <span class=\"djtooltiptext\">session number</span>\n",
       "                        </div></th><th><div class=\"djtooltip\">\n",
       "                            <p id=\"nonprimary\">session_date</p>\n",
       "                            <span class=\"djtooltiptext\"></span>\n",
       "                        </div></th><th><div class=\"djtooltip\">\n",
       "                            <p id=\"nonprimary\">session_time</p>\n",
       "                            <span class=\"djtooltiptext\"></span>\n",
       "                        </div></th><th><div class=\"djtooltip\">\n",
       "                            <p id=\"nonprimary\">username</p>\n",
       "                            <span class=\"djtooltiptext\"></span>\n",
       "                        </div></th><th><div class=\"djtooltip\">\n",
       "                            <p id=\"nonprimary\">rig</p>\n",
       "                            <span class=\"djtooltiptext\"></span>\n",
       "                        </div></th><th><div class=\"djtooltip\">\n",
       "                            <p id=\"nonprimary\">water_restriction_number</p>\n",
       "                            <span class=\"djtooltiptext\">WR number</span>\n",
       "                        </div> </th> </tr> </thead>\n",
       "            <tbody> <tr> <td>473361</td>\n",
       "<td>46</td>\n",
       "<td>2021-04-16</td>\n",
       "<td>0:01:12</td>\n",
       "<td>HH</td>\n",
       "<td>Ephys-Han</td>\n",
       "<td>HH09</td></tr><tr><td>473361</td>\n",
       "<td>47</td>\n",
       "<td>2021-04-18</td>\n",
       "<td>23:00:03</td>\n",
       "<td>HH</td>\n",
       "<td>Ephys-Han</td>\n",
       "<td>HH09</td></tr><tr><td>473361</td>\n",
       "<td>48</td>\n",
       "<td>2021-04-19</td>\n",
       "<td>21:53:49</td>\n",
       "<td>HH</td>\n",
       "<td>Ephys-Han</td>\n",
       "<td>HH09</td></tr><tr><td>473361</td>\n",
       "<td>50</td>\n",
       "<td>2021-04-29</td>\n",
       "<td>17:58:45</td>\n",
       "<td>HH</td>\n",
       "<td>Ephys-Han</td>\n",
       "<td>HH09</td></tr><tr><td>473361</td>\n",
       "<td>57</td>\n",
       "<td>2021-06-09</td>\n",
       "<td>16:28:15</td>\n",
       "<td>HH</td>\n",
       "<td>Ephys-Han</td>\n",
       "<td>HH09</td></tr><tr><td>473361</td>\n",
       "<td>58</td>\n",
       "<td>2021-06-11</td>\n",
       "<td>15:32:12</td>\n",
       "<td>HH</td>\n",
       "<td>Ephys-Han</td>\n",
       "<td>HH09</td></tr><tr><td>473361</td>\n",
       "<td>59</td>\n",
       "<td>2021-06-12</td>\n",
       "<td>14:18:29</td>\n",
       "<td>HH</td>\n",
       "<td>Ephys-Han</td>\n",
       "<td>HH09</td></tr><tr><td>473361</td>\n",
       "<td>60</td>\n",
       "<td>2021-06-13</td>\n",
       "<td>20:27:10</td>\n",
       "<td>HH</td>\n",
       "<td>Ephys-Han</td>\n",
       "<td>HH09</td></tr><tr><td>473361</td>\n",
       "<td>61</td>\n",
       "<td>2021-06-14</td>\n",
       "<td>20:07:51</td>\n",
       "<td>HH</td>\n",
       "<td>Ephys-Han</td>\n",
       "<td>HH09</td> </tr> </tbody>\n",
       "        </table>\n",
       "        \n",
       "        <p>Total: 9</p></div>\n",
       "        "
      ],
      "text/plain": [
       "*subject_id    *session    session_date     session_time     username     rig           water_restriction_number    \n",
       "+------------+ +---------+ +--------------+ +--------------+ +----------+ +-----------+ +--------------------------+\n",
       "473361         46          2021-04-16       0:01:12          HH           Ephys-Han     HH09                        \n",
       "473361         47          2021-04-18       23:00:03         HH           Ephys-Han     HH09                        \n",
       "473361         48          2021-04-19       21:53:49         HH           Ephys-Han     HH09                        \n",
       "473361         50          2021-04-29       17:58:45         HH           Ephys-Han     HH09                        \n",
       "473361         57          2021-06-09       16:28:15         HH           Ephys-Han     HH09                        \n",
       "473361         58          2021-06-11       15:32:12         HH           Ephys-Han     HH09                        \n",
       "473361         59          2021-06-12       14:18:29         HH           Ephys-Han     HH09                        \n",
       "473361         60          2021-06-13       20:27:10         HH           Ephys-Han     HH09                        \n",
       "473361         61          2021-06-14       20:07:51         HH           Ephys-Han     HH09                        \n",
       " (Total: 9)"
      ]
     },
     "execution_count": 8,
     "metadata": {},
     "output_type": "execute_result"
    }
   ],
   "source": [
    "(experiment.Session & histology.ElectrodeCCFPosition) * (lab.WaterRestriction.proj('water_restriction_number'))"
   ]
  },
  {
   "cell_type": "markdown",
   "id": "cad05f01-fc0e-426d-9e71-029dceb3e04d",
   "metadata": {},
   "source": [
    "Do ingestion"
   ]
  },
  {
   "cell_type": "code",
   "execution_count": null,
   "id": "a70bd69a-19f2-4735-b207-132d077400a3",
   "metadata": {},
   "outputs": [],
   "source": [
    "shell.ingest_histology()"
   ]
  },
  {
   "cell_type": "markdown",
   "id": "73a18728-a0d2-4b29-bed6-4e9191b18007",
   "metadata": {},
   "source": [
    "Check all of the brains assigned to me (sessions that have histology)"
   ]
  },
  {
   "cell_type": "code",
   "execution_count": 9,
   "id": "8b8389f7-8a63-48a7-bc0d-d5e7bf0d69fe",
   "metadata": {},
   "outputs": [],
   "source": [
    "my_assigned_brains = 'water_restriction_number in (\"HH09\")'\n",
    "my_registered_sessions = experiment.Session * lab.WaterRestriction.proj('water_restriction_number') & histology.ElectrodeCCFPosition & my_assigned_brains"
   ]
  },
  {
   "cell_type": "code",
   "execution_count": 11,
   "id": "b6e4606a-f882-4f73-a048-2fffa727f7ce",
   "metadata": {},
   "outputs": [
    {
     "data": {
      "image/png": "[encoded data removed]",
      "text/plain": [
       "<Figure size 748.8x514.8 with 1 Axes>"
      ]
     },
     "metadata": {
      "needs_background": "light"
     },
     "output_type": "display_data"
    }
   ],
   "source": [
    "from pipeline.plot import histology_plot\n",
    "histology_plot.plot_probe_tracks(my_registered_sessions);"
   ]
  },
  {
   "cell_type": "markdown",
   "id": "a52cb00f-46dd-4ebc-ade8-9de12eac0e97",
   "metadata": {},
   "source": [
    "Check insertions that do **NOT** have histology"
   ]
  },
  {
   "cell_type": "code",
   "execution_count": 12,
   "id": "e41556bf-7f7b-4873-8ee0-a4cf304eb779",
   "metadata": {},
   "outputs": [
    {
     "name": "stdout",
     "output_type": "stream",
     "text": [
      "All insertions assigned to me: 18\n"
     ]
    },
    {
     "data": {
      "text/html": [
       "\n",
       "    \n",
       "    <style type=\"text/css\">\n",
       "        .Relation{\n",
       "            border-collapse:collapse;\n",
       "        }\n",
       "        .Relation th{\n",
       "            background: #A0A0A0; color: #ffffff; padding:4px; border:#f0e0e0 1px solid;\n",
       "            font-weight: normal; font-family: monospace; font-size: 100%;\n",
       "        }\n",
       "        .Relation td{\n",
       "            padding:4px; border:#f0e0e0 1px solid; font-size:100%;\n",
       "        }\n",
       "        .Relation tr:nth-child(odd){\n",
       "            background: #ffffff;\n",
       "        }\n",
       "        .Relation tr:nth-child(even){\n",
       "            background: #f3f1ff;\n",
       "        }\n",
       "        /* Tooltip container */\n",
       "        .djtooltip {\n",
       "        }\n",
       "        /* Tooltip text */\n",
       "        .djtooltip .djtooltiptext {\n",
       "            visibility: hidden;\n",
       "            width: 120px;\n",
       "            background-color: black;\n",
       "            color: #fff;\n",
       "            text-align: center;\n",
       "            padding: 5px 0;\n",
       "            border-radius: 6px;\n",
       "            /* Position the tooltip text - see examples below! */\n",
       "            position: absolute;\n",
       "            z-index: 1;\n",
       "        }\n",
       "        #primary {\n",
       "            font-weight: bold;\n",
       "            color: black;\n",
       "        }\n",
       "        #nonprimary {\n",
       "            font-weight: normal;\n",
       "            color: white;\n",
       "        }\n",
       "\n",
       "        /* Show the tooltip text when you mouse over the tooltip container */\n",
       "        .djtooltip:hover .djtooltiptext {\n",
       "            visibility: visible;\n",
       "        }\n",
       "    </style>\n",
       "    \n",
       "    \n",
       "        <div style=\"max-height:1000px;max-width:1500px;overflow:auto;\">\n",
       "        <table border=\"1\" class=\"Relation\">\n",
       "            <thead> <tr style=\"text-align: right;\"> <th> <div class=\"djtooltip\">\n",
       "                            <p id=\"primary\">subject_id</p>\n",
       "                            <span class=\"djtooltiptext\">institution 6 digit animal ID</span>\n",
       "                        </div></th><th><div class=\"djtooltip\">\n",
       "                            <p id=\"primary\">session</p>\n",
       "                            <span class=\"djtooltiptext\">session number</span>\n",
       "                        </div></th><th><div class=\"djtooltip\">\n",
       "                            <p id=\"primary\">insertion_number</p>\n",
       "                            <span class=\"djtooltiptext\"></span>\n",
       "                        </div></th><th><div class=\"djtooltip\">\n",
       "                            <p id=\"nonprimary\">probe</p>\n",
       "                            <span class=\"djtooltiptext\">unique identifier for this model of probe (e.g. part number)</span>\n",
       "                        </div></th><th><div class=\"djtooltip\">\n",
       "                            <p id=\"nonprimary\">probe_type</p>\n",
       "                            <span class=\"djtooltiptext\">e.g. neuropixels_1.0</span>\n",
       "                        </div></th><th><div class=\"djtooltip\">\n",
       "                            <p id=\"nonprimary\">electrode_config_name</p>\n",
       "                            <span class=\"djtooltiptext\">user friendly name</span>\n",
       "                        </div></th><th><div class=\"djtooltip\">\n",
       "                            <p id=\"nonprimary\">session_date</p>\n",
       "                            <span class=\"djtooltiptext\"></span>\n",
       "                        </div></th><th><div class=\"djtooltip\">\n",
       "                            <p id=\"nonprimary\">session_time</p>\n",
       "                            <span class=\"djtooltiptext\"></span>\n",
       "                        </div></th><th><div class=\"djtooltip\">\n",
       "                            <p id=\"nonprimary\">username</p>\n",
       "                            <span class=\"djtooltiptext\"></span>\n",
       "                        </div></th><th><div class=\"djtooltip\">\n",
       "                            <p id=\"nonprimary\">rig</p>\n",
       "                            <span class=\"djtooltiptext\"></span>\n",
       "                        </div></th><th><div class=\"djtooltip\">\n",
       "                            <p id=\"nonprimary\">water_restriction_number</p>\n",
       "                            <span class=\"djtooltiptext\">WR number</span>\n",
       "                        </div> </th> </tr> </thead>\n",
       "            <tbody> <tr> <td>473361</td>\n",
       "<td>42</td>\n",
       "<td>1</td>\n",
       "<td>17131309211</td>\n",
       "<td>neuropixels 1.0 - 3B</td>\n",
       "<td>1-384</td>\n",
       "<td>2021-04-06</td>\n",
       "<td>4:49:48</td>\n",
       "<td>HH</td>\n",
       "<td>Ephys-Han</td>\n",
       "<td>HH09</td></tr><tr><td>473361</td>\n",
       "<td>46</td>\n",
       "<td>2</td>\n",
       "<td>18005123491</td>\n",
       "<td>neuropixels 1.0 - 3B</td>\n",
       "<td>1-384</td>\n",
       "<td>2021-04-16</td>\n",
       "<td>0:01:12</td>\n",
       "<td>HH</td>\n",
       "<td>Ephys-Han</td>\n",
       "<td>HH09</td> </tr> </tbody>\n",
       "        </table>\n",
       "        \n",
       "        <p>Total: 2</p></div>\n",
       "        "
      ],
      "text/plain": [
       "*subject_id    *session    *insertion_number    probe           probe_type               electrode_config_name     session_date     session_time     username     rig           water_restriction_number    \n",
       "+------------+ +---------+ +------------------+ +-------------+ +----------------------+ +-----------------------+ +--------------+ +--------------+ +----------+ +-----------+ +--------------------------+\n",
       "473361         42          1                    17131309211     neuropixels 1.0 - 3B     1-384                     2021-04-06       4:49:48          HH           Ephys-Han     HH09                        \n",
       "473361         46          2                    18005123491     neuropixels 1.0 - 3B     1-384                     2021-04-16       0:01:12          HH           Ephys-Han     HH09                        \n",
       " (Total: 2)"
      ]
     },
     "execution_count": 12,
     "metadata": {},
     "output_type": "execute_result"
    }
   ],
   "source": [
    "my_assigned_brains = lab.WaterRestriction.proj('water_restriction_number') & 'water_restriction_number in (\"HH09\")'\n",
    "my_assigned_insertions = ephys.ProbeInsertion * experiment.Session  * my_assigned_brains\n",
    "print(f'All insertions assigned to me: {len(my_assigned_insertions)}')\n",
    "my_assigned_insertions - histology.ElectrodeCCFPosition"
   ]
  },
  {
   "cell_type": "markdown",
   "id": "312783d4-1a8b-4bf7-b631-42332b90c1c5",
   "metadata": {},
   "source": [
    "Show all recorded areas"
   ]
  },
  {
   "cell_type": "code",
   "execution_count": 3,
   "id": "feb7865f-8fac-434f-b07b-165e5f1828b2",
   "metadata": {},
   "outputs": [
    {
     "data": {
      "text/html": [
       "<div>\n",
       "<style scoped>\n",
       "    .dataframe tbody tr th:only-of-type {\n",
       "        vertical-align: middle;\n",
       "    }\n",
       "\n",
       "    .dataframe tbody tr th {\n",
       "        vertical-align: top;\n",
       "    }\n",
       "\n",
       "    .dataframe thead th {\n",
       "        text-align: right;\n",
       "    }\n",
       "</style>\n",
       "<table border=\"1\" class=\"dataframe\">\n",
       "  <thead>\n",
       "    <tr style=\"text-align: right;\">\n",
       "      <th></th>\n",
       "      <th>count</th>\n",
       "    </tr>\n",
       "    <tr>\n",
       "      <th>annotation</th>\n",
       "      <th></th>\n",
       "    </tr>\n",
       "  </thead>\n",
       "  <tbody>\n",
       "    <tr>\n",
       "      <th>Secondary motor area, layer 6a</th>\n",
       "      <td>723</td>\n",
       "    </tr>\n",
       "    <tr>\n",
       "      <th>Anterior olfactory nucleus</th>\n",
       "      <td>564</td>\n",
       "    </tr>\n",
       "    <tr>\n",
       "      <th>Mediodorsal nucleus of thalamus</th>\n",
       "      <td>464</td>\n",
       "    </tr>\n",
       "    <tr>\n",
       "      <th>Secondary motor area, layer 5</th>\n",
       "      <td>422</td>\n",
       "    </tr>\n",
       "    <tr>\n",
       "      <th>Orbital area, medial part, layer 5</th>\n",
       "      <td>417</td>\n",
       "    </tr>\n",
       "    <tr>\n",
       "      <th>Prelimbic area, layer 5</th>\n",
       "      <td>396</td>\n",
       "    </tr>\n",
       "    <tr>\n",
       "      <th>Caudoputamen</th>\n",
       "      <td>391</td>\n",
       "    </tr>\n",
       "    <tr>\n",
       "      <th>Orbital area, ventrolateral part, layer 5</th>\n",
       "      <td>259</td>\n",
       "    </tr>\n",
       "    <tr>\n",
       "      <th>Posterior complex of the thalamus</th>\n",
       "      <td>238</td>\n",
       "    </tr>\n",
       "    <tr>\n",
       "      <th>Retrosplenial area, ventral part, layer 5</th>\n",
       "      <td>198</td>\n",
       "    </tr>\n",
       "    <tr>\n",
       "      <th>Taenia tecta, ventral part</th>\n",
       "      <td>178</td>\n",
       "    </tr>\n",
       "    <tr>\n",
       "      <th>Nucleus accumbens</th>\n",
       "      <td>164</td>\n",
       "    </tr>\n",
       "    <tr>\n",
       "      <th>Anterior cingulate area, dorsal part, layer 5</th>\n",
       "      <td>145</td>\n",
       "    </tr>\n",
       "    <tr>\n",
       "      <th>Midbrain reticular nucleus</th>\n",
       "      <td>145</td>\n",
       "    </tr>\n",
       "    <tr>\n",
       "      <th>Dorsal peduncular area</th>\n",
       "      <td>141</td>\n",
       "    </tr>\n",
       "    <tr>\n",
       "      <th>Substantia innominata</th>\n",
       "      <td>131</td>\n",
       "    </tr>\n",
       "    <tr>\n",
       "      <th>Prelimbic area, layer 6a</th>\n",
       "      <td>128</td>\n",
       "    </tr>\n",
       "    <tr>\n",
       "      <th>Taenia tecta, dorsal part</th>\n",
       "      <td>122</td>\n",
       "    </tr>\n",
       "    <tr>\n",
       "      <th>Lateral preoptic area</th>\n",
       "      <td>122</td>\n",
       "    </tr>\n",
       "    <tr>\n",
       "      <th>Orbital area, ventrolateral part, layer 2/3</th>\n",
       "      <td>121</td>\n",
       "    </tr>\n",
       "    <tr>\n",
       "      <th>Orbital area, lateral part, layer 5</th>\n",
       "      <td>119</td>\n",
       "    </tr>\n",
       "    <tr>\n",
       "      <th>Ventral medial nucleus of the thalamus</th>\n",
       "      <td>116</td>\n",
       "    </tr>\n",
       "    <tr>\n",
       "      <th>Central lateral nucleus of the thalamus</th>\n",
       "      <td>108</td>\n",
       "    </tr>\n",
       "    <tr>\n",
       "      <th>Field CA1</th>\n",
       "      <td>95</td>\n",
       "    </tr>\n",
       "    <tr>\n",
       "      <th>Submedial nucleus of the thalamus</th>\n",
       "      <td>89</td>\n",
       "    </tr>\n",
       "    <tr>\n",
       "      <th>Orbital area, medial part, layer 6a</th>\n",
       "      <td>86</td>\n",
       "    </tr>\n",
       "    <tr>\n",
       "      <th>Olfactory areas</th>\n",
       "      <td>83</td>\n",
       "    </tr>\n",
       "    <tr>\n",
       "      <th>Dentate gyrus, molecular layer</th>\n",
       "      <td>83</td>\n",
       "    </tr>\n",
       "    <tr>\n",
       "      <th>Globus pallidus, external segment</th>\n",
       "      <td>79</td>\n",
       "    </tr>\n",
       "    <tr>\n",
       "      <th>medial lemniscus</th>\n",
       "      <td>68</td>\n",
       "    </tr>\n",
       "  </tbody>\n",
       "</table>\n",
       "</div>"
      ],
      "text/plain": [
       "                                              count\n",
       "annotation                                         \n",
       "Secondary motor area, layer 6a                  723\n",
       "Anterior olfactory nucleus                      564\n",
       "Mediodorsal nucleus of thalamus                 464\n",
       "Secondary motor area, layer 5                   422\n",
       "Orbital area, medial part, layer 5              417\n",
       "Prelimbic area, layer 5                         396\n",
       "Caudoputamen                                    391\n",
       "Orbital area, ventrolateral part, layer 5       259\n",
       "Posterior complex of the thalamus               238\n",
       "Retrosplenial area, ventral part, layer 5       198\n",
       "Taenia tecta, ventral part                      178\n",
       "Nucleus accumbens                               164\n",
       "Anterior cingulate area, dorsal part, layer 5   145\n",
       "Midbrain reticular nucleus                      145\n",
       "Dorsal peduncular area                          141\n",
       "Substantia innominata                           131\n",
       "Prelimbic area, layer 6a                        128\n",
       "Taenia tecta, dorsal part                       122\n",
       "Lateral preoptic area                           122\n",
       "Orbital area, ventrolateral part, layer 2/3     121\n",
       "Orbital area, lateral part, layer 5             119\n",
       "Ventral medial nucleus of the thalamus          116\n",
       "Central lateral nucleus of the thalamus         108\n",
       "Field CA1                                        95\n",
       "Submedial nucleus of the thalamus                89\n",
       "Orbital area, medial part, layer 6a              86\n",
       "Olfactory areas                                  83\n",
       "Dentate gyrus, molecular layer                   83\n",
       "Globus pallidus, external segment                79\n",
       "medial lemniscus                                 68"
      ]
     },
     "execution_count": 3,
     "metadata": {},
     "output_type": "execute_result"
    }
   ],
   "source": [
    "dj.U('annotation').aggr((ephys.Unit * histology.ElectrodeCCFPosition.ElectrodePosition) * ccf.CCFAnnotation, count='count(*)').fetch(format='frame', order_by='count desc')[:30]"
   ]
  },
  {
   "cell_type": "markdown",
   "id": "dde7ced6-b21c-46a2-81f1-18cef37db821",
   "metadata": {},
   "source": [
    "After stringent QC"
   ]
  },
  {
   "cell_type": "code",
   "execution_count": 9,
   "id": "bfd2d58a-f5f7-4642-9363-4cbb71aaa592",
   "metadata": {},
   "outputs": [
    {
     "data": {
      "text/html": [
       "<div>\n",
       "<style scoped>\n",
       "    .dataframe tbody tr th:only-of-type {\n",
       "        vertical-align: middle;\n",
       "    }\n",
       "\n",
       "    .dataframe tbody tr th {\n",
       "        vertical-align: top;\n",
       "    }\n",
       "\n",
       "    .dataframe thead th {\n",
       "        text-align: right;\n",
       "    }\n",
       "</style>\n",
       "<table border=\"1\" class=\"dataframe\">\n",
       "  <thead>\n",
       "    <tr style=\"text-align: right;\">\n",
       "      <th></th>\n",
       "      <th>count</th>\n",
       "    </tr>\n",
       "    <tr>\n",
       "      <th>annotation</th>\n",
       "      <th></th>\n",
       "    </tr>\n",
       "  </thead>\n",
       "  <tbody>\n",
       "    <tr>\n",
       "      <th>Secondary motor area, layer 6a</th>\n",
       "      <td>47</td>\n",
       "    </tr>\n",
       "    <tr>\n",
       "      <th>Anterior olfactory nucleus</th>\n",
       "      <td>36</td>\n",
       "    </tr>\n",
       "    <tr>\n",
       "      <th>Mediodorsal nucleus of thalamus</th>\n",
       "      <td>33</td>\n",
       "    </tr>\n",
       "    <tr>\n",
       "      <th>Secondary motor area, layer 5</th>\n",
       "      <td>28</td>\n",
       "    </tr>\n",
       "    <tr>\n",
       "      <th>Dorsal peduncular area</th>\n",
       "      <td>24</td>\n",
       "    </tr>\n",
       "    <tr>\n",
       "      <th>Caudoputamen</th>\n",
       "      <td>22</td>\n",
       "    </tr>\n",
       "    <tr>\n",
       "      <th>Orbital area, ventrolateral part, layer 5</th>\n",
       "      <td>21</td>\n",
       "    </tr>\n",
       "    <tr>\n",
       "      <th>Orbital area, ventrolateral part, layer 2/3</th>\n",
       "      <td>19</td>\n",
       "    </tr>\n",
       "    <tr>\n",
       "      <th>Retrosplenial area, ventral part, layer 5</th>\n",
       "      <td>18</td>\n",
       "    </tr>\n",
       "    <tr>\n",
       "      <th>Field CA1</th>\n",
       "      <td>15</td>\n",
       "    </tr>\n",
       "    <tr>\n",
       "      <th>Olfactory areas</th>\n",
       "      <td>14</td>\n",
       "    </tr>\n",
       "    <tr>\n",
       "      <th>Orbital area, lateral part, layer 5</th>\n",
       "      <td>13</td>\n",
       "    </tr>\n",
       "    <tr>\n",
       "      <th>Posterior complex of the thalamus</th>\n",
       "      <td>13</td>\n",
       "    </tr>\n",
       "    <tr>\n",
       "      <th>medial lemniscus</th>\n",
       "      <td>13</td>\n",
       "    </tr>\n",
       "    <tr>\n",
       "      <th>Orbital area, medial part, layer 5</th>\n",
       "      <td>13</td>\n",
       "    </tr>\n",
       "    <tr>\n",
       "      <th>Lateral preoptic area</th>\n",
       "      <td>12</td>\n",
       "    </tr>\n",
       "    <tr>\n",
       "      <th>Globus pallidus, external segment</th>\n",
       "      <td>12</td>\n",
       "    </tr>\n",
       "    <tr>\n",
       "      <th>Substantia innominata</th>\n",
       "      <td>11</td>\n",
       "    </tr>\n",
       "    <tr>\n",
       "      <th>Dentate gyrus, molecular layer</th>\n",
       "      <td>11</td>\n",
       "    </tr>\n",
       "    <tr>\n",
       "      <th>Anterior cingulate area, dorsal part, layer 5</th>\n",
       "      <td>11</td>\n",
       "    </tr>\n",
       "    <tr>\n",
       "      <th>Submedial nucleus of the thalamus</th>\n",
       "      <td>11</td>\n",
       "    </tr>\n",
       "    <tr>\n",
       "      <th>Taenia tecta, dorsal part</th>\n",
       "      <td>10</td>\n",
       "    </tr>\n",
       "    <tr>\n",
       "      <th>Prelimbic area, layer 5</th>\n",
       "      <td>9</td>\n",
       "    </tr>\n",
       "    <tr>\n",
       "      <th>Anterior pretectal nucleus</th>\n",
       "      <td>8</td>\n",
       "    </tr>\n",
       "    <tr>\n",
       "      <th>Taenia tecta, ventral part</th>\n",
       "      <td>7</td>\n",
       "    </tr>\n",
       "    <tr>\n",
       "      <th>Nucleus accumbens</th>\n",
       "      <td>7</td>\n",
       "    </tr>\n",
       "    <tr>\n",
       "      <th>Midbrain reticular nucleus</th>\n",
       "      <td>7</td>\n",
       "    </tr>\n",
       "    <tr>\n",
       "      <th>Hypothalamus</th>\n",
       "      <td>7</td>\n",
       "    </tr>\n",
       "    <tr>\n",
       "      <th>Central lateral nucleus of the thalamus</th>\n",
       "      <td>6</td>\n",
       "    </tr>\n",
       "    <tr>\n",
       "      <th>Retrosplenial area, ventral part, layer 1</th>\n",
       "      <td>6</td>\n",
       "    </tr>\n",
       "  </tbody>\n",
       "</table>\n",
       "</div>"
      ],
      "text/plain": [
       "                                              count\n",
       "annotation                                         \n",
       "Secondary motor area, layer 6a                   47\n",
       "Anterior olfactory nucleus                       36\n",
       "Mediodorsal nucleus of thalamus                  33\n",
       "Secondary motor area, layer 5                    28\n",
       "Dorsal peduncular area                           24\n",
       "Caudoputamen                                     22\n",
       "Orbital area, ventrolateral part, layer 5        21\n",
       "Orbital area, ventrolateral part, layer 2/3      19\n",
       "Retrosplenial area, ventral part, layer 5        18\n",
       "Field CA1                                        15\n",
       "Olfactory areas                                  14\n",
       "Orbital area, lateral part, layer 5              13\n",
       "Posterior complex of the thalamus                13\n",
       "medial lemniscus                                 13\n",
       "Orbital area, medial part, layer 5               13\n",
       "Lateral preoptic area                            12\n",
       "Globus pallidus, external segment                12\n",
       "Substantia innominata                            11\n",
       "Dentate gyrus, molecular layer                   11\n",
       "Anterior cingulate area, dorsal part, layer 5    11\n",
       "Submedial nucleus of the thalamus                11\n",
       "Taenia tecta, dorsal part                        10\n",
       "Prelimbic area, layer 5                           9\n",
       "Anterior pretectal nucleus                        8\n",
       "Taenia tecta, ventral part                        7\n",
       "Nucleus accumbens                                 7\n",
       "Midbrain reticular nucleus                        7\n",
       "Hypothalamus                                      7\n",
       "Central lateral nucleus of the thalamus           6\n",
       "Retrosplenial area, ventral part, layer 1         6"
      ]
     },
     "execution_count": 9,
     "metadata": {},
     "output_type": "execute_result"
    }
   ],
   "source": [
    "qc = (ephys.Unit * ephys.ClusterMetric * ephys.UnitStat * ephys.MAPClusterMetric.DriftMetric) & 'presence_ratio > 0.95' & 'amplitude_cutoff < 0.1' & 'isi_violation < 0.5' & 'unit_amp > 70' & 'drift_metric < 0.1'\n",
    "dj.U('annotation').aggr(((ephys.Unit & qc.proj()) * histology.ElectrodeCCFPosition.ElectrodePosition) * ccf.CCFAnnotation, count='count(*)').fetch(format='frame', order_by='count desc')[:30]"
   ]
  },
  {
   "cell_type": "markdown",
   "id": "ab606f2e",
   "metadata": {},
   "source": [
    "# Trial Number issue"
   ]
  },
  {
   "cell_type": "markdown",
   "id": "cb4013c3",
   "metadata": {},
   "source": [
    "Retrieve the original bpod files for a certain session."
   ]
  },
  {
   "cell_type": "code",
   "execution_count": null,
   "id": "5a11d369",
   "metadata": {},
   "outputs": [],
   "source": [
    "from pipeline.ingest.behavior import BehaviorBpodIngest\n",
    "BehaviorBpodIngest.BehaviorFile() * experiment.Session() * lab.WaterRestriction.proj('water_restriction_number') & 'session_date = \"2021-04-18\"'"
   ]
  },
  {
   "cell_type": "markdown",
   "id": "e56f219c",
   "metadata": {},
   "source": [
    "The potential bug of having the same bitcode because of the fixed rand seed."
   ]
  },
  {
   "cell_type": "code",
   "execution_count": null,
   "id": "6fbfb4b4",
   "metadata": {},
   "outputs": [],
   "source": [
    "experiment.TrialNote & 'trial_note = \"01000110111010000110\"'"
   ]
  },
  {
   "cell_type": "code",
   "execution_count": null,
   "id": "0dcb346f",
   "metadata": {},
   "outputs": [],
   "source": [
    "dj.ERD(ephys)"
   ]
  },
  {
   "cell_type": "markdown",
   "id": "06b000ec-0a3f-4f2a-84cd-108b432e5479",
   "metadata": {},
   "source": [
    "# Timing issue"
   ]
  },
  {
   "cell_type": "code",
   "execution_count": null,
   "id": "924d8e50-25ab-4a15-8252-662c555e0d19",
   "metadata": {},
   "outputs": [],
   "source": [
    "from pipeline.ingest.util import compare_ni_and_bpod_times"
   ]
  },
  {
   "cell_type": "code",
   "execution_count": null,
   "id": "26abb3e2-6bc6-4d22-82a9-612685b5d868",
   "metadata": {},
   "outputs": [],
   "source": [
    "compare_ni_and_bpod_times()"
   ]
  },
  {
   "cell_type": "markdown",
   "id": "4bd58243",
   "metadata": {},
   "source": [
    "# Code cache"
   ]
  },
  {
   "cell_type": "code",
   "execution_count": null,
   "id": "07638e23",
   "metadata": {},
   "outputs": [],
   "source": [
    "experiment.Session & 'session = 35' & 'subject_id = 473361'"
   ]
  },
  {
   "cell_type": "code",
   "execution_count": null,
   "id": "cb0abdef",
   "metadata": {},
   "outputs": [],
   "source": [
    "experiment.TrialEvent()\n"
   ]
  },
  {
   "cell_type": "code",
   "execution_count": null,
   "id": "9a7f3a15",
   "metadata": {},
   "outputs": [],
   "source": [
    "behavior_ingest.BehaviorBpodIngest.BehaviorFile.key_source()"
   ]
  },
  {
   "cell_type": "markdown",
   "id": "4b4aea4f",
   "metadata": {
    "pycharm": {
     "name": "#%% md\n"
    }
   },
   "source": [
    "Histology ingest"
   ]
  },
  {
   "cell_type": "code",
   "execution_count": null,
   "id": "295a0374",
   "metadata": {
    "collapsed": false,
    "jupyter": {
     "outputs_hidden": false
    },
    "pycharm": {
     "name": "#%%\n"
    }
   },
   "outputs": [],
   "source": [
    "(histology.ElectrodeCCFPosition * experiment.Session) & \\\n",
    "(lab.WaterRestriction  & 'water_restriction_number = \"SC045\"')"
   ]
  },
  {
   "cell_type": "code",
   "execution_count": null,
   "id": "ab632067",
   "metadata": {
    "collapsed": false,
    "jupyter": {
     "outputs_hidden": false
    },
    "pycharm": {
     "name": "#%%\n"
    }
   },
   "outputs": [],
   "source": [
    "(histology.ElectrodeCCFPosition * experiment.Session) & \\\n",
    "(lab.WaterRestriction  & 'water_restriction_number = \"SC050\"')"
   ]
  }
 ],
 "metadata": {
  "kernelspec": {
   "display_name": "pipeline",
   "language": "python",
   "name": "pipeline"
  },
  "language_info": {
   "codemirror_mode": {
    "name": "ipython",
    "version": 3
   },
   "file_extension": ".py",
   "mimetype": "text/x-python",
   "name": "python",
   "nbconvert_exporter": "python",
   "pygments_lexer": "ipython3",
   "version": "3.9.5"
  },
  "toc-autonumbering": true,
  "toc-showcode": false,
  "toc-showmarkdowntxt": false,
  "toc-showtags": true
 },
 "nbformat": 4,
 "nbformat_minor": 5
}
