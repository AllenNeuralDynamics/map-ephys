{
 "cells": [
  {
   "cell_type": "code",
   "execution_count": 1,
   "id": "1e2af4d4-f9f5-4d2d-ae71-99981008c2a4",
   "metadata": {},
   "outputs": [
    {
     "name": "stdout",
     "output_type": "stream",
     "text": [
      "Connecting hanhou@datajoint.mesoscale-activity-map.org:3306\n"
     ]
    }
   ],
   "source": [
    "%load_ext autoreload\n",
    "%autoreload 2\n",
    "import datajoint as dj\n",
    "import numpy as np\n",
    "import matplotlib.pyplot as plt\n",
    "plt.rcParams.update({'font.size': 20})\n",
    "from pipeline import lab, get_schema_name, experiment, foraging_model, ephys, foraging_analysis, histology, ccf\n",
    "from pipeline.plot import unit_psth\n",
    "from pipeline.plot.foraging_model_plot import plot_session_model_comparison, plot_session_fitted_choice"
   ]
  },
  {
   "cell_type": "markdown",
   "id": "1421d621-a775-4f6c-8d3b-5fbc741d6aaf",
   "metadata": {},
   "source": [
    "# Ephys examples"
   ]
  },
  {
   "cell_type": "markdown",
   "id": "c1a400cf-9a12-4165-b8e4-68dfde163e5a",
   "metadata": {},
   "source": [
    "## Histology-related"
   ]
  },
  {
   "cell_type": "markdown",
   "id": "757bff9e-9b47-461b-8cb9-ebb3ed862238",
   "metadata": {},
   "source": [
    "`ephys.Unit`: all units\n",
    "\n",
    "`histology.ElectrodeCCFPosition.ElectrodePosition`: CCF location for each unit\n",
    "\n",
    "`ccf.CCFAnnotation`: Annotation for each CCF location"
   ]
  },
  {
   "cell_type": "markdown",
   "id": "24b60910-06b7-4890-8cb9-c8edb3540ed7",
   "metadata": {},
   "source": [
    "Count units in each area"
   ]
  },
  {
   "cell_type": "code",
   "execution_count": null,
   "id": "88583edc-e897-4582-a9ad-271044165719",
   "metadata": {},
   "outputs": [],
   "source": [
    "dj.U('annotation').aggr((ephys.Unit * histology.ElectrodeCCFPosition.ElectrodePosition) * ccf.CCFAnnotation, count='count(*)').fetch(format='frame', order_by='count desc')[:10]"
   ]
  },
  {
   "cell_type": "markdown",
   "id": "54eb2c40-62ea-4881-95ff-ec19a634e9ca",
   "metadata": {},
   "source": [
    "After unit QC (quite stringent)"
   ]
  },
  {
   "cell_type": "code",
   "execution_count": null,
   "id": "683b6c57-5dc6-48f5-bc2e-52773ef7ec8a",
   "metadata": {},
   "outputs": [],
   "source": [
    "all_unit_qc = (ephys.Unit * ephys.ClusterMetric * ephys.UnitStat) & 'presence_ratio > 0.95' & 'amplitude_cutoff < 0.1' & 'isi_violation < 0.5' & 'unit_amp > 70'\n",
    "dj.U('annotation').aggr(((ephys.Unit & all_unit_qc.proj()) * histology.ElectrodeCCFPosition.ElectrodePosition) * ccf.CCFAnnotation, count='count(*)').fetch(format='frame', order_by='count desc')[:10]"
   ]
  },
  {
   "cell_type": "markdown",
   "id": "abb3b0ea-d9b4-4a34-9b99-2592b84ec073",
   "metadata": {},
   "source": [
    "All unit in Prelimbic area after QC"
   ]
  },
  {
   "cell_type": "code",
   "execution_count": null,
   "id": "df3f877d-1fee-49ef-abfd-aadf6ca20fa3",
   "metadata": {},
   "outputs": [],
   "source": [
    "unit_qc_prelimbic = (all_unit_qc * histology.ElectrodeCCFPosition.ElectrodePosition * ccf.CCFAnnotation) & 'annotation LIKE \"Prelimbic%\"'"
   ]
  },
  {
   "cell_type": "markdown",
   "id": "007b94d9-7578-4ca4-9787-cf96b1e8002c",
   "metadata": {},
   "source": [
    "Unique `session` and `insertion_number` that contains Prelimbic area for Mouse HH09"
   ]
  },
  {
   "cell_type": "markdown",
   "id": "8ab6035c-5535-4571-b72a-545d7bc350d5",
   "metadata": {},
   "source": [
    "(`insertion_number` could be 1, 2, or 3.  I can insert three probes at most on my current rig.)"
   ]
  },
  {
   "cell_type": "code",
   "execution_count": null,
   "id": "6b8f25a5-f4fa-4dab-af7f-495a23c3b27e",
   "metadata": {},
   "outputs": [],
   "source": [
    "dj.U('session', 'insertion_number') & (unit_qc_prelimbic & (lab.WaterRestriction & 'water_restriction_number = \"HH09\"'))"
   ]
  },
  {
   "cell_type": "markdown",
   "id": "56c6c9df-a685-4451-92cc-d136365d9a26",
   "metadata": {},
   "source": [
    "Finally, all QC-filtered prelimbic units for Mouse HH09 in Session 47."
   ]
  },
  {
   "cell_type": "code",
   "execution_count": null,
   "id": "641e7f19-ca25-4aba-b288-3df6ffcce219",
   "metadata": {},
   "outputs": [],
   "source": [
    "unit_qc_prelimbic_HH09_session47 = unit_qc_prelimbic & (lab.WaterRestriction & 'water_restriction_number = \"HH09\"') & 'session = 47'\n",
    "len(unit_qc_prelimbic_HH09_session47)"
   ]
  },
  {
   "cell_type": "markdown",
   "id": "057c4216-abcb-4387-a877-a561d2d3a346",
   "metadata": {},
   "source": [
    "## PSTH"
   ]
  },
  {
   "cell_type": "markdown",
   "id": "553d7517-bafe-4e7f-87e2-cc93748a5b8d",
   "metadata": {},
   "source": [
    "Pick an example neuron"
   ]
  },
  {
   "cell_type": "code",
   "execution_count": null,
   "id": "b551309c-bc72-41ff-a71c-9d67cbaba8a5",
   "metadata": {},
   "outputs": [],
   "source": [
    "date, imec, unit = '2021-04-18', 0, 541\n",
    "unit_key = (ephys.Unit() & (experiment.Session & 'session_date = \"2021-04-18\"' & 'subject_id = 473361') & {'insertion_number': imec + 1, 'unit_uid': unit}).fetch1(\"KEY\")"
   ]
  },
  {
   "cell_type": "markdown",
   "id": "d309db9f-822d-48cc-9aef-330fdb8badea",
   "metadata": {},
   "source": [
    "PSTH grouped by choice and outcome"
   ]
  },
  {
   "cell_type": "code",
   "execution_count": null,
   "id": "29963914-ae5a-48f0-84cd-c67a0812c0ca",
   "metadata": {},
   "outputs": [],
   "source": [
    "_ = unit_psth.plot_unit_psth_choice_outcome(unit_key)"
   ]
  },
  {
   "cell_type": "markdown",
   "id": "5518a58f-b448-4a4f-914c-30e2ac72c5e4",
   "metadata": {},
   "source": [
    "PSTH grouped by quantiles of `action value`. Note that this depends on the behavioral model. (see the next section)"
   ]
  },
  {
   "cell_type": "code",
   "execution_count": null,
   "id": "cf304870-92f2-4b46-8db2-2c9373beed60",
   "metadata": {
    "tags": []
   },
   "outputs": [],
   "source": [
    "_ = unit_psth.plot_unit_psth_latent_variable_quantile(unit_key, model_id=10)"
   ]
  },
  {
   "cell_type": "markdown",
   "id": "ace04150-1965-43c1-b5db-55285478feb7",
   "metadata": {},
   "source": [
    "By default, `plot_unit_psth_latent_variable_quantile` plots `contralateral action value`.\n",
    "\n",
    "You can specify other latent variables, such as `ipsi_action_value`, `contra_choice_prob`, `relative_action_value_ic` (contra-ipsi), `total_action_value`, `contra_choice_kernel` etc."
   ]
  },
  {
   "cell_type": "markdown",
   "id": "f7e1437a-5a4a-43ae-9037-e07488b92d4d",
   "metadata": {},
   "source": [
    "For example, ipsilateral choice probability:"
   ]
  },
  {
   "cell_type": "code",
   "execution_count": null,
   "id": "1672d507-628d-4381-96e2-937f40478e20",
   "metadata": {},
   "outputs": [],
   "source": [
    "_ = unit_psth.plot_unit_psth_latent_variable_quantile(unit_key, model_id=10, latent_variable='total_action_value')"
   ]
  },
  {
   "cell_type": "markdown",
   "id": "6de00f94-13b2-41c2-abef-fc1b6061c342",
   "metadata": {},
   "source": [
    "## Spike count over trials VS latent variables"
   ]
  },
  {
   "cell_type": "code",
   "execution_count": 11,
   "id": "e6b210fc-862b-4412-8e5a-3a6936fb1998",
   "metadata": {},
   "outputs": [],
   "source": [
    "date, imec, unit = '2021-04-18', 0, 541\n",
    "unit_key = (ephys.Unit() & (experiment.Session & 'session_date = \"2021-04-18\"' & 'subject_id = 473361') & {'insertion_number': imec + 1, 'unit_uid': unit}).fetch1(\"KEY\")"
   ]
  },
  {
   "cell_type": "markdown",
   "id": "d4b8d3d6-2c92-4c44-9168-e76f5e07616a",
   "metadata": {},
   "source": [
    "Function `unit_psth.plot_unit_period_tuning` plots spike counts in user-defined `period` over trials and do simple linear fitting against latent variables."
   ]
  },
  {
   "cell_type": "code",
   "execution_count": null,
   "id": "ce162f00-62bb-4132-8fcf-7121906eeaae",
   "metadata": {},
   "outputs": [],
   "source": [
    "_ = unit_psth.plot_unit_period_tuning(unit_key, period='iti_all', independent_variable = ['contra_action_value', 'ipsi_action_value', 'rpe'])"
   ]
  },
  {
   "cell_type": "markdown",
   "id": "bef1b2ce-aa15-445a-bdb2-54e9b9d9f4a5",
   "metadata": {},
   "source": [
    "## Noise correlation"
   ]
  },
  {
   "cell_type": "markdown",
   "id": "98b57a1b-059c-4f2a-84c4-7116f5d586fc",
   "metadata": {},
   "source": [
    "As the first step of computing noise correlation, we can use `psth_foraging.compute_unit_period_activity` to get spike counts over trials for each unit."
   ]
  },
  {
   "cell_type": "code",
   "execution_count": 10,
   "id": "e9c38633-2a99-4bab-b733-ecb27edfcdf1",
   "metadata": {},
   "outputs": [],
   "source": [
    "from pipeline import psth_foraging"
   ]
  },
  {
   "cell_type": "code",
   "execution_count": null,
   "id": "b9e77a01-5d5d-4b1b-8804-bfe6520a3996",
   "metadata": {},
   "outputs": [],
   "source": [
    "psth_foraging.compute_unit_period_activity(unit_key=unit_key, period='iti_all')"
   ]
  },
  {
   "cell_type": "markdown",
   "id": "f24436c1-c0cf-457e-a17d-63a788fbeeb3",
   "metadata": {},
   "source": [
    "Get raw raster (example from `pipeline\\plot\\unit_psth\\plot_unit_psth_choice_outcome`)"
   ]
  },
  {
   "cell_type": "code",
   "execution_count": null,
   "id": "1cbdef23-807e-47b9-8eba-2dfa85d455fa",
   "metadata": {},
   "outputs": [],
   "source": [
    "left_hit_trials = psth_foraging.TrialCondition.get_trials('R_hit', 0) & unit_key\n",
    "left_hit_unit_psth = psth_foraging.compute_unit_psth_and_raster(unit_key, left_hit_trials, align_type='iti_start')\n",
    "left_hit_unit_psth.keys()"
   ]
  },
  {
   "cell_type": "code",
   "execution_count": 22,
   "id": "3388f295-74c9-4022-8deb-676d3ca69a84",
   "metadata": {},
   "outputs": [
    {
     "data": {
      "text/plain": [
       "(66, 324)"
      ]
     },
     "execution_count": 22,
     "metadata": {},
     "output_type": "execute_result"
    }
   ],
   "source": [
    "left_hit_unit_psth['psth_per_trial'].shape"
   ]
  },
  {
   "cell_type": "markdown",
   "id": "e916ec3f-ff1f-4927-86fc-ef571067f9fa",
   "metadata": {},
   "source": [
    "The example above selects trials according to choice and outcome. \n",
    "\n",
    "If you want to get all trials, use this"
   ]
  },
  {
   "cell_type": "code",
   "execution_count": 37,
   "id": "e7271a47-dd81-4215-9364-0a2df4cf3ca1",
   "metadata": {},
   "outputs": [
    {
     "data": {
      "text/plain": [
       "(513, 324)"
      ]
     },
     "execution_count": 37,
     "metadata": {},
     "output_type": "execute_result"
    }
   ],
   "source": [
    "all_unit_psth = psth_foraging.compute_unit_psth_and_raster(unit_key, experiment.BehaviorTrial & unit_key, align_type='iti_start')\n",
    "all_unit_psth['psth_per_trial'].shape"
   ]
  },
  {
   "cell_type": "markdown",
   "id": "44249120-c32d-4150-ac12-412e78fbe91b",
   "metadata": {},
   "source": [
    "Or, if you want to select trials according to other variables such as action value, this will be helpful:"
   ]
  },
  {
   "cell_type": "code",
   "execution_count": 33,
   "id": "a9bacf1d-aa65-48c0-a319-e9ac4159018d",
   "metadata": {},
   "outputs": [
    {
     "data": {
      "text/html": [
       "<div>\n",
       "<style scoped>\n",
       "    .dataframe tbody tr th:only-of-type {\n",
       "        vertical-align: middle;\n",
       "    }\n",
       "\n",
       "    .dataframe tbody tr th {\n",
       "        vertical-align: top;\n",
       "    }\n",
       "\n",
       "    .dataframe thead th {\n",
       "        text-align: right;\n",
       "    }\n",
       "</style>\n",
       "<table border=\"1\" class=\"dataframe\">\n",
       "  <thead>\n",
       "    <tr style=\"text-align: right;\">\n",
       "      <th></th>\n",
       "      <th>trial</th>\n",
       "      <th>subject_id</th>\n",
       "      <th>session</th>\n",
       "      <th>model_id</th>\n",
       "      <th>left_</th>\n",
       "      <th>right_</th>\n",
       "      <th>contra_</th>\n",
       "      <th>ipsi_</th>\n",
       "      <th>left_action_value</th>\n",
       "      <th>right_action_value</th>\n",
       "      <th>...</th>\n",
       "      <th>ipsi_choice_kernel</th>\n",
       "      <th>relative_action_value_lr</th>\n",
       "      <th>relative_action_value_ic</th>\n",
       "      <th>total_action_value</th>\n",
       "      <th>choice</th>\n",
       "      <th>choice_lr</th>\n",
       "      <th>choice_ic</th>\n",
       "      <th>outcome</th>\n",
       "      <th>reward</th>\n",
       "      <th>rpe</th>\n",
       "    </tr>\n",
       "  </thead>\n",
       "  <tbody>\n",
       "    <tr>\n",
       "      <th>0</th>\n",
       "      <td>1</td>\n",
       "      <td>473361</td>\n",
       "      <td>47</td>\n",
       "      <td>10</td>\n",
       "      <td>left</td>\n",
       "      <td>right</td>\n",
       "      <td>left</td>\n",
       "      <td>right</td>\n",
       "      <td>0.455350</td>\n",
       "      <td>0.000000</td>\n",
       "      <td>...</td>\n",
       "      <td>NaN</td>\n",
       "      <td>-0.45535</td>\n",
       "      <td>0.45535</td>\n",
       "      <td>0.45535</td>\n",
       "      <td>left</td>\n",
       "      <td>0</td>\n",
       "      <td>1</td>\n",
       "      <td>hit</td>\n",
       "      <td>1</td>\n",
       "      <td>1.0</td>\n",
       "    </tr>\n",
       "    <tr>\n",
       "      <th>1</th>\n",
       "      <td>2</td>\n",
       "      <td>473361</td>\n",
       "      <td>47</td>\n",
       "      <td>10</td>\n",
       "      <td>left</td>\n",
       "      <td>right</td>\n",
       "      <td>left</td>\n",
       "      <td>right</td>\n",
       "      <td>0.703356</td>\n",
       "      <td>0.000000</td>\n",
       "      <td>...</td>\n",
       "      <td>NaN</td>\n",
       "      <td>-0.703356</td>\n",
       "      <td>0.703356</td>\n",
       "      <td>0.703356</td>\n",
       "      <td>left</td>\n",
       "      <td>0</td>\n",
       "      <td>1</td>\n",
       "      <td>hit</td>\n",
       "      <td>1</td>\n",
       "      <td>0.54465</td>\n",
       "    </tr>\n",
       "    <tr>\n",
       "      <th>2</th>\n",
       "      <td>3</td>\n",
       "      <td>473361</td>\n",
       "      <td>47</td>\n",
       "      <td>10</td>\n",
       "      <td>left</td>\n",
       "      <td>right</td>\n",
       "      <td>left</td>\n",
       "      <td>right</td>\n",
       "      <td>0.383083</td>\n",
       "      <td>0.000000</td>\n",
       "      <td>...</td>\n",
       "      <td>NaN</td>\n",
       "      <td>-0.383083</td>\n",
       "      <td>0.383083</td>\n",
       "      <td>0.383083</td>\n",
       "      <td>left</td>\n",
       "      <td>0</td>\n",
       "      <td>1</td>\n",
       "      <td>miss</td>\n",
       "      <td>0</td>\n",
       "      <td>-0.703356</td>\n",
       "    </tr>\n",
       "    <tr>\n",
       "      <th>3</th>\n",
       "      <td>4</td>\n",
       "      <td>473361</td>\n",
       "      <td>47</td>\n",
       "      <td>10</td>\n",
       "      <td>left</td>\n",
       "      <td>right</td>\n",
       "      <td>left</td>\n",
       "      <td>right</td>\n",
       "      <td>0.208646</td>\n",
       "      <td>0.000000</td>\n",
       "      <td>...</td>\n",
       "      <td>NaN</td>\n",
       "      <td>-0.208646</td>\n",
       "      <td>0.208646</td>\n",
       "      <td>0.208646</td>\n",
       "      <td>left</td>\n",
       "      <td>0</td>\n",
       "      <td>1</td>\n",
       "      <td>miss</td>\n",
       "      <td>0</td>\n",
       "      <td>-0.383083</td>\n",
       "    </tr>\n",
       "    <tr>\n",
       "      <th>4</th>\n",
       "      <td>5</td>\n",
       "      <td>473361</td>\n",
       "      <td>47</td>\n",
       "      <td>10</td>\n",
       "      <td>left</td>\n",
       "      <td>right</td>\n",
       "      <td>left</td>\n",
       "      <td>right</td>\n",
       "      <td>0.113639</td>\n",
       "      <td>0.000000</td>\n",
       "      <td>...</td>\n",
       "      <td>NaN</td>\n",
       "      <td>-0.113639</td>\n",
       "      <td>0.113639</td>\n",
       "      <td>0.113639</td>\n",
       "      <td>left</td>\n",
       "      <td>0</td>\n",
       "      <td>1</td>\n",
       "      <td>miss</td>\n",
       "      <td>0</td>\n",
       "      <td>-0.208646</td>\n",
       "    </tr>\n",
       "    <tr>\n",
       "      <th>...</th>\n",
       "      <td>...</td>\n",
       "      <td>...</td>\n",
       "      <td>...</td>\n",
       "      <td>...</td>\n",
       "      <td>...</td>\n",
       "      <td>...</td>\n",
       "      <td>...</td>\n",
       "      <td>...</td>\n",
       "      <td>...</td>\n",
       "      <td>...</td>\n",
       "      <td>...</td>\n",
       "      <td>...</td>\n",
       "      <td>...</td>\n",
       "      <td>...</td>\n",
       "      <td>...</td>\n",
       "      <td>...</td>\n",
       "      <td>...</td>\n",
       "      <td>...</td>\n",
       "      <td>...</td>\n",
       "      <td>...</td>\n",
       "      <td>...</td>\n",
       "    </tr>\n",
       "    <tr>\n",
       "      <th>416</th>\n",
       "      <td>503</td>\n",
       "      <td>473361</td>\n",
       "      <td>47</td>\n",
       "      <td>10</td>\n",
       "      <td>left</td>\n",
       "      <td>right</td>\n",
       "      <td>left</td>\n",
       "      <td>right</td>\n",
       "      <td>0.163383</td>\n",
       "      <td>0.000171</td>\n",
       "      <td>...</td>\n",
       "      <td>NaN</td>\n",
       "      <td>-0.163211</td>\n",
       "      <td>0.163211</td>\n",
       "      <td>0.163554</td>\n",
       "      <td>right</td>\n",
       "      <td>1</td>\n",
       "      <td>0</td>\n",
       "      <td>miss</td>\n",
       "      <td>0</td>\n",
       "      <td>-0.000314</td>\n",
       "    </tr>\n",
       "    <tr>\n",
       "      <th>417</th>\n",
       "      <td>504</td>\n",
       "      <td>473361</td>\n",
       "      <td>47</td>\n",
       "      <td>10</td>\n",
       "      <td>left</td>\n",
       "      <td>right</td>\n",
       "      <td>left</td>\n",
       "      <td>right</td>\n",
       "      <td>0.088986</td>\n",
       "      <td>0.000093</td>\n",
       "      <td>...</td>\n",
       "      <td>NaN</td>\n",
       "      <td>-0.088893</td>\n",
       "      <td>0.088893</td>\n",
       "      <td>0.08908</td>\n",
       "      <td>left</td>\n",
       "      <td>0</td>\n",
       "      <td>1</td>\n",
       "      <td>miss</td>\n",
       "      <td>0</td>\n",
       "      <td>-0.163383</td>\n",
       "    </tr>\n",
       "    <tr>\n",
       "      <th>418</th>\n",
       "      <td>507</td>\n",
       "      <td>473361</td>\n",
       "      <td>47</td>\n",
       "      <td>10</td>\n",
       "      <td>left</td>\n",
       "      <td>right</td>\n",
       "      <td>left</td>\n",
       "      <td>right</td>\n",
       "      <td>0.048466</td>\n",
       "      <td>0.455401</td>\n",
       "      <td>...</td>\n",
       "      <td>NaN</td>\n",
       "      <td>0.406934</td>\n",
       "      <td>-0.406934</td>\n",
       "      <td>0.503867</td>\n",
       "      <td>right</td>\n",
       "      <td>1</td>\n",
       "      <td>0</td>\n",
       "      <td>hit</td>\n",
       "      <td>1</td>\n",
       "      <td>0.999907</td>\n",
       "    </tr>\n",
       "    <tr>\n",
       "      <th>419</th>\n",
       "      <td>508</td>\n",
       "      <td>473361</td>\n",
       "      <td>47</td>\n",
       "      <td>10</td>\n",
       "      <td>left</td>\n",
       "      <td>right</td>\n",
       "      <td>left</td>\n",
       "      <td>right</td>\n",
       "      <td>0.026397</td>\n",
       "      <td>0.248034</td>\n",
       "      <td>...</td>\n",
       "      <td>NaN</td>\n",
       "      <td>0.221637</td>\n",
       "      <td>-0.221637</td>\n",
       "      <td>0.274431</td>\n",
       "      <td>right</td>\n",
       "      <td>1</td>\n",
       "      <td>0</td>\n",
       "      <td>miss</td>\n",
       "      <td>0</td>\n",
       "      <td>-0.455401</td>\n",
       "    </tr>\n",
       "    <tr>\n",
       "      <th>420</th>\n",
       "      <td>512</td>\n",
       "      <td>473361</td>\n",
       "      <td>47</td>\n",
       "      <td>10</td>\n",
       "      <td>left</td>\n",
       "      <td>right</td>\n",
       "      <td>left</td>\n",
       "      <td>right</td>\n",
       "      <td>0.014377</td>\n",
       "      <td>0.135092</td>\n",
       "      <td>...</td>\n",
       "      <td>NaN</td>\n",
       "      <td>0.120714</td>\n",
       "      <td>-0.120714</td>\n",
       "      <td>0.149469</td>\n",
       "      <td>right</td>\n",
       "      <td>1</td>\n",
       "      <td>0</td>\n",
       "      <td>miss</td>\n",
       "      <td>0</td>\n",
       "      <td>-0.248034</td>\n",
       "    </tr>\n",
       "  </tbody>\n",
       "</table>\n",
       "<p>421 rows × 29 columns</p>\n",
       "</div>"
      ],
      "text/plain": [
       "     trial  subject_id  session  model_id left_ right_ contra_  ipsi_  \\\n",
       "0        1      473361       47        10  left  right    left  right   \n",
       "1        2      473361       47        10  left  right    left  right   \n",
       "2        3      473361       47        10  left  right    left  right   \n",
       "3        4      473361       47        10  left  right    left  right   \n",
       "4        5      473361       47        10  left  right    left  right   \n",
       "..     ...         ...      ...       ...   ...    ...     ...    ...   \n",
       "416    503      473361       47        10  left  right    left  right   \n",
       "417    504      473361       47        10  left  right    left  right   \n",
       "418    507      473361       47        10  left  right    left  right   \n",
       "419    508      473361       47        10  left  right    left  right   \n",
       "420    512      473361       47        10  left  right    left  right   \n",
       "\n",
       "     left_action_value  right_action_value  ...  ipsi_choice_kernel  \\\n",
       "0             0.455350            0.000000  ...                 NaN   \n",
       "1             0.703356            0.000000  ...                 NaN   \n",
       "2             0.383083            0.000000  ...                 NaN   \n",
       "3             0.208646            0.000000  ...                 NaN   \n",
       "4             0.113639            0.000000  ...                 NaN   \n",
       "..                 ...                 ...  ...                 ...   \n",
       "416           0.163383            0.000171  ...                 NaN   \n",
       "417           0.088986            0.000093  ...                 NaN   \n",
       "418           0.048466            0.455401  ...                 NaN   \n",
       "419           0.026397            0.248034  ...                 NaN   \n",
       "420           0.014377            0.135092  ...                 NaN   \n",
       "\n",
       "     relative_action_value_lr  relative_action_value_ic  total_action_value  \\\n",
       "0                    -0.45535                   0.45535             0.45535   \n",
       "1                   -0.703356                  0.703356            0.703356   \n",
       "2                   -0.383083                  0.383083            0.383083   \n",
       "3                   -0.208646                  0.208646            0.208646   \n",
       "4                   -0.113639                  0.113639            0.113639   \n",
       "..                        ...                       ...                 ...   \n",
       "416                 -0.163211                  0.163211            0.163554   \n",
       "417                 -0.088893                  0.088893             0.08908   \n",
       "418                  0.406934                 -0.406934            0.503867   \n",
       "419                  0.221637                 -0.221637            0.274431   \n",
       "420                  0.120714                 -0.120714            0.149469   \n",
       "\n",
       "     choice  choice_lr  choice_ic  outcome  reward       rpe  \n",
       "0      left          0          1      hit       1       1.0  \n",
       "1      left          0          1      hit       1   0.54465  \n",
       "2      left          0          1     miss       0 -0.703356  \n",
       "3      left          0          1     miss       0 -0.383083  \n",
       "4      left          0          1     miss       0 -0.208646  \n",
       "..      ...        ...        ...      ...     ...       ...  \n",
       "416   right          1          0     miss       0 -0.000314  \n",
       "417    left          0          1     miss       0 -0.163383  \n",
       "418   right          1          0      hit       1  0.999907  \n",
       "419   right          1          0     miss       0 -0.455401  \n",
       "420   right          1          0     miss       0 -0.248034  \n",
       "\n",
       "[421 rows x 29 columns]"
      ]
     },
     "execution_count": 33,
     "metadata": {},
     "output_type": "execute_result"
    }
   ],
   "source": [
    "from pipeline.util import _get_unit_independent_variable\n",
    "df = _get_unit_independent_variable(unit_key, model_id=10)\n",
    "df"
   ]
  },
  {
   "cell_type": "markdown",
   "id": "3234cbde-9bd8-4a9f-bfb6-5bbf5bcd1659",
   "metadata": {},
   "source": [
    "# Model fitting results"
   ]
  },
  {
   "cell_type": "markdown",
   "id": "db8d3fc5-7dda-4a7f-8e4f-66e763e00901",
   "metadata": {},
   "source": [
    "## All models"
   ]
  },
  {
   "cell_type": "code",
   "execution_count": null,
   "id": "7b7d1ea7-2f59-40dd-8463-b94390627a2d",
   "metadata": {},
   "outputs": [],
   "source": [
    "foraging_model.Model()"
   ]
  },
  {
   "cell_type": "markdown",
   "id": "5038ad5f-0616-469f-b07d-23aa5fd6e423",
   "metadata": {},
   "source": [
    "Show param settings of a specified model"
   ]
  },
  {
   "cell_type": "code",
   "execution_count": null,
   "id": "d93554b3-2fde-478e-8042-18a8beb87fd4",
   "metadata": {},
   "outputs": [],
   "source": [
    "foraging_model.Model.Param & 'model_id=25'"
   ]
  },
  {
   "cell_type": "markdown",
   "id": "f59458c7-fc90-42cc-bbd6-14b64662e1a7",
   "metadata": {},
   "source": [
    "## All model comparison groups"
   ]
  },
  {
   "cell_type": "code",
   "execution_count": null,
   "id": "d3344ba4-a350-49af-af01-51b282cb6795",
   "metadata": {},
   "outputs": [],
   "source": [
    "foraging_model.ModelComparison()"
   ]
  },
  {
   "cell_type": "markdown",
   "id": "ca28e9dc-4172-474c-9907-7597ef14ee03",
   "metadata": {},
   "source": [
    "## Example session"
   ]
  },
  {
   "cell_type": "markdown",
   "id": "022ae5c1-3e33-47bf-ae72-8be0411eb51a",
   "metadata": {},
   "source": [
    "`model_comparison_idx` = 1: all models with bias term<br>\n",
    "`sort='aic'`: sorted by AIC, from best to worst"
   ]
  },
  {
   "cell_type": "code",
   "execution_count": null,
   "id": "356cb1d8-dc37-4886-b842-7bb0417529ca",
   "metadata": {},
   "outputs": [],
   "source": [
    "sess_key = {'subject_id': 473361, 'session': 36}\n",
    "plot_session_model_comparison(sess_key, model_comparison_idx=1, sort='aic')"
   ]
  },
  {
   "cell_type": "markdown",
   "id": "072cad3c-32e7-4d41-b0e8-7b63257d237f",
   "metadata": {},
   "source": [
    "Raw fitted results"
   ]
  },
  {
   "cell_type": "code",
   "execution_count": null,
   "id": "6c15f6d9-af67-43e5-a842-4d8c8b27e659",
   "metadata": {},
   "outputs": [],
   "source": [
    "foraging_model.Model.proj('model_notation') * (foraging_model.FittedSessionModel & sess_key) "
   ]
  },
  {
   "cell_type": "markdown",
   "id": "caaefd06-651a-4498-a690-5fb649c5e95f",
   "metadata": {},
   "source": [
    "Plot fitted choice traces of best and worst models"
   ]
  },
  {
   "cell_type": "code",
   "execution_count": null,
   "id": "d5fd31dd-300d-4637-962d-a8101f80786b",
   "metadata": {},
   "outputs": [],
   "source": [
    "_ = plot_session_fitted_choice(sess_key=sess_key, first_n=1, last_n=2, smooth_factor=10, model_comparison_idx=1)"
   ]
  },
  {
   "cell_type": "markdown",
   "id": "fb0f24c2-51c9-4767-bc6f-1b725bf05a4c",
   "metadata": {},
   "source": [
    "Plot specified models"
   ]
  },
  {
   "cell_type": "markdown",
   "id": "73d0b76d-760c-488f-83d2-75eebfea474e",
   "metadata": {},
   "source": [
    "CANN model (22), Synaptic (23), and Hattori (14)"
   ]
  },
  {
   "cell_type": "code",
   "execution_count": null,
   "id": "7eaedabb-11c3-4fa6-b75d-e5d07e961135",
   "metadata": {},
   "outputs": [],
   "source": [
    "_ = plot_session_fitted_choice(sess_key=sess_key, specified_model_ids=[22, 24, 14], smooth_factor=10)"
   ]
  },
  {
   "cell_type": "markdown",
   "id": "20a4c1cc-2e0f-4c45-a155-d4a3548ac354",
   "metadata": {},
   "source": [
    "## Query of fitted params"
   ]
  },
  {
   "cell_type": "markdown",
   "id": "18473bba-b31e-4744-a626-56246c5f6bad",
   "metadata": {},
   "source": [
    "All fitted params are stored in the part table `foraging_model.FittedSessionModel.Param`"
   ]
  },
  {
   "cell_type": "code",
   "execution_count": null,
   "id": "bd9ffb90-4afb-4b49-b271-d6983f857931",
   "metadata": {},
   "outputs": [],
   "source": [
    "foraging_model.FittedSessionModel.Param.heading"
   ]
  },
  {
   "cell_type": "markdown",
   "id": "f6776b57-cda4-4aa2-86dc-916a5588bf6e",
   "metadata": {},
   "source": [
    "Models from Ulises"
   ]
  },
  {
   "cell_type": "code",
   "execution_count": null,
   "id": "6223abcb-d70f-430f-bb45-8af5f0faa054",
   "metadata": {},
   "outputs": [],
   "source": [
    "Ulises_model = (foraging_model.Model & 'model_class in (\"CANN\", \"Synaptic\")')\n",
    "Ulises_model"
   ]
  },
  {
   "cell_type": "markdown",
   "id": "da9e6c99-f54d-46d1-9e9a-4d691dd60315",
   "metadata": {},
   "source": [
    "Show fit command"
   ]
  },
  {
   "cell_type": "code",
   "execution_count": null,
   "id": "9ff0422a-49af-4763-908a-579f727884da",
   "metadata": {},
   "outputs": [],
   "source": [
    "Ulises_model.fetch('fit_cmd')"
   ]
  },
  {
   "cell_type": "markdown",
   "id": "7622e55f-35bf-4f8f-afba-86d5d224fd0d",
   "metadata": {},
   "source": [
    "Note the different bounds of $I_0$ and $\\rho$ of the three Synaptic models.<br>\n",
    "- `model_id = 23` --> $0 < I_0 < 10, 0 < \\rho < 1$\n",
    "- `model_id = 24` --> $0 < I_0 < 10, -100 < \\rho < 100$\n",
    "- `model_id = 25` --> $0 < I_0 < 1e6, -1e6 < \\rho < 1e6$ (basically unconstrained)"
   ]
  },
  {
   "cell_type": "markdown",
   "id": "87cd32f9-3154-4d01-b48e-5e94f5fa58f8",
   "metadata": {},
   "source": [
    "Say, we're interested in the fully unconstrained Synaptic model (`model_id = 25`)"
   ]
  },
  {
   "cell_type": "code",
   "execution_count": null,
   "id": "0f4a0680-03ad-4a72-a6e0-8f80d8efcd73",
   "metadata": {},
   "outputs": [],
   "source": [
    "model_id = 25"
   ]
  },
  {
   "cell_type": "markdown",
   "id": "12960597-63b9-489d-be8f-9e3d27274511",
   "metadata": {},
   "source": [
    "Query ALL fitted params for one session"
   ]
  },
  {
   "cell_type": "code",
   "execution_count": null,
   "id": "c57bdfda-252d-4892-9aa4-27bded5c8316",
   "metadata": {},
   "outputs": [],
   "source": [
    "# From foraging_model.Model, we know model_id 24 is the Synaptic model\n",
    "foraging_model.FittedSessionModel.Param & {'subject_id': 482350, 'session': 52, 'model_id': model_id}"
   ]
  },
  {
   "cell_type": "markdown",
   "id": "4146d16c-0a74-405b-bf22-66c4f97756f1",
   "metadata": {},
   "source": [
    "Quecy one fitted parmas, say, the `forget_rate`, for All sessions "
   ]
  },
  {
   "cell_type": "code",
   "execution_count": null,
   "id": "c3e3a9f9-a977-48f6-9430-6441abc374e1",
   "metadata": {},
   "outputs": [],
   "source": [
    "foraging_model.FittedSessionModel.Param & {'model_param': 'forget_rate', 'model_id': model_id}"
   ]
  },
  {
   "cell_type": "markdown",
   "id": "c9e80928-745f-4b45-ae34-7f5af4a38a39",
   "metadata": {},
   "source": [
    "Plot distributions of fitted params (`learn_rate` and `tau` of the RNN model)"
   ]
  },
  {
   "cell_type": "code",
   "execution_count": null,
   "id": "7d32f50d-12ec-4d7a-86dd-03c4ef247843",
   "metadata": {},
   "outputs": [],
   "source": [
    "model_id = 22\n",
    "params = ['learn_rate', 'tau_cann']\n",
    "fig, axs = plt.subplots(1, len(params), figsize=(5 * len(params), 5))\n",
    "\n",
    "for ax, param in zip(axs, params):\n",
    "    q = (foraging_model.FittedSessionModel.Param & {'model_id': model_id, 'model_param': param}).fetch('fitted_value')\n",
    "    ax.hist(q, 100)\n",
    "    ax.set_xlabel(param)"
   ]
  },
  {
   "cell_type": "markdown",
   "id": "39013300-cdc5-4c14-a2db-35b2a37971af",
   "metadata": {},
   "source": [
    "## Problems in Synaptic model?"
   ]
  },
  {
   "cell_type": "markdown",
   "id": "50c21da2-8020-42cc-982f-f1c3c2b12f5a",
   "metadata": {},
   "source": [
    "For `model_id = 23`,  Some fitted $\\rho$s are at the boundary 0 and 1"
   ]
  },
  {
   "cell_type": "markdown",
   "id": "21206ef3-5398-4e51-8cb2-85669ff61adf",
   "metadata": {},
   "source": [
    "- `model_id = 23` --> $0 < I_0 < 10, 0 < \\rho < 1$"
   ]
  },
  {
   "cell_type": "code",
   "execution_count": null,
   "id": "7d914cc6-ff8b-48bc-825b-eaee56b125e0",
   "metadata": {},
   "outputs": [],
   "source": [
    "model_id = 23\n",
    "params = ['learn_rate', 'forget_rate', 'I0', 'rho']\n",
    "fig, axs = plt.subplots(1, len(params), figsize=(5 * len(params), 5))\n",
    "\n",
    "for ax, param in zip(axs, params):\n",
    "    q = (foraging_model.FittedSessionModel.Param & {'model_id': model_id, 'model_param': param}).fetch('fitted_value')\n",
    "    ax.hist(q, 100)\n",
    "    ax.set_xlabel(param)"
   ]
  },
  {
   "cell_type": "markdown",
   "id": "473f50bf-32f6-4f45-8ae7-8535b0a4d2e4",
   "metadata": {},
   "source": [
    "- `model_id = 24` --> $0 < I_0 < 10, -100 < \\rho < 100$"
   ]
  },
  {
   "cell_type": "code",
   "execution_count": null,
   "id": "38444fd5-fb94-43e3-bdf6-6215c25f6b90",
   "metadata": {},
   "outputs": [],
   "source": [
    "model_id = 24\n",
    "params = ['learn_rate', 'forget_rate', 'I0', 'rho']\n",
    "fig, axs = plt.subplots(1, len(params), figsize=(5 * len(params), 5))\n",
    "\n",
    "for ax, param in zip(axs, params):\n",
    "    q = (foraging_model.FittedSessionModel.Param & {'model_id': model_id, 'model_param': param}).fetch('fitted_value')\n",
    "    ax.hist(q, 100)\n",
    "    ax.set_xlabel(param)"
   ]
  },
  {
   "cell_type": "markdown",
   "id": "996d5fc3-a2f4-47b9-af37-d04ef56cbe4e",
   "metadata": {},
   "source": [
    "- `model_id = 25` --> $0 < I_0 < 1e6, -1e6 < \\rho < 1e6$ (basically unconstrained)\n",
    "\n",
    "$\\rho$ is clearly problematic if unconstrained..."
   ]
  },
  {
   "cell_type": "code",
   "execution_count": null,
   "id": "e4999e7f-9327-446e-bdb0-32835fa67008",
   "metadata": {},
   "outputs": [],
   "source": [
    "model_id = 25\n",
    "params = ['learn_rate', 'forget_rate', 'I0', 'rho']\n",
    "fig, axs = plt.subplots(1, len(params), figsize=(5 * len(params), 5))\n",
    "\n",
    "for ax, param in zip(axs, params):\n",
    "    q = (foraging_model.FittedSessionModel.Param & {'model_id': model_id, 'model_param': param}).fetch('fitted_value')\n",
    "    ax.hist(q, 100)\n",
    "    ax.set_xlabel(param)"
   ]
  },
  {
   "cell_type": "markdown",
   "id": "d2142e14-e54b-411a-a85c-76139bb86cfe",
   "metadata": {},
   "source": [
    "In the following example, `model_id=23` failed, but `24` and `25` look fine, although there's a clear overfitting in `25` (huge $I_0$ and $\\rho$)"
   ]
  },
  {
   "cell_type": "code",
   "execution_count": null,
   "id": "60320e2f-288b-4add-8dd0-59d74218c2e5",
   "metadata": {},
   "outputs": [],
   "source": [
    "key = (experiment.Session & (foraging_model.FittedSessionModel & 'model_id = 23')).fetch('KEY', limit=1, offset=9)[0]\n",
    "plot_session_fitted_choice(key, specified_model_ids=[9, 22, 23, 24, 25])"
   ]
  },
  {
   "cell_type": "markdown",
   "id": "2481eb51-eee0-40d0-acf1-0299ba4da27c",
   "metadata": {},
   "source": [
    "## Compare models by AIC"
   ]
  },
  {
   "cell_type": "markdown",
   "id": "41f6dee9-fc07-4d90-aca0-f7b871d48ccc",
   "metadata": {},
   "source": [
    "Here I'm comparing overal fitting qualities of five models"
   ]
  },
  {
   "cell_type": "markdown",
   "id": "405a0c10-b67a-42c7-a917-ef242dde1484",
   "metadata": {},
   "source": [
    "`lpt_aic` is the likelihood per trial with AIC penality (the larger, the better)"
   ]
  },
  {
   "cell_type": "code",
   "execution_count": null,
   "id": "5036f7a2-60e4-467d-b4b4-00b602d6cee2",
   "metadata": {
    "tags": []
   },
   "outputs": [],
   "source": [
    "model_ids = [9, 22, 23, 24, 25]\n",
    "_, ax = plt.subplots(1, 1, figsize=(10, 10))\n",
    "\n",
    "for model_id in model_ids:\n",
    "    lpt_aic = (foraging_model.FittedSessionModel & {'model_id': model_id}).fetch('lpt_aic')\n",
    "    cnt, bin = np.histogram(lpt_aic, bins=100)\n",
    "    plt.plot(bin[:-1], np.cumsum(cnt), lw=3, label=(foraging_model.Model & {'model_id': model_id}).fetch('desc'))\n",
    "\n",
    "ax.set(xlabel='likelihood per trial (aic penality)', ylabel='cumulative prob')\n",
    "_ = ax.legend(bbox_to_anchor=[1, 1])    "
   ]
  },
  {
   "cell_type": "markdown",
   "id": "f3d30df6-4b07-46c9-86b2-280114f90777",
   "metadata": {},
   "source": [
    "Conclusion:\n",
    "1. `CANN` is better than `SuttonBarto` (which is the same as `CANN` except the ITI-dependent decay)\n",
    "2. Mildly constrained Synaptic model `24` (red) is better than tightly constrained `23` (green) or unconstrained `25` (purple) models."
   ]
  },
  {
   "cell_type": "code",
   "execution_count": 26,
   "id": "9a65956b-e92d-422c-8a96-385cedfce745",
   "metadata": {},
   "outputs": [],
   "source": [
    "sess_key = {'subject_id': 473361, 'session': 46}"
   ]
  },
  {
   "cell_type": "markdown",
   "id": "81f54962-ec94-4cb2-9ef2-701b2d5a6151",
   "metadata": {},
   "source": [
    "# Retrieve fitted latent variables"
   ]
  },
  {
   "cell_type": "markdown",
   "id": "d554cc3c-2e3e-4ea2-afb8-9fae15f303a7",
   "metadata": {},
   "source": [
    "## Action value"
   ]
  },
  {
   "cell_type": "markdown",
   "id": "9ab4accf-b4dc-46fd-b6cd-589a384573b1",
   "metadata": {},
   "source": [
    "In current model fitting pipeline, `action value` and `choice probability` of each trial have been saved in part table `TrialLatentVariable` by default."
   ]
  },
  {
   "cell_type": "code",
   "execution_count": null,
   "id": "e9dcce50-e64a-4522-b474-b38073c24158",
   "metadata": {},
   "outputs": [],
   "source": [
    "latent_variables = foraging_model.FittedSessionModel.TrialLatentVariable & sess_key & 'model_id = 21'\n",
    "latent_variables"
   ]
  },
  {
   "cell_type": "code",
   "execution_count": null,
   "id": "49772eca-4166-43a2-83cc-9267cb6cd871",
   "metadata": {},
   "outputs": [],
   "source": [
    "latent_variables * experiment.BehaviorTrial * experiment.WaterPortChoice.proj(choice='water_port') & 'choice = \"right\"' & 'outcome = \"hit\"'"
   ]
  },
  {
   "cell_type": "code",
   "execution_count": 97,
   "id": "f89f08a9-7c9d-498c-a889-c7c8472c1f8f",
   "metadata": {},
   "outputs": [],
   "source": [
    "sess_key = {'subject_id': 473361, 'session': 46}"
   ]
  },
  {
   "cell_type": "code",
   "execution_count": null,
   "id": "599b601c-c871-4d7f-8727-2df16b13114e",
   "metadata": {},
   "outputs": [],
   "source": [
    "latent_variables = foraging_model.FittedSessionModel.TrialLatentVariable & sess_key & 'model_id = 22'\n",
    "(experiment.BehaviorTrial & sess_key ) - latent_variables"
   ]
  },
  {
   "cell_type": "code",
   "execution_count": 93,
   "id": "5dd0453f-6f6e-45e1-a9fa-abf78c090fea",
   "metadata": {},
   "outputs": [
    {
     "data": {
      "text/html": [
       "\n",
       "    \n",
       "    <style type=\"text/css\">\n",
       "        .Relation{\n",
       "            border-collapse:collapse;\n",
       "        }\n",
       "        .Relation th{\n",
       "            background: #A0A0A0; color: #ffffff; padding:4px; border:#f0e0e0 1px solid;\n",
       "            font-weight: normal; font-family: monospace; font-size: 100%;\n",
       "        }\n",
       "        .Relation td{\n",
       "            padding:4px; border:#f0e0e0 1px solid; font-size:100%;\n",
       "        }\n",
       "        .Relation tr:nth-child(odd){\n",
       "            background: #ffffff;\n",
       "        }\n",
       "        .Relation tr:nth-child(even){\n",
       "            background: #f3f1ff;\n",
       "        }\n",
       "        /* Tooltip container */\n",
       "        .djtooltip {\n",
       "        }\n",
       "        /* Tooltip text */\n",
       "        .djtooltip .djtooltiptext {\n",
       "            visibility: hidden;\n",
       "            width: 120px;\n",
       "            background-color: black;\n",
       "            color: #fff;\n",
       "            text-align: center;\n",
       "            padding: 5px 0;\n",
       "            border-radius: 6px;\n",
       "            /* Position the tooltip text - see examples below! */\n",
       "            position: absolute;\n",
       "            z-index: 1;\n",
       "        }\n",
       "        #primary {\n",
       "            font-weight: bold;\n",
       "            color: black;\n",
       "        }\n",
       "        #nonprimary {\n",
       "            font-weight: normal;\n",
       "            color: white;\n",
       "        }\n",
       "\n",
       "        /* Show the tooltip text when you mouse over the tooltip container */\n",
       "        .djtooltip:hover .djtooltiptext {\n",
       "            visibility: visible;\n",
       "        }\n",
       "    </style>\n",
       "    \n",
       "    \n",
       "        <div style=\"max-height:1000px;max-width:1500px;overflow:auto;\">\n",
       "        <table border=\"1\" class=\"Relation\">\n",
       "            <thead> <tr style=\"text-align: right;\"> <th> <div class=\"djtooltip\">\n",
       "                            <p id=\"primary\">subject_id</p>\n",
       "                            <span class=\"djtooltiptext\">institution 6 digit animal ID</span>\n",
       "                        </div></th><th><div class=\"djtooltip\">\n",
       "                            <p id=\"primary\">session</p>\n",
       "                            <span class=\"djtooltiptext\">session number</span>\n",
       "                        </div> </th> </tr> </thead>\n",
       "            <tbody> <tr> <td>473361</td>\n",
       "<td>46</td> </tr> </tbody>\n",
       "        </table>\n",
       "        \n",
       "        <p>Total: 1</p></div>\n",
       "        "
      ],
      "text/plain": [
       "*subject_id    *session   \n",
       "+------------+ +---------+\n",
       "473361         46         \n",
       " (Total: 1)"
      ]
     },
     "execution_count": 93,
     "metadata": {},
     "output_type": "execute_result"
    }
   ],
   "source": [
    "dj.U('subject_id', 'session') & (((experiment.BehaviorTrial & sess_key) - (foraging_model.FittedSessionModel.TrialLatentVariable & 'model_id = 22' & sess_key)) & 'outcome != \"ignore\"')"
   ]
  },
  {
   "cell_type": "code",
   "execution_count": null,
   "id": "d3c70330-34e2-4ad1-99a2-d8cdecb63122",
   "metadata": {},
   "outputs": [],
   "source": [
    "all_22 = dj.U('subject_id', 'session') &  (foraging_model.FittedSessionModel.TrialLatentVariable & 'model_id = 22')\n",
    "all_22 * lab.WaterRestriction"
   ]
  },
  {
   "cell_type": "code",
   "execution_count": null,
   "id": "35ab3477-794a-49ed-a07b-11574ffa6221",
   "metadata": {},
   "outputs": [],
   "source": [
    "experiment.BehaviorTrial & sess_key & 'outcome=\"ignore\"'"
   ]
  },
  {
   "cell_type": "code",
   "execution_count": 14,
   "id": "387bce67-a66d-4431-bd26-9e2c9bef79e9",
   "metadata": {},
   "outputs": [
    {
     "data": {
      "text/plain": [
       "# The water port selected by the animal for each trial\n",
       "subject_id           : int                          # institution 6 digit animal ID\n",
       "session              : smallint                     # session number\n",
       "trial                : smallint                     # trial number (1-based indexing)\n",
       "---\n",
       "water_port=null      : varchar(16)                  # e.g. left, right, middle, top-left, purple"
      ]
     },
     "execution_count": 14,
     "metadata": {},
     "output_type": "execute_result"
    }
   ],
   "source": [
    "experiment.WaterPortChoice.heading"
   ]
  },
  {
   "cell_type": "markdown",
   "id": "39b1c5ce-1335-4143-83cd-30aa11472561",
   "metadata": {},
   "source": [
    "So we can plot the fitted `action values` (red and green, on left axis) together with the fitted choice probability (blue).\n",
    "\n",
    "For the synaptic model, `action values` = $u_L$ and $u_R$"
   ]
  },
  {
   "cell_type": "code",
   "execution_count": null,
   "id": "c7b4dd53-890c-405f-88b4-79173491fb8e",
   "metadata": {},
   "outputs": [],
   "source": [
    "right_action_value = (latent_variables & 'water_port = \"right\"').fetch('action_value')\n",
    "left_action_value = (latent_variables & 'water_port = \"left\"').fetch('action_value')\n",
    "\n",
    "ax = plot_session_fitted_choice(sess_key=sess_key, specified_model_ids=24, smooth_factor=10)\n",
    "ax2 = ax.twinx()\n",
    "ax2.plot(right_action_value, 'g', label='right action value')\n",
    "ax2.plot(left_action_value, 'r', label='left action value')\n",
    "ax2.set_ylabel('action value')\n",
    "ax2.legend(fontsize=7)"
   ]
  },
  {
   "cell_type": "markdown",
   "id": "0223d3e1-dcfe-46f8-bb60-273ea7589d0a",
   "metadata": {},
   "source": [
    "## $w_L(k)$ and $w_R(k)$"
   ]
  },
  {
   "cell_type": "markdown",
   "id": "dfec81b9-1639-4bb4-9524-469b3a15f586",
   "metadata": {},
   "source": [
    "Unfortunately, I didn't save $w(k)$ in the latent variable table. But we can recompute them by simulating the fitted model again."
   ]
  },
  {
   "cell_type": "code",
   "execution_count": null,
   "id": "0447d2d8-9c30-4c8d-a5a5-4a0b448e11d3",
   "metadata": {},
   "outputs": [],
   "source": [
    "def plot_fitted_synaptic_w(sess_key, synaptic_model_id=24):\n",
    "    # Retrieve fitted parameters\n",
    "    fitted_para = (foraging_model.FittedSessionModel.Param & sess_key & f'model_id = {synaptic_model_id}').fetch()\n",
    "    model_name = (foraging_model.Model & f'model_id = {synaptic_model_id}').fetch1('model_class')\n",
    "    params = {name: value for (_, _, _, name, value) in fitted_para}\n",
    "\n",
    "    # Retrieve choice and reward history\n",
    "    choice_history, reward_history, iti, p_reward, q_choice_outcome = foraging_model.get_session_history(sess_key)\n",
    "\n",
    "    # Rerun the model\n",
    "    from pipeline.model.bandit_model import BanditModel\n",
    "    model = BanditModel(forager=model_name, **params, fit_choice_history=choice_history, fit_reward_history=reward_history)\n",
    "    model.simulate()\n",
    "    \n",
    "    # Plot the fitted w and the fitted choice\n",
    "    w_L, w_R = model.w\n",
    "\n",
    "    ax = plot_session_fitted_choice(sess_key=sess_key, specified_model_ids=synaptic_model_id, smooth_factor=10)\n",
    "    ax2 = ax.twinx()\n",
    "    ax2.plot(w_R, 'g', label='$w_R$', lw=1)\n",
    "    ax2.plot(w_L, 'r', label='$w_L$', lw=1)\n",
    "    ax2.set_ylabel('w')\n",
    "    ax2.legend(fontsize=10)"
   ]
  },
  {
   "cell_type": "markdown",
   "id": "d4fd8108-d66b-4151-9cde-7da5e7e4f761",
   "metadata": {},
   "source": [
    "Call this function with any session and any synaptic model.\n",
    "\n",
    "The following two figures are model 23 and 24 using the same session."
   ]
  },
  {
   "cell_type": "code",
   "execution_count": null,
   "id": "33380b06-568d-43f4-805b-172e9b614b04",
   "metadata": {},
   "outputs": [],
   "source": [
    "plot_fitted_synaptic_w(sess_key={'subject_id': 447921, 'session': 12}, synaptic_model_id=23)"
   ]
  },
  {
   "cell_type": "code",
   "execution_count": null,
   "id": "c20f8ee9-7177-4a31-b27b-839a51aaa568",
   "metadata": {},
   "outputs": [],
   "source": [
    "plot_fitted_synaptic_w(sess_key={'subject_id': 447921, 'session': 12}, synaptic_model_id=24)"
   ]
  }
 ],
 "metadata": {
  "kernelspec": {
   "display_name": "pipeline",
   "language": "python",
   "name": "pipeline"
  },
  "language_info": {
   "codemirror_mode": {
    "name": "ipython",
    "version": 3
   },
   "file_extension": ".py",
   "mimetype": "text/x-python",
   "name": "python",
   "nbconvert_exporter": "python",
   "pygments_lexer": "ipython3",
   "version": "3.9.5"
  },
  "toc-autonumbering": true
 },
 "nbformat": 4,
 "nbformat_minor": 5
}
