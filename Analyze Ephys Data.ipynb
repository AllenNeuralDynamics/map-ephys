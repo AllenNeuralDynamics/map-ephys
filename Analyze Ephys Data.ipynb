{
 "cells": [
  {
   "cell_type": "code",
   "execution_count": 1,
   "metadata": {},
   "outputs": [],
   "source": [
    "import datajoint as dj"
   ]
  },
  {
   "cell_type": "code",
   "execution_count": 2,
   "metadata": {},
   "outputs": [
    {
     "name": "stdout",
     "output_type": "stream",
     "text": [
      "Connecting daveliu@mesoscale-activity.datajoint.io:3306\n"
     ]
    }
   ],
   "source": [
    "import ephys"
   ]
  },
  {
   "cell_type": "code",
   "execution_count": 3,
   "metadata": {
    "scrolled": false
   },
   "outputs": [
    {
     "data": {
      "image/svg+xml": [
       "<svg height=\"256pt\" viewBox=\"0.00 0.00 1507.50 256.00\" width=\"1508pt\" xmlns=\"http://www.w3.org/2000/svg\" xmlns:xlink=\"http://www.w3.org/1999/xlink\">\n",
       "<g class=\"graph\" id=\"graph0\" transform=\"scale(1 1) rotate(0) translate(4 252)\">\n",
       "<polygon fill=\"white\" points=\"-4,4 -4,-252 1503.5,-252 1503.5,4 -4,4\" stroke=\"transparent\"/>\n",
       "<!-- ephys.experiment.BehaviorTrial -->\n",
       "<g class=\"node\" id=\"node1\">\n",
       "<title>ephys.experiment.BehaviorTrial</title>\n",
       "<polygon fill=\"#00ff00\" fill-opacity=\"0.188235\" points=\"434,-106 254,-106 254,-71 434,-71 434,-106\" stroke=\"#00ff00\" stroke-opacity=\"0.188235\"/>\n",
       "<text fill=\"darkgreen\" font-family=\"arial\" font-size=\"12.00\" text-anchor=\"middle\" x=\"344\" y=\"-85.4\">ephys.experiment.BehaviorTrial</text>\n",
       "</g>\n",
       "<!-- ephys.experiment.ActionEvent -->\n",
       "<g class=\"node\" id=\"node7\">\n",
       "<title>ephys.experiment.ActionEvent</title>\n",
       "<polygon fill=\"#00ff00\" fill-opacity=\"0.188235\" points=\"335.5,-35 162.5,-35 162.5,0 335.5,0 335.5,-35\" stroke=\"#00ff00\" stroke-opacity=\"0.188235\"/>\n",
       "<text fill=\"darkgreen\" font-family=\"arial\" font-size=\"12.00\" text-anchor=\"middle\" x=\"249\" y=\"-14.4\">ephys.experiment.ActionEvent</text>\n",
       "</g>\n",
       "<!-- ephys.experiment.BehaviorTrial&#45;&gt;ephys.experiment.ActionEvent -->\n",
       "<g class=\"edge\" id=\"edge1\">\n",
       "<title>ephys.experiment.BehaviorTrial-&gt;ephys.experiment.ActionEvent</title>\n",
       "<path d=\"M321,-70.8C306.07,-59.95 286.68,-45.87 271.79,-35.05\" fill=\"none\" stroke=\"#000000\" stroke-opacity=\"0.250980\" stroke-width=\"0.75\"/>\n",
       "</g>\n",
       "<!-- ephys.experiment.TrialEvent -->\n",
       "<g class=\"node\" id=\"node20\">\n",
       "<title>ephys.experiment.TrialEvent</title>\n",
       "<polygon fill=\"#00ff00\" fill-opacity=\"0.188235\" points=\"519.5,-35 356.5,-35 356.5,0 519.5,0 519.5,-35\" stroke=\"#00ff00\" stroke-opacity=\"0.188235\"/>\n",
       "<text fill=\"darkgreen\" font-family=\"arial\" font-size=\"12.00\" text-anchor=\"middle\" x=\"438\" y=\"-14.4\">ephys.experiment.TrialEvent</text>\n",
       "</g>\n",
       "<!-- ephys.experiment.BehaviorTrial&#45;&gt;ephys.experiment.TrialEvent -->\n",
       "<g class=\"edge\" id=\"edge2\">\n",
       "<title>ephys.experiment.BehaviorTrial-&gt;ephys.experiment.TrialEvent</title>\n",
       "<path d=\"M366.75,-70.8C381.53,-59.95 400.72,-45.87 415.45,-35.05\" fill=\"none\" stroke=\"#000000\" stroke-opacity=\"0.250980\" stroke-width=\"0.75\"/>\n",
       "</g>\n",
       "<!-- ephys.experiment.TrialNote -->\n",
       "<g class=\"node\" id=\"node2\">\n",
       "<title>ephys.experiment.TrialNote</title>\n",
       "<polygon fill=\"#00ff00\" fill-opacity=\"0.188235\" points=\"862,-106 704,-106 704,-71 862,-71 862,-106\" stroke=\"#00ff00\" stroke-opacity=\"0.188235\"/>\n",
       "<text fill=\"darkgreen\" font-family=\"arial\" font-size=\"12.00\" text-anchor=\"middle\" x=\"783\" y=\"-85.4\">ephys.experiment.TrialNote</text>\n",
       "</g>\n",
       "<!-- ephys.experiment.ActionEventType -->\n",
       "<g class=\"node\" id=\"node3\">\n",
       "<title>ephys.experiment.ActionEventType</title>\n",
       "<polygon fill=\"#000000\" fill-opacity=\"0.125490\" points=\"236,-106 66,-106 66,-71 236,-71 236,-106\" stroke=\"transparent\"/>\n",
       "<text font-family=\"arial\" font-size=\"10.00\" text-anchor=\"middle\" x=\"151\" y=\"-86\">ephys.experiment.ActionEventType</text>\n",
       "</g>\n",
       "<!-- ephys.experiment.ActionEventType&#45;&gt;ephys.experiment.ActionEvent -->\n",
       "<g class=\"edge\" id=\"edge3\">\n",
       "<title>ephys.experiment.ActionEventType-&gt;ephys.experiment.ActionEvent</title>\n",
       "<path d=\"M174.72,-70.8C190.13,-59.95 210.13,-45.87 225.5,-35.05\" fill=\"none\" stroke=\"#000000\" stroke-opacity=\"0.250980\" stroke-width=\"0.75\"/>\n",
       "</g>\n",
       "<!-- ephys.experiment.Photostim.Profile -->\n",
       "<g class=\"node\" id=\"node4\">\n",
       "<title>ephys.experiment.Photostim.Profile</title>\n",
       "<polygon fill=\"transparent\" points=\"1499.5,-27 1328.5,-27 1328.5,-8 1499.5,-8 1499.5,-27\" stroke=\"transparent\"/>\n",
       "<text font-family=\"arial\" font-size=\"10.00\" text-anchor=\"middle\" x=\"1414\" y=\"-15\">ephys.experiment.Photostim.Profile</text>\n",
       "</g>\n",
       "<!-- ephys.experiment.PassivePhotostimTrial -->\n",
       "<g class=\"node\" id=\"node5\">\n",
       "<title>ephys.experiment.PassivePhotostimTrial</title>\n",
       "<ellipse cx=\"771\" cy=\"-17.5\" fill=\"#ff0000\" fill-opacity=\"0.125490\" rx=\"13\" ry=\"13\" stroke=\"#ff0000\" stroke-opacity=\"0.125490\"/>\n",
       "<text fill=\"#7f0000\" fill-opacity=\"0.627451\" font-family=\"arial\" font-size=\"12.00\" text-anchor=\"middle\" x=\"771\" y=\"-14.4\">ephys.experiment.PassivePhotostimTrial</text>\n",
       "</g>\n",
       "<!-- ephys.experiment.PhotostimTrial.Event -->\n",
       "<g class=\"node\" id=\"node6\">\n",
       "<title>ephys.experiment.PhotostimTrial.Event</title>\n",
       "<polygon fill=\"transparent\" points=\"1089,-27 903,-27 903,-8 1089,-8 1089,-27\" stroke=\"transparent\"/>\n",
       "<text font-family=\"arial\" font-size=\"10.00\" text-anchor=\"middle\" x=\"996\" y=\"-15\">ephys.experiment.PhotostimTrial.Event</text>\n",
       "</g>\n",
       "<!-- ephys.experiment.Tracking -->\n",
       "<g class=\"node\" id=\"node8\">\n",
       "<title>ephys.experiment.Tracking</title>\n",
       "<ellipse cx=\"1228\" cy=\"-88.5\" fill=\"#00007f\" fill-opacity=\"0.250980\" rx=\"97.5\" ry=\"17.5\" stroke=\"#00007f\" stroke-opacity=\"0.250980\"/>\n",
       "<text fill=\"#00007f\" fill-opacity=\"0.627451\" font-family=\"arial\" font-size=\"12.00\" text-anchor=\"middle\" x=\"1228\" y=\"-85.4\">ephys.experiment.Tracking</text>\n",
       "</g>\n",
       "<!-- ephys.experiment.Outcome -->\n",
       "<g class=\"node\" id=\"node9\">\n",
       "<title>ephys.experiment.Outcome</title>\n",
       "<polygon fill=\"#000000\" fill-opacity=\"0.125490\" points=\"315.5,-177 178.5,-177 178.5,-142 315.5,-142 315.5,-177\" stroke=\"transparent\"/>\n",
       "<text font-family=\"arial\" font-size=\"10.00\" text-anchor=\"middle\" x=\"247\" y=\"-157\">ephys.experiment.Outcome</text>\n",
       "</g>\n",
       "<!-- ephys.experiment.Outcome&#45;&gt;ephys.experiment.BehaviorTrial -->\n",
       "<g class=\"edge\" id=\"edge4\">\n",
       "<title>ephys.experiment.Outcome-&gt;ephys.experiment.BehaviorTrial</title>\n",
       "<path d=\"M270.48,-141.8C285.73,-130.95 305.53,-116.87 320.74,-106.05\" fill=\"none\" stroke=\"#000000\" stroke-dasharray=\"5,2\" stroke-opacity=\"0.250980\" stroke-width=\"0.75\"/>\n",
       "</g>\n",
       "<!-- ephys.experiment.TrialEventType -->\n",
       "<g class=\"node\" id=\"node10\">\n",
       "<title>ephys.experiment.TrialEventType</title>\n",
       "<polygon fill=\"#000000\" fill-opacity=\"0.125490\" points=\"612,-106 452,-106 452,-71 612,-71 612,-106\" stroke=\"transparent\"/>\n",
       "<text font-family=\"arial\" font-size=\"10.00\" text-anchor=\"middle\" x=\"532\" y=\"-86\">ephys.experiment.TrialEventType</text>\n",
       "</g>\n",
       "<!-- ephys.experiment.TrialEventType&#45;&gt;ephys.experiment.TrialEvent -->\n",
       "<g class=\"edge\" id=\"edge5\">\n",
       "<title>ephys.experiment.TrialEventType-&gt;ephys.experiment.TrialEvent</title>\n",
       "<path d=\"M509.25,-70.8C494.47,-59.95 475.28,-45.87 460.55,-35.05\" fill=\"none\" stroke=\"#000000\" stroke-opacity=\"0.250980\" stroke-width=\"0.75\"/>\n",
       "</g>\n",
       "<!-- ephys.experiment.PhotostimTrial -->\n",
       "<g class=\"node\" id=\"node11\">\n",
       "<title>ephys.experiment.PhotostimTrial</title>\n",
       "<ellipse cx=\"996\" cy=\"-88.5\" fill=\"#00007f\" fill-opacity=\"0.250980\" rx=\"116\" ry=\"17.5\" stroke=\"#00007f\" stroke-opacity=\"0.250980\"/>\n",
       "<text fill=\"#00007f\" fill-opacity=\"0.627451\" font-family=\"arial\" font-size=\"12.00\" text-anchor=\"middle\" x=\"996\" y=\"-85.4\">ephys.experiment.PhotostimTrial</text>\n",
       "</g>\n",
       "<!-- ephys.experiment.PhotostimTrial&#45;&gt;ephys.experiment.PassivePhotostimTrial -->\n",
       "<g class=\"edge\" id=\"edge6\">\n",
       "<title>ephys.experiment.PhotostimTrial-&gt;ephys.experiment.PassivePhotostimTrial</title>\n",
       "<path d=\"M947.18,-72.53C894.45,-56.36 813.88,-31.65 783.33,-22.28\" fill=\"none\" stroke=\"#000000\" stroke-opacity=\"0.250980\" stroke-width=\"2\"/>\n",
       "</g>\n",
       "<!-- ephys.experiment.PhotostimTrial&#45;&gt;ephys.experiment.PhotostimTrial.Event -->\n",
       "<g class=\"edge\" id=\"edge7\">\n",
       "<title>ephys.experiment.PhotostimTrial-&gt;ephys.experiment.PhotostimTrial.Event</title>\n",
       "<path d=\"M996,-70.8C996,-57.08 996,-38.19 996,-27.27\" fill=\"none\" stroke=\"#000000\" stroke-opacity=\"0.250980\" stroke-width=\"0.75\"/>\n",
       "</g>\n",
       "<!-- ephys.experiment.TrialNoteType -->\n",
       "<g class=\"node\" id=\"node12\">\n",
       "<title>ephys.experiment.TrialNoteType</title>\n",
       "<polygon fill=\"#000000\" fill-opacity=\"0.125490\" points=\"881,-177 725,-177 725,-142 881,-142 881,-177\" stroke=\"transparent\"/>\n",
       "<text font-family=\"arial\" font-size=\"10.00\" text-anchor=\"middle\" x=\"803\" y=\"-157\">ephys.experiment.TrialNoteType</text>\n",
       "</g>\n",
       "<!-- ephys.experiment.TrialNoteType&#45;&gt;ephys.experiment.TrialNote -->\n",
       "<g class=\"edge\" id=\"edge8\">\n",
       "<title>ephys.experiment.TrialNoteType-&gt;ephys.experiment.TrialNote</title>\n",
       "<path d=\"M798.16,-141.8C795.01,-130.95 790.93,-116.87 787.8,-106.05\" fill=\"none\" stroke=\"#000000\" stroke-opacity=\"0.250980\" stroke-width=\"0.75\"/>\n",
       "</g>\n",
       "<!-- ephys.experiment.Task -->\n",
       "<g class=\"node\" id=\"node13\">\n",
       "<title>ephys.experiment.Task</title>\n",
       "<polygon fill=\"#000000\" fill-opacity=\"0.125490\" points=\"540,-248 422,-248 422,-213 540,-213 540,-248\" stroke=\"transparent\"/>\n",
       "<text font-family=\"arial\" font-size=\"10.00\" text-anchor=\"middle\" x=\"481\" y=\"-228\">ephys.experiment.Task</text>\n",
       "</g>\n",
       "<!-- ephys.experiment.Task&#45;&gt;ephys.experiment.BehaviorTrial -->\n",
       "<g class=\"edge\" id=\"edge9\">\n",
       "<title>ephys.experiment.Task-&gt;ephys.experiment.BehaviorTrial</title>\n",
       "<path d=\"M421.77,-214.89C400.74,-206.93 378.68,-194.9 364,-177 347.4,-156.76 343.97,-125.4 343.58,-106.23\" fill=\"none\" stroke=\"#000000\" stroke-dasharray=\"5,2\" stroke-opacity=\"0.250980\" stroke-width=\"0.75\"/>\n",
       "</g>\n",
       "<!-- ephys.experiment.TaskTraining -->\n",
       "<g class=\"node\" id=\"node18\">\n",
       "<title>ephys.experiment.TaskTraining</title>\n",
       "<polygon fill=\"#00ff00\" fill-opacity=\"0.188235\" points=\"706.5,-177 527.5,-177 527.5,-142 706.5,-142 706.5,-177\" stroke=\"#00ff00\" stroke-opacity=\"0.188235\"/>\n",
       "<text fill=\"darkgreen\" font-family=\"arial\" font-size=\"12.00\" text-anchor=\"middle\" x=\"617\" y=\"-156.4\">ephys.experiment.TaskTraining</text>\n",
       "</g>\n",
       "<!-- ephys.experiment.Task&#45;&gt;ephys.experiment.TaskTraining -->\n",
       "<g class=\"edge\" id=\"edge10\">\n",
       "<title>ephys.experiment.Task-&gt;ephys.experiment.TaskTraining</title>\n",
       "<path d=\"M513.58,-212.97C534.95,-202.13 562.8,-188 584.22,-177.13\" fill=\"none\" stroke=\"#000000\" stroke-opacity=\"0.250980\" stroke-width=\"0.75\"/>\n",
       "</g>\n",
       "<!-- ephys.experiment.TrackingDevice -->\n",
       "<g class=\"node\" id=\"node14\">\n",
       "<title>ephys.experiment.TrackingDevice</title>\n",
       "<polygon fill=\"#000000\" fill-opacity=\"0.125490\" points=\"1309,-177 1147,-177 1147,-142 1309,-142 1309,-177\" stroke=\"transparent\"/>\n",
       "<text font-family=\"arial\" font-size=\"10.00\" text-anchor=\"middle\" x=\"1228\" y=\"-157\">ephys.experiment.TrackingDevice</text>\n",
       "</g>\n",
       "<!-- ephys.experiment.TrackingDevice&#45;&gt;ephys.experiment.Tracking -->\n",
       "<g class=\"edge\" id=\"edge11\">\n",
       "<title>ephys.experiment.TrackingDevice-&gt;ephys.experiment.Tracking</title>\n",
       "<path d=\"M1228,-141.8C1228,-130.95 1228,-116.87 1228,-106.05\" fill=\"none\" stroke=\"#000000\" stroke-opacity=\"0.250980\" stroke-width=\"0.75\"/>\n",
       "</g>\n",
       "<!-- ephys.experiment.EarlyLick -->\n",
       "<g class=\"node\" id=\"node15\">\n",
       "<title>ephys.experiment.EarlyLick</title>\n",
       "<polygon fill=\"#000000\" fill-opacity=\"0.125490\" points=\"509.5,-177 372.5,-177 372.5,-142 509.5,-142 509.5,-177\" stroke=\"transparent\"/>\n",
       "<text font-family=\"arial\" font-size=\"10.00\" text-anchor=\"middle\" x=\"441\" y=\"-157\">ephys.experiment.EarlyLick</text>\n",
       "</g>\n",
       "<!-- ephys.experiment.EarlyLick&#45;&gt;ephys.experiment.BehaviorTrial -->\n",
       "<g class=\"edge\" id=\"edge12\">\n",
       "<title>ephys.experiment.EarlyLick-&gt;ephys.experiment.BehaviorTrial</title>\n",
       "<path d=\"M417.52,-141.8C402.27,-130.95 382.47,-116.87 367.26,-106.05\" fill=\"none\" stroke=\"#000000\" stroke-dasharray=\"5,2\" stroke-opacity=\"0.250980\" stroke-width=\"0.75\"/>\n",
       "</g>\n",
       "<!-- ephys.experiment.Photostim -->\n",
       "<g class=\"node\" id=\"node16\">\n",
       "<title>ephys.experiment.Photostim</title>\n",
       "<polygon fill=\"#000000\" fill-opacity=\"0.125490\" points=\"1484.5,-106 1343.5,-106 1343.5,-71 1484.5,-71 1484.5,-106\" stroke=\"transparent\"/>\n",
       "<text font-family=\"arial\" font-size=\"10.00\" text-anchor=\"middle\" x=\"1414\" y=\"-86\">ephys.experiment.Photostim</text>\n",
       "</g>\n",
       "<!-- ephys.experiment.Photostim&#45;&gt;ephys.experiment.Photostim.Profile -->\n",
       "<g class=\"edge\" id=\"edge13\">\n",
       "<title>ephys.experiment.Photostim-&gt;ephys.experiment.Photostim.Profile</title>\n",
       "<path d=\"M1414,-70.8C1414,-57.08 1414,-38.19 1414,-27.27\" fill=\"none\" stroke=\"#000000\" stroke-opacity=\"0.250980\" stroke-width=\"0.75\"/>\n",
       "</g>\n",
       "<!-- ephys.experiment.Photostim&#45;&gt;ephys.experiment.PhotostimTrial.Event -->\n",
       "<g class=\"edge\" id=\"edge14\">\n",
       "<title>ephys.experiment.Photostim-&gt;ephys.experiment.PhotostimTrial.Event</title>\n",
       "<path d=\"M1343.4,-72.56C1340.57,-72.02 1337.76,-71.5 1335,-71 1238.32,-53.43 1125.44,-36.7 1057.4,-27.02\" fill=\"none\" stroke=\"#000000\" stroke-opacity=\"0.250980\" stroke-width=\"0.75\"/>\n",
       "</g>\n",
       "<!-- ephys.experiment.Session -->\n",
       "<g class=\"node\" id=\"node17\">\n",
       "<title>ephys.experiment.Session</title>\n",
       "<polygon fill=\"#00ff00\" fill-opacity=\"0.188235\" points=\"1053,-248 899,-248 899,-213 1053,-213 1053,-248\" stroke=\"#00ff00\" stroke-opacity=\"0.188235\"/>\n",
       "<text fill=\"darkgreen\" font-family=\"arial\" font-size=\"12.00\" text-anchor=\"middle\" x=\"976\" y=\"-227.4\">ephys.experiment.Session</text>\n",
       "</g>\n",
       "<!-- ephys.experiment.Session&#45;&gt;ephys.experiment.TaskTraining -->\n",
       "<g class=\"edge\" id=\"edge15\">\n",
       "<title>ephys.experiment.Session-&gt;ephys.experiment.TaskTraining</title>\n",
       "<path d=\"M898.99,-214.7C841.4,-203.63 762.65,-188.49 703.01,-177.03\" fill=\"none\" stroke=\"#000000\" stroke-opacity=\"0.250980\" stroke-width=\"0.75\"/>\n",
       "</g>\n",
       "<!-- ephys.experiment.Session.Trial -->\n",
       "<g class=\"node\" id=\"node22\">\n",
       "<title>ephys.experiment.Session.Trial</title>\n",
       "<polygon fill=\"transparent\" points=\"1052.5,-169 899.5,-169 899.5,-150 1052.5,-150 1052.5,-169\" stroke=\"transparent\"/>\n",
       "<text font-family=\"arial\" font-size=\"10.00\" text-anchor=\"middle\" x=\"976\" y=\"-157\">ephys.experiment.Session.Trial</text>\n",
       "</g>\n",
       "<!-- ephys.experiment.Session&#45;&gt;ephys.experiment.Session.Trial -->\n",
       "<g class=\"edge\" id=\"edge16\">\n",
       "<title>ephys.experiment.Session-&gt;ephys.experiment.Session.Trial</title>\n",
       "<path d=\"M976,-212.8C976,-199.08 976,-180.19 976,-169.27\" fill=\"none\" stroke=\"#000000\" stroke-opacity=\"0.250980\" stroke-width=\"0.75\"/>\n",
       "</g>\n",
       "<!-- ephys.experiment.TrialInstruction -->\n",
       "<g class=\"node\" id=\"node19\">\n",
       "<title>ephys.experiment.TrialInstruction</title>\n",
       "<polygon fill=\"#000000\" fill-opacity=\"0.125490\" points=\"160,-177 0,-177 0,-142 160,-142 160,-177\" stroke=\"transparent\"/>\n",
       "<text font-family=\"arial\" font-size=\"10.00\" text-anchor=\"middle\" x=\"80\" y=\"-157\">ephys.experiment.TrialInstruction</text>\n",
       "</g>\n",
       "<!-- ephys.experiment.TrialInstruction&#45;&gt;ephys.experiment.BehaviorTrial -->\n",
       "<g class=\"edge\" id=\"edge17\">\n",
       "<title>ephys.experiment.TrialInstruction-&gt;ephys.experiment.BehaviorTrial</title>\n",
       "<path d=\"M143.23,-141.97C184.88,-131.09 239.19,-116.89 280.82,-106.01\" fill=\"none\" stroke=\"#000000\" stroke-dasharray=\"5,2\" stroke-opacity=\"0.250980\" stroke-width=\"0.75\"/>\n",
       "</g>\n",
       "<!-- ephys.experiment.PhotostimDevice -->\n",
       "<g class=\"node\" id=\"node21\">\n",
       "<title>ephys.experiment.PhotostimDevice</title>\n",
       "<polygon fill=\"#000000\" fill-opacity=\"0.125490\" points=\"1499,-177 1329,-177 1329,-142 1499,-142 1499,-177\" stroke=\"transparent\"/>\n",
       "<text font-family=\"arial\" font-size=\"10.00\" text-anchor=\"middle\" x=\"1414\" y=\"-157\">ephys.experiment.PhotostimDevice</text>\n",
       "</g>\n",
       "<!-- ephys.experiment.PhotostimDevice&#45;&gt;ephys.experiment.Photostim -->\n",
       "<g class=\"edge\" id=\"edge18\">\n",
       "<title>ephys.experiment.PhotostimDevice-&gt;ephys.experiment.Photostim</title>\n",
       "<path d=\"M1414,-141.8C1414,-130.95 1414,-116.87 1414,-106.05\" fill=\"none\" stroke=\"#000000\" stroke-opacity=\"0.250980\" stroke-width=\"0.75\"/>\n",
       "</g>\n",
       "<!-- ephys.experiment.Session.Trial&#45;&gt;ephys.experiment.BehaviorTrial -->\n",
       "<g class=\"edge\" id=\"edge19\">\n",
       "<title>ephys.experiment.Session.Trial-&gt;ephys.experiment.BehaviorTrial</title>\n",
       "<path d=\"M936.33,-149.95C921.81,-147.07 905.22,-144.07 890,-142 692.5,-115.18 640.81,-130.41 443,-106 440.06,-105.64 437.07,-105.25 434.06,-104.84\" fill=\"none\" stroke=\"#000000\" stroke-opacity=\"0.250980\" stroke-width=\"2\"/>\n",
       "</g>\n",
       "<!-- ephys.experiment.Session.Trial&#45;&gt;ephys.experiment.TrialNote -->\n",
       "<g class=\"edge\" id=\"edge20\">\n",
       "<title>ephys.experiment.Session.Trial-&gt;ephys.experiment.TrialNote</title>\n",
       "<path d=\"M951.95,-149.9C921.33,-138.95 867.78,-119.81 829.17,-106\" fill=\"none\" stroke=\"#000000\" stroke-opacity=\"0.250980\" stroke-width=\"0.75\"/>\n",
       "</g>\n",
       "<!-- ephys.experiment.Session.Trial&#45;&gt;ephys.experiment.Tracking -->\n",
       "<g class=\"edge\" id=\"edge21\">\n",
       "<title>ephys.experiment.Session.Trial-&gt;ephys.experiment.Tracking</title>\n",
       "<path d=\"M1007.15,-149.97C1049.56,-138.36 1125.97,-117.44 1176.85,-103.51\" fill=\"none\" stroke=\"#000000\" stroke-opacity=\"0.250980\" stroke-width=\"0.75\"/>\n",
       "</g>\n",
       "<!-- ephys.experiment.Session.Trial&#45;&gt;ephys.experiment.PhotostimTrial -->\n",
       "<g class=\"edge\" id=\"edge22\">\n",
       "<title>ephys.experiment.Session.Trial-&gt;ephys.experiment.PhotostimTrial</title>\n",
       "<path d=\"M978.53,-149.76C981.71,-138.81 987.21,-119.81 991.2,-106.07\" fill=\"none\" stroke=\"#000000\" stroke-opacity=\"0.250980\" stroke-width=\"2\"/>\n",
       "</g>\n",
       "</g>\n",
       "</svg>"
      ],
      "text/plain": [
       "<datajoint.erd.ERD at 0x3d05c940>"
      ]
     },
     "execution_count": 3,
     "metadata": {},
     "output_type": "execute_result"
    }
   ],
   "source": [
    "dj.ERD(ephys.experiment)"
   ]
  },
  {
   "cell_type": "code",
   "execution_count": 14,
   "metadata": {},
   "outputs": [],
   "source": [
    "import matplotlib.pyplot as plt\n",
    "%matplotlib inline\n",
    "import numpy as np\n",
    "import scipy as sp"
   ]
  },
  {
   "cell_type": "code",
   "execution_count": 5,
   "metadata": {},
   "outputs": [
    {
     "data": {
      "image/svg+xml": [
       "<svg height=\"311pt\" viewBox=\"0.00 0.00 650.00 311.00\" width=\"650pt\" xmlns=\"http://www.w3.org/2000/svg\" xmlns:xlink=\"http://www.w3.org/1999/xlink\">\n",
       "<g class=\"graph\" id=\"graph0\" transform=\"scale(1 1) rotate(0) translate(4 307)\">\n",
       "<polygon fill=\"white\" points=\"-4,4 -4,-307 646,-307 646,4 -4,4\" stroke=\"transparent\"/>\n",
       "<!-- ephys.ElectrodeGroup.Electrode -->\n",
       "<g class=\"node\" id=\"node1\">\n",
       "<title>ephys.ElectrodeGroup.Electrode</title>\n",
       "<polygon fill=\"transparent\" points=\"642,-153 484,-153 484,-134 642,-134 642,-153\" stroke=\"transparent\"/>\n",
       "<text font-family=\"arial\" font-size=\"10.00\" text-anchor=\"middle\" x=\"563\" y=\"-141\">ephys.ElectrodeGroup.Electrode</text>\n",
       "</g>\n",
       "<!-- ephys.Ephys.Spike -->\n",
       "<g class=\"node\" id=\"node4\">\n",
       "<title>ephys.Ephys.Spike</title>\n",
       "<polygon fill=\"transparent\" points=\"231.5,-19 130.5,-19 130.5,0 231.5,0 231.5,-19\" stroke=\"transparent\"/>\n",
       "<text font-family=\"arial\" font-size=\"10.00\" text-anchor=\"middle\" x=\"181\" y=\"-7\">ephys.Ephys.Spike</text>\n",
       "</g>\n",
       "<!-- ephys.ElectrodeGroup.Electrode&#45;&gt;ephys.Ephys.Spike -->\n",
       "<g class=\"edge\" id=\"edge1\">\n",
       "<title>ephys.ElectrodeGroup.Electrode-&gt;ephys.Ephys.Spike</title>\n",
       "<path d=\"M563.72,-133.96C564.69,-116.23 564.12,-75.43 541,-55 496.17,-15.38 319.58,-10.06 231.51,-9.95\" fill=\"none\" stroke=\"#000000\" stroke-dasharray=\"5,2\" stroke-opacity=\"0.250980\" stroke-width=\"0.75\"/>\n",
       "</g>\n",
       "<!-- ephys.ElectrodePosition -->\n",
       "<g class=\"node\" id=\"node13\">\n",
       "<title>ephys.ElectrodePosition</title>\n",
       "<polygon fill=\"#00ff00\" fill-opacity=\"0.188235\" points=\"532.5,-90 389.5,-90 389.5,-55 532.5,-55 532.5,-90\" stroke=\"#00ff00\" stroke-opacity=\"0.188235\"/>\n",
       "<text fill=\"darkgreen\" font-family=\"arial\" font-size=\"12.00\" text-anchor=\"middle\" x=\"461\" y=\"-69.4\">ephys.ElectrodePosition</text>\n",
       "</g>\n",
       "<!-- ephys.ElectrodeGroup.Electrode&#45;&gt;ephys.ElectrodePosition -->\n",
       "<g class=\"edge\" id=\"edge2\">\n",
       "<title>ephys.ElectrodeGroup.Electrode-&gt;ephys.ElectrodePosition</title>\n",
       "<path d=\"M550.08,-133.76C533.89,-122.81 505.81,-103.81 485.49,-90.07\" fill=\"none\" stroke=\"#000000\" stroke-opacity=\"0.250980\" stroke-width=\"2\"/>\n",
       "</g>\n",
       "<!-- ephys.Ephys -->\n",
       "<g class=\"node\" id=\"node2\">\n",
       "<title>ephys.Ephys</title>\n",
       "<ellipse cx=\"174\" cy=\"-143.5\" fill=\"#00007f\" fill-opacity=\"0.250980\" rx=\"51.75\" ry=\"17.5\" stroke=\"#00007f\" stroke-opacity=\"0.250980\"/>\n",
       "<text fill=\"#00007f\" fill-opacity=\"0.627451\" font-family=\"arial\" font-size=\"12.00\" text-anchor=\"middle\" x=\"174\" y=\"-140.4\">ephys.Ephys</text>\n",
       "</g>\n",
       "<!-- ephys.Ephys.Unit -->\n",
       "<g class=\"node\" id=\"node9\">\n",
       "<title>ephys.Ephys.Unit</title>\n",
       "<polygon fill=\"transparent\" points=\"221,-82 127,-82 127,-63 221,-63 221,-82\" stroke=\"transparent\"/>\n",
       "<text font-family=\"arial\" font-size=\"10.00\" text-anchor=\"middle\" x=\"174\" y=\"-70\">ephys.Ephys.Unit</text>\n",
       "</g>\n",
       "<!-- ephys.Ephys&#45;&gt;ephys.Ephys.Unit -->\n",
       "<g class=\"edge\" id=\"edge3\">\n",
       "<title>ephys.Ephys-&gt;ephys.Ephys.Unit</title>\n",
       "<path d=\"M174,-125.8C174,-112.08 174,-93.19 174,-82.27\" fill=\"none\" stroke=\"#000000\" stroke-opacity=\"0.250980\" stroke-width=\"0.75\"/>\n",
       "</g>\n",
       "<!-- ephys.Ephys.TrialUnit -->\n",
       "<g class=\"node\" id=\"node3\">\n",
       "<title>ephys.Ephys.TrialUnit</title>\n",
       "<polygon fill=\"transparent\" points=\"112,-19 0,-19 0,0 112,0 112,-19\" stroke=\"transparent\"/>\n",
       "<text font-family=\"arial\" font-size=\"10.00\" text-anchor=\"middle\" x=\"56\" y=\"-7\">ephys.Ephys.TrialUnit</text>\n",
       "</g>\n",
       "<!-- ephys.experiment.Session -->\n",
       "<g class=\"node\" id=\"node5\">\n",
       "<title>ephys.experiment.Session</title>\n",
       "<polygon fill=\"#00ff00\" fill-opacity=\"0.188235\" points=\"171,-303 17,-303 17,-268 171,-268 171,-303\" stroke=\"#00ff00\" stroke-opacity=\"0.188235\"/>\n",
       "<text fill=\"darkgreen\" font-family=\"arial\" font-size=\"12.00\" text-anchor=\"middle\" x=\"94\" y=\"-282.4\">ephys.experiment.Session</text>\n",
       "</g>\n",
       "<!-- ephys.ElectrodeGroup -->\n",
       "<g class=\"node\" id=\"node8\">\n",
       "<title>ephys.ElectrodeGroup</title>\n",
       "<polygon fill=\"#00ff00\" fill-opacity=\"0.188235\" points=\"500.5,-232 367.5,-232 367.5,-197 500.5,-197 500.5,-232\" stroke=\"#00ff00\" stroke-opacity=\"0.188235\"/>\n",
       "<text fill=\"darkgreen\" font-family=\"arial\" font-size=\"12.00\" text-anchor=\"middle\" x=\"434\" y=\"-211.4\">ephys.ElectrodeGroup</text>\n",
       "</g>\n",
       "<!-- ephys.experiment.Session&#45;&gt;ephys.ElectrodeGroup -->\n",
       "<g class=\"edge\" id=\"edge4\">\n",
       "<title>ephys.experiment.Session-&gt;ephys.ElectrodeGroup</title>\n",
       "<path d=\"M171.15,-268.84C230.32,-256.83 311.14,-240.43 367.48,-229\" fill=\"none\" stroke=\"#000000\" stroke-opacity=\"0.250980\" stroke-width=\"0.75\"/>\n",
       "</g>\n",
       "<!-- ephys.experiment.Session.Trial -->\n",
       "<g class=\"node\" id=\"node11\">\n",
       "<title>ephys.experiment.Session.Trial</title>\n",
       "<polygon fill=\"transparent\" points=\"170.5,-224 17.5,-224 17.5,-205 170.5,-205 170.5,-224\" stroke=\"transparent\"/>\n",
       "<text font-family=\"arial\" font-size=\"10.00\" text-anchor=\"middle\" x=\"94\" y=\"-212\">ephys.experiment.Session.Trial</text>\n",
       "</g>\n",
       "<!-- ephys.experiment.Session&#45;&gt;ephys.experiment.Session.Trial -->\n",
       "<g class=\"edge\" id=\"edge5\">\n",
       "<title>ephys.experiment.Session-&gt;ephys.experiment.Session.Trial</title>\n",
       "<path d=\"M94,-267.8C94,-254.08 94,-235.19 94,-224.27\" fill=\"none\" stroke=\"#000000\" stroke-opacity=\"0.250980\" stroke-width=\"0.75\"/>\n",
       "</g>\n",
       "<!-- ephys.ccf.CCF -->\n",
       "<g class=\"node\" id=\"node6\">\n",
       "<title>ephys.ccf.CCF</title>\n",
       "<polygon fill=\"#000000\" fill-opacity=\"0.125490\" points=\"465.5,-161 384.5,-161 384.5,-126 465.5,-126 465.5,-161\" stroke=\"transparent\"/>\n",
       "<text font-family=\"arial\" font-size=\"10.00\" text-anchor=\"middle\" x=\"425\" y=\"-141\">ephys.ccf.CCF</text>\n",
       "</g>\n",
       "<!-- ephys.LabeledTrack.Point -->\n",
       "<g class=\"node\" id=\"node7\">\n",
       "<title>ephys.LabeledTrack.Point</title>\n",
       "<polygon fill=\"transparent\" points=\"369.5,-82 240.5,-82 240.5,-63 369.5,-63 369.5,-82\" stroke=\"transparent\"/>\n",
       "<text font-family=\"arial\" font-size=\"10.00\" text-anchor=\"middle\" x=\"305\" y=\"-70\">ephys.LabeledTrack.Point</text>\n",
       "</g>\n",
       "<!-- ephys.ccf.CCF&#45;&gt;ephys.LabeledTrack.Point -->\n",
       "<g class=\"edge\" id=\"edge6\">\n",
       "<title>ephys.ccf.CCF-&gt;ephys.LabeledTrack.Point</title>\n",
       "<path d=\"M396.26,-125.97C372.27,-112.18 339.03,-93.06 319.99,-82.12\" fill=\"none\" stroke=\"#000000\" stroke-opacity=\"0.250980\" stroke-width=\"0.75\"/>\n",
       "</g>\n",
       "<!-- ephys.ccf.CCF&#45;&gt;ephys.ElectrodePosition -->\n",
       "<g class=\"edge\" id=\"edge7\">\n",
       "<title>ephys.ccf.CCF-&gt;ephys.ElectrodePosition</title>\n",
       "<path d=\"M433.71,-125.8C439.37,-114.95 446.72,-100.87 452.37,-90.05\" fill=\"none\" stroke=\"#000000\" stroke-dasharray=\"5,2\" stroke-opacity=\"0.250980\" stroke-width=\"0.75\"/>\n",
       "</g>\n",
       "<!-- ephys.ElectrodeGroup&#45;&gt;ephys.ElectrodeGroup.Electrode -->\n",
       "<g class=\"edge\" id=\"edge8\">\n",
       "<title>ephys.ElectrodeGroup-&gt;ephys.ElectrodeGroup.Electrode</title>\n",
       "<path d=\"M464.9,-196.97C490.69,-183.18 526.42,-164.06 546.88,-153.12\" fill=\"none\" stroke=\"#000000\" stroke-opacity=\"0.250980\" stroke-width=\"0.75\"/>\n",
       "</g>\n",
       "<!-- ephys.ElectrodeGroup&#45;&gt;ephys.Ephys -->\n",
       "<g class=\"edge\" id=\"edge9\">\n",
       "<title>ephys.ElectrodeGroup-&gt;ephys.Ephys</title>\n",
       "<path d=\"M370.79,-196.93C331.66,-186.65 280.39,-173.13 235,-161 227.9,-159.1 220.34,-157.07 213.04,-155.1\" fill=\"none\" stroke=\"#000000\" stroke-opacity=\"0.250980\" stroke-width=\"2\"/>\n",
       "</g>\n",
       "<!-- ephys.LabeledTrack -->\n",
       "<g class=\"node\" id=\"node12\">\n",
       "<title>ephys.LabeledTrack</title>\n",
       "<polygon fill=\"#00ff00\" fill-opacity=\"0.188235\" points=\"366,-161 244,-161 244,-126 366,-126 366,-161\" stroke=\"#00ff00\" stroke-opacity=\"0.188235\"/>\n",
       "<text fill=\"darkgreen\" font-family=\"arial\" font-size=\"12.00\" text-anchor=\"middle\" x=\"305\" y=\"-140.4\">ephys.LabeledTrack</text>\n",
       "</g>\n",
       "<!-- ephys.ElectrodeGroup&#45;&gt;ephys.LabeledTrack -->\n",
       "<g class=\"edge\" id=\"edge10\">\n",
       "<title>ephys.ElectrodeGroup-&gt;ephys.LabeledTrack</title>\n",
       "<path d=\"M403.1,-196.97C382.83,-186.13 356.41,-172 336.09,-161.13\" fill=\"none\" stroke=\"#000000\" stroke-opacity=\"0.250980\" stroke-width=\"2\"/>\n",
       "</g>\n",
       "<!-- ephys.Ephys.Unit&#45;&gt;ephys.Ephys.TrialUnit -->\n",
       "<g class=\"edge\" id=\"edge11\">\n",
       "<title>ephys.Ephys.Unit-&gt;ephys.Ephys.TrialUnit</title>\n",
       "<path d=\"M157.34,-62.89C134.85,-51.26 95.02,-30.67 72.57,-19.07\" fill=\"none\" stroke=\"#000000\" stroke-opacity=\"0.250980\" stroke-width=\"0.75\"/>\n",
       "</g>\n",
       "<!-- ephys.Ephys.Unit&#45;&gt;ephys.Ephys.Spike -->\n",
       "<g class=\"edge\" id=\"edge12\">\n",
       "<title>ephys.Ephys.Unit-&gt;ephys.Ephys.Spike</title>\n",
       "<path d=\"M175,-62.76C176.33,-51.16 178.67,-30.81 180,-19.22\" fill=\"none\" stroke=\"#000000\" stroke-opacity=\"0.250980\" stroke-width=\"0.75\"/>\n",
       "</g>\n",
       "<!-- ephys.Probe -->\n",
       "<g class=\"node\" id=\"node10\">\n",
       "<title>ephys.Probe</title>\n",
       "<polygon fill=\"#000000\" fill-opacity=\"0.125490\" points=\"469.5,-303 398.5,-303 398.5,-268 469.5,-268 469.5,-303\" stroke=\"transparent\"/>\n",
       "<text font-family=\"arial\" font-size=\"10.00\" text-anchor=\"middle\" x=\"434\" y=\"-283\">ephys.Probe</text>\n",
       "</g>\n",
       "<!-- ephys.Probe&#45;&gt;ephys.ElectrodeGroup -->\n",
       "<g class=\"edge\" id=\"edge13\">\n",
       "<title>ephys.Probe-&gt;ephys.ElectrodeGroup</title>\n",
       "<path d=\"M434,-267.8C434,-256.95 434,-242.87 434,-232.05\" fill=\"none\" stroke=\"#000000\" stroke-dasharray=\"5,2\" stroke-opacity=\"0.250980\" stroke-width=\"0.75\"/>\n",
       "</g>\n",
       "<!-- ephys.experiment.Session.Trial&#45;&gt;ephys.Ephys.TrialUnit -->\n",
       "<g class=\"edge\" id=\"edge14\">\n",
       "<title>ephys.experiment.Session.Trial-&gt;ephys.Ephys.TrialUnit</title>\n",
       "<path d=\"M91.34,-204.65C88.29,-194.27 83.29,-176.5 80,-161 68.62,-107.43 59.95,-42.09 57.05,-19.04\" fill=\"none\" stroke=\"#000000\" stroke-opacity=\"0.250980\" stroke-width=\"0.75\"/>\n",
       "</g>\n",
       "<!-- ephys.experiment.Session.Trial&#45;&gt;ephys.Ephys.Spike -->\n",
       "<g class=\"edge\" id=\"edge15\">\n",
       "<title>ephys.experiment.Session.Trial-&gt;ephys.Ephys.Spike</title>\n",
       "<path d=\"M93.07,-204.8C90.82,-179.53 87.3,-104.73 118,-55 128.2,-38.48 147.06,-26.4 161.49,-19.02\" fill=\"none\" stroke=\"#000000\" stroke-dasharray=\"5,2\" stroke-opacity=\"0.250980\" stroke-width=\"0.75\"/>\n",
       "</g>\n",
       "<!-- ephys.LabeledTrack&#45;&gt;ephys.LabeledTrack.Point -->\n",
       "<g class=\"edge\" id=\"edge16\">\n",
       "<title>ephys.LabeledTrack-&gt;ephys.LabeledTrack.Point</title>\n",
       "<path d=\"M305,-125.8C305,-112.08 305,-93.19 305,-82.27\" fill=\"none\" stroke=\"#000000\" stroke-opacity=\"0.250980\" stroke-width=\"0.75\"/>\n",
       "</g>\n",
       "</g>\n",
       "</svg>"
      ],
      "text/plain": [
       "<datajoint.erd.ERD at 0x54b3f98>"
      ]
     },
     "execution_count": 5,
     "metadata": {},
     "output_type": "execute_result"
    }
   ],
   "source": [
    "dj.ERD(ephys)-1"
   ]
  },
  {
   "cell_type": "code",
   "execution_count": 6,
   "metadata": {},
   "outputs": [],
   "source": [
    "behaviorT=ephys.experiment.BehaviorTrial()"
   ]
  },
  {
   "cell_type": "code",
   "execution_count": 7,
   "metadata": {},
   "outputs": [],
   "source": [
    "contraH=(behaviorT & 'animal = 123457' & 'session =5' & 'outcome = \"hit\"' & 'trial_instruction = \"right\"' & 'early_lick = \"no early\"').fetch('trial')"
   ]
  },
  {
   "cell_type": "code",
   "execution_count": 8,
   "metadata": {},
   "outputs": [],
   "source": [
    "ipsiH=(behaviorT & 'animal = 123457' & 'session =5' & 'outcome = \"hit\"' & 'trial_instruction = \"left\"' & 'early_lick = \"no early\"').fetch('trial')"
   ]
  },
  {
   "cell_type": "code",
   "execution_count": 9,
   "metadata": {},
   "outputs": [],
   "source": [
    "contraE=(behaviorT & 'animal = 123457' & 'session =5' & 'outcome = \"miss\"' & 'trial_instruction = \"right\"' & 'early_lick = \"no early\"').fetch('trial')"
   ]
  },
  {
   "cell_type": "code",
   "execution_count": 10,
   "metadata": {},
   "outputs": [],
   "source": [
    "ipsiE=(behaviorT & 'animal = 123457' & 'session =5' & 'outcome = \"miss\"' & 'trial_instruction = \"left\"' & 'early_lick = \"no early\"').fetch('trial')"
   ]
  },
  {
   "cell_type": "code",
   "execution_count": 11,
   "metadata": {},
   "outputs": [],
   "source": [
    "ephys1=ephys.Ephys()"
   ]
  },
  {
   "cell_type": "code",
   "execution_count": 12,
   "metadata": {},
   "outputs": [],
   "source": [
    "spike=ephys1.Spike()"
   ]
  },
  {
   "cell_type": "code",
   "execution_count": 13,
   "metadata": {},
   "outputs": [
    {
     "data": {
      "image/png": "[encoded data removed]",
      "text/plain": [
       "<matplotlib.figure.Figure at 0x3dd615c0>"
      ]
     },
     "metadata": {},
     "output_type": "display_data"
    }
   ],
   "source": [
    "for x in range(130,131):\n",
    "    unit1=(spike & {'unit': x} & {'animal': 123457} & 'session =5').fetch('spike_time','trial')\n",
    "    binSize=0.1;\n",
    "    plt.figure()\n",
    "    ax=plt.subplot(311)\n",
    "    plt.plot(np.asarray(unit1[0][np.in1d(unit1[1],contraH)], dtype='float')-2.95,unit1[1][np.in1d(unit1[1],contraH)]+500,'b.',markersize=1)\n",
    "    plt.plot(np.asarray(unit1[0][np.in1d(unit1[1],ipsiH)], dtype='float')-2.95,unit1[1][np.in1d(unit1[1],ipsiH)],'r.',markersize=1)\n",
    "    ax.set_axis_off()\n",
    "    ax.set_xlim([-3, 2])\n",
    "    ax.axvline(0,0,1, ls='--')\n",
    "    ax.axvline(-1.2,0,1, ls='--')\n",
    "    ax.axvline(-2.35,0,1, ls='--')\n",
    "    ax = plt.subplot(312)\n",
    "    psth=np.histogram(np.asarray(unit1[0][np.in1d(unit1[1],contraH)], dtype='float')-2.95,bins=np.arange(-3,2,binSize))\n",
    "    plt.plot(psth[1][1:],psth[0]/len(contraH)/binSize, 'b')\n",
    "    psth=np.histogram(np.asarray(unit1[0][np.in1d(unit1[1],ipsiH)], dtype='float')-2.95,bins=np.arange(-3,2,binSize))\n",
    "    plt.plot(psth[1][1:],psth[0]/len(ipsiH)/binSize, 'r')\n",
    "    plt.ylabel('spikes/s')\n",
    "    ax.spines[\"top\"].set_visible(False)  \n",
    "    ax.spines[\"right\"].set_visible(False)\n",
    "    ax.set_xlim([-3, 2])\n",
    "    ax.set_ylim([0, 20])\n",
    "    ax.set_xticklabels([])\n",
    "    ax.axvline(0,0,1, ls='--')\n",
    "    ax.axvline(-1.2,0,1, ls='--')\n",
    "    ax.axvline(-2.35,0,1, ls='--')\n",
    "    plt.title('Correct trials')\n",
    "    ax = plt.subplot(313)\n",
    "    psth=np.histogram(np.asarray(unit1[0][np.in1d(unit1[1],contraE)], dtype='float')-2.95,bins=np.arange(-3,2,0.1))\n",
    "    plt.plot(psth[1][1:],psth[0]/len(contraE)/binSize, 'b')\n",
    "    psth=np.histogram(np.asarray(unit1[0][np.in1d(unit1[1],ipsiE)], dtype='float')-2.95,bins=np.arange(-3,2,0.1))\n",
    "    plt.plot(psth[1][1:],psth[0]/len(ipsiE)/binSize, 'r')\n",
    "    ax.spines[\"top\"].set_visible(False)  \n",
    "    ax.spines[\"right\"].set_visible(False)\n",
    "    ax.set_xlim([-3, 2])\n",
    "    ax.set_ylim([0, 20])\n",
    "    ax.axvline(0,0,1, ls='--')\n",
    "    ax.axvline(-1.2,0,1, ls='--')\n",
    "    ax.axvline(-2.35,0,1, ls='--')\n",
    "    plt.title('Error trials')\n",
    "    plt.xlabel('Time to go cue (s)')"
   ]
  },
  {
   "cell_type": "code",
   "execution_count": 14,
   "metadata": {},
   "outputs": [],
   "source": [
    "hfNeurons=[]\n",
    "selectC=[]\n",
    "selectI=[]\n",
    "binSize=0.1\n",
    "for x in range(0,400):\n",
    "    unit1=(spike & {'unit': x} & {'animal': 123457} & 'session =5').fetch('spike_time','trial') # find high firing neurons\n",
    "    if len(unit1[0])/5/500>5:\n",
    "        hfNeurons=np.append(hfNeurons, x)\n",
    "        psthC=np.histogram(np.asarray(unit1[0][np.in1d(unit1[1],contraH)], dtype='float')-2.95,bins=np.arange(-3,2,binSize))\n",
    "        psthI=np.histogram(np.asarray(unit1[0][np.in1d(unit1[1],ipsiH)], dtype='float')-2.95,bins=np.arange(-3,2,binSize)) \n",
    "        if len(unit1[0][np.in1d(unit1[1],contraH[0:400])]) > len(unit1[0][np.in1d(unit1[1],ipsiH[0:400])]):\n",
    "            if len(selectC) == 0:\n",
    "                selectC=(psthC[0]/len(contraH)-psthI[0]/len(ipsiH))/max(psthC[0]/len(contraH)-psthI[0]/len(ipsiH))\n",
    "            elif len(selectC) != 0:\n",
    "                selectC=np.vstack((selectC, (psthC[0]/len(contraH)-psthI[0]/len(ipsiH))/max(psthC[0]/len(contraH)-psthI[0]/len(ipsiH))))\n",
    "        elif len(unit1[0][np.in1d(unit1[1],contraH[0:400])]) < len(unit1[0][np.in1d(unit1[1],ipsiH[0:400])]):\n",
    "            if len(selectI) == 0:\n",
    "                selectI=(psthI[0]/len(ipsiH)-psthC[0]/len(contraH))/min(psthC[0]/len(contraH)-psthI[0]/len(ipsiH))\n",
    "            elif len(selectI) != 0:\n",
    "                selectI=np.vstack((selectI, (psthI[0]/len(ipsiH)-psthC[0]/len(contraH))/min(psthC[0]/len(contraH)-psthI[0]/len(ipsiH))))"
   ]
  },
  {
   "cell_type": "code",
   "execution_count": null,
   "metadata": {},
   "outputs": [],
   "source": []
  },
  {
   "cell_type": "code",
   "execution_count": 15,
   "metadata": {},
   "outputs": [
    {
     "data": {
      "text/plain": [
       "49"
      ]
     },
     "execution_count": 15,
     "metadata": {},
     "output_type": "execute_result"
    }
   ],
   "source": [
    "len(selectC[1])"
   ]
  },
  {
   "cell_type": "code",
   "execution_count": null,
   "metadata": {},
   "outputs": [],
   "source": []
  },
  {
   "cell_type": "code",
   "execution_count": 16,
   "metadata": {},
   "outputs": [
    {
     "data": {
      "text/plain": [
       "<matplotlib.lines.Line2D at 0x3e5e5080>"
      ]
     },
     "execution_count": 16,
     "metadata": {},
     "output_type": "execute_result"
    },
    {
     "data": {
      "image/png": "[encoded data removed]",
      "text/plain": [
       "<matplotlib.figure.Figure at 0x3da1ecc0>"
      ]
     },
     "metadata": {},
     "output_type": "display_data"
    }
   ],
   "source": [
    "fig = plt.figure()\n",
    "ax = fig.add_subplot(111)\n",
    "plt.imshow(selectC[:][:],vmin=-1, vmax=1, extent=[psthC[1][1],psthC[1][-1],0, len(selectC[:][1])])\n",
    "plt.colorbar()\n",
    "plt.set_cmap('bwr_r')\n",
    "ax.set_aspect(0.1)\n",
    "plt.title('Contra-peferring neurons')\n",
    "plt.ylabel('Neuron number')\n",
    "plt.xlabel('Time to go cue (s)')\n",
    "ax.axvline(0,0,1, ls='--')\n",
    "ax.axvline(-1.2,0,1, ls='--')\n",
    "ax.axvline(-2.35,0,1, ls='--')"
   ]
  },
  {
   "cell_type": "code",
   "execution_count": 17,
   "metadata": {},
   "outputs": [
    {
     "data": {
      "text/plain": [
       "<matplotlib.lines.Line2D at 0x3efe8550>"
      ]
     },
     "execution_count": 17,
     "metadata": {},
     "output_type": "execute_result"
    },
    {
     "data": {
      "image/png": "[encoded data removed]",
      "text/plain": [
       "<matplotlib.figure.Figure at 0x3da55358>"
      ]
     },
     "metadata": {},
     "output_type": "display_data"
    }
   ],
   "source": [
    "fig = plt.figure()\n",
    "ax = fig.add_subplot(111)\n",
    "plt.imshow(selectI[:][:],vmin=-1, vmax=1, extent=[psthI[1][1],psthI[1][-1],0, len(selectI[:][1])])\n",
    "plt.colorbar()\n",
    "plt.set_cmap('bwr_r')\n",
    "ax.set_aspect(0.1)\n",
    "plt.title('Ipsi-peferring neurons')\n",
    "plt.ylabel('Neuron number')\n",
    "plt.xlabel('Time (s)')\n",
    "ax.axvline(0,0,1, ls='--')\n",
    "ax.axvline(-1.2,0,1, ls='--')\n",
    "ax.axvline(-2.35,0,1, ls='--')"
   ]
  },
  {
   "cell_type": "code",
   "execution_count": 18,
   "metadata": {},
   "outputs": [],
   "source": [
    "sC=np.empty(len(hfNeurons))\n",
    "sE=np.empty(len(hfNeurons))\n",
    "for x in range(0,len(hfNeurons)): # choice related activity\n",
    "    unit1=(spike & {'unit': hfNeurons[x]} & {'animal': 123457} & 'session =5').fetch('spike_time','trial') # find high firing neurons\n",
    "    spkC=np.asarray(unit1[0][np.in1d(unit1[1],contraH)], dtype='float')-2.95\n",
    "    spkI=np.asarray(unit1[0][np.in1d(unit1[1],ipsiH)], dtype='float')-2.95\n",
    "    spkCE=np.asarray(unit1[0][np.in1d(unit1[1],contraE)], dtype='float')-2.95\n",
    "    spkIE=np.asarray(unit1[0][np.in1d(unit1[1],ipsiE)], dtype='float')-2.95\n",
    "    sC[x]=(len(spkC[(spkC<2) & (spkC>0)])/len(contraH)-len(spkI[(spkI<2) & (spkI>0)])/len(ipsiH))/2\n",
    "    sE[x]=(len(spkCE[(spkCE<2) & (spkCE>0)])/len(contraE)-len(spkIE[(spkIE<2) & (spkIE>0)])/len(ipsiE))/2\n",
    "    "
   ]
  },
  {
   "cell_type": "code",
   "execution_count": 19,
   "metadata": {},
   "outputs": [
    {
     "data": {
      "text/plain": [
       "<matplotlib.lines.Line2D at 0x3d781748>"
      ]
     },
     "execution_count": 19,
     "metadata": {},
     "output_type": "execute_result"
    },
    {
     "data": {
      "image/png": "[encoded data removed]",
      "text/plain": [
       "<matplotlib.figure.Figure at 0x3d7cf5c0>"
      ]
     },
     "metadata": {},
     "output_type": "display_data"
    }
   ],
   "source": [
    "ax=plt.subplot(111)\n",
    "plt.plot(sC,sE,'k.',[-13, 13], [-13, 13],'k--',[-13, 13], [13, -13],'k--')\n",
    "plt.xlabel('Correct trials, response epoch selectivity (spike/s)')\n",
    "plt.ylabel('Error trials, response epoch selectivity (spikes/s)')\n",
    "plt.xlim(-13, 13)\n",
    "plt.ylim(-13, 13)\n",
    "plt.gca().set_aspect('equal', adjustable='box')\n",
    "ax.spines[\"top\"].set_visible(False)  \n",
    "ax.spines[\"right\"].set_visible(False)\n",
    "ax.axvline(0,0,1, ls='--', color='k')\n",
    "ax.axhline(0,0,1, ls='--', color='k')"
   ]
  },
  {
   "cell_type": "code",
   "execution_count": 20,
   "metadata": {},
   "outputs": [
    {
     "data": {
      "text/plain": [
       "array([[ 1.        , -0.32519055],\n",
       "       [-0.32519055,  1.        ]])"
      ]
     },
     "execution_count": 20,
     "metadata": {},
     "output_type": "execute_result"
    }
   ],
   "source": [
    "np.corrcoef(sC, sE)"
   ]
  },
  {
   "cell_type": "code",
   "execution_count": 21,
   "metadata": {},
   "outputs": [
    {
     "data": {
      "text/plain": [
       "LinregressResult(slope=-0.21440829133926351, intercept=-0.052673554105986842, rvalue=-0.3251905494159113, pvalue=0.0082136646330913336, stderr=0.078553063800597733)"
      ]
     },
     "execution_count": 21,
     "metadata": {},
     "output_type": "execute_result"
    }
   ],
   "source": [
    "from scipy.stats import linregress\n",
    "linregress(sC, sE)"
   ]
  },
  {
   "cell_type": "code",
   "execution_count": 22,
   "metadata": {},
   "outputs": [],
   "source": [
    "hfNeurons=[]\n",
    "selectC=[]\n",
    "selectI=[]\n",
    "binSize=0.1\n",
    "for x in range(1,512):\n",
    "    unit1=(spike & {'unit': x} & {'animal': 123458} & 'session =14').fetch('spike_time','trial') # find high firing neurons\n",
    "    if len(unit1[0])/5/500>4:\n",
    "        hfNeurons=np.append(hfNeurons, x)\n",
    "        psthC=np.histogram(np.asarray(unit1[0][np.in1d(unit1[1],contraH)], dtype='float')-2.95,bins=np.arange(-3,2,binSize))\n",
    "        psthI=np.histogram(np.asarray(unit1[0][np.in1d(unit1[1],ipsiH)], dtype='float')-2.95,bins=np.arange(-3,2,binSize)) \n",
    "        if len(unit1[0][np.in1d(unit1[1],contraH[0:100])]) > len(unit1[0][np.in1d(unit1[1],ipsiH[0:100])]):\n",
    "            if len(selectC) == 0:\n",
    "                selectC=(psthC[0]/len(contraH)-psthI[0]/len(ipsiH))/max(psthC[0]/len(contraH)-psthI[0]/len(ipsiH))\n",
    "            elif len(selectC) != 0:\n",
    "                selectC=np.vstack((selectC, (psthC[0]/len(contraH)-psthI[0]/len(ipsiH))/max(psthC[0]/len(contraH)-psthI[0]/len(ipsiH))))\n",
    "        elif len(unit1[0][np.in1d(unit1[1],contraH[0:100])]) < len(unit1[0][np.in1d(unit1[1],ipsiH[0:100])]):\n",
    "            if len(selectI) == 0:\n",
    "                selectI=(psthI[0]/len(ipsiH)-psthC[0]/len(contraH))/min(psthC[0]/len(contraH)-psthI[0]/len(ipsiH))\n",
    "            elif len(selectI) != 0:\n",
    "                selectI=np.vstack((selectI, (psthI[0]/len(ipsiH)-psthC[0]/len(contraH))/min(psthC[0]/len(contraH)-psthI[0]/len(ipsiH))))# coding direction"
   ]
  },
  {
   "cell_type": "code",
   "execution_count": 23,
   "metadata": {},
   "outputs": [
    {
     "data": {
      "text/plain": [
       "[]"
      ]
     },
     "execution_count": 23,
     "metadata": {},
     "output_type": "execute_result"
    }
   ],
   "source": [
    "selectC"
   ]
  },
  {
   "cell_type": "code",
   "execution_count": 24,
   "metadata": {},
   "outputs": [],
   "source": [
    "# noise correlation"
   ]
  },
  {
   "cell_type": "code",
   "execution_count": 1,
   "metadata": {},
   "outputs": [],
   "source": [
    "import h5py\n",
    "import numpy as np\n"
   ]
  },
  {
   "cell_type": "code",
   "execution_count": 9,
   "metadata": {},
   "outputs": [],
   "source": [
    "file=\"C:\\\\Users\\liul.HHMI\\Desktop\\\\tw5ap_imec3_opt3_jrc.mat\"\n",
    "f = h5py.File(file,'r')"
   ]
  },
  {
   "cell_type": "code",
   "execution_count": 35,
   "metadata": {},
   "outputs": [],
   "source": [
    "trWav_raw_clu = f['S_clu']['trWav_raw_clu']"
   ]
  },
  {
   "cell_type": "code",
   "execution_count": 54,
   "metadata": {},
   "outputs": [
    {
     "data": {
      "text/plain": [
       "[<matplotlib.lines.Line2D at 0x1c809748>,\n",
       " <matplotlib.lines.Line2D at 0x1c809898>,\n",
       " <matplotlib.lines.Line2D at 0x1c8099e8>,\n",
       " <matplotlib.lines.Line2D at 0x1c809b38>,\n",
       " <matplotlib.lines.Line2D at 0x1c809c88>,\n",
       " <matplotlib.lines.Line2D at 0x1c809dd8>,\n",
       " <matplotlib.lines.Line2D at 0x1c809f28>,\n",
       " <matplotlib.lines.Line2D at 0x1c8120b8>,\n",
       " <matplotlib.lines.Line2D at 0x1c812208>,\n",
       " <matplotlib.lines.Line2D at 0x1c812358>,\n",
       " <matplotlib.lines.Line2D at 0x1c7eaf98>,\n",
       " <matplotlib.lines.Line2D at 0x1c8125c0>,\n",
       " <matplotlib.lines.Line2D at 0x1c812710>,\n",
       " <matplotlib.lines.Line2D at 0x1c812860>,\n",
       " <matplotlib.lines.Line2D at 0x1c8129b0>,\n",
       " <matplotlib.lines.Line2D at 0x1c812b00>,\n",
       " <matplotlib.lines.Line2D at 0x1c812c50>,\n",
       " <matplotlib.lines.Line2D at 0x1c812da0>,\n",
       " <matplotlib.lines.Line2D at 0x1c812ef0>,\n",
       " <matplotlib.lines.Line2D at 0x1c816080>,\n",
       " <matplotlib.lines.Line2D at 0x1c8161d0>,\n",
       " <matplotlib.lines.Line2D at 0x1c816320>,\n",
       " <matplotlib.lines.Line2D at 0x1c816470>,\n",
       " <matplotlib.lines.Line2D at 0x1c8165c0>,\n",
       " <matplotlib.lines.Line2D at 0x1c816710>,\n",
       " <matplotlib.lines.Line2D at 0x1c816860>,\n",
       " <matplotlib.lines.Line2D at 0x1c8169b0>,\n",
       " <matplotlib.lines.Line2D at 0x1c816b00>,\n",
       " <matplotlib.lines.Line2D at 0x1c816c50>,\n",
       " <matplotlib.lines.Line2D at 0x1c816da0>,\n",
       " <matplotlib.lines.Line2D at 0x1c816ef0>,\n",
       " <matplotlib.lines.Line2D at 0x1c81c080>]"
      ]
     },
     "execution_count": 54,
     "metadata": {},
     "output_type": "execute_result"
    },
    {
     "data": {
      "image/png": "[encoded data removed]",
      "text/plain": [
       "<matplotlib.figure.Figure at 0x1c7d8c50>"
      ]
     },
     "metadata": {},
     "output_type": "display_data"
    }
   ],
   "source": [
    "plt.plot(trWav_raw_clu[0][:])"
   ]
  },
  {
   "cell_type": "code",
   "execution_count": 84,
   "metadata": {},
   "outputs": [
    {
     "data": {
      "text/plain": [
       "array([[ -1.26818066e+01,  -1.23208523e+01,  -1.30239849e+01,\n",
       "         -1.45403976e+01,  -1.82364826e+01,  -2.84575577e+01,\n",
       "         -6.98669281e+01,  -1.37709152e+02,  -1.55990372e+02,\n",
       "         -1.31277863e+02,  -8.82888412e+01,  -4.34388046e+01,\n",
       "         -7.36380816e+00,   1.97557220e+01,   4.21596069e+01,\n",
       "          5.77549324e+01,   6.28853912e+01,   6.15588417e+01,\n",
       "          5.77502480e+01,   5.28986702e+01,   4.78549347e+01,\n",
       "          4.51197624e+01,   4.36596031e+01,   4.21666489e+01,\n",
       "          3.90119781e+01,   3.48635330e+01,   3.11182022e+01,\n",
       "          2.71900902e+01,   2.30158577e+01,   1.85275917e+01,\n",
       "          1.46416426e+01,   1.12643127e+01],\n",
       "       [ -8.90135765e+00,  -9.11228657e+00,  -9.39824581e+00,\n",
       "         -1.18146305e+01,  -1.45779133e+01,  -1.68794994e+01,\n",
       "         -4.00263557e+01,  -8.08896332e+01,  -9.34146500e+01,\n",
       "         -8.09248199e+01,  -5.55138588e+01,  -2.71123047e+01,\n",
       "         -2.95293331e+00,   1.63595791e+01,   3.00189610e+01,\n",
       "          3.45072250e+01,   2.84790878e+01,   2.24697227e+01,\n",
       "          2.23103638e+01,   2.46142750e+01,   2.70869141e+01,\n",
       "          2.89033051e+01,   3.01267509e+01,   3.00822258e+01,\n",
       "          2.85869122e+01,   2.57041092e+01,   2.36673832e+01,\n",
       "          2.15298767e+01,   1.81759720e+01,   1.60783043e+01,\n",
       "          1.27454996e+01,   1.00736256e+01],\n",
       "       [ -6.51311874e+00,  -6.72869682e+00,  -5.77719212e+00,\n",
       "         -4.25140858e+00,  -5.09984493e+00,  -1.24263525e+01,\n",
       "         -3.14576626e+01,  -5.73724518e+01,  -6.62201614e+01,\n",
       "         -6.09865646e+01,  -4.63427773e+01,  -2.81576157e+01,\n",
       "         -1.20209455e+01,   8.41569901e-01,   1.10626459e+01,\n",
       "          1.99197292e+01,   2.43634701e+01,   2.53759861e+01,\n",
       "          2.60345230e+01,   2.54040947e+01,   2.56618729e+01,\n",
       "          2.55423546e+01,   2.49681473e+01,   2.36720314e+01,\n",
       "          2.16658115e+01,   1.90759430e+01,   1.61438942e+01,\n",
       "          1.44728422e+01,   1.22157812e+01,   1.00829601e+01,\n",
       "          8.89942646e+00,   7.95485973e+00],\n",
       "       [ -3.67401838e+00,  -3.47478390e+00,  -3.07166576e+00,\n",
       "         -2.35916376e+00,  -2.26074457e+00,  -4.28806543e+00,\n",
       "         -1.39818192e+01,  -2.87732353e+01,  -3.47146530e+01,\n",
       "         -3.30950966e+01,  -2.54404297e+01,  -1.66138535e+01,\n",
       "         -8.50213814e+00,  -1.71228647e+00,   3.13693285e+00,\n",
       "          6.81660175e+00,   8.32596970e+00,   7.73302317e+00,\n",
       "          8.88848305e+00,   1.07588053e+01,   1.17947464e+01,\n",
       "          1.22634888e+01,   1.26033068e+01,   1.32853394e+01,\n",
       "          1.32361298e+01,   1.27673864e+01,   1.17853403e+01,\n",
       "          1.14970570e+01,   1.03626966e+01,   9.83533859e+00,\n",
       "          9.23770714e+00,   7.63224363e+00],\n",
       "       [ -2.15263367e+00,  -2.57685184e+00,  -1.66046619e+00,\n",
       "         -4.30011749e-01,  -6.29210472e-01,  -3.01280022e+00,\n",
       "         -8.60967636e+00,  -1.55166864e+01,  -1.90909615e+01,\n",
       "         -1.88050041e+01,  -1.55940771e+01,  -1.04752779e+01,\n",
       "         -7.08625317e+00,  -3.13467979e+00,  -5.61261177e-01,\n",
       "          2.11300850e+00,   3.42779160e+00,   4.22472954e+00,\n",
       "          5.38952351e+00,   6.35046959e+00,   7.13331699e+00,\n",
       "          8.12237263e+00,   8.64264965e+00,   8.46691132e+00,\n",
       "          8.15513134e+00,   7.60674477e+00,   7.33015537e+00,\n",
       "          7.27622509e+00,   7.72862434e+00,   6.91766739e+00,\n",
       "          6.01766109e+00,   4.43093777e+00],\n",
       "       [ -8.41963291e-01,  -7.31813908e-01,  -5.04469872e-01,\n",
       "         -4.97424603e-01,   3.72111797e-01,   8.19754601e-01,\n",
       "         -5.74779510e-01,  -3.64276171e+00,  -5.56461811e+00,\n",
       "         -6.29822016e+00,  -6.15992546e+00,  -4.72555161e+00,\n",
       "         -3.56304646e+00,  -2.77086496e+00,  -2.13103294e+00,\n",
       "         -1.05289221e+00,  -7.08818436e-02,   5.03361225e-01,\n",
       "          9.15849209e-01,   1.66819096e+00,   1.59552097e+00,\n",
       "          1.23928785e+00,   1.04709864e+00,   1.27912760e+00,\n",
       "          1.97757483e+00,   2.31506824e+00,   2.80491114e+00,\n",
       "          3.48458290e+00,   4.11039591e+00,   5.11350632e+00,\n",
       "          4.99398708e+00,   4.88848686e+00],\n",
       "       [ -1.53601170e+00,  -1.47035122e+00,  -1.03676319e+00,\n",
       "          2.00700760e-01,   2.61640549e-01,  -1.04384422e+00,\n",
       "         -4.33444977e+00,  -8.49695206e+00,  -1.11336708e+01,\n",
       "         -1.14101887e+01,  -9.92660522e+00,  -7.30633736e+00,\n",
       "         -5.39381504e+00,  -2.80630589e+00,  -1.40712261e+00,\n",
       "          4.25720215e-01,   1.18510723e+00,   1.41005516e+00,\n",
       "          2.01945305e+00,   2.91709900e+00,   3.66947651e+00,\n",
       "          4.09834385e+00,   5.37807941e+00,   5.31005859e+00,\n",
       "          5.31477928e+00,   5.18589020e+00,   5.20226955e+00,\n",
       "          4.84836102e+00,   4.98197079e+00,   5.40618896e+00,\n",
       "          4.91867065e+00,   4.56712246e+00],\n",
       "       [ -7.38179684e-01,  -7.68649578e-01,  -6.42085075e-01,\n",
       "         -1.07717514e-01,   4.46319580e-02,   2.97760963e-01,\n",
       "         -5.17880917e-01,  -2.73274183e+00,  -4.29600477e+00,\n",
       "         -4.99209166e+00,  -5.17258644e+00,  -4.11787033e+00,\n",
       "         -3.14286947e+00,  -2.60617733e+00,  -2.07177401e+00,\n",
       "         -4.03046608e-01,  -1.94442272e-01,  -1.52242184e-01,\n",
       "          4.89914417e-01,   8.18037987e-01,   1.59616470e+00,\n",
       "          1.69930458e+00,   2.02038288e+00,   2.23835707e+00,\n",
       "          2.48211622e+00,   2.42822170e+00,   2.42586136e+00,\n",
       "          2.83133984e+00,   2.99538374e+00,   3.64694595e+00,\n",
       "          3.22977304e+00,   3.41259241e+00],\n",
       "       [ -5.35082817e-01,  -8.30411911e-01,  -6.40153885e-02,\n",
       "          1.91473961e-01,   2.40683556e-01,  -5.22851944e-02,\n",
       "         -9.40561295e-01,  -2.70302296e+00,  -4.51004505e+00,\n",
       "         -4.70695496e+00,  -4.43973541e+00,  -3.25849056e+00,\n",
       "         -2.62098312e+00,  -1.41863823e+00,  -1.35769844e+00,\n",
       "         -4.57763672e-01,   1.30534172e-01,   2.80523300e-01,\n",
       "          8.28981400e-01,   6.55531883e-01,   1.35633945e+00,\n",
       "          1.05636120e+00,   2.07817554e+00,   2.46727467e+00,\n",
       "          2.51884460e+00,   2.16021538e+00,   2.08525658e+00,\n",
       "          2.11100578e+00,   2.11801529e+00,   2.53286362e+00,\n",
       "          2.39696503e+00,   2.68521309e+00],\n",
       "       [ -7.34496117e-01,  -2.23553181e-01,   5.76853752e-02,\n",
       "         -3.38423252e-01,   1.49095058e-01,   7.58457184e-01,\n",
       "          1.07016563e+00,  -3.66532803e-01,  -1.36027336e+00,\n",
       "         -1.69311762e+00,  -1.78685188e+00,  -1.60170794e+00,\n",
       "         -1.35794878e+00,  -1.61107779e+00,  -1.49388313e+00,\n",
       "         -1.17512941e+00,  -4.27472591e-01,  -6.54816628e-01,\n",
       "         -2.23553181e-01,  -2.02488899e-01,   8.24081898e-01,\n",
       "          7.11572170e-01,   9.31906700e-01,   9.41276550e-01,\n",
       "          8.75651836e-01,   8.19396973e-01,   9.92846489e-01,\n",
       "          1.02800131e+00,   6.76417351e-01,   1.45690441e+00,\n",
       "          1.74282789e+00,   2.21625566e+00],\n",
       "       [ -6.74772263e-01,  -4.33373451e-01,   9.62734222e-02,\n",
       "          3.35383415e-01,   5.76782227e-01,  -3.09205055e-01,\n",
       "         -2.92754173e-01,  -1.24197006e+00,  -2.11150646e+00,\n",
       "         -2.74665356e+00,  -2.84042358e+00,  -2.10449696e+00,\n",
       "         -1.72247887e+00,  -1.89356804e+00,  -1.61933899e+00,\n",
       "         -5.29503822e-01,  -2.90393829e-01,  -5.95092773e-01,\n",
       "         -9.35554504e-02,  -3.72648239e-02,   8.11171532e-01,\n",
       "          5.01751900e-01,   1.61268711e+00,   1.81195736e+00,\n",
       "          1.93376541e+00,   1.79786682e+00,   1.71818733e+00,\n",
       "          1.34782791e+00,   1.22601986e+00,   2.04398632e+00,\n",
       "          1.84006691e+00,   1.88226700e+00],\n",
       "       [  3.30394506e-01,  -2.35140324e-02,  -2.78985500e-01,\n",
       "         -1.66475773e-01,   4.21106815e-02,   4.67956066e-02,\n",
       "         -1.19608641e-01,  -1.61790848e-01,  -8.36795568e-01,\n",
       "         -1.11805201e+00,  -1.26101375e+00,  -1.06179714e+00,\n",
       "         -6.70391321e-01,  -1.54227018e+00,  -1.53053999e+00,\n",
       "         -8.78977776e-01,  -5.74296713e-01,  -1.07585192e+00,\n",
       "         -4.85229492e-01,   7.33512640e-01,   3.23367119e-01,\n",
       "          5.97578287e-01,   8.24922323e-01,   1.49289966e+00,\n",
       "          1.24679804e+00,   7.56955147e-01,   1.13899112e+00,\n",
       "          5.31953573e-01,   3.56179476e-01,   1.11320615e+00,\n",
       "          8.67104530e-01,   1.38273239e+00]], dtype=float32)"
      ]
     },
     "execution_count": 84,
     "metadata": {},
     "output_type": "execute_result"
    }
   ],
   "source": [
    "trWav_raw_clu[0]"
   ]
  },
  {
   "cell_type": "code",
   "execution_count": 93,
   "metadata": {},
   "outputs": [],
   "source": [
    "a= np.concatenate((trWav_raw_clu[0:1][:][:],trWav_raw_clu), axis=0)"
   ]
  },
  {
   "cell_type": "code",
   "execution_count": 97,
   "metadata": {},
   "outputs": [
    {
     "data": {
      "text/plain": [
       "array([   2.47392654,    8.49033546,   23.398983  ,   26.15539932,\n",
       "         16.01471901,    1.67452097,  -27.55097198, -118.94688416,\n",
       "       -173.67588806, -110.14802551,  -40.76993561,   -4.09272909,\n",
       "         11.34799767,   19.03849792,   23.89730263,   29.42576408,\n",
       "         31.6189537 ,   31.00901794,   28.87809372,   26.5213604 ,\n",
       "         23.75714874,   21.88060379,   19.98066902,   18.6699276 ,\n",
       "         16.84008789,   16.03031158,   15.17636776,   14.78705406,\n",
       "         14.37957287,   12.35246658,   11.36097908,   10.02427292], dtype=float32)"
      ]
     },
     "execution_count": 97,
     "metadata": {},
     "output_type": "execute_result"
    }
   ],
   "source": [
    "a[2][0]"
   ]
  },
  {
   "cell_type": "code",
   "execution_count": 45,
   "metadata": {},
   "outputs": [
    {
     "data": {
      "text/plain": [
       "array([1, 2, 3])"
      ]
     },
     "execution_count": 45,
     "metadata": {},
     "output_type": "execute_result"
    }
   ],
   "source": [
    "np.(1,4)"
   ]
  },
  {
   "cell_type": "code",
   "execution_count": null,
   "metadata": {},
   "outputs": [],
   "source": []
  }
 ],
 "metadata": {
  "kernelspec": {
   "display_name": "Python 3",
   "language": "python",
   "name": "python3"
  },
  "language_info": {
   "codemirror_mode": {
    "name": "ipython",
    "version": 3
   },
   "file_extension": ".py",
   "mimetype": "text/x-python",
   "name": "python",
   "nbconvert_exporter": "python",
   "pygments_lexer": "ipython3",
   "version": "3.6.3"
  }
 },
 "nbformat": 4,
 "nbformat_minor": 2
}
