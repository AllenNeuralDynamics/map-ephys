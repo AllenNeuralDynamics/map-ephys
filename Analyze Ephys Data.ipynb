{
 "cells": [
  {
   "cell_type": "code",
   "execution_count": 1,
   "metadata": {},
   "outputs": [],
   "source": [
    "import datajoint as dj"
   ]
  },
  {
   "cell_type": "code",
   "execution_count": 2,
   "metadata": {},
   "outputs": [
    {
     "name": "stdout",
     "output_type": "stream",
     "text": [
      "Connecting daveliu@mesoscale-activity.datajoint.io:3306\n"
     ]
    }
   ],
   "source": [
    "import mock"
   ]
  },
  {
   "cell_type": "code",
   "execution_count": null,
   "metadata": {},
   "outputs": [],
   "source": [
    "schema = dj.schema('map_ccf', locals())"
   ]
  },
  {
   "cell_type": "code",
   "execution_count": null,
   "metadata": {},
   "outputs": [],
   "source": [
    "mock.dropdbs()"
   ]
  },
  {
   "cell_type": "code",
   "execution_count": null,
   "metadata": {},
   "outputs": [],
   "source": [
    "import ephys"
   ]
  },
  {
   "cell_type": "code",
   "execution_count": null,
   "metadata": {
    "scrolled": false
   },
   "outputs": [],
   "source": [
    "dj.ERD(ephys.experiment)"
   ]
  },
  {
   "cell_type": "code",
   "execution_count": null,
   "metadata": {},
   "outputs": [],
   "source": [
    "import matplotlib.pyplot as plt\n",
    "%matplotlib inline\n",
    "import numpy as np\n",
    "import scipy as sp"
   ]
  },
  {
   "cell_type": "code",
   "execution_count": null,
   "metadata": {},
   "outputs": [],
   "source": [
    "dj.ERD(ephys)-1"
   ]
  },
  {
   "cell_type": "code",
   "execution_count": null,
   "metadata": {},
   "outputs": [],
   "source": [
    "behaviorT=ephys.experiment.BehaviorTrial()"
   ]
  },
  {
   "cell_type": "code",
   "execution_count": null,
   "metadata": {},
   "outputs": [],
   "source": [
    "contraH=(behaviorT & 'animal = 123457' & 'session =5' & 'outcome = \"hit\"' & 'trial_instruction = \"right\"' & 'early_lick = \"no early\"').fetch('trial')"
   ]
  },
  {
   "cell_type": "code",
   "execution_count": null,
   "metadata": {},
   "outputs": [],
   "source": [
    "ipsiH=(behaviorT & 'animal = 123457' & 'session =5' & 'outcome = \"hit\"' & 'trial_instruction = \"left\"' & 'early_lick = \"no early\"').fetch('trial')"
   ]
  },
  {
   "cell_type": "code",
   "execution_count": null,
   "metadata": {},
   "outputs": [],
   "source": [
    "contraE=(behaviorT & 'animal = 123457' & 'session =5' & 'outcome = \"miss\"' & 'trial_instruction = \"right\"' & 'early_lick = \"no early\"').fetch('trial')"
   ]
  },
  {
   "cell_type": "code",
   "execution_count": null,
   "metadata": {},
   "outputs": [],
   "source": [
    "ipsiE=(behaviorT & 'animal = 123457' & 'session =5' & 'outcome = \"miss\"' & 'trial_instruction = \"left\"' & 'early_lick = \"no early\"').fetch('trial')"
   ]
  },
  {
   "cell_type": "code",
   "execution_count": null,
   "metadata": {},
   "outputs": [],
   "source": [
    "ephys1=ephys.Ephys()"
   ]
  },
  {
   "cell_type": "code",
   "execution_count": null,
   "metadata": {},
   "outputs": [],
   "source": [
    "spike=ephys1.Spike()"
   ]
  },
  {
   "cell_type": "code",
   "execution_count": null,
   "metadata": {},
   "outputs": [],
   "source": [
    "for x in range(130,131):\n",
    "    unit1=(spike & {'unit': x} & {'animal': 123457} & 'session =5').fetch('spike_time','trial')\n",
    "    binSize=0.1;\n",
    "    plt.figure()\n",
    "    ax=plt.subplot(311)\n",
    "    plt.plot(np.asarray(unit1[0][np.in1d(unit1[1],contraH)], dtype='float')-2.95,unit1[1][np.in1d(unit1[1],contraH)]+500,'b.',markersize=1)\n",
    "    plt.plot(np.asarray(unit1[0][np.in1d(unit1[1],ipsiH)], dtype='float')-2.95,unit1[1][np.in1d(unit1[1],ipsiH)],'r.',markersize=1)\n",
    "    ax.set_axis_off()\n",
    "    ax.set_xlim([-3, 2])\n",
    "    ax.axvline(0,0,1, ls='--')\n",
    "    ax.axvline(-1.2,0,1, ls='--')\n",
    "    ax.axvline(-2.35,0,1, ls='--')\n",
    "    ax = plt.subplot(312)\n",
    "    psth=np.histogram(np.asarray(unit1[0][np.in1d(unit1[1],contraH)], dtype='float')-2.95,bins=np.arange(-3,2,binSize))\n",
    "    plt.plot(psth[1][1:],psth[0]/len(contraH)/binSize, 'b')\n",
    "    psth=np.histogram(np.asarray(unit1[0][np.in1d(unit1[1],ipsiH)], dtype='float')-2.95,bins=np.arange(-3,2,binSize))\n",
    "    plt.plot(psth[1][1:],psth[0]/len(ipsiH)/binSize, 'r')\n",
    "    plt.ylabel('spikes/s')\n",
    "    ax.spines[\"top\"].set_visible(False)  \n",
    "    ax.spines[\"right\"].set_visible(False)\n",
    "    ax.set_xlim([-3, 2])\n",
    "    ax.set_ylim([0, 20])\n",
    "    ax.set_xticklabels([])\n",
    "    ax.axvline(0,0,1, ls='--')\n",
    "    ax.axvline(-1.2,0,1, ls='--')\n",
    "    ax.axvline(-2.35,0,1, ls='--')\n",
    "    plt.title('Correct trials')\n",
    "    ax = plt.subplot(313)\n",
    "    psth=np.histogram(np.asarray(unit1[0][np.in1d(unit1[1],contraE)], dtype='float')-2.95,bins=np.arange(-3,2,0.1))\n",
    "    plt.plot(psth[1][1:],psth[0]/len(contraE)/binSize, 'b')\n",
    "    psth=np.histogram(np.asarray(unit1[0][np.in1d(unit1[1],ipsiE)], dtype='float')-2.95,bins=np.arange(-3,2,0.1))\n",
    "    plt.plot(psth[1][1:],psth[0]/len(ipsiE)/binSize, 'r')\n",
    "    ax.spines[\"top\"].set_visible(False)  \n",
    "    ax.spines[\"right\"].set_visible(False)\n",
    "    ax.set_xlim([-3, 2])\n",
    "    ax.set_ylim([0, 20])\n",
    "    ax.axvline(0,0,1, ls='--')\n",
    "    ax.axvline(-1.2,0,1, ls='--')\n",
    "    ax.axvline(-2.35,0,1, ls='--')\n",
    "    plt.title('Error trials')\n",
    "    plt.xlabel('Time to go cue (s)')"
   ]
  },
  {
   "cell_type": "code",
   "execution_count": null,
   "metadata": {},
   "outputs": [],
   "source": [
    "hfNeurons=[]\n",
    "selectC=[]\n",
    "selectI=[]\n",
    "binSize=0.1\n",
    "for x in range(0,400):\n",
    "    unit1=(spike & {'unit': x} & {'animal': 123457} & 'session =5').fetch('spike_time','trial') # find high firing neurons\n",
    "    if len(unit1[0])/5/500>5:\n",
    "        hfNeurons=np.append(hfNeurons, x)\n",
    "        psthC=np.histogram(np.asarray(unit1[0][np.in1d(unit1[1],contraH)], dtype='float')-2.95,bins=np.arange(-3,2,binSize))\n",
    "        psthI=np.histogram(np.asarray(unit1[0][np.in1d(unit1[1],ipsiH)], dtype='float')-2.95,bins=np.arange(-3,2,binSize)) \n",
    "        if len(unit1[0][np.in1d(unit1[1],contraH[0:400])]) > len(unit1[0][np.in1d(unit1[1],ipsiH[0:400])]):\n",
    "            if len(selectC) == 0:\n",
    "                selectC=(psthC[0]/len(contraH)-psthI[0]/len(ipsiH))/max(psthC[0]/len(contraH)-psthI[0]/len(ipsiH))\n",
    "            elif len(selectC) != 0:\n",
    "                selectC=np.vstack((selectC, (psthC[0]/len(contraH)-psthI[0]/len(ipsiH))/max(psthC[0]/len(contraH)-psthI[0]/len(ipsiH))))\n",
    "        elif len(unit1[0][np.in1d(unit1[1],contraH[0:400])]) < len(unit1[0][np.in1d(unit1[1],ipsiH[0:400])]):\n",
    "            if len(selectI) == 0:\n",
    "                selectI=(psthI[0]/len(ipsiH)-psthC[0]/len(contraH))/min(psthC[0]/len(contraH)-psthI[0]/len(ipsiH))\n",
    "            elif len(selectI) != 0:\n",
    "                selectI=np.vstack((selectI, (psthI[0]/len(ipsiH)-psthC[0]/len(contraH))/min(psthC[0]/len(contraH)-psthI[0]/len(ipsiH))))"
   ]
  },
  {
   "cell_type": "code",
   "execution_count": null,
   "metadata": {},
   "outputs": [],
   "source": []
  },
  {
   "cell_type": "code",
   "execution_count": null,
   "metadata": {},
   "outputs": [],
   "source": [
    "len(selectC[1])"
   ]
  },
  {
   "cell_type": "code",
   "execution_count": null,
   "metadata": {},
   "outputs": [],
   "source": []
  },
  {
   "cell_type": "code",
   "execution_count": null,
   "metadata": {},
   "outputs": [],
   "source": [
    "fig = plt.figure()\n",
    "ax = fig.add_subplot(111)\n",
    "plt.imshow(selectC[:][:],vmin=-1, vmax=1, extent=[psthC[1][1],psthC[1][-1],0, len(selectC[:][1])])\n",
    "plt.colorbar()\n",
    "plt.set_cmap('bwr_r')\n",
    "ax.set_aspect(0.1)\n",
    "plt.title('Contra-peferring neurons')\n",
    "plt.ylabel('Neuron number')\n",
    "plt.xlabel('Time to go cue (s)')\n",
    "ax.axvline(0,0,1, ls='--')\n",
    "ax.axvline(-1.2,0,1, ls='--')\n",
    "ax.axvline(-2.35,0,1, ls='--')"
   ]
  },
  {
   "cell_type": "code",
   "execution_count": null,
   "metadata": {},
   "outputs": [],
   "source": [
    "fig = plt.figure()\n",
    "ax = fig.add_subplot(111)\n",
    "plt.imshow(selectI[:][:],vmin=-1, vmax=1, extent=[psthI[1][1],psthI[1][-1],0, len(selectI[:][1])])\n",
    "plt.colorbar()\n",
    "plt.set_cmap('bwr_r')\n",
    "ax.set_aspect(0.1)\n",
    "plt.title('Ipsi-peferring neurons')\n",
    "plt.ylabel('Neuron number')\n",
    "plt.xlabel('Time (s)')\n",
    "ax.axvline(0,0,1, ls='--')\n",
    "ax.axvline(-1.2,0,1, ls='--')\n",
    "ax.axvline(-2.35,0,1, ls='--')"
   ]
  },
  {
   "cell_type": "code",
   "execution_count": null,
   "metadata": {},
   "outputs": [],
   "source": [
    "sC=np.empty(len(hfNeurons))\n",
    "sE=np.empty(len(hfNeurons))\n",
    "for x in range(0,len(hfNeurons)): # choice related activity\n",
    "    unit1=(spike & {'unit': hfNeurons[x]} & {'animal': 123457} & 'session =5').fetch('spike_time','trial') # find high firing neurons\n",
    "    spkC=np.asarray(unit1[0][np.in1d(unit1[1],contraH)], dtype='float')-2.95\n",
    "    spkI=np.asarray(unit1[0][np.in1d(unit1[1],ipsiH)], dtype='float')-2.95\n",
    "    spkCE=np.asarray(unit1[0][np.in1d(unit1[1],contraE)], dtype='float')-2.95\n",
    "    spkIE=np.asarray(unit1[0][np.in1d(unit1[1],ipsiE)], dtype='float')-2.95\n",
    "    sC[x]=(len(spkC[(spkC<2) & (spkC>0)])/len(contraH)-len(spkI[(spkI<2) & (spkI>0)])/len(ipsiH))/2\n",
    "    sE[x]=(len(spkCE[(spkCE<2) & (spkCE>0)])/len(contraE)-len(spkIE[(spkIE<2) & (spkIE>0)])/len(ipsiE))/2\n",
    "    "
   ]
  },
  {
   "cell_type": "code",
   "execution_count": null,
   "metadata": {},
   "outputs": [],
   "source": [
    "ax=plt.subplot(111)\n",
    "plt.plot(sC,sE,'k.',[-13, 13], [-13, 13],'k--',[-13, 13], [13, -13],'k--')\n",
    "plt.xlabel('Correct trials, response epoch selectivity (spike/s)')\n",
    "plt.ylabel('Error trials, response epoch selectivity (spikes/s)')\n",
    "plt.xlim(-13, 13)\n",
    "plt.ylim(-13, 13)\n",
    "plt.gca().set_aspect('equal', adjustable='box')\n",
    "ax.spines[\"top\"].set_visible(False)  \n",
    "ax.spines[\"right\"].set_visible(False)\n",
    "ax.axvline(0,0,1, ls='--', color='k')\n",
    "ax.axhline(0,0,1, ls='--', color='k')"
   ]
  },
  {
   "cell_type": "code",
   "execution_count": null,
   "metadata": {},
   "outputs": [],
   "source": [
    "np.corrcoef(sC, sE)"
   ]
  },
  {
   "cell_type": "code",
   "execution_count": null,
   "metadata": {},
   "outputs": [],
   "source": [
    "from scipy.stats import linregress\n",
    "linregress(sC, sE)"
   ]
  },
  {
   "cell_type": "code",
   "execution_count": null,
   "metadata": {},
   "outputs": [],
   "source": [
    "hfNeurons=[]\n",
    "selectC=[]\n",
    "selectI=[]\n",
    "binSize=0.1\n",
    "for x in range(1,512):\n",
    "    unit1=(spike & {'unit': x} & {'animal': 123458} & 'session =14').fetch('spike_time','trial') # find high firing neurons\n",
    "    if len(unit1[0])/5/500>4:\n",
    "        hfNeurons=np.append(hfNeurons, x)\n",
    "        psthC=np.histogram(np.asarray(unit1[0][np.in1d(unit1[1],contraH)], dtype='float')-2.95,bins=np.arange(-3,2,binSize))\n",
    "        psthI=np.histogram(np.asarray(unit1[0][np.in1d(unit1[1],ipsiH)], dtype='float')-2.95,bins=np.arange(-3,2,binSize)) \n",
    "        if len(unit1[0][np.in1d(unit1[1],contraH[0:100])]) > len(unit1[0][np.in1d(unit1[1],ipsiH[0:100])]):\n",
    "            if len(selectC) == 0:\n",
    "                selectC=(psthC[0]/len(contraH)-psthI[0]/len(ipsiH))/max(psthC[0]/len(contraH)-psthI[0]/len(ipsiH))\n",
    "            elif len(selectC) != 0:\n",
    "                selectC=np.vstack((selectC, (psthC[0]/len(contraH)-psthI[0]/len(ipsiH))/max(psthC[0]/len(contraH)-psthI[0]/len(ipsiH))))\n",
    "        elif len(unit1[0][np.in1d(unit1[1],contraH[0:100])]) < len(unit1[0][np.in1d(unit1[1],ipsiH[0:100])]):\n",
    "            if len(selectI) == 0:\n",
    "                selectI=(psthI[0]/len(ipsiH)-psthC[0]/len(contraH))/min(psthC[0]/len(contraH)-psthI[0]/len(ipsiH))\n",
    "            elif len(selectI) != 0:\n",
    "                selectI=np.vstack((selectI, (psthI[0]/len(ipsiH)-psthC[0]/len(contraH))/min(psthC[0]/len(contraH)-psthI[0]/len(ipsiH))))# coding direction"
   ]
  },
  {
   "cell_type": "code",
   "execution_count": null,
   "metadata": {},
   "outputs": [],
   "source": [
    "selectC"
   ]
  },
  {
   "cell_type": "code",
   "execution_count": null,
   "metadata": {},
   "outputs": [],
   "source": [
    "# noise correlation"
   ]
  },
  {
   "cell_type": "code",
   "execution_count": null,
   "metadata": {},
   "outputs": [],
   "source": [
    "import h5py\n",
    "import numpy as np\n"
   ]
  },
  {
   "cell_type": "code",
   "execution_count": null,
   "metadata": {},
   "outputs": [],
   "source": [
    "file=\"C:\\\\Users\\liul.HHMI\\Desktop\\\\tw5ap_imec3_opt3_jrc.mat\"\n",
    "f = h5py.File(file,'r')"
   ]
  },
  {
   "cell_type": "code",
   "execution_count": null,
   "metadata": {},
   "outputs": [],
   "source": [
    "trWav_raw_clu = f['S_clu']['trWav_raw_clu']"
   ]
  },
  {
   "cell_type": "code",
   "execution_count": null,
   "metadata": {},
   "outputs": [],
   "source": [
    "plt.plot(trWav_raw_clu[0][:])"
   ]
  },
  {
   "cell_type": "code",
   "execution_count": null,
   "metadata": {},
   "outputs": [],
   "source": [
    "trWav_raw_clu[0]"
   ]
  },
  {
   "cell_type": "code",
   "execution_count": null,
   "metadata": {},
   "outputs": [],
   "source": [
    "a= np.concatenate((trWav_raw_clu[0:1][:][:],trWav_raw_clu), axis=0)"
   ]
  },
  {
   "cell_type": "code",
   "execution_count": null,
   "metadata": {},
   "outputs": [],
   "source": [
    "a[2][0]"
   ]
  },
  {
   "cell_type": "code",
   "execution_count": null,
   "metadata": {},
   "outputs": [],
   "source": [
    "np.(1,4)"
   ]
  },
  {
   "cell_type": "code",
   "execution_count": null,
   "metadata": {},
   "outputs": [],
   "source": []
  }
 ],
 "metadata": {
  "kernelspec": {
   "display_name": "Python 3",
   "language": "python",
   "name": "python3"
  },
  "language_info": {
   "codemirror_mode": {
    "name": "ipython",
    "version": 3
   },
   "file_extension": ".py",
   "mimetype": "text/x-python",
   "name": "python",
   "nbconvert_exporter": "python",
   "pygments_lexer": "ipython3",
   "version": "3.6.3"
  }
 },
 "nbformat": 4,
 "nbformat_minor": 2
}
